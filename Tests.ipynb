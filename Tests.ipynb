{
 "cells": [
  {
   "cell_type": "code",
   "execution_count": 1,
   "metadata": {
    "collapsed": true
   },
   "outputs": [],
   "source": [
    "import brightway2 as bw\n",
    "import os               # to use \"operating system dependent functionality\"\n",
    "import numpy as np      # \"the fundamental package for scientific computing with Python\"\n",
    "import pandas as pd     # \"high-performance, easy-to-use data structures and data analysis tools\" for Python\n",
    "import csv\n",
    "import stats_arrays\n",
    "import scipy as sp\n",
    "import pandas as pd\n",
    "import pickle\n",
    "import h5py\n",
    "import time"
   ]
  },
  {
   "cell_type": "code",
   "execution_count": 2,
   "metadata": {
    "collapsed": true
   },
   "outputs": [],
   "source": [
    "bw.projects.set_current('iw_integration')"
   ]
  },
  {
   "cell_type": "code",
   "execution_count": 3,
   "metadata": {
    "collapsed": true
   },
   "outputs": [],
   "source": [
    "DB_eiv33=bw.Database('ecoinvent 3.3 cutoff')"
   ]
  },
  {
   "cell_type": "code",
   "execution_count": 4,
   "metadata": {
    "collapsed": true
   },
   "outputs": [],
   "source": [
    "act=DB_eiv33.random()"
   ]
  },
  {
   "cell_type": "code",
   "execution_count": 6,
   "metadata": {},
   "outputs": [
    {
     "data": {
      "text/plain": [
       "('ecoinvent 3.3 cutoff', '21c7a9996f3ace4693c218998512ca11')"
      ]
     },
     "execution_count": 6,
     "metadata": {},
     "output_type": "execute_result"
    }
   ],
   "source": [
    "act.key"
   ]
  },
  {
   "cell_type": "code",
   "execution_count": 4,
   "metadata": {
    "collapsed": true
   },
   "outputs": [],
   "source": [
    "act1=DB_eiv33.get('f868a8bb1c627e75df31949ecdc347b9')"
   ]
  },
  {
   "cell_type": "code",
   "execution_count": 12,
   "metadata": {},
   "outputs": [
    {
     "data": {
      "text/plain": [
       "(bw2data.backends.peewee.proxies.Activity,\n",
       " bw2data.backends.peewee.proxies.Activity)"
      ]
     },
     "execution_count": 12,
     "metadata": {},
     "output_type": "execute_result"
    }
   ],
   "source": [
    "type(act1),type(act)"
   ]
  },
  {
   "cell_type": "code",
   "execution_count": 5,
   "metadata": {},
   "outputs": [
    {
     "data": {
      "text/plain": [
       "{'activity': 'fa51a226-12e8-4d84-8d90-2cf1ab22114d',\n",
       " 'activity type': 'ordinary transforming activity',\n",
       " 'authors': {'data entry': {'email': 'eth.s-u@ecoinvent.org',\n",
       "   'name': 'Jürgen Sutter'},\n",
       "  'data generator': {'email': 'eth.s-u@ecoinvent.org',\n",
       "   'name': 'Jürgen Sutter'}},\n",
       " 'classifications': [('EcoSpold01Categories', 'biomass/fuels'),\n",
       "  ('ISIC rev.4 ecoinvent', '19a: Liquid and gaseous fuels from biomass')],\n",
       " 'code': 'f868a8bb1c627e75df31949ecdc347b9',\n",
       " 'comment': 'The multioutput-process \"sugar cane, to fermentation\" delivers the co-products Ethanol, 95% in H20, from sugar cane\" and \"electricity, bagasse, at fermentation plant\".  The allocation is based on  economic criteria.\\n[This dataset was already contained in the ecoinvent database version 2. It was not individually updated during the transfer to ecoinvent version 3. Life Cycle Impact Assessment results may still have changed, as they are affected by changes in the supply chain, i.e. in other datasets. This dataset was generated following the ecoinvent quality guidelines for version 2. It may have been subject to central changes described in the ecoinvent version 3 change report (http://www.ecoinvent.org/database/ecoinvent-version-3/reports-of-changes/), and the results of the central updates were reviewed extensively. The changes added e.g. consistent water flows and other information throughout the database. The documentation of this dataset can be found in the ecoinvent reports of version 2, which are still available via the ecoinvent website. The change report linked above covers all central changes that were made during the conversion process.]\\nGeography:  The inventory is modelled for Brazil.\\nTechnology:  Production of ethanol from sugar cane with extraction, fermentation, and distillation of ethanol. Capacity of the plant:  90000 t/a.\\nTime period:  Time of publications.',\n",
       " 'database': 'ecoinvent 3.3 cutoff',\n",
       " 'filename': 'fa51a226-12e8-4d84-8d90-2cf1ab22114d_ffcb8cbb-77ab-4f87-8a94-87ca5b8ea79e.spold',\n",
       " 'flow': 'ffcb8cbb-77ab-4f87-8a94-87ca5b8ea79e',\n",
       " 'location': 'BR',\n",
       " 'name': 'ethanol production from sugarcane',\n",
       " 'parameters': {'fraction_CW_CP_to_air': {'amount': 0.032,\n",
       "   'comment': 'Calculated based on literature value (Scown, C.D., 2011, Water Footprint of U.S. Transportation Fuels and supplying information of the article) (Vionnet, S., Quantis Water Database - Technical Report, 2012). ',\n",
       "   'description': 'fraction, cooling water, cooling pond system, to air',\n",
       "   'id': '606c3625-2a78-4202-87a6-16f43eec86c3',\n",
       "   'loc': -3.442,\n",
       "   'pedigree': {'completeness': 3,\n",
       "    'further technological correlation': 1,\n",
       "    'geographical correlation': 3,\n",
       "    'reliability': 2,\n",
       "    'temporal correlation': 1},\n",
       "   'scale': 0.20322401432901577,\n",
       "   'scale without pedigree': 0.2,\n",
       "   'uncertainty type': 2},\n",
       "  'fraction_CW_OT_to_air': {'amount': 0.004,\n",
       "   'comment': 'Calculated based on literature value (Scown, C.D., 2011, Water Footprint of U.S. Transportation Fuels and supplying information of the article) (Vionnet, S., Quantis Water Database - Technical Report, 2012). ',\n",
       "   'description': 'fraction, cooling water, once-through system, to air',\n",
       "   'id': '0b267c5e-0421-434c-8209-62d70a1f2f07',\n",
       "   'loc': -5.521,\n",
       "   'pedigree': {'completeness': 3,\n",
       "    'further technological correlation': 1,\n",
       "    'geographical correlation': 3,\n",
       "    'reliability': 2,\n",
       "    'temporal correlation': 1},\n",
       "   'scale': 0.20322401432901577,\n",
       "   'scale without pedigree': 0.2,\n",
       "   'uncertainty type': 2},\n",
       "  'fraction_CW_R_to_air': {'amount': 0.771,\n",
       "   'comment': 'Calculated based on literature value (Scown, C.D., 2011, Water Footprint of U.S. Transportation Fuels and supplying information of the article) (Vionnet, S., Quantis Water Database - Technical Report, 2012). ',\n",
       "   'description': 'fraction, cooling water, recirculating system, to air',\n",
       "   'id': 'e952df4c-1ca5-4710-9f53-be47be9191c1',\n",
       "   'loc': -0.2601,\n",
       "   'pedigree': {'completeness': 3,\n",
       "    'further technological correlation': 1,\n",
       "    'geographical correlation': 3,\n",
       "    'reliability': 2,\n",
       "    'temporal correlation': 1},\n",
       "   'scale': 0.20322401432901577,\n",
       "   'scale without pedigree': 0.2,\n",
       "   'uncertainty type': 2},\n",
       "  'fraction_CW_to_air': {'amount': 0.64,\n",
       "   'comment': 'Calculated value based on literature value (Schonoor, 2008) (Vionnet, S., Quantis Water Database - Technical Report, 2012).',\n",
       "   'description': 'fraction, cooling water, to air',\n",
       "   'id': 'd1efa4be-e613-43fd-9d73-e8b92b39b283',\n",
       "   'loc': -0.4463,\n",
       "   'pedigree': {'completeness': 4,\n",
       "    'further technological correlation': 4,\n",
       "    'geographical correlation': 2,\n",
       "    'reliability': 4,\n",
       "    'temporal correlation': 3},\n",
       "   'scale': 0.30335622624235026,\n",
       "   'scale without pedigree': 0.2,\n",
       "   'uncertainty type': 2},\n",
       "  'fraction_PW_to_air': {'amount': 0.0,\n",
       "   'comment': 'Estimated value, expert opinion (Vionnet, S., Quantis Water Database - Technical Report, 2012).',\n",
       "   'description': 'fraction, process water, to air',\n",
       "   'id': 'daadf2d4-7bbb-4f69-8ab5-58df4c1685eb',\n",
       "   'loc': 0.0,\n",
       "   'uncertainty type': 0,\n",
       "   'unit': 'dimensionless'},\n",
       "  'fraction_WDC_to_air': {'amount': 0.64,\n",
       "   'comment': 'Calculated value. See comments in the other parametres present in this dataset. Decarbonised water is considered to be always used as cooling water, thus cooling water fractions to air are applied to all carbonised water input flows to calculate the amount of water consumed in the processes.',\n",
       "   'description': 'fraction, water, decarbonised, to air',\n",
       "   'id': '68b1bd9b-e466-4d80-9da1-eb76644717dc',\n",
       "   'loc': -0.4463,\n",
       "   'pedigree': {'completeness': 4,\n",
       "    'further technological correlation': 4,\n",
       "    'geographical correlation': 2,\n",
       "    'reliability': 4,\n",
       "    'temporal correlation': 3},\n",
       "   'scale': 0.30335622624235026,\n",
       "   'scale without pedigree': 0.2,\n",
       "   'uncertainty type': 2}},\n",
       " 'production amount': 1.0,\n",
       " 'reference product': 'ethanol, without water, in 95% solution state, from fermentation',\n",
       " 'type': 'process',\n",
       " 'unit': 'kilogram'}"
      ]
     },
     "execution_count": 5,
     "metadata": {},
     "output_type": "execute_result"
    }
   ],
   "source": [
    "act1.as_dict()"
   ]
  },
  {
   "cell_type": "code",
   "execution_count": null,
   "metadata": {
    "collapsed": true
   },
   "outputs": [],
   "source": []
  },
  {
   "cell_type": "code",
   "execution_count": null,
   "metadata": {
    "collapsed": true
   },
   "outputs": [],
   "source": []
  },
  {
   "cell_type": "code",
   "execution_count": null,
   "metadata": {
    "collapsed": true
   },
   "outputs": [],
   "source": []
  },
  {
   "cell_type": "code",
   "execution_count": 13,
   "metadata": {
    "collapsed": true
   },
   "outputs": [],
   "source": [
    "act1=DB_eiv33.random()\n",
    "act2=DB_eiv33.random()\n",
    "act3=DB_eiv33.random()"
   ]
  },
  {
   "cell_type": "code",
   "execution_count": 14,
   "metadata": {},
   "outputs": [
    {
     "data": {
      "text/plain": [
       "('e929619f245df590fee5d72dc979cdd4',\n",
       " 'bdf7116059abfcc6b8b9ade1a641e578',\n",
       " 'c8c815c68836adaf964daaa001a638a3')"
      ]
     },
     "execution_count": 14,
     "metadata": {},
     "output_type": "execute_result"
    }
   ],
   "source": [
    "act1.key[1],act2.key[1],act3.key[1]"
   ]
  },
  {
   "cell_type": "code",
   "execution_count": 10,
   "metadata": {},
   "outputs": [
    {
     "data": {
      "text/plain": [
       "str"
      ]
     },
     "execution_count": 10,
     "metadata": {},
     "output_type": "execute_result"
    }
   ],
   "source": [
    "act_id=act.key[1]\n",
    "type(act_id)"
   ]
  },
  {
   "cell_type": "code",
   "execution_count": 15,
   "metadata": {
    "collapsed": true
   },
   "outputs": [],
   "source": [
    "encoded_act_id_UTF8=act_id.encode(encoding='UTF-8',errors='strict')"
   ]
  },
  {
   "cell_type": "code",
   "execution_count": 16,
   "metadata": {},
   "outputs": [
    {
     "data": {
      "text/plain": [
       "bytes"
      ]
     },
     "execution_count": 16,
     "metadata": {},
     "output_type": "execute_result"
    }
   ],
   "source": [
    "type(encoded_act_id_UTF8)"
   ]
  },
  {
   "cell_type": "code",
   "execution_count": 17,
   "metadata": {},
   "outputs": [
    {
     "data": {
      "text/plain": [
       "bytes"
      ]
     },
     "execution_count": 17,
     "metadata": {},
     "output_type": "execute_result"
    }
   ],
   "source": [
    "encoded_act_id_ascii=act_id.encode(encoding='ascii',errors='strict')\n",
    "type(encoded_act_id_ascii)"
   ]
  },
  {
   "cell_type": "code",
   "execution_count": 19,
   "metadata": {},
   "outputs": [
    {
     "data": {
      "text/plain": [
       "numpy.bytes_"
      ]
     },
     "execution_count": 19,
     "metadata": {},
     "output_type": "execute_result"
    }
   ],
   "source": [
    "np_act_id=np.string_(act_id)\n",
    "type(np_act_id)"
   ]
  },
  {
   "cell_type": "code",
   "execution_count": 20,
   "metadata": {},
   "outputs": [
    {
     "data": {
      "text/plain": [
       "dtype('S32')"
      ]
     },
     "execution_count": 20,
     "metadata": {},
     "output_type": "execute_result"
    }
   ],
   "source": [
    "np_act_id.dtype"
   ]
  },
  {
   "cell_type": "code",
   "execution_count": 21,
   "metadata": {
    "collapsed": true
   },
   "outputs": [],
   "source": [
    "list_act_id=[act_id,act_id,act_id]"
   ]
  },
  {
   "cell_type": "code",
   "execution_count": 23,
   "metadata": {
    "collapsed": true
   },
   "outputs": [],
   "source": [
    "list_act_id_np=np.string_(list_act_id)"
   ]
  },
  {
   "cell_type": "code",
   "execution_count": 30,
   "metadata": {},
   "outputs": [
    {
     "data": {
      "text/plain": [
       "(numpy.ndarray, numpy.bytes_)"
      ]
     },
     "execution_count": 30,
     "metadata": {},
     "output_type": "execute_result"
    }
   ],
   "source": [
    "type(list_act_id_np), type(list_act_id_np[0])"
   ]
  },
  {
   "cell_type": "code",
   "execution_count": 38,
   "metadata": {
    "collapsed": true
   },
   "outputs": [],
   "source": [
    "act_id_after_UTF8=list_act_id_np[0].decode('UTF-8')\n",
    "act_id_after_ascii=list_act_id_np[0].decode('ascii')"
   ]
  },
  {
   "cell_type": "code",
   "execution_count": 39,
   "metadata": {},
   "outputs": [
    {
     "data": {
      "text/plain": [
       "(True, True, False)"
      ]
     },
     "execution_count": 39,
     "metadata": {},
     "output_type": "execute_result"
    }
   ],
   "source": [
    "act_id_after_UTF8 == act_id,act_id_after_ascii == act_id, list_act_id_np[0] == act_id"
   ]
  },
  {
   "cell_type": "code",
   "execution_count": 41,
   "metadata": {},
   "outputs": [
    {
     "ename": "TypeError",
     "evalue": "format_map() takes exactly one argument (0 given)",
     "output_type": "error",
     "traceback": [
      "\u001b[1;31m---------------------------------------------------------------------------\u001b[0m",
      "\u001b[1;31mTypeError\u001b[0m                                 Traceback (most recent call last)",
      "\u001b[1;32m<ipython-input-41-269fbc3cc7e0>\u001b[0m in \u001b[0;36m<module>\u001b[1;34m()\u001b[0m\n\u001b[1;32m----> 1\u001b[1;33m \u001b[0mact_id\u001b[0m\u001b[1;33m.\u001b[0m\u001b[0mformat_map\u001b[0m\u001b[1;33m(\u001b[0m\u001b[1;33m)\u001b[0m\u001b[1;33m\u001b[0m\u001b[0m\n\u001b[0m",
      "\u001b[1;31mTypeError\u001b[0m: format_map() takes exactly one argument (0 given)"
     ]
    }
   ],
   "source": [
    "act_id"
   ]
  },
  {
   "cell_type": "code",
   "execution_count": null,
   "metadata": {
    "collapsed": true
   },
   "outputs": [],
   "source": []
  },
  {
   "cell_type": "code",
   "execution_count": 7,
   "metadata": {},
   "outputs": [
    {
     "data": {
      "text/plain": [
       "KeysView('electricity voltage transformation from medium to low voltage' (kilowatt hour, IS, None))"
      ]
     },
     "execution_count": 7,
     "metadata": {},
     "output_type": "execute_result"
    }
   ],
   "source": [
    "act.keys()"
   ]
  },
  {
   "cell_type": "code",
   "execution_count": 5,
   "metadata": {
    "collapsed": true
   },
   "outputs": [],
   "source": [
    "current_path_dir=os.getcwd()\n",
    "path_for_saving=current_path_dir+\"\\\\Saved objects\"\n",
    "hdf5_file_name=\"test_saved_LCA_obj.hdf5\"\n",
    "hdf5_file_path=path_for_saving+\"\\\\\"+hdf5_file_name"
   ]
  },
  {
   "cell_type": "code",
   "execution_count": 6,
   "metadata": {
    "collapsed": true
   },
   "outputs": [],
   "source": [
    "hdf5_file=h5py.File(hdf5_file_path,'a')"
   ]
  },
  {
   "cell_type": "code",
   "execution_count": 10,
   "metadata": {
    "collapsed": true
   },
   "outputs": [],
   "source": [
    "hdf5_file.attrs['test']=\"OK\""
   ]
  },
  {
   "cell_type": "code",
   "execution_count": 13,
   "metadata": {},
   "outputs": [
    {
     "data": {
      "text/plain": [
       "[]"
      ]
     },
     "execution_count": 13,
     "metadata": {},
     "output_type": "execute_result"
    }
   ],
   "source": [
    "[key for key in hdf5_file.attrs]"
   ]
  },
  {
   "cell_type": "code",
   "execution_count": 14,
   "metadata": {},
   "outputs": [
    {
     "data": {
      "text/plain": [
       "['per DB', 'per activity', 'per iteration', 'per iteration and activity']"
      ]
     },
     "execution_count": 14,
     "metadata": {},
     "output_type": "execute_result"
    }
   ],
   "source": [
    "[group for group in hdf5_file.keys()]"
   ]
  },
  {
   "cell_type": "code",
   "execution_count": 15,
   "metadata": {
    "collapsed": true
   },
   "outputs": [],
   "source": [
    "per_DB=hdf5_file['/per DB']"
   ]
  },
  {
   "cell_type": "code",
   "execution_count": 18,
   "metadata": {},
   "outputs": [
    {
     "data": {
      "text/plain": [
       "int"
      ]
     },
     "execution_count": 18,
     "metadata": {},
     "output_type": "execute_result"
    }
   ],
   "source": [
    "type(len(hdf5_file))"
   ]
  },
  {
   "cell_type": "code",
   "execution_count": null,
   "metadata": {
    "collapsed": true
   },
   "outputs": [],
   "source": []
  },
  {
   "cell_type": "code",
   "execution_count": null,
   "metadata": {
    "collapsed": true
   },
   "outputs": [],
   "source": []
  },
  {
   "cell_type": "code",
   "execution_count": null,
   "metadata": {
    "collapsed": true
   },
   "outputs": [],
   "source": []
  },
  {
   "cell_type": "code",
   "execution_count": 27,
   "metadata": {},
   "outputs": [
    {
     "data": {
      "text/plain": [
       "['activity_dict', 'biosphere_dict', 'product_dict']"
      ]
     },
     "execution_count": 27,
     "metadata": {},
     "output_type": "execute_result"
    }
   ],
   "source": [
    "[group for group in per_DB.keys()]"
   ]
  },
  {
   "cell_type": "code",
   "execution_count": null,
   "metadata": {
    "collapsed": true
   },
   "outputs": [],
   "source": []
  },
  {
   "cell_type": "code",
   "execution_count": null,
   "metadata": {
    "collapsed": true
   },
   "outputs": [],
   "source": []
  },
  {
   "cell_type": "code",
   "execution_count": null,
   "metadata": {
    "collapsed": true
   },
   "outputs": [],
   "source": []
  },
  {
   "cell_type": "code",
   "execution_count": 30,
   "metadata": {
    "collapsed": true
   },
   "outputs": [],
   "source": [
    "biosphere_dict=hdf5_file['/per DB/biosphere_dict']"
   ]
  },
  {
   "cell_type": "code",
   "execution_count": 31,
   "metadata": {},
   "outputs": [
    {
     "data": {
      "text/plain": [
       "['keys', 'values']"
      ]
     },
     "execution_count": 31,
     "metadata": {},
     "output_type": "execute_result"
    }
   ],
   "source": [
    "[group for group in biosphere_dict.keys()]"
   ]
  },
  {
   "cell_type": "code",
   "execution_count": 32,
   "metadata": {
    "collapsed": true
   },
   "outputs": [],
   "source": [
    "biosphere_dict_keys=hdf5_file['/per DB/biosphere_dict/keys']\n",
    "biosphere_dict_values=hdf5_file['/per DB/biosphere_dict/values']"
   ]
  },
  {
   "cell_type": "code",
   "execution_count": 33,
   "metadata": {},
   "outputs": [
    {
     "data": {
      "text/plain": [
       "(dtype('int32'), dtype('int32'))"
      ]
     },
     "execution_count": 33,
     "metadata": {},
     "output_type": "execute_result"
    }
   ],
   "source": [
    "biosphere_dict_keys.dtype,biosphere_dict_values.dtype"
   ]
  },
  {
   "cell_type": "code",
   "execution_count": 37,
   "metadata": {
    "collapsed": true
   },
   "outputs": [],
   "source": [
    "techno_matrix=hdf5_file['/per iteration and activity/technosphere_matrix']"
   ]
  },
  {
   "cell_type": "code",
   "execution_count": 38,
   "metadata": {},
   "outputs": [
    {
     "data": {
      "text/plain": [
       "['data', 'indices', 'indptr']"
      ]
     },
     "execution_count": 38,
     "metadata": {},
     "output_type": "execute_result"
    }
   ],
   "source": [
    "[group for group in techno_matrix.keys()]"
   ]
  },
  {
   "cell_type": "code",
   "execution_count": 39,
   "metadata": {
    "collapsed": true
   },
   "outputs": [],
   "source": [
    "techno_matrix_data=hdf5_file['/per iteration and activity/technosphere_matrix/data']\n",
    "techno_matrix_indices=hdf5_file['/per iteration and activity/technosphere_matrix/indices']\n",
    "techno_matrix_indptr=hdf5_file['/per iteration and activity/technosphere_matrix/indptr']"
   ]
  },
  {
   "cell_type": "code",
   "execution_count": 40,
   "metadata": {},
   "outputs": [
    {
     "data": {
      "text/plain": [
       "(dtype('float64'), dtype('int32'), dtype('int32'))"
      ]
     },
     "execution_count": 40,
     "metadata": {},
     "output_type": "execute_result"
    }
   ],
   "source": [
    "techno_matrix_data.dtype,techno_matrix_indices.dtype,techno_matrix_indptr.dtype"
   ]
  },
  {
   "cell_type": "code",
   "execution_count": 42,
   "metadata": {
    "collapsed": true
   },
   "outputs": [],
   "source": [
    "LCA_obj=bw.LCA({act:1})"
   ]
  },
  {
   "cell_type": "code",
   "execution_count": 43,
   "metadata": {
    "collapsed": true
   },
   "outputs": [],
   "source": [
    "LCA_obj.lci()"
   ]
  },
  {
   "cell_type": "code",
   "execution_count": 44,
   "metadata": {},
   "outputs": [
    {
     "data": {
      "text/plain": [
       "dtype('float64')"
      ]
     },
     "execution_count": 44,
     "metadata": {},
     "output_type": "execute_result"
    }
   ],
   "source": [
    "LCA_obj.supply_array.dtype"
   ]
  },
  {
   "cell_type": "code",
   "execution_count": 45,
   "metadata": {},
   "outputs": [
    {
     "data": {
      "text/plain": [
       "dtype([('input', '<u4'), ('output', '<u4'), ('row', '<u4'), ('col', '<u4'), ('type', 'u1'), ('uncertainty_type', 'u1'), ('amount', '<f4'), ('loc', '<f4'), ('scale', '<f4'), ('shape', '<f4'), ('minimum', '<f4'), ('maximum', '<f4'), ('negative', '?')])"
      ]
     },
     "execution_count": 45,
     "metadata": {},
     "output_type": "execute_result"
    }
   ],
   "source": [
    "LCA_obj.bio_params.dtype"
   ]
  },
  {
   "cell_type": "code",
   "execution_count": 46,
   "metadata": {},
   "outputs": [
    {
     "data": {
      "text/plain": [
       "<function dict.values>"
      ]
     },
     "execution_count": 46,
     "metadata": {},
     "output_type": "execute_result"
    }
   ],
   "source": [
    "LCA_obj.activity_dict.values"
   ]
  },
  {
   "cell_type": "code",
   "execution_count": 47,
   "metadata": {},
   "outputs": [
    {
     "data": {
      "text/plain": [
       "numpy.ndarray"
      ]
     },
     "execution_count": 47,
     "metadata": {},
     "output_type": "execute_result"
    }
   ],
   "source": [
    "type(LCA_obj.bio_params)"
   ]
  },
  {
   "cell_type": "code",
   "execution_count": 48,
   "metadata": {},
   "outputs": [
    {
     "data": {
      "text/plain": [
       "numpy.ndarray"
      ]
     },
     "execution_count": 48,
     "metadata": {},
     "output_type": "execute_result"
    }
   ],
   "source": [
    "type(LCA_obj.supply_array)"
   ]
  },
  {
   "cell_type": "code",
   "execution_count": 50,
   "metadata": {},
   "outputs": [
    {
     "data": {
      "text/plain": [
       "dtype('float64')"
      ]
     },
     "execution_count": 50,
     "metadata": {},
     "output_type": "execute_result"
    }
   ],
   "source": [
    "np.dtype('float64')"
   ]
  },
  {
   "cell_type": "code",
   "execution_count": 51,
   "metadata": {
    "collapsed": true
   },
   "outputs": [],
   "source": [
    "functional_units = [ {act.key: 1} ]"
   ]
  },
  {
   "cell_type": "code",
   "execution_count": 52,
   "metadata": {
    "collapsed": true
   },
   "outputs": [],
   "source": [
    "for act_index, fu in enumerate(functional_units):\n",
    "    #Creating UUID for each activity -> should be list(act_index.keys())[0][1]\n",
    "    actKey = list(fu.keys())[0][1]"
   ]
  },
  {
   "cell_type": "code",
   "execution_count": 54,
   "metadata": {},
   "outputs": [
    {
     "data": {
      "text/plain": [
       "('af29a664f9a139e18d64ecdbc397e5a1', str)"
      ]
     },
     "execution_count": 54,
     "metadata": {},
     "output_type": "execute_result"
    }
   ],
   "source": [
    "actKey, type(actKey)"
   ]
  },
  {
   "cell_type": "code",
   "execution_count": 55,
   "metadata": {},
   "outputs": [
    {
     "data": {
      "text/plain": [
       "'ecoinvent 3.3 cutoff'"
      ]
     },
     "execution_count": 55,
     "metadata": {},
     "output_type": "execute_result"
    }
   ],
   "source": [
    "DB_eiv33.name"
   ]
  },
  {
   "cell_type": "code",
   "execution_count": 56,
   "metadata": {},
   "outputs": [
    {
     "data": {
      "text/plain": [
       "{('ecoinvent 3.3 cutoff', '13ea0b258811e52ccbf76b903825e804'): 0,\n",
       " ('ecoinvent 3.3 cutoff', '31dac3ea3eddbb68323b47eafa2c4fb8'): 1,\n",
       " ('ecoinvent 3.3 cutoff', 'b47698a545fb09cff9d6b017099658ae'): 2,\n",
       " ('ecoinvent 3.3 cutoff', 'fc4d15bd907eda5c2f04ddaf46d8a4a5'): 3,\n",
       " ('ecoinvent 3.3 cutoff', '8c9f9f01eec394d61582056971d31485'): 4,\n",
       " ('ecoinvent 3.3 cutoff', 'b40e9b88403cd9233ec9f928d17ea890'): 5,\n",
       " ('ecoinvent 3.3 cutoff', '2d7ff0f07659646c160ba8f004764a0a'): 6,\n",
       " ('ecoinvent 3.3 cutoff', 'f9f01ae72330b7cb84d43b7775449acb'): 7,\n",
       " ('ecoinvent 3.3 cutoff', '4fb0448eb17f67dff778384545c6c1d0'): 8,\n",
       " ('ecoinvent 3.3 cutoff', 'e900c182f045d862158527cd8592b89c'): 9,\n",
       " ('ecoinvent 3.3 cutoff', '465059cdcabeb326e8e596c772ef0510'): 10,\n",
       " ('ecoinvent 3.3 cutoff', 'a1ada48d424d3d20c0fd311656f47e3a'): 11,\n",
       " ('ecoinvent 3.3 cutoff', 'c2cd55abf813fd23e9416607d40eb36f'): 12,\n",
       " ('ecoinvent 3.3 cutoff', 'b9882aef7cfb1cfb51c13858ccf4ec1d'): 13,\n",
       " ('ecoinvent 3.3 cutoff', '47d119e4f8c374487fe8c5e742272f15'): 14,\n",
       " ('ecoinvent 3.3 cutoff', 'a71c86ecfdb44fd22f01d09d23491796'): 15,\n",
       " ('ecoinvent 3.3 cutoff', '6169bfe60831a943014608d931365c36'): 16,\n",
       " ('ecoinvent 3.3 cutoff', '4e9611c11e7c94247a286b464e3d4777'): 17,\n",
       " ('ecoinvent 3.3 cutoff', '42fa953d67d7488724a82bff5146508e'): 18,\n",
       " ('ecoinvent 3.3 cutoff', '7f4a1c54048990e434ec657b5c4d5942'): 19,\n",
       " ('ecoinvent 3.3 cutoff', '3a47ab26fcbf0a4eaadb26a5d14fbf63'): 20,\n",
       " ('ecoinvent 3.3 cutoff', '0c98b61a5173851432d96d10f3656335'): 21,\n",
       " ('ecoinvent 3.3 cutoff', 'e07c95652f3522fa5a085b1b0553ffff'): 22,\n",
       " ('ecoinvent 3.3 cutoff', 'ef00d552518981f0c85376f02b62b2c3'): 23,\n",
       " ('ecoinvent 3.3 cutoff', 'fdec21d84d7ec9a837daaca0f094b95a'): 24,\n",
       " ('ecoinvent 3.3 cutoff', 'a159d81067f9a4eafab25ce388084e89'): 25,\n",
       " ('ecoinvent 3.3 cutoff', '56353fa56e0e0d8bae61044a4fb8073d'): 26,\n",
       " ('ecoinvent 3.3 cutoff', '1e908a565855d66f3f0b8c8dc6547eca'): 27,\n",
       " ('ecoinvent 3.3 cutoff', 'c838896b72750ab804282152b524efc8'): 28,\n",
       " ('ecoinvent 3.3 cutoff', '2bf3653ae37e5b76976b9b1a9ab3d4a1'): 29,\n",
       " ('ecoinvent 3.3 cutoff', 'c8feb825851a858d070852193ae4c7e7'): 30,\n",
       " ('ecoinvent 3.3 cutoff', 'fbc7d1d2047fc9e33d8f1ff20629b564'): 31,\n",
       " ('ecoinvent 3.3 cutoff', '38689c3cc229e6dcda86d436a1e21c15'): 32,\n",
       " ('ecoinvent 3.3 cutoff', '11c3eb433ca7534cb144126dbfb29e6a'): 33,\n",
       " ('ecoinvent 3.3 cutoff', 'e20400ed6eb16e5087c288fe586f27d7'): 34,\n",
       " ('ecoinvent 3.3 cutoff', 'c533b046462b6c56a5636ca177347c48'): 35,\n",
       " ('ecoinvent 3.3 cutoff', 'dc802073159e9d4ef7aa4fa22339be3c'): 36,\n",
       " ('ecoinvent 3.3 cutoff', '6fbdc28ea5c5e6ef77499b2dcb4bc38a'): 37,\n",
       " ('ecoinvent 3.3 cutoff', '07f0c5b78193cd9eac757874e55ba298'): 38,\n",
       " ('ecoinvent 3.3 cutoff', 'b05e280bc612975f304beaedd486315d'): 39,\n",
       " ('ecoinvent 3.3 cutoff', 'fe14f780a517767a54fe371d9d2ee5cc'): 40,\n",
       " ('ecoinvent 3.3 cutoff', '055a0ec7d2e507041cdc159a74957ffc'): 41,\n",
       " ('ecoinvent 3.3 cutoff', 'f57bce96150106f163399f2840c4515f'): 42,\n",
       " ('ecoinvent 3.3 cutoff', 'db909070a1bdd376215ededde86a01e7'): 43,\n",
       " ('ecoinvent 3.3 cutoff', 'b5bced27bb2681ce315f1b5a0461715f'): 44,\n",
       " ('ecoinvent 3.3 cutoff', '5428ea224427a7e8fd0a47bd42f8680e'): 45,\n",
       " ('ecoinvent 3.3 cutoff', 'fd6a304bd3ebe59374355d37d3e0b91e'): 46,\n",
       " ('ecoinvent 3.3 cutoff', '724c798eb890408d3b7f7b9c4aeeac89'): 47,\n",
       " ('ecoinvent 3.3 cutoff', '920a49af5ce298222f4e12c9d4fe1800'): 48,\n",
       " ('ecoinvent 3.3 cutoff', '6c3a8848949f87314bee0598456c6977'): 49,\n",
       " ('ecoinvent 3.3 cutoff', 'd9d21f8bf8b539886b42f970cc4b2777'): 50,\n",
       " ('ecoinvent 3.3 cutoff', '5d0652994c77f44174aa25bc050ff767'): 51,\n",
       " ('ecoinvent 3.3 cutoff', '79fd285c3c19ab3ea4b2fa6cda629c4d'): 52,\n",
       " ('ecoinvent 3.3 cutoff', '162a78d2fc639186ba2c55ce0cac542f'): 53,\n",
       " ('ecoinvent 3.3 cutoff', 'a62b2b662e6a22542b884c9f6367b967'): 54,\n",
       " ('ecoinvent 3.3 cutoff', 'cde8120321e5d1b57c90824c8b1daec9'): 55,\n",
       " ('ecoinvent 3.3 cutoff', 'a777ccb886d95d09628bc691642c03bf'): 56,\n",
       " ('ecoinvent 3.3 cutoff', '79fb8e958e4e28683028cb7c271b0137'): 57,\n",
       " ('ecoinvent 3.3 cutoff', 'd1c32235dde36b122f067bf312481939'): 58,\n",
       " ('ecoinvent 3.3 cutoff', 'fce846296a5ddd9081d6a38d8da492db'): 59,\n",
       " ('ecoinvent 3.3 cutoff', '5b2b1d6471b8bc16e0941a350aa7328d'): 60,\n",
       " ('ecoinvent 3.3 cutoff', '67d367de32d3125eb9d3bce45a2e08ed'): 61,\n",
       " ('ecoinvent 3.3 cutoff', '376dff475d6f5492bd254ad7114e46b9'): 62,\n",
       " ('ecoinvent 3.3 cutoff', '32c29dfe518e90965473e141839c3abd'): 63,\n",
       " ('ecoinvent 3.3 cutoff', 'a4d6183fa5db8deef61df9f83a45bef2'): 64,\n",
       " ('ecoinvent 3.3 cutoff', '89ff0b6c7a12565f01a11f1485355a13'): 65,\n",
       " ('ecoinvent 3.3 cutoff', 'adb4cd8b4557b65e8ae724e34e1bec78'): 66,\n",
       " ('ecoinvent 3.3 cutoff', '154bf32eef652a6f064f90ddb34e2613'): 67,\n",
       " ('ecoinvent 3.3 cutoff', '27bdc4f41803087ee2c6fb5263739c0d'): 68,\n",
       " ('ecoinvent 3.3 cutoff', '31ab86309285e0f8a3bc2493c5e108e3'): 69,\n",
       " ('ecoinvent 3.3 cutoff', 'fe21177040673e721528df95aa0b86f8'): 70,\n",
       " ('ecoinvent 3.3 cutoff', '5b13d4c6c0c3525a5408bd114137bf95'): 71,\n",
       " ('ecoinvent 3.3 cutoff', '7192786a32ee9dfbfd2d2a500caa9daf'): 72,\n",
       " ('ecoinvent 3.3 cutoff', '876e7bd021bbc3fdfeb53752b198f2bf'): 73,\n",
       " ('ecoinvent 3.3 cutoff', 'b2335fa9a7a68b5d11b75729830d5a6f'): 74,\n",
       " ('ecoinvent 3.3 cutoff', '718c2d7f6e36216cfb5bf453787aa5a9'): 75,\n",
       " ('ecoinvent 3.3 cutoff', '37e7e4130db49f536b5c4ac43e5c9a71'): 76,\n",
       " ('ecoinvent 3.3 cutoff', '453bef89b14c4532d03984770974c985'): 77,\n",
       " ('ecoinvent 3.3 cutoff', 'a1ae5115e27349b775637552f1f315c8'): 78,\n",
       " ('ecoinvent 3.3 cutoff', 'adf1dacb2c238239becf9c842a20bdc1'): 79,\n",
       " ('ecoinvent 3.3 cutoff', 'e80773e4b64d51cfe405909087ce24db'): 80,\n",
       " ('ecoinvent 3.3 cutoff', '03efe74f5064e423ee9febd5c6ccc76d'): 81,\n",
       " ('ecoinvent 3.3 cutoff', 'c1e6f9b9fe920133c926defa886f12a2'): 82,\n",
       " ('ecoinvent 3.3 cutoff', 'ff6a218526d8cd0d08abb16cd8483189'): 83,\n",
       " ('ecoinvent 3.3 cutoff', '6e08fc4d1ab386fcb849880db4dead74'): 84,\n",
       " ('ecoinvent 3.3 cutoff', 'c6ee5562e828ab200be608ac89085f38'): 85,\n",
       " ('ecoinvent 3.3 cutoff', '1a0d13d041914be3a3e7920537c1fdfe'): 86,\n",
       " ('ecoinvent 3.3 cutoff', '87b6fcaf89477e77e1c0443e8f533883'): 87,\n",
       " ('ecoinvent 3.3 cutoff', '51dbce7d5e3b22eaf0b2681f85c0a121'): 88,\n",
       " ('ecoinvent 3.3 cutoff', '3eacf768e5321dc58c2880edd9e53915'): 89,\n",
       " ('ecoinvent 3.3 cutoff', '8e54e8418d78acb65b3d368a393a5a69'): 90,\n",
       " ('ecoinvent 3.3 cutoff', '579acbfdf3a1d57e87ffb431921c19d9'): 91,\n",
       " ('ecoinvent 3.3 cutoff', '6d1c7e847b6a66d401a4c9daa09c06b0'): 92,\n",
       " ('ecoinvent 3.3 cutoff', '934570a0d000c493c402dd814950563c'): 93,\n",
       " ('ecoinvent 3.3 cutoff', '5a6feb9828365457fad93169c0e04c02'): 94,\n",
       " ('ecoinvent 3.3 cutoff', 'ded4dedfddf8b3ebded1913dc7f66ebd'): 95,\n",
       " ('ecoinvent 3.3 cutoff', '86c6018236ba3fd4698e616d2f295dc0'): 96,\n",
       " ('ecoinvent 3.3 cutoff', '5a37f71771c2a6308e9ed20da6a242f9'): 97,\n",
       " ('ecoinvent 3.3 cutoff', '58bad6b858c1709a54fc46b1804f6722'): 98,\n",
       " ('ecoinvent 3.3 cutoff', '866e7fccfdee2909ea3a7f359859d995'): 99,\n",
       " ('ecoinvent 3.3 cutoff', 'ab6634bccd707d8e5f76cc5dff334c8b'): 100,\n",
       " ('ecoinvent 3.3 cutoff', 'c349b1e326c646edfab529426319ffa7'): 101,\n",
       " ('ecoinvent 3.3 cutoff', '066469d670a55b0110f61287ed159dda'): 102,\n",
       " ('ecoinvent 3.3 cutoff', '405c5e110b9018111f634e4899f23d98'): 103,\n",
       " ('ecoinvent 3.3 cutoff', '6140b87e4127cf068676d7df9bd5e47a'): 104,\n",
       " ('ecoinvent 3.3 cutoff', '3884e2e066e78978a55719fb951c869b'): 105,\n",
       " ('ecoinvent 3.3 cutoff', 'de8846ffc3561c7bb83748de941ffa42'): 106,\n",
       " ('ecoinvent 3.3 cutoff', 'cc12f17144c5ff64d7123f1ef4233bdf'): 107,\n",
       " ('ecoinvent 3.3 cutoff', '1c03937ebfa293694f8f85e68f9af779'): 108,\n",
       " ('ecoinvent 3.3 cutoff', '7a5927462ad307f73ac39f90248ddb0d'): 109,\n",
       " ('ecoinvent 3.3 cutoff', 'c134b55980a10c46bcb8f974e41de52a'): 110,\n",
       " ('ecoinvent 3.3 cutoff', '3670d9b790bd35395567e1a057e75d69'): 111,\n",
       " ('ecoinvent 3.3 cutoff', 'dc12a6b9dd8eb5ce95b7d1a56474e22d'): 112,\n",
       " ('ecoinvent 3.3 cutoff', '2990e57d6b01a3fbc2d5a70f430ed742'): 113,\n",
       " ('ecoinvent 3.3 cutoff', 'c2da7dba44ad4cb82454f6d5c2f78d7d'): 114,\n",
       " ('ecoinvent 3.3 cutoff', '0fad51fe25bb0db3d024f5a9e2bce171'): 115,\n",
       " ('ecoinvent 3.3 cutoff', '469fe06847193034cb8fb6cd69ce1850'): 116,\n",
       " ('ecoinvent 3.3 cutoff', '5c8d605216a59ca7be97e12e2573d605'): 117,\n",
       " ('ecoinvent 3.3 cutoff', '043436eb8c00d6741999ffe009e28d8e'): 118,\n",
       " ('ecoinvent 3.3 cutoff', 'c4e254d77e27cf92a47359245323c869'): 119,\n",
       " ('ecoinvent 3.3 cutoff', 'f07a2ceed44b27bf3025fa53e1e562a0'): 120,\n",
       " ('ecoinvent 3.3 cutoff', '3307e2e4ae4dd0fc582f80657d4ef4c4'): 121,\n",
       " ('ecoinvent 3.3 cutoff', '726e6aaf1c5401fbf8f08f7725ecd09d'): 122,\n",
       " ('ecoinvent 3.3 cutoff', '9dfd84db72aefef8a3654660ce48e6c0'): 123,\n",
       " ('ecoinvent 3.3 cutoff', '044c96bccbb0efd01f9d2d9d0f8f8b8d'): 124,\n",
       " ('ecoinvent 3.3 cutoff', '3c5e06682e6dad0307af77ad4a4f2eee'): 125,\n",
       " ('ecoinvent 3.3 cutoff', '82e35013c631da90898148b4bfff4170'): 126,\n",
       " ('ecoinvent 3.3 cutoff', '8b8d556a38efb7e575a42f615b48b057'): 127,\n",
       " ('ecoinvent 3.3 cutoff', '69e29ea9f4671fdb009c3e9c9afb0cb9'): 128,\n",
       " ('ecoinvent 3.3 cutoff', '2b94ef5c71dd219d351e437c557f3170'): 129,\n",
       " ('ecoinvent 3.3 cutoff', '088b7e9cd71118efab8425dc62c2e296'): 130,\n",
       " ('ecoinvent 3.3 cutoff', '51fc61b50256f68967a8b3cbc94de4f9'): 131,\n",
       " ('ecoinvent 3.3 cutoff', 'd0a6efd85b4f6c343a841b49a9c87a6b'): 132,\n",
       " ('ecoinvent 3.3 cutoff', 'bfcf0240bd23966838c148c86db10344'): 133,\n",
       " ('ecoinvent 3.3 cutoff', 'e96a810c11fc3fce0d5d7fd6bc30df10'): 134,\n",
       " ('ecoinvent 3.3 cutoff', 'cf2aa5e6c664e81da5cb68cf044f1272'): 135,\n",
       " ('ecoinvent 3.3 cutoff', '5d77b6480da42534d84c1bbbe5beca76'): 136,\n",
       " ('ecoinvent 3.3 cutoff', 'ec62a580e85ee97a3641eb56dbc86c99'): 137,\n",
       " ('ecoinvent 3.3 cutoff', 'caae12f97527966c73572b6ebb8a5af6'): 138,\n",
       " ('ecoinvent 3.3 cutoff', 'b25cf9b1b5b2fd3b721869dbafb532bd'): 139,\n",
       " ('ecoinvent 3.3 cutoff', 'af86f46fce6dda0b60cf4a8dad7c1cad'): 140,\n",
       " ('ecoinvent 3.3 cutoff', '15c58752d462cb8d2e95989d82954c42'): 141,\n",
       " ('ecoinvent 3.3 cutoff', 'dd6219c5d6e870b8accb818df08d4676'): 142,\n",
       " ('ecoinvent 3.3 cutoff', '932ac18dc216965823b885d34a61dea9'): 143,\n",
       " ('ecoinvent 3.3 cutoff', 'fd624e5d480942e671a4409a3835555d'): 144,\n",
       " ('ecoinvent 3.3 cutoff', '9b10a4d5dcb9a5dd6c69d3758cf4226e'): 145,\n",
       " ('ecoinvent 3.3 cutoff', 'a221036f8ae48b848d2e281162060b51'): 146,\n",
       " ('ecoinvent 3.3 cutoff', '0561e7a287eee7a266e8bd48b91b6d72'): 147,\n",
       " ('ecoinvent 3.3 cutoff', '59d7e29fd62a227cbb33339c7eb1c68d'): 148,\n",
       " ('ecoinvent 3.3 cutoff', '3a6fb52822fe6cd5cc2741d01a3b8a48'): 149,\n",
       " ('ecoinvent 3.3 cutoff', 'bb3fa52fc2eaddc76b52e10c3af2629a'): 150,\n",
       " ('ecoinvent 3.3 cutoff', 'f3703577e195a2f904ec8e24fb87c0bb'): 151,\n",
       " ('ecoinvent 3.3 cutoff', '77e50fbb63069e0834a9732954d4a2fe'): 152,\n",
       " ('ecoinvent 3.3 cutoff', '909ea372d266da04d5587099f598be3f'): 153,\n",
       " ('ecoinvent 3.3 cutoff', 'a75fbd37d74db3799694d489debda9a8'): 154,\n",
       " ('ecoinvent 3.3 cutoff', '2f9e639389ef21603f134fcf57119af2'): 155,\n",
       " ('ecoinvent 3.3 cutoff', '5140c8ab09a9e1e531519fad46e819c6'): 156,\n",
       " ('ecoinvent 3.3 cutoff', '0f9d96439a31cd531976c7bfadc31791'): 157,\n",
       " ('ecoinvent 3.3 cutoff', 'b29e5df8da0341c6bacbea1b042411bf'): 158,\n",
       " ('ecoinvent 3.3 cutoff', '17d2ceca7360ac629ab3ec2420ecd5fd'): 159,\n",
       " ('ecoinvent 3.3 cutoff', 'd3da052a34d89230dddf482ae4a28c6e'): 160,\n",
       " ('ecoinvent 3.3 cutoff', 'd2eb9b407b19ec8721b2103e3c74318f'): 161,\n",
       " ('ecoinvent 3.3 cutoff', '4cf3e5230f03f519d81e10ee8ee811a8'): 162,\n",
       " ('ecoinvent 3.3 cutoff', 'ed9ddb996eee5576c297aca4c9144127'): 163,\n",
       " ('ecoinvent 3.3 cutoff', '9a79784b217fd4d7698f89bf53ff0e0f'): 164,\n",
       " ('ecoinvent 3.3 cutoff', 'a7472b10e13b8cd226c55b858bf937eb'): 165,\n",
       " ('ecoinvent 3.3 cutoff', '6e4bbae91b8379268e85d35ef8cb80e3'): 166,\n",
       " ('ecoinvent 3.3 cutoff', 'c14d6b0dabcbbb8030401164f37410e6'): 167,\n",
       " ('ecoinvent 3.3 cutoff', '75b6cbbdc0f01a77e61f19182f1ddb8d'): 168,\n",
       " ('ecoinvent 3.3 cutoff', '95825bca588f40a51f13f61cfe56e478'): 169,\n",
       " ('ecoinvent 3.3 cutoff', '727ba4315516fdf5ba92271bbe4137c2'): 170,\n",
       " ('ecoinvent 3.3 cutoff', 'b9474fe75baf3e904d91124d0019993a'): 171,\n",
       " ('ecoinvent 3.3 cutoff', '08ab877db162bb6dd67fefceaa538273'): 172,\n",
       " ('ecoinvent 3.3 cutoff', '3b63099bca6e886749b6bc27f7d933ce'): 173,\n",
       " ('ecoinvent 3.3 cutoff', '555ec4335d963382305c22f0e563e1a9'): 174,\n",
       " ('ecoinvent 3.3 cutoff', '829a5b17e630cd0b15940c533fbc9e96'): 175,\n",
       " ('ecoinvent 3.3 cutoff', '951010f6389a4eafa69912d0152b2f3f'): 176,\n",
       " ('ecoinvent 3.3 cutoff', 'efc258be5e14216133bca8c81cb9915a'): 177,\n",
       " ('ecoinvent 3.3 cutoff', '20e55f3cfb4639352e30b082db0c2150'): 178,\n",
       " ('ecoinvent 3.3 cutoff', '5a47ec2546ce821f11e433c4cf59be1e'): 179,\n",
       " ('ecoinvent 3.3 cutoff', 'ebf474994a89f253cac4d9056b5a8aeb'): 180,\n",
       " ('ecoinvent 3.3 cutoff', '81f1af89977fe3acc9ca1008a9b9108f'): 181,\n",
       " ('ecoinvent 3.3 cutoff', 'bbe7696ee6b5e5aa7c0374cf90d4b9d4'): 182,\n",
       " ('ecoinvent 3.3 cutoff', '4b8fb264d82390237cec7fce41424542'): 183,\n",
       " ('ecoinvent 3.3 cutoff', 'bc4743f3fcd2db1691873cb391450c75'): 184,\n",
       " ('ecoinvent 3.3 cutoff', '1bd6a6ddf07e0c936b881d381f2efe0d'): 185,\n",
       " ('ecoinvent 3.3 cutoff', '9bd4418e318ddf9794d4a487800891b0'): 186,\n",
       " ('ecoinvent 3.3 cutoff', '8fcb0d4bd21effc8f22ab994b9f89209'): 187,\n",
       " ('ecoinvent 3.3 cutoff', '8d20683470ad8c1c3adc48c77c6841c0'): 188,\n",
       " ('ecoinvent 3.3 cutoff', '08952b46ab58f219a64b2e13276be8a5'): 189,\n",
       " ('ecoinvent 3.3 cutoff', '750a142b8233994768313d3451691d94'): 190,\n",
       " ('ecoinvent 3.3 cutoff', '29097aa54e14b4d510a37afbaf5ee715'): 191,\n",
       " ('ecoinvent 3.3 cutoff', 'ef9c73e1684f502aed8deb1039261c2f'): 192,\n",
       " ('ecoinvent 3.3 cutoff', 'd331815e3acdb0493ee8edaf2ecb7a84'): 193,\n",
       " ('ecoinvent 3.3 cutoff', '0c1e989ff294b42c01a07f8cbc0eebe7'): 194,\n",
       " ('ecoinvent 3.3 cutoff', 'd39f0cd321fb62dae33287578604a9f8'): 195,\n",
       " ('ecoinvent 3.3 cutoff', 'c33239d48955c4f36f793b430b09e0a2'): 196,\n",
       " ('ecoinvent 3.3 cutoff', '4d5845e14a5844bd3277234678a656eb'): 197,\n",
       " ('ecoinvent 3.3 cutoff', 'aedf06c0fd58ce699d661bd49ed3c5fd'): 198,\n",
       " ('ecoinvent 3.3 cutoff', '488402d01ddd552ac35ed4edb943420d'): 199,\n",
       " ('ecoinvent 3.3 cutoff', '1e14997151e142bfd0e155ecbb2e3adf'): 200,\n",
       " ('ecoinvent 3.3 cutoff', '8b6b22b6f0e380994a0c4b5e3ca1f63d'): 201,\n",
       " ('ecoinvent 3.3 cutoff', 'ca3d431c5f09223603d5ae0d4b0232a9'): 202,\n",
       " ('ecoinvent 3.3 cutoff', 'd9ecedb1b4aa3f3799462bed2ef6cedd'): 203,\n",
       " ('ecoinvent 3.3 cutoff', 'c93094c5af80400a55417bb05eecba4f'): 204,\n",
       " ('ecoinvent 3.3 cutoff', 'b92b6076e307896cf54b322e88086804'): 205,\n",
       " ('ecoinvent 3.3 cutoff', 'e8bd1c98cc4745d2cdd1f76aae984354'): 206,\n",
       " ('ecoinvent 3.3 cutoff', '2d4449b2f260e976f40d579522f7eefe'): 207,\n",
       " ('ecoinvent 3.3 cutoff', 'b70c2d8405c82a32eef3240f3d8de0a2'): 208,\n",
       " ('ecoinvent 3.3 cutoff', '68576ae9204081623ce1b96ed6bed92e'): 209,\n",
       " ('ecoinvent 3.3 cutoff', '47e974fe38e0fefe3492bbcaab2fb88b'): 210,\n",
       " ('ecoinvent 3.3 cutoff', '571ca7c4a0771f90a874bb30494e88e4'): 211,\n",
       " ('ecoinvent 3.3 cutoff', 'b124999e5aec05dfd12e94ef38e85b3e'): 212,\n",
       " ('ecoinvent 3.3 cutoff', '3a5ccbeb2341ddfb134e6f1e47f6c729'): 213,\n",
       " ('ecoinvent 3.3 cutoff', '94691fba330d58a1527aa481674b8055'): 214,\n",
       " ('ecoinvent 3.3 cutoff', '15f7eea953960e88a1635f6878c3ceb3'): 215,\n",
       " ('ecoinvent 3.3 cutoff', '23d1cf81ea102e1b91b72d69c5ce134c'): 216,\n",
       " ('ecoinvent 3.3 cutoff', '386a7d7798b240c78040c3743bcc0a05'): 217,\n",
       " ('ecoinvent 3.3 cutoff', 'edaecd629911cfbb8cbbef798543399c'): 218,\n",
       " ('ecoinvent 3.3 cutoff', 'df9b9a0fa881db10188910c2ad9ac353'): 219,\n",
       " ('ecoinvent 3.3 cutoff', '73c30eefa4656e6cee323d6ae75d932e'): 220,\n",
       " ('ecoinvent 3.3 cutoff', '00b22b847b04e752c87fd8eefeb57ca8'): 221,\n",
       " ('ecoinvent 3.3 cutoff', '7a128cb4fa5383cd21322c07a0bc144e'): 222,\n",
       " ('ecoinvent 3.3 cutoff', '4fe1ccd3502aa7c8ee7f8ff78994127b'): 223,\n",
       " ('ecoinvent 3.3 cutoff', '35d95a5e82f7d80573b91fff92dd60bc'): 224,\n",
       " ('ecoinvent 3.3 cutoff', '6bce3cf6e0a3150ace5a3fab0c87264e'): 225,\n",
       " ('ecoinvent 3.3 cutoff', '5f2aeb54103085c9c82694b015ead6cc'): 226,\n",
       " ('ecoinvent 3.3 cutoff', 'a5565db893b29fb2a285bc0f828b293b'): 227,\n",
       " ('ecoinvent 3.3 cutoff', '42369718ca78172a4d5c314eafd8147a'): 228,\n",
       " ('ecoinvent 3.3 cutoff', '4a902748b62b77f6ad6491287ba5e1cc'): 229,\n",
       " ('ecoinvent 3.3 cutoff', 'ae99c44799928f98e489d20917fac752'): 230,\n",
       " ('ecoinvent 3.3 cutoff', 'a2fd850f330f5d8eb466be944baad814'): 231,\n",
       " ('ecoinvent 3.3 cutoff', '6f89172dbdb29bf2086ebb228808ecfd'): 232,\n",
       " ('ecoinvent 3.3 cutoff', '7f26c66895e559a0582a61312ccd1c98'): 233,\n",
       " ('ecoinvent 3.3 cutoff', '472d531afacfe9849b2ae11ea48b5257'): 234,\n",
       " ('ecoinvent 3.3 cutoff', '33508e950387ac672ea594b3b5c2424a'): 235,\n",
       " ('ecoinvent 3.3 cutoff', 'c2d8c4ec9672a3813ed4a3fc6d5b2f71'): 236,\n",
       " ('ecoinvent 3.3 cutoff', '1f12a91b0e47c7a7864049a777552cab'): 237,\n",
       " ('ecoinvent 3.3 cutoff', '11805b054964d3b72583fb0a31e41cba'): 238,\n",
       " ('ecoinvent 3.3 cutoff', '2c46d6e67bf7cc1e739456ce3a105008'): 239,\n",
       " ('ecoinvent 3.3 cutoff', 'ae71c3cee3a22c03ddea9b952da50864'): 240,\n",
       " ('ecoinvent 3.3 cutoff', '3ff7335cb14eba3faf61776754322239'): 241,\n",
       " ('ecoinvent 3.3 cutoff', 'f8cb28701b992f0c497d9aff0baf7e0f'): 242,\n",
       " ('ecoinvent 3.3 cutoff', '2f7d99744502bb7b4787c126d92e8569'): 243,\n",
       " ('ecoinvent 3.3 cutoff', 'e3154793086b5d97744f8697210e855e'): 244,\n",
       " ('ecoinvent 3.3 cutoff', '78c58665cf1faa49d1abfa99bc08f0d5'): 245,\n",
       " ('ecoinvent 3.3 cutoff', '1b2aed234fdce3d4f492608de2dd2a10'): 246,\n",
       " ('ecoinvent 3.3 cutoff', '56a80e84fe5840f8452f8b0c0e5d537b'): 247,\n",
       " ('ecoinvent 3.3 cutoff', 'c0d175740fc2013621b97d9c656ec475'): 248,\n",
       " ('ecoinvent 3.3 cutoff', 'f0e2f1fd366ba19ef0a2aa149b65062f'): 249,\n",
       " ('ecoinvent 3.3 cutoff', '1b55a14804f908483f14ec0a81a813c1'): 250,\n",
       " ('ecoinvent 3.3 cutoff', '525cc75a2d7e24626ea74138eebd49e1'): 251,\n",
       " ('ecoinvent 3.3 cutoff', 'cc37f94f613f0e323e77797d9b2a067e'): 252,\n",
       " ('ecoinvent 3.3 cutoff', '42d7195a1a0462c9640d51eb9873593c'): 253,\n",
       " ('ecoinvent 3.3 cutoff', 'aba7d20438e052b2a4af2dd775988ad1'): 254,\n",
       " ('ecoinvent 3.3 cutoff', '45347c8382b93fb051fbeccd57b7e4b6'): 255,\n",
       " ('ecoinvent 3.3 cutoff', '27453363a5ba5d87b74092d99033ae94'): 256,\n",
       " ('ecoinvent 3.3 cutoff', '4a71d4f2fbe2cbc37f4ffcb5c8d32241'): 257,\n",
       " ('ecoinvent 3.3 cutoff', 'd4e802b09a423d2e6d4d0d9ee1fef8a8'): 258,\n",
       " ('ecoinvent 3.3 cutoff', 'f8e84f9904834bd0b300850470531062'): 259,\n",
       " ('ecoinvent 3.3 cutoff', 'cb51801aa3df4c9553b3c67bcd3df8e4'): 260,\n",
       " ('ecoinvent 3.3 cutoff', '6560093d0e0f867eaf610dd7f427db7e'): 261,\n",
       " ('ecoinvent 3.3 cutoff', '4bdb5660bd55eecf393fc98552b29e7c'): 262,\n",
       " ('ecoinvent 3.3 cutoff', 'b5cddc94dc5acd0e4eb86ad248a5bb51'): 263,\n",
       " ('ecoinvent 3.3 cutoff', '82a0dd1271fd3c5b8dad91bc7a342e64'): 264,\n",
       " ('ecoinvent 3.3 cutoff', 'b7cf78d50eab11f133a15c11ee583607'): 265,\n",
       " ('ecoinvent 3.3 cutoff', '7007a0f6f5efcd145f8adcb27c144df9'): 266,\n",
       " ('ecoinvent 3.3 cutoff', '30b764323d8b809f4beb3e72731d7c0a'): 267,\n",
       " ('ecoinvent 3.3 cutoff', '2edda5371af1b28224d5c258b0a86ec2'): 268,\n",
       " ('ecoinvent 3.3 cutoff', 'c873bc46c1b76dc5c9a8e91da3b83d7a'): 269,\n",
       " ('ecoinvent 3.3 cutoff', '85b6c7162e80220b62eebc8fc264e742'): 270,\n",
       " ('ecoinvent 3.3 cutoff', 'f4c4f151ce4d8e7fbf81f0e93af2f80e'): 271,\n",
       " ('ecoinvent 3.3 cutoff', '280c55ec57e0948c6ae11e70b908f833'): 272,\n",
       " ('ecoinvent 3.3 cutoff', 'af84f1ddd7c1a8888f97041b0f27f8c6'): 273,\n",
       " ('ecoinvent 3.3 cutoff', '216a4304add8eb4b472678b8c1345fab'): 274,\n",
       " ('ecoinvent 3.3 cutoff', 'da3c341fe2c6f250d92a9f50e91aea51'): 275,\n",
       " ('ecoinvent 3.3 cutoff', '44723f73fe92245294c712b969f86a96'): 276,\n",
       " ('ecoinvent 3.3 cutoff', '47a0d21c6f018562d2012c47c23c3082'): 277,\n",
       " ('ecoinvent 3.3 cutoff', '2ac34dc9208853bae11d12aef6b191c0'): 278,\n",
       " ('ecoinvent 3.3 cutoff', '2b0a95272d63a09a957e16cf3d47adb0'): 279,\n",
       " ('ecoinvent 3.3 cutoff', '17b7021dc0cfc595cd61ce5425cbc190'): 280,\n",
       " ('ecoinvent 3.3 cutoff', '8b5372c6054c266d682049f36e841093'): 281,\n",
       " ('ecoinvent 3.3 cutoff', '15518c5cd910126a32fa868934a9ec7e'): 282,\n",
       " ('ecoinvent 3.3 cutoff', 'e021632731ceacc01815c05b7ce2f9f3'): 283,\n",
       " ('ecoinvent 3.3 cutoff', '3972479cceda4de9895f4849a283ddc6'): 284,\n",
       " ('ecoinvent 3.3 cutoff', 'b01cfbe8cc8ddbfab8bb4d524357b665'): 285,\n",
       " ('ecoinvent 3.3 cutoff', 'f88162fbeea2bb96382214e4bea593ff'): 286,\n",
       " ('ecoinvent 3.3 cutoff', 'dd8563b094a2c13fc8a8ac9f2fb2cff2'): 287,\n",
       " ('ecoinvent 3.3 cutoff', 'b139e2bb501684c2b59343b5c9feb256'): 288,\n",
       " ('ecoinvent 3.3 cutoff', '3273fd41774ec85fb0cf41e31aee2fd2'): 289,\n",
       " ('ecoinvent 3.3 cutoff', '4163dc6916542fd049b4ef9a8d7832ce'): 290,\n",
       " ('ecoinvent 3.3 cutoff', '54a9cbaf321c547d064b469194c36cd5'): 291,\n",
       " ('ecoinvent 3.3 cutoff', '8c31066bf2db1cf7b01375ee34feeec5'): 292,\n",
       " ('ecoinvent 3.3 cutoff', '064f2b09ea29a4e2de70a53419efbb1a'): 293,\n",
       " ('ecoinvent 3.3 cutoff', 'f6dfd114bed6a7edbb9c4e5f674ef4ff'): 294,\n",
       " ('ecoinvent 3.3 cutoff', 'aa8759adb7f2a420fb1ed156a2b4ddce'): 295,\n",
       " ('ecoinvent 3.3 cutoff', '066fdb95daf8e799c7be6e671351b772'): 296,\n",
       " ('ecoinvent 3.3 cutoff', 'ca8815eecbc258f0fd6b69d9cc520389'): 297,\n",
       " ('ecoinvent 3.3 cutoff', '81cea3891cebef74f1c6195b82bd4914'): 298,\n",
       " ('ecoinvent 3.3 cutoff', '73e218c40e71359cd9f4108ff4db5863'): 299,\n",
       " ('ecoinvent 3.3 cutoff', '2eacd95efb7d857d2621029513809768'): 300,\n",
       " ('ecoinvent 3.3 cutoff', 'ad8bce2055cd949884efa75bb6d339f4'): 301,\n",
       " ('ecoinvent 3.3 cutoff', 'df23ba25961665fd1b5e7fbf3ed1dec1'): 302,\n",
       " ('ecoinvent 3.3 cutoff', '3dc4e52762dc9f3bdcba99e0c2a5df70'): 303,\n",
       " ('ecoinvent 3.3 cutoff', '5657d7de424fcd87d7de3c09b29879e6'): 304,\n",
       " ('ecoinvent 3.3 cutoff', '863a36c594dfb76c3246369e4946bd98'): 305,\n",
       " ('ecoinvent 3.3 cutoff', 'a50f1ad7fb4670a34a8a98cbafa09208'): 306,\n",
       " ('ecoinvent 3.3 cutoff', 'd60348b1a517acfd6e1b6ffee0f4b689'): 307,\n",
       " ('ecoinvent 3.3 cutoff', 'e21bf48e19b8013266ed65a2266ec097'): 308,\n",
       " ('ecoinvent 3.3 cutoff', 'a02a2bdc4a60d4c88b49cfc16178d348'): 309,\n",
       " ('ecoinvent 3.3 cutoff', '42ccd8da09ad9ad583860a82e244babd'): 310,\n",
       " ('ecoinvent 3.3 cutoff', '716685eb359ae9b7a366e061fffc148d'): 311,\n",
       " ('ecoinvent 3.3 cutoff', '98e14c9807d1edbfc9326dadbb7e05b6'): 312,\n",
       " ('ecoinvent 3.3 cutoff', 'b7609976a7236c02faac6cada09aa85a'): 313,\n",
       " ('ecoinvent 3.3 cutoff', '2278d9f915fad2086f4e1e99bd93b938'): 314,\n",
       " ('ecoinvent 3.3 cutoff', '6feb46ef8cc8a15dfc07c29d124cf273'): 315,\n",
       " ('ecoinvent 3.3 cutoff', '531c9c7131d506c355089f8a733fecf6'): 316,\n",
       " ('ecoinvent 3.3 cutoff', '04a444cde6c927797921f4f59a163a8d'): 317,\n",
       " ('ecoinvent 3.3 cutoff', '53a638791e7434db7b67e6480ff616b8'): 318,\n",
       " ('ecoinvent 3.3 cutoff', 'bdd49dc404768790f6caa5519e518743'): 319,\n",
       " ('ecoinvent 3.3 cutoff', '0412887a74e2611d20b57d776a3a7bc8'): 320,\n",
       " ('ecoinvent 3.3 cutoff', 'fa7d2359bed0d03a5bc54998c38b1e35'): 321,\n",
       " ('ecoinvent 3.3 cutoff', 'afad7e3248fc4a7ecce8c0a7898334ee'): 322,\n",
       " ('ecoinvent 3.3 cutoff', 'ead70144356b4dd68bb19ba859a492db'): 323,\n",
       " ('ecoinvent 3.3 cutoff', 'd0b640db74870cfa79605efce6e02b7f'): 324,\n",
       " ('ecoinvent 3.3 cutoff', '8476a8691b4e38ed18993f811d91bb97'): 325,\n",
       " ('ecoinvent 3.3 cutoff', '238f3cf7679919e84ca024c9221199b2'): 326,\n",
       " ('ecoinvent 3.3 cutoff', 'e1691defe5e679b74b2335783042eea7'): 327,\n",
       " ('ecoinvent 3.3 cutoff', 'c3b905bac8d9662f5b3d099a973ba952'): 328,\n",
       " ('ecoinvent 3.3 cutoff', 'c4c9e994bd0dab48bac0a4c8bf296e84'): 329,\n",
       " ('ecoinvent 3.3 cutoff', '641bcfe43331146d76ac507de13eaead'): 330,\n",
       " ('ecoinvent 3.3 cutoff', '726be82b09dac05e0ed0c43adbab33d4'): 331,\n",
       " ('ecoinvent 3.3 cutoff', '4d20f9021d33554565e570770b72927f'): 332,\n",
       " ('ecoinvent 3.3 cutoff', '3e5d716f2bc9c04c25f2c3d370065944'): 333,\n",
       " ('ecoinvent 3.3 cutoff', 'd0aa5f2cc225b0d0526d583bf161b465'): 334,\n",
       " ('ecoinvent 3.3 cutoff', '51fc9b577ed4431cab7cd3974c88a0e0'): 335,\n",
       " ('ecoinvent 3.3 cutoff', '38457d548517959f8258a9a5b0876752'): 336,\n",
       " ('ecoinvent 3.3 cutoff', '855df57b526e8282dabcc34040d28f2c'): 337,\n",
       " ('ecoinvent 3.3 cutoff', 'ada95851ca071d17cd315a125c27d6ef'): 338,\n",
       " ('ecoinvent 3.3 cutoff', '2b51e7b78ec82e3af00928392c8fd1ad'): 339,\n",
       " ('ecoinvent 3.3 cutoff', '5f00b4decc32f971b96589f592a4172e'): 340,\n",
       " ('ecoinvent 3.3 cutoff', '603f9a36605998da16647dfdd10536fc'): 341,\n",
       " ('ecoinvent 3.3 cutoff', '6c59ca5ccc1aa63d7ed74f29e70925af'): 342,\n",
       " ('ecoinvent 3.3 cutoff', 'a21643bbbe4b06a0cc6202955b2d0009'): 343,\n",
       " ('ecoinvent 3.3 cutoff', '13fd47fe25f940ec2e72d8aa4f2d5c55'): 344,\n",
       " ('ecoinvent 3.3 cutoff', '04953eb80f1fc5fbf04339efea72e629'): 345,\n",
       " ('ecoinvent 3.3 cutoff', '308572d7aee90e3df979e515dc099869'): 346,\n",
       " ('ecoinvent 3.3 cutoff', '27a7eb53c7c7d11b23bc2f76f526ebfa'): 347,\n",
       " ('ecoinvent 3.3 cutoff', 'c610ce117b939c118d57d229c1640f33'): 348,\n",
       " ('ecoinvent 3.3 cutoff', '9fc669ace2a3b753aa2e278fe6818563'): 349,\n",
       " ('ecoinvent 3.3 cutoff', '76a1e366528fe315bc4fb8cb72104418'): 350,\n",
       " ('ecoinvent 3.3 cutoff', 'f1f0d3f52c1ba57b074bf93ec2244b56'): 351,\n",
       " ('ecoinvent 3.3 cutoff', '28c6f5fe3bf6a9f80c878e8bda150de0'): 352,\n",
       " ('ecoinvent 3.3 cutoff', '9405312c6204a5f34125cf13328fe6af'): 353,\n",
       " ('ecoinvent 3.3 cutoff', 'be840f34120f7a461789a2f98b962474'): 354,\n",
       " ('ecoinvent 3.3 cutoff', '949240150d39c014b3fb9204e6bab0d0'): 355,\n",
       " ('ecoinvent 3.3 cutoff', 'f971648b94f4860da9189bffbd5bba35'): 356,\n",
       " ('ecoinvent 3.3 cutoff', 'dabb15086c029fc2fb6c87c792d72714'): 357,\n",
       " ('ecoinvent 3.3 cutoff', '5b431fcb3b811ab4afa0da3ad18c6f19'): 358,\n",
       " ('ecoinvent 3.3 cutoff', 'ec1a433035ba10bc9026f8d181a6bf90'): 359,\n",
       " ('ecoinvent 3.3 cutoff', '7bc698760959ff8efe48d6ce900f7e4e'): 360,\n",
       " ('ecoinvent 3.3 cutoff', 'c91a7f9b458fb8e3b770b42636b677c4'): 361,\n",
       " ('ecoinvent 3.3 cutoff', 'a62ddcfd800b1ecd6204a8163f6a1a87'): 362,\n",
       " ('ecoinvent 3.3 cutoff', '4a5c6d882f151ee36d0117ed2af1dba7'): 363,\n",
       " ('ecoinvent 3.3 cutoff', '8145b171f1c1e4de2306b7041100749b'): 364,\n",
       " ('ecoinvent 3.3 cutoff', 'fd890f5af2bdfa2b043d1fd134ef9f2e'): 365,\n",
       " ('ecoinvent 3.3 cutoff', '9a1d751eae0566f6868b1407230c320f'): 366,\n",
       " ('ecoinvent 3.3 cutoff', '8eca7b379afd2865503f1c0eaf1a4a8d'): 367,\n",
       " ('ecoinvent 3.3 cutoff', '734adf77e43ff3764f1fc6b8f3a43dac'): 368,\n",
       " ('ecoinvent 3.3 cutoff', '1c1b0c5eaca79416331915ff10554d97'): 369,\n",
       " ('ecoinvent 3.3 cutoff', 'fc96b89a62141d0db02fa00362580c0e'): 370,\n",
       " ('ecoinvent 3.3 cutoff', '37dae270e85a3515eb9f98be28e03f90'): 371,\n",
       " ('ecoinvent 3.3 cutoff', 'f80af80333e3622c43407f54cbff3a0d'): 372,\n",
       " ('ecoinvent 3.3 cutoff', '79ea97712ed001ad6cf1813081501570'): 373,\n",
       " ('ecoinvent 3.3 cutoff', '47fd6c462834410f5e8ebd8adc3d79df'): 374,\n",
       " ('ecoinvent 3.3 cutoff', '7a7bac9bb81f2d5e50812f5f4ee63042'): 375,\n",
       " ('ecoinvent 3.3 cutoff', 'cad579be4be693f7bab58e7633c0a959'): 376,\n",
       " ('ecoinvent 3.3 cutoff', 'a89b0026f6104b0eebf2661f454ff137'): 377,\n",
       " ('ecoinvent 3.3 cutoff', '99f20cc09bc7cbd43ade8e5d489422d6'): 378,\n",
       " ('ecoinvent 3.3 cutoff', 'a84cd2d6a31349da1f121101b92cc722'): 379,\n",
       " ('ecoinvent 3.3 cutoff', '03ef97dd6b5fb87e46de829ca2ec8094'): 380,\n",
       " ('ecoinvent 3.3 cutoff', '47778d3b0a07795e2e5177a06d784149'): 381,\n",
       " ('ecoinvent 3.3 cutoff', '536355ef78b5e2c063ddbc71d47893a4'): 382,\n",
       " ('ecoinvent 3.3 cutoff', 'ecf4dcdefd0a6c88474ef553ec7a7aab'): 383,\n",
       " ('ecoinvent 3.3 cutoff', 'a1ca845bdb915d5227e1ea347bc77e84'): 384,\n",
       " ('ecoinvent 3.3 cutoff', '96d4740677ec42a0ee1dd9fd629436d0'): 385,\n",
       " ('ecoinvent 3.3 cutoff', '1653f7f54de76afa0ee5acbb10ab6e2c'): 386,\n",
       " ('ecoinvent 3.3 cutoff', 'e887daf4ce21721aaefc16f39fb89532'): 387,\n",
       " ('ecoinvent 3.3 cutoff', 'd61698dd03a96773144c8beb6a8ad8d5'): 388,\n",
       " ('ecoinvent 3.3 cutoff', '2fc8b59950934694e8f2b670ee768d7e'): 389,\n",
       " ('ecoinvent 3.3 cutoff', '6b2bb3414de1f753767a3ecbc7a888d5'): 390,\n",
       " ('ecoinvent 3.3 cutoff', '0393bd196a607a60c848258fb66bb41b'): 391,\n",
       " ('ecoinvent 3.3 cutoff', 'fd8ca707604b7a1a97d8039ffea6413e'): 392,\n",
       " ('ecoinvent 3.3 cutoff', '6d348f5b34f2fa0be8bc0d7082f7bbd5'): 393,\n",
       " ('ecoinvent 3.3 cutoff', 'e2b2a50512318bffb1d51e635324e16a'): 394,\n",
       " ('ecoinvent 3.3 cutoff', '14a2e65d99e8c29a455ec0261758e740'): 395,\n",
       " ('ecoinvent 3.3 cutoff', '73db0b5cd9a6caea0c982fdc8f021640'): 396,\n",
       " ('ecoinvent 3.3 cutoff', 'c6f8720c340949756a2bb774ef2cd866'): 397,\n",
       " ('ecoinvent 3.3 cutoff', '62df34cfb05d058e6626460b0c1c00d6'): 398,\n",
       " ('ecoinvent 3.3 cutoff', '0e3bc6b8d9e3fd2517da38182cf54ece'): 399,\n",
       " ('ecoinvent 3.3 cutoff', '448c38a4d35f53d58321f046ee076bf9'): 400,\n",
       " ('ecoinvent 3.3 cutoff', '8e372f211e9dbfc9261a762bcb3daed1'): 401,\n",
       " ('ecoinvent 3.3 cutoff', '531616b667f6f719f721a0d9745457e3'): 402,\n",
       " ('ecoinvent 3.3 cutoff', 'd28f4a0c5db62c2d28e71ef92cb02ab7'): 403,\n",
       " ('ecoinvent 3.3 cutoff', 'b413a8db51eefc5a0f03891bf1a8582a'): 404,\n",
       " ('ecoinvent 3.3 cutoff', '0f0592eba9f5d9695c08a8a38d4152a3'): 405,\n",
       " ('ecoinvent 3.3 cutoff', '70205588b21860dd4a58c45c9f26110e'): 406,\n",
       " ('ecoinvent 3.3 cutoff', '703c3fdd3835477f2cae3570287d1e67'): 407,\n",
       " ('ecoinvent 3.3 cutoff', 'f445d7eaa5860ae921ee1454f9d8068d'): 408,\n",
       " ('ecoinvent 3.3 cutoff', '48953c8a71c779960158658843f6e55d'): 409,\n",
       " ('ecoinvent 3.3 cutoff', 'b1b37b2982bc03d19afc2d45c677bdb6'): 410,\n",
       " ('ecoinvent 3.3 cutoff', 'dcbab0fa4a1258f481d3d6630fb02ba3'): 411,\n",
       " ('ecoinvent 3.3 cutoff', 'f9b89d5eb9c3faec466801c428e31e15'): 412,\n",
       " ('ecoinvent 3.3 cutoff', 'cd8a0cb23535e6ba1544f74ffea9a906'): 413,\n",
       " ('ecoinvent 3.3 cutoff', 'c592be7f04ed18f61f21867df477f2ff'): 414,\n",
       " ('ecoinvent 3.3 cutoff', '99651fd852bb1662d5cdfc2a61abe3a5'): 415,\n",
       " ('ecoinvent 3.3 cutoff', '49c3a5a6298803272c44a13b99bb14a3'): 416,\n",
       " ('ecoinvent 3.3 cutoff', 'c7eadac0aae8ac6660fa253b3760669c'): 417,\n",
       " ('ecoinvent 3.3 cutoff', '087072c0a1ee0ed0a010bdd127ec8409'): 418,\n",
       " ('ecoinvent 3.3 cutoff', '430588a2477afd2082a302b3e053ac19'): 419,\n",
       " ('ecoinvent 3.3 cutoff', '35c9c23a01194797092a65033447401b'): 420,\n",
       " ('ecoinvent 3.3 cutoff', '727d626794c5e151a456169b80132750'): 421,\n",
       " ('ecoinvent 3.3 cutoff', '70bbc5572855047490321cc8772e2431'): 422,\n",
       " ('ecoinvent 3.3 cutoff', 'f001ca008de153bdf6984b88f2cd598c'): 423,\n",
       " ('ecoinvent 3.3 cutoff', '1cc362bf345d9660b8959ce84d4ddc54'): 424,\n",
       " ('ecoinvent 3.3 cutoff', '78860402f44f581bdbf54ad843809122'): 425,\n",
       " ('ecoinvent 3.3 cutoff', 'f86f9d4c9b78b3c0894d55dba2a86c5b'): 426,\n",
       " ('ecoinvent 3.3 cutoff', '2333b2c503d8e6038441c279141cc975'): 427,\n",
       " ('ecoinvent 3.3 cutoff', 'a62a4047052d5f04a1a93c93f8a1cdcf'): 428,\n",
       " ('ecoinvent 3.3 cutoff', '2ca0e034a858e9017439b28e7781cd53'): 429,\n",
       " ('ecoinvent 3.3 cutoff', 'c4fc94b532a7febebf9148ad6660be6b'): 430,\n",
       " ('ecoinvent 3.3 cutoff', '67ffbcc40ef75836642086ac1bb81a40'): 431,\n",
       " ('ecoinvent 3.3 cutoff', '86ea76c27d725c4857c10c34789410bc'): 432,\n",
       " ('ecoinvent 3.3 cutoff', '10216c207146a42022ad4741076107a1'): 433,\n",
       " ('ecoinvent 3.3 cutoff', '80ea939d9a2cca4f093b0b7c82ca81d0'): 434,\n",
       " ('ecoinvent 3.3 cutoff', 'd011212e8b1bceb5f5f19e651b48440f'): 435,\n",
       " ('ecoinvent 3.3 cutoff', '64503f8cacc36e059dcce859bbc47836'): 436,\n",
       " ('ecoinvent 3.3 cutoff', '7d7552ec3622c133c444702ca52f1622'): 437,\n",
       " ('ecoinvent 3.3 cutoff', 'b873049820bbf0568c3f04ced6a49d95'): 438,\n",
       " ('ecoinvent 3.3 cutoff', 'e69dd6d7c083e1e5d2cf7c6461e87812'): 439,\n",
       " ('ecoinvent 3.3 cutoff', 'f91a731aac19cf572a9f82fcc20985f7'): 440,\n",
       " ('ecoinvent 3.3 cutoff', 'ccb89d8361bfb0d8b3e8498119908e96'): 441,\n",
       " ('ecoinvent 3.3 cutoff', '64a0e9fc912c5f2b790f54864cbb4014'): 442,\n",
       " ('ecoinvent 3.3 cutoff', 'cae7713c648ea588944a1a7664acc386'): 443,\n",
       " ('ecoinvent 3.3 cutoff', '9816ae007228193f12a055c831aa4f82'): 444,\n",
       " ('ecoinvent 3.3 cutoff', '38bf5b280de37e40b8e6d65fb0e443b7'): 445,\n",
       " ('ecoinvent 3.3 cutoff', '10c39126dff1620ceea0d91145cebe5d'): 446,\n",
       " ('ecoinvent 3.3 cutoff', 'dafe5008e649eee4df14ee3a3d58fd1a'): 447,\n",
       " ('ecoinvent 3.3 cutoff', '451cda72d95719feac9abf4897d76275'): 448,\n",
       " ('ecoinvent 3.3 cutoff', '7893036c926a6f70f090eb2509d7f2a4'): 449,\n",
       " ('ecoinvent 3.3 cutoff', '6dfa2fee0acba1a495091aa6468504ab'): 450,\n",
       " ('ecoinvent 3.3 cutoff', '4d70fad34812cc0db838911fb5c8bdf4'): 451,\n",
       " ('ecoinvent 3.3 cutoff', '603b8466445a52c2a2f9ce9665c8fca6'): 452,\n",
       " ('ecoinvent 3.3 cutoff', '3ade5e7359efccd6b61d9f722449f3f4'): 453,\n",
       " ('ecoinvent 3.3 cutoff', '5e0a8f99ea1a4b58dd4473df9e224b2f'): 454,\n",
       " ('ecoinvent 3.3 cutoff', 'd528b2ae92a350c3b9bc274043b4c54f'): 455,\n",
       " ('ecoinvent 3.3 cutoff', '798980d8adf75df26e0a706a78ce36d2'): 456,\n",
       " ('ecoinvent 3.3 cutoff', '2e722a2a08fe8d897b3e6409da548fae'): 457,\n",
       " ('ecoinvent 3.3 cutoff', 'bd064e2b2e29e83183529e3abb9ad04a'): 458,\n",
       " ('ecoinvent 3.3 cutoff', 'c15b8b24cb82c4138f87f53b988e5f32'): 459,\n",
       " ('ecoinvent 3.3 cutoff', '6ac9ad27ee814d72d0f77b0ba3327bda'): 460,\n",
       " ('ecoinvent 3.3 cutoff', '37a68ca6d3b808eaec465840dea51f41'): 461,\n",
       " ('ecoinvent 3.3 cutoff', '8c97947bf5d34b9997afe4d3b907e81c'): 462,\n",
       " ('ecoinvent 3.3 cutoff', '6784fa6c371ac99540af5b721dd991c4'): 463,\n",
       " ('ecoinvent 3.3 cutoff', 'bbf01c24997f56324bc7fb15794da63a'): 464,\n",
       " ('ecoinvent 3.3 cutoff', 'e2e4bdf67ed0fcff3a265e89aa60b15b'): 465,\n",
       " ('ecoinvent 3.3 cutoff', 'e9dcfc6923e6b6a34ce93c6c6c2c7051'): 466,\n",
       " ('ecoinvent 3.3 cutoff', 'a3317501e432bc7b8d815bd0c32c9a21'): 467,\n",
       " ('ecoinvent 3.3 cutoff', 'ac7eaac0b82cabeeb2132482209c8ddb'): 468,\n",
       " ('ecoinvent 3.3 cutoff', 'c3920597661a8639845b85ddbe0a54b6'): 469,\n",
       " ('ecoinvent 3.3 cutoff', '0433638df4b5eea4b2c37e9166332dd9'): 470,\n",
       " ('ecoinvent 3.3 cutoff', '2d3dd21d734e9081076763dc167ef5c2'): 471,\n",
       " ('ecoinvent 3.3 cutoff', 'a9c59042600254fca6411a934fa8ea71'): 472,\n",
       " ('ecoinvent 3.3 cutoff', '4c2abb9bd7a2ceb72004b3c58046deeb'): 473,\n",
       " ('ecoinvent 3.3 cutoff', '8fdce52be7f8ad1f0ba4be3f1609f5fe'): 474,\n",
       " ('ecoinvent 3.3 cutoff', '453e40bc1a155402ffe0fbc0cb19b6df'): 475,\n",
       " ('ecoinvent 3.3 cutoff', '420ff4eeb1d96d373fc4a328716f02a3'): 476,\n",
       " ('ecoinvent 3.3 cutoff', '180ee6c632341a8853301cd36c9d73d9'): 477,\n",
       " ('ecoinvent 3.3 cutoff', '233ee2e7fabf0ad4d5ce5ceaa47b1985'): 478,\n",
       " ('ecoinvent 3.3 cutoff', '66a081783a63af0162856451527f0ad5'): 479,\n",
       " ('ecoinvent 3.3 cutoff', '34c829e7789a8afa0bec5bc66f96317a'): 480,\n",
       " ('ecoinvent 3.3 cutoff', '954e75d947166660099b5653fe758488'): 481,\n",
       " ('ecoinvent 3.3 cutoff', 'd6ad2d452c30368253cb1c3f9f850f1f'): 482,\n",
       " ('ecoinvent 3.3 cutoff', 'ccb92c2c9a95e97682a42e62f33b4bf3'): 483,\n",
       " ('ecoinvent 3.3 cutoff', '55203bf193af42752773e8291d080e66'): 484,\n",
       " ('ecoinvent 3.3 cutoff', '652555aec67ad3d30be3cddb95d60b17'): 485,\n",
       " ('ecoinvent 3.3 cutoff', '9c675f89f548bcede890ff4fd00b06a2'): 486,\n",
       " ('ecoinvent 3.3 cutoff', '619dd9f5ee8a20e8b488e0752639f065'): 487,\n",
       " ('ecoinvent 3.3 cutoff', 'f5d534c14344a8acca8d53ce94c3948f'): 488,\n",
       " ('ecoinvent 3.3 cutoff', '5cc122d6439e1e18e8a66fa49adefe4f'): 489,\n",
       " ('ecoinvent 3.3 cutoff', '1c736a113e363cde219b9c96dddbc11a'): 490,\n",
       " ('ecoinvent 3.3 cutoff', 'feb97dcab3ff32eb0a1c9a94d4b5bbbe'): 491,\n",
       " ('ecoinvent 3.3 cutoff', '57b015b49cff0ff2e51ab8501084cf14'): 492,\n",
       " ('ecoinvent 3.3 cutoff', 'e8f4b3c8102d8d03af2c73180097a6d7'): 493,\n",
       " ('ecoinvent 3.3 cutoff', 'c3583d7b10b8b6bf39e123b16d491943'): 494,\n",
       " ('ecoinvent 3.3 cutoff', 'be05bc44ed91e562a072e7e657c17f56'): 495,\n",
       " ('ecoinvent 3.3 cutoff', 'dfd8711aaa7ac795d752c04475e4ca98'): 496,\n",
       " ('ecoinvent 3.3 cutoff', '051032f77c88ce8106a49f7ffe5a1c19'): 497,\n",
       " ('ecoinvent 3.3 cutoff', '2bb3a69050ca7e32ccea660e4ba4ed82'): 498,\n",
       " ('ecoinvent 3.3 cutoff', '7a8918d97b55a94e6e1ab687f34909ef'): 499,\n",
       " ('ecoinvent 3.3 cutoff', 'e52a85e283b1281b035d45da3628e8df'): 500,\n",
       " ('ecoinvent 3.3 cutoff', 'baf97fd7a4686595c15c8a04d83f3442'): 501,\n",
       " ('ecoinvent 3.3 cutoff', 'ce4ca1898510b8d26e6ab9b6c8451b9d'): 502,\n",
       " ('ecoinvent 3.3 cutoff', '6e2077ab9eb0d53f55d179abec5e5511'): 503,\n",
       " ('ecoinvent 3.3 cutoff', '6ce488431637717d6ede15ce3c63b63a'): 504,\n",
       " ('ecoinvent 3.3 cutoff', 'f18b36bb7018fa8d3d1ab9f70c505913'): 505,\n",
       " ('ecoinvent 3.3 cutoff', '703cdb1cdfa4e6c0c5f534cc5c4b2928'): 506,\n",
       " ('ecoinvent 3.3 cutoff', '61e89d138a97ba2ddf7bb0b78b42b4c3'): 507,\n",
       " ('ecoinvent 3.3 cutoff', '7e67092f6e1199880706e7abb0aad749'): 508,\n",
       " ('ecoinvent 3.3 cutoff', 'd139ca9b39fa69fdba3a1c76dfe299f0'): 509,\n",
       " ('ecoinvent 3.3 cutoff', 'b6b66e866c6b84b684f78e8b26fcaebd'): 510,\n",
       " ('ecoinvent 3.3 cutoff', 'f55486204862feae53e4fb6ac4b96788'): 511,\n",
       " ('ecoinvent 3.3 cutoff', '8ff01ed0b004b7cee09294b1d00a0aca'): 512,\n",
       " ('ecoinvent 3.3 cutoff', '43e23c8eb6db4c50bf91f44022eab3ca'): 513,\n",
       " ('ecoinvent 3.3 cutoff', '1645c64a3bbf50c52ade4b825dd8f6b1'): 514,\n",
       " ('ecoinvent 3.3 cutoff', '46753ad764e4effbe664a7e289c2de38'): 515,\n",
       " ('ecoinvent 3.3 cutoff', '850ceed8f460bebe52a87636c4e194f7'): 516,\n",
       " ('ecoinvent 3.3 cutoff', 'b2e59574db7cdd2f7bf681e2e21e4040'): 517,\n",
       " ('ecoinvent 3.3 cutoff', 'e1834f0abdd4d6b854ec7b9a25c6c711'): 518,\n",
       " ('ecoinvent 3.3 cutoff', 'ea59ce22ea2412fb4a3f4981c16fe89b'): 519,\n",
       " ('ecoinvent 3.3 cutoff', 'f3b481b9c19f0e1f1d14364053a6b719'): 520,\n",
       " ('ecoinvent 3.3 cutoff', '2b2823dd185521cd3188a3a29773a164'): 521,\n",
       " ('ecoinvent 3.3 cutoff', '2c8833d02b21ee7e737fb6cba6dcd744'): 522,\n",
       " ('ecoinvent 3.3 cutoff', 'aebac69e3cf49245192e9fb44f6bfe1c'): 523,\n",
       " ('ecoinvent 3.3 cutoff', 'ffb84efe2838f195584ba94bf4ffc9ab'): 524,\n",
       " ('ecoinvent 3.3 cutoff', '51fca3feae425f01de64cade7784239a'): 525,\n",
       " ('ecoinvent 3.3 cutoff', '9624e5352d6bdcd77e801381e24f01ee'): 526,\n",
       " ('ecoinvent 3.3 cutoff', 'c7276603ce4a93f199d93db9c51c662e'): 527,\n",
       " ('ecoinvent 3.3 cutoff', 'cdc1fcccf7807ba0dd7c9da330354765'): 528,\n",
       " ('ecoinvent 3.3 cutoff', 'a37071f4e59f0f53efa46f2efe4db078'): 529,\n",
       " ('ecoinvent 3.3 cutoff', '108a2457ba91cef0ab915acb338c61c7'): 530,\n",
       " ('ecoinvent 3.3 cutoff', '1dd47a0267a421645edee128873f5eb3'): 531,\n",
       " ('ecoinvent 3.3 cutoff', 'eeecf90ac7be9bf7a3360e60f58fe77b'): 532,\n",
       " ('ecoinvent 3.3 cutoff', '26bdb5f60c9cf72567e761170471600a'): 533,\n",
       " ('ecoinvent 3.3 cutoff', 'd415d78ede52493612b005277bcf3aef'): 534,\n",
       " ('ecoinvent 3.3 cutoff', '0723f2d2fbf0fddddaa31af233cb4713'): 535,\n",
       " ('ecoinvent 3.3 cutoff', 'aa40685e2e22520ee189fbfa653849b7'): 536,\n",
       " ('ecoinvent 3.3 cutoff', '93819279984e176a36e434acb947c305'): 537,\n",
       " ('ecoinvent 3.3 cutoff', 'bd7dda42f55e9fa69349271c84afe575'): 538,\n",
       " ('ecoinvent 3.3 cutoff', '8017031e38c96bb1593f009a8b2d271f'): 539,\n",
       " ('ecoinvent 3.3 cutoff', '6412ddd744b03d2e9b20e2eda8410263'): 540,\n",
       " ('ecoinvent 3.3 cutoff', '462156111347d34665fa84371d662c49'): 541,\n",
       " ('ecoinvent 3.3 cutoff', 'eb06a9cf7ff8ff5704363f38e785baff'): 542,\n",
       " ('ecoinvent 3.3 cutoff', 'be9f8b40189bc14c4495e16de8435f39'): 543,\n",
       " ('ecoinvent 3.3 cutoff', '6e47dd1fb52fb76bc1111e9a1bc76fe7'): 544,\n",
       " ('ecoinvent 3.3 cutoff', 'cac7d982571c27e7feee3b245a5161ef'): 545,\n",
       " ('ecoinvent 3.3 cutoff', 'b3e30714b8fa5c7b774fb5ecd57ef951'): 546,\n",
       " ('ecoinvent 3.3 cutoff', 'e8b851c0df9f6df76441a7dc152ddd2c'): 547,\n",
       " ('ecoinvent 3.3 cutoff', '4abf1e12ef398f6365c4887f9b2880bf'): 548,\n",
       " ('ecoinvent 3.3 cutoff', '5ae7d1cfe00c353001162505c0f176b4'): 549,\n",
       " ('ecoinvent 3.3 cutoff', '8ac1bac52da3f40d94ab9b03206fb3d6'): 550,\n",
       " ('ecoinvent 3.3 cutoff', 'd351ebc29569b1c780a48ae885b45325'): 551,\n",
       " ('ecoinvent 3.3 cutoff', '5f67ea99242b2c8ae27a911ec16d73ad'): 552,\n",
       " ('ecoinvent 3.3 cutoff', '8c1e4d3f999c4c52d8b3e37057a19c56'): 553,\n",
       " ('ecoinvent 3.3 cutoff', '7a8d602f45d882efbed88c490488be9e'): 554,\n",
       " ('ecoinvent 3.3 cutoff', '224f02678c12b64b448043c9f6ed9257'): 555,\n",
       " ('ecoinvent 3.3 cutoff', 'c307cea014b14542252ee5af4770c937'): 556,\n",
       " ('ecoinvent 3.3 cutoff', '9e8195d4db54517605159a111864ef34'): 557,\n",
       " ('ecoinvent 3.3 cutoff', '60daa42041814a60266fe4e4c183c930'): 558,\n",
       " ('ecoinvent 3.3 cutoff', '9062162e89542bf0212c39733afdcdae'): 559,\n",
       " ('ecoinvent 3.3 cutoff', '8ee123b28c62995a013babdc3391efd6'): 560,\n",
       " ('ecoinvent 3.3 cutoff', 'e74b134071e31bfccadf1ef7decb360b'): 561,\n",
       " ('ecoinvent 3.3 cutoff', '7d3282776db4dd9781d599a17c7e3475'): 562,\n",
       " ('ecoinvent 3.3 cutoff', 'd19e07e04128ff2c265271fb023c2fc5'): 563,\n",
       " ('ecoinvent 3.3 cutoff', '8d654010ef0a9c26361f2de29112dd94'): 564,\n",
       " ('ecoinvent 3.3 cutoff', 'befb4e6b82f86176f2e4be0482fabad9'): 565,\n",
       " ('ecoinvent 3.3 cutoff', 'a3342c279d9c202d20026697eb4d69f7'): 566,\n",
       " ('ecoinvent 3.3 cutoff', 'fe7f5224ec536bc25f94a2e51cedd0e2'): 567,\n",
       " ('ecoinvent 3.3 cutoff', '585c864f875095a2ee3ceb21a686d94c'): 568,\n",
       " ('ecoinvent 3.3 cutoff', 'a23cc524137bb432f0913df7a1303566'): 569,\n",
       " ('ecoinvent 3.3 cutoff', '65a5758ba2b325549861bf61396afe5d'): 570,\n",
       " ('ecoinvent 3.3 cutoff', '6cbfaaddb3fef10734cbedcd89103c6e'): 571,\n",
       " ('ecoinvent 3.3 cutoff', '075a0dd97ca39a554c2fae471b1b12d3'): 572,\n",
       " ('ecoinvent 3.3 cutoff', '2467a23041ff82b7d6a06f351395a4fd'): 573,\n",
       " ('ecoinvent 3.3 cutoff', 'cc896370deb1dd855e19758c490bf558'): 574,\n",
       " ('ecoinvent 3.3 cutoff', '46455a8378d3d9e208c0df1531051bd4'): 575,\n",
       " ('ecoinvent 3.3 cutoff', 'badd6c62d63e34f957e782802845c05e'): 576,\n",
       " ('ecoinvent 3.3 cutoff', '30a87009ec15dfd48a927957394cad30'): 577,\n",
       " ('ecoinvent 3.3 cutoff', '8db5cd125037c1cfa9847fe905d898e8'): 578,\n",
       " ('ecoinvent 3.3 cutoff', '28544ef2f188c194d26128ff74daa7ad'): 579,\n",
       " ('ecoinvent 3.3 cutoff', '47fd87975ba08d356a2735f9105191f4'): 580,\n",
       " ('ecoinvent 3.3 cutoff', 'f56359d343ae143b88436595b5f75ecc'): 581,\n",
       " ('ecoinvent 3.3 cutoff', '5b2aa0efed7edcae59df721de210c7a0'): 582,\n",
       " ('ecoinvent 3.3 cutoff', 'a16aeacb677caea616a069c0338d8ace'): 583,\n",
       " ('ecoinvent 3.3 cutoff', '1156305a629ed02de5de0891d9d2a4e8'): 584,\n",
       " ('ecoinvent 3.3 cutoff', 'ee14facfb1913bb2f1f918bda05674d2'): 585,\n",
       " ('ecoinvent 3.3 cutoff', '8abb94813f3386ecd6d1fc6ed4126cdb'): 586,\n",
       " ('ecoinvent 3.3 cutoff', 'fd8e79177c6270b20264d2f6c9ad8b5f'): 587,\n",
       " ('ecoinvent 3.3 cutoff', '421de0064c36dcb15617d3df5780b6cf'): 588,\n",
       " ('ecoinvent 3.3 cutoff', '647e35a6dbc8522c446f28ebd00a65bf'): 589,\n",
       " ('ecoinvent 3.3 cutoff', '1af944452704ce8c329980a4d6b70c16'): 590,\n",
       " ('ecoinvent 3.3 cutoff', '863c146ec1ed5bff7bd18ec03b9603d4'): 591,\n",
       " ('ecoinvent 3.3 cutoff', '2e40497810ef82aab960f9eca9f38b36'): 592,\n",
       " ('ecoinvent 3.3 cutoff', '8b0d6153a4ffc8e07961733d9f235cfc'): 593,\n",
       " ('ecoinvent 3.3 cutoff', 'c77735f062dc31c70fca245a1fd1c453'): 594,\n",
       " ('ecoinvent 3.3 cutoff', '47039177b0720031a51340cb807e1104'): 595,\n",
       " ('ecoinvent 3.3 cutoff', 'af7a070d2f89a7e144df82bb137cf004'): 596,\n",
       " ('ecoinvent 3.3 cutoff', 'b40cb4fe25fa05f4057b4c82f45509a0'): 597,\n",
       " ('ecoinvent 3.3 cutoff', '969312669d95f1e28fe66fe821bba73c'): 598,\n",
       " ('ecoinvent 3.3 cutoff', 'dc6d15370d3dfc634951c21288a1dac7'): 599,\n",
       " ('ecoinvent 3.3 cutoff', '942c03e7885935db7e05707592ce75e0'): 600,\n",
       " ('ecoinvent 3.3 cutoff', 'cf905330f6816eb7ed9b8d48334ea2a6'): 601,\n",
       " ('ecoinvent 3.3 cutoff', 'fde28316ff3df939816eca83e13c5137'): 602,\n",
       " ('ecoinvent 3.3 cutoff', 'c3d7ad7d8718aab33fdc91a834097d0d'): 603,\n",
       " ('ecoinvent 3.3 cutoff', '91718ad3737fa7f7017ccb92a76b4dd0'): 604,\n",
       " ('ecoinvent 3.3 cutoff', 'e97d091a908edde35760940a73f3fdd2'): 605,\n",
       " ('ecoinvent 3.3 cutoff', '6198d8a4775e533a75a449b7f214fe09'): 606,\n",
       " ('ecoinvent 3.3 cutoff', '4a6dd1a62c74195378618ba69818e599'): 607,\n",
       " ('ecoinvent 3.3 cutoff', 'cdc5852f57d875bfff1629d707381b90'): 608,\n",
       " ('ecoinvent 3.3 cutoff', '7b7963989db3583d0d2a151033901e19'): 609,\n",
       " ('ecoinvent 3.3 cutoff', '96f6ee9db48abecf2034514e9f4d9db1'): 610,\n",
       " ('ecoinvent 3.3 cutoff', '77ba11ee6c77a6c18a29dbebbe724cd0'): 611,\n",
       " ('ecoinvent 3.3 cutoff', 'e39c7a872c9c6db813139f1012e97a63'): 612,\n",
       " ('ecoinvent 3.3 cutoff', '9cc01a8450b8ce901ebeb63f26a809d1'): 613,\n",
       " ('ecoinvent 3.3 cutoff', '71cfafdae1e58e8a7399568e4c48753f'): 614,\n",
       " ('ecoinvent 3.3 cutoff', '9105f3eafa981a4c32523faef05b5b51'): 615,\n",
       " ('ecoinvent 3.3 cutoff', '3ae0f580bd2ffe19bcbf6b9d77ce1d17'): 616,\n",
       " ('ecoinvent 3.3 cutoff', 'c7e9a8b01c30d73639d4979d90692248'): 617,\n",
       " ('ecoinvent 3.3 cutoff', '12c30d61ddfb6202fb41671922942d05'): 618,\n",
       " ('ecoinvent 3.3 cutoff', '1bfe248a797218959bd3a632e4f82093'): 619,\n",
       " ('ecoinvent 3.3 cutoff', '7ac1860400b6dc962b16f7917a62249a'): 620,\n",
       " ('ecoinvent 3.3 cutoff', '4c33454a6d0881309165f66832897f1d'): 621,\n",
       " ('ecoinvent 3.3 cutoff', 'eebec1eb8feb8bc91930669987a8a024'): 622,\n",
       " ('ecoinvent 3.3 cutoff', '6cc57b9b6a9022159fc1788a655e806f'): 623,\n",
       " ('ecoinvent 3.3 cutoff', '399e38798513a484ec303252676e76d7'): 624,\n",
       " ('ecoinvent 3.3 cutoff', '1f21a9876514e65cfe5209ccb82f255a'): 625,\n",
       " ('ecoinvent 3.3 cutoff', 'a94317f776e92b8e26d390c03e06bdf2'): 626,\n",
       " ('ecoinvent 3.3 cutoff', '974f0756551ffc0d98ab76bcaf79ecf7'): 627,\n",
       " ('ecoinvent 3.3 cutoff', '190959c9ac71d3c57c4723fec276a77e'): 628,\n",
       " ('ecoinvent 3.3 cutoff', '15f13cf2926fb849f7313e342b3b5dd0'): 629,\n",
       " ('ecoinvent 3.3 cutoff', 'f452f96ae16528a98d8080e7b66e1fcf'): 630,\n",
       " ('ecoinvent 3.3 cutoff', '2a2ba80b1487f98e1c4cde19c94ab9b5'): 631,\n",
       " ('ecoinvent 3.3 cutoff', 'dc34ad7eb0441630176de3b720f5b2ef'): 632,\n",
       " ('ecoinvent 3.3 cutoff', 'f8a97e1b9f02b04afc19d5f85c3e2ebd'): 633,\n",
       " ('ecoinvent 3.3 cutoff', 'db2893150709879c128fe26f46c2ad23'): 634,\n",
       " ('ecoinvent 3.3 cutoff', '127f8aaab508f04febef0aff04a4df4f'): 635,\n",
       " ('ecoinvent 3.3 cutoff', '8c319ba70269bfcb9a7a26062c86b98f'): 636,\n",
       " ('ecoinvent 3.3 cutoff', '85ffa9639ed1d50ee69b7f6cb7b1cae9'): 637,\n",
       " ('ecoinvent 3.3 cutoff', 'f65455b67c7ba15f2090ffac3af0e0c1'): 638,\n",
       " ('ecoinvent 3.3 cutoff', '8c5dc8f4760607da032eadd81b073bfc'): 639,\n",
       " ('ecoinvent 3.3 cutoff', '00cc9b01692d8ebc6d9bc86fedecdcbe'): 640,\n",
       " ('ecoinvent 3.3 cutoff', '5be06ecd56d88cf75288a3e775b4668c'): 641,\n",
       " ('ecoinvent 3.3 cutoff', 'f3b0b797d11a4588e6f5be1f40888e1c'): 642,\n",
       " ('ecoinvent 3.3 cutoff', '95e36271eba72e4cbe30d45f88514a4a'): 643,\n",
       " ('ecoinvent 3.3 cutoff', 'dbba37b3b3e0ed615fbb6db54b1bd745'): 644,\n",
       " ('ecoinvent 3.3 cutoff', '158c1e15cfb2be26f1d6b6ecf431928d'): 645,\n",
       " ('ecoinvent 3.3 cutoff', 'b0f6c1fa9096545000bd78f96c2d6ea5'): 646,\n",
       " ('ecoinvent 3.3 cutoff', '92aae17a3f7bc9fd6da4faa4df4c1e43'): 647,\n",
       " ('ecoinvent 3.3 cutoff', '3a834f78942fb42267662a40deb657f1'): 648,\n",
       " ('ecoinvent 3.3 cutoff', 'c5e49e417b21ba34b92f234fec9531b5'): 649,\n",
       " ('ecoinvent 3.3 cutoff', 'de5b40ff67a2b2b1765acc646c6d65a8'): 650,\n",
       " ('ecoinvent 3.3 cutoff', '9ebb666047720d225089efaf1744f015'): 651,\n",
       " ('ecoinvent 3.3 cutoff', '37a6812314ff6be538b3a6f244c54205'): 652,\n",
       " ('ecoinvent 3.3 cutoff', '7f44f0b48b666f6cd3d77b9bf2e32e98'): 653,\n",
       " ('ecoinvent 3.3 cutoff', '5ef6feec259be192231cb3bf3f02e154'): 654,\n",
       " ('ecoinvent 3.3 cutoff', '8745c7ec73523aa9b63131f18a1b3f34'): 655,\n",
       " ('ecoinvent 3.3 cutoff', '612701623cd4cb0c420c0880f726c57f'): 656,\n",
       " ('ecoinvent 3.3 cutoff', '1eaea393643b09bb72bac10f9540fa53'): 657,\n",
       " ('ecoinvent 3.3 cutoff', '7d60e233c82ed09ec290f6c09979f7f4'): 658,\n",
       " ('ecoinvent 3.3 cutoff', 'b375af37a7c11ab0b3edf1bed0d68f4b'): 659,\n",
       " ('ecoinvent 3.3 cutoff', '3d43662fb4afa787663759d415be3a84'): 660,\n",
       " ('ecoinvent 3.3 cutoff', 'c366ed51cce46b94b9d70f0ea0cc4899'): 661,\n",
       " ('ecoinvent 3.3 cutoff', '3567b54e46461595c19ca3f2434d67cc'): 662,\n",
       " ('ecoinvent 3.3 cutoff', 'fce977276f6972e043ff53f4fe23a94b'): 663,\n",
       " ('ecoinvent 3.3 cutoff', '108be8d8f03757487aa728f2b853b01a'): 664,\n",
       " ('ecoinvent 3.3 cutoff', '1ba0e5c54b2c252cf3ed4609caff4c9f'): 665,\n",
       " ('ecoinvent 3.3 cutoff', 'b81eb4f0eba6fe4caab1aeafe59383cd'): 666,\n",
       " ('ecoinvent 3.3 cutoff', '26723ec2b767cfdc3aa01b2a290af072'): 667,\n",
       " ('ecoinvent 3.3 cutoff', 'd87ac3bcf0c129be5eccf08006342765'): 668,\n",
       " ('ecoinvent 3.3 cutoff', 'fa356e0de99cc1918eb9ac3524f1a83a'): 669,\n",
       " ('ecoinvent 3.3 cutoff', '6045b4e5345e40c2b20b2b7ad18cb415'): 670,\n",
       " ('ecoinvent 3.3 cutoff', '3d32a8b1041cde8ab599ae14361de285'): 671,\n",
       " ('ecoinvent 3.3 cutoff', '44b6e5d605a82bbca86cb55751950d68'): 672,\n",
       " ('ecoinvent 3.3 cutoff', 'e5b5bdde812c017a9540683a2792400a'): 673,\n",
       " ('ecoinvent 3.3 cutoff', '0e555c903d593e79f21a29b47dc73da8'): 674,\n",
       " ('ecoinvent 3.3 cutoff', '8098abe3d6f142a14d38e9618c6fd5e3'): 675,\n",
       " ('ecoinvent 3.3 cutoff', '08ecadb76cc84aa6e71317ab4c20cbdf'): 676,\n",
       " ('ecoinvent 3.3 cutoff', '612785b01ba7404aeac17d5b8428dbb8'): 677,\n",
       " ('ecoinvent 3.3 cutoff', '708d190da0e7b38aedb409714a399276'): 678,\n",
       " ('ecoinvent 3.3 cutoff', '60d0cde3a6675c8af743b4c4a15c11fe'): 679,\n",
       " ('ecoinvent 3.3 cutoff', 'beb6abc6d65a0090e081ff53c637b5ad'): 680,\n",
       " ('ecoinvent 3.3 cutoff', '96d6b660111d37da8e3717d0009489f8'): 681,\n",
       " ('ecoinvent 3.3 cutoff', '416e74a77c404e157fef5c74f3850b3d'): 682,\n",
       " ('ecoinvent 3.3 cutoff', '1675f921997034028b4ebf98c87c1b1a'): 683,\n",
       " ('ecoinvent 3.3 cutoff', '78d264552b673b4ed637fa89e22d71cb'): 684,\n",
       " ('ecoinvent 3.3 cutoff', '0b7b45134946b51903111ca3f05ab5df'): 685,\n",
       " ('ecoinvent 3.3 cutoff', 'cefd4e2248f0e5f3f50ac82c761d3613'): 686,\n",
       " ('ecoinvent 3.3 cutoff', '6e43b757c18f13b2839b706b8cdd65bf'): 687,\n",
       " ('ecoinvent 3.3 cutoff', '03db60b6ba9756e71e14d3377fdd8e60'): 688,\n",
       " ('ecoinvent 3.3 cutoff', 'dbc007dada7d5c4f6e6c65deb2f5cc5c'): 689,\n",
       " ('ecoinvent 3.3 cutoff', '32a0f23ca872a2bc481e4eb38ce12b44'): 690,\n",
       " ('ecoinvent 3.3 cutoff', '0ced4e8a5fded662d92c0f8d1f52edf7'): 691,\n",
       " ('ecoinvent 3.3 cutoff', 'f2d2129ba490a5445a8ca8818d0e4dba'): 692,\n",
       " ('ecoinvent 3.3 cutoff', '0207da197db62fbc9cba41212b601b0d'): 693,\n",
       " ('ecoinvent 3.3 cutoff', '4704f074249ff0ed4cd98d3dd6891b13'): 694,\n",
       " ('ecoinvent 3.3 cutoff', '8841bc30446f933c4c3664a0adf40419'): 695,\n",
       " ('ecoinvent 3.3 cutoff', '341ba361c519530a1477a34b150764fa'): 696,\n",
       " ('ecoinvent 3.3 cutoff', 'e707e92c67873fbef254a5237125f534'): 697,\n",
       " ('ecoinvent 3.3 cutoff', '30bafa577a23ead7f234757768d5f001'): 698,\n",
       " ('ecoinvent 3.3 cutoff', 'ed52e6b36474b0b1267ddb4f90486267'): 699,\n",
       " ('ecoinvent 3.3 cutoff', '1545a2e1ffb20174f6b77856e38e188b'): 700,\n",
       " ('ecoinvent 3.3 cutoff', '5b72782a8e1721d93acefe30117af901'): 701,\n",
       " ('ecoinvent 3.3 cutoff', '9634a617d294ecad2050236ff5e4f310'): 702,\n",
       " ('ecoinvent 3.3 cutoff', 'ce19c0f7d4053480346c3428197661aa'): 703,\n",
       " ('ecoinvent 3.3 cutoff', 'a5224a93eed74efddecfb6b1e501d8fd'): 704,\n",
       " ('ecoinvent 3.3 cutoff', '0ec28f6dcf1cc711cd1d633eedb78cad'): 705,\n",
       " ('ecoinvent 3.3 cutoff', 'daa722a79976762dccfc8da6119cd2c6'): 706,\n",
       " ('ecoinvent 3.3 cutoff', '858e1362bdbb470359efc3aa8021c0c9'): 707,\n",
       " ('ecoinvent 3.3 cutoff', 'd222e490bea547a4b86e56c94f8f1a55'): 708,\n",
       " ('ecoinvent 3.3 cutoff', 'eae8849ae2a4496c0e7ead33173f1b5f'): 709,\n",
       " ('ecoinvent 3.3 cutoff', '2d1c86da7b59baad58f4e51a39ce5e7d'): 710,\n",
       " ('ecoinvent 3.3 cutoff', 'b537d2ee85afdd7044551acf59898838'): 711,\n",
       " ('ecoinvent 3.3 cutoff', '358f70ad9cdb5122795bb9f0eb0e8e39'): 712,\n",
       " ('ecoinvent 3.3 cutoff', 'bff58196b04eca5784d22b1dc60dc2a2'): 713,\n",
       " ('ecoinvent 3.3 cutoff', '4060ef6c769449fcd56ec0ccf64d5c99'): 714,\n",
       " ('ecoinvent 3.3 cutoff', '9d80b24f943c9ec0c5ed714819937f5b'): 715,\n",
       " ('ecoinvent 3.3 cutoff', 'cdf37aeed445a954ec0ab9c146754913'): 716,\n",
       " ('ecoinvent 3.3 cutoff', 'c413655dce147d98aa5b9a1ccdcd02d3'): 717,\n",
       " ('ecoinvent 3.3 cutoff', 'b50556172ae1f424191443482991a6e1'): 718,\n",
       " ('ecoinvent 3.3 cutoff', 'c9de5a9c579d92f1a44137f5a8f1208b'): 719,\n",
       " ('ecoinvent 3.3 cutoff', '6c74fbe65d984ae70b66f5fbb2a84311'): 720,\n",
       " ('ecoinvent 3.3 cutoff', 'c33cbc7cf7f7be19580453af9b9a6fa0'): 721,\n",
       " ('ecoinvent 3.3 cutoff', 'da283263c625fc3edf4509020aeb9f61'): 722,\n",
       " ('ecoinvent 3.3 cutoff', 'ab2a0e19d5a0546771d03277b921204c'): 723,\n",
       " ('ecoinvent 3.3 cutoff', 'b86d3fda941240675cbd526b97e2b236'): 724,\n",
       " ('ecoinvent 3.3 cutoff', 'a5d38bdc83c9a7497d64c8e5be485b60'): 725,\n",
       " ('ecoinvent 3.3 cutoff', 'f902a534bc27c03c6aaa37ec49c86060'): 726,\n",
       " ('ecoinvent 3.3 cutoff', '5ca50d6287f377a5e56aee744d77814f'): 727,\n",
       " ('ecoinvent 3.3 cutoff', '47c41a76f2d788c227aa8c4c3120c14b'): 728,\n",
       " ('ecoinvent 3.3 cutoff', '4bc96d98044b29e572dd9b316ec5d145'): 729,\n",
       " ('ecoinvent 3.3 cutoff', 'f555e44af9258c5c50b929db5298b425'): 730,\n",
       " ('ecoinvent 3.3 cutoff', '9594a64034b6d0c9eb445285ee8d910a'): 731,\n",
       " ('ecoinvent 3.3 cutoff', 'c47877ada700d16a7afaab456cc5914e'): 732,\n",
       " ('ecoinvent 3.3 cutoff', '9d10838d53c6cec226bccf5555968ab7'): 733,\n",
       " ('ecoinvent 3.3 cutoff', 'b4d192e3475d6806c7860ad110f4e9b1'): 734,\n",
       " ('ecoinvent 3.3 cutoff', 'f285691699e188994ac1fb9bdcbd8bc0'): 735,\n",
       " ('ecoinvent 3.3 cutoff', '8e006a86878e6da1405263ed5d1b5863'): 736,\n",
       " ('ecoinvent 3.3 cutoff', '76aec599bf2d4a9bf147ffc670e833d5'): 737,\n",
       " ('ecoinvent 3.3 cutoff', 'e7cb82eaf882871bfad60d09d26d6255'): 738,\n",
       " ('ecoinvent 3.3 cutoff', '76b58f0483461731c88c8b1019b3fa6a'): 739,\n",
       " ('ecoinvent 3.3 cutoff', '6d2dbcd2cfc05ece508ad38b4a7881ed'): 740,\n",
       " ('ecoinvent 3.3 cutoff', 'd96d4424ac6a1ff79a3159785077baeb'): 741,\n",
       " ('ecoinvent 3.3 cutoff', '61e3182362cc04f71a4f80878f729aaa'): 742,\n",
       " ('ecoinvent 3.3 cutoff', 'cc300ad2ee90dec823b51fb9f139bf50'): 743,\n",
       " ('ecoinvent 3.3 cutoff', '9316f62c5ed175549cc0f33e7a8c5dab'): 744,\n",
       " ('ecoinvent 3.3 cutoff', '0c06f037a3359e7b74fff795509c58da'): 745,\n",
       " ('ecoinvent 3.3 cutoff', 'a2bae345049b7ed96d833945120d21e5'): 746,\n",
       " ('ecoinvent 3.3 cutoff', '45c2e0347f1cb065436b32ec89f0dfbb'): 747,\n",
       " ('ecoinvent 3.3 cutoff', 'def4f895df9afd07da4da25112eb7b5f'): 748,\n",
       " ('ecoinvent 3.3 cutoff', '237b07858d987e1721951b985fd5e523'): 749,\n",
       " ('ecoinvent 3.3 cutoff', 'a940fa79d7042a3edf82feb9178e0a03'): 750,\n",
       " ('ecoinvent 3.3 cutoff', 'a26a92becd85459ecb4b24834c2019a4'): 751,\n",
       " ('ecoinvent 3.3 cutoff', '8f6da14cbe886c0025daed643ed18d5d'): 752,\n",
       " ('ecoinvent 3.3 cutoff', '1a833ce58418ec734d3d7e3c81f50cf9'): 753,\n",
       " ('ecoinvent 3.3 cutoff', 'b253a076c35436c219609aeb87601c54'): 754,\n",
       " ('ecoinvent 3.3 cutoff', '65b8b27b2276b5e164bfb49339e598a8'): 755,\n",
       " ('ecoinvent 3.3 cutoff', '42840c432c9f1db668656d11ea04a974'): 756,\n",
       " ('ecoinvent 3.3 cutoff', 'a7d4a260d34616af60d5f8c91b812f2e'): 757,\n",
       " ('ecoinvent 3.3 cutoff', 'e55ff212a3f310206f97e43ad3cb279e'): 758,\n",
       " ('ecoinvent 3.3 cutoff', '189ab1d9f303739d41bbf609538c674a'): 759,\n",
       " ('ecoinvent 3.3 cutoff', '86392511e6b4e81fd722cb198ad8074a'): 760,\n",
       " ('ecoinvent 3.3 cutoff', 'dad304c52477034a7d0be7c00bf2923d'): 761,\n",
       " ('ecoinvent 3.3 cutoff', '5ac21ba5b15327643632dd4a70608410'): 762,\n",
       " ('ecoinvent 3.3 cutoff', '99c1ab6d0e3d90f8e1028cf5bd1e15db'): 763,\n",
       " ('ecoinvent 3.3 cutoff', '7c8bec41d8e2f85ce37718c01336990f'): 764,\n",
       " ('ecoinvent 3.3 cutoff', '49783f26a7bfd3863d712b0c33b5b189'): 765,\n",
       " ('ecoinvent 3.3 cutoff', 'e852fd0d39ff2bf036afd1fd8617bd72'): 766,\n",
       " ('ecoinvent 3.3 cutoff', 'a5a95c7b1e90627d8f1ee0d93fb461fe'): 767,\n",
       " ('ecoinvent 3.3 cutoff', '7ed0be30509309b35437389085061709'): 768,\n",
       " ('ecoinvent 3.3 cutoff', '4fc0f95305b047963b65648fba5a56c9'): 769,\n",
       " ('ecoinvent 3.3 cutoff', '5a68ad74a4e1a0e75a6da71e6163528e'): 770,\n",
       " ('ecoinvent 3.3 cutoff', '704af8e83afece365761998f8b2cf5fb'): 771,\n",
       " ('ecoinvent 3.3 cutoff', '35db689794b603087a8d95303b503e4f'): 772,\n",
       " ('ecoinvent 3.3 cutoff', 'f994093785aa854cf25f697cdaabcfbc'): 773,\n",
       " ('ecoinvent 3.3 cutoff', '238ad4af90bf588a315fd67e064b2abc'): 774,\n",
       " ('ecoinvent 3.3 cutoff', 'a0d04c3c7490cda973ef631b51d50ebc'): 775,\n",
       " ('ecoinvent 3.3 cutoff', '935a9f1c3aa0b5137bb6d3b2537485dc'): 776,\n",
       " ('ecoinvent 3.3 cutoff', '82651412825b3471ed963beee17c5233'): 777,\n",
       " ('ecoinvent 3.3 cutoff', 'de795c5023653bf5535c007aa0b9ca13'): 778,\n",
       " ('ecoinvent 3.3 cutoff', 'ad1d34d1423748b7d7e95cd711af591a'): 779,\n",
       " ('ecoinvent 3.3 cutoff', '5abb861f1236891466c0b27b7eec2a82'): 780,\n",
       " ('ecoinvent 3.3 cutoff', '1c2497db9de804e0072e57e3becef633'): 781,\n",
       " ('ecoinvent 3.3 cutoff', 'aebf60ed4581d3ef1025c3dfd57f49d5'): 782,\n",
       " ('ecoinvent 3.3 cutoff', '093e93c6ceadce7215ef579826f5949e'): 783,\n",
       " ('ecoinvent 3.3 cutoff', '9a8ce80fb39d0d5a21f37db0d1a8ad95'): 784,\n",
       " ('ecoinvent 3.3 cutoff', '655d69b82ff55e7321df1686e5045dd5'): 785,\n",
       " ('ecoinvent 3.3 cutoff', 'f3b204d51637d0aca27a8d35042e4344'): 786,\n",
       " ('ecoinvent 3.3 cutoff', 'f5b6c78089e6cc38c3d3283863a501b6'): 787,\n",
       " ('ecoinvent 3.3 cutoff', '2d8df24a30a13d3a5a00ddf5c7d6929f'): 788,\n",
       " ('ecoinvent 3.3 cutoff', '8a964f72ba16a6c33bed100ad359d324'): 789,\n",
       " ('ecoinvent 3.3 cutoff', '6afb794865b27192c16c55bea83d709d'): 790,\n",
       " ('ecoinvent 3.3 cutoff', '293c9f6562344d50a4dc526f0ff6d601'): 791,\n",
       " ('ecoinvent 3.3 cutoff', 'bfd6eef9bb3036750b6b15fca7c3ba2f'): 792,\n",
       " ('ecoinvent 3.3 cutoff', '8f0eb14afacd0571297c58bdd652d63a'): 793,\n",
       " ('ecoinvent 3.3 cutoff', '4afa9e8c12b06f51e741d5cb5a85f62a'): 794,\n",
       " ('ecoinvent 3.3 cutoff', 'b6e1f431863e010d15457ff9fca38ebb'): 795,\n",
       " ('ecoinvent 3.3 cutoff', '10195757af8eec8d087cca5588682106'): 796,\n",
       " ('ecoinvent 3.3 cutoff', '1052d87d94edec8c544dd376d5788593'): 797,\n",
       " ('ecoinvent 3.3 cutoff', 'b51f696caf9cdc387e647d17176d202c'): 798,\n",
       " ('ecoinvent 3.3 cutoff', '90819f6392ee5ab8e801c74c56caee5d'): 799,\n",
       " ('ecoinvent 3.3 cutoff', 'fee51b35aeb1bc4ba48036a464add514'): 800,\n",
       " ('ecoinvent 3.3 cutoff', '79d5a1c3383acec29e697aeb40b93739'): 801,\n",
       " ('ecoinvent 3.3 cutoff', '28f321b0810b4c383cd9f7040c38f232'): 802,\n",
       " ('ecoinvent 3.3 cutoff', '0aca539dec41ab71a10c69de9d1eca2e'): 803,\n",
       " ('ecoinvent 3.3 cutoff', '2c953c2b45276242f986d699ae04f22b'): 804,\n",
       " ('ecoinvent 3.3 cutoff', '0559dc9840d7dc0eb10a21f83b5bd4d2'): 805,\n",
       " ('ecoinvent 3.3 cutoff', '1fc6683cc1284b9a3ceca09e654d56e3'): 806,\n",
       " ('ecoinvent 3.3 cutoff', 'a0306269c9a87828033ad93a9e2e9f18'): 807,\n",
       " ('ecoinvent 3.3 cutoff', '051754be2e1d6ee92c23831f2e7e5bce'): 808,\n",
       " ('ecoinvent 3.3 cutoff', '21b5e1aae7c989c54057f468bb0975cd'): 809,\n",
       " ('ecoinvent 3.3 cutoff', '26f9e0c892d89d4150af59f8a08d663a'): 810,\n",
       " ('ecoinvent 3.3 cutoff', '1c952245e50b928b727a7dcdc2ebb8f6'): 811,\n",
       " ('ecoinvent 3.3 cutoff', 'd1732ca9c53798129d2f9d04c53f8527'): 812,\n",
       " ('ecoinvent 3.3 cutoff', 'bdaca4eb9a5ef4b87b52bea0a80045d9'): 813,\n",
       " ('ecoinvent 3.3 cutoff', '134821e177c31bf5207ff52f65392e50'): 814,\n",
       " ('ecoinvent 3.3 cutoff', 'faaae3c375418adbc9f38298f2a09652'): 815,\n",
       " ('ecoinvent 3.3 cutoff', '838691ae3e51761af32464fc3b14ad37'): 816,\n",
       " ('ecoinvent 3.3 cutoff', '3faf7c7e3d78fb3013fc873c56c60714'): 817,\n",
       " ('ecoinvent 3.3 cutoff', '5d87a46b283715950abdaecc06513969'): 818,\n",
       " ('ecoinvent 3.3 cutoff', 'ea07da07a9968ef0bc66bc848775511a'): 819,\n",
       " ('ecoinvent 3.3 cutoff', 'a72419d1259f62f5de970b3f15dd0bb9'): 820,\n",
       " ('ecoinvent 3.3 cutoff', '0deefc3cff2cb2609e707b7af51787c5'): 821,\n",
       " ('ecoinvent 3.3 cutoff', 'c203484b41a46f2af3a78c5b3d289e7e'): 822,\n",
       " ('ecoinvent 3.3 cutoff', 'aecb86b69b5842c377c92e357c88e399'): 823,\n",
       " ('ecoinvent 3.3 cutoff', '44d30bf7e3a1142ce1eda8013c095921'): 824,\n",
       " ('ecoinvent 3.3 cutoff', '5403cb805b133a12898632637cc5f6ac'): 825,\n",
       " ('ecoinvent 3.3 cutoff', 'd8045681b2a6aba559eb4f188492cca6'): 826,\n",
       " ('ecoinvent 3.3 cutoff', 'f5cb16ef90b52d9b6585dafba11b2cfb'): 827,\n",
       " ('ecoinvent 3.3 cutoff', '4414eda904e211b648cef49f1ebad75b'): 828,\n",
       " ('ecoinvent 3.3 cutoff', 'eed68de4a2bd068df2e0530fed10330f'): 829,\n",
       " ('ecoinvent 3.3 cutoff', 'aea8d2c045bc74fd6b2e33f3eb9a6f3e'): 830,\n",
       " ('ecoinvent 3.3 cutoff', '8531c60514812ec00299937ab7f776ae'): 831,\n",
       " ('ecoinvent 3.3 cutoff', '11cfb03acedb484db264453ef9acf976'): 832,\n",
       " ('ecoinvent 3.3 cutoff', '39f90f54acedd28c8d7e367623838ebb'): 833,\n",
       " ('ecoinvent 3.3 cutoff', 'e381c6ad69d87e28cf1861aaa3581531'): 834,\n",
       " ('ecoinvent 3.3 cutoff', 'f0e77636484eb15eeade1ab770ebb954'): 835,\n",
       " ('ecoinvent 3.3 cutoff', '61e6577bb11b96061a2ffd53dc648f81'): 836,\n",
       " ('ecoinvent 3.3 cutoff', '213566181409df6664ef75caa6b6b7e4'): 837,\n",
       " ('ecoinvent 3.3 cutoff', '59df0b139223651d7feb9f4fa40fe2a5'): 838,\n",
       " ('ecoinvent 3.3 cutoff', '1716dfc766dbafab79b98dbdb95e3687'): 839,\n",
       " ('ecoinvent 3.3 cutoff', '1e66891565977cb8f2cf6392f4970ce4'): 840,\n",
       " ('ecoinvent 3.3 cutoff', 'e7226cfc5d929a875776225c655f99f8'): 841,\n",
       " ('ecoinvent 3.3 cutoff', '27929712175ce7d3b3e151089697ce4b'): 842,\n",
       " ('ecoinvent 3.3 cutoff', '74ce98823eb94cb57c1aac74070cdbe4'): 843,\n",
       " ('ecoinvent 3.3 cutoff', 'a3f89d31975d09f9225a00843f8db8d3'): 844,\n",
       " ('ecoinvent 3.3 cutoff', 'cf5ddf4f6c34dd3027a58f715a69b04e'): 845,\n",
       " ('ecoinvent 3.3 cutoff', '4294efdad21990547c3b575aac67e73d'): 846,\n",
       " ('ecoinvent 3.3 cutoff', 'ac29689c9a40732a5f384a8fc5e951f2'): 847,\n",
       " ('ecoinvent 3.3 cutoff', '8974da9a42c04397c0848ad366700cdc'): 848,\n",
       " ('ecoinvent 3.3 cutoff', 'd46d03c6caa3d768d51d69b69ebd0831'): 849,\n",
       " ('ecoinvent 3.3 cutoff', '13d6f57e7d7e8c18fdbdb401a495f458'): 850,\n",
       " ('ecoinvent 3.3 cutoff', '46fabbe9d7c4211bd013ba7ed404a250'): 851,\n",
       " ('ecoinvent 3.3 cutoff', 'b12fd04c82f6e7387e83b48c18d2f7cc'): 852,\n",
       " ('ecoinvent 3.3 cutoff', 'fb73ea904e22125b547efe6f95c2fc8b'): 853,\n",
       " ('ecoinvent 3.3 cutoff', '24b2ba6fe094460b221201baa089280b'): 854,\n",
       " ('ecoinvent 3.3 cutoff', '8830a62040741d568419f211cc286f4a'): 855,\n",
       " ('ecoinvent 3.3 cutoff', '2c7917f946a006d99992eeb0b9e167f2'): 856,\n",
       " ('ecoinvent 3.3 cutoff', '144413faeb37b9c7e62c3872f8078e5a'): 857,\n",
       " ('ecoinvent 3.3 cutoff', '73ab7172ce94a5efba813d689384d86e'): 858,\n",
       " ('ecoinvent 3.3 cutoff', '1dca1ad0dd8cb23ea9fce650017ba284'): 859,\n",
       " ('ecoinvent 3.3 cutoff', 'ac06ec908f60cf11bbb5f570fccbf758'): 860,\n",
       " ('ecoinvent 3.3 cutoff', 'd458e171a1d6f34e5694d1ba63a8cfe8'): 861,\n",
       " ('ecoinvent 3.3 cutoff', '04a504e0c3bf8f4bcf2e585fd9587658'): 862,\n",
       " ('ecoinvent 3.3 cutoff', 'ff70b708db9a4f9138ef1c377ed3108f'): 863,\n",
       " ('ecoinvent 3.3 cutoff', 'a0354fc496ea74d8063070161d5fe1b9'): 864,\n",
       " ('ecoinvent 3.3 cutoff', 'a367144b17b12b4bc87d87db99a00ea3'): 865,\n",
       " ('ecoinvent 3.3 cutoff', '835018b691c6a4cccde8d0df14aad200'): 866,\n",
       " ('ecoinvent 3.3 cutoff', '37b5a29cb7fb36e277b495ad322259d5'): 867,\n",
       " ('ecoinvent 3.3 cutoff', '9bf3120ad516a852c49377b71c1253e4'): 868,\n",
       " ('ecoinvent 3.3 cutoff', '57572f283157ec4aa831978ffc18f72d'): 869,\n",
       " ('ecoinvent 3.3 cutoff', '3bd5e16278a8519cc543d58a44dc7efe'): 870,\n",
       " ('ecoinvent 3.3 cutoff', '6ff999ff0977a984d554e0497006c90e'): 871,\n",
       " ('ecoinvent 3.3 cutoff', '61bc33a60e2507d41512003c04c9e63f'): 872,\n",
       " ('ecoinvent 3.3 cutoff', '6db00e6b71712d6a720fc64381c38349'): 873,\n",
       " ('ecoinvent 3.3 cutoff', '0f14c7d1b98ac750ef14835e05e3bb58'): 874,\n",
       " ('ecoinvent 3.3 cutoff', '66faa88a50cb8cdac79109c7c0bb7f28'): 875,\n",
       " ('ecoinvent 3.3 cutoff', 'c4bea5f8c2f105ff396f9b596739ef21'): 876,\n",
       " ('ecoinvent 3.3 cutoff', '18227138a9d43d14264bc46a1ae9f840'): 877,\n",
       " ('ecoinvent 3.3 cutoff', 'd6fc3aa2620b9eb7d5f647423e2d2550'): 878,\n",
       " ('ecoinvent 3.3 cutoff', '429b1b75e9f238c077f06c1ac9326117'): 879,\n",
       " ('ecoinvent 3.3 cutoff', '77ec727c5640fe74103b24dbfb52ce4c'): 880,\n",
       " ('ecoinvent 3.3 cutoff', '31026506e286730834b3e4148c2a298c'): 881,\n",
       " ('ecoinvent 3.3 cutoff', '526dc329cf4d18eaf7419cc39f48728b'): 882,\n",
       " ('ecoinvent 3.3 cutoff', '1d76d0cc952747006fdd421803ea2711'): 883,\n",
       " ('ecoinvent 3.3 cutoff', 'fa72230cb3d1ee86492805848c5eb160'): 884,\n",
       " ('ecoinvent 3.3 cutoff', 'e59ea10d8383520b7fa441eabdce0e85'): 885,\n",
       " ('ecoinvent 3.3 cutoff', '1f56c543123070134f344faf8394b1ec'): 886,\n",
       " ('ecoinvent 3.3 cutoff', 'a27a98770c1a034fec5e4733d32f23ee'): 887,\n",
       " ('ecoinvent 3.3 cutoff', '259a4d1033644335c0cf3dfc17c1988c'): 888,\n",
       " ('ecoinvent 3.3 cutoff', 'a65a93bcac312ce302dda38f00bf2e14'): 889,\n",
       " ('ecoinvent 3.3 cutoff', '48a7281a4646ada5b2142dc946c8cdd5'): 890,\n",
       " ('ecoinvent 3.3 cutoff', '2b2ef30aed2bd78560ca100a832c006d'): 891,\n",
       " ('ecoinvent 3.3 cutoff', '3f56e0c1fa214a6d0dd10ae2eb6f8b0c'): 892,\n",
       " ('ecoinvent 3.3 cutoff', '36704b0f9c1ce1c02e2c0f79a0e4b247'): 893,\n",
       " ('ecoinvent 3.3 cutoff', '2e199a020ae63566162270820a8a72e1'): 894,\n",
       " ('ecoinvent 3.3 cutoff', 'd713d869cd59ebca33432b3d77f71764'): 895,\n",
       " ('ecoinvent 3.3 cutoff', '7cd0c97c7c6ae8eaeb2ef1f9477a5c62'): 896,\n",
       " ('ecoinvent 3.3 cutoff', '2359d336e069ba51b0b4715b092cdbda'): 897,\n",
       " ('ecoinvent 3.3 cutoff', '4d751a1e257b0b3c0052b106772df6fa'): 898,\n",
       " ('ecoinvent 3.3 cutoff', '5c0ff6a08ef4130cf0768b94053e11ed'): 899,\n",
       " ('ecoinvent 3.3 cutoff', '00d719e5d0e73b5a4577cd1a00649dbd'): 900,\n",
       " ('ecoinvent 3.3 cutoff', 'cc8a3e4b52a7f7b54d682802247e6666'): 901,\n",
       " ('ecoinvent 3.3 cutoff', '26a5fa1d0f57062f0cf231b4bf48b071'): 902,\n",
       " ('ecoinvent 3.3 cutoff', '75d95660ceafd41eff6a2def34f2bdd5'): 903,\n",
       " ('ecoinvent 3.3 cutoff', '17535fe69b7eb1e7443c9ea942d43a87'): 904,\n",
       " ('ecoinvent 3.3 cutoff', '283594d660ad90b8a82cbdb5aa1d7166'): 905,\n",
       " ('ecoinvent 3.3 cutoff', '0a9383274163d66eccb1711fc1e70516'): 906,\n",
       " ('ecoinvent 3.3 cutoff', 'f7d32a5dd1597ce9ea8002bc38d45b81'): 907,\n",
       " ('ecoinvent 3.3 cutoff', '926dc03b5acfd2d7d94c170d2d903775'): 908,\n",
       " ('ecoinvent 3.3 cutoff', 'cab7b81fdf35116e3770668d8db6203e'): 909,\n",
       " ('ecoinvent 3.3 cutoff', 'e15e6cf2fb503ba8f63f899cb8c7ec4c'): 910,\n",
       " ('ecoinvent 3.3 cutoff', '2de348c51b7ba906b35fe353c3347249'): 911,\n",
       " ('ecoinvent 3.3 cutoff', '7b1c011cd98a1fcb7d266f76c5203cb6'): 912,\n",
       " ('ecoinvent 3.3 cutoff', 'dee7cc5bacc23c36fe6a00e27774ba9a'): 913,\n",
       " ('ecoinvent 3.3 cutoff', '8dbba53466f4bd5468c06ba51f2729bf'): 914,\n",
       " ('ecoinvent 3.3 cutoff', '59a55b7b9e54fd37f1837944eccb4b31'): 915,\n",
       " ('ecoinvent 3.3 cutoff', 'c30a2aa0a85470b67689433c3281e587'): 916,\n",
       " ('ecoinvent 3.3 cutoff', '7a78cd30093ffdb683df6dacc9ea0c47'): 917,\n",
       " ('ecoinvent 3.3 cutoff', '24691f71df29ddcc507f8727f79fffb3'): 918,\n",
       " ('ecoinvent 3.3 cutoff', '9486d7c75cdfbdf478f4377cd77d9ac5'): 919,\n",
       " ('ecoinvent 3.3 cutoff', 'f9054df5c439e975d411fa3325ea1134'): 920,\n",
       " ('ecoinvent 3.3 cutoff', '02199b91cac2db326ccc5e694b5ef0db'): 921,\n",
       " ('ecoinvent 3.3 cutoff', '78546cf44a80b05173d3308bcd26bc36'): 922,\n",
       " ('ecoinvent 3.3 cutoff', 'f505da60cee056d2e7400407ebdd76c6'): 923,\n",
       " ('ecoinvent 3.3 cutoff', 'fa38c3323a9cc6079b4acb05e089c985'): 924,\n",
       " ('ecoinvent 3.3 cutoff', 'a188acd74f6ba8fd80857e69624a4618'): 925,\n",
       " ('ecoinvent 3.3 cutoff', '5d3bf6a5563438741fc4d673ab923f79'): 926,\n",
       " ('ecoinvent 3.3 cutoff', 'd4d678cbab360ebc7ce6cf4c57ea7d27'): 927,\n",
       " ('ecoinvent 3.3 cutoff', '4fc867246d7e6a9c3a2f8ef44307e661'): 928,\n",
       " ('ecoinvent 3.3 cutoff', '4de0cf40d29f76cf4ffc74d0cf3987db'): 929,\n",
       " ('ecoinvent 3.3 cutoff', '549deefb01a7f567e4502b6b3429556d'): 930,\n",
       " ('ecoinvent 3.3 cutoff', 'a5ec74ec30a2c0646b372e74e75625c8'): 931,\n",
       " ('ecoinvent 3.3 cutoff', 'abe58257554330b235726ba2c9c43de3'): 932,\n",
       " ('ecoinvent 3.3 cutoff', '917bb1d3fa506910f7f2731c53ceb125'): 933,\n",
       " ('ecoinvent 3.3 cutoff', '83e283d00e5e7e852a22a4e4d2f431c7'): 934,\n",
       " ('ecoinvent 3.3 cutoff', '799317ca6fc3caa92a11873111982aab'): 935,\n",
       " ('ecoinvent 3.3 cutoff', '8dbcb31953684193928214525dbb2e07'): 936,\n",
       " ('ecoinvent 3.3 cutoff', 'd05ec61d746871f8619ed547a7f16556'): 937,\n",
       " ('ecoinvent 3.3 cutoff', 'fbf2136b1e1b233b481d5c4c25adbfb3'): 938,\n",
       " ('ecoinvent 3.3 cutoff', 'cb9718b5842452c790ae7f733ced2663'): 939,\n",
       " ('ecoinvent 3.3 cutoff', '0f8f6ead484c3f6f165ad1b7e96ff5de'): 940,\n",
       " ('ecoinvent 3.3 cutoff', '479a82c58ab780393f4e5b4d23a8952b'): 941,\n",
       " ('ecoinvent 3.3 cutoff', '1af3a721a551ea68df1d8c693ac5ac88'): 942,\n",
       " ('ecoinvent 3.3 cutoff', 'aa2bedf7f1ae3cd005dd653dafd24f7e'): 943,\n",
       " ('ecoinvent 3.3 cutoff', 'b533d5afb87ff884b033001b56045a66'): 944,\n",
       " ('ecoinvent 3.3 cutoff', 'afc6fc6bca0805959ee3b0a7e3939d08'): 945,\n",
       " ('ecoinvent 3.3 cutoff', '02d583bd90599090f61153207f34eecf'): 946,\n",
       " ('ecoinvent 3.3 cutoff', '863bc0275d2c99a204b28b52165f4690'): 947,\n",
       " ('ecoinvent 3.3 cutoff', '68b91c7a15be3b20fa8b068ff273f053'): 948,\n",
       " ('ecoinvent 3.3 cutoff', '024f93b54d25c7614dd1717ba2b950b0'): 949,\n",
       " ('ecoinvent 3.3 cutoff', 'e7ce9f2ca67325e80578648c1e1d864c'): 950,\n",
       " ('ecoinvent 3.3 cutoff', '9f911f3d4d04994de29778dee1d1842d'): 951,\n",
       " ('ecoinvent 3.3 cutoff', '3a6778a279ff9bb61de4e47f03f974c6'): 952,\n",
       " ('ecoinvent 3.3 cutoff', '6296d77881fa4e828c9f7a55f317c2fb'): 953,\n",
       " ('ecoinvent 3.3 cutoff', '0fce25df01f0b777f5bbf3cf483be20f'): 954,\n",
       " ('ecoinvent 3.3 cutoff', 'b28814ee2c2b6ad12197dfdd1798be8b'): 955,\n",
       " ('ecoinvent 3.3 cutoff', 'b512903ab6e64c7976e72c9b6f7461ae'): 956,\n",
       " ('ecoinvent 3.3 cutoff', 'be9dda851fdcda65e6ae1035c4ae1d72'): 957,\n",
       " ('ecoinvent 3.3 cutoff', 'd42a48d957d25c2f6e710345941bf015'): 958,\n",
       " ('ecoinvent 3.3 cutoff', 'd849c7d150d5d8966fd8074f1021400e'): 959,\n",
       " ('ecoinvent 3.3 cutoff', '54b11ef7d19f7516782a11ebe25af03c'): 960,\n",
       " ('ecoinvent 3.3 cutoff', '6a7bf5f9b135e13d2ad1ff19e1ea3038'): 961,\n",
       " ('ecoinvent 3.3 cutoff', '2073ca33963ad9ed89c8679ab0cacdff'): 962,\n",
       " ('ecoinvent 3.3 cutoff', '95e63dc67d3e876b4d040ae052f0346c'): 963,\n",
       " ('ecoinvent 3.3 cutoff', 'f10b62ce2741c024a65428909b9aa3d8'): 964,\n",
       " ('ecoinvent 3.3 cutoff', '0d79afc0525dbf9f87a8d5e00364af83'): 965,\n",
       " ('ecoinvent 3.3 cutoff', '76db91ae0aaf03214d530ead23619866'): 966,\n",
       " ('ecoinvent 3.3 cutoff', '10a692502c135f749ebfd8e0b505d82e'): 967,\n",
       " ('ecoinvent 3.3 cutoff', '081702ffbb6297ea769e3126e2aaec50'): 968,\n",
       " ('ecoinvent 3.3 cutoff', '01d2bd186a0b7dff380ec3a5375e5de4'): 969,\n",
       " ('ecoinvent 3.3 cutoff', '533115d1f8e036f3b847ed52c0e2633d'): 970,\n",
       " ('ecoinvent 3.3 cutoff', '09c051767e6a4edeaca4021ed6ca9d62'): 971,\n",
       " ('ecoinvent 3.3 cutoff', '8a7557dee52fa1cd71290cd81940e828'): 972,\n",
       " ('ecoinvent 3.3 cutoff', 'eae5dbef90ddd73e648b84bf8421120d'): 973,\n",
       " ('ecoinvent 3.3 cutoff', 'e6883f87ef22de59a200e37e4461afe2'): 974,\n",
       " ('ecoinvent 3.3 cutoff', 'f6a599eb12f18edb8bf89708cc73cd2a'): 975,\n",
       " ('ecoinvent 3.3 cutoff', '489067dff6cae552762bdbcad31fc5ef'): 976,\n",
       " ('ecoinvent 3.3 cutoff', 'd4bac2a2e86772de654f6d5ce907dc60'): 977,\n",
       " ('ecoinvent 3.3 cutoff', 'bfc456ec447e866e7046b363de5d6037'): 978,\n",
       " ('ecoinvent 3.3 cutoff', 'b14ff6a8a47ae211a6ddf16a43966843'): 979,\n",
       " ('ecoinvent 3.3 cutoff', 'cbafd7e7c7c08569ec159e0b9e6c5516'): 980,\n",
       " ('ecoinvent 3.3 cutoff', 'b3c1afcb781261a3404fd91f2760bd2d'): 981,\n",
       " ('ecoinvent 3.3 cutoff', '3a45b44da58ee02b2191e698ee954c87'): 982,\n",
       " ('ecoinvent 3.3 cutoff', 'd796f3921e4c3e6cb0e55cddfa1c7482'): 983,\n",
       " ('ecoinvent 3.3 cutoff', '464fcaed33a9e7c48093a78e075ac9d9'): 984,\n",
       " ('ecoinvent 3.3 cutoff', 'f7f52d17657b1851aef9072bcbec826f'): 985,\n",
       " ('ecoinvent 3.3 cutoff', '543457153ce4cbea4a0201286145e53a'): 986,\n",
       " ('ecoinvent 3.3 cutoff', 'f6b6a735dc6c55efeab40e5d4e092414'): 987,\n",
       " ('ecoinvent 3.3 cutoff', 'dc52aea474ec97a31bf280d67f2ab0d0'): 988,\n",
       " ('ecoinvent 3.3 cutoff', 'fc1dbe3075ace2159d03ee054b8b95d9'): 989,\n",
       " ('ecoinvent 3.3 cutoff', '6d805b62782b67707f7bce32c2ae1273'): 990,\n",
       " ('ecoinvent 3.3 cutoff', '792b2d40c93a324e1e6aba075229f990'): 991,\n",
       " ('ecoinvent 3.3 cutoff', '499ba0c3c461243ab6a062d140e439c3'): 992,\n",
       " ('ecoinvent 3.3 cutoff', 'e28fcb126d38e09329398185b588ae4c'): 993,\n",
       " ('ecoinvent 3.3 cutoff', 'bea9f979c24c48f614b92ebd89470c67'): 994,\n",
       " ('ecoinvent 3.3 cutoff', '16420516587713a1af8d04102b90fc5f'): 995,\n",
       " ('ecoinvent 3.3 cutoff', '3a618c957fc30e4788f1d3a6cf972317'): 996,\n",
       " ('ecoinvent 3.3 cutoff', '28dbbbd5af5134f1e91b03d06358bc70'): 997,\n",
       " ('ecoinvent 3.3 cutoff', '906a0d133a4362f40682f7212c61cd6e'): 998,\n",
       " ('ecoinvent 3.3 cutoff', '319855a2e021acdcfe9ef4f5dbd59cdb'): 999,\n",
       " ...}"
      ]
     },
     "execution_count": 56,
     "metadata": {},
     "output_type": "execute_result"
    }
   ],
   "source": [
    "LCA_obj.product_dict"
   ]
  },
  {
   "cell_type": "code",
   "execution_count": 57,
   "metadata": {},
   "outputs": [
    {
     "data": {
      "text/plain": [
       "{('ecoinvent 3.3 cutoff', '13ea0b258811e52ccbf76b903825e804'): 0,\n",
       " ('ecoinvent 3.3 cutoff', '31dac3ea3eddbb68323b47eafa2c4fb8'): 1,\n",
       " ('ecoinvent 3.3 cutoff', 'b47698a545fb09cff9d6b017099658ae'): 2,\n",
       " ('ecoinvent 3.3 cutoff', 'fc4d15bd907eda5c2f04ddaf46d8a4a5'): 3,\n",
       " ('ecoinvent 3.3 cutoff', '8c9f9f01eec394d61582056971d31485'): 4,\n",
       " ('ecoinvent 3.3 cutoff', 'b40e9b88403cd9233ec9f928d17ea890'): 5,\n",
       " ('ecoinvent 3.3 cutoff', '2d7ff0f07659646c160ba8f004764a0a'): 6,\n",
       " ('ecoinvent 3.3 cutoff', 'f9f01ae72330b7cb84d43b7775449acb'): 7,\n",
       " ('ecoinvent 3.3 cutoff', '4fb0448eb17f67dff778384545c6c1d0'): 8,\n",
       " ('ecoinvent 3.3 cutoff', 'e900c182f045d862158527cd8592b89c'): 9,\n",
       " ('ecoinvent 3.3 cutoff', '465059cdcabeb326e8e596c772ef0510'): 10,\n",
       " ('ecoinvent 3.3 cutoff', 'a1ada48d424d3d20c0fd311656f47e3a'): 11,\n",
       " ('ecoinvent 3.3 cutoff', 'c2cd55abf813fd23e9416607d40eb36f'): 12,\n",
       " ('ecoinvent 3.3 cutoff', 'b9882aef7cfb1cfb51c13858ccf4ec1d'): 13,\n",
       " ('ecoinvent 3.3 cutoff', '47d119e4f8c374487fe8c5e742272f15'): 14,\n",
       " ('ecoinvent 3.3 cutoff', 'a71c86ecfdb44fd22f01d09d23491796'): 15,\n",
       " ('ecoinvent 3.3 cutoff', '6169bfe60831a943014608d931365c36'): 16,\n",
       " ('ecoinvent 3.3 cutoff', '4e9611c11e7c94247a286b464e3d4777'): 17,\n",
       " ('ecoinvent 3.3 cutoff', '42fa953d67d7488724a82bff5146508e'): 18,\n",
       " ('ecoinvent 3.3 cutoff', '7f4a1c54048990e434ec657b5c4d5942'): 19,\n",
       " ('ecoinvent 3.3 cutoff', '3a47ab26fcbf0a4eaadb26a5d14fbf63'): 20,\n",
       " ('ecoinvent 3.3 cutoff', '0c98b61a5173851432d96d10f3656335'): 21,\n",
       " ('ecoinvent 3.3 cutoff', 'e07c95652f3522fa5a085b1b0553ffff'): 22,\n",
       " ('ecoinvent 3.3 cutoff', 'ef00d552518981f0c85376f02b62b2c3'): 23,\n",
       " ('ecoinvent 3.3 cutoff', 'fdec21d84d7ec9a837daaca0f094b95a'): 24,\n",
       " ('ecoinvent 3.3 cutoff', 'a159d81067f9a4eafab25ce388084e89'): 25,\n",
       " ('ecoinvent 3.3 cutoff', '56353fa56e0e0d8bae61044a4fb8073d'): 26,\n",
       " ('ecoinvent 3.3 cutoff', '1e908a565855d66f3f0b8c8dc6547eca'): 27,\n",
       " ('ecoinvent 3.3 cutoff', 'c838896b72750ab804282152b524efc8'): 28,\n",
       " ('ecoinvent 3.3 cutoff', '2bf3653ae37e5b76976b9b1a9ab3d4a1'): 29,\n",
       " ('ecoinvent 3.3 cutoff', 'c8feb825851a858d070852193ae4c7e7'): 30,\n",
       " ('ecoinvent 3.3 cutoff', 'fbc7d1d2047fc9e33d8f1ff20629b564'): 31,\n",
       " ('ecoinvent 3.3 cutoff', '38689c3cc229e6dcda86d436a1e21c15'): 32,\n",
       " ('ecoinvent 3.3 cutoff', '11c3eb433ca7534cb144126dbfb29e6a'): 33,\n",
       " ('ecoinvent 3.3 cutoff', 'e20400ed6eb16e5087c288fe586f27d7'): 34,\n",
       " ('ecoinvent 3.3 cutoff', 'c533b046462b6c56a5636ca177347c48'): 35,\n",
       " ('ecoinvent 3.3 cutoff', 'dc802073159e9d4ef7aa4fa22339be3c'): 36,\n",
       " ('ecoinvent 3.3 cutoff', '6fbdc28ea5c5e6ef77499b2dcb4bc38a'): 37,\n",
       " ('ecoinvent 3.3 cutoff', '07f0c5b78193cd9eac757874e55ba298'): 38,\n",
       " ('ecoinvent 3.3 cutoff', 'b05e280bc612975f304beaedd486315d'): 39,\n",
       " ('ecoinvent 3.3 cutoff', 'fe14f780a517767a54fe371d9d2ee5cc'): 40,\n",
       " ('ecoinvent 3.3 cutoff', '055a0ec7d2e507041cdc159a74957ffc'): 41,\n",
       " ('ecoinvent 3.3 cutoff', 'f57bce96150106f163399f2840c4515f'): 42,\n",
       " ('ecoinvent 3.3 cutoff', 'db909070a1bdd376215ededde86a01e7'): 43,\n",
       " ('ecoinvent 3.3 cutoff', 'b5bced27bb2681ce315f1b5a0461715f'): 44,\n",
       " ('ecoinvent 3.3 cutoff', '5428ea224427a7e8fd0a47bd42f8680e'): 45,\n",
       " ('ecoinvent 3.3 cutoff', 'fd6a304bd3ebe59374355d37d3e0b91e'): 46,\n",
       " ('ecoinvent 3.3 cutoff', '724c798eb890408d3b7f7b9c4aeeac89'): 47,\n",
       " ('ecoinvent 3.3 cutoff', '920a49af5ce298222f4e12c9d4fe1800'): 48,\n",
       " ('ecoinvent 3.3 cutoff', '6c3a8848949f87314bee0598456c6977'): 49,\n",
       " ('ecoinvent 3.3 cutoff', 'd9d21f8bf8b539886b42f970cc4b2777'): 50,\n",
       " ('ecoinvent 3.3 cutoff', '5d0652994c77f44174aa25bc050ff767'): 51,\n",
       " ('ecoinvent 3.3 cutoff', '79fd285c3c19ab3ea4b2fa6cda629c4d'): 52,\n",
       " ('ecoinvent 3.3 cutoff', '162a78d2fc639186ba2c55ce0cac542f'): 53,\n",
       " ('ecoinvent 3.3 cutoff', 'a62b2b662e6a22542b884c9f6367b967'): 54,\n",
       " ('ecoinvent 3.3 cutoff', 'cde8120321e5d1b57c90824c8b1daec9'): 55,\n",
       " ('ecoinvent 3.3 cutoff', 'a777ccb886d95d09628bc691642c03bf'): 56,\n",
       " ('ecoinvent 3.3 cutoff', '79fb8e958e4e28683028cb7c271b0137'): 57,\n",
       " ('ecoinvent 3.3 cutoff', 'd1c32235dde36b122f067bf312481939'): 58,\n",
       " ('ecoinvent 3.3 cutoff', 'fce846296a5ddd9081d6a38d8da492db'): 59,\n",
       " ('ecoinvent 3.3 cutoff', '5b2b1d6471b8bc16e0941a350aa7328d'): 60,\n",
       " ('ecoinvent 3.3 cutoff', '67d367de32d3125eb9d3bce45a2e08ed'): 61,\n",
       " ('ecoinvent 3.3 cutoff', '376dff475d6f5492bd254ad7114e46b9'): 62,\n",
       " ('ecoinvent 3.3 cutoff', '32c29dfe518e90965473e141839c3abd'): 63,\n",
       " ('ecoinvent 3.3 cutoff', 'a4d6183fa5db8deef61df9f83a45bef2'): 64,\n",
       " ('ecoinvent 3.3 cutoff', '89ff0b6c7a12565f01a11f1485355a13'): 65,\n",
       " ('ecoinvent 3.3 cutoff', 'adb4cd8b4557b65e8ae724e34e1bec78'): 66,\n",
       " ('ecoinvent 3.3 cutoff', '154bf32eef652a6f064f90ddb34e2613'): 67,\n",
       " ('ecoinvent 3.3 cutoff', '27bdc4f41803087ee2c6fb5263739c0d'): 68,\n",
       " ('ecoinvent 3.3 cutoff', '31ab86309285e0f8a3bc2493c5e108e3'): 69,\n",
       " ('ecoinvent 3.3 cutoff', 'fe21177040673e721528df95aa0b86f8'): 70,\n",
       " ('ecoinvent 3.3 cutoff', '5b13d4c6c0c3525a5408bd114137bf95'): 71,\n",
       " ('ecoinvent 3.3 cutoff', '7192786a32ee9dfbfd2d2a500caa9daf'): 72,\n",
       " ('ecoinvent 3.3 cutoff', '876e7bd021bbc3fdfeb53752b198f2bf'): 73,\n",
       " ('ecoinvent 3.3 cutoff', 'b2335fa9a7a68b5d11b75729830d5a6f'): 74,\n",
       " ('ecoinvent 3.3 cutoff', '718c2d7f6e36216cfb5bf453787aa5a9'): 75,\n",
       " ('ecoinvent 3.3 cutoff', '37e7e4130db49f536b5c4ac43e5c9a71'): 76,\n",
       " ('ecoinvent 3.3 cutoff', '453bef89b14c4532d03984770974c985'): 77,\n",
       " ('ecoinvent 3.3 cutoff', 'a1ae5115e27349b775637552f1f315c8'): 78,\n",
       " ('ecoinvent 3.3 cutoff', 'adf1dacb2c238239becf9c842a20bdc1'): 79,\n",
       " ('ecoinvent 3.3 cutoff', 'e80773e4b64d51cfe405909087ce24db'): 80,\n",
       " ('ecoinvent 3.3 cutoff', '03efe74f5064e423ee9febd5c6ccc76d'): 81,\n",
       " ('ecoinvent 3.3 cutoff', 'c1e6f9b9fe920133c926defa886f12a2'): 82,\n",
       " ('ecoinvent 3.3 cutoff', 'ff6a218526d8cd0d08abb16cd8483189'): 83,\n",
       " ('ecoinvent 3.3 cutoff', '6e08fc4d1ab386fcb849880db4dead74'): 84,\n",
       " ('ecoinvent 3.3 cutoff', 'c6ee5562e828ab200be608ac89085f38'): 85,\n",
       " ('ecoinvent 3.3 cutoff', '1a0d13d041914be3a3e7920537c1fdfe'): 86,\n",
       " ('ecoinvent 3.3 cutoff', '87b6fcaf89477e77e1c0443e8f533883'): 87,\n",
       " ('ecoinvent 3.3 cutoff', '51dbce7d5e3b22eaf0b2681f85c0a121'): 88,\n",
       " ('ecoinvent 3.3 cutoff', '3eacf768e5321dc58c2880edd9e53915'): 89,\n",
       " ('ecoinvent 3.3 cutoff', '8e54e8418d78acb65b3d368a393a5a69'): 90,\n",
       " ('ecoinvent 3.3 cutoff', '579acbfdf3a1d57e87ffb431921c19d9'): 91,\n",
       " ('ecoinvent 3.3 cutoff', '6d1c7e847b6a66d401a4c9daa09c06b0'): 92,\n",
       " ('ecoinvent 3.3 cutoff', '934570a0d000c493c402dd814950563c'): 93,\n",
       " ('ecoinvent 3.3 cutoff', '5a6feb9828365457fad93169c0e04c02'): 94,\n",
       " ('ecoinvent 3.3 cutoff', 'ded4dedfddf8b3ebded1913dc7f66ebd'): 95,\n",
       " ('ecoinvent 3.3 cutoff', '86c6018236ba3fd4698e616d2f295dc0'): 96,\n",
       " ('ecoinvent 3.3 cutoff', '5a37f71771c2a6308e9ed20da6a242f9'): 97,\n",
       " ('ecoinvent 3.3 cutoff', '58bad6b858c1709a54fc46b1804f6722'): 98,\n",
       " ('ecoinvent 3.3 cutoff', '866e7fccfdee2909ea3a7f359859d995'): 99,\n",
       " ('ecoinvent 3.3 cutoff', 'ab6634bccd707d8e5f76cc5dff334c8b'): 100,\n",
       " ('ecoinvent 3.3 cutoff', 'c349b1e326c646edfab529426319ffa7'): 101,\n",
       " ('ecoinvent 3.3 cutoff', '066469d670a55b0110f61287ed159dda'): 102,\n",
       " ('ecoinvent 3.3 cutoff', '405c5e110b9018111f634e4899f23d98'): 103,\n",
       " ('ecoinvent 3.3 cutoff', '6140b87e4127cf068676d7df9bd5e47a'): 104,\n",
       " ('ecoinvent 3.3 cutoff', '3884e2e066e78978a55719fb951c869b'): 105,\n",
       " ('ecoinvent 3.3 cutoff', 'de8846ffc3561c7bb83748de941ffa42'): 106,\n",
       " ('ecoinvent 3.3 cutoff', 'cc12f17144c5ff64d7123f1ef4233bdf'): 107,\n",
       " ('ecoinvent 3.3 cutoff', '1c03937ebfa293694f8f85e68f9af779'): 108,\n",
       " ('ecoinvent 3.3 cutoff', '7a5927462ad307f73ac39f90248ddb0d'): 109,\n",
       " ('ecoinvent 3.3 cutoff', 'c134b55980a10c46bcb8f974e41de52a'): 110,\n",
       " ('ecoinvent 3.3 cutoff', '3670d9b790bd35395567e1a057e75d69'): 111,\n",
       " ('ecoinvent 3.3 cutoff', 'dc12a6b9dd8eb5ce95b7d1a56474e22d'): 112,\n",
       " ('ecoinvent 3.3 cutoff', '2990e57d6b01a3fbc2d5a70f430ed742'): 113,\n",
       " ('ecoinvent 3.3 cutoff', 'c2da7dba44ad4cb82454f6d5c2f78d7d'): 114,\n",
       " ('ecoinvent 3.3 cutoff', '0fad51fe25bb0db3d024f5a9e2bce171'): 115,\n",
       " ('ecoinvent 3.3 cutoff', '469fe06847193034cb8fb6cd69ce1850'): 116,\n",
       " ('ecoinvent 3.3 cutoff', '5c8d605216a59ca7be97e12e2573d605'): 117,\n",
       " ('ecoinvent 3.3 cutoff', '043436eb8c00d6741999ffe009e28d8e'): 118,\n",
       " ('ecoinvent 3.3 cutoff', 'c4e254d77e27cf92a47359245323c869'): 119,\n",
       " ('ecoinvent 3.3 cutoff', 'f07a2ceed44b27bf3025fa53e1e562a0'): 120,\n",
       " ('ecoinvent 3.3 cutoff', '3307e2e4ae4dd0fc582f80657d4ef4c4'): 121,\n",
       " ('ecoinvent 3.3 cutoff', '726e6aaf1c5401fbf8f08f7725ecd09d'): 122,\n",
       " ('ecoinvent 3.3 cutoff', '9dfd84db72aefef8a3654660ce48e6c0'): 123,\n",
       " ('ecoinvent 3.3 cutoff', '044c96bccbb0efd01f9d2d9d0f8f8b8d'): 124,\n",
       " ('ecoinvent 3.3 cutoff', '3c5e06682e6dad0307af77ad4a4f2eee'): 125,\n",
       " ('ecoinvent 3.3 cutoff', '82e35013c631da90898148b4bfff4170'): 126,\n",
       " ('ecoinvent 3.3 cutoff', '8b8d556a38efb7e575a42f615b48b057'): 127,\n",
       " ('ecoinvent 3.3 cutoff', '69e29ea9f4671fdb009c3e9c9afb0cb9'): 128,\n",
       " ('ecoinvent 3.3 cutoff', '2b94ef5c71dd219d351e437c557f3170'): 129,\n",
       " ('ecoinvent 3.3 cutoff', '088b7e9cd71118efab8425dc62c2e296'): 130,\n",
       " ('ecoinvent 3.3 cutoff', '51fc61b50256f68967a8b3cbc94de4f9'): 131,\n",
       " ('ecoinvent 3.3 cutoff', 'd0a6efd85b4f6c343a841b49a9c87a6b'): 132,\n",
       " ('ecoinvent 3.3 cutoff', 'bfcf0240bd23966838c148c86db10344'): 133,\n",
       " ('ecoinvent 3.3 cutoff', 'e96a810c11fc3fce0d5d7fd6bc30df10'): 134,\n",
       " ('ecoinvent 3.3 cutoff', 'cf2aa5e6c664e81da5cb68cf044f1272'): 135,\n",
       " ('ecoinvent 3.3 cutoff', '5d77b6480da42534d84c1bbbe5beca76'): 136,\n",
       " ('ecoinvent 3.3 cutoff', 'ec62a580e85ee97a3641eb56dbc86c99'): 137,\n",
       " ('ecoinvent 3.3 cutoff', 'caae12f97527966c73572b6ebb8a5af6'): 138,\n",
       " ('ecoinvent 3.3 cutoff', 'b25cf9b1b5b2fd3b721869dbafb532bd'): 139,\n",
       " ('ecoinvent 3.3 cutoff', 'af86f46fce6dda0b60cf4a8dad7c1cad'): 140,\n",
       " ('ecoinvent 3.3 cutoff', '15c58752d462cb8d2e95989d82954c42'): 141,\n",
       " ('ecoinvent 3.3 cutoff', 'dd6219c5d6e870b8accb818df08d4676'): 142,\n",
       " ('ecoinvent 3.3 cutoff', '932ac18dc216965823b885d34a61dea9'): 143,\n",
       " ('ecoinvent 3.3 cutoff', 'fd624e5d480942e671a4409a3835555d'): 144,\n",
       " ('ecoinvent 3.3 cutoff', '9b10a4d5dcb9a5dd6c69d3758cf4226e'): 145,\n",
       " ('ecoinvent 3.3 cutoff', 'a221036f8ae48b848d2e281162060b51'): 146,\n",
       " ('ecoinvent 3.3 cutoff', '0561e7a287eee7a266e8bd48b91b6d72'): 147,\n",
       " ('ecoinvent 3.3 cutoff', '59d7e29fd62a227cbb33339c7eb1c68d'): 148,\n",
       " ('ecoinvent 3.3 cutoff', '3a6fb52822fe6cd5cc2741d01a3b8a48'): 149,\n",
       " ('ecoinvent 3.3 cutoff', 'bb3fa52fc2eaddc76b52e10c3af2629a'): 150,\n",
       " ('ecoinvent 3.3 cutoff', 'f3703577e195a2f904ec8e24fb87c0bb'): 151,\n",
       " ('ecoinvent 3.3 cutoff', '77e50fbb63069e0834a9732954d4a2fe'): 152,\n",
       " ('ecoinvent 3.3 cutoff', '909ea372d266da04d5587099f598be3f'): 153,\n",
       " ('ecoinvent 3.3 cutoff', 'a75fbd37d74db3799694d489debda9a8'): 154,\n",
       " ('ecoinvent 3.3 cutoff', '2f9e639389ef21603f134fcf57119af2'): 155,\n",
       " ('ecoinvent 3.3 cutoff', '5140c8ab09a9e1e531519fad46e819c6'): 156,\n",
       " ('ecoinvent 3.3 cutoff', '0f9d96439a31cd531976c7bfadc31791'): 157,\n",
       " ('ecoinvent 3.3 cutoff', 'b29e5df8da0341c6bacbea1b042411bf'): 158,\n",
       " ('ecoinvent 3.3 cutoff', '17d2ceca7360ac629ab3ec2420ecd5fd'): 159,\n",
       " ('ecoinvent 3.3 cutoff', 'd3da052a34d89230dddf482ae4a28c6e'): 160,\n",
       " ('ecoinvent 3.3 cutoff', 'd2eb9b407b19ec8721b2103e3c74318f'): 161,\n",
       " ('ecoinvent 3.3 cutoff', '4cf3e5230f03f519d81e10ee8ee811a8'): 162,\n",
       " ('ecoinvent 3.3 cutoff', 'ed9ddb996eee5576c297aca4c9144127'): 163,\n",
       " ('ecoinvent 3.3 cutoff', '9a79784b217fd4d7698f89bf53ff0e0f'): 164,\n",
       " ('ecoinvent 3.3 cutoff', 'a7472b10e13b8cd226c55b858bf937eb'): 165,\n",
       " ('ecoinvent 3.3 cutoff', '6e4bbae91b8379268e85d35ef8cb80e3'): 166,\n",
       " ('ecoinvent 3.3 cutoff', 'c14d6b0dabcbbb8030401164f37410e6'): 167,\n",
       " ('ecoinvent 3.3 cutoff', '75b6cbbdc0f01a77e61f19182f1ddb8d'): 168,\n",
       " ('ecoinvent 3.3 cutoff', '95825bca588f40a51f13f61cfe56e478'): 169,\n",
       " ('ecoinvent 3.3 cutoff', '727ba4315516fdf5ba92271bbe4137c2'): 170,\n",
       " ('ecoinvent 3.3 cutoff', 'b9474fe75baf3e904d91124d0019993a'): 171,\n",
       " ('ecoinvent 3.3 cutoff', '08ab877db162bb6dd67fefceaa538273'): 172,\n",
       " ('ecoinvent 3.3 cutoff', '3b63099bca6e886749b6bc27f7d933ce'): 173,\n",
       " ('ecoinvent 3.3 cutoff', '555ec4335d963382305c22f0e563e1a9'): 174,\n",
       " ('ecoinvent 3.3 cutoff', '829a5b17e630cd0b15940c533fbc9e96'): 175,\n",
       " ('ecoinvent 3.3 cutoff', '951010f6389a4eafa69912d0152b2f3f'): 176,\n",
       " ('ecoinvent 3.3 cutoff', 'efc258be5e14216133bca8c81cb9915a'): 177,\n",
       " ('ecoinvent 3.3 cutoff', '20e55f3cfb4639352e30b082db0c2150'): 178,\n",
       " ('ecoinvent 3.3 cutoff', '5a47ec2546ce821f11e433c4cf59be1e'): 179,\n",
       " ('ecoinvent 3.3 cutoff', 'ebf474994a89f253cac4d9056b5a8aeb'): 180,\n",
       " ('ecoinvent 3.3 cutoff', '81f1af89977fe3acc9ca1008a9b9108f'): 181,\n",
       " ('ecoinvent 3.3 cutoff', 'bbe7696ee6b5e5aa7c0374cf90d4b9d4'): 182,\n",
       " ('ecoinvent 3.3 cutoff', '4b8fb264d82390237cec7fce41424542'): 183,\n",
       " ('ecoinvent 3.3 cutoff', 'bc4743f3fcd2db1691873cb391450c75'): 184,\n",
       " ('ecoinvent 3.3 cutoff', '1bd6a6ddf07e0c936b881d381f2efe0d'): 185,\n",
       " ('ecoinvent 3.3 cutoff', '9bd4418e318ddf9794d4a487800891b0'): 186,\n",
       " ('ecoinvent 3.3 cutoff', '8fcb0d4bd21effc8f22ab994b9f89209'): 187,\n",
       " ('ecoinvent 3.3 cutoff', '8d20683470ad8c1c3adc48c77c6841c0'): 188,\n",
       " ('ecoinvent 3.3 cutoff', '08952b46ab58f219a64b2e13276be8a5'): 189,\n",
       " ('ecoinvent 3.3 cutoff', '750a142b8233994768313d3451691d94'): 190,\n",
       " ('ecoinvent 3.3 cutoff', '29097aa54e14b4d510a37afbaf5ee715'): 191,\n",
       " ('ecoinvent 3.3 cutoff', 'ef9c73e1684f502aed8deb1039261c2f'): 192,\n",
       " ('ecoinvent 3.3 cutoff', 'd331815e3acdb0493ee8edaf2ecb7a84'): 193,\n",
       " ('ecoinvent 3.3 cutoff', '0c1e989ff294b42c01a07f8cbc0eebe7'): 194,\n",
       " ('ecoinvent 3.3 cutoff', 'd39f0cd321fb62dae33287578604a9f8'): 195,\n",
       " ('ecoinvent 3.3 cutoff', 'c33239d48955c4f36f793b430b09e0a2'): 196,\n",
       " ('ecoinvent 3.3 cutoff', '4d5845e14a5844bd3277234678a656eb'): 197,\n",
       " ('ecoinvent 3.3 cutoff', 'aedf06c0fd58ce699d661bd49ed3c5fd'): 198,\n",
       " ('ecoinvent 3.3 cutoff', '488402d01ddd552ac35ed4edb943420d'): 199,\n",
       " ('ecoinvent 3.3 cutoff', '1e14997151e142bfd0e155ecbb2e3adf'): 200,\n",
       " ('ecoinvent 3.3 cutoff', '8b6b22b6f0e380994a0c4b5e3ca1f63d'): 201,\n",
       " ('ecoinvent 3.3 cutoff', 'ca3d431c5f09223603d5ae0d4b0232a9'): 202,\n",
       " ('ecoinvent 3.3 cutoff', 'd9ecedb1b4aa3f3799462bed2ef6cedd'): 203,\n",
       " ('ecoinvent 3.3 cutoff', 'c93094c5af80400a55417bb05eecba4f'): 204,\n",
       " ('ecoinvent 3.3 cutoff', 'b92b6076e307896cf54b322e88086804'): 205,\n",
       " ('ecoinvent 3.3 cutoff', 'e8bd1c98cc4745d2cdd1f76aae984354'): 206,\n",
       " ('ecoinvent 3.3 cutoff', '2d4449b2f260e976f40d579522f7eefe'): 207,\n",
       " ('ecoinvent 3.3 cutoff', 'b70c2d8405c82a32eef3240f3d8de0a2'): 208,\n",
       " ('ecoinvent 3.3 cutoff', '68576ae9204081623ce1b96ed6bed92e'): 209,\n",
       " ('ecoinvent 3.3 cutoff', '47e974fe38e0fefe3492bbcaab2fb88b'): 210,\n",
       " ('ecoinvent 3.3 cutoff', '571ca7c4a0771f90a874bb30494e88e4'): 211,\n",
       " ('ecoinvent 3.3 cutoff', 'b124999e5aec05dfd12e94ef38e85b3e'): 212,\n",
       " ('ecoinvent 3.3 cutoff', '3a5ccbeb2341ddfb134e6f1e47f6c729'): 213,\n",
       " ('ecoinvent 3.3 cutoff', '94691fba330d58a1527aa481674b8055'): 214,\n",
       " ('ecoinvent 3.3 cutoff', '15f7eea953960e88a1635f6878c3ceb3'): 215,\n",
       " ('ecoinvent 3.3 cutoff', '23d1cf81ea102e1b91b72d69c5ce134c'): 216,\n",
       " ('ecoinvent 3.3 cutoff', '386a7d7798b240c78040c3743bcc0a05'): 217,\n",
       " ('ecoinvent 3.3 cutoff', 'edaecd629911cfbb8cbbef798543399c'): 218,\n",
       " ('ecoinvent 3.3 cutoff', 'df9b9a0fa881db10188910c2ad9ac353'): 219,\n",
       " ('ecoinvent 3.3 cutoff', '73c30eefa4656e6cee323d6ae75d932e'): 220,\n",
       " ('ecoinvent 3.3 cutoff', '00b22b847b04e752c87fd8eefeb57ca8'): 221,\n",
       " ('ecoinvent 3.3 cutoff', '7a128cb4fa5383cd21322c07a0bc144e'): 222,\n",
       " ('ecoinvent 3.3 cutoff', '4fe1ccd3502aa7c8ee7f8ff78994127b'): 223,\n",
       " ('ecoinvent 3.3 cutoff', '35d95a5e82f7d80573b91fff92dd60bc'): 224,\n",
       " ('ecoinvent 3.3 cutoff', '6bce3cf6e0a3150ace5a3fab0c87264e'): 225,\n",
       " ('ecoinvent 3.3 cutoff', '5f2aeb54103085c9c82694b015ead6cc'): 226,\n",
       " ('ecoinvent 3.3 cutoff', 'a5565db893b29fb2a285bc0f828b293b'): 227,\n",
       " ('ecoinvent 3.3 cutoff', '42369718ca78172a4d5c314eafd8147a'): 228,\n",
       " ('ecoinvent 3.3 cutoff', '4a902748b62b77f6ad6491287ba5e1cc'): 229,\n",
       " ('ecoinvent 3.3 cutoff', 'ae99c44799928f98e489d20917fac752'): 230,\n",
       " ('ecoinvent 3.3 cutoff', 'a2fd850f330f5d8eb466be944baad814'): 231,\n",
       " ('ecoinvent 3.3 cutoff', '6f89172dbdb29bf2086ebb228808ecfd'): 232,\n",
       " ('ecoinvent 3.3 cutoff', '7f26c66895e559a0582a61312ccd1c98'): 233,\n",
       " ('ecoinvent 3.3 cutoff', '472d531afacfe9849b2ae11ea48b5257'): 234,\n",
       " ('ecoinvent 3.3 cutoff', '33508e950387ac672ea594b3b5c2424a'): 235,\n",
       " ('ecoinvent 3.3 cutoff', 'c2d8c4ec9672a3813ed4a3fc6d5b2f71'): 236,\n",
       " ('ecoinvent 3.3 cutoff', '1f12a91b0e47c7a7864049a777552cab'): 237,\n",
       " ('ecoinvent 3.3 cutoff', '11805b054964d3b72583fb0a31e41cba'): 238,\n",
       " ('ecoinvent 3.3 cutoff', '2c46d6e67bf7cc1e739456ce3a105008'): 239,\n",
       " ('ecoinvent 3.3 cutoff', 'ae71c3cee3a22c03ddea9b952da50864'): 240,\n",
       " ('ecoinvent 3.3 cutoff', '3ff7335cb14eba3faf61776754322239'): 241,\n",
       " ('ecoinvent 3.3 cutoff', 'f8cb28701b992f0c497d9aff0baf7e0f'): 242,\n",
       " ('ecoinvent 3.3 cutoff', '2f7d99744502bb7b4787c126d92e8569'): 243,\n",
       " ('ecoinvent 3.3 cutoff', 'e3154793086b5d97744f8697210e855e'): 244,\n",
       " ('ecoinvent 3.3 cutoff', '78c58665cf1faa49d1abfa99bc08f0d5'): 245,\n",
       " ('ecoinvent 3.3 cutoff', '1b2aed234fdce3d4f492608de2dd2a10'): 246,\n",
       " ('ecoinvent 3.3 cutoff', '56a80e84fe5840f8452f8b0c0e5d537b'): 247,\n",
       " ('ecoinvent 3.3 cutoff', 'c0d175740fc2013621b97d9c656ec475'): 248,\n",
       " ('ecoinvent 3.3 cutoff', 'f0e2f1fd366ba19ef0a2aa149b65062f'): 249,\n",
       " ('ecoinvent 3.3 cutoff', '1b55a14804f908483f14ec0a81a813c1'): 250,\n",
       " ('ecoinvent 3.3 cutoff', '525cc75a2d7e24626ea74138eebd49e1'): 251,\n",
       " ('ecoinvent 3.3 cutoff', 'cc37f94f613f0e323e77797d9b2a067e'): 252,\n",
       " ('ecoinvent 3.3 cutoff', '42d7195a1a0462c9640d51eb9873593c'): 253,\n",
       " ('ecoinvent 3.3 cutoff', 'aba7d20438e052b2a4af2dd775988ad1'): 254,\n",
       " ('ecoinvent 3.3 cutoff', '45347c8382b93fb051fbeccd57b7e4b6'): 255,\n",
       " ('ecoinvent 3.3 cutoff', '27453363a5ba5d87b74092d99033ae94'): 256,\n",
       " ('ecoinvent 3.3 cutoff', '4a71d4f2fbe2cbc37f4ffcb5c8d32241'): 257,\n",
       " ('ecoinvent 3.3 cutoff', 'd4e802b09a423d2e6d4d0d9ee1fef8a8'): 258,\n",
       " ('ecoinvent 3.3 cutoff', 'f8e84f9904834bd0b300850470531062'): 259,\n",
       " ('ecoinvent 3.3 cutoff', 'cb51801aa3df4c9553b3c67bcd3df8e4'): 260,\n",
       " ('ecoinvent 3.3 cutoff', '6560093d0e0f867eaf610dd7f427db7e'): 261,\n",
       " ('ecoinvent 3.3 cutoff', '4bdb5660bd55eecf393fc98552b29e7c'): 262,\n",
       " ('ecoinvent 3.3 cutoff', 'b5cddc94dc5acd0e4eb86ad248a5bb51'): 263,\n",
       " ('ecoinvent 3.3 cutoff', '82a0dd1271fd3c5b8dad91bc7a342e64'): 264,\n",
       " ('ecoinvent 3.3 cutoff', 'b7cf78d50eab11f133a15c11ee583607'): 265,\n",
       " ('ecoinvent 3.3 cutoff', '7007a0f6f5efcd145f8adcb27c144df9'): 266,\n",
       " ('ecoinvent 3.3 cutoff', '30b764323d8b809f4beb3e72731d7c0a'): 267,\n",
       " ('ecoinvent 3.3 cutoff', '2edda5371af1b28224d5c258b0a86ec2'): 268,\n",
       " ('ecoinvent 3.3 cutoff', 'c873bc46c1b76dc5c9a8e91da3b83d7a'): 269,\n",
       " ('ecoinvent 3.3 cutoff', '85b6c7162e80220b62eebc8fc264e742'): 270,\n",
       " ('ecoinvent 3.3 cutoff', 'f4c4f151ce4d8e7fbf81f0e93af2f80e'): 271,\n",
       " ('ecoinvent 3.3 cutoff', '280c55ec57e0948c6ae11e70b908f833'): 272,\n",
       " ('ecoinvent 3.3 cutoff', 'af84f1ddd7c1a8888f97041b0f27f8c6'): 273,\n",
       " ('ecoinvent 3.3 cutoff', '216a4304add8eb4b472678b8c1345fab'): 274,\n",
       " ('ecoinvent 3.3 cutoff', 'da3c341fe2c6f250d92a9f50e91aea51'): 275,\n",
       " ('ecoinvent 3.3 cutoff', '44723f73fe92245294c712b969f86a96'): 276,\n",
       " ('ecoinvent 3.3 cutoff', '47a0d21c6f018562d2012c47c23c3082'): 277,\n",
       " ('ecoinvent 3.3 cutoff', '2ac34dc9208853bae11d12aef6b191c0'): 278,\n",
       " ('ecoinvent 3.3 cutoff', '2b0a95272d63a09a957e16cf3d47adb0'): 279,\n",
       " ('ecoinvent 3.3 cutoff', '17b7021dc0cfc595cd61ce5425cbc190'): 280,\n",
       " ('ecoinvent 3.3 cutoff', '8b5372c6054c266d682049f36e841093'): 281,\n",
       " ('ecoinvent 3.3 cutoff', '15518c5cd910126a32fa868934a9ec7e'): 282,\n",
       " ('ecoinvent 3.3 cutoff', 'e021632731ceacc01815c05b7ce2f9f3'): 283,\n",
       " ('ecoinvent 3.3 cutoff', '3972479cceda4de9895f4849a283ddc6'): 284,\n",
       " ('ecoinvent 3.3 cutoff', 'b01cfbe8cc8ddbfab8bb4d524357b665'): 285,\n",
       " ('ecoinvent 3.3 cutoff', 'f88162fbeea2bb96382214e4bea593ff'): 286,\n",
       " ('ecoinvent 3.3 cutoff', 'dd8563b094a2c13fc8a8ac9f2fb2cff2'): 287,\n",
       " ('ecoinvent 3.3 cutoff', 'b139e2bb501684c2b59343b5c9feb256'): 288,\n",
       " ('ecoinvent 3.3 cutoff', '3273fd41774ec85fb0cf41e31aee2fd2'): 289,\n",
       " ('ecoinvent 3.3 cutoff', '4163dc6916542fd049b4ef9a8d7832ce'): 290,\n",
       " ('ecoinvent 3.3 cutoff', '54a9cbaf321c547d064b469194c36cd5'): 291,\n",
       " ('ecoinvent 3.3 cutoff', '8c31066bf2db1cf7b01375ee34feeec5'): 292,\n",
       " ('ecoinvent 3.3 cutoff', '064f2b09ea29a4e2de70a53419efbb1a'): 293,\n",
       " ('ecoinvent 3.3 cutoff', 'f6dfd114bed6a7edbb9c4e5f674ef4ff'): 294,\n",
       " ('ecoinvent 3.3 cutoff', 'aa8759adb7f2a420fb1ed156a2b4ddce'): 295,\n",
       " ('ecoinvent 3.3 cutoff', '066fdb95daf8e799c7be6e671351b772'): 296,\n",
       " ('ecoinvent 3.3 cutoff', 'ca8815eecbc258f0fd6b69d9cc520389'): 297,\n",
       " ('ecoinvent 3.3 cutoff', '81cea3891cebef74f1c6195b82bd4914'): 298,\n",
       " ('ecoinvent 3.3 cutoff', '73e218c40e71359cd9f4108ff4db5863'): 299,\n",
       " ('ecoinvent 3.3 cutoff', '2eacd95efb7d857d2621029513809768'): 300,\n",
       " ('ecoinvent 3.3 cutoff', 'ad8bce2055cd949884efa75bb6d339f4'): 301,\n",
       " ('ecoinvent 3.3 cutoff', 'df23ba25961665fd1b5e7fbf3ed1dec1'): 302,\n",
       " ('ecoinvent 3.3 cutoff', '3dc4e52762dc9f3bdcba99e0c2a5df70'): 303,\n",
       " ('ecoinvent 3.3 cutoff', '5657d7de424fcd87d7de3c09b29879e6'): 304,\n",
       " ('ecoinvent 3.3 cutoff', '863a36c594dfb76c3246369e4946bd98'): 305,\n",
       " ('ecoinvent 3.3 cutoff', 'a50f1ad7fb4670a34a8a98cbafa09208'): 306,\n",
       " ('ecoinvent 3.3 cutoff', 'd60348b1a517acfd6e1b6ffee0f4b689'): 307,\n",
       " ('ecoinvent 3.3 cutoff', 'e21bf48e19b8013266ed65a2266ec097'): 308,\n",
       " ('ecoinvent 3.3 cutoff', 'a02a2bdc4a60d4c88b49cfc16178d348'): 309,\n",
       " ('ecoinvent 3.3 cutoff', '42ccd8da09ad9ad583860a82e244babd'): 310,\n",
       " ('ecoinvent 3.3 cutoff', '716685eb359ae9b7a366e061fffc148d'): 311,\n",
       " ('ecoinvent 3.3 cutoff', '98e14c9807d1edbfc9326dadbb7e05b6'): 312,\n",
       " ('ecoinvent 3.3 cutoff', 'b7609976a7236c02faac6cada09aa85a'): 313,\n",
       " ('ecoinvent 3.3 cutoff', '2278d9f915fad2086f4e1e99bd93b938'): 314,\n",
       " ('ecoinvent 3.3 cutoff', '6feb46ef8cc8a15dfc07c29d124cf273'): 315,\n",
       " ('ecoinvent 3.3 cutoff', '531c9c7131d506c355089f8a733fecf6'): 316,\n",
       " ('ecoinvent 3.3 cutoff', '04a444cde6c927797921f4f59a163a8d'): 317,\n",
       " ('ecoinvent 3.3 cutoff', '53a638791e7434db7b67e6480ff616b8'): 318,\n",
       " ('ecoinvent 3.3 cutoff', 'bdd49dc404768790f6caa5519e518743'): 319,\n",
       " ('ecoinvent 3.3 cutoff', '0412887a74e2611d20b57d776a3a7bc8'): 320,\n",
       " ('ecoinvent 3.3 cutoff', 'fa7d2359bed0d03a5bc54998c38b1e35'): 321,\n",
       " ('ecoinvent 3.3 cutoff', 'afad7e3248fc4a7ecce8c0a7898334ee'): 322,\n",
       " ('ecoinvent 3.3 cutoff', 'ead70144356b4dd68bb19ba859a492db'): 323,\n",
       " ('ecoinvent 3.3 cutoff', 'd0b640db74870cfa79605efce6e02b7f'): 324,\n",
       " ('ecoinvent 3.3 cutoff', '8476a8691b4e38ed18993f811d91bb97'): 325,\n",
       " ('ecoinvent 3.3 cutoff', '238f3cf7679919e84ca024c9221199b2'): 326,\n",
       " ('ecoinvent 3.3 cutoff', 'e1691defe5e679b74b2335783042eea7'): 327,\n",
       " ('ecoinvent 3.3 cutoff', 'c3b905bac8d9662f5b3d099a973ba952'): 328,\n",
       " ('ecoinvent 3.3 cutoff', 'c4c9e994bd0dab48bac0a4c8bf296e84'): 329,\n",
       " ('ecoinvent 3.3 cutoff', '641bcfe43331146d76ac507de13eaead'): 330,\n",
       " ('ecoinvent 3.3 cutoff', '726be82b09dac05e0ed0c43adbab33d4'): 331,\n",
       " ('ecoinvent 3.3 cutoff', '4d20f9021d33554565e570770b72927f'): 332,\n",
       " ('ecoinvent 3.3 cutoff', '3e5d716f2bc9c04c25f2c3d370065944'): 333,\n",
       " ('ecoinvent 3.3 cutoff', 'd0aa5f2cc225b0d0526d583bf161b465'): 334,\n",
       " ('ecoinvent 3.3 cutoff', '51fc9b577ed4431cab7cd3974c88a0e0'): 335,\n",
       " ('ecoinvent 3.3 cutoff', '38457d548517959f8258a9a5b0876752'): 336,\n",
       " ('ecoinvent 3.3 cutoff', '855df57b526e8282dabcc34040d28f2c'): 337,\n",
       " ('ecoinvent 3.3 cutoff', 'ada95851ca071d17cd315a125c27d6ef'): 338,\n",
       " ('ecoinvent 3.3 cutoff', '2b51e7b78ec82e3af00928392c8fd1ad'): 339,\n",
       " ('ecoinvent 3.3 cutoff', '5f00b4decc32f971b96589f592a4172e'): 340,\n",
       " ('ecoinvent 3.3 cutoff', '603f9a36605998da16647dfdd10536fc'): 341,\n",
       " ('ecoinvent 3.3 cutoff', '6c59ca5ccc1aa63d7ed74f29e70925af'): 342,\n",
       " ('ecoinvent 3.3 cutoff', 'a21643bbbe4b06a0cc6202955b2d0009'): 343,\n",
       " ('ecoinvent 3.3 cutoff', '13fd47fe25f940ec2e72d8aa4f2d5c55'): 344,\n",
       " ('ecoinvent 3.3 cutoff', '04953eb80f1fc5fbf04339efea72e629'): 345,\n",
       " ('ecoinvent 3.3 cutoff', '308572d7aee90e3df979e515dc099869'): 346,\n",
       " ('ecoinvent 3.3 cutoff', '27a7eb53c7c7d11b23bc2f76f526ebfa'): 347,\n",
       " ('ecoinvent 3.3 cutoff', 'c610ce117b939c118d57d229c1640f33'): 348,\n",
       " ('ecoinvent 3.3 cutoff', '9fc669ace2a3b753aa2e278fe6818563'): 349,\n",
       " ('ecoinvent 3.3 cutoff', '76a1e366528fe315bc4fb8cb72104418'): 350,\n",
       " ('ecoinvent 3.3 cutoff', 'f1f0d3f52c1ba57b074bf93ec2244b56'): 351,\n",
       " ('ecoinvent 3.3 cutoff', '28c6f5fe3bf6a9f80c878e8bda150de0'): 352,\n",
       " ('ecoinvent 3.3 cutoff', '9405312c6204a5f34125cf13328fe6af'): 353,\n",
       " ('ecoinvent 3.3 cutoff', 'be840f34120f7a461789a2f98b962474'): 354,\n",
       " ('ecoinvent 3.3 cutoff', '949240150d39c014b3fb9204e6bab0d0'): 355,\n",
       " ('ecoinvent 3.3 cutoff', 'f971648b94f4860da9189bffbd5bba35'): 356,\n",
       " ('ecoinvent 3.3 cutoff', 'dabb15086c029fc2fb6c87c792d72714'): 357,\n",
       " ('ecoinvent 3.3 cutoff', '5b431fcb3b811ab4afa0da3ad18c6f19'): 358,\n",
       " ('ecoinvent 3.3 cutoff', 'ec1a433035ba10bc9026f8d181a6bf90'): 359,\n",
       " ('ecoinvent 3.3 cutoff', '7bc698760959ff8efe48d6ce900f7e4e'): 360,\n",
       " ('ecoinvent 3.3 cutoff', 'c91a7f9b458fb8e3b770b42636b677c4'): 361,\n",
       " ('ecoinvent 3.3 cutoff', 'a62ddcfd800b1ecd6204a8163f6a1a87'): 362,\n",
       " ('ecoinvent 3.3 cutoff', '4a5c6d882f151ee36d0117ed2af1dba7'): 363,\n",
       " ('ecoinvent 3.3 cutoff', '8145b171f1c1e4de2306b7041100749b'): 364,\n",
       " ('ecoinvent 3.3 cutoff', 'fd890f5af2bdfa2b043d1fd134ef9f2e'): 365,\n",
       " ('ecoinvent 3.3 cutoff', '9a1d751eae0566f6868b1407230c320f'): 366,\n",
       " ('ecoinvent 3.3 cutoff', '8eca7b379afd2865503f1c0eaf1a4a8d'): 367,\n",
       " ('ecoinvent 3.3 cutoff', '734adf77e43ff3764f1fc6b8f3a43dac'): 368,\n",
       " ('ecoinvent 3.3 cutoff', '1c1b0c5eaca79416331915ff10554d97'): 369,\n",
       " ('ecoinvent 3.3 cutoff', 'fc96b89a62141d0db02fa00362580c0e'): 370,\n",
       " ('ecoinvent 3.3 cutoff', '37dae270e85a3515eb9f98be28e03f90'): 371,\n",
       " ('ecoinvent 3.3 cutoff', 'f80af80333e3622c43407f54cbff3a0d'): 372,\n",
       " ('ecoinvent 3.3 cutoff', '79ea97712ed001ad6cf1813081501570'): 373,\n",
       " ('ecoinvent 3.3 cutoff', '47fd6c462834410f5e8ebd8adc3d79df'): 374,\n",
       " ('ecoinvent 3.3 cutoff', '7a7bac9bb81f2d5e50812f5f4ee63042'): 375,\n",
       " ('ecoinvent 3.3 cutoff', 'cad579be4be693f7bab58e7633c0a959'): 376,\n",
       " ('ecoinvent 3.3 cutoff', 'a89b0026f6104b0eebf2661f454ff137'): 377,\n",
       " ('ecoinvent 3.3 cutoff', '99f20cc09bc7cbd43ade8e5d489422d6'): 378,\n",
       " ('ecoinvent 3.3 cutoff', 'a84cd2d6a31349da1f121101b92cc722'): 379,\n",
       " ('ecoinvent 3.3 cutoff', '03ef97dd6b5fb87e46de829ca2ec8094'): 380,\n",
       " ('ecoinvent 3.3 cutoff', '47778d3b0a07795e2e5177a06d784149'): 381,\n",
       " ('ecoinvent 3.3 cutoff', '536355ef78b5e2c063ddbc71d47893a4'): 382,\n",
       " ('ecoinvent 3.3 cutoff', 'ecf4dcdefd0a6c88474ef553ec7a7aab'): 383,\n",
       " ('ecoinvent 3.3 cutoff', 'a1ca845bdb915d5227e1ea347bc77e84'): 384,\n",
       " ('ecoinvent 3.3 cutoff', '96d4740677ec42a0ee1dd9fd629436d0'): 385,\n",
       " ('ecoinvent 3.3 cutoff', '1653f7f54de76afa0ee5acbb10ab6e2c'): 386,\n",
       " ('ecoinvent 3.3 cutoff', 'e887daf4ce21721aaefc16f39fb89532'): 387,\n",
       " ('ecoinvent 3.3 cutoff', 'd61698dd03a96773144c8beb6a8ad8d5'): 388,\n",
       " ('ecoinvent 3.3 cutoff', '2fc8b59950934694e8f2b670ee768d7e'): 389,\n",
       " ('ecoinvent 3.3 cutoff', '6b2bb3414de1f753767a3ecbc7a888d5'): 390,\n",
       " ('ecoinvent 3.3 cutoff', '0393bd196a607a60c848258fb66bb41b'): 391,\n",
       " ('ecoinvent 3.3 cutoff', 'fd8ca707604b7a1a97d8039ffea6413e'): 392,\n",
       " ('ecoinvent 3.3 cutoff', '6d348f5b34f2fa0be8bc0d7082f7bbd5'): 393,\n",
       " ('ecoinvent 3.3 cutoff', 'e2b2a50512318bffb1d51e635324e16a'): 394,\n",
       " ('ecoinvent 3.3 cutoff', '14a2e65d99e8c29a455ec0261758e740'): 395,\n",
       " ('ecoinvent 3.3 cutoff', '73db0b5cd9a6caea0c982fdc8f021640'): 396,\n",
       " ('ecoinvent 3.3 cutoff', 'c6f8720c340949756a2bb774ef2cd866'): 397,\n",
       " ('ecoinvent 3.3 cutoff', '62df34cfb05d058e6626460b0c1c00d6'): 398,\n",
       " ('ecoinvent 3.3 cutoff', '0e3bc6b8d9e3fd2517da38182cf54ece'): 399,\n",
       " ('ecoinvent 3.3 cutoff', '448c38a4d35f53d58321f046ee076bf9'): 400,\n",
       " ('ecoinvent 3.3 cutoff', '8e372f211e9dbfc9261a762bcb3daed1'): 401,\n",
       " ('ecoinvent 3.3 cutoff', '531616b667f6f719f721a0d9745457e3'): 402,\n",
       " ('ecoinvent 3.3 cutoff', 'd28f4a0c5db62c2d28e71ef92cb02ab7'): 403,\n",
       " ('ecoinvent 3.3 cutoff', 'b413a8db51eefc5a0f03891bf1a8582a'): 404,\n",
       " ('ecoinvent 3.3 cutoff', '0f0592eba9f5d9695c08a8a38d4152a3'): 405,\n",
       " ('ecoinvent 3.3 cutoff', '70205588b21860dd4a58c45c9f26110e'): 406,\n",
       " ('ecoinvent 3.3 cutoff', '703c3fdd3835477f2cae3570287d1e67'): 407,\n",
       " ('ecoinvent 3.3 cutoff', 'f445d7eaa5860ae921ee1454f9d8068d'): 408,\n",
       " ('ecoinvent 3.3 cutoff', '48953c8a71c779960158658843f6e55d'): 409,\n",
       " ('ecoinvent 3.3 cutoff', 'b1b37b2982bc03d19afc2d45c677bdb6'): 410,\n",
       " ('ecoinvent 3.3 cutoff', 'dcbab0fa4a1258f481d3d6630fb02ba3'): 411,\n",
       " ('ecoinvent 3.3 cutoff', 'f9b89d5eb9c3faec466801c428e31e15'): 412,\n",
       " ('ecoinvent 3.3 cutoff', 'cd8a0cb23535e6ba1544f74ffea9a906'): 413,\n",
       " ('ecoinvent 3.3 cutoff', 'c592be7f04ed18f61f21867df477f2ff'): 414,\n",
       " ('ecoinvent 3.3 cutoff', '99651fd852bb1662d5cdfc2a61abe3a5'): 415,\n",
       " ('ecoinvent 3.3 cutoff', '49c3a5a6298803272c44a13b99bb14a3'): 416,\n",
       " ('ecoinvent 3.3 cutoff', 'c7eadac0aae8ac6660fa253b3760669c'): 417,\n",
       " ('ecoinvent 3.3 cutoff', '087072c0a1ee0ed0a010bdd127ec8409'): 418,\n",
       " ('ecoinvent 3.3 cutoff', '430588a2477afd2082a302b3e053ac19'): 419,\n",
       " ('ecoinvent 3.3 cutoff', '35c9c23a01194797092a65033447401b'): 420,\n",
       " ('ecoinvent 3.3 cutoff', '727d626794c5e151a456169b80132750'): 421,\n",
       " ('ecoinvent 3.3 cutoff', '70bbc5572855047490321cc8772e2431'): 422,\n",
       " ('ecoinvent 3.3 cutoff', 'f001ca008de153bdf6984b88f2cd598c'): 423,\n",
       " ('ecoinvent 3.3 cutoff', '1cc362bf345d9660b8959ce84d4ddc54'): 424,\n",
       " ('ecoinvent 3.3 cutoff', '78860402f44f581bdbf54ad843809122'): 425,\n",
       " ('ecoinvent 3.3 cutoff', 'f86f9d4c9b78b3c0894d55dba2a86c5b'): 426,\n",
       " ('ecoinvent 3.3 cutoff', '2333b2c503d8e6038441c279141cc975'): 427,\n",
       " ('ecoinvent 3.3 cutoff', 'a62a4047052d5f04a1a93c93f8a1cdcf'): 428,\n",
       " ('ecoinvent 3.3 cutoff', '2ca0e034a858e9017439b28e7781cd53'): 429,\n",
       " ('ecoinvent 3.3 cutoff', 'c4fc94b532a7febebf9148ad6660be6b'): 430,\n",
       " ('ecoinvent 3.3 cutoff', '67ffbcc40ef75836642086ac1bb81a40'): 431,\n",
       " ('ecoinvent 3.3 cutoff', '86ea76c27d725c4857c10c34789410bc'): 432,\n",
       " ('ecoinvent 3.3 cutoff', '10216c207146a42022ad4741076107a1'): 433,\n",
       " ('ecoinvent 3.3 cutoff', '80ea939d9a2cca4f093b0b7c82ca81d0'): 434,\n",
       " ('ecoinvent 3.3 cutoff', 'd011212e8b1bceb5f5f19e651b48440f'): 435,\n",
       " ('ecoinvent 3.3 cutoff', '64503f8cacc36e059dcce859bbc47836'): 436,\n",
       " ('ecoinvent 3.3 cutoff', '7d7552ec3622c133c444702ca52f1622'): 437,\n",
       " ('ecoinvent 3.3 cutoff', 'b873049820bbf0568c3f04ced6a49d95'): 438,\n",
       " ('ecoinvent 3.3 cutoff', 'e69dd6d7c083e1e5d2cf7c6461e87812'): 439,\n",
       " ('ecoinvent 3.3 cutoff', 'f91a731aac19cf572a9f82fcc20985f7'): 440,\n",
       " ('ecoinvent 3.3 cutoff', 'ccb89d8361bfb0d8b3e8498119908e96'): 441,\n",
       " ('ecoinvent 3.3 cutoff', '64a0e9fc912c5f2b790f54864cbb4014'): 442,\n",
       " ('ecoinvent 3.3 cutoff', 'cae7713c648ea588944a1a7664acc386'): 443,\n",
       " ('ecoinvent 3.3 cutoff', '9816ae007228193f12a055c831aa4f82'): 444,\n",
       " ('ecoinvent 3.3 cutoff', '38bf5b280de37e40b8e6d65fb0e443b7'): 445,\n",
       " ('ecoinvent 3.3 cutoff', '10c39126dff1620ceea0d91145cebe5d'): 446,\n",
       " ('ecoinvent 3.3 cutoff', 'dafe5008e649eee4df14ee3a3d58fd1a'): 447,\n",
       " ('ecoinvent 3.3 cutoff', '451cda72d95719feac9abf4897d76275'): 448,\n",
       " ('ecoinvent 3.3 cutoff', '7893036c926a6f70f090eb2509d7f2a4'): 449,\n",
       " ('ecoinvent 3.3 cutoff', '6dfa2fee0acba1a495091aa6468504ab'): 450,\n",
       " ('ecoinvent 3.3 cutoff', '4d70fad34812cc0db838911fb5c8bdf4'): 451,\n",
       " ('ecoinvent 3.3 cutoff', '603b8466445a52c2a2f9ce9665c8fca6'): 452,\n",
       " ('ecoinvent 3.3 cutoff', '3ade5e7359efccd6b61d9f722449f3f4'): 453,\n",
       " ('ecoinvent 3.3 cutoff', '5e0a8f99ea1a4b58dd4473df9e224b2f'): 454,\n",
       " ('ecoinvent 3.3 cutoff', 'd528b2ae92a350c3b9bc274043b4c54f'): 455,\n",
       " ('ecoinvent 3.3 cutoff', '798980d8adf75df26e0a706a78ce36d2'): 456,\n",
       " ('ecoinvent 3.3 cutoff', '2e722a2a08fe8d897b3e6409da548fae'): 457,\n",
       " ('ecoinvent 3.3 cutoff', 'bd064e2b2e29e83183529e3abb9ad04a'): 458,\n",
       " ('ecoinvent 3.3 cutoff', 'c15b8b24cb82c4138f87f53b988e5f32'): 459,\n",
       " ('ecoinvent 3.3 cutoff', '6ac9ad27ee814d72d0f77b0ba3327bda'): 460,\n",
       " ('ecoinvent 3.3 cutoff', '37a68ca6d3b808eaec465840dea51f41'): 461,\n",
       " ('ecoinvent 3.3 cutoff', '8c97947bf5d34b9997afe4d3b907e81c'): 462,\n",
       " ('ecoinvent 3.3 cutoff', '6784fa6c371ac99540af5b721dd991c4'): 463,\n",
       " ('ecoinvent 3.3 cutoff', 'bbf01c24997f56324bc7fb15794da63a'): 464,\n",
       " ('ecoinvent 3.3 cutoff', 'e2e4bdf67ed0fcff3a265e89aa60b15b'): 465,\n",
       " ('ecoinvent 3.3 cutoff', 'e9dcfc6923e6b6a34ce93c6c6c2c7051'): 466,\n",
       " ('ecoinvent 3.3 cutoff', 'a3317501e432bc7b8d815bd0c32c9a21'): 467,\n",
       " ('ecoinvent 3.3 cutoff', 'ac7eaac0b82cabeeb2132482209c8ddb'): 468,\n",
       " ('ecoinvent 3.3 cutoff', 'c3920597661a8639845b85ddbe0a54b6'): 469,\n",
       " ('ecoinvent 3.3 cutoff', '0433638df4b5eea4b2c37e9166332dd9'): 470,\n",
       " ('ecoinvent 3.3 cutoff', '2d3dd21d734e9081076763dc167ef5c2'): 471,\n",
       " ('ecoinvent 3.3 cutoff', 'a9c59042600254fca6411a934fa8ea71'): 472,\n",
       " ('ecoinvent 3.3 cutoff', '4c2abb9bd7a2ceb72004b3c58046deeb'): 473,\n",
       " ('ecoinvent 3.3 cutoff', '8fdce52be7f8ad1f0ba4be3f1609f5fe'): 474,\n",
       " ('ecoinvent 3.3 cutoff', '453e40bc1a155402ffe0fbc0cb19b6df'): 475,\n",
       " ('ecoinvent 3.3 cutoff', '420ff4eeb1d96d373fc4a328716f02a3'): 476,\n",
       " ('ecoinvent 3.3 cutoff', '180ee6c632341a8853301cd36c9d73d9'): 477,\n",
       " ('ecoinvent 3.3 cutoff', '233ee2e7fabf0ad4d5ce5ceaa47b1985'): 478,\n",
       " ('ecoinvent 3.3 cutoff', '66a081783a63af0162856451527f0ad5'): 479,\n",
       " ('ecoinvent 3.3 cutoff', '34c829e7789a8afa0bec5bc66f96317a'): 480,\n",
       " ('ecoinvent 3.3 cutoff', '954e75d947166660099b5653fe758488'): 481,\n",
       " ('ecoinvent 3.3 cutoff', 'd6ad2d452c30368253cb1c3f9f850f1f'): 482,\n",
       " ('ecoinvent 3.3 cutoff', 'ccb92c2c9a95e97682a42e62f33b4bf3'): 483,\n",
       " ('ecoinvent 3.3 cutoff', '55203bf193af42752773e8291d080e66'): 484,\n",
       " ('ecoinvent 3.3 cutoff', '652555aec67ad3d30be3cddb95d60b17'): 485,\n",
       " ('ecoinvent 3.3 cutoff', '9c675f89f548bcede890ff4fd00b06a2'): 486,\n",
       " ('ecoinvent 3.3 cutoff', '619dd9f5ee8a20e8b488e0752639f065'): 487,\n",
       " ('ecoinvent 3.3 cutoff', 'f5d534c14344a8acca8d53ce94c3948f'): 488,\n",
       " ('ecoinvent 3.3 cutoff', '5cc122d6439e1e18e8a66fa49adefe4f'): 489,\n",
       " ('ecoinvent 3.3 cutoff', '1c736a113e363cde219b9c96dddbc11a'): 490,\n",
       " ('ecoinvent 3.3 cutoff', 'feb97dcab3ff32eb0a1c9a94d4b5bbbe'): 491,\n",
       " ('ecoinvent 3.3 cutoff', '57b015b49cff0ff2e51ab8501084cf14'): 492,\n",
       " ('ecoinvent 3.3 cutoff', 'e8f4b3c8102d8d03af2c73180097a6d7'): 493,\n",
       " ('ecoinvent 3.3 cutoff', 'c3583d7b10b8b6bf39e123b16d491943'): 494,\n",
       " ('ecoinvent 3.3 cutoff', 'be05bc44ed91e562a072e7e657c17f56'): 495,\n",
       " ('ecoinvent 3.3 cutoff', 'dfd8711aaa7ac795d752c04475e4ca98'): 496,\n",
       " ('ecoinvent 3.3 cutoff', '051032f77c88ce8106a49f7ffe5a1c19'): 497,\n",
       " ('ecoinvent 3.3 cutoff', '2bb3a69050ca7e32ccea660e4ba4ed82'): 498,\n",
       " ('ecoinvent 3.3 cutoff', '7a8918d97b55a94e6e1ab687f34909ef'): 499,\n",
       " ('ecoinvent 3.3 cutoff', 'e52a85e283b1281b035d45da3628e8df'): 500,\n",
       " ('ecoinvent 3.3 cutoff', 'baf97fd7a4686595c15c8a04d83f3442'): 501,\n",
       " ('ecoinvent 3.3 cutoff', 'ce4ca1898510b8d26e6ab9b6c8451b9d'): 502,\n",
       " ('ecoinvent 3.3 cutoff', '6e2077ab9eb0d53f55d179abec5e5511'): 503,\n",
       " ('ecoinvent 3.3 cutoff', '6ce488431637717d6ede15ce3c63b63a'): 504,\n",
       " ('ecoinvent 3.3 cutoff', 'f18b36bb7018fa8d3d1ab9f70c505913'): 505,\n",
       " ('ecoinvent 3.3 cutoff', '703cdb1cdfa4e6c0c5f534cc5c4b2928'): 506,\n",
       " ('ecoinvent 3.3 cutoff', '61e89d138a97ba2ddf7bb0b78b42b4c3'): 507,\n",
       " ('ecoinvent 3.3 cutoff', '7e67092f6e1199880706e7abb0aad749'): 508,\n",
       " ('ecoinvent 3.3 cutoff', 'd139ca9b39fa69fdba3a1c76dfe299f0'): 509,\n",
       " ('ecoinvent 3.3 cutoff', 'b6b66e866c6b84b684f78e8b26fcaebd'): 510,\n",
       " ('ecoinvent 3.3 cutoff', 'f55486204862feae53e4fb6ac4b96788'): 511,\n",
       " ('ecoinvent 3.3 cutoff', '8ff01ed0b004b7cee09294b1d00a0aca'): 512,\n",
       " ('ecoinvent 3.3 cutoff', '43e23c8eb6db4c50bf91f44022eab3ca'): 513,\n",
       " ('ecoinvent 3.3 cutoff', '1645c64a3bbf50c52ade4b825dd8f6b1'): 514,\n",
       " ('ecoinvent 3.3 cutoff', '46753ad764e4effbe664a7e289c2de38'): 515,\n",
       " ('ecoinvent 3.3 cutoff', '850ceed8f460bebe52a87636c4e194f7'): 516,\n",
       " ('ecoinvent 3.3 cutoff', 'b2e59574db7cdd2f7bf681e2e21e4040'): 517,\n",
       " ('ecoinvent 3.3 cutoff', 'e1834f0abdd4d6b854ec7b9a25c6c711'): 518,\n",
       " ('ecoinvent 3.3 cutoff', 'ea59ce22ea2412fb4a3f4981c16fe89b'): 519,\n",
       " ('ecoinvent 3.3 cutoff', 'f3b481b9c19f0e1f1d14364053a6b719'): 520,\n",
       " ('ecoinvent 3.3 cutoff', '2b2823dd185521cd3188a3a29773a164'): 521,\n",
       " ('ecoinvent 3.3 cutoff', '2c8833d02b21ee7e737fb6cba6dcd744'): 522,\n",
       " ('ecoinvent 3.3 cutoff', 'aebac69e3cf49245192e9fb44f6bfe1c'): 523,\n",
       " ('ecoinvent 3.3 cutoff', 'ffb84efe2838f195584ba94bf4ffc9ab'): 524,\n",
       " ('ecoinvent 3.3 cutoff', '51fca3feae425f01de64cade7784239a'): 525,\n",
       " ('ecoinvent 3.3 cutoff', '9624e5352d6bdcd77e801381e24f01ee'): 526,\n",
       " ('ecoinvent 3.3 cutoff', 'c7276603ce4a93f199d93db9c51c662e'): 527,\n",
       " ('ecoinvent 3.3 cutoff', 'cdc1fcccf7807ba0dd7c9da330354765'): 528,\n",
       " ('ecoinvent 3.3 cutoff', 'a37071f4e59f0f53efa46f2efe4db078'): 529,\n",
       " ('ecoinvent 3.3 cutoff', '108a2457ba91cef0ab915acb338c61c7'): 530,\n",
       " ('ecoinvent 3.3 cutoff', '1dd47a0267a421645edee128873f5eb3'): 531,\n",
       " ('ecoinvent 3.3 cutoff', 'eeecf90ac7be9bf7a3360e60f58fe77b'): 532,\n",
       " ('ecoinvent 3.3 cutoff', '26bdb5f60c9cf72567e761170471600a'): 533,\n",
       " ('ecoinvent 3.3 cutoff', 'd415d78ede52493612b005277bcf3aef'): 534,\n",
       " ('ecoinvent 3.3 cutoff', '0723f2d2fbf0fddddaa31af233cb4713'): 535,\n",
       " ('ecoinvent 3.3 cutoff', 'aa40685e2e22520ee189fbfa653849b7'): 536,\n",
       " ('ecoinvent 3.3 cutoff', '93819279984e176a36e434acb947c305'): 537,\n",
       " ('ecoinvent 3.3 cutoff', 'bd7dda42f55e9fa69349271c84afe575'): 538,\n",
       " ('ecoinvent 3.3 cutoff', '8017031e38c96bb1593f009a8b2d271f'): 539,\n",
       " ('ecoinvent 3.3 cutoff', '6412ddd744b03d2e9b20e2eda8410263'): 540,\n",
       " ('ecoinvent 3.3 cutoff', '462156111347d34665fa84371d662c49'): 541,\n",
       " ('ecoinvent 3.3 cutoff', 'eb06a9cf7ff8ff5704363f38e785baff'): 542,\n",
       " ('ecoinvent 3.3 cutoff', 'be9f8b40189bc14c4495e16de8435f39'): 543,\n",
       " ('ecoinvent 3.3 cutoff', '6e47dd1fb52fb76bc1111e9a1bc76fe7'): 544,\n",
       " ('ecoinvent 3.3 cutoff', 'cac7d982571c27e7feee3b245a5161ef'): 545,\n",
       " ('ecoinvent 3.3 cutoff', 'b3e30714b8fa5c7b774fb5ecd57ef951'): 546,\n",
       " ('ecoinvent 3.3 cutoff', 'e8b851c0df9f6df76441a7dc152ddd2c'): 547,\n",
       " ('ecoinvent 3.3 cutoff', '4abf1e12ef398f6365c4887f9b2880bf'): 548,\n",
       " ('ecoinvent 3.3 cutoff', '5ae7d1cfe00c353001162505c0f176b4'): 549,\n",
       " ('ecoinvent 3.3 cutoff', '8ac1bac52da3f40d94ab9b03206fb3d6'): 550,\n",
       " ('ecoinvent 3.3 cutoff', 'd351ebc29569b1c780a48ae885b45325'): 551,\n",
       " ('ecoinvent 3.3 cutoff', '5f67ea99242b2c8ae27a911ec16d73ad'): 552,\n",
       " ('ecoinvent 3.3 cutoff', '8c1e4d3f999c4c52d8b3e37057a19c56'): 553,\n",
       " ('ecoinvent 3.3 cutoff', '7a8d602f45d882efbed88c490488be9e'): 554,\n",
       " ('ecoinvent 3.3 cutoff', '224f02678c12b64b448043c9f6ed9257'): 555,\n",
       " ('ecoinvent 3.3 cutoff', 'c307cea014b14542252ee5af4770c937'): 556,\n",
       " ('ecoinvent 3.3 cutoff', '9e8195d4db54517605159a111864ef34'): 557,\n",
       " ('ecoinvent 3.3 cutoff', '60daa42041814a60266fe4e4c183c930'): 558,\n",
       " ('ecoinvent 3.3 cutoff', '9062162e89542bf0212c39733afdcdae'): 559,\n",
       " ('ecoinvent 3.3 cutoff', '8ee123b28c62995a013babdc3391efd6'): 560,\n",
       " ('ecoinvent 3.3 cutoff', 'e74b134071e31bfccadf1ef7decb360b'): 561,\n",
       " ('ecoinvent 3.3 cutoff', '7d3282776db4dd9781d599a17c7e3475'): 562,\n",
       " ('ecoinvent 3.3 cutoff', 'd19e07e04128ff2c265271fb023c2fc5'): 563,\n",
       " ('ecoinvent 3.3 cutoff', '8d654010ef0a9c26361f2de29112dd94'): 564,\n",
       " ('ecoinvent 3.3 cutoff', 'befb4e6b82f86176f2e4be0482fabad9'): 565,\n",
       " ('ecoinvent 3.3 cutoff', 'a3342c279d9c202d20026697eb4d69f7'): 566,\n",
       " ('ecoinvent 3.3 cutoff', 'fe7f5224ec536bc25f94a2e51cedd0e2'): 567,\n",
       " ('ecoinvent 3.3 cutoff', '585c864f875095a2ee3ceb21a686d94c'): 568,\n",
       " ('ecoinvent 3.3 cutoff', 'a23cc524137bb432f0913df7a1303566'): 569,\n",
       " ('ecoinvent 3.3 cutoff', '65a5758ba2b325549861bf61396afe5d'): 570,\n",
       " ('ecoinvent 3.3 cutoff', '6cbfaaddb3fef10734cbedcd89103c6e'): 571,\n",
       " ('ecoinvent 3.3 cutoff', '075a0dd97ca39a554c2fae471b1b12d3'): 572,\n",
       " ('ecoinvent 3.3 cutoff', '2467a23041ff82b7d6a06f351395a4fd'): 573,\n",
       " ('ecoinvent 3.3 cutoff', 'cc896370deb1dd855e19758c490bf558'): 574,\n",
       " ('ecoinvent 3.3 cutoff', '46455a8378d3d9e208c0df1531051bd4'): 575,\n",
       " ('ecoinvent 3.3 cutoff', 'badd6c62d63e34f957e782802845c05e'): 576,\n",
       " ('ecoinvent 3.3 cutoff', '30a87009ec15dfd48a927957394cad30'): 577,\n",
       " ('ecoinvent 3.3 cutoff', '8db5cd125037c1cfa9847fe905d898e8'): 578,\n",
       " ('ecoinvent 3.3 cutoff', '28544ef2f188c194d26128ff74daa7ad'): 579,\n",
       " ('ecoinvent 3.3 cutoff', '47fd87975ba08d356a2735f9105191f4'): 580,\n",
       " ('ecoinvent 3.3 cutoff', 'f56359d343ae143b88436595b5f75ecc'): 581,\n",
       " ('ecoinvent 3.3 cutoff', '5b2aa0efed7edcae59df721de210c7a0'): 582,\n",
       " ('ecoinvent 3.3 cutoff', 'a16aeacb677caea616a069c0338d8ace'): 583,\n",
       " ('ecoinvent 3.3 cutoff', '1156305a629ed02de5de0891d9d2a4e8'): 584,\n",
       " ('ecoinvent 3.3 cutoff', 'ee14facfb1913bb2f1f918bda05674d2'): 585,\n",
       " ('ecoinvent 3.3 cutoff', '8abb94813f3386ecd6d1fc6ed4126cdb'): 586,\n",
       " ('ecoinvent 3.3 cutoff', 'fd8e79177c6270b20264d2f6c9ad8b5f'): 587,\n",
       " ('ecoinvent 3.3 cutoff', '421de0064c36dcb15617d3df5780b6cf'): 588,\n",
       " ('ecoinvent 3.3 cutoff', '647e35a6dbc8522c446f28ebd00a65bf'): 589,\n",
       " ('ecoinvent 3.3 cutoff', '1af944452704ce8c329980a4d6b70c16'): 590,\n",
       " ('ecoinvent 3.3 cutoff', '863c146ec1ed5bff7bd18ec03b9603d4'): 591,\n",
       " ('ecoinvent 3.3 cutoff', '2e40497810ef82aab960f9eca9f38b36'): 592,\n",
       " ('ecoinvent 3.3 cutoff', '8b0d6153a4ffc8e07961733d9f235cfc'): 593,\n",
       " ('ecoinvent 3.3 cutoff', 'c77735f062dc31c70fca245a1fd1c453'): 594,\n",
       " ('ecoinvent 3.3 cutoff', '47039177b0720031a51340cb807e1104'): 595,\n",
       " ('ecoinvent 3.3 cutoff', 'af7a070d2f89a7e144df82bb137cf004'): 596,\n",
       " ('ecoinvent 3.3 cutoff', 'b40cb4fe25fa05f4057b4c82f45509a0'): 597,\n",
       " ('ecoinvent 3.3 cutoff', '969312669d95f1e28fe66fe821bba73c'): 598,\n",
       " ('ecoinvent 3.3 cutoff', 'dc6d15370d3dfc634951c21288a1dac7'): 599,\n",
       " ('ecoinvent 3.3 cutoff', '942c03e7885935db7e05707592ce75e0'): 600,\n",
       " ('ecoinvent 3.3 cutoff', 'cf905330f6816eb7ed9b8d48334ea2a6'): 601,\n",
       " ('ecoinvent 3.3 cutoff', 'fde28316ff3df939816eca83e13c5137'): 602,\n",
       " ('ecoinvent 3.3 cutoff', 'c3d7ad7d8718aab33fdc91a834097d0d'): 603,\n",
       " ('ecoinvent 3.3 cutoff', '91718ad3737fa7f7017ccb92a76b4dd0'): 604,\n",
       " ('ecoinvent 3.3 cutoff', 'e97d091a908edde35760940a73f3fdd2'): 605,\n",
       " ('ecoinvent 3.3 cutoff', '6198d8a4775e533a75a449b7f214fe09'): 606,\n",
       " ('ecoinvent 3.3 cutoff', '4a6dd1a62c74195378618ba69818e599'): 607,\n",
       " ('ecoinvent 3.3 cutoff', 'cdc5852f57d875bfff1629d707381b90'): 608,\n",
       " ('ecoinvent 3.3 cutoff', '7b7963989db3583d0d2a151033901e19'): 609,\n",
       " ('ecoinvent 3.3 cutoff', '96f6ee9db48abecf2034514e9f4d9db1'): 610,\n",
       " ('ecoinvent 3.3 cutoff', '77ba11ee6c77a6c18a29dbebbe724cd0'): 611,\n",
       " ('ecoinvent 3.3 cutoff', 'e39c7a872c9c6db813139f1012e97a63'): 612,\n",
       " ('ecoinvent 3.3 cutoff', '9cc01a8450b8ce901ebeb63f26a809d1'): 613,\n",
       " ('ecoinvent 3.3 cutoff', '71cfafdae1e58e8a7399568e4c48753f'): 614,\n",
       " ('ecoinvent 3.3 cutoff', '9105f3eafa981a4c32523faef05b5b51'): 615,\n",
       " ('ecoinvent 3.3 cutoff', '3ae0f580bd2ffe19bcbf6b9d77ce1d17'): 616,\n",
       " ('ecoinvent 3.3 cutoff', 'c7e9a8b01c30d73639d4979d90692248'): 617,\n",
       " ('ecoinvent 3.3 cutoff', '12c30d61ddfb6202fb41671922942d05'): 618,\n",
       " ('ecoinvent 3.3 cutoff', '1bfe248a797218959bd3a632e4f82093'): 619,\n",
       " ('ecoinvent 3.3 cutoff', '7ac1860400b6dc962b16f7917a62249a'): 620,\n",
       " ('ecoinvent 3.3 cutoff', '4c33454a6d0881309165f66832897f1d'): 621,\n",
       " ('ecoinvent 3.3 cutoff', 'eebec1eb8feb8bc91930669987a8a024'): 622,\n",
       " ('ecoinvent 3.3 cutoff', '6cc57b9b6a9022159fc1788a655e806f'): 623,\n",
       " ('ecoinvent 3.3 cutoff', '399e38798513a484ec303252676e76d7'): 624,\n",
       " ('ecoinvent 3.3 cutoff', '1f21a9876514e65cfe5209ccb82f255a'): 625,\n",
       " ('ecoinvent 3.3 cutoff', 'a94317f776e92b8e26d390c03e06bdf2'): 626,\n",
       " ('ecoinvent 3.3 cutoff', '974f0756551ffc0d98ab76bcaf79ecf7'): 627,\n",
       " ('ecoinvent 3.3 cutoff', '190959c9ac71d3c57c4723fec276a77e'): 628,\n",
       " ('ecoinvent 3.3 cutoff', '15f13cf2926fb849f7313e342b3b5dd0'): 629,\n",
       " ('ecoinvent 3.3 cutoff', 'f452f96ae16528a98d8080e7b66e1fcf'): 630,\n",
       " ('ecoinvent 3.3 cutoff', '2a2ba80b1487f98e1c4cde19c94ab9b5'): 631,\n",
       " ('ecoinvent 3.3 cutoff', 'dc34ad7eb0441630176de3b720f5b2ef'): 632,\n",
       " ('ecoinvent 3.3 cutoff', 'f8a97e1b9f02b04afc19d5f85c3e2ebd'): 633,\n",
       " ('ecoinvent 3.3 cutoff', 'db2893150709879c128fe26f46c2ad23'): 634,\n",
       " ('ecoinvent 3.3 cutoff', '127f8aaab508f04febef0aff04a4df4f'): 635,\n",
       " ('ecoinvent 3.3 cutoff', '8c319ba70269bfcb9a7a26062c86b98f'): 636,\n",
       " ('ecoinvent 3.3 cutoff', '85ffa9639ed1d50ee69b7f6cb7b1cae9'): 637,\n",
       " ('ecoinvent 3.3 cutoff', 'f65455b67c7ba15f2090ffac3af0e0c1'): 638,\n",
       " ('ecoinvent 3.3 cutoff', '8c5dc8f4760607da032eadd81b073bfc'): 639,\n",
       " ('ecoinvent 3.3 cutoff', '00cc9b01692d8ebc6d9bc86fedecdcbe'): 640,\n",
       " ('ecoinvent 3.3 cutoff', '5be06ecd56d88cf75288a3e775b4668c'): 641,\n",
       " ('ecoinvent 3.3 cutoff', 'f3b0b797d11a4588e6f5be1f40888e1c'): 642,\n",
       " ('ecoinvent 3.3 cutoff', '95e36271eba72e4cbe30d45f88514a4a'): 643,\n",
       " ('ecoinvent 3.3 cutoff', 'dbba37b3b3e0ed615fbb6db54b1bd745'): 644,\n",
       " ('ecoinvent 3.3 cutoff', '158c1e15cfb2be26f1d6b6ecf431928d'): 645,\n",
       " ('ecoinvent 3.3 cutoff', 'b0f6c1fa9096545000bd78f96c2d6ea5'): 646,\n",
       " ('ecoinvent 3.3 cutoff', '92aae17a3f7bc9fd6da4faa4df4c1e43'): 647,\n",
       " ('ecoinvent 3.3 cutoff', '3a834f78942fb42267662a40deb657f1'): 648,\n",
       " ('ecoinvent 3.3 cutoff', 'c5e49e417b21ba34b92f234fec9531b5'): 649,\n",
       " ('ecoinvent 3.3 cutoff', 'de5b40ff67a2b2b1765acc646c6d65a8'): 650,\n",
       " ('ecoinvent 3.3 cutoff', '9ebb666047720d225089efaf1744f015'): 651,\n",
       " ('ecoinvent 3.3 cutoff', '37a6812314ff6be538b3a6f244c54205'): 652,\n",
       " ('ecoinvent 3.3 cutoff', '7f44f0b48b666f6cd3d77b9bf2e32e98'): 653,\n",
       " ('ecoinvent 3.3 cutoff', '5ef6feec259be192231cb3bf3f02e154'): 654,\n",
       " ('ecoinvent 3.3 cutoff', '8745c7ec73523aa9b63131f18a1b3f34'): 655,\n",
       " ('ecoinvent 3.3 cutoff', '612701623cd4cb0c420c0880f726c57f'): 656,\n",
       " ('ecoinvent 3.3 cutoff', '1eaea393643b09bb72bac10f9540fa53'): 657,\n",
       " ('ecoinvent 3.3 cutoff', '7d60e233c82ed09ec290f6c09979f7f4'): 658,\n",
       " ('ecoinvent 3.3 cutoff', 'b375af37a7c11ab0b3edf1bed0d68f4b'): 659,\n",
       " ('ecoinvent 3.3 cutoff', '3d43662fb4afa787663759d415be3a84'): 660,\n",
       " ('ecoinvent 3.3 cutoff', 'c366ed51cce46b94b9d70f0ea0cc4899'): 661,\n",
       " ('ecoinvent 3.3 cutoff', '3567b54e46461595c19ca3f2434d67cc'): 662,\n",
       " ('ecoinvent 3.3 cutoff', 'fce977276f6972e043ff53f4fe23a94b'): 663,\n",
       " ('ecoinvent 3.3 cutoff', '108be8d8f03757487aa728f2b853b01a'): 664,\n",
       " ('ecoinvent 3.3 cutoff', '1ba0e5c54b2c252cf3ed4609caff4c9f'): 665,\n",
       " ('ecoinvent 3.3 cutoff', 'b81eb4f0eba6fe4caab1aeafe59383cd'): 666,\n",
       " ('ecoinvent 3.3 cutoff', '26723ec2b767cfdc3aa01b2a290af072'): 667,\n",
       " ('ecoinvent 3.3 cutoff', 'd87ac3bcf0c129be5eccf08006342765'): 668,\n",
       " ('ecoinvent 3.3 cutoff', 'fa356e0de99cc1918eb9ac3524f1a83a'): 669,\n",
       " ('ecoinvent 3.3 cutoff', '6045b4e5345e40c2b20b2b7ad18cb415'): 670,\n",
       " ('ecoinvent 3.3 cutoff', '3d32a8b1041cde8ab599ae14361de285'): 671,\n",
       " ('ecoinvent 3.3 cutoff', '44b6e5d605a82bbca86cb55751950d68'): 672,\n",
       " ('ecoinvent 3.3 cutoff', 'e5b5bdde812c017a9540683a2792400a'): 673,\n",
       " ('ecoinvent 3.3 cutoff', '0e555c903d593e79f21a29b47dc73da8'): 674,\n",
       " ('ecoinvent 3.3 cutoff', '8098abe3d6f142a14d38e9618c6fd5e3'): 675,\n",
       " ('ecoinvent 3.3 cutoff', '08ecadb76cc84aa6e71317ab4c20cbdf'): 676,\n",
       " ('ecoinvent 3.3 cutoff', '612785b01ba7404aeac17d5b8428dbb8'): 677,\n",
       " ('ecoinvent 3.3 cutoff', '708d190da0e7b38aedb409714a399276'): 678,\n",
       " ('ecoinvent 3.3 cutoff', '60d0cde3a6675c8af743b4c4a15c11fe'): 679,\n",
       " ('ecoinvent 3.3 cutoff', 'beb6abc6d65a0090e081ff53c637b5ad'): 680,\n",
       " ('ecoinvent 3.3 cutoff', '96d6b660111d37da8e3717d0009489f8'): 681,\n",
       " ('ecoinvent 3.3 cutoff', '416e74a77c404e157fef5c74f3850b3d'): 682,\n",
       " ('ecoinvent 3.3 cutoff', '1675f921997034028b4ebf98c87c1b1a'): 683,\n",
       " ('ecoinvent 3.3 cutoff', '78d264552b673b4ed637fa89e22d71cb'): 684,\n",
       " ('ecoinvent 3.3 cutoff', '0b7b45134946b51903111ca3f05ab5df'): 685,\n",
       " ('ecoinvent 3.3 cutoff', 'cefd4e2248f0e5f3f50ac82c761d3613'): 686,\n",
       " ('ecoinvent 3.3 cutoff', '6e43b757c18f13b2839b706b8cdd65bf'): 687,\n",
       " ('ecoinvent 3.3 cutoff', '03db60b6ba9756e71e14d3377fdd8e60'): 688,\n",
       " ('ecoinvent 3.3 cutoff', 'dbc007dada7d5c4f6e6c65deb2f5cc5c'): 689,\n",
       " ('ecoinvent 3.3 cutoff', '32a0f23ca872a2bc481e4eb38ce12b44'): 690,\n",
       " ('ecoinvent 3.3 cutoff', '0ced4e8a5fded662d92c0f8d1f52edf7'): 691,\n",
       " ('ecoinvent 3.3 cutoff', 'f2d2129ba490a5445a8ca8818d0e4dba'): 692,\n",
       " ('ecoinvent 3.3 cutoff', '0207da197db62fbc9cba41212b601b0d'): 693,\n",
       " ('ecoinvent 3.3 cutoff', '4704f074249ff0ed4cd98d3dd6891b13'): 694,\n",
       " ('ecoinvent 3.3 cutoff', '8841bc30446f933c4c3664a0adf40419'): 695,\n",
       " ('ecoinvent 3.3 cutoff', '341ba361c519530a1477a34b150764fa'): 696,\n",
       " ('ecoinvent 3.3 cutoff', 'e707e92c67873fbef254a5237125f534'): 697,\n",
       " ('ecoinvent 3.3 cutoff', '30bafa577a23ead7f234757768d5f001'): 698,\n",
       " ('ecoinvent 3.3 cutoff', 'ed52e6b36474b0b1267ddb4f90486267'): 699,\n",
       " ('ecoinvent 3.3 cutoff', '1545a2e1ffb20174f6b77856e38e188b'): 700,\n",
       " ('ecoinvent 3.3 cutoff', '5b72782a8e1721d93acefe30117af901'): 701,\n",
       " ('ecoinvent 3.3 cutoff', '9634a617d294ecad2050236ff5e4f310'): 702,\n",
       " ('ecoinvent 3.3 cutoff', 'ce19c0f7d4053480346c3428197661aa'): 703,\n",
       " ('ecoinvent 3.3 cutoff', 'a5224a93eed74efddecfb6b1e501d8fd'): 704,\n",
       " ('ecoinvent 3.3 cutoff', '0ec28f6dcf1cc711cd1d633eedb78cad'): 705,\n",
       " ('ecoinvent 3.3 cutoff', 'daa722a79976762dccfc8da6119cd2c6'): 706,\n",
       " ('ecoinvent 3.3 cutoff', '858e1362bdbb470359efc3aa8021c0c9'): 707,\n",
       " ('ecoinvent 3.3 cutoff', 'd222e490bea547a4b86e56c94f8f1a55'): 708,\n",
       " ('ecoinvent 3.3 cutoff', 'eae8849ae2a4496c0e7ead33173f1b5f'): 709,\n",
       " ('ecoinvent 3.3 cutoff', '2d1c86da7b59baad58f4e51a39ce5e7d'): 710,\n",
       " ('ecoinvent 3.3 cutoff', 'b537d2ee85afdd7044551acf59898838'): 711,\n",
       " ('ecoinvent 3.3 cutoff', '358f70ad9cdb5122795bb9f0eb0e8e39'): 712,\n",
       " ('ecoinvent 3.3 cutoff', 'bff58196b04eca5784d22b1dc60dc2a2'): 713,\n",
       " ('ecoinvent 3.3 cutoff', '4060ef6c769449fcd56ec0ccf64d5c99'): 714,\n",
       " ('ecoinvent 3.3 cutoff', '9d80b24f943c9ec0c5ed714819937f5b'): 715,\n",
       " ('ecoinvent 3.3 cutoff', 'cdf37aeed445a954ec0ab9c146754913'): 716,\n",
       " ('ecoinvent 3.3 cutoff', 'c413655dce147d98aa5b9a1ccdcd02d3'): 717,\n",
       " ('ecoinvent 3.3 cutoff', 'b50556172ae1f424191443482991a6e1'): 718,\n",
       " ('ecoinvent 3.3 cutoff', 'c9de5a9c579d92f1a44137f5a8f1208b'): 719,\n",
       " ('ecoinvent 3.3 cutoff', '6c74fbe65d984ae70b66f5fbb2a84311'): 720,\n",
       " ('ecoinvent 3.3 cutoff', 'c33cbc7cf7f7be19580453af9b9a6fa0'): 721,\n",
       " ('ecoinvent 3.3 cutoff', 'da283263c625fc3edf4509020aeb9f61'): 722,\n",
       " ('ecoinvent 3.3 cutoff', 'ab2a0e19d5a0546771d03277b921204c'): 723,\n",
       " ('ecoinvent 3.3 cutoff', 'b86d3fda941240675cbd526b97e2b236'): 724,\n",
       " ('ecoinvent 3.3 cutoff', 'a5d38bdc83c9a7497d64c8e5be485b60'): 725,\n",
       " ('ecoinvent 3.3 cutoff', 'f902a534bc27c03c6aaa37ec49c86060'): 726,\n",
       " ('ecoinvent 3.3 cutoff', '5ca50d6287f377a5e56aee744d77814f'): 727,\n",
       " ('ecoinvent 3.3 cutoff', '47c41a76f2d788c227aa8c4c3120c14b'): 728,\n",
       " ('ecoinvent 3.3 cutoff', '4bc96d98044b29e572dd9b316ec5d145'): 729,\n",
       " ('ecoinvent 3.3 cutoff', 'f555e44af9258c5c50b929db5298b425'): 730,\n",
       " ('ecoinvent 3.3 cutoff', '9594a64034b6d0c9eb445285ee8d910a'): 731,\n",
       " ('ecoinvent 3.3 cutoff', 'c47877ada700d16a7afaab456cc5914e'): 732,\n",
       " ('ecoinvent 3.3 cutoff', '9d10838d53c6cec226bccf5555968ab7'): 733,\n",
       " ('ecoinvent 3.3 cutoff', 'b4d192e3475d6806c7860ad110f4e9b1'): 734,\n",
       " ('ecoinvent 3.3 cutoff', 'f285691699e188994ac1fb9bdcbd8bc0'): 735,\n",
       " ('ecoinvent 3.3 cutoff', '8e006a86878e6da1405263ed5d1b5863'): 736,\n",
       " ('ecoinvent 3.3 cutoff', '76aec599bf2d4a9bf147ffc670e833d5'): 737,\n",
       " ('ecoinvent 3.3 cutoff', 'e7cb82eaf882871bfad60d09d26d6255'): 738,\n",
       " ('ecoinvent 3.3 cutoff', '76b58f0483461731c88c8b1019b3fa6a'): 739,\n",
       " ('ecoinvent 3.3 cutoff', '6d2dbcd2cfc05ece508ad38b4a7881ed'): 740,\n",
       " ('ecoinvent 3.3 cutoff', 'd96d4424ac6a1ff79a3159785077baeb'): 741,\n",
       " ('ecoinvent 3.3 cutoff', '61e3182362cc04f71a4f80878f729aaa'): 742,\n",
       " ('ecoinvent 3.3 cutoff', 'cc300ad2ee90dec823b51fb9f139bf50'): 743,\n",
       " ('ecoinvent 3.3 cutoff', '9316f62c5ed175549cc0f33e7a8c5dab'): 744,\n",
       " ('ecoinvent 3.3 cutoff', '0c06f037a3359e7b74fff795509c58da'): 745,\n",
       " ('ecoinvent 3.3 cutoff', 'a2bae345049b7ed96d833945120d21e5'): 746,\n",
       " ('ecoinvent 3.3 cutoff', '45c2e0347f1cb065436b32ec89f0dfbb'): 747,\n",
       " ('ecoinvent 3.3 cutoff', 'def4f895df9afd07da4da25112eb7b5f'): 748,\n",
       " ('ecoinvent 3.3 cutoff', '237b07858d987e1721951b985fd5e523'): 749,\n",
       " ('ecoinvent 3.3 cutoff', 'a940fa79d7042a3edf82feb9178e0a03'): 750,\n",
       " ('ecoinvent 3.3 cutoff', 'a26a92becd85459ecb4b24834c2019a4'): 751,\n",
       " ('ecoinvent 3.3 cutoff', '8f6da14cbe886c0025daed643ed18d5d'): 752,\n",
       " ('ecoinvent 3.3 cutoff', '1a833ce58418ec734d3d7e3c81f50cf9'): 753,\n",
       " ('ecoinvent 3.3 cutoff', 'b253a076c35436c219609aeb87601c54'): 754,\n",
       " ('ecoinvent 3.3 cutoff', '65b8b27b2276b5e164bfb49339e598a8'): 755,\n",
       " ('ecoinvent 3.3 cutoff', '42840c432c9f1db668656d11ea04a974'): 756,\n",
       " ('ecoinvent 3.3 cutoff', 'a7d4a260d34616af60d5f8c91b812f2e'): 757,\n",
       " ('ecoinvent 3.3 cutoff', 'e55ff212a3f310206f97e43ad3cb279e'): 758,\n",
       " ('ecoinvent 3.3 cutoff', '189ab1d9f303739d41bbf609538c674a'): 759,\n",
       " ('ecoinvent 3.3 cutoff', '86392511e6b4e81fd722cb198ad8074a'): 760,\n",
       " ('ecoinvent 3.3 cutoff', 'dad304c52477034a7d0be7c00bf2923d'): 761,\n",
       " ('ecoinvent 3.3 cutoff', '5ac21ba5b15327643632dd4a70608410'): 762,\n",
       " ('ecoinvent 3.3 cutoff', '99c1ab6d0e3d90f8e1028cf5bd1e15db'): 763,\n",
       " ('ecoinvent 3.3 cutoff', '7c8bec41d8e2f85ce37718c01336990f'): 764,\n",
       " ('ecoinvent 3.3 cutoff', '49783f26a7bfd3863d712b0c33b5b189'): 765,\n",
       " ('ecoinvent 3.3 cutoff', 'e852fd0d39ff2bf036afd1fd8617bd72'): 766,\n",
       " ('ecoinvent 3.3 cutoff', 'a5a95c7b1e90627d8f1ee0d93fb461fe'): 767,\n",
       " ('ecoinvent 3.3 cutoff', '7ed0be30509309b35437389085061709'): 768,\n",
       " ('ecoinvent 3.3 cutoff', '4fc0f95305b047963b65648fba5a56c9'): 769,\n",
       " ('ecoinvent 3.3 cutoff', '5a68ad74a4e1a0e75a6da71e6163528e'): 770,\n",
       " ('ecoinvent 3.3 cutoff', '704af8e83afece365761998f8b2cf5fb'): 771,\n",
       " ('ecoinvent 3.3 cutoff', '35db689794b603087a8d95303b503e4f'): 772,\n",
       " ('ecoinvent 3.3 cutoff', 'f994093785aa854cf25f697cdaabcfbc'): 773,\n",
       " ('ecoinvent 3.3 cutoff', '238ad4af90bf588a315fd67e064b2abc'): 774,\n",
       " ('ecoinvent 3.3 cutoff', 'a0d04c3c7490cda973ef631b51d50ebc'): 775,\n",
       " ('ecoinvent 3.3 cutoff', '935a9f1c3aa0b5137bb6d3b2537485dc'): 776,\n",
       " ('ecoinvent 3.3 cutoff', '82651412825b3471ed963beee17c5233'): 777,\n",
       " ('ecoinvent 3.3 cutoff', 'de795c5023653bf5535c007aa0b9ca13'): 778,\n",
       " ('ecoinvent 3.3 cutoff', 'ad1d34d1423748b7d7e95cd711af591a'): 779,\n",
       " ('ecoinvent 3.3 cutoff', '5abb861f1236891466c0b27b7eec2a82'): 780,\n",
       " ('ecoinvent 3.3 cutoff', '1c2497db9de804e0072e57e3becef633'): 781,\n",
       " ('ecoinvent 3.3 cutoff', 'aebf60ed4581d3ef1025c3dfd57f49d5'): 782,\n",
       " ('ecoinvent 3.3 cutoff', '093e93c6ceadce7215ef579826f5949e'): 783,\n",
       " ('ecoinvent 3.3 cutoff', '9a8ce80fb39d0d5a21f37db0d1a8ad95'): 784,\n",
       " ('ecoinvent 3.3 cutoff', '655d69b82ff55e7321df1686e5045dd5'): 785,\n",
       " ('ecoinvent 3.3 cutoff', 'f3b204d51637d0aca27a8d35042e4344'): 786,\n",
       " ('ecoinvent 3.3 cutoff', 'f5b6c78089e6cc38c3d3283863a501b6'): 787,\n",
       " ('ecoinvent 3.3 cutoff', '2d8df24a30a13d3a5a00ddf5c7d6929f'): 788,\n",
       " ('ecoinvent 3.3 cutoff', '8a964f72ba16a6c33bed100ad359d324'): 789,\n",
       " ('ecoinvent 3.3 cutoff', '6afb794865b27192c16c55bea83d709d'): 790,\n",
       " ('ecoinvent 3.3 cutoff', '293c9f6562344d50a4dc526f0ff6d601'): 791,\n",
       " ('ecoinvent 3.3 cutoff', 'bfd6eef9bb3036750b6b15fca7c3ba2f'): 792,\n",
       " ('ecoinvent 3.3 cutoff', '8f0eb14afacd0571297c58bdd652d63a'): 793,\n",
       " ('ecoinvent 3.3 cutoff', '4afa9e8c12b06f51e741d5cb5a85f62a'): 794,\n",
       " ('ecoinvent 3.3 cutoff', 'b6e1f431863e010d15457ff9fca38ebb'): 795,\n",
       " ('ecoinvent 3.3 cutoff', '10195757af8eec8d087cca5588682106'): 796,\n",
       " ('ecoinvent 3.3 cutoff', '1052d87d94edec8c544dd376d5788593'): 797,\n",
       " ('ecoinvent 3.3 cutoff', 'b51f696caf9cdc387e647d17176d202c'): 798,\n",
       " ('ecoinvent 3.3 cutoff', '90819f6392ee5ab8e801c74c56caee5d'): 799,\n",
       " ('ecoinvent 3.3 cutoff', 'fee51b35aeb1bc4ba48036a464add514'): 800,\n",
       " ('ecoinvent 3.3 cutoff', '79d5a1c3383acec29e697aeb40b93739'): 801,\n",
       " ('ecoinvent 3.3 cutoff', '28f321b0810b4c383cd9f7040c38f232'): 802,\n",
       " ('ecoinvent 3.3 cutoff', '0aca539dec41ab71a10c69de9d1eca2e'): 803,\n",
       " ('ecoinvent 3.3 cutoff', '2c953c2b45276242f986d699ae04f22b'): 804,\n",
       " ('ecoinvent 3.3 cutoff', '0559dc9840d7dc0eb10a21f83b5bd4d2'): 805,\n",
       " ('ecoinvent 3.3 cutoff', '1fc6683cc1284b9a3ceca09e654d56e3'): 806,\n",
       " ('ecoinvent 3.3 cutoff', 'a0306269c9a87828033ad93a9e2e9f18'): 807,\n",
       " ('ecoinvent 3.3 cutoff', '051754be2e1d6ee92c23831f2e7e5bce'): 808,\n",
       " ('ecoinvent 3.3 cutoff', '21b5e1aae7c989c54057f468bb0975cd'): 809,\n",
       " ('ecoinvent 3.3 cutoff', '26f9e0c892d89d4150af59f8a08d663a'): 810,\n",
       " ('ecoinvent 3.3 cutoff', '1c952245e50b928b727a7dcdc2ebb8f6'): 811,\n",
       " ('ecoinvent 3.3 cutoff', 'd1732ca9c53798129d2f9d04c53f8527'): 812,\n",
       " ('ecoinvent 3.3 cutoff', 'bdaca4eb9a5ef4b87b52bea0a80045d9'): 813,\n",
       " ('ecoinvent 3.3 cutoff', '134821e177c31bf5207ff52f65392e50'): 814,\n",
       " ('ecoinvent 3.3 cutoff', 'faaae3c375418adbc9f38298f2a09652'): 815,\n",
       " ('ecoinvent 3.3 cutoff', '838691ae3e51761af32464fc3b14ad37'): 816,\n",
       " ('ecoinvent 3.3 cutoff', '3faf7c7e3d78fb3013fc873c56c60714'): 817,\n",
       " ('ecoinvent 3.3 cutoff', '5d87a46b283715950abdaecc06513969'): 818,\n",
       " ('ecoinvent 3.3 cutoff', 'ea07da07a9968ef0bc66bc848775511a'): 819,\n",
       " ('ecoinvent 3.3 cutoff', 'a72419d1259f62f5de970b3f15dd0bb9'): 820,\n",
       " ('ecoinvent 3.3 cutoff', '0deefc3cff2cb2609e707b7af51787c5'): 821,\n",
       " ('ecoinvent 3.3 cutoff', 'c203484b41a46f2af3a78c5b3d289e7e'): 822,\n",
       " ('ecoinvent 3.3 cutoff', 'aecb86b69b5842c377c92e357c88e399'): 823,\n",
       " ('ecoinvent 3.3 cutoff', '44d30bf7e3a1142ce1eda8013c095921'): 824,\n",
       " ('ecoinvent 3.3 cutoff', '5403cb805b133a12898632637cc5f6ac'): 825,\n",
       " ('ecoinvent 3.3 cutoff', 'd8045681b2a6aba559eb4f188492cca6'): 826,\n",
       " ('ecoinvent 3.3 cutoff', 'f5cb16ef90b52d9b6585dafba11b2cfb'): 827,\n",
       " ('ecoinvent 3.3 cutoff', '4414eda904e211b648cef49f1ebad75b'): 828,\n",
       " ('ecoinvent 3.3 cutoff', 'eed68de4a2bd068df2e0530fed10330f'): 829,\n",
       " ('ecoinvent 3.3 cutoff', 'aea8d2c045bc74fd6b2e33f3eb9a6f3e'): 830,\n",
       " ('ecoinvent 3.3 cutoff', '8531c60514812ec00299937ab7f776ae'): 831,\n",
       " ('ecoinvent 3.3 cutoff', '11cfb03acedb484db264453ef9acf976'): 832,\n",
       " ('ecoinvent 3.3 cutoff', '39f90f54acedd28c8d7e367623838ebb'): 833,\n",
       " ('ecoinvent 3.3 cutoff', 'e381c6ad69d87e28cf1861aaa3581531'): 834,\n",
       " ('ecoinvent 3.3 cutoff', 'f0e77636484eb15eeade1ab770ebb954'): 835,\n",
       " ('ecoinvent 3.3 cutoff', '61e6577bb11b96061a2ffd53dc648f81'): 836,\n",
       " ('ecoinvent 3.3 cutoff', '213566181409df6664ef75caa6b6b7e4'): 837,\n",
       " ('ecoinvent 3.3 cutoff', '59df0b139223651d7feb9f4fa40fe2a5'): 838,\n",
       " ('ecoinvent 3.3 cutoff', '1716dfc766dbafab79b98dbdb95e3687'): 839,\n",
       " ('ecoinvent 3.3 cutoff', '1e66891565977cb8f2cf6392f4970ce4'): 840,\n",
       " ('ecoinvent 3.3 cutoff', 'e7226cfc5d929a875776225c655f99f8'): 841,\n",
       " ('ecoinvent 3.3 cutoff', '27929712175ce7d3b3e151089697ce4b'): 842,\n",
       " ('ecoinvent 3.3 cutoff', '74ce98823eb94cb57c1aac74070cdbe4'): 843,\n",
       " ('ecoinvent 3.3 cutoff', 'a3f89d31975d09f9225a00843f8db8d3'): 844,\n",
       " ('ecoinvent 3.3 cutoff', 'cf5ddf4f6c34dd3027a58f715a69b04e'): 845,\n",
       " ('ecoinvent 3.3 cutoff', '4294efdad21990547c3b575aac67e73d'): 846,\n",
       " ('ecoinvent 3.3 cutoff', 'ac29689c9a40732a5f384a8fc5e951f2'): 847,\n",
       " ('ecoinvent 3.3 cutoff', '8974da9a42c04397c0848ad366700cdc'): 848,\n",
       " ('ecoinvent 3.3 cutoff', 'd46d03c6caa3d768d51d69b69ebd0831'): 849,\n",
       " ('ecoinvent 3.3 cutoff', '13d6f57e7d7e8c18fdbdb401a495f458'): 850,\n",
       " ('ecoinvent 3.3 cutoff', '46fabbe9d7c4211bd013ba7ed404a250'): 851,\n",
       " ('ecoinvent 3.3 cutoff', 'b12fd04c82f6e7387e83b48c18d2f7cc'): 852,\n",
       " ('ecoinvent 3.3 cutoff', 'fb73ea904e22125b547efe6f95c2fc8b'): 853,\n",
       " ('ecoinvent 3.3 cutoff', '24b2ba6fe094460b221201baa089280b'): 854,\n",
       " ('ecoinvent 3.3 cutoff', '8830a62040741d568419f211cc286f4a'): 855,\n",
       " ('ecoinvent 3.3 cutoff', '2c7917f946a006d99992eeb0b9e167f2'): 856,\n",
       " ('ecoinvent 3.3 cutoff', '144413faeb37b9c7e62c3872f8078e5a'): 857,\n",
       " ('ecoinvent 3.3 cutoff', '73ab7172ce94a5efba813d689384d86e'): 858,\n",
       " ('ecoinvent 3.3 cutoff', '1dca1ad0dd8cb23ea9fce650017ba284'): 859,\n",
       " ('ecoinvent 3.3 cutoff', 'ac06ec908f60cf11bbb5f570fccbf758'): 860,\n",
       " ('ecoinvent 3.3 cutoff', 'd458e171a1d6f34e5694d1ba63a8cfe8'): 861,\n",
       " ('ecoinvent 3.3 cutoff', '04a504e0c3bf8f4bcf2e585fd9587658'): 862,\n",
       " ('ecoinvent 3.3 cutoff', 'ff70b708db9a4f9138ef1c377ed3108f'): 863,\n",
       " ('ecoinvent 3.3 cutoff', 'a0354fc496ea74d8063070161d5fe1b9'): 864,\n",
       " ('ecoinvent 3.3 cutoff', 'a367144b17b12b4bc87d87db99a00ea3'): 865,\n",
       " ('ecoinvent 3.3 cutoff', '835018b691c6a4cccde8d0df14aad200'): 866,\n",
       " ('ecoinvent 3.3 cutoff', '37b5a29cb7fb36e277b495ad322259d5'): 867,\n",
       " ('ecoinvent 3.3 cutoff', '9bf3120ad516a852c49377b71c1253e4'): 868,\n",
       " ('ecoinvent 3.3 cutoff', '57572f283157ec4aa831978ffc18f72d'): 869,\n",
       " ('ecoinvent 3.3 cutoff', '3bd5e16278a8519cc543d58a44dc7efe'): 870,\n",
       " ('ecoinvent 3.3 cutoff', '6ff999ff0977a984d554e0497006c90e'): 871,\n",
       " ('ecoinvent 3.3 cutoff', '61bc33a60e2507d41512003c04c9e63f'): 872,\n",
       " ('ecoinvent 3.3 cutoff', '6db00e6b71712d6a720fc64381c38349'): 873,\n",
       " ('ecoinvent 3.3 cutoff', '0f14c7d1b98ac750ef14835e05e3bb58'): 874,\n",
       " ('ecoinvent 3.3 cutoff', '66faa88a50cb8cdac79109c7c0bb7f28'): 875,\n",
       " ('ecoinvent 3.3 cutoff', 'c4bea5f8c2f105ff396f9b596739ef21'): 876,\n",
       " ('ecoinvent 3.3 cutoff', '18227138a9d43d14264bc46a1ae9f840'): 877,\n",
       " ('ecoinvent 3.3 cutoff', 'd6fc3aa2620b9eb7d5f647423e2d2550'): 878,\n",
       " ('ecoinvent 3.3 cutoff', '429b1b75e9f238c077f06c1ac9326117'): 879,\n",
       " ('ecoinvent 3.3 cutoff', '77ec727c5640fe74103b24dbfb52ce4c'): 880,\n",
       " ('ecoinvent 3.3 cutoff', '31026506e286730834b3e4148c2a298c'): 881,\n",
       " ('ecoinvent 3.3 cutoff', '526dc329cf4d18eaf7419cc39f48728b'): 882,\n",
       " ('ecoinvent 3.3 cutoff', '1d76d0cc952747006fdd421803ea2711'): 883,\n",
       " ('ecoinvent 3.3 cutoff', 'fa72230cb3d1ee86492805848c5eb160'): 884,\n",
       " ('ecoinvent 3.3 cutoff', 'e59ea10d8383520b7fa441eabdce0e85'): 885,\n",
       " ('ecoinvent 3.3 cutoff', '1f56c543123070134f344faf8394b1ec'): 886,\n",
       " ('ecoinvent 3.3 cutoff', 'a27a98770c1a034fec5e4733d32f23ee'): 887,\n",
       " ('ecoinvent 3.3 cutoff', '259a4d1033644335c0cf3dfc17c1988c'): 888,\n",
       " ('ecoinvent 3.3 cutoff', 'a65a93bcac312ce302dda38f00bf2e14'): 889,\n",
       " ('ecoinvent 3.3 cutoff', '48a7281a4646ada5b2142dc946c8cdd5'): 890,\n",
       " ('ecoinvent 3.3 cutoff', '2b2ef30aed2bd78560ca100a832c006d'): 891,\n",
       " ('ecoinvent 3.3 cutoff', '3f56e0c1fa214a6d0dd10ae2eb6f8b0c'): 892,\n",
       " ('ecoinvent 3.3 cutoff', '36704b0f9c1ce1c02e2c0f79a0e4b247'): 893,\n",
       " ('ecoinvent 3.3 cutoff', '2e199a020ae63566162270820a8a72e1'): 894,\n",
       " ('ecoinvent 3.3 cutoff', 'd713d869cd59ebca33432b3d77f71764'): 895,\n",
       " ('ecoinvent 3.3 cutoff', '7cd0c97c7c6ae8eaeb2ef1f9477a5c62'): 896,\n",
       " ('ecoinvent 3.3 cutoff', '2359d336e069ba51b0b4715b092cdbda'): 897,\n",
       " ('ecoinvent 3.3 cutoff', '4d751a1e257b0b3c0052b106772df6fa'): 898,\n",
       " ('ecoinvent 3.3 cutoff', '5c0ff6a08ef4130cf0768b94053e11ed'): 899,\n",
       " ('ecoinvent 3.3 cutoff', '00d719e5d0e73b5a4577cd1a00649dbd'): 900,\n",
       " ('ecoinvent 3.3 cutoff', 'cc8a3e4b52a7f7b54d682802247e6666'): 901,\n",
       " ('ecoinvent 3.3 cutoff', '26a5fa1d0f57062f0cf231b4bf48b071'): 902,\n",
       " ('ecoinvent 3.3 cutoff', '75d95660ceafd41eff6a2def34f2bdd5'): 903,\n",
       " ('ecoinvent 3.3 cutoff', '17535fe69b7eb1e7443c9ea942d43a87'): 904,\n",
       " ('ecoinvent 3.3 cutoff', '283594d660ad90b8a82cbdb5aa1d7166'): 905,\n",
       " ('ecoinvent 3.3 cutoff', '0a9383274163d66eccb1711fc1e70516'): 906,\n",
       " ('ecoinvent 3.3 cutoff', 'f7d32a5dd1597ce9ea8002bc38d45b81'): 907,\n",
       " ('ecoinvent 3.3 cutoff', '926dc03b5acfd2d7d94c170d2d903775'): 908,\n",
       " ('ecoinvent 3.3 cutoff', 'cab7b81fdf35116e3770668d8db6203e'): 909,\n",
       " ('ecoinvent 3.3 cutoff', 'e15e6cf2fb503ba8f63f899cb8c7ec4c'): 910,\n",
       " ('ecoinvent 3.3 cutoff', '2de348c51b7ba906b35fe353c3347249'): 911,\n",
       " ('ecoinvent 3.3 cutoff', '7b1c011cd98a1fcb7d266f76c5203cb6'): 912,\n",
       " ('ecoinvent 3.3 cutoff', 'dee7cc5bacc23c36fe6a00e27774ba9a'): 913,\n",
       " ('ecoinvent 3.3 cutoff', '8dbba53466f4bd5468c06ba51f2729bf'): 914,\n",
       " ('ecoinvent 3.3 cutoff', '59a55b7b9e54fd37f1837944eccb4b31'): 915,\n",
       " ('ecoinvent 3.3 cutoff', 'c30a2aa0a85470b67689433c3281e587'): 916,\n",
       " ('ecoinvent 3.3 cutoff', '7a78cd30093ffdb683df6dacc9ea0c47'): 917,\n",
       " ('ecoinvent 3.3 cutoff', '24691f71df29ddcc507f8727f79fffb3'): 918,\n",
       " ('ecoinvent 3.3 cutoff', '9486d7c75cdfbdf478f4377cd77d9ac5'): 919,\n",
       " ('ecoinvent 3.3 cutoff', 'f9054df5c439e975d411fa3325ea1134'): 920,\n",
       " ('ecoinvent 3.3 cutoff', '02199b91cac2db326ccc5e694b5ef0db'): 921,\n",
       " ('ecoinvent 3.3 cutoff', '78546cf44a80b05173d3308bcd26bc36'): 922,\n",
       " ('ecoinvent 3.3 cutoff', 'f505da60cee056d2e7400407ebdd76c6'): 923,\n",
       " ('ecoinvent 3.3 cutoff', 'fa38c3323a9cc6079b4acb05e089c985'): 924,\n",
       " ('ecoinvent 3.3 cutoff', 'a188acd74f6ba8fd80857e69624a4618'): 925,\n",
       " ('ecoinvent 3.3 cutoff', '5d3bf6a5563438741fc4d673ab923f79'): 926,\n",
       " ('ecoinvent 3.3 cutoff', 'd4d678cbab360ebc7ce6cf4c57ea7d27'): 927,\n",
       " ('ecoinvent 3.3 cutoff', '4fc867246d7e6a9c3a2f8ef44307e661'): 928,\n",
       " ('ecoinvent 3.3 cutoff', '4de0cf40d29f76cf4ffc74d0cf3987db'): 929,\n",
       " ('ecoinvent 3.3 cutoff', '549deefb01a7f567e4502b6b3429556d'): 930,\n",
       " ('ecoinvent 3.3 cutoff', 'a5ec74ec30a2c0646b372e74e75625c8'): 931,\n",
       " ('ecoinvent 3.3 cutoff', 'abe58257554330b235726ba2c9c43de3'): 932,\n",
       " ('ecoinvent 3.3 cutoff', '917bb1d3fa506910f7f2731c53ceb125'): 933,\n",
       " ('ecoinvent 3.3 cutoff', '83e283d00e5e7e852a22a4e4d2f431c7'): 934,\n",
       " ('ecoinvent 3.3 cutoff', '799317ca6fc3caa92a11873111982aab'): 935,\n",
       " ('ecoinvent 3.3 cutoff', '8dbcb31953684193928214525dbb2e07'): 936,\n",
       " ('ecoinvent 3.3 cutoff', 'd05ec61d746871f8619ed547a7f16556'): 937,\n",
       " ('ecoinvent 3.3 cutoff', 'fbf2136b1e1b233b481d5c4c25adbfb3'): 938,\n",
       " ('ecoinvent 3.3 cutoff', 'cb9718b5842452c790ae7f733ced2663'): 939,\n",
       " ('ecoinvent 3.3 cutoff', '0f8f6ead484c3f6f165ad1b7e96ff5de'): 940,\n",
       " ('ecoinvent 3.3 cutoff', '479a82c58ab780393f4e5b4d23a8952b'): 941,\n",
       " ('ecoinvent 3.3 cutoff', '1af3a721a551ea68df1d8c693ac5ac88'): 942,\n",
       " ('ecoinvent 3.3 cutoff', 'aa2bedf7f1ae3cd005dd653dafd24f7e'): 943,\n",
       " ('ecoinvent 3.3 cutoff', 'b533d5afb87ff884b033001b56045a66'): 944,\n",
       " ('ecoinvent 3.3 cutoff', 'afc6fc6bca0805959ee3b0a7e3939d08'): 945,\n",
       " ('ecoinvent 3.3 cutoff', '02d583bd90599090f61153207f34eecf'): 946,\n",
       " ('ecoinvent 3.3 cutoff', '863bc0275d2c99a204b28b52165f4690'): 947,\n",
       " ('ecoinvent 3.3 cutoff', '68b91c7a15be3b20fa8b068ff273f053'): 948,\n",
       " ('ecoinvent 3.3 cutoff', '024f93b54d25c7614dd1717ba2b950b0'): 949,\n",
       " ('ecoinvent 3.3 cutoff', 'e7ce9f2ca67325e80578648c1e1d864c'): 950,\n",
       " ('ecoinvent 3.3 cutoff', '9f911f3d4d04994de29778dee1d1842d'): 951,\n",
       " ('ecoinvent 3.3 cutoff', '3a6778a279ff9bb61de4e47f03f974c6'): 952,\n",
       " ('ecoinvent 3.3 cutoff', '6296d77881fa4e828c9f7a55f317c2fb'): 953,\n",
       " ('ecoinvent 3.3 cutoff', '0fce25df01f0b777f5bbf3cf483be20f'): 954,\n",
       " ('ecoinvent 3.3 cutoff', 'b28814ee2c2b6ad12197dfdd1798be8b'): 955,\n",
       " ('ecoinvent 3.3 cutoff', 'b512903ab6e64c7976e72c9b6f7461ae'): 956,\n",
       " ('ecoinvent 3.3 cutoff', 'be9dda851fdcda65e6ae1035c4ae1d72'): 957,\n",
       " ('ecoinvent 3.3 cutoff', 'd42a48d957d25c2f6e710345941bf015'): 958,\n",
       " ('ecoinvent 3.3 cutoff', 'd849c7d150d5d8966fd8074f1021400e'): 959,\n",
       " ('ecoinvent 3.3 cutoff', '54b11ef7d19f7516782a11ebe25af03c'): 960,\n",
       " ('ecoinvent 3.3 cutoff', '6a7bf5f9b135e13d2ad1ff19e1ea3038'): 961,\n",
       " ('ecoinvent 3.3 cutoff', '2073ca33963ad9ed89c8679ab0cacdff'): 962,\n",
       " ('ecoinvent 3.3 cutoff', '95e63dc67d3e876b4d040ae052f0346c'): 963,\n",
       " ('ecoinvent 3.3 cutoff', 'f10b62ce2741c024a65428909b9aa3d8'): 964,\n",
       " ('ecoinvent 3.3 cutoff', '0d79afc0525dbf9f87a8d5e00364af83'): 965,\n",
       " ('ecoinvent 3.3 cutoff', '76db91ae0aaf03214d530ead23619866'): 966,\n",
       " ('ecoinvent 3.3 cutoff', '10a692502c135f749ebfd8e0b505d82e'): 967,\n",
       " ('ecoinvent 3.3 cutoff', '081702ffbb6297ea769e3126e2aaec50'): 968,\n",
       " ('ecoinvent 3.3 cutoff', '01d2bd186a0b7dff380ec3a5375e5de4'): 969,\n",
       " ('ecoinvent 3.3 cutoff', '533115d1f8e036f3b847ed52c0e2633d'): 970,\n",
       " ('ecoinvent 3.3 cutoff', '09c051767e6a4edeaca4021ed6ca9d62'): 971,\n",
       " ('ecoinvent 3.3 cutoff', '8a7557dee52fa1cd71290cd81940e828'): 972,\n",
       " ('ecoinvent 3.3 cutoff', 'eae5dbef90ddd73e648b84bf8421120d'): 973,\n",
       " ('ecoinvent 3.3 cutoff', 'e6883f87ef22de59a200e37e4461afe2'): 974,\n",
       " ('ecoinvent 3.3 cutoff', 'f6a599eb12f18edb8bf89708cc73cd2a'): 975,\n",
       " ('ecoinvent 3.3 cutoff', '489067dff6cae552762bdbcad31fc5ef'): 976,\n",
       " ('ecoinvent 3.3 cutoff', 'd4bac2a2e86772de654f6d5ce907dc60'): 977,\n",
       " ('ecoinvent 3.3 cutoff', 'bfc456ec447e866e7046b363de5d6037'): 978,\n",
       " ('ecoinvent 3.3 cutoff', 'b14ff6a8a47ae211a6ddf16a43966843'): 979,\n",
       " ('ecoinvent 3.3 cutoff', 'cbafd7e7c7c08569ec159e0b9e6c5516'): 980,\n",
       " ('ecoinvent 3.3 cutoff', 'b3c1afcb781261a3404fd91f2760bd2d'): 981,\n",
       " ('ecoinvent 3.3 cutoff', '3a45b44da58ee02b2191e698ee954c87'): 982,\n",
       " ('ecoinvent 3.3 cutoff', 'd796f3921e4c3e6cb0e55cddfa1c7482'): 983,\n",
       " ('ecoinvent 3.3 cutoff', '464fcaed33a9e7c48093a78e075ac9d9'): 984,\n",
       " ('ecoinvent 3.3 cutoff', 'f7f52d17657b1851aef9072bcbec826f'): 985,\n",
       " ('ecoinvent 3.3 cutoff', '543457153ce4cbea4a0201286145e53a'): 986,\n",
       " ('ecoinvent 3.3 cutoff', 'f6b6a735dc6c55efeab40e5d4e092414'): 987,\n",
       " ('ecoinvent 3.3 cutoff', 'dc52aea474ec97a31bf280d67f2ab0d0'): 988,\n",
       " ('ecoinvent 3.3 cutoff', 'fc1dbe3075ace2159d03ee054b8b95d9'): 989,\n",
       " ('ecoinvent 3.3 cutoff', '6d805b62782b67707f7bce32c2ae1273'): 990,\n",
       " ('ecoinvent 3.3 cutoff', '792b2d40c93a324e1e6aba075229f990'): 991,\n",
       " ('ecoinvent 3.3 cutoff', '499ba0c3c461243ab6a062d140e439c3'): 992,\n",
       " ('ecoinvent 3.3 cutoff', 'e28fcb126d38e09329398185b588ae4c'): 993,\n",
       " ('ecoinvent 3.3 cutoff', 'bea9f979c24c48f614b92ebd89470c67'): 994,\n",
       " ('ecoinvent 3.3 cutoff', '16420516587713a1af8d04102b90fc5f'): 995,\n",
       " ('ecoinvent 3.3 cutoff', '3a618c957fc30e4788f1d3a6cf972317'): 996,\n",
       " ('ecoinvent 3.3 cutoff', '28dbbbd5af5134f1e91b03d06358bc70'): 997,\n",
       " ('ecoinvent 3.3 cutoff', '906a0d133a4362f40682f7212c61cd6e'): 998,\n",
       " ('ecoinvent 3.3 cutoff', '319855a2e021acdcfe9ef4f5dbd59cdb'): 999,\n",
       " ...}"
      ]
     },
     "execution_count": 57,
     "metadata": {},
     "output_type": "execute_result"
    }
   ],
   "source": [
    "LCA_obj.activity_dict"
   ]
  },
  {
   "cell_type": "code",
   "execution_count": 60,
   "metadata": {},
   "outputs": [
    {
     "data": {
      "text/plain": [
       "('ecoinvent 3.3 cutoff', '13ea0b258811e52ccbf76b903825e804')"
      ]
     },
     "execution_count": 60,
     "metadata": {},
     "output_type": "execute_result"
    }
   ],
   "source": [
    "('ecoinvent 3.3 cutoff', '13ea0b258811e52ccbf76b903825e804')"
   ]
  },
  {
   "cell_type": "code",
   "execution_count": 64,
   "metadata": {
    "collapsed": true
   },
   "outputs": [],
   "source": [
    "str_tuple=str(('ecoinvent 3.3 cutoff', '13ea0b258811e52ccbf76b903825e804'))"
   ]
  },
  {
   "cell_type": "code",
   "execution_count": 66,
   "metadata": {
    "collapsed": true
   },
   "outputs": [],
   "source": [
    "tuple_str=tuple(str_tuple)"
   ]
  },
  {
   "cell_type": "code",
   "execution_count": 44,
   "metadata": {},
   "outputs": [
    {
     "data": {
      "text/plain": [
       "scipy.sparse.csr.csr_matrix"
      ]
     },
     "execution_count": 44,
     "metadata": {},
     "output_type": "execute_result"
    }
   ],
   "source": [
    "type(LCA_obj.biosphere_matrix)"
   ]
  },
  {
   "cell_type": "code",
   "execution_count": 45,
   "metadata": {},
   "outputs": [
    {
     "data": {
      "text/plain": [
       "353369"
      ]
     },
     "execution_count": 45,
     "metadata": {},
     "output_type": "execute_result"
    }
   ],
   "source": [
    "LCA_obj.biosphere_matrix.nnz"
   ]
  },
  {
   "cell_type": "code",
   "execution_count": 46,
   "metadata": {},
   "outputs": [
    {
     "ename": "TypeError",
     "evalue": "sparse matrix length is ambiguous; use getnnz() or shape[0]",
     "output_type": "error",
     "traceback": [
      "\u001b[1;31m---------------------------------------------------------------------------\u001b[0m",
      "\u001b[1;31mTypeError\u001b[0m                                 Traceback (most recent call last)",
      "\u001b[1;32m<ipython-input-46-dc04730ba801>\u001b[0m in \u001b[0;36m<module>\u001b[1;34m()\u001b[0m\n\u001b[1;32m----> 1\u001b[1;33m \u001b[0mlen\u001b[0m\u001b[1;33m(\u001b[0m\u001b[0mLCA_obj\u001b[0m\u001b[1;33m.\u001b[0m\u001b[0mbiosphere_matrix\u001b[0m\u001b[1;33m)\u001b[0m\u001b[1;33m\u001b[0m\u001b[0m\n\u001b[0m",
      "\u001b[1;32m~\\Anaconda3\\envs\\Brighway2\\lib\\site-packages\\scipy\\sparse\\base.py\u001b[0m in \u001b[0;36m__len__\u001b[1;34m(self)\u001b[0m\n\u001b[0;32m    244\u001b[0m     \u001b[1;31m# non-zeros is more important.  For now, raise an exception!\u001b[0m\u001b[1;33m\u001b[0m\u001b[1;33m\u001b[0m\u001b[0m\n\u001b[0;32m    245\u001b[0m     \u001b[1;32mdef\u001b[0m \u001b[0m__len__\u001b[0m\u001b[1;33m(\u001b[0m\u001b[0mself\u001b[0m\u001b[1;33m)\u001b[0m\u001b[1;33m:\u001b[0m\u001b[1;33m\u001b[0m\u001b[0m\n\u001b[1;32m--> 246\u001b[1;33m         raise TypeError(\"sparse matrix length is ambiguous; use getnnz()\"\n\u001b[0m\u001b[0;32m    247\u001b[0m                         \" or shape[0]\")\n\u001b[0;32m    248\u001b[0m \u001b[1;33m\u001b[0m\u001b[0m\n",
      "\u001b[1;31mTypeError\u001b[0m: sparse matrix length is ambiguous; use getnnz() or shape[0]"
     ]
    }
   ],
   "source": [
    "len(LCA_obj.biosphere_matrix)"
   ]
  },
  {
   "cell_type": "code",
   "execution_count": null,
   "metadata": {
    "collapsed": true
   },
   "outputs": [],
   "source": []
  },
  {
   "cell_type": "code",
   "execution_count": 51,
   "metadata": {
    "collapsed": true
   },
   "outputs": [],
   "source": [
    "##################\n",
    "# HDF5 functions #\n",
    "##################\n",
    "\n",
    "# function create a group containing all the information of a csr matrix scipy  \n",
    "\n",
    "def csr_matrix_to_hdf5(csr,hdf5_file,group_path):\n",
    "    \n",
    "    # Retrieve or create groups and subgroups\n",
    "    group=hdf5_file.require_group(group_path)\n",
    "    \n",
    "    csr_size=csr.nnz\n",
    "    \n",
    "    # Create datasets containing values of csr matrix\n",
    "    group.create_dataset('data',data=csr.data,compression=\"gzip\",dtype=np.float32)\n",
    "    group.create_dataset('indptr',data=csr.indptr,compression=\"gzip\")\n",
    "    group.create_dataset('indices',data=csr.indices,compression=\"gzip\")\n",
    "    \n",
    "    \n",
    "    #data=group.create_dataset('data',(csr_size,),compression=\"gzip\",dtype=np.float32)\n",
    "    #indptr=group.create_dataset('indptr',(csr_size,),compression=\"gzip\")\n",
    "    #indices=group.create_dataset('indices',(csr_size,),compression=\"gzip\")\n",
    "    \n",
    "    #data[...]=csr.data\n",
    "    #indptr[...]=csr.indptr\n",
    "    #indices[...]=csr.indices\n",
    "    \n",
    "    group.attrs['shape']=csr.shape\n",
    "    \n",
    "    return;\n",
    "\n",
    "\n",
    "#function to create list to store in hfd5 for LCA object _dict: biosphere_dict, activity_dict, product_dict\n",
    "\n",
    "def LCA_dict_to_hdf5(LCA_dict,hdf5_file,group_path):\n",
    "    \n",
    "    # Retrieve or create the groups and subgroups\n",
    "    group=hdf5_file.require_group(group_path)\n",
    "    \n",
    "    ###### WARNING : Modify the builder because _dict items are like \n",
    "    #####('ecoinvent 3.3 cutoff', 'c533b046462b6c56a5636ca177347c48'): 35\n",
    "    #### Use .decode('UTF-8') to convert keys_1_list items for bytes to str\n",
    "    \n",
    "    \n",
    "    keys_0=[key[0] for key in LCA_dict.keys()][0]\n",
    "    keys_1_list=np.string_([key[1] for key in LCA_dict.keys()])\n",
    "    items_list=[item for item in LCA_dict.values()]\n",
    "    \n",
    "    # Create datasets containing values of csr matrix\n",
    "    group.create_dataset('keys_1',data=keys_1_list,compression=\"gzip\")\n",
    "    group.create_dataset('values',data=items_list,compression=\"gzip\")\n",
    "    group.attrs['keys_0']=keys_0\n",
    "\n",
    "    \n",
    "    return;\n",
    "\n",
    "\n",
    "#Function to write csr matrix, _dict from LCA objects and any numpy.ndarray\n",
    "\n",
    "def write_LCA_obj_to_HDF5_file(LCA_obj,hdf5_file,group_path):\n",
    "    \n",
    "    dict_names_to_check=['biosphere_dict', 'activity_dict', 'product_dict']\n",
    "    \n",
    "    #If object = A or B matrix\n",
    "    if type(LCA_obj)==sp.sparse.csr.csr_matrix:\n",
    "        csr_matrix_to_hdf5(LCA_obj,hdf5_file,group_path)\n",
    "    \n",
    "    #If object = ***_dict\n",
    "    elif group_path.rsplit('/', 1)[1] in dict_names_to_check:\n",
    "        LCA_dict_to_hdf5(LCA_obj,hdf5_file,group_path)\n",
    "        \n",
    "    else:\n",
    "        \n",
    "        #store as float32 if type is float64 to save space\n",
    "        if LCA_obj.dtype == np.dtype('float64'):\n",
    "            hdf5_file.create_dataset(group_path,data=LCA_obj,compression=\"gzip\",dtype=np.float32)\n",
    "            \n",
    "        else:\n",
    "            hdf5_file.create_dataset(group_path,data=LCA_obj,compression=\"gzip\")\n",
    "            \n",
    "    \n",
    "    return;"
   ]
  },
  {
   "cell_type": "code",
   "execution_count": 2,
   "metadata": {
    "collapsed": true
   },
   "outputs": [],
   "source": [
    "current_path_dir=os.getcwd()\n",
    "path_for_saving=current_path_dir+\"\\\\Saved objects\"\n",
    "hdf5_file_name=\"test_several_objects.hdf5\"\n",
    "hdf5_file_path=path_for_saving+\"\\\\\"+hdf5_file_name\n",
    "\n",
    "hdf5_file=h5py.File(hdf5_file_path,'a')\n",
    "group_path='/csr_matrix'\n",
    "#object_to_write=LCA_obj.biosphere_matrix"
   ]
  },
  {
   "cell_type": "code",
   "execution_count": 53,
   "metadata": {
    "collapsed": true
   },
   "outputs": [],
   "source": [
    "write_LCA_obj_to_HDF5_file(object_to_write,hdf5_file,group_path)"
   ]
  },
  {
   "cell_type": "code",
   "execution_count": 60,
   "metadata": {},
   "outputs": [
    {
     "ename": "ValueError",
     "evalue": "Not a file id (Not a file id)",
     "output_type": "error",
     "traceback": [
      "\u001b[1;31m---------------------------------------------------------------------------\u001b[0m",
      "\u001b[1;31mValueError\u001b[0m                                Traceback (most recent call last)",
      "\u001b[1;32m<ipython-input-60-434804fba65e>\u001b[0m in \u001b[0;36m<module>\u001b[1;34m()\u001b[0m\n\u001b[1;32m----> 1\u001b[1;33m \u001b[0mhdf5_file\u001b[0m\u001b[1;33m.\u001b[0m\u001b[0mclose\u001b[0m\u001b[1;33m(\u001b[0m\u001b[1;33m)\u001b[0m\u001b[1;33m\u001b[0m\u001b[0m\n\u001b[0m",
      "\u001b[1;32m~\\Anaconda3\\envs\\Brighway2\\lib\\site-packages\\h5py\\_hl\\files.py\u001b[0m in \u001b[0;36mclose\u001b[1;34m(self)\u001b[0m\n\u001b[0;32m    285\u001b[0m             \u001b[1;31m# Close file-resident objects first, then the files.\u001b[0m\u001b[1;33m\u001b[0m\u001b[1;33m\u001b[0m\u001b[0m\n\u001b[0;32m    286\u001b[0m             \u001b[1;31m# Otherwise we get errors in MPI mode.\u001b[0m\u001b[1;33m\u001b[0m\u001b[1;33m\u001b[0m\u001b[0m\n\u001b[1;32m--> 287\u001b[1;33m             \u001b[0mid_list\u001b[0m \u001b[1;33m=\u001b[0m \u001b[0mh5f\u001b[0m\u001b[1;33m.\u001b[0m\u001b[0mget_obj_ids\u001b[0m\u001b[1;33m(\u001b[0m\u001b[0mself\u001b[0m\u001b[1;33m.\u001b[0m\u001b[0mid\u001b[0m\u001b[1;33m,\u001b[0m \u001b[1;33m~\u001b[0m\u001b[0mh5f\u001b[0m\u001b[1;33m.\u001b[0m\u001b[0mOBJ_FILE\u001b[0m\u001b[1;33m)\u001b[0m\u001b[1;33m\u001b[0m\u001b[0m\n\u001b[0m\u001b[0;32m    288\u001b[0m             \u001b[0mfile_list\u001b[0m \u001b[1;33m=\u001b[0m \u001b[0mh5f\u001b[0m\u001b[1;33m.\u001b[0m\u001b[0mget_obj_ids\u001b[0m\u001b[1;33m(\u001b[0m\u001b[0mself\u001b[0m\u001b[1;33m.\u001b[0m\u001b[0mid\u001b[0m\u001b[1;33m,\u001b[0m \u001b[0mh5f\u001b[0m\u001b[1;33m.\u001b[0m\u001b[0mOBJ_FILE\u001b[0m\u001b[1;33m)\u001b[0m\u001b[1;33m\u001b[0m\u001b[0m\n\u001b[0;32m    289\u001b[0m \u001b[1;33m\u001b[0m\u001b[0m\n",
      "\u001b[1;32mh5py\\_objects.pyx\u001b[0m in \u001b[0;36mh5py._objects.with_phil.wrapper (C:\\Minonda\\conda-bld\\h5py_1496879986092\\work\\h5py\\_objects.c:2867)\u001b[1;34m()\u001b[0m\n",
      "\u001b[1;32mh5py\\_objects.pyx\u001b[0m in \u001b[0;36mh5py._objects.with_phil.wrapper (C:\\Minonda\\conda-bld\\h5py_1496879986092\\work\\h5py\\_objects.c:2825)\u001b[1;34m()\u001b[0m\n",
      "\u001b[1;32mh5py\\h5f.pyx\u001b[0m in \u001b[0;36mh5py.h5f.get_obj_ids (C:\\Minonda\\conda-bld\\h5py_1496879986092\\work\\h5py\\h5f.c:3442)\u001b[1;34m()\u001b[0m\n",
      "\u001b[1;31mValueError\u001b[0m: Not a file id (Not a file id)"
     ]
    }
   ],
   "source": [
    "hdf5_file.close()"
   ]
  },
  {
   "cell_type": "code",
   "execution_count": 7,
   "metadata": {
    "collapsed": true
   },
   "outputs": [],
   "source": [
    "file_to_close=h5py.File(path_for_saving+\"\\\\\"+'LCI_Dependant_Monte_Carlo_results_worker0.hdf5')"
   ]
  },
  {
   "cell_type": "code",
   "execution_count": 59,
   "metadata": {
    "collapsed": true
   },
   "outputs": [],
   "source": [
    "file_to_close.close()"
   ]
  },
  {
   "cell_type": "code",
   "execution_count": 8,
   "metadata": {
    "collapsed": true
   },
   "outputs": [],
   "source": [
    "child_dataset_path='/techno_matrix/0/data'"
   ]
  },
  {
   "cell_type": "code",
   "execution_count": 8,
   "metadata": {},
   "outputs": [
    {
     "data": {
      "text/plain": [
       "'data'"
      ]
     },
     "execution_count": 8,
     "metadata": {},
     "output_type": "execute_result"
    }
   ],
   "source": [
    "child_dataset_path.rsplit('/', 1)[1]"
   ]
  },
  {
   "cell_type": "code",
   "execution_count": 10,
   "metadata": {},
   "outputs": [
    {
     "data": {
      "text/plain": [
       "('/techno_matrix', '0', 'data')"
      ]
     },
     "execution_count": 10,
     "metadata": {},
     "output_type": "execute_result"
    }
   ],
   "source": [
    "child_dataset_path.rsplit('/', 2)[0],child_dataset_path.rsplit('/', 2)[1],child_dataset_path.rsplit('/', 2)[2]\n"
   ]
  },
  {
   "cell_type": "code",
   "execution_count": 11,
   "metadata": {},
   "outputs": [
    {
     "data": {
      "text/plain": [
       "[]"
      ]
     },
     "execution_count": 11,
     "metadata": {},
     "output_type": "execute_result"
    }
   ],
   "source": [
    "[key for key in hdf5_file]"
   ]
  },
  {
   "cell_type": "code",
   "execution_count": 22,
   "metadata": {
    "collapsed": true
   },
   "outputs": [],
   "source": [
    "hdf5_file.create_dataset('/test11',shape=(8,),maxshape=(None,))\n",
    "data=[1,3,4,5,6,7,976,87]"
   ]
  },
  {
   "cell_type": "code",
   "execution_count": 23,
   "metadata": {
    "collapsed": true
   },
   "outputs": [],
   "source": [
    "dataset=hdf5_file['/test10']\n",
    "dataset[...]=data"
   ]
  },
  {
   "cell_type": "code",
   "execution_count": 24,
   "metadata": {},
   "outputs": [
    {
     "data": {
      "text/plain": [
       "array([   1.,    3.,    4.,    5.,    6.,    7.,  976.,   87.], dtype=float32)"
      ]
     },
     "execution_count": 24,
     "metadata": {},
     "output_type": "execute_result"
    }
   ],
   "source": [
    "dataset[()]"
   ]
  },
  {
   "cell_type": "code",
   "execution_count": 59,
   "metadata": {
    "collapsed": true
   },
   "outputs": [],
   "source": [
    "dataset[-1]=42"
   ]
  },
  {
   "cell_type": "code",
   "execution_count": 60,
   "metadata": {},
   "outputs": [
    {
     "data": {
      "text/plain": [
       "42.0"
      ]
     },
     "execution_count": 60,
     "metadata": {},
     "output_type": "execute_result"
    }
   ],
   "source": [
    "dataset[-1]"
   ]
  },
  {
   "cell_type": "code",
   "execution_count": 25,
   "metadata": {
    "collapsed": true
   },
   "outputs": [],
   "source": [
    "dataset.resize((dataset.shape[0]-1,))"
   ]
  },
  {
   "cell_type": "code",
   "execution_count": 26,
   "metadata": {},
   "outputs": [
    {
     "data": {
      "text/plain": [
       "(7,)"
      ]
     },
     "execution_count": 26,
     "metadata": {},
     "output_type": "execute_result"
    }
   ],
   "source": [
    "dataset.shape"
   ]
  },
  {
   "cell_type": "code",
   "execution_count": 63,
   "metadata": {
    "collapsed": true
   },
   "outputs": [],
   "source": [
    "dataset[-1]=54"
   ]
  },
  {
   "cell_type": "code",
   "execution_count": 27,
   "metadata": {},
   "outputs": [
    {
     "data": {
      "text/plain": [
       "array([   1.,    3.,    4.,    5.,    6.,    7.,  976.], dtype=float32)"
      ]
     },
     "execution_count": 27,
     "metadata": {},
     "output_type": "execute_result"
    }
   ],
   "source": [
    "dataset[()]"
   ]
  },
  {
   "cell_type": "code",
   "execution_count": 123,
   "metadata": {
    "collapsed": true
   },
   "outputs": [],
   "source": [
    "dataset[...]=[2,4,5,66,2,4,6,7]"
   ]
  },
  {
   "cell_type": "code",
   "execution_count": 67,
   "metadata": {},
   "outputs": [
    {
     "data": {
      "text/plain": [
       "array([   1.,    3.,    4.,    5.,    6.,    7.,  976.], dtype=float32)"
      ]
     },
     "execution_count": 67,
     "metadata": {},
     "output_type": "execute_result"
    }
   ],
   "source": [
    "dataset[()]"
   ]
  },
  {
   "cell_type": "code",
   "execution_count": 13,
   "metadata": {},
   "outputs": [
    {
     "data": {
      "text/plain": [
       "'C:\\\\Users\\\\Laure\\\\Brightway - Notebooks and code\\\\Monte-Carlo\\\\Saved objects\\\\test_several_objects.hdf5'"
      ]
     },
     "execution_count": 13,
     "metadata": {},
     "output_type": "execute_result"
    }
   ],
   "source": [
    "dataset.file.filename"
   ]
  },
  {
   "cell_type": "code",
   "execution_count": 28,
   "metadata": {},
   "outputs": [
    {
     "data": {
      "text/plain": [
       "7"
      ]
     },
     "execution_count": 28,
     "metadata": {},
     "output_type": "execute_result"
    }
   ],
   "source": [
    "dataset.size"
   ]
  },
  {
   "cell_type": "code",
   "execution_count": 68,
   "metadata": {},
   "outputs": [
    {
     "data": {
      "text/plain": [
       "'C:\\\\Users\\\\Laure\\\\Brightway - Notebooks and code\\\\Monte-Carlo\\\\Saved objects\\\\test_several_objects.hdf5'"
      ]
     },
     "execution_count": 68,
     "metadata": {},
     "output_type": "execute_result"
    }
   ],
   "source": [
    "hdf5_file.filename"
   ]
  },
  {
   "cell_type": "code",
   "execution_count": 3,
   "metadata": {},
   "outputs": [
    {
     "data": {
      "text/plain": [
       "[('group_test', <HDF5 group \"/group_test\" (0 members)>),\n",
       " ('test', <HDF5 dataset \"test\": shape (7,), type \"<i4\">),\n",
       " ('test10', <HDF5 dataset \"test10\": shape (7,), type \"<f4\">),\n",
       " ('test12', <HDF5 dataset \"test12\": shape (8,), type \"<f4\">),\n",
       " ('test2', <HDF5 dataset \"test2\": shape (7,), type \"<i4\">),\n",
       " ('test3', <HDF5 dataset \"test3\": shape (7,), type \"<i4\">),\n",
       " ('test4', <HDF5 dataset \"test4\": shape None, type \"<f4\">),\n",
       " ('test5', <HDF5 dataset \"test5\": shape (7,), type \"<f4\">),\n",
       " ('test6', <HDF5 dataset \"test6\": shape (7,), type \"<f4\">),\n",
       " ('test7', <HDF5 dataset \"test7\": shape (8,), type \"<f4\">),\n",
       " ('test8', <HDF5 dataset \"test8\": shape (4, 4), type \"<f4\">),\n",
       " ('test9', <HDF5 dataset \"test9\": shape (2, 4), type \"<f4\">)]"
      ]
     },
     "execution_count": 3,
     "metadata": {},
     "output_type": "execute_result"
    }
   ],
   "source": [
    "[item for item in hdf5_file.items()]"
   ]
  },
  {
   "cell_type": "code",
   "execution_count": 4,
   "metadata": {
    "collapsed": true
   },
   "outputs": [],
   "source": [
    "group=hdf5_file.create_group('group_test_1')"
   ]
  },
  {
   "cell_type": "code",
   "execution_count": 6,
   "metadata": {},
   "outputs": [
    {
     "data": {
      "text/plain": [
       "<HDF5 group \"/group_test_1/sub_group_test\" (0 members)>"
      ]
     },
     "execution_count": 6,
     "metadata": {},
     "output_type": "execute_result"
    }
   ],
   "source": [
    "group.create_group('sub_group_test')"
   ]
  },
  {
   "cell_type": "code",
   "execution_count": 7,
   "metadata": {},
   "outputs": [
    {
     "data": {
      "text/plain": [
       "1"
      ]
     },
     "execution_count": 7,
     "metadata": {},
     "output_type": "execute_result"
    }
   ],
   "source": [
    "len(group)"
   ]
  },
  {
   "cell_type": "code",
   "execution_count": 9,
   "metadata": {},
   "outputs": [
    {
     "data": {
      "text/plain": [
       "1"
      ]
     },
     "execution_count": 9,
     "metadata": {},
     "output_type": "execute_result"
    }
   ],
   "source": [
    "group."
   ]
  },
  {
   "cell_type": "code",
   "execution_count": 69,
   "metadata": {
    "collapsed": true
   },
   "outputs": [],
   "source": [
    "hdf5_file_with_ext_links=h5py.File('C:\\\\Users\\\\Laure\\\\Brightway - Notebooks and code\\\\Monte-Carlo\\\\Saved objects\\\\test_several_objects_1.hdf5','a')"
   ]
  },
  {
   "cell_type": "code",
   "execution_count": 81,
   "metadata": {},
   "outputs": [
    {
     "data": {
      "text/plain": [
       "<HDF5 dataset \"to be append 2\": shape (8,), type \"<f4\">"
      ]
     },
     "execution_count": 81,
     "metadata": {},
     "output_type": "execute_result"
    }
   ],
   "source": [
    "data=[1,3,4,5,6,7,976,87]\n",
    "hdf5_file_with_ext_links.create_dataset('to be append 2',shape=(len(data),), maxshape=(None,))"
   ]
  },
  {
   "cell_type": "code",
   "execution_count": 82,
   "metadata": {
    "collapsed": true
   },
   "outputs": [],
   "source": [
    "dataset_append=hdf5_file_with_ext_links['to be append 2']\n",
    "dataset_append[...]=data"
   ]
  },
  {
   "cell_type": "code",
   "execution_count": 83,
   "metadata": {
    "collapsed": true
   },
   "outputs": [],
   "source": [
    "dataset_append.resize((dataset_append.shape[0]+len(data),))"
   ]
  },
  {
   "cell_type": "code",
   "execution_count": 84,
   "metadata": {},
   "outputs": [
    {
     "data": {
      "text/plain": [
       "array([   1.,    3.,    4.,    5.,    6.,    7.,  976.,   87.,    0.,\n",
       "          0.,    0.,    0.,    0.,    0.,    0.,    0.], dtype=float32)"
      ]
     },
     "execution_count": 84,
     "metadata": {},
     "output_type": "execute_result"
    }
   ],
   "source": [
    "dataset_append[()]"
   ]
  },
  {
   "cell_type": "code",
   "execution_count": 87,
   "metadata": {
    "collapsed": true
   },
   "outputs": [],
   "source": [
    "dataset_append[-len(data):]=data"
   ]
  },
  {
   "cell_type": "code",
   "execution_count": 88,
   "metadata": {},
   "outputs": [
    {
     "data": {
      "text/plain": [
       "array([   1.,    3.,    4.,    5.,    6.,    7.,  976.,   87.,    1.,\n",
       "          3.,    4.,    5.,    6.,    7.,  976.,   87.], dtype=float32)"
      ]
     },
     "execution_count": 88,
     "metadata": {},
     "output_type": "execute_result"
    }
   ],
   "source": [
    "dataset_append[()]"
   ]
  },
  {
   "cell_type": "code",
   "execution_count": 89,
   "metadata": {
    "collapsed": true
   },
   "outputs": [],
   "source": [
    "dataset_append[-1:] = 6"
   ]
  },
  {
   "cell_type": "code",
   "execution_count": 90,
   "metadata": {},
   "outputs": [
    {
     "data": {
      "text/plain": [
       "array([   1.,    3.,    4.,    5.,    6.,    7.,  976.,   87.,    1.,\n",
       "          3.,    4.,    5.,    6.,    7.,  976.,    6.], dtype=float32)"
      ]
     },
     "execution_count": 90,
     "metadata": {},
     "output_type": "execute_result"
    }
   ],
   "source": [
    "dataset_append[()]"
   ]
  },
  {
   "cell_type": "code",
   "execution_count": null,
   "metadata": {
    "collapsed": true
   },
   "outputs": [],
   "source": []
  },
  {
   "cell_type": "code",
   "execution_count": 91,
   "metadata": {
    "collapsed": true
   },
   "outputs": [],
   "source": [
    "value=8"
   ]
  },
  {
   "cell_type": "code",
   "execution_count": 92,
   "metadata": {},
   "outputs": [
    {
     "data": {
      "text/plain": [
       "int"
      ]
     },
     "execution_count": 92,
     "metadata": {},
     "output_type": "execute_result"
    }
   ],
   "source": [
    "type(value)"
   ]
  },
  {
   "cell_type": "code",
   "execution_count": 95,
   "metadata": {},
   "outputs": [
    {
     "ename": "TypeError",
     "evalue": "len() of unsized object",
     "output_type": "error",
     "traceback": [
      "\u001b[1;31m---------------------------------------------------------------------------\u001b[0m",
      "\u001b[1;31mTypeError\u001b[0m                                 Traceback (most recent call last)",
      "\u001b[1;32m<ipython-input-95-e4455b01b8fc>\u001b[0m in \u001b[0;36m<module>\u001b[1;34m()\u001b[0m\n\u001b[1;32m----> 1\u001b[1;33m \u001b[0mlen\u001b[0m\u001b[1;33m(\u001b[0m\u001b[0mnp\u001b[0m\u001b[1;33m.\u001b[0m\u001b[0masarray\u001b[0m\u001b[1;33m(\u001b[0m\u001b[0mvalue\u001b[0m\u001b[1;33m)\u001b[0m\u001b[1;33m)\u001b[0m\u001b[1;33m\u001b[0m\u001b[0m\n\u001b[0m",
      "\u001b[1;31mTypeError\u001b[0m: len() of unsized object"
     ]
    }
   ],
   "source": [
    "len(np.asarray(value))"
   ]
  },
  {
   "cell_type": "code",
   "execution_count": 97,
   "metadata": {
    "collapsed": true
   },
   "outputs": [],
   "source": [
    "value_to_array=np.atleast_1d(value)"
   ]
  },
  {
   "cell_type": "code",
   "execution_count": 98,
   "metadata": {},
   "outputs": [
    {
     "data": {
      "text/plain": [
       "(numpy.ndarray, 1)"
      ]
     },
     "execution_count": 98,
     "metadata": {},
     "output_type": "execute_result"
    }
   ],
   "source": [
    "type(value_to_array),len(value_to_array)"
   ]
  },
  {
   "cell_type": "code",
   "execution_count": null,
   "metadata": {
    "collapsed": true
   },
   "outputs": [],
   "source": []
  },
  {
   "cell_type": "code",
   "execution_count": 6,
   "metadata": {
    "collapsed": true
   },
   "outputs": [],
   "source": [
    "hdf5_file.create_dataset('/test12',shape=(8,),maxshape=(None,))\n",
    "data=[1,3,4,5,6,7,976,87]"
   ]
  },
  {
   "cell_type": "code",
   "execution_count": 7,
   "metadata": {
    "collapsed": true
   },
   "outputs": [],
   "source": [
    "dataset=hdf5_file['/test12']\n",
    "dataset[...]=data"
   ]
  },
  {
   "cell_type": "code",
   "execution_count": 9,
   "metadata": {
    "collapsed": true
   },
   "outputs": [],
   "source": [
    "dataset[...]=dataset[()]+data"
   ]
  },
  {
   "cell_type": "code",
   "execution_count": 10,
   "metadata": {},
   "outputs": [
    {
     "data": {
      "text/plain": [
       "array([    2.,     6.,     8.,    10.,    12.,    14.,  1952.,   174.], dtype=float32)"
      ]
     },
     "execution_count": 10,
     "metadata": {},
     "output_type": "execute_result"
    }
   ],
   "source": [
    "dataset[()]"
   ]
  },
  {
   "cell_type": "code",
   "execution_count": 12,
   "metadata": {},
   "outputs": [
    {
     "data": {
      "text/plain": [
       "2.0"
      ]
     },
     "execution_count": 12,
     "metadata": {},
     "output_type": "execute_result"
    }
   ],
   "source": [
    "min(dataset)"
   ]
  },
  {
   "cell_type": "code",
   "execution_count": 14,
   "metadata": {},
   "outputs": [
    {
     "data": {
      "text/plain": [
       "11.0"
      ]
     },
     "execution_count": 14,
     "metadata": {},
     "output_type": "execute_result"
    }
   ],
   "source": [
    "np.percentile(dataset,50)"
   ]
  },
  {
   "cell_type": "code",
   "execution_count": null,
   "metadata": {
    "collapsed": true
   },
   "outputs": [],
   "source": []
  },
  {
   "cell_type": "code",
   "execution_count": 6,
   "metadata": {
    "collapsed": true
   },
   "outputs": [],
   "source": [
    "ic_name=('CML 2001', 'climate change', 'GWP 100a')\n",
    "method=bw.Method(ic_name)"
   ]
  },
  {
   "cell_type": "code",
   "execution_count": 44,
   "metadata": {},
   "outputs": [
    {
     "data": {
      "text/plain": [
       "Methods dictionary with 1032 objects, including:\n",
       "\t('CML 2001', 'acidification potential', 'average European')\n",
       "\t('CML 2001', 'acidification potential', 'generic')\n",
       "\t('CML 2001', 'climate change', 'GWP 100a')\n",
       "\t('CML 2001', 'climate change', 'GWP 20a')\n",
       "\t('CML 2001', 'climate change', 'GWP 500a')\n",
       "\t('CML 2001', 'climate change', 'lower limit of net GWP')\n",
       "\t('CML 2001', 'climate change', 'upper limit of net GWP')\n",
       "\t('CML 2001', 'eutrophication potential', 'average European')\n",
       "\t('CML 2001', 'eutrophication potential', 'generic')\n",
       "\t('CML 2001', 'freshwater aquatic ecotoxicity', 'FAETP 100a')\n",
       "Use `list(this object)` to get the complete list."
      ]
     },
     "execution_count": 44,
     "metadata": {},
     "output_type": "execute_result"
    }
   ],
   "source": [
    "bw.methods"
   ]
  },
  {
   "cell_type": "code",
   "execution_count": null,
   "metadata": {
    "collapsed": true
   },
   "outputs": [],
   "source": []
  },
  {
   "cell_type": "code",
   "execution_count": 7,
   "metadata": {
    "collapsed": true
   },
   "outputs": [],
   "source": [
    "act=DB_eiv33.get('f868a8bb1c627e75df31949ecdc347b9')"
   ]
  },
  {
   "cell_type": "code",
   "execution_count": 8,
   "metadata": {
    "collapsed": true
   },
   "outputs": [],
   "source": [
    "LCA_obj=bw.LCA({act:1},ic_name)"
   ]
  },
  {
   "cell_type": "code",
   "execution_count": 9,
   "metadata": {
    "collapsed": true
   },
   "outputs": [],
   "source": [
    "LCA_obj.lci()"
   ]
  },
  {
   "cell_type": "code",
   "execution_count": 14,
   "metadata": {},
   "outputs": [
    {
     "data": {
      "text/plain": [
       "array([ (   1,  5016,    0,    57, 2, 2,   6.14740129e-05,  -9.6968956 ,  0.28495613,  nan,  nan,  nan, False),\n",
       "       (   1,  5029,    0,    70, 2, 2,   4.99028010e-06, -12.2080183 ,  0.24617067,  nan,  nan,  nan, False),\n",
       "       (   1,  5100,    0,   141, 2, 2,   2.76879007e-07, -15.09968567,  0.05744563,  nan,  nan,  nan, False),\n",
       "       ...,\n",
       "       (4026, 18773, 1958, 13814, 2, 2,   1.80029136e-04,  -8.6223917 ,  0.57445627,  nan,  nan,  nan, False),\n",
       "       (4029, 14719, 1959,  9760, 2, 2,   3.42019997e-03,  -5.67805624,  0.4669047 ,  nan,  nan,  nan, False),\n",
       "       (4029, 16287, 1959, 11328, 2, 2,   3.42019997e-03,  -5.67805624,  0.4669047 ,  nan,  nan,  nan, False)],\n",
       "      dtype=[('input', '<u4'), ('output', '<u4'), ('row', '<u4'), ('col', '<u4'), ('type', 'u1'), ('uncertainty_type', 'u1'), ('amount', '<f4'), ('loc', '<f4'), ('scale', '<f4'), ('shape', '<f4'), ('minimum', '<f4'), ('maximum', '<f4'), ('negative', '?')])"
      ]
     },
     "execution_count": 14,
     "metadata": {},
     "output_type": "execute_result"
    }
   ],
   "source": [
    "LCA_obj.bio_params"
   ]
  },
  {
   "cell_type": "code",
   "execution_count": 13,
   "metadata": {},
   "outputs": [
    {
     "data": {
      "text/plain": [
       "array([   0,    0,    0, ..., 1958, 1959, 1959], dtype=uint32)"
      ]
     },
     "execution_count": 13,
     "metadata": {},
     "output_type": "execute_result"
    }
   ],
   "source": [
    "LCA_obj.bio_params['row']"
   ]
  },
  {
   "cell_type": "code",
   "execution_count": 15,
   "metadata": {},
   "outputs": [
    {
     "data": {
      "text/plain": [
       "array([False, False, False, ..., False, False, False], dtype=bool)"
      ]
     },
     "execution_count": 15,
     "metadata": {},
     "output_type": "execute_result"
    }
   ],
   "source": [
    "LCA_obj.bio_params['negative']"
   ]
  },
  {
   "cell_type": "code",
   "execution_count": 16,
   "metadata": {},
   "outputs": [
    {
     "data": {
      "text/plain": [
       "353369"
      ]
     },
     "execution_count": 16,
     "metadata": {},
     "output_type": "execute_result"
    }
   ],
   "source": [
    "len(LCA_obj.bio_params)"
   ]
  },
  {
   "cell_type": "code",
   "execution_count": 19,
   "metadata": {},
   "outputs": [
    {
     "data": {
      "text/plain": [
       "2"
      ]
     },
     "execution_count": 19,
     "metadata": {},
     "output_type": "execute_result"
    }
   ],
   "source": [
    "LCA_obj.bio_params[0]['uncertainty_type']"
   ]
  },
  {
   "cell_type": "code",
   "execution_count": 36,
   "metadata": {
    "collapsed": true
   },
   "outputs": [],
   "source": [
    "selection_bio_params=np.array([bio_param for bio_param in LCA_obj.bio_params if bio_param['col']==9760])"
   ]
  },
  {
   "cell_type": "code",
   "execution_count": 37,
   "metadata": {},
   "outputs": [
    {
     "data": {
      "text/plain": [
       "array([9760, 9760, 9760, 9760, 9760, 9760, 9760, 9760, 9760, 9760, 9760,\n",
       "       9760, 9760], dtype=uint32)"
      ]
     },
     "execution_count": 37,
     "metadata": {},
     "output_type": "execute_result"
    }
   ],
   "source": [
    "selection_bio_params['col']"
   ]
  },
  {
   "cell_type": "code",
   "execution_count": 33,
   "metadata": {},
   "outputs": [
    {
     "data": {
      "text/plain": [
       "numpy.ndarray"
      ]
     },
     "execution_count": 33,
     "metadata": {},
     "output_type": "execute_result"
    }
   ],
   "source": [
    "type(LCA_obj.bio_params)"
   ]
  },
  {
   "cell_type": "code",
   "execution_count": 46,
   "metadata": {
    "collapsed": true
   },
   "outputs": [],
   "source": [
    "act_input_params=np.array([bio_param for bio_param in LCA_obj.bio_params if bio_param['col']==100000000])"
   ]
  },
  {
   "cell_type": "code",
   "execution_count": 48,
   "metadata": {
    "collapsed": true
   },
   "outputs": [],
   "source": [
    "act_input_params\n",
    "array_empty=np.array([])"
   ]
  },
  {
   "cell_type": "code",
   "execution_count": 51,
   "metadata": {},
   "outputs": [
    {
     "ename": "IndexError",
     "evalue": "index 0 is out of bounds for axis 0 with size 0",
     "output_type": "error",
     "traceback": [
      "\u001b[1;31m---------------------------------------------------------------------------\u001b[0m",
      "\u001b[1;31mIndexError\u001b[0m                                Traceback (most recent call last)",
      "\u001b[1;32m<ipython-input-51-ba2162056ee2>\u001b[0m in \u001b[0;36m<module>\u001b[1;34m()\u001b[0m\n\u001b[1;32m----> 1\u001b[1;33m \u001b[0mact_input_params\u001b[0m\u001b[1;33m[\u001b[0m\u001b[1;36m0\u001b[0m\u001b[1;33m]\u001b[0m\u001b[1;33m\u001b[0m\u001b[0m\n\u001b[0m",
      "\u001b[1;31mIndexError\u001b[0m: index 0 is out of bounds for axis 0 with size 0"
     ]
    }
   ],
   "source": [
    "act_input_params[0]"
   ]
  },
  {
   "cell_type": "code",
   "execution_count": 56,
   "metadata": {},
   "outputs": [
    {
     "data": {
      "text/plain": [
       "False"
      ]
     },
     "execution_count": 56,
     "metadata": {},
     "output_type": "execute_result"
    }
   ],
   "source": [
    "LCA_obj.bio_params[0]==LCA_obj.bio_params[1]"
   ]
  },
  {
   "cell_type": "code",
   "execution_count": 126,
   "metadata": {},
   "outputs": [
    {
     "data": {
      "text/plain": [
       "array([ (1, 5016, 0,  57, 2, 2,   6.14740129e-05,  -9.69689560e+00,  0.28495613,  nan,  nan,  nan, False),\n",
       "       (1, 5029, 0,  70, 2, 2,   4.99028010e-06,  -1.22080183e+01,  0.24617067,  nan,  nan,  nan, False),\n",
       "       (1, 5100, 0, 141, 2, 1,   2.76879007e-07,  -1.50996857e+01,  0.05744563,  nan,  nan,  nan, False),\n",
       "       (1, 5128, 0, 169, 2, 2,   3.74944989e-06,  -1.24939013e+01,  0.06244998,  nan,  nan,  nan, False),\n",
       "       (1, 5211, 0, 252, 2, 2,   3.03260003e-05,  -1.04035053e+01,  0.45825756,  nan,  nan,  nan, False),\n",
       "       (1, 5259, 0, 300, 2, 0,   3.59246565e-04,   3.59246565e-04,         nan,  nan,  nan,  nan, False),\n",
       "       (1, 5262, 0, 303, 2, 2,   3.50496009e-07,  -1.48639164e+01,  0.05744563,  nan,  nan,  nan, False),\n",
       "       (1, 5292, 0, 333, 2, 2,   4.60000010e-04,  -7.68428421e+00,  0.40496913,  nan,  nan,  nan, False),\n",
       "       (1, 5406, 0, 447, 2, 2,   6.24858671e-07,  -1.42857399e+01,  0.29866368,  nan,  nan,  nan, False)],\n",
       "      dtype=[('input', '<u4'), ('output', '<u4'), ('row', '<u4'), ('col', '<u4'), ('type', 'u1'), ('uncertainty_type', 'u1'), ('amount', '<f4'), ('loc', '<f4'), ('scale', '<f4'), ('shape', '<f4'), ('minimum', '<f4'), ('maximum', '<f4'), ('negative', '?')])"
      ]
     },
     "execution_count": 126,
     "metadata": {},
     "output_type": "execute_result"
    }
   ],
   "source": [
    "LCA_obj.bio_params[0:9]"
   ]
  },
  {
   "cell_type": "code",
   "execution_count": 128,
   "metadata": {},
   "outputs": [
    {
     "data": {
      "text/plain": [
       "array([ (1, 5016, 0,  57, 2, 2,   6.14740129e-05,  -9.69689560e+00,  0.28495613,  nan,  nan,  nan, False),\n",
       "       (1, 5029, 0,  70, 2, 2,   4.99028010e-06,  -1.22080183e+01,  0.24617067,  nan,  nan,  nan, False),\n",
       "       (1, 5100, 0, 141, 2, 1,   2.76879007e-07,  -1.50996857e+01,  0.05744563,  nan,  nan,  nan, False),\n",
       "       (1, 5128, 0, 169, 2, 2,   3.74944989e-06,  -1.24939013e+01,  0.06244998,  nan,  nan,  nan, False),\n",
       "       (1, 5211, 0, 252, 2, 2,   3.03260003e-05,  -1.04035053e+01,  0.45825756,  nan,  nan,  nan, False),\n",
       "       (1, 5259, 0, 300, 2, 0,   3.59246565e-04,   3.59246565e-04,         nan,  nan,  nan,  nan, False),\n",
       "       (1, 5262, 0, 303, 2, 2,   3.50496009e-07,  -1.48639164e+01,  0.05744563,  nan,  nan,  nan, False),\n",
       "       (1, 5292, 0, 333, 2, 2,   4.60000010e-04,  -7.68428421e+00,  0.40496913,  nan,  nan,  nan, False),\n",
       "       (1, 5406, 0, 447, 2, 2,   6.24858671e-07,  -1.42857399e+01,  0.29866368,  nan,  nan,  nan, False)],\n",
       "      dtype=[('input', '<u4'), ('output', '<u4'), ('row', '<u4'), ('col', '<u4'), ('type', 'u1'), ('uncertainty_type', 'u1'), ('amount', '<f4'), ('loc', '<f4'), ('scale', '<f4'), ('shape', '<f4'), ('minimum', '<f4'), ('maximum', '<f4'), ('negative', '?')])"
      ]
     },
     "execution_count": 128,
     "metadata": {},
     "output_type": "execute_result"
    }
   ],
   "source": [
    "corr_bio_params=LCA_obj.bio_params[0:9]\n",
    "input_row_col_to_remove=(0,141)\n",
    "input_condition=np.where((corr_bio_params['row'] == input_row_col_to_remove[0]) * (corr_bio_params['col'] == input_row_col_to_remove[1]))\n",
    "corr_bio_params[input_condition[0].tolist()[0]]['uncertainty_type']=1\n",
    "corr_bio_params"
   ]
  },
  {
   "cell_type": "code",
   "execution_count": 125,
   "metadata": {},
   "outputs": [
    {
     "data": {
      "text/plain": [
       "array([ (1, 5016, 0,  57, 2, 2,   6.14740129e-05,  -9.69689560e+00,  0.28495613,  nan,  nan,  nan, False),\n",
       "       (1, 5029, 0,  70, 2, 2,   4.99028010e-06,  -1.22080183e+01,  0.24617067,  nan,  nan,  nan, False),\n",
       "       (1, 5100, 0, 141, 2, 1,   2.76879007e-07,  -1.50996857e+01,  0.05744563,  nan,  nan,  nan, False),\n",
       "       (1, 5128, 0, 169, 2, 2,   3.74944989e-06,  -1.24939013e+01,  0.06244998,  nan,  nan,  nan, False),\n",
       "       (1, 5211, 0, 252, 2, 2,   3.03260003e-05,  -1.04035053e+01,  0.45825756,  nan,  nan,  nan, False),\n",
       "       (1, 5259, 0, 300, 2, 0,   3.59246565e-04,   3.59246565e-04,         nan,  nan,  nan,  nan, False),\n",
       "       (1, 5262, 0, 303, 2, 2,   3.50496009e-07,  -1.48639164e+01,  0.05744563,  nan,  nan,  nan, False),\n",
       "       (1, 5292, 0, 333, 2, 2,   4.60000010e-04,  -7.68428421e+00,  0.40496913,  nan,  nan,  nan, False),\n",
       "       (1, 5406, 0, 447, 2, 2,   6.24858671e-07,  -1.42857399e+01,  0.29866368,  nan,  nan,  nan, False)],\n",
       "      dtype=[('input', '<u4'), ('output', '<u4'), ('row', '<u4'), ('col', '<u4'), ('type', 'u1'), ('uncertainty_type', 'u1'), ('amount', '<f4'), ('loc', '<f4'), ('scale', '<f4'), ('shape', '<f4'), ('minimum', '<f4'), ('maximum', '<f4'), ('negative', '?')])"
      ]
     },
     "execution_count": 125,
     "metadata": {},
     "output_type": "execute_result"
    }
   ],
   "source": [
    "corr_bio_params[condition[0].tolist()[0]]['uncertainty_type']=1\n",
    "corr_bio_params"
   ]
  },
  {
   "cell_type": "code",
   "execution_count": 112,
   "metadata": {},
   "outputs": [
    {
     "data": {
      "text/plain": [
       "array([ (1, 5100, 0, 141, 2, 2,   2.76879007e-07, -15.09968567,  0.05744563,  nan,  nan,  nan, False)],\n",
       "      dtype=[('input', '<u4'), ('output', '<u4'), ('row', '<u4'), ('col', '<u4'), ('type', 'u1'), ('uncertainty_type', 'u1'), ('amount', '<f4'), ('loc', '<f4'), ('scale', '<f4'), ('shape', '<f4'), ('minimum', '<f4'), ('maximum', '<f4'), ('negative', '?')])"
      ]
     },
     "execution_count": 112,
     "metadata": {},
     "output_type": "execute_result"
    }
   ],
   "source": [
    "corr_bio_params[condition]"
   ]
  },
  {
   "cell_type": "code",
   "execution_count": 96,
   "metadata": {},
   "outputs": [
    {
     "data": {
      "text/plain": [
       "array([2], dtype=uint8)"
      ]
     },
     "execution_count": 96,
     "metadata": {},
     "output_type": "execute_result"
    }
   ],
   "source": [
    "corr_bio_params[np.where((corr_bio_params['row'] == input_row_col_to_remove[0]) & (corr_bio_params['col'] == input_row_col_to_remove[1]))]['uncertainty_type']"
   ]
  },
  {
   "cell_type": "code",
   "execution_count": 124,
   "metadata": {},
   "outputs": [
    {
     "data": {
      "text/plain": [
       "2"
      ]
     },
     "execution_count": 124,
     "metadata": {},
     "output_type": "execute_result"
    }
   ],
   "source": [
    "condition[0].tolist()[0]"
   ]
  },
  {
   "cell_type": "code",
   "execution_count": 129,
   "metadata": {
    "collapsed": true
   },
   "outputs": [],
   "source": [
    "for i in []:\n",
    "    print('ok')"
   ]
  },
  {
   "cell_type": "code",
   "execution_count": null,
   "metadata": {
    "collapsed": true
   },
   "outputs": [],
   "source": []
  },
  {
   "cell_type": "code",
   "execution_count": 40,
   "metadata": {
    "collapsed": true
   },
   "outputs": [],
   "source": [
    "\n",
    "LCA_obj.lcia()"
   ]
  },
  {
   "cell_type": "code",
   "execution_count": 41,
   "metadata": {
    "collapsed": true
   },
   "outputs": [],
   "source": [
    "inventory=LCA_obj.inventory\n",
    "characterization_matrix=LCA_obj.characterization_matrix\n",
    "supply_array=LCA_obj.supply_array\n",
    "biosphere_matrix=LCA_obj.biosphere_matrix\n",
    "activity_dict=LCA_obj.activity_dict"
   ]
  },
  {
   "cell_type": "code",
   "execution_count": 80,
   "metadata": {},
   "outputs": [
    {
     "data": {
      "text/plain": [
       "13831"
      ]
     },
     "execution_count": 80,
     "metadata": {},
     "output_type": "execute_result"
    }
   ],
   "source": [
    "supply_array.size"
   ]
  },
  {
   "cell_type": "code",
   "execution_count": 78,
   "metadata": {},
   "outputs": [
    {
     "data": {
      "text/plain": [
       "<1960x13831 sparse matrix of type '<class 'numpy.float64'>'\n",
       "\twith 353369 stored elements in Compressed Sparse Row format>"
      ]
     },
     "execution_count": 78,
     "metadata": {},
     "output_type": "execute_result"
    }
   ],
   "source": [
    "biosphere_matrix"
   ]
  },
  {
   "cell_type": "code",
   "execution_count": 81,
   "metadata": {
    "collapsed": true
   },
   "outputs": [],
   "source": [
    "inventory_array=biosphere_matrix * supply_array"
   ]
  },
  {
   "cell_type": "code",
   "execution_count": 93,
   "metadata": {},
   "outputs": [
    {
     "data": {
      "text/plain": [
       "((1960,), numpy.ndarray)"
      ]
     },
     "execution_count": 93,
     "metadata": {},
     "output_type": "execute_result"
    }
   ],
   "source": [
    "inventory_array.shape,type(inventory_array)"
   ]
  },
  {
   "cell_type": "code",
   "execution_count": 84,
   "metadata": {
    "collapsed": true
   },
   "outputs": [],
   "source": [
    "characterization_matrix_array=np.array(characterization_matrix.sum(1))"
   ]
  },
  {
   "cell_type": "code",
   "execution_count": 94,
   "metadata": {},
   "outputs": [
    {
     "data": {
      "text/plain": [
       "((1960, 1), numpy.ndarray)"
      ]
     },
     "execution_count": 94,
     "metadata": {},
     "output_type": "execute_result"
    }
   ],
   "source": [
    "characterization_matrix_array.shape,type(characterization_matrix_array)"
   ]
  },
  {
   "cell_type": "code",
   "execution_count": 86,
   "metadata": {
    "collapsed": true
   },
   "outputs": [],
   "source": [
    "impact_score_scalar=characterization_matrix_array * inventory_array"
   ]
  },
  {
   "cell_type": "code",
   "execution_count": 88,
   "metadata": {},
   "outputs": [
    {
     "data": {
      "text/plain": [
       "3841600"
      ]
     },
     "execution_count": 88,
     "metadata": {},
     "output_type": "execute_result"
    }
   ],
   "source": [
    "impact_score_scalar.size"
   ]
  },
  {
   "cell_type": "code",
   "execution_count": 89,
   "metadata": {},
   "outputs": [
    {
     "data": {
      "text/plain": [
       "3841600"
      ]
     },
     "execution_count": 89,
     "metadata": {},
     "output_type": "execute_result"
    }
   ],
   "source": [
    "1960*1960"
   ]
  },
  {
   "cell_type": "code",
   "execution_count": 107,
   "metadata": {
    "collapsed": true
   },
   "outputs": [],
   "source": [
    "cf_reshaped=np.reshape(characterization_matrix_array,characterization_matrix_array.shape[0])"
   ]
  },
  {
   "cell_type": "code",
   "execution_count": 108,
   "metadata": {},
   "outputs": [
    {
     "data": {
      "text/plain": [
       "(1960,)"
      ]
     },
     "execution_count": 108,
     "metadata": {},
     "output_type": "execute_result"
    }
   ],
   "source": [
    "cf_reshaped.shape"
   ]
  },
  {
   "cell_type": "code",
   "execution_count": 103,
   "metadata": {
    "collapsed": true
   },
   "outputs": [],
   "source": [
    "impact_score_scalar=characterization_matrix_array * inventory_array"
   ]
  },
  {
   "cell_type": "code",
   "execution_count": 104,
   "metadata": {},
   "outputs": [
    {
     "data": {
      "text/plain": [
       "array([[  0.00000000e+00,   0.00000000e+00,   0.00000000e+00, ...,\n",
       "          0.00000000e+00,   0.00000000e+00,   0.00000000e+00],\n",
       "       [  0.00000000e+00,   0.00000000e+00,   0.00000000e+00, ...,\n",
       "          0.00000000e+00,   0.00000000e+00,   0.00000000e+00],\n",
       "       [  0.00000000e+00,   0.00000000e+00,   0.00000000e+00, ...,\n",
       "          0.00000000e+00,   0.00000000e+00,   0.00000000e+00],\n",
       "       ..., \n",
       "       [  0.00000000e+00,   0.00000000e+00,   0.00000000e+00, ...,\n",
       "          0.00000000e+00,   0.00000000e+00,   0.00000000e+00],\n",
       "       [  2.80866612e-05,   2.71894351e-08,   6.47097096e-07, ...,\n",
       "          2.84251145e-08,   1.63892345e-02,   0.00000000e+00],\n",
       "       [  0.00000000e+00,   0.00000000e+00,   0.00000000e+00, ...,\n",
       "          0.00000000e+00,   0.00000000e+00,   0.00000000e+00]])"
      ]
     },
     "execution_count": 104,
     "metadata": {},
     "output_type": "execute_result"
    }
   ],
   "source": [
    "impact_score_scalar"
   ]
  },
  {
   "cell_type": "code",
   "execution_count": 109,
   "metadata": {
    "collapsed": true
   },
   "outputs": [],
   "source": [
    "impact_score_scalar=np.dot(cf_reshaped,inventory_array)"
   ]
  },
  {
   "cell_type": "code",
   "execution_count": 110,
   "metadata": {},
   "outputs": [
    {
     "data": {
      "text/plain": [
       "10.899990544052148"
      ]
     },
     "execution_count": 110,
     "metadata": {},
     "output_type": "execute_result"
    }
   ],
   "source": [
    "impact_score_scalar"
   ]
  },
  {
   "cell_type": "code",
   "execution_count": 42,
   "metadata": {
    "collapsed": true
   },
   "outputs": [],
   "source": [
    "count = len(activity_dict)\n",
    "inventory_matrix = biosphere_matrix * sp.sparse.spdiags([supply_array], [0], count, count)"
   ]
  },
  {
   "cell_type": "code",
   "execution_count": 43,
   "metadata": {},
   "outputs": [
    {
     "data": {
      "text/plain": [
       "<1960x13831 sparse matrix of type '<class 'numpy.float64'>'\n",
       "\twith 248191 stored elements in Compressed Sparse Row format>"
      ]
     },
     "execution_count": 43,
     "metadata": {},
     "output_type": "execute_result"
    }
   ],
   "source": [
    "inventory_matrix"
   ]
  },
  {
   "cell_type": "code",
   "execution_count": 116,
   "metadata": {},
   "outputs": [
    {
     "data": {
      "text/plain": [
       "<1960x13831 sparse matrix of type '<class 'numpy.bool_'>'\n",
       "\twith 0 stored elements in Compressed Sparse Row format>"
      ]
     },
     "execution_count": 116,
     "metadata": {},
     "output_type": "execute_result"
    }
   ],
   "source": [
    "inventory_matrix != inventory"
   ]
  },
  {
   "cell_type": "code",
   "execution_count": 117,
   "metadata": {
    "collapsed": true
   },
   "outputs": [],
   "source": [
    "impact_score_matrix=characterization_matrix * inventory_matrix"
   ]
  },
  {
   "cell_type": "code",
   "execution_count": 118,
   "metadata": {},
   "outputs": [
    {
     "data": {
      "text/plain": [
       "<1960x13831 sparse matrix of type '<class 'numpy.float64'>'\n",
       "\twith 13227 stored elements in Compressed Sparse Row format>"
      ]
     },
     "execution_count": 118,
     "metadata": {},
     "output_type": "execute_result"
    }
   ],
   "source": [
    "impact_score_matrix"
   ]
  },
  {
   "cell_type": "code",
   "execution_count": 119,
   "metadata": {},
   "outputs": [
    {
     "data": {
      "text/plain": [
       "10.899990544052148"
      ]
     },
     "execution_count": 119,
     "metadata": {},
     "output_type": "execute_result"
    }
   ],
   "source": [
    "LCA_obj.score"
   ]
  },
  {
   "cell_type": "code",
   "execution_count": 120,
   "metadata": {},
   "outputs": [
    {
     "data": {
      "text/plain": [
       "10.899990544052148"
      ]
     },
     "execution_count": 120,
     "metadata": {},
     "output_type": "execute_result"
    }
   ],
   "source": [
    "impact_score_matrix.sum()"
   ]
  },
  {
   "cell_type": "code",
   "execution_count": 126,
   "metadata": {},
   "outputs": [
    {
     "data": {
      "text/plain": [
       "(13831,)"
      ]
     },
     "execution_count": 126,
     "metadata": {},
     "output_type": "execute_result"
    }
   ],
   "source": [
    "LCA_obj.supply_array.shape"
   ]
  },
  {
   "cell_type": "code",
   "execution_count": null,
   "metadata": {
    "collapsed": true
   },
   "outputs": [],
   "source": []
  },
  {
   "cell_type": "code",
   "execution_count": 59,
   "metadata": {
    "collapsed": true
   },
   "outputs": [],
   "source": [
    "LCA_obj1=bw.LCA({act:1},ic_name)"
   ]
  },
  {
   "cell_type": "code",
   "execution_count": 60,
   "metadata": {
    "collapsed": true
   },
   "outputs": [],
   "source": [
    "LCA_obj1.lci()"
   ]
  },
  {
   "cell_type": "code",
   "execution_count": 48,
   "metadata": {
    "collapsed": true
   },
   "outputs": [],
   "source": [
    "LCA_obj.lci()"
   ]
  },
  {
   "cell_type": "code",
   "execution_count": 50,
   "metadata": {},
   "outputs": [
    {
     "data": {
      "text/plain": [
       "{1: 0,\n",
       " 2: 1,\n",
       " 6: 2,\n",
       " 7: 3,\n",
       " 11: 4,\n",
       " 12: 5,\n",
       " 14: 6,\n",
       " 15: 7,\n",
       " 16: 8,\n",
       " 19: 9,\n",
       " 22: 10,\n",
       " 23: 11,\n",
       " 24: 12,\n",
       " 25: 13,\n",
       " 33: 14,\n",
       " 34: 15,\n",
       " 40: 16,\n",
       " 41: 17,\n",
       " 42: 18,\n",
       " 44: 19,\n",
       " 45: 20,\n",
       " 46: 21,\n",
       " 47: 22,\n",
       " 48: 23,\n",
       " 51: 24,\n",
       " 52: 25,\n",
       " 53: 26,\n",
       " 54: 27,\n",
       " 55: 28,\n",
       " 57: 29,\n",
       " 58: 30,\n",
       " 59: 31,\n",
       " 60: 32,\n",
       " 63: 33,\n",
       " 64: 34,\n",
       " 67: 35,\n",
       " 69: 36,\n",
       " 70: 37,\n",
       " 73: 38,\n",
       " 77: 39,\n",
       " 78: 40,\n",
       " 79: 41,\n",
       " 80: 42,\n",
       " 81: 43,\n",
       " 82: 44,\n",
       " 83: 45,\n",
       " 87: 46,\n",
       " 88: 47,\n",
       " 93: 48,\n",
       " 94: 49,\n",
       " 97: 50,\n",
       " 101: 51,\n",
       " 102: 52,\n",
       " 103: 53,\n",
       " 105: 54,\n",
       " 106: 55,\n",
       " 108: 56,\n",
       " 110: 57,\n",
       " 111: 58,\n",
       " 114: 59,\n",
       " 115: 60,\n",
       " 124: 61,\n",
       " 127: 62,\n",
       " 128: 63,\n",
       " 130: 64,\n",
       " 131: 65,\n",
       " 134: 66,\n",
       " 135: 67,\n",
       " 137: 68,\n",
       " 138: 69,\n",
       " 139: 70,\n",
       " 143: 71,\n",
       " 145: 72,\n",
       " 146: 73,\n",
       " 148: 74,\n",
       " 150: 75,\n",
       " 151: 76,\n",
       " 152: 77,\n",
       " 153: 78,\n",
       " 154: 79,\n",
       " 155: 80,\n",
       " 156: 81,\n",
       " 157: 82,\n",
       " 163: 83,\n",
       " 165: 84,\n",
       " 171: 85,\n",
       " 175: 86,\n",
       " 177: 87,\n",
       " 178: 88,\n",
       " 179: 89,\n",
       " 180: 90,\n",
       " 184: 91,\n",
       " 186: 92,\n",
       " 187: 93,\n",
       " 191: 94,\n",
       " 192: 95,\n",
       " 193: 96,\n",
       " 195: 97,\n",
       " 196: 98,\n",
       " 199: 99,\n",
       " 200: 100,\n",
       " 201: 101,\n",
       " 206: 102,\n",
       " 207: 103,\n",
       " 209: 104,\n",
       " 210: 105,\n",
       " 211: 106,\n",
       " 212: 107,\n",
       " 213: 108,\n",
       " 215: 109,\n",
       " 216: 110,\n",
       " 217: 111,\n",
       " 221: 112,\n",
       " 222: 113,\n",
       " 223: 114,\n",
       " 224: 115,\n",
       " 227: 116,\n",
       " 228: 117,\n",
       " 231: 118,\n",
       " 232: 119,\n",
       " 233: 120,\n",
       " 236: 121,\n",
       " 237: 122,\n",
       " 238: 123,\n",
       " 239: 124,\n",
       " 241: 125,\n",
       " 243: 126,\n",
       " 245: 127,\n",
       " 246: 128,\n",
       " 247: 129,\n",
       " 248: 130,\n",
       " 250: 131,\n",
       " 251: 132,\n",
       " 252: 133,\n",
       " 254: 134,\n",
       " 255: 135,\n",
       " 256: 136,\n",
       " 259: 137,\n",
       " 261: 138,\n",
       " 262: 139,\n",
       " 263: 140,\n",
       " 264: 141,\n",
       " 266: 142,\n",
       " 268: 143,\n",
       " 270: 144,\n",
       " 271: 145,\n",
       " 274: 146,\n",
       " 279: 147,\n",
       " 280: 148,\n",
       " 281: 149,\n",
       " 284: 150,\n",
       " 287: 151,\n",
       " 292: 152,\n",
       " 295: 153,\n",
       " 299: 154,\n",
       " 300: 155,\n",
       " 307: 156,\n",
       " 308: 157,\n",
       " 309: 158,\n",
       " 310: 159,\n",
       " 314: 160,\n",
       " 316: 161,\n",
       " 319: 162,\n",
       " 323: 163,\n",
       " 325: 164,\n",
       " 327: 165,\n",
       " 328: 166,\n",
       " 330: 167,\n",
       " 331: 168,\n",
       " 335: 169,\n",
       " 338: 170,\n",
       " 345: 171,\n",
       " 348: 172,\n",
       " 349: 173,\n",
       " 353: 174,\n",
       " 359: 175,\n",
       " 360: 176,\n",
       " 362: 177,\n",
       " 364: 178,\n",
       " 366: 179,\n",
       " 368: 180,\n",
       " 370: 181,\n",
       " 371: 182,\n",
       " 372: 183,\n",
       " 375: 184,\n",
       " 376: 185,\n",
       " 379: 186,\n",
       " 381: 187,\n",
       " 382: 188,\n",
       " 384: 189,\n",
       " 385: 190,\n",
       " 386: 191,\n",
       " 387: 192,\n",
       " 390: 193,\n",
       " 391: 194,\n",
       " 393: 195,\n",
       " 395: 196,\n",
       " 397: 197,\n",
       " 399: 198,\n",
       " 400: 199,\n",
       " 401: 200,\n",
       " 402: 201,\n",
       " 403: 202,\n",
       " 404: 203,\n",
       " 405: 204,\n",
       " 407: 205,\n",
       " 410: 206,\n",
       " 412: 207,\n",
       " 414: 208,\n",
       " 416: 209,\n",
       " 417: 210,\n",
       " 418: 211,\n",
       " 419: 212,\n",
       " 422: 213,\n",
       " 424: 214,\n",
       " 426: 215,\n",
       " 427: 216,\n",
       " 428: 217,\n",
       " 431: 218,\n",
       " 432: 219,\n",
       " 434: 220,\n",
       " 435: 221,\n",
       " 438: 222,\n",
       " 439: 223,\n",
       " 440: 224,\n",
       " 442: 225,\n",
       " 443: 226,\n",
       " 449: 227,\n",
       " 451: 228,\n",
       " 453: 229,\n",
       " 454: 230,\n",
       " 456: 231,\n",
       " 458: 232,\n",
       " 459: 233,\n",
       " 463: 234,\n",
       " 465: 235,\n",
       " 468: 236,\n",
       " 469: 237,\n",
       " 472: 238,\n",
       " 473: 239,\n",
       " 474: 240,\n",
       " 476: 241,\n",
       " 477: 242,\n",
       " 487: 243,\n",
       " 490: 244,\n",
       " 495: 245,\n",
       " 496: 246,\n",
       " 498: 247,\n",
       " 500: 248,\n",
       " 501: 249,\n",
       " 503: 250,\n",
       " 504: 251,\n",
       " 506: 252,\n",
       " 507: 253,\n",
       " 508: 254,\n",
       " 510: 255,\n",
       " 513: 256,\n",
       " 514: 257,\n",
       " 515: 258,\n",
       " 518: 259,\n",
       " 519: 260,\n",
       " 522: 261,\n",
       " 523: 262,\n",
       " 524: 263,\n",
       " 525: 264,\n",
       " 526: 265,\n",
       " 527: 266,\n",
       " 529: 267,\n",
       " 531: 268,\n",
       " 532: 269,\n",
       " 535: 270,\n",
       " 537: 271,\n",
       " 540: 272,\n",
       " 542: 273,\n",
       " 544: 274,\n",
       " 545: 275,\n",
       " 546: 276,\n",
       " 547: 277,\n",
       " 548: 278,\n",
       " 549: 279,\n",
       " 550: 280,\n",
       " 552: 281,\n",
       " 553: 282,\n",
       " 558: 283,\n",
       " 559: 284,\n",
       " 560: 285,\n",
       " 561: 286,\n",
       " 563: 287,\n",
       " 564: 288,\n",
       " 565: 289,\n",
       " 569: 290,\n",
       " 570: 291,\n",
       " 573: 292,\n",
       " 574: 293,\n",
       " 575: 294,\n",
       " 577: 295,\n",
       " 578: 296,\n",
       " 579: 297,\n",
       " 581: 298,\n",
       " 584: 299,\n",
       " 585: 300,\n",
       " 590: 301,\n",
       " 591: 302,\n",
       " 592: 303,\n",
       " 594: 304,\n",
       " 597: 305,\n",
       " 598: 306,\n",
       " 601: 307,\n",
       " 602: 308,\n",
       " 605: 309,\n",
       " 607: 310,\n",
       " 622: 311,\n",
       " 623: 312,\n",
       " 624: 313,\n",
       " 626: 314,\n",
       " 628: 315,\n",
       " 630: 316,\n",
       " 632: 317,\n",
       " 635: 318,\n",
       " 637: 319,\n",
       " 639: 320,\n",
       " 640: 321,\n",
       " 642: 322,\n",
       " 643: 323,\n",
       " 646: 324,\n",
       " 647: 325,\n",
       " 648: 326,\n",
       " 651: 327,\n",
       " 656: 328,\n",
       " 657: 329,\n",
       " 660: 330,\n",
       " 661: 331,\n",
       " 662: 332,\n",
       " 664: 333,\n",
       " 665: 334,\n",
       " 667: 335,\n",
       " 671: 336,\n",
       " 672: 337,\n",
       " 673: 338,\n",
       " 674: 339,\n",
       " 675: 340,\n",
       " 676: 341,\n",
       " 677: 342,\n",
       " 678: 343,\n",
       " 680: 344,\n",
       " 686: 345,\n",
       " 687: 346,\n",
       " 688: 347,\n",
       " 689: 348,\n",
       " 695: 349,\n",
       " 696: 350,\n",
       " 699: 351,\n",
       " 700: 352,\n",
       " 702: 353,\n",
       " 703: 354,\n",
       " 704: 355,\n",
       " 705: 356,\n",
       " 707: 357,\n",
       " 709: 358,\n",
       " 710: 359,\n",
       " 711: 360,\n",
       " 712: 361,\n",
       " 713: 362,\n",
       " 714: 363,\n",
       " 715: 364,\n",
       " 716: 365,\n",
       " 720: 366,\n",
       " 721: 367,\n",
       " 723: 368,\n",
       " 725: 369,\n",
       " 728: 370,\n",
       " 730: 371,\n",
       " 733: 372,\n",
       " 734: 373,\n",
       " 735: 374,\n",
       " 736: 375,\n",
       " 739: 376,\n",
       " 740: 377,\n",
       " 741: 378,\n",
       " 745: 379,\n",
       " 748: 380,\n",
       " 751: 381,\n",
       " 752: 382,\n",
       " 753: 383,\n",
       " 754: 384,\n",
       " 758: 385,\n",
       " 760: 386,\n",
       " 761: 387,\n",
       " 762: 388,\n",
       " 763: 389,\n",
       " 764: 390,\n",
       " 766: 391,\n",
       " 767: 392,\n",
       " 768: 393,\n",
       " 771: 394,\n",
       " 773: 395,\n",
       " 775: 396,\n",
       " 777: 397,\n",
       " 778: 398,\n",
       " 779: 399,\n",
       " 780: 400,\n",
       " 782: 401,\n",
       " 783: 402,\n",
       " 786: 403,\n",
       " 787: 404,\n",
       " 788: 405,\n",
       " 789: 406,\n",
       " 791: 407,\n",
       " 793: 408,\n",
       " 794: 409,\n",
       " 795: 410,\n",
       " 797: 411,\n",
       " 798: 412,\n",
       " 799: 413,\n",
       " 806: 414,\n",
       " 811: 415,\n",
       " 813: 416,\n",
       " 815: 417,\n",
       " 816: 418,\n",
       " 819: 419,\n",
       " 821: 420,\n",
       " 822: 421,\n",
       " 824: 422,\n",
       " 828: 423,\n",
       " 831: 424,\n",
       " 832: 425,\n",
       " 833: 426,\n",
       " 834: 427,\n",
       " 835: 428,\n",
       " 839: 429,\n",
       " 840: 430,\n",
       " 844: 431,\n",
       " 845: 432,\n",
       " 846: 433,\n",
       " 847: 434,\n",
       " 848: 435,\n",
       " 850: 436,\n",
       " 856: 437,\n",
       " 858: 438,\n",
       " 860: 439,\n",
       " 862: 440,\n",
       " 863: 441,\n",
       " 865: 442,\n",
       " 866: 443,\n",
       " 867: 444,\n",
       " 869: 445,\n",
       " 871: 446,\n",
       " 872: 447,\n",
       " 874: 448,\n",
       " 877: 449,\n",
       " 880: 450,\n",
       " 887: 451,\n",
       " 888: 452,\n",
       " 892: 453,\n",
       " 897: 454,\n",
       " 899: 455,\n",
       " 905: 456,\n",
       " 907: 457,\n",
       " 908: 458,\n",
       " 909: 459,\n",
       " 910: 460,\n",
       " 912: 461,\n",
       " 914: 462,\n",
       " 921: 463,\n",
       " 923: 464,\n",
       " 927: 465,\n",
       " 928: 466,\n",
       " 929: 467,\n",
       " 930: 468,\n",
       " 932: 469,\n",
       " 933: 470,\n",
       " 934: 471,\n",
       " 936: 472,\n",
       " 937: 473,\n",
       " 939: 474,\n",
       " 940: 475,\n",
       " 941: 476,\n",
       " 944: 477,\n",
       " 945: 478,\n",
       " 946: 479,\n",
       " 947: 480,\n",
       " 949: 481,\n",
       " 954: 482,\n",
       " 955: 483,\n",
       " 956: 484,\n",
       " 957: 485,\n",
       " 958: 486,\n",
       " 960: 487,\n",
       " 962: 488,\n",
       " 965: 489,\n",
       " 966: 490,\n",
       " 967: 491,\n",
       " 971: 492,\n",
       " 973: 493,\n",
       " 974: 494,\n",
       " 975: 495,\n",
       " 977: 496,\n",
       " 978: 497,\n",
       " 979: 498,\n",
       " 980: 499,\n",
       " 983: 500,\n",
       " 986: 501,\n",
       " 989: 502,\n",
       " 990: 503,\n",
       " 992: 504,\n",
       " 994: 505,\n",
       " 997: 506,\n",
       " 998: 507,\n",
       " 1001: 508,\n",
       " 1002: 509,\n",
       " 1004: 510,\n",
       " 1008: 511,\n",
       " 1009: 512,\n",
       " 1010: 513,\n",
       " 1013: 514,\n",
       " 1014: 515,\n",
       " 1016: 516,\n",
       " 1019: 517,\n",
       " 1023: 518,\n",
       " 1026: 519,\n",
       " 1027: 520,\n",
       " 1030: 521,\n",
       " 1031: 522,\n",
       " 1033: 523,\n",
       " 1034: 524,\n",
       " 1035: 525,\n",
       " 1036: 526,\n",
       " 1038: 527,\n",
       " 1044: 528,\n",
       " 1046: 529,\n",
       " 1051: 530,\n",
       " 1052: 531,\n",
       " 1054: 532,\n",
       " 1055: 533,\n",
       " 1056: 534,\n",
       " 1058: 535,\n",
       " 1063: 536,\n",
       " 1066: 537,\n",
       " 1067: 538,\n",
       " 1072: 539,\n",
       " 1073: 540,\n",
       " 1078: 541,\n",
       " 1080: 542,\n",
       " 1081: 543,\n",
       " 1085: 544,\n",
       " 1087: 545,\n",
       " 1088: 546,\n",
       " 1090: 547,\n",
       " 1091: 548,\n",
       " 1093: 549,\n",
       " 1100: 550,\n",
       " 1101: 551,\n",
       " 1106: 552,\n",
       " 1107: 553,\n",
       " 1108: 554,\n",
       " 1110: 555,\n",
       " 1114: 556,\n",
       " 1118: 557,\n",
       " 1121: 558,\n",
       " 1122: 559,\n",
       " 1123: 560,\n",
       " 1124: 561,\n",
       " 1126: 562,\n",
       " 1127: 563,\n",
       " 1130: 564,\n",
       " 1132: 565,\n",
       " 1133: 566,\n",
       " 1134: 567,\n",
       " 1135: 568,\n",
       " 1137: 569,\n",
       " 1138: 570,\n",
       " 1139: 571,\n",
       " 1143: 572,\n",
       " 1145: 573,\n",
       " 1147: 574,\n",
       " 1153: 575,\n",
       " 1154: 576,\n",
       " 1155: 577,\n",
       " 1157: 578,\n",
       " 1158: 579,\n",
       " 1159: 580,\n",
       " 1160: 581,\n",
       " 1161: 582,\n",
       " 1163: 583,\n",
       " 1167: 584,\n",
       " 1171: 585,\n",
       " 1175: 586,\n",
       " 1177: 587,\n",
       " 1178: 588,\n",
       " 1179: 589,\n",
       " 1180: 590,\n",
       " 1184: 591,\n",
       " 1188: 592,\n",
       " 1189: 593,\n",
       " 1191: 594,\n",
       " 1192: 595,\n",
       " 1193: 596,\n",
       " 1197: 597,\n",
       " 1199: 598,\n",
       " 1200: 599,\n",
       " 1202: 600,\n",
       " 1203: 601,\n",
       " 1204: 602,\n",
       " 1206: 603,\n",
       " 1207: 604,\n",
       " 1208: 605,\n",
       " 1212: 606,\n",
       " 1216: 607,\n",
       " 1217: 608,\n",
       " 1218: 609,\n",
       " 1219: 610,\n",
       " 1221: 611,\n",
       " 1222: 612,\n",
       " 1224: 613,\n",
       " 1226: 614,\n",
       " 1227: 615,\n",
       " 1229: 616,\n",
       " 1231: 617,\n",
       " 1236: 618,\n",
       " 1238: 619,\n",
       " 1243: 620,\n",
       " 1247: 621,\n",
       " 1248: 622,\n",
       " 1249: 623,\n",
       " 1252: 624,\n",
       " 1255: 625,\n",
       " 1257: 626,\n",
       " 1259: 627,\n",
       " 1260: 628,\n",
       " 1263: 629,\n",
       " 1264: 630,\n",
       " 1265: 631,\n",
       " 1266: 632,\n",
       " 1267: 633,\n",
       " 1268: 634,\n",
       " 1270: 635,\n",
       " 1272: 636,\n",
       " 1275: 637,\n",
       " 1277: 638,\n",
       " 1278: 639,\n",
       " 1279: 640,\n",
       " 1280: 641,\n",
       " 1284: 642,\n",
       " 1285: 643,\n",
       " 1286: 644,\n",
       " 1288: 645,\n",
       " 1289: 646,\n",
       " 1290: 647,\n",
       " 1292: 648,\n",
       " 1295: 649,\n",
       " 1296: 650,\n",
       " 1300: 651,\n",
       " 1302: 652,\n",
       " 1305: 653,\n",
       " 1307: 654,\n",
       " 1308: 655,\n",
       " 1309: 656,\n",
       " 1310: 657,\n",
       " 1313: 658,\n",
       " 1314: 659,\n",
       " 1315: 660,\n",
       " 1316: 661,\n",
       " 1317: 662,\n",
       " 1323: 663,\n",
       " 1328: 664,\n",
       " 1331: 665,\n",
       " 1333: 666,\n",
       " 1336: 667,\n",
       " 1339: 668,\n",
       " 1342: 669,\n",
       " 1344: 670,\n",
       " 1345: 671,\n",
       " 1347: 672,\n",
       " 1350: 673,\n",
       " 1352: 674,\n",
       " 1354: 675,\n",
       " 1356: 676,\n",
       " 1357: 677,\n",
       " 1358: 678,\n",
       " 1360: 679,\n",
       " 1364: 680,\n",
       " 1366: 681,\n",
       " 1367: 682,\n",
       " 1368: 683,\n",
       " 1371: 684,\n",
       " 1372: 685,\n",
       " 1375: 686,\n",
       " 1376: 687,\n",
       " 1377: 688,\n",
       " 1378: 689,\n",
       " 1379: 690,\n",
       " 1382: 691,\n",
       " 1385: 692,\n",
       " 1386: 693,\n",
       " 1389: 694,\n",
       " 1392: 695,\n",
       " 1394: 696,\n",
       " 1395: 697,\n",
       " 1396: 698,\n",
       " 1397: 699,\n",
       " 1398: 700,\n",
       " 1399: 701,\n",
       " 1402: 702,\n",
       " 1403: 703,\n",
       " 1409: 704,\n",
       " 1410: 705,\n",
       " 1411: 706,\n",
       " 1414: 707,\n",
       " 1416: 708,\n",
       " 1418: 709,\n",
       " 1421: 710,\n",
       " 1423: 711,\n",
       " 1426: 712,\n",
       " 1427: 713,\n",
       " 1431: 714,\n",
       " 1434: 715,\n",
       " 1435: 716,\n",
       " 1437: 717,\n",
       " 1438: 718,\n",
       " 1440: 719,\n",
       " 1443: 720,\n",
       " 1445: 721,\n",
       " 1446: 722,\n",
       " 1449: 723,\n",
       " 1450: 724,\n",
       " 1451: 725,\n",
       " 1454: 726,\n",
       " 1457: 727,\n",
       " 1459: 728,\n",
       " 1460: 729,\n",
       " 1463: 730,\n",
       " 1464: 731,\n",
       " 1465: 732,\n",
       " 1467: 733,\n",
       " 1468: 734,\n",
       " 1470: 735,\n",
       " 1471: 736,\n",
       " 1472: 737,\n",
       " 1475: 738,\n",
       " 1476: 739,\n",
       " 1477: 740,\n",
       " 1478: 741,\n",
       " 1479: 742,\n",
       " 1480: 743,\n",
       " 1491: 744,\n",
       " 1492: 745,\n",
       " 1494: 746,\n",
       " 1495: 747,\n",
       " 1496: 748,\n",
       " 1497: 749,\n",
       " 1499: 750,\n",
       " 1501: 751,\n",
       " 1502: 752,\n",
       " 1503: 753,\n",
       " 1504: 754,\n",
       " 1507: 755,\n",
       " 1508: 756,\n",
       " 1513: 757,\n",
       " 1515: 758,\n",
       " 1517: 759,\n",
       " 1518: 760,\n",
       " 1519: 761,\n",
       " 1521: 762,\n",
       " 1524: 763,\n",
       " 1527: 764,\n",
       " 1530: 765,\n",
       " 1532: 766,\n",
       " 1533: 767,\n",
       " 1535: 768,\n",
       " 1538: 769,\n",
       " 1540: 770,\n",
       " 1541: 771,\n",
       " 1542: 772,\n",
       " 1543: 773,\n",
       " 1544: 774,\n",
       " 1545: 775,\n",
       " 1547: 776,\n",
       " 1548: 777,\n",
       " 1553: 778,\n",
       " 1554: 779,\n",
       " 1563: 780,\n",
       " 1564: 781,\n",
       " 1565: 782,\n",
       " 1567: 783,\n",
       " 1569: 784,\n",
       " 1570: 785,\n",
       " 1571: 786,\n",
       " 1572: 787,\n",
       " 1573: 788,\n",
       " 1578: 789,\n",
       " 1579: 790,\n",
       " 1580: 791,\n",
       " 1581: 792,\n",
       " 1582: 793,\n",
       " 1584: 794,\n",
       " 1586: 795,\n",
       " 1590: 796,\n",
       " 1592: 797,\n",
       " 1593: 798,\n",
       " 1595: 799,\n",
       " 1596: 800,\n",
       " 1602: 801,\n",
       " 1604: 802,\n",
       " 1605: 803,\n",
       " 1606: 804,\n",
       " 1607: 805,\n",
       " 1609: 806,\n",
       " 1615: 807,\n",
       " 1616: 808,\n",
       " 1618: 809,\n",
       " 1624: 810,\n",
       " 1625: 811,\n",
       " 1629: 812,\n",
       " 1630: 813,\n",
       " 1634: 814,\n",
       " 1636: 815,\n",
       " 1637: 816,\n",
       " 1639: 817,\n",
       " 1640: 818,\n",
       " 1643: 819,\n",
       " 1644: 820,\n",
       " 1645: 821,\n",
       " 1649: 822,\n",
       " 1651: 823,\n",
       " 1653: 824,\n",
       " 1655: 825,\n",
       " 1658: 826,\n",
       " 1659: 827,\n",
       " 1663: 828,\n",
       " 1664: 829,\n",
       " 1666: 830,\n",
       " 1667: 831,\n",
       " 1669: 832,\n",
       " 1671: 833,\n",
       " 1673: 834,\n",
       " 1677: 835,\n",
       " 1679: 836,\n",
       " 1680: 837,\n",
       " 1681: 838,\n",
       " 1682: 839,\n",
       " 1685: 840,\n",
       " 1686: 841,\n",
       " 1687: 842,\n",
       " 1688: 843,\n",
       " 1692: 844,\n",
       " 1700: 845,\n",
       " 1701: 846,\n",
       " 1702: 847,\n",
       " 1703: 848,\n",
       " 1705: 849,\n",
       " 1706: 850,\n",
       " 1707: 851,\n",
       " 1709: 852,\n",
       " 1711: 853,\n",
       " 1715: 854,\n",
       " 1716: 855,\n",
       " 1718: 856,\n",
       " 1722: 857,\n",
       " 1723: 858,\n",
       " 1725: 859,\n",
       " 1726: 860,\n",
       " 1729: 861,\n",
       " 1733: 862,\n",
       " 1734: 863,\n",
       " 1735: 864,\n",
       " 1736: 865,\n",
       " 1738: 866,\n",
       " 1741: 867,\n",
       " 1743: 868,\n",
       " 1744: 869,\n",
       " 1746: 870,\n",
       " 1747: 871,\n",
       " 1751: 872,\n",
       " 1754: 873,\n",
       " 1758: 874,\n",
       " 1759: 875,\n",
       " 1761: 876,\n",
       " 1762: 877,\n",
       " 1765: 878,\n",
       " 1767: 879,\n",
       " 1769: 880,\n",
       " 1771: 881,\n",
       " 1774: 882,\n",
       " 1775: 883,\n",
       " 1776: 884,\n",
       " 1778: 885,\n",
       " 1780: 886,\n",
       " 1781: 887,\n",
       " 1782: 888,\n",
       " 1784: 889,\n",
       " 1788: 890,\n",
       " 1789: 891,\n",
       " 1790: 892,\n",
       " 1792: 893,\n",
       " 1793: 894,\n",
       " 1798: 895,\n",
       " 1800: 896,\n",
       " 1801: 897,\n",
       " 1802: 898,\n",
       " 1803: 899,\n",
       " 1808: 900,\n",
       " 1811: 901,\n",
       " 1812: 902,\n",
       " 1814: 903,\n",
       " 1816: 904,\n",
       " 1817: 905,\n",
       " 1819: 906,\n",
       " 1823: 907,\n",
       " 1824: 908,\n",
       " 1826: 909,\n",
       " 1828: 910,\n",
       " 1829: 911,\n",
       " 1831: 912,\n",
       " 1833: 913,\n",
       " 1836: 914,\n",
       " 1851: 915,\n",
       " 1853: 916,\n",
       " 1855: 917,\n",
       " 1856: 918,\n",
       " 1859: 919,\n",
       " 1860: 920,\n",
       " 1862: 921,\n",
       " 1863: 922,\n",
       " 1864: 923,\n",
       " 1865: 924,\n",
       " 1866: 925,\n",
       " 1867: 926,\n",
       " 1869: 927,\n",
       " 1871: 928,\n",
       " 1872: 929,\n",
       " 1875: 930,\n",
       " 1876: 931,\n",
       " 1877: 932,\n",
       " 1879: 933,\n",
       " 1880: 934,\n",
       " 1883: 935,\n",
       " 1884: 936,\n",
       " 1887: 937,\n",
       " 1888: 938,\n",
       " 1890: 939,\n",
       " 1896: 940,\n",
       " 1903: 941,\n",
       " 1905: 942,\n",
       " 1906: 943,\n",
       " 1907: 944,\n",
       " 1909: 945,\n",
       " 1910: 946,\n",
       " 1913: 947,\n",
       " 1914: 948,\n",
       " 1917: 949,\n",
       " 1921: 950,\n",
       " 1923: 951,\n",
       " 1924: 952,\n",
       " 1925: 953,\n",
       " 1926: 954,\n",
       " 1927: 955,\n",
       " 1928: 956,\n",
       " 1929: 957,\n",
       " 1931: 958,\n",
       " 1933: 959,\n",
       " 1934: 960,\n",
       " 1937: 961,\n",
       " 1939: 962,\n",
       " 1941: 963,\n",
       " 1942: 964,\n",
       " 1946: 965,\n",
       " 1950: 966,\n",
       " 1951: 967,\n",
       " 1953: 968,\n",
       " 1954: 969,\n",
       " 1955: 970,\n",
       " 1958: 971,\n",
       " 1965: 972,\n",
       " 1966: 973,\n",
       " 1971: 974,\n",
       " 1974: 975,\n",
       " 1977: 976,\n",
       " 1980: 977,\n",
       " 1981: 978,\n",
       " 1983: 979,\n",
       " 1985: 980,\n",
       " 1986: 981,\n",
       " 1988: 982,\n",
       " 1989: 983,\n",
       " 1990: 984,\n",
       " 1992: 985,\n",
       " 1993: 986,\n",
       " 1995: 987,\n",
       " 1997: 988,\n",
       " 1998: 989,\n",
       " 2005: 990,\n",
       " 2007: 991,\n",
       " 2008: 992,\n",
       " 2009: 993,\n",
       " 2010: 994,\n",
       " 2011: 995,\n",
       " 2013: 996,\n",
       " 2019: 997,\n",
       " 2021: 998,\n",
       " 2022: 999,\n",
       " ...}"
      ]
     },
     "execution_count": 50,
     "metadata": {},
     "output_type": "execute_result"
    }
   ],
   "source": [
    "LCA_obj._biosphere_dict"
   ]
  },
  {
   "cell_type": "code",
   "execution_count": 51,
   "metadata": {},
   "outputs": [
    {
     "data": {
      "text/plain": [
       "{('biosphere3', 'a861cfae-a310-4e9d-b9eb-5d555c9a684c'): 0,\n",
       " ('biosphere3', '4010918f-7fd0-4925-8fbb-8fd7a44a806c'): 1,\n",
       " ('biosphere3', 'b465eb7f-dfe9-4057-ad17-c451d58fd753'): 2,\n",
       " ('biosphere3', '2460f868-54a9-404c-bec8-c809a44ae72c'): 3,\n",
       " ('biosphere3', 'dfe1da1e-7756-4f7e-a393-6d5e2342a962'): 4,\n",
       " ('biosphere3', 'ef6dd09f-bddc-49b4-a207-dbaec2f07bb5'): 5,\n",
       " ('biosphere3', '381a22c9-3722-4378-810d-86958f7b6d32'): 6,\n",
       " ('biosphere3', 'a8fea8cf-9b09-49fc-aa58-5a732494a2a0'): 7,\n",
       " ('biosphere3', '50eebfd4-1b99-45d6-a149-68a6d4568cb4'): 8,\n",
       " ('biosphere3', '3c054a6e-2f9c-4e5e-9231-c61bc85a250a'): 9,\n",
       " ('biosphere3', '00012c0a-9bff-4787-a7eb-56c3d2f43692'): 10,\n",
       " ('biosphere3', '0eba8639-12c1-40ce-b1b6-e3394ec94dc0'): 11,\n",
       " ('biosphere3', '127ff74d-018b-43b9-8a4e-fb5577d5ee5a'): 12,\n",
       " ('biosphere3', '0ed1b1a1-e56d-4860-bac7-d76a39bde930'): 13,\n",
       " ('biosphere3', '3184c902-c587-4fd7-bd89-769d3cf30072'): 14,\n",
       " ('biosphere3', '062a6faf-b1a5-4a6a-aa02-47ae3ec566a8'): 15,\n",
       " ('biosphere3', '31b4eea9-640e-4056-ac2f-0555627af18a'): 16,\n",
       " ('biosphere3', 'c0e8ec60-a5ae-432e-97a5-cf76b6247a00'): 17,\n",
       " ('biosphere3', 'fcb77a5a-6882-4aeb-82a9-ba57688d2224'): 18,\n",
       " ('biosphere3', 'c5b4869c-f131-4a8c-911f-f252cafb2e30'): 19,\n",
       " ('biosphere3', '9645e02f-855a-4b9f-8baf-f34a08fa80c4'): 20,\n",
       " ('biosphere3', '4402f445-984c-4728-be22-6f9aea1146b9'): 21,\n",
       " ('biosphere3', 'bba9f623-5919-4ef3-b98d-c94af1553179'): 22,\n",
       " ('biosphere3', 'cd08eddd-d946-40cf-b0b5-87f6dbd7eb21'): 23,\n",
       " ('biosphere3', 'd28f9d42-5df5-41c3-be59-fdfa7ff57112'): 24,\n",
       " ('biosphere3', 'd1fd0de4-afa8-4385-b91b-023493b68782'): 25,\n",
       " ('biosphere3', 'ba1a3dcb-d53a-42fd-80f0-d09f3a12ffe2'): 26,\n",
       " ('biosphere3', 'ec8144d6-d123-43b1-9c17-a295422a0498'): 27,\n",
       " ('biosphere3', '473826ae-125a-4b02-8c8e-c84322491d80'): 28,\n",
       " ('biosphere3', '8d0ca1a5-6a40-4eda-861a-a0fccdc81b19'): 29,\n",
       " ('biosphere3', '10cbd2f7-c41b-4bb4-b636-d8fc15cf0282'): 30,\n",
       " ('biosphere3', 'e5492922-eaf5-4409-aa49-7f2a35cd0336'): 31,\n",
       " ('biosphere3', '736f52e8-9703-4076-8909-7ae80a7f8005'): 32,\n",
       " ('biosphere3', '2cb2333c-1599-46cf-8435-3dffce627524'): 33,\n",
       " ('biosphere3', 'd2025041-20ee-41bb-b2c8-47631e839ff0'): 34,\n",
       " ('biosphere3', 'd1679eda-eac2-4be4-876f-3be480c53dc4'): 35,\n",
       " ('biosphere3', '7348af7c-e102-4a03-a0df-efce16469eed'): 36,\n",
       " ('biosphere3', '2f8952b0-c90c-4e3d-b546-52b862fc8f11'): 37,\n",
       " ('biosphere3', '111c5f0c-3dda-4b7c-a5e2-aaada6ab6f79'): 38,\n",
       " ('biosphere3', '6aa8673f-f7e3-4270-93dc-e97b745fced7'): 39,\n",
       " ('biosphere3', '73b225ab-ddc4-4a38-9ed0-ceedee987424'): 40,\n",
       " ('biosphere3', '0e1c17ae-8144-4714-a7cd-786a5480f423'): 41,\n",
       " ('biosphere3', 'cfecebe1-1e13-458d-85bc-d40a9f934927'): 42,\n",
       " ('biosphere3', '24cf82f8-c517-4fef-8f93-17519adb855e'): 43,\n",
       " ('biosphere3', '61341186-aac8-4088-a2b7-ba50093bab6c'): 44,\n",
       " ('biosphere3', 'e4f501bb-02e2-4562-be3c-5a047b6d2581'): 45,\n",
       " ('biosphere3', '23eaa36d-add4-4219-961e-ca7104dc0de9'): 46,\n",
       " ('biosphere3', '99fd89e9-829f-4998-9ac0-85da6442fd02'): 47,\n",
       " ('biosphere3', '361176bc-ebe3-4f2b-8905-c87feec17d74'): 48,\n",
       " ('biosphere3', 'ab3e851e-21c9-47cf-8e7d-5f96dfae3ba5'): 49,\n",
       " ('biosphere3', 'c161d9b4-2237-4053-b549-9e0cfc201e0d'): 50,\n",
       " ('biosphere3', 'e395a1a3-6915-4b72-a533-ff1a82fc3da1'): 51,\n",
       " ('biosphere3', 'f3d5fd96-8805-4d3d-867a-5df27975b07f'): 52,\n",
       " ('biosphere3', 'ff65658c-2d39-44a2-b23e-7ec3c644f064'): 53,\n",
       " ('biosphere3', '79240a49-80cf-4be4-b5c2-bfdd3f4aa249'): 54,\n",
       " ('biosphere3', 'c7d2cf2d-0d21-45f7-9769-b07f3e53b76a'): 55,\n",
       " ('biosphere3', '2716807d-0266-48ff-bb7a-6e6c5fbfd5c5'): 56,\n",
       " ('biosphere3', '130bbacf-e7c7-4ffd-b109-4d576f1d02c1'): 57,\n",
       " ('biosphere3', '95ad40ec-c34b-49fc-a7dc-0e13172ac105'): 58,\n",
       " ('biosphere3', '620d3423-2376-4fcc-bb89-2d468f8b2df8'): 59,\n",
       " ('biosphere3', '99f1e4a4-2f47-4098-8f28-4c736a5b675d'): 60,\n",
       " ('biosphere3', '7c034422-6b7a-49c8-afcf-d02cadce9cd5'): 61,\n",
       " ('biosphere3', '40f89b03-64f8-466d-9480-bca47d8a435c'): 62,\n",
       " ('biosphere3', 'fbf6ab3a-74e3-4cbe-b61d-959728bdce46'): 63,\n",
       " ('biosphere3', '10ebc72c-2c4b-45ea-abd8-cb7fe0805883'): 64,\n",
       " ('biosphere3', '8b48b5cf-853c-4970-840d-5d9c5fb3caac'): 65,\n",
       " ('biosphere3', '9b5b8c40-38fe-42fb-8130-56c15e485fd0'): 66,\n",
       " ('biosphere3', 'e2c5109f-9a68-4828-b824-eb2193864803'): 67,\n",
       " ('biosphere3', '68be4a67-89e0-4cfe-a089-fa8706de230e'): 68,\n",
       " ('biosphere3', '7a35cc5e-9093-4ef6-bf78-37221ebcb1bb'): 69,\n",
       " ('biosphere3', 'e8bc4c9e-c34f-4983-aea0-2433f3397a3a'): 70,\n",
       " ('biosphere3', '4307f245-e0b9-4ad0-b951-85f4cf08393f'): 71,\n",
       " ('biosphere3', '9afa0173-ecbd-4f2c-9c5c-b3128a032812'): 72,\n",
       " ('biosphere3', '250dd08a-ee61-4a2b-86f8-b21e9ebe6ed9'): 73,\n",
       " ('biosphere3', '5bbcdc6d-b1a7-4b63-b625-76060c767de7'): 74,\n",
       " ('biosphere3', '34550110-0552-46d2-b07d-6b9599892278'): 75,\n",
       " ('biosphere3', 'd3e038e1-728c-4dea-ac30-c9abbbfcbc84'): 76,\n",
       " ('biosphere3', '2e3da68d-e404-4377-bce9-b35244980811'): 77,\n",
       " ('biosphere3', 'fdda4f8e-b620-4df6-92a9-101a251d2f42'): 78,\n",
       " ('biosphere3', 'caf066cf-40ce-47a8-ba4c-969fcd6019c7'): 79,\n",
       " ('biosphere3', '42901ad7-4be5-47d9-82cd-380ca34281c1'): 80,\n",
       " ('biosphere3', 'bc13f992-b93e-4ef3-921a-2898e7674a7c'): 81,\n",
       " ('biosphere3', '34d04e86-d650-4f1e-96d5-7f09132fddcc'): 82,\n",
       " ('biosphere3', 'cab8d859-018a-4919-9324-f3febdea35e0'): 83,\n",
       " ('biosphere3', '5c97dd6c-aaa5-4477-aaf8-dbd0674499c4'): 84,\n",
       " ('biosphere3', '1a7fba0e-91a3-4ac2-a58e-44575eeed078'): 85,\n",
       " ('biosphere3', 'fe17e7c1-9574-4880-b7e6-ec09c2e3ae5d'): 86,\n",
       " ('biosphere3', 'a912f450-5233-489b-a2e9-8c029fab480f'): 87,\n",
       " ('biosphere3', '79238018-8ec1-4615-9469-2b0df95a43c3'): 88,\n",
       " ('biosphere3', 'b7cd268b-1b52-45f1-91fe-cd51bf59d21d'): 89,\n",
       " ('biosphere3', 'b301fa9a-ba60-4eac-8ccc-6ccbdf099b35'): 90,\n",
       " ('biosphere3', '73b7f080-b7ae-417c-b740-b4c9eabfb35a'): 91,\n",
       " ('biosphere3', 'ef475b50-9cd0-4e7c-9c59-07868fe16e91'): 92,\n",
       " ('biosphere3', 'f992dcb8-c19c-46b1-a36b-3053ef83b755'): 93,\n",
       " ('biosphere3', 'd6911d36-3fec-41fe-8ef9-540f6543a240'): 94,\n",
       " ('biosphere3', 'da1157e2-7593-4dfd-80dd-a3449b37a4d8'): 95,\n",
       " ('biosphere3', '4cadbc9f-0472-4bb9-a942-df5b90e37878'): 96,\n",
       " ('biosphere3', '921df5eb-cde6-40ea-8744-c02746db0a3c'): 97,\n",
       " ('biosphere3', 'c5c25aa6-d630-40bd-bed7-4e718c877ef4'): 98,\n",
       " ('biosphere3', 'd157416d-db9b-4f88-a7f3-a9a5f1ea88f2'): 99,\n",
       " ('biosphere3', 'c3c3d385-57fa-4d47-a2c5-d838006e7985'): 100,\n",
       " ('biosphere3', 'c970e81e-1c4e-4f21-814c-0c25444f41d2'): 101,\n",
       " ('biosphere3', 'b5382d42-b1ee-4992-ba8d-a362b33d0401'): 102,\n",
       " ('biosphere3', '836493d4-5c50-4713-b2a8-7979b830c1a5'): 103,\n",
       " ('biosphere3', '06874cbb-2daf-4981-a55e-2c38be5b7277'): 104,\n",
       " ('biosphere3', 'ee540366-b970-46af-94d8-4c253ded5577'): 105,\n",
       " ('biosphere3', 'b61057a3-a0bc-4158-882e-b819c4797419'): 106,\n",
       " ('biosphere3', '5c238e5f-97c8-4837-8d67-48899ddd43be'): 107,\n",
       " ('biosphere3', '52317c31-7bdc-47de-9c23-ecf55127de75'): 108,\n",
       " ('biosphere3', 'c9461a73-d00a-4fc7-a890-a9eda6af3185'): 109,\n",
       " ('biosphere3', '793f8194-88c0-4315-b59e-58de48ba6ce4'): 110,\n",
       " ('biosphere3', '042de84f-261d-4e29-bb7d-f43601cc2c7d'): 111,\n",
       " ('biosphere3', '7ad7644f-8796-438e-a15b-86345622886b'): 112,\n",
       " ('biosphere3', '1c389e81-9f9d-4e52-a6e9-11cc6b73d90d'): 113,\n",
       " ('biosphere3', '8b4f0e68-38d5-4bee-b647-680d3a117560'): 114,\n",
       " ('biosphere3', '12051b95-831a-49c0-9a70-fbc0e8fb9af9'): 115,\n",
       " ('biosphere3', '6a903634-c97f-4c49-a7c0-88f0e6ac7a23'): 116,\n",
       " ('biosphere3', '1a1d0d4b-6b95-4815-ad06-2ec5fe333c43'): 117,\n",
       " ('biosphere3', 'c1ad9058-6019-4835-ab47-d3e3f35b94d9'): 118,\n",
       " ('biosphere3', 'e157e3dd-88b9-4256-ab2e-ff82e7b8d088'): 119,\n",
       " ('biosphere3', 'ec242c43-095c-4b42-8907-e0f13573f0a4'): 120,\n",
       " ('biosphere3', '69bb7dd8-43bc-49ff-a67c-0eb8e82558d0'): 121,\n",
       " ('biosphere3', '5189de76-6bbb-44ba-8c42-5714f1b4371f'): 122,\n",
       " ('biosphere3', 'ed63abd0-7cc6-4825-8759-b367e560fe95'): 123,\n",
       " ('biosphere3', '3a3489d9-0d1f-4fb1-910a-1fdc7f1e4f71'): 124,\n",
       " ('biosphere3', '5c234628-ab1e-4284-ae2b-f1c2f6883f71'): 125,\n",
       " ('biosphere3', 'a9224ed8-bdfd-4e66-9e97-df752e2485ef'): 126,\n",
       " ('biosphere3', 'c8f18160-6937-4bb9-ad0c-dffa942ca41e'): 127,\n",
       " ('biosphere3', 'd961f86b-e36b-4ac6-8cd4-b253e496de79'): 128,\n",
       " ('biosphere3', 'af99a064-3ca7-43cd-9c72-cf20d245b0a8'): 129,\n",
       " ('biosphere3', '5064da53-d4ec-44ee-ba23-b20a4f8c4964'): 130,\n",
       " ('biosphere3', '5c9d8310-f7e1-4e98-8e73-7eece0435676'): 131,\n",
       " ('biosphere3', '6bc58b2a-8d1c-4ebf-a0e7-76bb59ff462a'): 132,\n",
       " ('biosphere3', '85bec19f-c785-4364-8ef6-472b8e9dd90e'): 133,\n",
       " ('biosphere3', 'cb3265f8-49a0-4b09-9bd9-c374370c4cc4'): 134,\n",
       " ('biosphere3', 'f09c3144-a268-4bed-8ca2-63005b6ef75f'): 135,\n",
       " ('biosphere3', 'c49fb4cd-eed0-4438-9052-9612473cdbae'): 136,\n",
       " ('biosphere3', '21f84442-7dc8-492a-8253-867dd1caf8d6'): 137,\n",
       " ('biosphere3', 'e1b4f61b-e191-4c48-852b-58b11b2245eb'): 138,\n",
       " ('biosphere3', 'c199261c-8234-43c5-b906-5b67707e4395'): 139,\n",
       " ('biosphere3', 'c75dd699-08a5-4215-acf5-e618995e768f'): 140,\n",
       " ('biosphere3', 'fc9f9a81-c4b9-4dce-bc20-9f04e05ca2f1'): 141,\n",
       " ('biosphere3', 'b4580545-243d-48d2-a3a0-2633a4f46fb1'): 142,\n",
       " ('biosphere3', '0131a35d-1d37-46ee-aed2-5ca12ac07ad4'): 143,\n",
       " ('biosphere3', '835d0907-a668-4d92-b6b6-7b56fa343713'): 144,\n",
       " ('biosphere3', '50fb73f7-935a-4cf8-81a0-ff3ca0ea35f9'): 145,\n",
       " ('biosphere3', '7e7039a1-6186-4ef6-a7e6-d135b7fe5601'): 146,\n",
       " ('biosphere3', '8ca6c84b-7f56-47e6-8d17-4f2dbc49a943'): 147,\n",
       " ('biosphere3', '97afe0e8-be32-431e-94ea-a1fa5d156c76'): 148,\n",
       " ('biosphere3', '16f40b1c-f7c8-4100-9916-81a260493951'): 149,\n",
       " ('biosphere3', 'e64254e3-07d3-4330-b6de-6a858f108124'): 150,\n",
       " ('biosphere3', '09872080-d143-4fb1-a3a5-647b077107ff'): 151,\n",
       " ('biosphere3', '19b55ff9-4964-45d1-95b6-e24d7f4ffbd3'): 152,\n",
       " ('biosphere3', '33fd8342-58e7-45c9-ad92-0951c002c403'): 153,\n",
       " ('biosphere3', '282973e4-3c2d-4a9c-a3f2-d39a5b36aa76'): 154,\n",
       " ('biosphere3', 'd6c7644f-0d7c-4bb3-b8bb-686ebede951e'): 155,\n",
       " ('biosphere3', 'e38eb567-b080-4f80-894c-f6984eec5119'): 156,\n",
       " ('biosphere3', '08f3db43-3185-4d9d-846a-404e27928eaf'): 157,\n",
       " ('biosphere3', '926fdcf3-6c44-44e2-acb6-159060ac65cf'): 158,\n",
       " ('biosphere3', '33a69662-583b-45b8-8cb9-94f59fca9133'): 159,\n",
       " ('biosphere3', 'd42cf485-e4e1-4f13-8d6c-7d8b8a3903df'): 160,\n",
       " ('biosphere3', 'ee9fdd7c-5e29-4bdb-852a-3258f06ec2ab'): 161,\n",
       " ('biosphere3', 'bd64a010-0115-47ca-942f-cbdac1d26b87'): 162,\n",
       " ('biosphere3', '87a69874-34f9-4070-a525-aa301ab2634b'): 163,\n",
       " ('biosphere3', '34b96163-a3df-4bc1-8224-e2a9fe01b23f'): 164,\n",
       " ('biosphere3', '4d40d8e3-9bc7-4ab1-ac5c-4f4a76fda8e5'): 165,\n",
       " ('biosphere3', 'e0346157-1f0e-4bf9-b234-78fead761e18'): 166,\n",
       " ('biosphere3', '4f1d83f7-671d-4865-b42a-e6f01661ec17'): 167,\n",
       " ('biosphere3', '24594cef-c50b-4e02-a5e3-c40cb06fea18'): 168,\n",
       " ('biosphere3', '18aa2daa-0188-4328-b24b-1ad1398ecf81'): 169,\n",
       " ('biosphere3', 'fc0b5c85-3b49-42c2-a3fd-db7e57b696e3'): 170,\n",
       " ('biosphere3', 'cc667a3d-e88b-42f7-b265-461b7d66837f'): 171,\n",
       " ('biosphere3', 'be10dd54-eb4d-48ae-9e14-7d79ce8b170d'): 172,\n",
       " ('biosphere3', '099b36ab-4c03-4587-87f4-2f81e337afb8'): 173,\n",
       " ('biosphere3', '481c0dd4-3ab2-47b5-94c4-b990e8a9dde5'): 174,\n",
       " ('biosphere3', 'cb16ed3f-19b5-45c6-b504-b2be562d0002'): 175,\n",
       " ('biosphere3', '47a8b1b4-d9f3-4dee-b47a-dac7e75cccbc'): 176,\n",
       " ('biosphere3', 'd80610f2-df83-4e2a-9dc3-f74fced6577f'): 177,\n",
       " ('biosphere3', '4a15cd40-96e6-4912-8298-c0fa8f9e2aee'): 178,\n",
       " ('biosphere3', '1469e83d-2ac9-4e64-84e0-cfe37c85fd9d'): 179,\n",
       " ('biosphere3', 'e6551223-73b6-4289-b841-c5cdeb25abd9'): 180,\n",
       " ('biosphere3', '0f440cc0-0f74-446d-99d6-8ff0e97a2444'): 181,\n",
       " ('biosphere3', '081ea9c3-9cbe-41d7-a962-840833ba98db'): 182,\n",
       " ('biosphere3', '494eb62d-3e16-4a81-b344-6d6dfd9fd4e2'): 183,\n",
       " ('biosphere3', '69b50a29-addb-455f-823d-ed2ed68e8bb5'): 184,\n",
       " ('biosphere3', '295c9740-6fdb-4676-9eb8-15e3786f713d'): 185,\n",
       " ('biosphere3', 'fe65f7e4-ee5b-4a6f-9d60-6c2f829dca3f'): 186,\n",
       " ('biosphere3', 'ada3ecfe-8244-4389-bcce-e83ca4f66e09'): 187,\n",
       " ('biosphere3', '8cbaa905-41b0-4327-8403-bf1c8eb25429'): 188,\n",
       " ('biosphere3', '08151735-9d1b-4b1c-a8b1-f341ade54f2f'): 189,\n",
       " ('biosphere3', '334548b2-e05c-4e7b-9746-c27dd2aaa58c'): 190,\n",
       " ('biosphere3', 'ca53777e-d36e-4db0-95ce-009f1d8593b8'): 191,\n",
       " ('biosphere3', '895fa803-ad56-4b1d-a37b-23a9135ce26a'): 192,\n",
       " ('biosphere3', '3277a622-8234-4c73-ba22-526cf9a0fccc'): 193,\n",
       " ('biosphere3', 'd03809fd-dae9-4771-aec0-934a40bbb7e5'): 194,\n",
       " ('biosphere3', '6744b13d-2908-4725-88a3-1afd6696c899'): 195,\n",
       " ('biosphere3', 'b700cb75-eeff-444c-aabc-ea4dbd7a630e'): 196,\n",
       " ('biosphere3', '2b3cf153-0dd6-4b79-b0d4-b4df832f3a7e'): 197,\n",
       " ('biosphere3', '5457df7d-0461-407c-9f09-0338dbff77ef'): 198,\n",
       " ('biosphere3', 'f2e74872-f56d-4e49-8dfd-1428c6fbd59c'): 199,\n",
       " ('biosphere3', 'ea4e9316-5080-4b3b-bbf3-1949f6d7577a'): 200,\n",
       " ('biosphere3', 'f1c0cd31-8d5e-4bc9-91f6-79e76329234e'): 201,\n",
       " ('biosphere3', '8ebbd256-8114-4438-98c9-bbed994c140b'): 202,\n",
       " ('biosphere3', 'abb7f444-e74a-46b5-a6a5-080a847cbbc5'): 203,\n",
       " ('biosphere3', 'e70d3563-78c4-42cf-8cf3-5ac42c499589'): 204,\n",
       " ('biosphere3', '9beb60a3-3a8c-4345-9a0e-107eec2f709f'): 205,\n",
       " ('biosphere3', '3e5d7d91-67d7-4afb-91dd-36fab58e4685'): 206,\n",
       " ('biosphere3', '5cf55e96-d9dc-4b84-9c7e-a4b8ade70bf4'): 207,\n",
       " ('biosphere3', '0ace7678-a181-48e8-8728-d912a8b56c57'): 208,\n",
       " ('biosphere3', 'f9749677-9c9f-4678-ab55-c607dfdc2cb9'): 209,\n",
       " ('biosphere3', 'a5634f8a-d2f3-4e9a-8ee5-6f11234b9b1e'): 210,\n",
       " ('biosphere3', '2f1e926a-ec96-432b-b2a6-bd5e3de2ff87'): 211,\n",
       " ('biosphere3', '46190ab6-8a25-40e2-8be1-b5145fed2f25'): 212,\n",
       " ('biosphere3', '52a00fec-4289-485c-a56e-380de43e1b97'): 213,\n",
       " ('biosphere3', 'cc1c987a-2b6e-4cbc-969a-73f1c96de448'): 214,\n",
       " ('biosphere3', 'd2d4b344-3c58-4b0c-868a-ac0bdb2027dc'): 215,\n",
       " ('biosphere3', '77c46f0e-c8c0-4bc3-992c-2a9725d49f70'): 216,\n",
       " ('biosphere3', 'c1b91234-6f24-417b-8309-46111d09c457'): 217,\n",
       " ('biosphere3', '1fc409bc-b8e7-48b2-92d5-2ced4aa7bae2'): 218,\n",
       " ('biosphere3', '66c985be-8604-48ec-92e1-4e172128dc11'): 219,\n",
       " ('biosphere3', '0fc1db69-f50d-4a88-b9d8-1446e691063c'): 220,\n",
       " ('biosphere3', '9bbae55a-35de-4eff-a219-814a9fec5ac2'): 221,\n",
       " ('biosphere3', '9e9b6792-40e6-4d62-a3e0-ebebc0c65166'): 222,\n",
       " ('biosphere3', '4446c2d0-1bc1-422f-9b97-0867d5602dbb'): 223,\n",
       " ('biosphere3', '7e769b3e-03fb-4b53-be15-85a910dcfea9'): 224,\n",
       " ('biosphere3', '4b6b9b76-3199-4bd0-b11d-f8f2efbeac4e'): 225,\n",
       " ('biosphere3', 'ac8571b8-b00b-479d-93cf-b9374feaee05'): 226,\n",
       " ('biosphere3', '0b9698ec-8b52-4986-8f9f-ad30915aa00c'): 227,\n",
       " ('biosphere3', 'f5d022f1-c26d-4044-ac88-d7c5bbff83c4'): 228,\n",
       " ('biosphere3', 'f05cca02-ec18-4acc-9939-59658ff9a554'): 229,\n",
       " ('biosphere3', 'e7e0031e-791d-42f4-b26c-ec322db637bc'): 230,\n",
       " ('biosphere3', '04eb0695-e67b-46e5-9516-da6bde119822'): 231,\n",
       " ('biosphere3', '5716c728-bd33-414d-8691-16e5534f5d37'): 232,\n",
       " ('biosphere3', 'fb83d61e-6fe3-4da7-8eb2-b0e2dc85a76d'): 233,\n",
       " ('biosphere3', 'eb2bfdf1-1881-40e8-bebb-d674b2a79149'): 234,\n",
       " ('biosphere3', '9f9f1f14-6eee-4067-b4a5-80e75fc7b295'): 235,\n",
       " ('biosphere3', '00e73fdb-98df-4a03-8290-79931cddfd12'): 236,\n",
       " ('biosphere3', 'fbebc389-bce6-4540-8869-50076139f370'): 237,\n",
       " ('biosphere3', '662c6aea-3c5b-4205-a3e0-942f29af03c4'): 238,\n",
       " ('biosphere3', '9cbbd44e-bc02-4586-9d58-e223db6f5e24'): 239,\n",
       " ('biosphere3', 'b8de5961-4e83-4731-bac1-77a4d01234a4'): 240,\n",
       " ('biosphere3', '9e8d685c-9948-4dc0-9c0b-d5c511e14d05'): 241,\n",
       " ('biosphere3', 'f77c5e36-ee47-4437-b757-03139bb1d6d6'): 242,\n",
       " ('biosphere3', 'd36dd104-5214-4ca2-b1ab-c878987a42fe'): 243,\n",
       " ('biosphere3', '1acb026e-9de6-48fe-9e0d-be4d24125bbc'): 244,\n",
       " ('biosphere3', 'f9923ae7-bdab-44d8-897c-44310aea76b7'): 245,\n",
       " ('biosphere3', '66729b69-c76f-43b2-bd9a-4a03c4983afd'): 246,\n",
       " ('biosphere3', 'd48e95bf-3ea9-4a35-a791-d0984dcb539e'): 247,\n",
       " ('biosphere3', 'e5cbe371-d33e-46ef-a832-a176f5e28520'): 248,\n",
       " ('biosphere3', '693921ef-e02d-4072-add0-55aa4631b213'): 249,\n",
       " ('biosphere3', '4f5a338d-a56a-417d-ae4d-cfd6f51a4729'): 250,\n",
       " ('biosphere3', '28be1d65-6b09-4ebd-8599-4366c3c2abab'): 251,\n",
       " ('biosphere3', 'f9d36529-abde-4ed2-a82c-d365ae2c713f'): 252,\n",
       " ('biosphere3', '7005a356-23d8-4d38-9dbc-fa75401b400e'): 253,\n",
       " ('biosphere3', '442511cc-a98b-4242-9229-5736cb9a9399'): 254,\n",
       " ('biosphere3', 'b90c9726-20b9-4d44-b169-368273e9a3d4'): 255,\n",
       " ('biosphere3', 'a07b8a8c-8cab-4656-a82f-310e8069e323'): 256,\n",
       " ('biosphere3', '14de323f-9e2d-4beb-b28e-6b93bae98da8'): 257,\n",
       " ('biosphere3', 'b066708e-5bab-45ee-9244-e1be2fa5b5f3'): 258,\n",
       " ('biosphere3', '479edec6-763c-49fc-83f8-49780f08cf29'): 259,\n",
       " ('biosphere3', '21c257b2-57ce-4a6e-b4bd-40f0f75f310f'): 260,\n",
       " ('biosphere3', '5fa36ce3-aed0-443b-a09d-4cdf25b41995'): 261,\n",
       " ('biosphere3', '01f511e2-7030-45f0-abb7-c24a4fae698b'): 262,\n",
       " ('biosphere3', '7a63162b-4ffe-447f-ba52-782d5548b774'): 263,\n",
       " ('biosphere3', 'bc0a4d1f-3ada-4dd8-8ab4-97dc45db3295'): 264,\n",
       " ('biosphere3', '7238734e-18ef-4759-914d-61e9ed11bd4e'): 265,\n",
       " ('biosphere3', '01248058-8a0f-40f6-8555-13ec37c7931d'): 266,\n",
       " ('biosphere3', '531c5bca-0304-4c3f-a058-c60371df26fb'): 267,\n",
       " ('biosphere3', 'bc97531c-12d8-4113-bcb2-663a47d12d0f'): 268,\n",
       " ('biosphere3', '91c76c8e-d725-475d-9be6-a90b99747075'): 269,\n",
       " ('biosphere3', 'e34d3da4-a3d5-41be-84b5-458afe32c990'): 270,\n",
       " ('biosphere3', '23f4021a-5b2d-4e16-ba87-76e871b32392'): 271,\n",
       " ('biosphere3', 'f13b60bd-4185-4a76-ba54-fc25ce180de4'): 272,\n",
       " ('biosphere3', '2a5ed451-12a2-47db-b4dc-fa0bfbc01d79'): 273,\n",
       " ('biosphere3', '9ba8c05d-1593-45a5-8d3b-5c4f3e9fef32'): 274,\n",
       " ('biosphere3', '15648250-4537-4960-a6dc-0802d39c26a7'): 275,\n",
       " ('biosphere3', 'b3701449-fe4b-4513-b4a4-065e62f03e5c'): 276,\n",
       " ('biosphere3', 'cdf99498-1489-4226-97ad-94fa85b0528b'): 277,\n",
       " ('biosphere3', '6bc9e39e-bfc5-4929-88d9-863684901143'): 278,\n",
       " ('biosphere3', '8c690557-25ce-48f2-91b9-58126e82aaf6'): 279,\n",
       " ('biosphere3', '48e16ea8-128c-4d96-a4f4-668f12249434'): 280,\n",
       " ('biosphere3', '18c582fe-7336-4138-8797-2db8b7a754c7'): 281,\n",
       " ('biosphere3', '3d92a9a3-8942-4ed9-8522-fe027656e9e9'): 282,\n",
       " ('biosphere3', 'b7a0a14a-b0b2-4aeb-923f-5c2ec1251dd5'): 283,\n",
       " ('biosphere3', '334f3d29-ec7d-4ca4-9e65-524c64c6649c'): 284,\n",
       " ('biosphere3', '6d3849fb-dbf1-40cf-905e-ba11be1ba9f4'): 285,\n",
       " ('biosphere3', '7c337428-fb1b-45c7-bbb2-2ee4d29e17ba'): 286,\n",
       " ('biosphere3', '80ef64e4-312c-485a-be3d-30856adc0c11'): 287,\n",
       " ('biosphere3', '3f8e24d7-3d44-4a47-870f-9e3e74decca4'): 288,\n",
       " ('biosphere3', '00d2fef1-e4d4-4a16-8e81-b8cc514e4c25'): 289,\n",
       " ('biosphere3', '5d02269c-1130-47a5-aa86-00d79802dc88'): 290,\n",
       " ('biosphere3', 'e69b028e-e549-4869-ae4a-b85ef8bcb7a9'): 291,\n",
       " ('biosphere3', 'b268aafb-2e5a-4bb1-a3ab-37f378ee8090'): 292,\n",
       " ('biosphere3', '242b4a08-f6ff-496d-ae0f-bf8f8bc77692'): 293,\n",
       " ('biosphere3', '8508a83c-6a37-4159-93cc-21a2645390ab'): 294,\n",
       " ('biosphere3', '6b7fbea6-4a86-40f9-954d-3c9b3611abfd'): 295,\n",
       " ('biosphere3', 'fa0c2bee-8dd9-4f8a-8489-b1f3b43de958'): 296,\n",
       " ('biosphere3', '90d374f1-b739-45b2-a734-d6bdd8c8dc9c'): 297,\n",
       " ('biosphere3', '1d0f4392-8c91-4d01-8a5d-f8fe1f5b05c9'): 298,\n",
       " ('biosphere3', '1fd12487-3082-4e34-b211-8ba77d1f51f6'): 299,\n",
       " ('biosphere3', 'd1812c3b-7f5e-4ce3-80b2-e599642168cf'): 300,\n",
       " ('biosphere3', '5d4b497b-d265-42d1-a41a-113785a6d694'): 301,\n",
       " ('biosphere3', '971f25e5-1501-454a-8a5a-2723f84d7974'): 302,\n",
       " ('biosphere3', '704399e3-cf6b-483d-84f5-466e91a9d17c'): 303,\n",
       " ('biosphere3', '7d3f7498-3596-478a-9fa1-72201ef94082'): 304,\n",
       " ('biosphere3', '82bb882b-572f-4af0-b35b-4c846ee49dda'): 305,\n",
       " ('biosphere3', '59ded913-17fe-4b3e-80cb-79b97cdbef9a'): 306,\n",
       " ('biosphere3', '4c44e04f-9b3d-4389-bf08-1bddf9dfa9e7'): 307,\n",
       " ('biosphere3', '59177170-590b-4d94-833a-e23d899f422e'): 308,\n",
       " ('biosphere3', '35357464-0d86-4bbd-940f-7d0dd8e5df57'): 309,\n",
       " ('biosphere3', 'f563b90e-a300-4403-b278-d2fdcd73e5a7'): 310,\n",
       " ('biosphere3', 'c7c769bb-89b9-4459-afed-e3acecd39339'): 311,\n",
       " ('biosphere3', '99c65c6a-6871-40ba-af79-5bd6851688e4'): 312,\n",
       " ('biosphere3', '257eacb9-96fe-4a3d-961a-f5e6c7823ff0'): 313,\n",
       " ('biosphere3', '8c173ca1-5f74-4a6e-89e5-dd18e0f18d1a'): 314,\n",
       " ('biosphere3', '38eff837-5465-47a9-a1c9-e1edd70922ef'): 315,\n",
       " ('biosphere3', 'c73e75dc-c02d-4192-ab43-faf29c119fae'): 316,\n",
       " ('biosphere3', 'bba88093-bd9b-4b95-b869-74e718b796dc'): 317,\n",
       " ('biosphere3', '4b22b04e-4cfa-4a8c-b1da-6cd436d03ef6'): 318,\n",
       " ('biosphere3', 'aca1714f-0040-4a65-a73a-0e38aa9f50f4'): 319,\n",
       " ('biosphere3', '93e71b71-05d4-4a44-a85a-592a6f21cf0c'): 320,\n",
       " ('biosphere3', '4412a76b-eb71-4fd3-afc9-6871a58cae5f'): 321,\n",
       " ('biosphere3', '19ca9276-e5c6-47f5-a3a4-18284d2a27c3'): 322,\n",
       " ('biosphere3', 'c15f6c4d-bf7a-4a7c-91c6-53aad6a630a8'): 323,\n",
       " ('biosphere3', 'c63b5ff6-0ca1-44a0-92ba-f634fb8373ad'): 324,\n",
       " ('biosphere3', 'ce6e5657-5e48-472d-b67e-fab246234be6'): 325,\n",
       " ('biosphere3', '84aa799e-9d98-4d34-85e0-516d28ab1be9'): 326,\n",
       " ('biosphere3', 'ad419049-3445-481f-97a3-3d4529ee924f'): 327,\n",
       " ('biosphere3', 'b4604f84-4a09-412e-86ed-078533d9da5d'): 328,\n",
       " ('biosphere3', 'd43f7827-b47b-4652-8366-f370995fd206'): 329,\n",
       " ('biosphere3', '4c99e2cb-60ae-499e-aae1-c983fb3bd9f2'): 330,\n",
       " ('biosphere3', '51f80fcc-8eb0-4912-afbd-e9b9861e45a4'): 331,\n",
       " ('biosphere3', 'fd7aa71c-508c-480d-81a6-8052aad92646'): 332,\n",
       " ('biosphere3', '10319ea8-90db-4340-be33-b7182dca01db'): 333,\n",
       " ('biosphere3', 'f65558fb-61a1-4e48-b4f2-60d62f14b085'): 334,\n",
       " ('biosphere3', 'edc41c91-7e10-41df-8c75-d4850a2e5eb9'): 335,\n",
       " ('biosphere3', 'a3beb5ac-5149-47f6-a035-53fc5030f10a'): 336,\n",
       " ('biosphere3', '0ebdb68a-f50d-4b0c-ad4b-3a1104d8b454'): 337,\n",
       " ('biosphere3', '16ddda12-daf4-460c-83fb-c361bdbbc9e9'): 338,\n",
       " ('biosphere3', '9bc66656-9f37-44bc-ae0b-5d5243b8137e'): 339,\n",
       " ('biosphere3', 'a9ad523f-b721-4f07-ad9f-584053f3454d'): 340,\n",
       " ('biosphere3', 'cfdbc576-e8dc-44ef-bdf2-ddd7009ce57e'): 341,\n",
       " ('biosphere3', 'adb4b590-7fb2-47b6-84e7-d4746a94c7b5'): 342,\n",
       " ('biosphere3', 'b311427f-0de3-4190-84a5-05c8460c62d1'): 343,\n",
       " ('biosphere3', 'c7aee986-b7d8-4ad9-ad45-1ac0d68e6b78'): 344,\n",
       " ('biosphere3', 'eb23cf3a-b866-458d-94b3-9aee4145fcc9'): 345,\n",
       " ('biosphere3', '2d9f9c6b-8dca-4641-8ff9-53cb8beabd13'): 346,\n",
       " ('biosphere3', 'e60edb16-3c74-415b-9aff-a22a6f49fecb'): 347,\n",
       " ('biosphere3', '746ad09d-3f01-40ed-9802-cb274bd4fb40'): 348,\n",
       " ('biosphere3', '033fb239-a6c7-4486-9f92-f5a80b346778'): 349,\n",
       " ('biosphere3', 'faa118a7-50b6-4ea9-94bb-40a55a0e39f2'): 350,\n",
       " ('biosphere3', 'e29dddef-173f-4a4b-8265-b3d1703bc204'): 351,\n",
       " ('biosphere3', '2058d91e-bb9f-4fce-8e53-131825b14a23'): 352,\n",
       " ('biosphere3', 'd57ab983-120a-448b-a681-b876e1addecf'): 353,\n",
       " ('biosphere3', 'ffaaffd3-5deb-4508-9e5f-e47f551ac2b8'): 354,\n",
       " ('biosphere3', '9325957a-bee5-4f2d-8bd1-458729c5e49e'): 355,\n",
       " ('biosphere3', '6ab08314-53e1-4c4b-963f-3c6e6970273d'): 356,\n",
       " ('biosphere3', '535bbc83-033b-42fe-9a68-8dc9eb420385'): 357,\n",
       " ('biosphere3', '4b420f19-0421-461e-a0b6-7efbf580089b'): 358,\n",
       " ('biosphere3', '4764f5f1-69bc-4ebb-b7c6-6b54c251056e'): 359,\n",
       " ('biosphere3', '9990b51b-7023-4700-bca0-1a32ef921f74'): 360,\n",
       " ('biosphere3', 'f2efe6b2-21ae-4ed0-aacf-2a6d41d8e801'): 361,\n",
       " ('biosphere3', 'a794b444-2b77-4449-8592-0efda101b0c2'): 362,\n",
       " ('biosphere3', 'ba317646-ea99-4060-838f-7933b10f0033'): 363,\n",
       " ('biosphere3', 'a25e7873-b0fd-46eb-81da-e49d84c2ac25'): 364,\n",
       " ('biosphere3', 'ebc4c2a3-c004-4053-8048-f41fdd9324c8'): 365,\n",
       " ('biosphere3', '454c61fd-c52b-4a04-9731-f141bb7b5264'): 366,\n",
       " ('biosphere3', 'f2d5f01a-3e16-4a6c-a3dc-f6ee9a728957'): 367,\n",
       " ('biosphere3', 'ca828b6a-5c31-4cce-941e-cc7c1900e6fe'): 368,\n",
       " ('biosphere3', 'bfc0bf1c-e5e2-4702-a502-08c892031837'): 369,\n",
       " ('biosphere3', 'cbd70647-6237-462a-9d01-d197a8b08506'): 370,\n",
       " ('biosphere3', 'ad83a9b9-77ce-4a23-852d-d606ec7f8ffb'): 371,\n",
       " ('biosphere3', '8bd0fbe9-8a4f-4367-bf7e-5cc52bc80185'): 372,\n",
       " ('biosphere3', '45acd8c0-657f-46d3-8026-4b3c9fadaeb6'): 373,\n",
       " ('biosphere3', '82f5987e-39bf-4055-8f4e-ea3a1882306f'): 374,\n",
       " ('biosphere3', '12840cef-c3b8-4ef2-b7d4-3a73dbd6a280'): 375,\n",
       " ('biosphere3', '7bddbf65-6f39-4ae1-bddf-d8d4632c8efe'): 376,\n",
       " ('biosphere3', 'c7d38707-3b22-4fb1-b001-0c8cad496a60'): 377,\n",
       " ('biosphere3', '4d54a415-82d7-49ac-88e1-712bd0009363'): 378,\n",
       " ('biosphere3', 'c10f1360-e1dc-44fa-8c2d-00bdd8524724'): 379,\n",
       " ('biosphere3', '009f3374-e604-4e24-88f5-d785cd93aac7'): 380,\n",
       " ('biosphere3', 'b2dc8668-86de-4207-b20e-dc81dea63c98'): 381,\n",
       " ('biosphere3', '5f1d740e-804d-4080-8ef9-aeaa0d8e1115'): 382,\n",
       " ('biosphere3', 'ae2c3adf-7f7d-4973-a8e8-3fe1300f8183'): 383,\n",
       " ('biosphere3', '8dba66e2-0f2e-4038-84ef-1e40b4f573a6'): 384,\n",
       " ('biosphere3', '541b633c-17a3-4047-bce6-0c0e4fdb7c10'): 385,\n",
       " ('biosphere3', '6248aeed-1ce1-49ee-be1c-3471ebf0a82e'): 386,\n",
       " ('biosphere3', '96b0e9d0-5bfc-4113-ac30-c9b8a310b534'): 387,\n",
       " ('biosphere3', '049a1473-3a62-4121-982b-5d15d0f2c683'): 388,\n",
       " ('biosphere3', 'a6ad3fc7-c019-454f-a899-43be7913a598'): 389,\n",
       " ('biosphere3', 'eeaeefc1-0af9-45e5-99a8-2333a387f0ae'): 390,\n",
       " ('biosphere3', '9d1efa17-070a-4602-a65f-daf5056b0647'): 391,\n",
       " ('biosphere3', '0a11b30c-b502-414a-8b73-31375233cc17'): 392,\n",
       " ('biosphere3', 'd85a44cb-8407-4997-a146-581e4f35f39d'): 393,\n",
       " ('biosphere3', '17a98e7f-a8fd-431d-9bb6-6c4bf3fc5517'): 394,\n",
       " ('biosphere3', '7ecc2b66-8dde-4266-8832-f492f564377b'): 395,\n",
       " ('biosphere3', 'd0779a5e-6969-4144-954e-ceb81fb83f15'): 396,\n",
       " ('biosphere3', '934c5e25-5370-421c-b079-07d01c49dedb'): 397,\n",
       " ('biosphere3', 'bc269269-1874-4423-b5f0-eed0f5227684'): 398,\n",
       " ('biosphere3', 'ed1fd27e-014a-41cf-842f-7b2022b0be79'): 399,\n",
       " ('biosphere3', 'efc4290c-1404-4e01-8b5e-e75c6d90615c'): 400,\n",
       " ('biosphere3', '38a622c6-f086-4763-a952-7c6b3b1c42ba'): 401,\n",
       " ('biosphere3', '57c71b25-4663-4fad-9167-7ce5be3e8268'): 402,\n",
       " ('biosphere3', '26efe47c-92a5-4dea-b4d0-eac13e418a58'): 403,\n",
       " ('biosphere3', 'fd000a8d-2e90-4042-b148-cfb6bdfbbff5'): 404,\n",
       " ('biosphere3', '1584734d-c5c8-42a5-aa51-0f6a92a9cc0d'): 405,\n",
       " ('biosphere3', 'e97b784a-ec09-4b1b-9f14-cc0ce9799c9e'): 406,\n",
       " ('biosphere3', '19108dfd-9b70-4fca-bac5-d523f8b5d3c0'): 407,\n",
       " ('biosphere3', '2ba5e39b-adb6-4767-a51d-90c1cf32fe98'): 408,\n",
       " ('biosphere3', '8e2a5517-13ff-4423-b1ec-3632b0a72bf5'): 409,\n",
       " ('biosphere3', '45afb543-bc53-471e-8fc9-6ed3a5775071'): 410,\n",
       " ('biosphere3', '7e246e3a-5cff-43fc-a8e6-02d191424559'): 411,\n",
       " ('biosphere3', 'e71f95a5-fd82-4128-9fd1-be3f0e85d0fc'): 412,\n",
       " ('biosphere3', '10571d92-ea97-4ac6-adb6-b25893a631cb'): 413,\n",
       " ('biosphere3', 'a1891db2-db98-45fc-ae0e-b3d3c17850c5'): 414,\n",
       " ('biosphere3', '71234253-b3a7-4dfe-b166-a484ad15bee7'): 415,\n",
       " ('biosphere3', 'dec2d31c-00b1-454a-9b2a-37875c0af04a'): 416,\n",
       " ('biosphere3', 'e47a779e-8fcb-4d0e-bcff-b9b14a5be827'): 417,\n",
       " ('biosphere3', 'fa39136e-1ef6-43c1-af68-104da104568d'): 418,\n",
       " ('biosphere3', '3e419ebc-c0f1-4f85-a544-cf3460a680b6'): 419,\n",
       " ('biosphere3', '35c746fb-2d4a-4d06-9955-1973ce67b74e'): 420,\n",
       " ('biosphere3', '31998285-fb5c-411d-b853-ce78be2a0b49'): 421,\n",
       " ('biosphere3', '512a5356-8059-4772-a43f-42e3c4f3d299'): 422,\n",
       " ('biosphere3', '8bd1295e-4af1-4177-88a2-6f56ac8e4546'): 423,\n",
       " ('biosphere3', '7a16b680-6d9a-4db3-a23e-0ec64aca5995'): 424,\n",
       " ('biosphere3', '7da45a0b-0dcf-413c-8de0-44d8ebca9e6e'): 425,\n",
       " ('biosphere3', '1b0a8570-eab4-46c2-9b67-c9b918e75676'): 426,\n",
       " ('biosphere3', '1f4afa32-a9a2-40da-8396-104452cb637f'): 427,\n",
       " ('biosphere3', '7120eec5-cf9a-4c69-83f2-f1a58813754c'): 428,\n",
       " ('biosphere3', 'ce2ceed1-2503-4566-8175-f4456dbac42b'): 429,\n",
       " ('biosphere3', 'e732d6dc-d502-4e03-8a5e-6c2644136b5f'): 430,\n",
       " ('biosphere3', '0878c1c6-4c1d-4f90-a2de-a9383855d5c6'): 431,\n",
       " ('biosphere3', 'b6e37022-cef7-4b2a-9e1e-f6ae4a0503e7'): 432,\n",
       " ('biosphere3', '415f43c0-3908-418d-95cd-fca46ec371b9'): 433,\n",
       " ('biosphere3', '718a3fe1-6ad8-42b6-8869-db317e79c03d'): 434,\n",
       " ('biosphere3', '478e8437-1c21-4032-8438-872a6b5ddcdf'): 435,\n",
       " ('biosphere3', 'caffa231-9312-46b9-bbdf-c2782d225ef0'): 436,\n",
       " ('biosphere3', 'ce88a9b6-0afa-4f68-9b32-8c3438bf4025'): 437,\n",
       " ('biosphere3', '69da88e0-7fb1-4223-bb2d-b6e86e2af891'): 438,\n",
       " ('biosphere3', '6f70e7c7-ef61-4489-b4f3-157e7e8541ef'): 439,\n",
       " ('biosphere3', '0b5b83a4-ef85-4db6-a739-79f8e00d5dac'): 440,\n",
       " ('biosphere3', '73b26c10-3c57-4732-8a36-6d1d98d6c925'): 441,\n",
       " ('biosphere3', '4f684798-3870-45a1-b5f2-aa3444c0b8d6'): 442,\n",
       " ('biosphere3', '6b44284d-6941-4ae6-815e-ce87f5b603bb'): 443,\n",
       " ('biosphere3', 'd45eed0a-e60a-46bb-a769-494f037c71bc'): 444,\n",
       " ('biosphere3', 'ccb169c3-8aae-4727-89bb-a7dd122946f3'): 445,\n",
       " ('biosphere3', '876d4bb6-badc-4d04-a193-71b68e908737'): 446,\n",
       " ('biosphere3', '3a6c936c-0276-4f11-9d98-1bd011387a6e'): 447,\n",
       " ('biosphere3', '042e5892-cd59-4e95-949e-cacce0e6a590'): 448,\n",
       " ('biosphere3', '5e86b7ae-1d51-485c-be33-8c12c4ce4d2e'): 449,\n",
       " ('biosphere3', '5e883a00-04e6-4d96-8dce-12d7117c6635'): 450,\n",
       " ('biosphere3', '82c27b2a-69a8-4b1e-ad4e-4de9475630c6'): 451,\n",
       " ('biosphere3', 'febbfa6e-44d4-42a0-abcd-aec8a428f75e'): 452,\n",
       " ('biosphere3', '60ea7a31-8f27-46af-bfe5-66417f00088b'): 453,\n",
       " ('biosphere3', 'a46a250e-297d-43e9-b1c4-052cdcfb79c5'): 454,\n",
       " ('biosphere3', '398ff31a-d870-4542-8ce0-9fea0e7d8110'): 455,\n",
       " ('biosphere3', '811e5fae-807b-4ba1-8fbe-67e0b088c73c'): 456,\n",
       " ('biosphere3', 'ecc877ac-3c34-4838-b1f8-6ae0ff2cd2fc'): 457,\n",
       " ('biosphere3', '67c40aae-d403-464d-9649-c12695e43ad8'): 458,\n",
       " ('biosphere3', '34837fe3-4332-493c-86bb-95a207d9c234'): 459,\n",
       " ('biosphere3', '4602b501-1c9b-4af7-bb1c-864c70c3e855'): 460,\n",
       " ('biosphere3', '6d25e386-4ef9-4d40-85c6-e694f523a4da'): 461,\n",
       " ('biosphere3', '329fc7d8-4011-4327-84e4-34ff76f0e42d'): 462,\n",
       " ('biosphere3', '5da998ca-223d-47bb-a516-2ee8c9bf6f2c'): 463,\n",
       " ('biosphere3', 'b7feaed4-a5d3-4601-894c-e10f9dc7575b'): 464,\n",
       " ('biosphere3', '963be8ca-e43d-4f8d-a97b-d8982035ffbc'): 465,\n",
       " ('biosphere3', '997dccfb-6574-46b8-ad93-7f31074abf9a'): 466,\n",
       " ('biosphere3', '60268f3d-468b-487e-acb1-24d7250cb6b3'): 467,\n",
       " ('biosphere3', '0930b6b8-d9c6-4462-966f-ac7495b63bed'): 468,\n",
       " ('biosphere3', '4a156a66-eb3e-4f87-90a2-ccd13bf942ff'): 469,\n",
       " ('biosphere3', '16eeda8a-1ea2-408e-ab37-2648495058dd'): 470,\n",
       " ('biosphere3', '5debbf40-9fc7-4115-b276-9dcae25f4cdd'): 471,\n",
       " ('biosphere3', '9542444c-7c7a-48e2-bc9c-9c7c34fb7b3e'): 472,\n",
       " ('biosphere3', '9f826bcb-5efc-4977-93f2-8415e3f957df'): 473,\n",
       " ('biosphere3', '0098b967-2131-43d2-b684-254583fbadc7'): 474,\n",
       " ('biosphere3', '2718482b-8399-442e-b89a-52fbcc22d2e6'): 475,\n",
       " ('biosphere3', '73ed05cc-9727-4abf-9516-4b5c0fe54a16'): 476,\n",
       " ('biosphere3', 'ed5ace5c-a203-4816-b33b-9fe0c5f0f519'): 477,\n",
       " ('biosphere3', 'af01e564-f816-4906-bd4f-b7c932f926b9'): 478,\n",
       " ('biosphere3', '4dbacf72-5a37-407e-9f02-1e618e58075a'): 479,\n",
       " ('biosphere3', '35df5fe0-c90d-43b4-a35a-3d97022114d2'): 480,\n",
       " ('biosphere3', 'a2f886e3-8db8-4bce-bedf-b2004b4cc558'): 481,\n",
       " ('biosphere3', 'f5f7c4c3-ce9d-47ec-8c97-62d70b286203'): 482,\n",
       " ('biosphere3', '29bb09a9-cfef-419e-8322-88e2f6bc0558'): 483,\n",
       " ('biosphere3', '4bafafca-ff89-46aa-9aaf-c93667df13a4'): 484,\n",
       " ('biosphere3', 'f7c6455a-51e5-4aba-8361-99b98d47c47b'): 485,\n",
       " ('biosphere3', '76c79f4e-3cda-428e-b8f0-0ba8bbf272b6'): 486,\n",
       " ('biosphere3', 'c941d6d0-a56c-4e6c-95de-ac685635218d'): 487,\n",
       " ('biosphere3', '7ab9afec-40e0-41b0-82b1-6cb15c84e949'): 488,\n",
       " ('biosphere3', '024c9722-1e88-412b-8c4b-10c532be8dca'): 489,\n",
       " ('biosphere3', '3ed5f377-344f-423a-b5ec-9a9a1162b944'): 490,\n",
       " ('biosphere3', '66611217-6711-4b3a-8966-4ab2b7107ca6'): 491,\n",
       " ('biosphere3', '17955b10-4c04-4fff-91e7-cf89ef1a7cca'): 492,\n",
       " ('biosphere3', '26b5c174-e20e-430a-a4b1-44de4af8b40f'): 493,\n",
       " ('biosphere3', 'bf633941-aa40-4c37-b361-b5cbfb1089f5'): 494,\n",
       " ('biosphere3', '932d7913-eb64-484c-b2ec-7aae36e29017'): 495,\n",
       " ('biosphere3', '9c54d6d2-16c9-40c1-86e4-57246f1e5820'): 496,\n",
       " ('biosphere3', 'cdcdbfc9-3d5f-4e78-8033-8dbecbb2cfec'): 497,\n",
       " ('biosphere3', 'aba012db-c837-4d42-8679-4436e19a5944'): 498,\n",
       " ('biosphere3', '1aee4aa7-32e0-48e7-a6b5-73d8acf672d3'): 499,\n",
       " ('biosphere3', 'b9b68c0c-053e-41de-ab72-8dfe1c3f5755'): 500,\n",
       " ('biosphere3', 'adfb11ec-7a41-47da-abc2-c92c59810e50'): 501,\n",
       " ('biosphere3', '68ba2022-830e-45fb-8c85-b35e94754ae9'): 502,\n",
       " ('biosphere3', '8bc65fca-548d-4831-b102-391bbdd6bc8c'): 503,\n",
       " ('biosphere3', '375bc95e-6596-4aa1-9716-80ff51b9da77'): 504,\n",
       " ('biosphere3', '23cb10a4-6228-4ce4-9fb5-7043bc31faec'): 505,\n",
       " ('biosphere3', '22798ed2-c8bb-42d5-8d7c-8e3b14d3bc3e'): 506,\n",
       " ('biosphere3', '63974d2c-11f3-45eb-be9c-726261b04d85'): 507,\n",
       " ('biosphere3', '89721e33-60fa-4447-bfc6-2f27d44a7893'): 508,\n",
       " ('biosphere3', 'ff32cb2a-4d63-435e-8787-58436bd36a83'): 509,\n",
       " ('biosphere3', '3a285c11-632b-4106-8e15-3ac4a0da78de'): 510,\n",
       " ('biosphere3', '8205df0a-7e09-4b14-9391-1b149368fcf5'): 511,\n",
       " ('biosphere3', 'c89a0749-40a5-4c9c-8770-c4295ea34977'): 512,\n",
       " ('biosphere3', '76e532b3-25c7-487e-894c-5bf306cdd012'): 513,\n",
       " ('biosphere3', 'd4b61c6c-a620-4a91-afc6-ca87ef97b55a'): 514,\n",
       " ('biosphere3', '2b178c09-89d4-49be-afbb-ec21bc158d9c'): 515,\n",
       " ('biosphere3', 'cec6e39b-700c-432f-8c80-4840b0ddc92e'): 516,\n",
       " ('biosphere3', '89324b2f-1e73-4eb1-9716-96b9be0349ac'): 517,\n",
       " ('biosphere3', 'e1aa92d7-9297-452e-ade0-e5e2acc52ad7'): 518,\n",
       " ('biosphere3', 'e189eb4e-0f6a-4054-aaf8-47df28c87ec4'): 519,\n",
       " ('biosphere3', '08b928d8-1812-4e0b-b057-4bcaaba24865'): 520,\n",
       " ('biosphere3', '6d9d5607-330d-4f8d-95bb-e6280c9dad6c'): 521,\n",
       " ('biosphere3', '9a7380d1-6e23-48ad-b35a-14bd1ecb3133'): 522,\n",
       " ('biosphere3', '01056d4b-f9b0-4dfc-b8d9-8407c8376efb'): 523,\n",
       " ('biosphere3', 'b411ec8b-c60a-4235-a3b2-8bf8443cbc55'): 524,\n",
       " ('biosphere3', '13d898ac-b9be-4723-a153-565e2a9144ac'): 525,\n",
       " ('biosphere3', 'a76cf135-2be1-4e53-9423-9211acd100f1'): 526,\n",
       " ('biosphere3', '9682172f-8194-4efc-86e0-d81d189514a7'): 527,\n",
       " ('biosphere3', '230d8a0a-517c-43fe-8357-1818dd12997a'): 528,\n",
       " ('biosphere3', '1896b498-8d13-4f58-8c17-21fe57740158'): 529,\n",
       " ('biosphere3', '5041394a-2d8f-4f9c-b399-a9f3a54ff235'): 530,\n",
       " ('biosphere3', '2d456fb8-592b-46a7-97f0-81fc2a18e587'): 531,\n",
       " ('biosphere3', 'fbe48c6a-321d-44ae-8883-b6fa4e0f4e77'): 532,\n",
       " ('biosphere3', '1a19ad61-abd0-4d42-9828-8fae315c0b06'): 533,\n",
       " ('biosphere3', 'bcbf2ad9-c338-4e11-be56-9e07113dafb3'): 534,\n",
       " ('biosphere3', '3268d8df-59cc-4740-a89f-dee8355ad7c3'): 535,\n",
       " ('biosphere3', '421d36f5-2678-4c1b-ba10-6b43521f0859'): 536,\n",
       " ('biosphere3', '95268685-7bea-4883-a412-119d7e88372c'): 537,\n",
       " ('biosphere3', '6986913c-284b-4173-95fe-4a242498b1bc'): 538,\n",
       " ('biosphere3', '2c9a7182-37c8-4777-a37a-9a007c3edb2f'): 539,\n",
       " ('biosphere3', '92681c17-2514-4151-aabf-baee3fd8e5f5'): 540,\n",
       " ('biosphere3', 'ef06f2a4-4b8c-4740-9e06-0c2126d1839a'): 541,\n",
       " ('biosphere3', 'd5649872-502b-4d23-b882-26d74a9fc4b4'): 542,\n",
       " ('biosphere3', '1b35070a-eb57-4f0f-a27f-5ba181ff0d4d'): 543,\n",
       " ('biosphere3', '19f84b2e-e6ff-4351-ba3a-8b650fc20d14'): 544,\n",
       " ('biosphere3', '57c27ba7-a61a-4932-8cd5-095c88ff0245'): 545,\n",
       " ('biosphere3', '856c9aa2-c20c-49a8-9417-c71bdb5f17b0'): 546,\n",
       " ('biosphere3', 'af83b42f-a4e6-4457-be74-46a87798f82a'): 547,\n",
       " ('biosphere3', '0e20b8fa-3f9a-41f2-b9aa-2b4e32c62264'): 548,\n",
       " ('biosphere3', '30fed59d-d722-482f-be4f-f3d93bdd2527'): 549,\n",
       " ('biosphere3', '2813518d-c4a8-4a8d-9542-f1882ec27c1c'): 550,\n",
       " ('biosphere3', '5d0058e0-ad1b-4c15-b0ff-a665bb04154f'): 551,\n",
       " ('biosphere3', '10b69d7a-018d-44c6-9a5e-e67fc9475b86'): 552,\n",
       " ('biosphere3', 'c52e8414-f232-4c6a-bff2-5726189789ee'): 553,\n",
       " ('biosphere3', '9877ce00-65f8-4c0c-9fcf-92aa53a2c9c0'): 554,\n",
       " ('biosphere3', '55bf893f-0d89-429c-be59-2f99b33ddb11'): 555,\n",
       " ('biosphere3', '171aebab-b5e0-493f-8776-43e1a694666f'): 556,\n",
       " ('biosphere3', 'f012d2d5-ebb4-4531-8285-0b98af3dcbd4'): 557,\n",
       " ('biosphere3', 'f0e28a62-ddf9-4c93-af81-676a58c3f2d4'): 558,\n",
       " ('biosphere3', 'e4ad89a2-c1d3-4d0b-ad44-2a7ff00b1f39'): 559,\n",
       " ('biosphere3', '5ad58fcc-e9ba-4155-a3c9-e4ffb3065a6f'): 560,\n",
       " ('biosphere3', '5fefa2d0-133d-444f-b1fe-596d15f4673e'): 561,\n",
       " ('biosphere3', '16fcd4f9-0bb8-4b84-8334-3ffb1a17aa74'): 562,\n",
       " ('biosphere3', '1b279330-0469-4d04-9fe2-4e9a38011f0c'): 563,\n",
       " ('biosphere3', '6ec6cdaa-5a01-46d4-b716-1905e56690ea'): 564,\n",
       " ('biosphere3', 'b2208d0f-61a7-4813-9861-af03bf496a05'): 565,\n",
       " ('biosphere3', '075e433b-4be4-448e-9510-9a5029c1ce94'): 566,\n",
       " ('biosphere3', '06699be8-f522-427e-89b5-8ad948a39ecb'): 567,\n",
       " ('biosphere3', 'cac53ea3-b11c-47a6-adfd-678672a088e6'): 568,\n",
       " ('biosphere3', '99cd88f6-16b7-4b28-895c-2f42101f634b'): 569,\n",
       " ('biosphere3', '83cf77ca-867b-4eef-b0f0-78d71b3d91d5'): 570,\n",
       " ('biosphere3', '64836dd0-8b0f-41ba-a7d3-be54358fc4b3'): 571,\n",
       " ('biosphere3', 'd70b4182-d633-4178-84c0-8854f5f6594b'): 572,\n",
       " ('biosphere3', '77fc7d6f-d243-428d-a4f1-19e08364e9da'): 573,\n",
       " ('biosphere3', 'e3f5fd63-7dcb-41f1-9b8a-a48a8d68bc65'): 574,\n",
       " ('biosphere3', '5ffb3576-740f-41ba-814f-8538d83a4b3b'): 575,\n",
       " ('biosphere3', 'c864aa15-0abc-41ad-9889-348106e485d8'): 576,\n",
       " ('biosphere3', 'baf58fc9-573c-419c-8c16-831ac03203b9'): 577,\n",
       " ('biosphere3', '3563bb9d-4020-4635-890b-6de95036911f'): 578,\n",
       " ('biosphere3', '921ddc9c-6898-4ad0-a00d-7c9add941c85'): 579,\n",
       " ('biosphere3', '725c7923-0ed8-43e5-b485-fad7e34bef08'): 580,\n",
       " ('biosphere3', '9e253ace-bf5e-40f2-b9d3-104595b327e4'): 581,\n",
       " ('biosphere3', '6d9550e2-e670-44c1-bad8-c0c4975ffca7'): 582,\n",
       " ('biosphere3', 'e401b1cf-f424-4837-a5f0-410514498b58'): 583,\n",
       " ('biosphere3', 'df260d38-1369-4524-a83a-bbd8ace56681'): 584,\n",
       " ('biosphere3', '4f5aad55-54d2-4628-a509-b28ef1929bb4'): 585,\n",
       " ('biosphere3', '823b5396-5fc6-427e-8a03-aeeff965e986'): 586,\n",
       " ('biosphere3', '41625ba3-8bf4-4d2a-b634-fddcdf622282'): 587,\n",
       " ('biosphere3', '2a51889e-9264-45df-9753-64c25a755d9e'): 588,\n",
       " ('biosphere3', '9bb73c31-c01d-4384-b567-15c1544ae581'): 589,\n",
       " ('biosphere3', '90ba480e-f2f2-4ee8-8299-da906df00058'): 590,\n",
       " ('biosphere3', '468bebea-17ee-49d3-b11d-c603d91c67c8'): 591,\n",
       " ('biosphere3', '72958cbe-6609-46c2-bbfa-ee4ab826ca12'): 592,\n",
       " ('biosphere3', '6f020607-b818-408d-a4b0-2c6465a6826d'): 593,\n",
       " ('biosphere3', 'e1bd008f-c3c2-47f1-ab60-35e1a842acc0'): 594,\n",
       " ('biosphere3', '2c931139-2463-4abd-9dc0-3523477499db'): 595,\n",
       " ('biosphere3', '03e91172-fca0-47f3-9014-22ae3136251b'): 596,\n",
       " ('biosphere3', 'b967e1bf-f09b-4c89-8740-ace21db47bba'): 597,\n",
       " ('biosphere3', '364cef97-0380-4d40-8b47-35e073f0c54f'): 598,\n",
       " ('biosphere3', 'd22d803d-a281-4821-8a6c-e79b75641eae'): 599,\n",
       " ('biosphere3', '39f248d5-dd9b-4460-8f34-3415dc3f3e43'): 600,\n",
       " ('biosphere3', 'ebb88ef4-50ab-4e3b-9251-c5fcdf6b4768'): 601,\n",
       " ('biosphere3', '2c872773-0a29-4831-93b9-d49b116fa7d5'): 602,\n",
       " ('biosphere3', '50deb561-3de9-4b25-9b61-1695ad2dd136'): 603,\n",
       " ('biosphere3', '393d0862-04cc-45ae-8d08-9dc2a4461b35'): 604,\n",
       " ('biosphere3', '88ef28f1-cfd5-44a0-ac34-01acf2db84a0'): 605,\n",
       " ('biosphere3', 'f276d4ca-b1ad-4575-9442-e35b5e3b618b'): 606,\n",
       " ('biosphere3', '2195d86f-e4c8-4e86-9f18-b5b065b1df7e'): 607,\n",
       " ('biosphere3', '9597c1a2-ecda-4a89-97c5-efcdc679058d'): 608,\n",
       " ('biosphere3', '78cd4852-e7b9-4301-adf7-51e730b0356a'): 609,\n",
       " ('biosphere3', 'bdce3a7c-e008-4391-be26-285f71a02453'): 610,\n",
       " ('biosphere3', 'ddd99a3a-be86-423d-b36a-a9dc8af1b1f8'): 611,\n",
       " ('biosphere3', 'fcee6eab-e906-4ddf-bc14-2b131b937893'): 612,\n",
       " ('biosphere3', 'c1513682-45ad-444e-afb5-27c660714e88'): 613,\n",
       " ('biosphere3', 'cebdf8ce-efe8-4218-a32c-612b14e352bb'): 614,\n",
       " ('biosphere3', '07f704a2-2746-4364-bcfd-606cefc30715'): 615,\n",
       " ('biosphere3', '3d719c07-ec27-4971-b7cc-4bcf17d77dd3'): 616,\n",
       " ('biosphere3', '910b7532-d541-45a5-a535-03f54997726e'): 617,\n",
       " ('biosphere3', '142ce3b0-4bd6-47a3-9991-7c657c947ffe'): 618,\n",
       " ('biosphere3', 'a192f5ac-fb5d-4e14-ac11-3c38283da9d0'): 619,\n",
       " ('biosphere3', 'feb606a8-c259-4169-9652-6b38467739f7'): 620,\n",
       " ('biosphere3', 'e55802e0-4678-42df-978e-e18aa552c33e'): 621,\n",
       " ('biosphere3', '592bf69f-8551-4611-8942-4620be0adabe'): 622,\n",
       " ('biosphere3', 'e17ab5b1-0e70-409c-b7fd-0a01e6a26de3'): 623,\n",
       " ('biosphere3', '6c97741f-8760-4a39-9e90-b534ca137a36'): 624,\n",
       " ('biosphere3', '748f22a9-eba4-4726-bef5-92c7442ce189'): 625,\n",
       " ('biosphere3', 'fce0b9ae-53c8-4ab0-9e7a-7f5c2ed2c856'): 626,\n",
       " ('biosphere3', '6b248529-b754-4be7-8b1a-91b9756fc2bc'): 627,\n",
       " ('biosphere3', 'f28d5dfb-632d-469b-b0c2-a55ce78155ff'): 628,\n",
       " ('biosphere3', '3ea5684a-6d64-4f96-8c09-1d90f997c9d4'): 629,\n",
       " ('biosphere3', '581ddcdf-82b7-4f87-83ee-761a44fea7f7'): 630,\n",
       " ('biosphere3', 'd4f02ee2-ecb5-4572-91c8-c20cd2abb2c3'): 631,\n",
       " ('biosphere3', '1e904267-caa3-40e6-a3a0-fc104489770b'): 632,\n",
       " ('biosphere3', '4673a799-36a5-4359-ac6a-fa933281bc93'): 633,\n",
       " ('biosphere3', 'f21b8022-f20d-4752-8cd6-728f56cf9c43'): 634,\n",
       " ('biosphere3', '29630a65-f38c-48a5-9744-c0121f586640'): 635,\n",
       " ('biosphere3', 'b1945566-c8ad-4d48-9135-c39eedde1e63'): 636,\n",
       " ('biosphere3', 'bc069d24-fbbd-4c05-8b6e-4089dc8249ae'): 637,\n",
       " ('biosphere3', '1eaa9ea4-40b8-414a-b198-5626400372e1'): 638,\n",
       " ('biosphere3', 'b79e26a0-88db-441f-b79b-508506e81b93'): 639,\n",
       " ('biosphere3', '3afbc2d8-1b51-4d43-87a7-e68291c1e999'): 640,\n",
       " ('biosphere3', '237ea455-6c82-4254-af86-9409df922094'): 641,\n",
       " ('biosphere3', '723a8b35-613c-4dbb-91af-ed3c06e273cc'): 642,\n",
       " ('biosphere3', '8b5d5c1d-c786-4367-94f0-fae42cd3ac0a'): 643,\n",
       " ('biosphere3', '70d467b6-115e-43c5-add2-441de9411348'): 644,\n",
       " ('biosphere3', 'f7340d88-d66b-45c8-89af-251646b2c12e'): 645,\n",
       " ('biosphere3', '62399986-3e4f-4522-b389-75eed416d838'): 646,\n",
       " ('biosphere3', '205617ae-ebc5-4245-8df6-8710d5d40615'): 647,\n",
       " ('biosphere3', '77f17646-cede-4a49-99dd-55950098b077'): 648,\n",
       " ('biosphere3', '33627701-feca-434d-a192-674a450eaaf7'): 649,\n",
       " ('biosphere3', 'd0431945-ea71-4257-9be6-78a849cd5440'): 650,\n",
       " ('biosphere3', '7ae3e6e8-75e6-4566-b18f-6d848086c4e5'): 651,\n",
       " ('biosphere3', '961ccd56-2eee-4f57-bb18-fc4362b49000'): 652,\n",
       " ('biosphere3', 'bc86067c-20e8-46e7-8419-de1eee73ccdd'): 653,\n",
       " ('biosphere3', 'a65f4744-f555-44cb-8534-aa5adc72d7a7'): 654,\n",
       " ('biosphere3', '3ddb2e36-bc1b-43a5-8ef4-cbcdbeeeea70'): 655,\n",
       " ('biosphere3', 'fe9c3a98-a6d2-452d-a9a4-a13e64f1b95b'): 656,\n",
       " ('biosphere3', '5bb486eb-29db-4b80-bb79-c7023c0d5756'): 657,\n",
       " ('biosphere3', 'd28f10c4-a8d0-4891-b7a4-362e12360079'): 658,\n",
       " ('biosphere3', '6b1b495b-70ee-4be6-b1c2-3031aa4d6add'): 659,\n",
       " ('biosphere3', 'f7553ef8-e4f3-4b9c-98be-81fa36315648'): 660,\n",
       " ('biosphere3', 'b878ca93-d699-421e-a4b6-f694dc627062'): 661,\n",
       " ('biosphere3', 'b8fc2875-a1ce-4a7c-a73d-6ba5b26319d3'): 662,\n",
       " ('biosphere3', 'aa87ecd1-b103-4f43-b8dc-d44785c43fd4'): 663,\n",
       " ('biosphere3', 'a7ff17d4-d3fe-4a70-9f2e-392b34630772'): 664,\n",
       " ('biosphere3', '0b2a8601-aa6e-42e9-8091-21cba87c0f0c'): 665,\n",
       " ('biosphere3', '0d213eaa-6dec-4669-b75e-4afeb06ac31d'): 666,\n",
       " ('biosphere3', '0cdaaa7e-3c23-419d-8ad5-12dc93c2e1e3'): 667,\n",
       " ('biosphere3', 'b4f9a201-2a20-4f41-a572-eabc98c75e1b'): 668,\n",
       " ('biosphere3', '8b46f615-69c9-4ca3-815e-a7bde116d202'): 669,\n",
       " ('biosphere3', '029af65d-7b19-4189-9c92-81fc03909665'): 670,\n",
       " ('biosphere3', 'c5f5aeb8-7558-4a0c-9594-27621b9cfbc5'): 671,\n",
       " ('biosphere3', 'aeefa758-5f4f-4bb4-a28a-4075e81f2fde'): 672,\n",
       " ('biosphere3', '904546ce-acb5-4cc3-9dda-950c7dc54328'): 673,\n",
       " ('biosphere3', '06b8a67f-5044-4060-be71-04e1dfc31e24'): 674,\n",
       " ('biosphere3', '794a9d6b-1ed0-486b-a6a9-d8a575c0aa9a'): 675,\n",
       " ('biosphere3', '4eb24f81-0468-4b92-bae3-8b12dfc90438'): 676,\n",
       " ('biosphere3', '99f78a2c-48e3-492c-aa5a-ed0c2f24a1a0'): 677,\n",
       " ('biosphere3', '909bc093-18b2-4a7e-8131-16f68eebc193'): 678,\n",
       " ('biosphere3', 'cacfd448-6c2d-4061-9363-fd506b979f25'): 679,\n",
       " ('biosphere3', 'b397980f-62a4-4b0f-a05c-7c5c0e634aec'): 680,\n",
       " ('biosphere3', 'b646bb3e-65e2-4f85-8376-9408e94e4b59'): 681,\n",
       " ('biosphere3', '0545c382-2312-43b6-9ec3-63dbb1438565'): 682,\n",
       " ('biosphere3', 'bef7c90d-9f65-483c-b6b6-4b5d1086c878'): 683,\n",
       " ('biosphere3', '9167dca7-615e-435c-8ba6-dbbf50e50e34'): 684,\n",
       " ('biosphere3', 'a850e6de-a007-432f-be7f-ce6e2cf1f2ae'): 685,\n",
       " ('biosphere3', '20185046-64bb-4c09-a8e7-e8a9e144ca98'): 686,\n",
       " ('biosphere3', 'f87e0478-9ba4-4d6b-a1ca-5667d07f3465'): 687,\n",
       " ('biosphere3', 'a805071f-ce96-4d72-bdd5-4334d9aa3c23'): 688,\n",
       " ('biosphere3', 'fb353f43-7c91-4877-999a-b40db6cb7a8e'): 689,\n",
       " ('biosphere3', '4bc2ecf7-fbc3-4c74-81f6-30f9f4425d30'): 690,\n",
       " ('biosphere3', '2e2a9226-1d5a-4adf-aa0f-6a4b9499e8d7'): 691,\n",
       " ('biosphere3', '7a2d7097-20c4-4b5f-b2ee-bcfc2ba1378f'): 692,\n",
       " ('biosphere3', '35ef9eb3-94a1-461d-bba6-db939f22e0be'): 693,\n",
       " ('biosphere3', '86c6e6cd-c2f5-4977-bad6-ce9cd48cf721'): 694,\n",
       " ('biosphere3', '99ee393d-4bd1-4cc8-b0a0-d956865fb7bf'): 695,\n",
       " ('biosphere3', '2bcad3b3-5305-481c-a166-ad5e6eac2675'): 696,\n",
       " ('biosphere3', '73cba245-5969-4076-8490-75a236073196'): 697,\n",
       " ('biosphere3', '15ca802b-f541-44aa-bd33-35560a053193'): 698,\n",
       " ('biosphere3', '195e0a29-e62d-47fc-b1f6-7155939e2b25'): 699,\n",
       " ('biosphere3', 'ea70cc93-c68c-4228-8b8e-1b189b4c705c'): 700,\n",
       " ('biosphere3', '5229d225-38a2-4ec9-a7ed-4fd906a57c76'): 701,\n",
       " ('biosphere3', '0d3ccb17-b3fe-4c08-b7cb-458ed3ababf1'): 702,\n",
       " ('biosphere3', '5afa470c-ab8c-4ec3-8a18-5c0bed973571'): 703,\n",
       " ('biosphere3', '3dd549fd-825c-4ceb-a5f9-2988d322dc5d'): 704,\n",
       " ('biosphere3', '8db2694c-9a3f-4f8d-a915-cd8a380f5394'): 705,\n",
       " ('biosphere3', 'd07867e3-66a8-4454-babd-78dc7f9a21f8'): 706,\n",
       " ('biosphere3', 'e61443a5-41b6-4407-a1cd-116bdfb38a67'): 707,\n",
       " ('biosphere3', '3850d44e-8919-47bc-9c0a-51ccc4ec9d9f'): 708,\n",
       " ('biosphere3', 'c0f2ec91-162c-4706-b08c-9aa212fbe176'): 709,\n",
       " ('biosphere3', '6df9ea09-115a-4678-9f30-d92c877a46ec'): 710,\n",
       " ('biosphere3', 'b37294bd-947d-4f35-b9e6-3eb259c05ff5'): 711,\n",
       " ('biosphere3', '74a0aabb-e11b-4f3b-8921-45e447b33393'): 712,\n",
       " ('biosphere3', '4841a0fe-c250-4a39-94a1-1bc31426c0f1'): 713,\n",
       " ('biosphere3', '1c5a7322-9261-4d59-a692-adde6c12de92'): 714,\n",
       " ('biosphere3', '714732d3-61e1-4bad-a4e3-a4f3573d8bc6'): 715,\n",
       " ('biosphere3', 'd2bf022d-9cbf-4f19-a8ec-7f507746942b'): 716,\n",
       " ('biosphere3', 'f46130cc-dbd4-4a3b-a537-5efbcd89063f'): 717,\n",
       " ('biosphere3', '9ba627f4-3a6c-4dd6-8598-4e1639fbd85a'): 718,\n",
       " ('biosphere3', 'ebc5f04e-ae40-49b1-b07b-495f67e26c28'): 719,\n",
       " ('biosphere3', 'c6b0b28d-dddf-4610-b62e-971d328fae57'): 720,\n",
       " ('biosphere3', '1defe52a-bc9b-4c03-90fb-91bd35f6ce49'): 721,\n",
       " ('biosphere3', 'c5035ce2-5ee5-431f-a287-4b25da42be74'): 722,\n",
       " ('biosphere3', '91a067cc-543a-4d73-a0c0-feb1f8935756'): 723,\n",
       " ('biosphere3', '56ce80e5-9a77-4a80-ad65-6208db560be5'): 724,\n",
       " ('biosphere3', '27d2b49d-9ecb-4b0a-80dc-9c6598464c6a'): 725,\n",
       " ('biosphere3', '8c283de2-50d3-40c8-8bff-1e172c3398f8'): 726,\n",
       " ('biosphere3', '4f446a20-f1a5-4bde-a7a0-441315db1833'): 727,\n",
       " ('biosphere3', '0e8f17d0-3e52-4f6f-bef9-60f6007a7aab'): 728,\n",
       " ('biosphere3', 'd1a0b5a7-beb7-47e6-83b7-99560324008f'): 729,\n",
       " ('biosphere3', 'a2a4f255-ad47-4cf8-b6a9-e10885d61407'): 730,\n",
       " ('biosphere3', '69dfa439-8e4e-4cae-bb0c-85a8aa8b9a73'): 731,\n",
       " ('biosphere3', 'c3f83a91-4888-41a4-add9-fd01678a1e5f'): 732,\n",
       " ('biosphere3', 'e40fb8b9-a290-44df-9d22-71a164f0c2d9'): 733,\n",
       " ('biosphere3', '8844a749-f21f-4968-bff9-c4d970efe790'): 734,\n",
       " ('biosphere3', '26296ec9-ff93-41e6-bbbf-6175af04284d'): 735,\n",
       " ('biosphere3', '33456751-d78b-465d-8635-52d71e77cf54'): 736,\n",
       " ('biosphere3', '2e718246-b4f2-44e3-bcc5-2ce3496d2db6'): 737,\n",
       " ('biosphere3', 'b6e1f836-2b5c-4bd5-bc8c-af065ee7c230'): 738,\n",
       " ('biosphere3', 'e8475907-2081-4fd5-9526-bfcef88380db'): 739,\n",
       " ('biosphere3', '163926e2-b4cc-42bb-ba7d-401028140985'): 740,\n",
       " ('biosphere3', '99585564-bfce-4845-9aaa-2f24b8f26a41'): 741,\n",
       " ('biosphere3', 'a50b408b-d437-44f8-b1db-d75be4d3f22b'): 742,\n",
       " ('biosphere3', 'c91fd4bf-ed70-4e2f-a34f-159773f981b6'): 743,\n",
       " ('biosphere3', '98c66fdb-091d-46e9-a533-686f821e8f6a'): 744,\n",
       " ('biosphere3', 'b0546417-3064-4878-bd6f-2da75cefdf63'): 745,\n",
       " ('biosphere3', '37d7d60d-3682-4da4-aa64-99c51b5d524b'): 746,\n",
       " ('biosphere3', 'e170546d-a672-4840-bd7a-1c7f8b627286'): 747,\n",
       " ('biosphere3', 'be206401-d803-4b14-8319-53b916e9beef'): 748,\n",
       " ('biosphere3', 'de2d220b-9fe8-4c39-bef7-a76c00d6ff33'): 749,\n",
       " ('biosphere3', '55f0f584-45ca-4bc3-af11-098164f471e6'): 750,\n",
       " ('biosphere3', 'bea19217-6a28-4711-8142-2e71090c0b46'): 751,\n",
       " ('biosphere3', 'd0696f95-6cb3-453b-b849-c99ba9c90c28'): 752,\n",
       " ('biosphere3', '168c970b-91c9-4427-a3a0-6686ad6cc2c4'): 753,\n",
       " ('biosphere3', 'fb005c47-7b90-41f3-a5ca-f0eb11db354a'): 754,\n",
       " ('biosphere3', '1ec6c4b4-ee5f-4788-8683-c95a84d6d63c'): 755,\n",
       " ('biosphere3', 'b613b3b0-a98d-4b7a-a908-999ccfe1452d'): 756,\n",
       " ('biosphere3', 'ac98d2a4-4985-49f9-b4e2-fc896ef145b6'): 757,\n",
       " ('biosphere3', '780e4e14-bd5b-408c-8304-0db2033561a7'): 758,\n",
       " ('biosphere3', '7705f0e1-5b14-44f4-b330-1245b5c7fc08'): 759,\n",
       " ('biosphere3', '016da38a-40a6-483c-b328-9782dc46e802'): 760,\n",
       " ('biosphere3', 'aaa7a82f-7d09-48ed-8f08-8eb3c7eeb928'): 761,\n",
       " ('biosphere3', 'e8783a01-d3f5-4c08-b7b0-12af0f33c20d'): 762,\n",
       " ('biosphere3', 'ce567bdc-76ec-4ca0-be79-8bb796e448b3'): 763,\n",
       " ('biosphere3', '0b94989b-2551-4069-bb11-4f9f48988cad'): 764,\n",
       " ('biosphere3', '7de77239-7074-4443-9dc9-4492c5e2ef35'): 765,\n",
       " ('biosphere3', '9c2a7dc9-8b1f-46ba-bc16-0d761a4f6016'): 766,\n",
       " ('biosphere3', '44b7826f-6f4c-44f3-81eb-ad3426073fae'): 767,\n",
       " ('biosphere3', 'b2631209-8374-431e-b7d5-56c96c6b6d79'): 768,\n",
       " ('biosphere3', '62859da4-f3c5-417b-a575-8b00d8d658b1'): 769,\n",
       " ('biosphere3', 'f6df5030-8e06-4276-bfeb-219db8dab104'): 770,\n",
       " ('biosphere3', 'cf5e52c1-b1fc-46c8-b6f9-8e085657632e'): 771,\n",
       " ('biosphere3', '23b6a72b-f926-40e3-b88a-0fb565d36de1'): 772,\n",
       " ('biosphere3', '1753af55-cfa1-4fb2-a059-33594a759982'): 773,\n",
       " ('biosphere3', '94e22edc-fe4b-4bab-9a09-a081595389cc'): 774,\n",
       " ('biosphere3', '90f7c1f9-e57e-4806-a154-5be9a6e1ac2e'): 775,\n",
       " ('biosphere3', '0fbca534-f355-4477-b29f-7b5fc2fbce64'): 776,\n",
       " ('biosphere3', 'caae5c9b-66bf-4e1a-aa73-f84d11a41753'): 777,\n",
       " ('biosphere3', '43b29ad9-26dd-4838-b931-6216e55a0120'): 778,\n",
       " ('biosphere3', 'f97ee737-45ca-4a19-bbf4-30746bfa6fb4'): 779,\n",
       " ('biosphere3', '788c0461-92d9-4a39-b89b-e3c42a5c68ae'): 780,\n",
       " ('biosphere3', '9d62f34e-56df-4c48-ba0f-3a50008f29be'): 781,\n",
       " ('biosphere3', '9cc80820-fcf9-4ea9-8e67-0aa423eba6a4'): 782,\n",
       " ('biosphere3', 'a91c4052-de24-456d-a1d5-4e2d9db201e3'): 783,\n",
       " ('biosphere3', '9a1e90d7-af5d-41ab-bf7b-d4d4248d9e24'): 784,\n",
       " ('biosphere3', 'ce9fd912-233a-4807-a33e-0323b1e4a7a2'): 785,\n",
       " ('biosphere3', '2061c1e1-6a81-47ad-8a1d-81dd30783f2c'): 786,\n",
       " ('biosphere3', 'ff741136-d6ee-444a-a15b-3b308e376db8'): 787,\n",
       " ('biosphere3', '02703daf-fde4-489a-b7e5-523e46151312'): 788,\n",
       " ('biosphere3', 'e47e4e5f-6528-413d-a8fb-1cd1875fbd73'): 789,\n",
       " ('biosphere3', 'ed2d49f8-110d-4db4-9488-f61c349e6117'): 790,\n",
       " ('biosphere3', 'ce6294f5-2ed7-46ee-a967-33e265e34455'): 791,\n",
       " ('biosphere3', '992bd199-894d-4be6-9837-d85e8e5b3f45'): 792,\n",
       " ('biosphere3', 'fd9a5a38-992d-4c53-9b0f-16a69d37fb54'): 793,\n",
       " ('biosphere3', 'b45f25fe-a5bb-42ac-9859-304bf6ccfd83'): 794,\n",
       " ('biosphere3', 'd6626dfb-3ac8-4169-9e75-54c41ef2a582'): 795,\n",
       " ('biosphere3', '41cce80a-82c1-4caa-b6ef-718ec4b83fd6'): 796,\n",
       " ('biosphere3', '2451f9df-0596-49ec-8380-08e4ad75a153'): 797,\n",
       " ('biosphere3', '6f3fd3ca-1340-421a-9149-98a21c102041'): 798,\n",
       " ('biosphere3', 'f4bb66f1-c78c-409f-8368-85c1205a3573'): 799,\n",
       " ('biosphere3', 'fd950a9b-db9f-41c9-a8b0-d61f152f6ef2'): 800,\n",
       " ('biosphere3', 'ca04300a-8338-4601-ba7c-66c10a4f6322'): 801,\n",
       " ('biosphere3', 'e0e605c8-370b-4b5a-b6d4-2e7a5a1a6709'): 802,\n",
       " ('biosphere3', 'a259eb99-e741-49e6-8b3f-8985c018be28'): 803,\n",
       " ('biosphere3', '4ac6979b-55f2-42ae-8d7e-37846e92506c'): 804,\n",
       " ('biosphere3', '15057e97-7b47-405e-8222-6ed5cf4e0087'): 805,\n",
       " ('biosphere3', 'f8448f5d-a27f-4fa9-a731-94cb3b9eb7f3'): 806,\n",
       " ('biosphere3', '370bbcdd-6395-4af8-b049-fc5f7339a437'): 807,\n",
       " ('biosphere3', '365010c0-d4dd-4281-a1a7-7e2302c4105f'): 808,\n",
       " ('biosphere3', 'd14eb0da-95fd-46c3-90db-55ca33d78701'): 809,\n",
       " ('biosphere3', 'eabb67d6-08cc-4c6e-ad95-6509e778730a'): 810,\n",
       " ('biosphere3', 'a9e65945-a4dd-42c2-89cf-81ad2eb6b0fd'): 811,\n",
       " ('biosphere3', '3aaf9017-0d8a-42aa-9a60-cbc39e994e73'): 812,\n",
       " ('biosphere3', 'f16fa1da-e426-4820-bf9d-71595c22283b'): 813,\n",
       " ('biosphere3', '4b4530b5-89d5-4127-b8a5-96fc50972e26'): 814,\n",
       " ('biosphere3', '9b132374-dce2-4ce0-86aa-53201b30f617'): 815,\n",
       " ('biosphere3', 'cfaa80f4-8e19-4fd6-942a-eaea14812896'): 816,\n",
       " ('biosphere3', '3166d308-cc57-4d31-b42e-63c7eada821f'): 817,\n",
       " ('biosphere3', '31c4d160-b21e-41b3-b9c1-3d7a72377653'): 818,\n",
       " ('biosphere3', '681a6b38-cc7c-4968-aedc-80ce8033a101'): 819,\n",
       " ('biosphere3', 'f8199e39-7354-44ad-92d8-6a2cc3bac24e'): 820,\n",
       " ('biosphere3', '1bb6a502-3ff9-4a79-835c-5588b855f1f5'): 821,\n",
       " ('biosphere3', '2beb46d1-2d1d-48ca-bf95-f0668fed29bf'): 822,\n",
       " ('biosphere3', '04f42988-6207-4d09-a91f-155be8d27eb0'): 823,\n",
       " ('biosphere3', 'a212914e-f8ba-49eb-9ceb-63e286053f2d'): 824,\n",
       " ('biosphere3', '46b8b2fd-eb2a-413d-bc39-e7dc18a420ef'): 825,\n",
       " ('biosphere3', 'f4cf8d5c-f030-4b55-a3af-e3c20b855ee8'): 826,\n",
       " ('biosphere3', '04cd03b8-8206-4d3a-a910-59ffc0550c2c'): 827,\n",
       " ('biosphere3', 'e6367875-dd2b-4d12-8d03-94cf2e607815'): 828,\n",
       " ('biosphere3', '490b267b-f429-4d9a-ac79-224e37fb4d58'): 829,\n",
       " ('biosphere3', 'ed38a7d2-ffa5-4c28-9aea-dd9df0d1898b'): 830,\n",
       " ('biosphere3', 'b6dcefd8-3848-4338-9c3e-fe6e91f20937'): 831,\n",
       " ('biosphere3', '27b0b1f4-8cd4-4277-bfdd-1cab2f9c5e1c'): 832,\n",
       " ('biosphere3', 'a5506f4b-113f-4713-95c3-c819dde6e48b'): 833,\n",
       " ('biosphere3', '28f19625-5e6a-4902-8c18-4b519db19d86'): 834,\n",
       " ('biosphere3', '754028fd-e650-4804-922e-694a764ba578'): 835,\n",
       " ('biosphere3', '53fc7ec9-1b3f-4d89-ade6-8ca2934c1695'): 836,\n",
       " ('biosphere3', '81c4ba39-8a3f-4a43-97b4-401605bbebf5'): 837,\n",
       " ('biosphere3', 'f4d0a2c8-efef-4188-85da-5801097389a2'): 838,\n",
       " ('biosphere3', '98fc8cad-e186-4353-8ffb-92ddae8cc685'): 839,\n",
       " ('biosphere3', 'd4291dd5-dae8-47fa-bf06-466fcecbc210'): 840,\n",
       " ('biosphere3', 'd32f9dd8-9514-4c22-8c99-2e108609731f'): 841,\n",
       " ('biosphere3', '9122eb15-12c8-4621-a036-209f6c06e3fb'): 842,\n",
       " ('biosphere3', '50f05f8e-a062-4298-a805-0f230ef6ff5d'): 843,\n",
       " ('biosphere3', 'fe9552bd-49c9-4e37-8c13-eeee4ddb8e34'): 844,\n",
       " ('biosphere3', 'e5824519-f945-4b2c-a81b-677290021b8a'): 845,\n",
       " ('biosphere3', '597847df-518f-4bd6-ae50-1de01f2761a4'): 846,\n",
       " ('biosphere3', '544dbea9-1d18-44ff-b92b-7866e3baa6dd'): 847,\n",
       " ('biosphere3', '0abf9db7-b5a2-4c18-8ec6-aca3a7fb5579'): 848,\n",
       " ('biosphere3', '00acb9f0-1640-4f8c-89ef-d857e1428be0'): 849,\n",
       " ('biosphere3', 'ad66ad26-6fee-4457-b99b-ad8476062ca1'): 850,\n",
       " ('biosphere3', '28bca51a-6cc7-46af-961a-fd2b675a1376'): 851,\n",
       " ('biosphere3', '08ebf986-d40a-4538-8aa7-21da2f99edf7'): 852,\n",
       " ('biosphere3', 'a793710a-1990-4e65-a95e-cfbbc5332355'): 853,\n",
       " ('biosphere3', 'e3b7b5aa-514e-430e-9544-07d8f5b8d494'): 854,\n",
       " ('biosphere3', 'd493b514-f36d-482f-a978-63b5a1889bc2'): 855,\n",
       " ('biosphere3', 'e1cc645c-9d74-40ff-a4b0-b0591d8717e5'): 856,\n",
       " ('biosphere3', 'f532985c-90b7-46fc-aac9-b039b40e22f1'): 857,\n",
       " ('biosphere3', 'a3833724-a816-4c9e-b6fd-ac43e8aeedc2'): 858,\n",
       " ('biosphere3', '9db06277-b6d9-4c48-8cfb-de342e928a50'): 859,\n",
       " ('biosphere3', '62fcd384-906d-474f-a84b-9f944b78f804'): 860,\n",
       " ('biosphere3', '3aa9471c-359f-40b4-b0c7-266123f2623e'): 861,\n",
       " ('biosphere3', '2a7b68ff-f12a-44c6-8b31-71ec91d29889'): 862,\n",
       " ('biosphere3', 'c24f5894-f95e-4661-ba76-130397348894'): 863,\n",
       " ('biosphere3', '0561e8f7-bb2b-45b7-b4ab-e750f6842981'): 864,\n",
       " ('biosphere3', '0a5e8a67-f9ae-48b3-bfa7-e9d37c30a191'): 865,\n",
       " ('biosphere3', '7529a948-b5ac-4eb9-8349-2a3677b8fe14'): 866,\n",
       " ('biosphere3', '71cfe87c-ab80-421e-adba-afb7d5bd0861'): 867,\n",
       " ('biosphere3', '071efe89-12e0-4ff8-80d1-4e6cf1e37233'): 868,\n",
       " ('biosphere3', '19e10755-75cf-4518-98c3-624201ac089f'): 869,\n",
       " ('biosphere3', '02dd7309-b7c2-47bb-82c8-09345be9c2bb'): 870,\n",
       " ('biosphere3', 'f0d1c319-249f-4a89-b0e7-3a5a90a54036'): 871,\n",
       " ('biosphere3', '4569494e-085e-413a-8fef-63a3c419e0cf'): 872,\n",
       " ('biosphere3', '2f1d0962-be5d-4e6d-9c9b-0846722d9c65'): 873,\n",
       " ('biosphere3', '37d35fd0-7f07-4b9b-92eb-de3c27050172'): 874,\n",
       " ('biosphere3', '39153cb9-a8fe-4fc8-beef-1bf1edceb8e7'): 875,\n",
       " ('biosphere3', '2cea4705-5460-4f03-80ca-1aaf90f17c3a'): 876,\n",
       " ('biosphere3', 'c5aafa60-495c-461c-a1d4-b262a34c45b9'): 877,\n",
       " ('biosphere3', '48aa661d-be05-4c24-94fe-8d6feb3dcb31'): 878,\n",
       " ('biosphere3', 'e9d1e8d9-2db3-40d8-b7a9-8f39a0bd5ae0'): 879,\n",
       " ('biosphere3', '13be989f-9a8e-420d-b27d-47c3565eb77c'): 880,\n",
       " ('biosphere3', '356c6086-4835-4a0d-b1f2-10f8b6656d23'): 881,\n",
       " ('biosphere3', '516606eb-99f6-4e8c-b99a-6b439aaed48c'): 882,\n",
       " ('biosphere3', '15cfc784-a719-4230-ad2e-f4104d56c427'): 883,\n",
       " ('biosphere3', '57d8084d-08e2-4212-9abf-3f051bee142e'): 884,\n",
       " ('biosphere3', '44230d0d-f11f-473e-8b43-75656dcac834'): 885,\n",
       " ('biosphere3', 'c3b659e5-35f1-408c-8cb5-b5f9b295c76e'): 886,\n",
       " ('biosphere3', '0a7de246-d762-4210-8656-56e1f26249b6'): 887,\n",
       " ('biosphere3', '4870313f-52a4-4c41-8a08-a25745f2fce9'): 888,\n",
       " ('biosphere3', '2bbffe32-86bd-485c-95a2-844bbfd42840'): 889,\n",
       " ('biosphere3', 'ec4a104f-eab5-4a06-bd0a-e1c34d888718'): 890,\n",
       " ('biosphere3', 'ff36578b-f403-4656-b934-81d8d4e02dc8'): 891,\n",
       " ('biosphere3', 'b3fd01ce-4eb3-461f-8639-4c7aa166f40e'): 892,\n",
       " ('biosphere3', '8c1494a5-4987-4715-aa2d-1908c495f4eb'): 893,\n",
       " ('biosphere3', 'f81d8b52-b588-45d6-ba49-e7d53ade5bb5'): 894,\n",
       " ('biosphere3', 'fa89c354-2263-4ed2-ac56-99946be5c665'): 895,\n",
       " ('biosphere3', 'caeb15fa-9711-4d37-99a2-d12c7823b8bc'): 896,\n",
       " ('biosphere3', '56b7d3b6-83d7-42b0-a65b-5ad23e29db47'): 897,\n",
       " ('biosphere3', '6d9e9a11-4d99-4489-a0ab-4cd1b6b8eaef'): 898,\n",
       " ('biosphere3', '179c3a4c-4d0c-4928-b099-2652fac747cd'): 899,\n",
       " ('biosphere3', '0437e787-ef47-4a50-b11f-df7c743e860c'): 900,\n",
       " ('biosphere3', 'b028ffea-ecff-4f0e-a2b0-a84eb647cdae'): 901,\n",
       " ('biosphere3', 'a5a9c364-1591-4247-8a42-60cfd33696ab'): 902,\n",
       " ('biosphere3', '045f7de9-60d5-4916-a504-5a1002a6e97e'): 903,\n",
       " ('biosphere3', '9a891f6c-937c-4226-9702-4a552973ae3f'): 904,\n",
       " ('biosphere3', '66f50b33-fd62-4fdd-a373-c5b0de7de00d'): 905,\n",
       " ('biosphere3', '3fe03409-76e1-4228-8fd7-77c4c6a0d9f3'): 906,\n",
       " ('biosphere3', '18ddd879-5496-4419-8ab7-e0d3864d977d'): 907,\n",
       " ('biosphere3', '51dfb4b5-5422-40b7-8692-1ca3559c0a8b'): 908,\n",
       " ('biosphere3', '101f15ac-0698-49dd-b177-471a813ef78e'): 909,\n",
       " ('biosphere3', '99c56f25-9ebb-4e6a-a3e2-e4dc61e9d697'): 910,\n",
       " ('biosphere3', 'dc90db73-6f27-403d-baf1-cb7e0b6cae31'): 911,\n",
       " ('biosphere3', '9089d7ad-09b1-4174-a188-8844ebde2d5d'): 912,\n",
       " ('biosphere3', '7ce56135-2ca5-4fba-ad52-d62a34bfeb35'): 913,\n",
       " ('biosphere3', 'eda28c96-8899-4d84-bf18-35c3f1de518e'): 914,\n",
       " ('biosphere3', '8e30c990-5ed4-4f94-9d0e-2f5e4ff1a1f9'): 915,\n",
       " ('biosphere3', 'cfa6de56-8a29-4a27-8868-fb6d1f092d36'): 916,\n",
       " ('biosphere3', '4cff006f-c6df-42a8-9dee-cc064f14326e'): 917,\n",
       " ('biosphere3', '1ed87d8c-afc2-47f1-af5a-df78ed6bad83'): 918,\n",
       " ('biosphere3', '4518a791-f5dd-4ee2-ab87-2f8ffca6b230'): 919,\n",
       " ('biosphere3', 'fe4613d7-1ed8-427d-9b06-c8e8f4f5e1b1'): 920,\n",
       " ('biosphere3', 'a0fec60d-3f74-48bf-a2d2-58c30fc13e53'): 921,\n",
       " ('biosphere3', '92ee2fc1-238c-465d-9887-418af42db9c7'): 922,\n",
       " ('biosphere3', '4f701354-38fd-40b0-8c90-4c1df36ec45a'): 923,\n",
       " ('biosphere3', 'c1bcea7e-26d9-4714-950b-c425d78179fa'): 924,\n",
       " ('biosphere3', '774c181d-18a7-4096-aa99-56801ef6b909'): 925,\n",
       " ('biosphere3', '42a2f3e7-5393-4a69-9b0b-f70a9139ee24'): 926,\n",
       " ('biosphere3', '441ef9b3-0df0-461b-bd84-358973e0c2ca'): 927,\n",
       " ('biosphere3', 'e145d4fa-5ac7-4435-8f4d-de807fbe1a31'): 928,\n",
       " ('biosphere3', '2712fe5f-0d3c-4c8e-8bc4-26c604413849'): 929,\n",
       " ('biosphere3', '50f3bc1e-fafc-44a2-9800-4468d8c3b643'): 930,\n",
       " ('biosphere3', '97818104-9cc2-4323-97d5-c896ce171f86'): 931,\n",
       " ('biosphere3', 'e2128dc4-e065-4030-81b3-c978d7bc48ec'): 932,\n",
       " ('biosphere3', '001790f3-fd86-4a0d-a2a1-06c7099d90c8'): 933,\n",
       " ('biosphere3', 'c4302ab1-eb6d-458b-86ad-f7d7d4df411e'): 934,\n",
       " ('biosphere3', 'e8641a14-fd07-4090-8daf-2cce2a557a81'): 935,\n",
       " ('biosphere3', '5f4baaf6-055e-491e-9852-258897ab5194'): 936,\n",
       " ('biosphere3', 'aa2f15ce-fc50-4252-89d8-89e06b4f588a'): 937,\n",
       " ('biosphere3', '543421e8-f0b3-45a2-b0ed-03489e878138'): 938,\n",
       " ('biosphere3', '4ea9bb4f-e4ab-45d7-beb5-dc07fc1c685a'): 939,\n",
       " ('biosphere3', 'c26d4716-ce1e-43da-a662-cd9498b1e8bc'): 940,\n",
       " ('biosphere3', '765546a9-b056-4d27-ad14-2f016511bdcb'): 941,\n",
       " ('biosphere3', 'd7cadc9a-f42c-4711-a8e2-0b626c0a4c7a'): 942,\n",
       " ('biosphere3', '8c888d2b-d608-4dac-bad5-1c2a17050838'): 943,\n",
       " ('biosphere3', '94ba16db-16b4-4652-b121-8682c317db58'): 944,\n",
       " ('biosphere3', 'ec2c6f72-1ca3-428b-90e5-e9feb4b58381'): 945,\n",
       " ('biosphere3', 'f73177d8-5e57-4f0d-ba34-6889cfdfed40'): 946,\n",
       " ('biosphere3', 'f8f1ba14-9934-4678-8a78-e2cf1fce7775'): 947,\n",
       " ('biosphere3', 'cc5f1637-8aa5-442f-a8c6-43c8739944a0'): 948,\n",
       " ('biosphere3', 'ba2f3f82-c93a-47a5-822a-37ec97495275'): 949,\n",
       " ('biosphere3', '5514ccd2-469f-4074-9905-529154e7f742'): 950,\n",
       " ('biosphere3', 'a40f1ce3-e72f-48fa-8bba-174a1d4bf922'): 951,\n",
       " ('biosphere3', 'a1201fc1-a799-4832-940b-a0b247f2cf42'): 952,\n",
       " ('biosphere3', '73a06727-fec3-4d8d-8de5-ef1a0cc2c280'): 953,\n",
       " ('biosphere3', '5324b57a-96f1-4dc3-9dc5-544881960f4f'): 954,\n",
       " ('biosphere3', 'd7a10d03-8f76-4b5f-8dd5-5b0f827568fc'): 955,\n",
       " ('biosphere3', '08439a5d-5036-4e9f-89df-08239a6dbc33'): 956,\n",
       " ('biosphere3', 'c6976591-c1f2-4c53-b9ff-182db73f0a7f'): 957,\n",
       " ('biosphere3', '2925111b-3464-4e34-9d02-b73c1c033e91'): 958,\n",
       " ('biosphere3', 'd439867e-7ef9-41aa-91e2-de8a922f9158'): 959,\n",
       " ('biosphere3', '852281f6-db73-4250-84d3-86b569fce0c1'): 960,\n",
       " ('biosphere3', '3b1ecf8e-1d2c-4330-81da-a79f9068976d'): 961,\n",
       " ('biosphere3', '247ac273-60fa-4e21-9408-793f75fa1d37'): 962,\n",
       " ('biosphere3', '35d1dff5-b535-4628-9826-4a8fce08a1f2'): 963,\n",
       " ('biosphere3', '42411268-27a7-4276-9896-e47900fa0606'): 964,\n",
       " ('biosphere3', '479daf8f-657e-46a6-bdea-3cb2c61c44b1'): 965,\n",
       " ('biosphere3', '62f3d964-9b53-4d01-9ee0-04112dcfc6d2'): 966,\n",
       " ('biosphere3', '890c2697-3463-4466-bebb-aecc1e1e730b'): 967,\n",
       " ('biosphere3', '6e02ccfc-9eb5-4a51-be9a-870c1087c833'): 968,\n",
       " ('biosphere3', 'fdb29dc7-261d-4f8f-8e7d-c73899480bf8'): 969,\n",
       " ('biosphere3', '091d8157-f865-4858-8ceb-0a49ac84614b'): 970,\n",
       " ('biosphere3', '636a8446-9899-43a6-b4bf-213f25d69c88'): 971,\n",
       " ('biosphere3', 'dcfe0815-6fa3-4e1d-a55e-155b29904f1d'): 972,\n",
       " ('biosphere3', '01c12fca-ad8b-4902-8b48-2d5afe3d3a0f'): 973,\n",
       " ('biosphere3', 'd3f5d0b9-0155-4800-9dbb-b0583948c8c6'): 974,\n",
       " ('biosphere3', '863ebe6d-0f48-4c32-94df-a6369f963a2e'): 975,\n",
       " ('biosphere3', 'ca389e38-d086-4527-914c-9c09ea14ae4d'): 976,\n",
       " ('biosphere3', 'cf7738ce-05a3-4fee-af0c-37386e0c28e3'): 977,\n",
       " ('biosphere3', 'c2cc0ba3-a0c4-4bb4-9b85-3ff9dae2061f'): 978,\n",
       " ('biosphere3', '9783014c-4ec6-4c9c-84d7-d34c8b390a0b'): 979,\n",
       " ('biosphere3', 'a4f6341b-1762-4222-9024-bfd91f63588f'): 980,\n",
       " ('biosphere3', '658441e6-f7a0-4ce5-bbe7-329a2a9e31c8'): 981,\n",
       " ('biosphere3', 'ec72c523-9e1a-466a-98c3-e4098e90fd27'): 982,\n",
       " ('biosphere3', 'dc64ecac-a65f-4d9a-9de6-557f1135659f'): 983,\n",
       " ('biosphere3', '349b29d1-3e58-4c66-98b9-9d1a076efd2e'): 984,\n",
       " ('biosphere3', '0a0a8657-0cc0-4132-a31b-cb4b0a0f3f3a'): 985,\n",
       " ('biosphere3', '1c02cff4-e852-489b-893c-d3ed30eb8ca5'): 986,\n",
       " ('biosphere3', '19b6e569-85a4-4ea9-a590-d61a21e3c846'): 987,\n",
       " ('biosphere3', 'cc05b490-fe4b-47ac-893c-951b0f359285'): 988,\n",
       " ('biosphere3', 'a028cff8-e405-4d44-8322-f46e9e51bcdc'): 989,\n",
       " ('biosphere3', '9b77be37-3f9d-4ecf-b7b1-86e8390bcf2e'): 990,\n",
       " ('biosphere3', '2cfc5ba4-3db2-4193-9e81-b61e75ba1706'): 991,\n",
       " ('biosphere3', '0f02d06c-c44d-4681-a677-eff6aa3cd7e0'): 992,\n",
       " ('biosphere3', '55beee8d-d04e-4307-bb0e-4e113dc07ee7'): 993,\n",
       " ('biosphere3', '5ce634de-b810-4533-9efb-719c38fe7c09'): 994,\n",
       " ('biosphere3', 'c3b2ba62-b158-47b1-8e1e-e76156e5292a'): 995,\n",
       " ('biosphere3', '8d179ea0-7b52-441e-954b-b5349d66340f'): 996,\n",
       " ('biosphere3', 'c4d10bd2-09da-4082-8cb3-022c92c53221'): 997,\n",
       " ('biosphere3', 'ba9971e7-1210-4215-ae3a-5c67e0949848'): 998,\n",
       " ('biosphere3', '640e30d2-3158-4a1a-82ef-fd0c72922c9a'): 999,\n",
       " ...}"
      ]
     },
     "execution_count": 51,
     "metadata": {},
     "output_type": "execute_result"
    }
   ],
   "source": [
    "LCA_obj.biosphere_dict"
   ]
  },
  {
   "cell_type": "code",
   "execution_count": 52,
   "metadata": {},
   "outputs": [
    {
     "data": {
      "text/plain": [
       "1960"
      ]
     },
     "execution_count": 52,
     "metadata": {},
     "output_type": "execute_result"
    }
   ],
   "source": [
    "len(LCA_obj.biosphere_dict)"
   ]
  },
  {
   "cell_type": "code",
   "execution_count": 55,
   "metadata": {
    "collapsed": true
   },
   "outputs": [],
   "source": [
    "biosphere_db=bw.Database('biosphere3')"
   ]
  },
  {
   "cell_type": "code",
   "execution_count": 57,
   "metadata": {},
   "outputs": [
    {
     "data": {
      "text/plain": [
       "4029"
      ]
     },
     "execution_count": 57,
     "metadata": {},
     "output_type": "execute_result"
    }
   ],
   "source": [
    "len(biosphere_db)"
   ]
  },
  {
   "cell_type": "code",
   "execution_count": 61,
   "metadata": {},
   "outputs": [
    {
     "data": {
      "text/plain": [
       "True"
      ]
     },
     "execution_count": 61,
     "metadata": {},
     "output_type": "execute_result"
    }
   ],
   "source": [
    "LCA_obj1.biosphere_dict == LCA_obj.biosphere_dict"
   ]
  },
  {
   "cell_type": "code",
   "execution_count": 62,
   "metadata": {
    "collapsed": true
   },
   "outputs": [],
   "source": [
    "act_check1=DB_eiv33.get('bdf7116059abfcc6b8b9ade1a641e578')"
   ]
  },
  {
   "cell_type": "code",
   "execution_count": 64,
   "metadata": {
    "collapsed": true
   },
   "outputs": [],
   "source": [
    "LCA_check1=bw.LCA({act_check1:1},ic_name)"
   ]
  },
  {
   "cell_type": "code",
   "execution_count": 65,
   "metadata": {
    "collapsed": true
   },
   "outputs": [],
   "source": [
    "LCA_check1.lci()\n",
    "LCA_check1.lcia()"
   ]
  },
  {
   "cell_type": "code",
   "execution_count": 66,
   "metadata": {},
   "outputs": [
    {
     "data": {
      "text/plain": [
       "3.3223288402709876"
      ]
     },
     "execution_count": 66,
     "metadata": {},
     "output_type": "execute_result"
    }
   ],
   "source": [
    "LCA_check1.score"
   ]
  },
  {
   "cell_type": "code",
   "execution_count": null,
   "metadata": {
    "collapsed": true
   },
   "outputs": [],
   "source": []
  },
  {
   "cell_type": "code",
   "execution_count": null,
   "metadata": {
    "collapsed": true
   },
   "outputs": [],
   "source": []
  },
  {
   "cell_type": "code",
   "execution_count": 99,
   "metadata": {
    "collapsed": true
   },
   "outputs": [],
   "source": [
    "child_dataset_path='/fsg/jsgfhjd/0/hsfgdsh'"
   ]
  },
  {
   "cell_type": "code",
   "execution_count": 101,
   "metadata": {},
   "outputs": [
    {
     "data": {
      "text/plain": [
       "'0'"
      ]
     },
     "execution_count": 101,
     "metadata": {},
     "output_type": "execute_result"
    }
   ],
   "source": [
    "child_dataset_path.rsplit('/', 2)[1]"
   ]
  },
  {
   "cell_type": "code",
   "execution_count": 102,
   "metadata": {},
   "outputs": [
    {
     "data": {
      "text/plain": [
       "'hsfgdsh'"
      ]
     },
     "execution_count": 102,
     "metadata": {},
     "output_type": "execute_result"
    }
   ],
   "source": [
    "child_dataset_path.rsplit('/', 2)[2]"
   ]
  },
  {
   "cell_type": "markdown",
   "metadata": {
    "collapsed": true
   },
   "source": [
    "# test on hdf5 files"
   ]
  },
  {
   "cell_type": "code",
   "execution_count": 5,
   "metadata": {
    "collapsed": true
   },
   "outputs": [],
   "source": [
    "#current_path_dir=os.getcwd()\n",
    "#path_for_saving=current_path_dir+\"\\\\Saved objects\"\n",
    "#hdf5_file_name=\"test_several_objects.hdf5\"\n",
    "#hdf5_file_path=path_for_saving+\"\\\\\"+hdf5_file_name\n",
    "\n",
    "hdf5_file=h5py.File('D:\\Dossiers professionnels\\Logiciels\\Brightway 2\\Test Dependant LCI Monte Carlo\\LCI_Dependant_Monte_Carlo_results_worker0.hdf5','a')\n",
    "#group_path='/csr_matrix'"
   ]
  },
  {
   "cell_type": "code",
   "execution_count": 7,
   "metadata": {
    "collapsed": true
   },
   "outputs": [],
   "source": [
    "s_act1_iter1=hdf5_file['/supply_array/bdf7116059abfcc6b8b9ade1a641e578/1']\n",
    "s_act1_iter10=hdf5_file['/supply_array/bdf7116059abfcc6b8b9ade1a641e578/10']"
   ]
  },
  {
   "cell_type": "code",
   "execution_count": 8,
   "metadata": {},
   "outputs": [
    {
     "data": {
      "text/plain": [
       "False"
      ]
     },
     "execution_count": 8,
     "metadata": {},
     "output_type": "execute_result"
    }
   ],
   "source": [
    "s_act1_iter1 == s_act1_iter10"
   ]
  },
  {
   "cell_type": "code",
   "execution_count": 12,
   "metadata": {},
   "outputs": [
    {
     "name": "stderr",
     "output_type": "stream",
     "text": [
      "C:\\Users\\Laure\\Anaconda3\\envs\\Brighway2\\lib\\site-packages\\ipykernel_launcher.py:1: RuntimeWarning: divide by zero encountered in float_scalars\n",
      "  \"\"\"Entry point for launching an IPython kernel.\n"
     ]
    }
   ],
   "source": [
    "ratio_1_10=[iter1/iter10 for (iter1,iter10) in zip(s_act1_iter1,s_act1_iter10)]"
   ]
  },
  {
   "cell_type": "code",
   "execution_count": 13,
   "metadata": {},
   "outputs": [
    {
     "name": "stderr",
     "output_type": "stream",
     "text": [
      "C:\\Users\\Laure\\Anaconda3\\envs\\Brighway2\\lib\\site-packages\\ipykernel_launcher.py:3: RuntimeWarning: divide by zero encountered in float_scalars\n",
      "  This is separate from the ipykernel package so we can avoid doing imports until\n"
     ]
    }
   ],
   "source": [
    "s_act1_iter1=hdf5_file['/supply_array/bdf7116059abfcc6b8b9ade1a641e578/1']\n",
    "s_act1_iter5=hdf5_file['/supply_array/bdf7116059abfcc6b8b9ade1a641e578/5']\n",
    "ratio_1_5=[iter1/iter5 for (iter1,iter5) in zip(s_act1_iter1,s_act1_iter5)]"
   ]
  },
  {
   "cell_type": "code",
   "execution_count": 15,
   "metadata": {},
   "outputs": [
    {
     "data": {
      "text/plain": [
       "False"
      ]
     },
     "execution_count": 15,
     "metadata": {},
     "output_type": "execute_result"
    }
   ],
   "source": [
    "ratio_1_5 == ratio_1_10"
   ]
  },
  {
   "cell_type": "code",
   "execution_count": 5,
   "metadata": {},
   "outputs": [
    {
     "ename": "TypeError",
     "evalue": "list indices must be integers or slices, not str",
     "output_type": "error",
     "traceback": [
      "\u001b[1;31m---------------------------------------------------------------------------\u001b[0m",
      "\u001b[1;31mTypeError\u001b[0m                                 Traceback (most recent call last)",
      "\u001b[1;32m<ipython-input-5-c75a289fb70c>\u001b[0m in \u001b[0;36m<module>\u001b[1;34m()\u001b[0m\n\u001b[0;32m      1\u001b[0m \u001b[0mdict_test\u001b[0m\u001b[1;33m=\u001b[0m\u001b[1;33m{\u001b[0m\u001b[1;33m}\u001b[0m\u001b[1;33m\u001b[0m\u001b[0m\n\u001b[0;32m      2\u001b[0m \u001b[0mdict_test\u001b[0m\u001b[1;33m[\u001b[0m\u001b[1;34m'gdg'\u001b[0m\u001b[1;33m]\u001b[0m\u001b[1;33m=\u001b[0m\u001b[1;33m[\u001b[0m\u001b[1;34m'hghjg'\u001b[0m\u001b[1;33m]\u001b[0m\u001b[1;33m\u001b[0m\u001b[0m\n\u001b[1;32m----> 3\u001b[1;33m \u001b[0mdict_test\u001b[0m\u001b[1;33m[\u001b[0m\u001b[1;34m'gdg'\u001b[0m\u001b[1;33m]\u001b[0m\u001b[1;33m[\u001b[0m\u001b[1;34m'hgfh'\u001b[0m\u001b[1;33m]\u001b[0m\u001b[1;33m=\u001b[0m\u001b[1;36m8657.76\u001b[0m\u001b[1;33m\u001b[0m\u001b[0m\n\u001b[0m",
      "\u001b[1;31mTypeError\u001b[0m: list indices must be integers or slices, not str"
     ]
    }
   ],
   "source": [
    "dict_test={}\n",
    "dict_test['gdg']=['hghjg']\n",
    "dict_test['gdg']['hgfh']=8657.76"
   ]
  },
  {
   "cell_type": "code",
   "execution_count": 6,
   "metadata": {},
   "outputs": [
    {
     "ename": "TypeError",
     "evalue": "list indices must be integers or slices, not str",
     "output_type": "error",
     "traceback": [
      "\u001b[1;31m---------------------------------------------------------------------------\u001b[0m",
      "\u001b[1;31mTypeError\u001b[0m                                 Traceback (most recent call last)",
      "\u001b[1;32m<ipython-input-6-6f781d8af24b>\u001b[0m in \u001b[0;36m<module>\u001b[1;34m()\u001b[0m\n\u001b[1;32m----> 1\u001b[1;33m \u001b[0mact\u001b[0m\u001b[1;33m=\u001b[0m\u001b[0mdict_test\u001b[0m\u001b[1;33m[\u001b[0m\u001b[1;34m'gdg'\u001b[0m\u001b[1;33m]\u001b[0m\u001b[1;33m[\u001b[0m\u001b[1;34m'hgfh'\u001b[0m\u001b[1;33m]\u001b[0m\u001b[1;33m\u001b[0m\u001b[0m\n\u001b[0m",
      "\u001b[1;31mTypeError\u001b[0m: list indices must be integers or slices, not str"
     ]
    }
   ],
   "source": [
    "act=dict_test['gdg']['hgfh']"
   ]
  },
  {
   "cell_type": "code",
   "execution_count": null,
   "metadata": {
    "collapsed": true
   },
   "outputs": [],
   "source": []
  },
  {
   "cell_type": "code",
   "execution_count": 52,
   "metadata": {
    "collapsed": true
   },
   "outputs": [],
   "source": [
    "x1=[(5,6),(789,90)]\n",
    "x2=[(5,6),(3,90)]"
   ]
  },
  {
   "cell_type": "code",
   "execution_count": 53,
   "metadata": {
    "collapsed": true
   },
   "outputs": [],
   "source": [
    "set_x12=set(x1+x2)"
   ]
  },
  {
   "cell_type": "code",
   "execution_count": 55,
   "metadata": {},
   "outputs": [
    {
     "data": {
      "text/plain": [
       "True"
      ]
     },
     "execution_count": 55,
     "metadata": {},
     "output_type": "execute_result"
    }
   ],
   "source": [
    "(5,6) in set_x12"
   ]
  },
  {
   "cell_type": "code",
   "execution_count": null,
   "metadata": {
    "collapsed": true
   },
   "outputs": [],
   "source": []
  },
  {
   "cell_type": "code",
   "execution_count": null,
   "metadata": {
    "collapsed": true
   },
   "outputs": [],
   "source": []
  },
  {
   "cell_type": "code",
   "execution_count": 97,
   "metadata": {
    "collapsed": true
   },
   "outputs": [],
   "source": [
    "#######Functions to calculate correlated LCI######\n",
    "\n",
    "def calculate_ratio_corr_lognormal(gmean_Xi,gmean_Yj,gsigma_Xi,gsigma_Yj):\n",
    "    \n",
    "    #We assume that Xi and Yj are perfeclty correlated\n",
    "    gsigma_XiYj=gsigma_Xi*gsigma_Yj\n",
    "    \n",
    "    gmean_Aij=gmean_Xi-gmean_Yj\n",
    "    gsigma_Aij=np.sqrt((gsigma_Xi**2)+(gsigma_Yj**2)-(2*gsigma_XiYj))\n",
    "    \n",
    "    if np.isnan(gsigma_Aij):\n",
    "        gsigma_Aij=0.00000000000000001\n",
    "    \n",
    "    return {'loc':gmean_Aij,'scale':gsigma_Aij};\n",
    "\n",
    "\n",
    "#Only once for the DB\n",
    "def calculate_ratio_corr_lognormal_for_DB(corr_ef_code_input,\n",
    "                                          corr_ef_code_output,\n",
    "                                          corr_twin_ef_input_output,\n",
    "                                          biosphere_dict,\n",
    "                                          bio_params,biosphere_names):\n",
    "    \n",
    "    corr_bio_params=bio_params\n",
    "    ratio_rv_dict_per_activity={}\n",
    "    inv_biosphere_dict={indice: ef for ef, indice in biosphere_dict.items()}\n",
    "    \n",
    "    set_efs=set([key[1] for key in biosphere_dict.keys()])\n",
    "    \n",
    "    #Isolate bio_params of interest: from corr_ef_code and with lognormal uncertainty\n",
    "    corr_input_indices=[biosphere_dict[('biosphere3',code)] for code in corr_ef_code_input if code in set_efs]\n",
    "    corr_output_indices=[biosphere_dict[('biosphere3',code)] for code in corr_ef_code_output if code in set_efs]\n",
    "    corr_twin_indices=[(biosphere_dict[('biosphere3',code[0])],biosphere_dict[('biosphere3',code[1])]) for code in corr_twin_ef_input_output if (code[0] in set_efs and code[1] in set_efs)]\n",
    "    corr_input_twin_indices=[indice[0] for indice in corr_twin_indices]\n",
    "    corr_output_twin_indices=[indice[1] for indice in corr_twin_indices]\n",
    "    corr_twin_indices_dict={indice[0]:indice[1] for indice in corr_twin_indices}\n",
    "    \n",
    "    #print(corr_twin_indices_dict)\n",
    "    \n",
    "    set_input=set(corr_input_indices)\n",
    "    set_output=set(corr_output_indices)\n",
    "    set_input_output=set(corr_input_indices+corr_output_indices)\n",
    "    \n",
    "    set_twin=set(corr_twin_indices)\n",
    "    set_input_twin=set(corr_input_twin_indices)\n",
    "    set_output_twin=set(corr_output_twin_indices)\n",
    "    set_input_output_twin=set(corr_input_twin_indices+corr_output_twin_indices)\n",
    "    \n",
    "    \n",
    "    selected_bio_params=np.array([bio_param for bio_param in bio_params if (bio_param['row'] in set_input_output and bio_param['uncertainty_type']==2)])\n",
    "    \n",
    "    #Per activity\n",
    "    set_col_indices=list(set(selected_bio_params['col']))\n",
    "    \n",
    "    for col in set_col_indices:\n",
    "        \n",
    "        act_bio_params=np.array([bio_param for bio_param in selected_bio_params if bio_param['col']==col])\n",
    "        \n",
    "        #Test if {input}=0 or {output}=0 --> exclude the activity from the list\n",
    "        act_input_params=np.array([bio_param for bio_param in act_bio_params if bio_param['row'] in set_input])\n",
    "        act_output_params=np.array([bio_param for bio_param in act_bio_params if bio_param['row'] in set_output])\n",
    "        \n",
    "        try:\n",
    "            act_input_params[0]\n",
    "        except IndexError:\n",
    "            continue\n",
    "            \n",
    "        try:\n",
    "            act_output_params[0]\n",
    "        except IndexError:\n",
    "            continue\n",
    "            \n",
    "        \n",
    "        #Test if input=output for twin ef --> remove uncertainty from the bio_params\n",
    "        act_input_twin_params=np.array([bio_param for bio_param in act_input_params if (bio_param['row'] in set_input_twin and bio_param['row'] in set_input_output_twin)])\n",
    "        act_output_twin_params=np.array([bio_param for bio_param in act_output_params if (bio_param['row'] in set_output_twin and bio_param['row'] in set_input_output_twin)])\n",
    "        \n",
    "        try:\n",
    "            act_input_twin_params[0]\n",
    "            \n",
    "            for twin_input_row in act_input_twin_params['row']:\n",
    "                twin_output_row=corr_twin_indices_dict[twin_input_row]\n",
    "                \n",
    "                output_twin_params=np.array([bio_param for bio_param in act_output_twin_params if bio_param['row']==twin_output_row])\n",
    "                \n",
    "                try:\n",
    "                    output_twin_param=output_twin_params[0]\n",
    "                    input_twin_param=np.array([bio_param for bio_param in act_input_twin_params if bio_param['row']==twin_input_row])[0]\n",
    "                    \n",
    "                    input_row_col_to_remove=(input_twin_param['row'],input_twin_param['col'])\n",
    "                    output_row_col_to_remove=(output_twin_param['row'],output_twin_param['col'])\n",
    "                                        \n",
    "                    if input_twin_param['scale']==output_twin_param['scale']:                        \n",
    "                        input_condition=np.where((corr_bio_params['row'] == input_row_col_to_remove[0]) * (corr_bio_params['col'] == input_row_col_to_remove[1]))\n",
    "                        corr_bio_params[input_condition[0].tolist()[0]]['uncertainty_type']=1\n",
    "                        act_input_params=[bio_param for bio_param in act_input_params if (bio_param['row'] != input_row_col_to_remove[0] and bio_param['col'] != input_row_col_to_remove[1])]\n",
    "                        \n",
    "                        output_condition=np.where((corr_bio_params['row'] == output_row_col_to_remove[0]) * (corr_bio_params['col'] == output_row_col_to_remove[1]))\n",
    "                        corr_bio_params[output_condition[0].tolist()[0]]['uncertainty_type']=1\n",
    "                        act_output_params=[bio_param for bio_param in act_output_params if (bio_param['row'] != output_row_col_to_remove[0] and bio_param['col'] != output_row_col_to_remove[1])]\n",
    "                        \n",
    "                        print(col,biosphere_names[inv_biosphere_dict[input_row_col_to_remove[0]]],biosphere_names[inv_biosphere_dict[output_row_col_to_remove[0]]])\n",
    "                        \n",
    "                except IndexError:\n",
    "                    pass\n",
    "            \n",
    "        except IndexError:\n",
    "            pass\n",
    "            \n",
    "        \n",
    "        #Calculate Aij ratio lognormal rv and Store Aij and associate it with Yj only\n",
    "        for input_param in act_input_params:\n",
    "            for output_param in act_output_params:\n",
    "                gmean_Xi=input_param['loc']\n",
    "                gmean_Yj=output_param['loc']\n",
    "                gsigma_Xi=input_param['scale']\n",
    "                gsigma_Yj=output_param['scale']\n",
    "                params_Aij_dict=calculate_ratio_corr_lognormal(gmean_Xi,gmean_Yj,gsigma_Xi,gsigma_Yj)\n",
    "                ratio_rv_dict_per_activity[col]={output_param['row']:{input_param['row']:params_Aij_dict}}\n",
    "                \n",
    "                #print(type(params_Aij_dict['scale']))\n",
    "                \n",
    "                if np.isnan(params_Aij_dict['scale']):\n",
    "                    print(col,biosphere_names[inv_biosphere_dict[input_param['row']]],biosphere_names[inv_biosphere_dict[output_param['row']]])\n",
    "                                                 \n",
    "    return (ratio_rv_dict_per_activity,corr_bio_params);"
   ]
  },
  {
   "cell_type": "code",
   "execution_count": 4,
   "metadata": {
    "collapsed": true
   },
   "outputs": [],
   "source": [
    "act=DB_eiv33.get('f868a8bb1c627e75df31949ecdc347b9')\n",
    "LCA_obj=bw.LCA({act:1})\n",
    "LCA_obj.lci()"
   ]
  },
  {
   "cell_type": "code",
   "execution_count": 13,
   "metadata": {},
   "outputs": [
    {
     "data": {
      "text/plain": [
       "1960"
      ]
     },
     "execution_count": 13,
     "metadata": {},
     "output_type": "execute_result"
    }
   ],
   "source": [
    "len(LCA_obj.biosphere_dict)"
   ]
  },
  {
   "cell_type": "code",
   "execution_count": 14,
   "metadata": {
    "collapsed": true
   },
   "outputs": [],
   "source": [
    "biosphere3=bw.Database('biosphere3')"
   ]
  },
  {
   "cell_type": "code",
   "execution_count": 62,
   "metadata": {},
   "outputs": [
    {
     "data": {
      "text/plain": [
       "(120, 60, 60, 60)"
      ]
     },
     "execution_count": 62,
     "metadata": {},
     "output_type": "execute_result"
    }
   ],
   "source": [
    "land_transfo_efs=[ef for ef in biosphere3 if 'Transformation, ' in str(ef)]\n",
    "land_transfo_input={ef['name'].rsplit('Transformation, from ',1)[1]:ef for ef in land_transfo_efs if ', from' in str(ef)}\n",
    "land_transfo_output={ef['name'].rsplit('Transformation, to ',1)[1]:ef for ef in land_transfo_efs if ', to' in str(ef)}\n",
    "corr_twin_land_transfo=[(land_transfo_input[end_name]['code'],land_transfo_output[end_name]['code']) for end_name in land_transfo_input.keys()]\n",
    "land_transfo_code_input=[ef['code'] for ef in land_transfo_input.values()]\n",
    "land_transfo_code_output=[ef['code'] for ef in land_transfo_output.values()]\n",
    "\n",
    "\n",
    "len(land_transfo_efs), len (land_transfo_input), len(land_transfo_output),len(corr_twin_land_transfo)"
   ]
  },
  {
   "cell_type": "code",
   "execution_count": 99,
   "metadata": {},
   "outputs": [
    {
     "name": "stdout",
     "output_type": "stream",
     "text": [
      "1 Transformation, from permanent crop, irrigated Transformation, to permanent crop, irrigated\n",
      "8201 Transformation, from unspecified Transformation, to unspecified\n",
      "8201 Transformation, from industrial area Transformation, to industrial area\n",
      "33 Transformation, from arable land, unspecified use Transformation, to arable land, unspecified use\n",
      "36 Transformation, from annual crop, non-irrigated, intensive Transformation, to annual crop, non-irrigated, intensive\n",
      "8248 Transformation, from annual crop, non-irrigated, intensive Transformation, to annual crop, non-irrigated, intensive\n",
      "106 Transformation, from arable land, unspecified use Transformation, to arable land, unspecified use\n",
      "8302 Transformation, from pasture, man made Transformation, to pasture, man made\n",
      "8308 Transformation, from unspecified Transformation, to unspecified\n",
      "8308 Transformation, from industrial area Transformation, to industrial area\n",
      "8321 Transformation, from industrial area Transformation, to industrial area\n",
      "8331 Transformation, from annual crop, non-irrigated, intensive Transformation, to annual crop, non-irrigated, intensive\n",
      "8342 Transformation, from annual crop, non-irrigated, extensive Transformation, to annual crop, non-irrigated, extensive\n",
      "155 Transformation, from unspecified Transformation, to unspecified\n",
      "155 Transformation, from industrial area Transformation, to industrial area\n",
      "8349 Transformation, from arable land, unspecified use Transformation, to arable land, unspecified use\n",
      "161 Transformation, from annual crop Transformation, to annual crop\n",
      "8354 Transformation, from annual crop, non-irrigated, intensive Transformation, to annual crop, non-irrigated, intensive\n",
      "162 Transformation, from unspecified Transformation, to unspecified\n",
      "162 Transformation, from industrial area Transformation, to industrial area\n",
      "209 Transformation, from forest, extensive Transformation, to forest, extensive\n",
      "210 Transformation, from mineral extraction site Transformation, to mineral extraction site\n",
      "210 Transformation, from pasture, man made Transformation, to pasture, man made\n",
      "230 Transformation, from annual crop, non-irrigated, extensive Transformation, to annual crop, non-irrigated, extensive\n",
      "245 Transformation, from arable land, unspecified use Transformation, to arable land, unspecified use\n",
      "273 Transformation, from arable land, unspecified use Transformation, to arable land, unspecified use\n",
      "276 Transformation, from unspecified Transformation, to unspecified\n",
      "276 Transformation, from mineral extraction site Transformation, to mineral extraction site\n",
      "286 Transformation, from permanent crop, irrigated Transformation, to permanent crop, irrigated\n",
      "293 Transformation, from traffic area, rail/road embankment Transformation, to traffic area, rail/road embankment\n",
      "293 Transformation, from forest, intensive Transformation, to forest, intensive\n",
      "8502 Transformation, from traffic area, rail/road embankment Transformation, to traffic area, rail/road embankment\n",
      "8502 Transformation, from forest, intensive Transformation, to forest, intensive\n",
      "327 Transformation, from annual crop, irrigated, intensive Transformation, to annual crop, irrigated, intensive\n",
      "8519 Transformation, from unspecified Transformation, to unspecified\n",
      "8519 Transformation, from industrial area Transformation, to industrial area\n",
      "341 Transformation, from arable land, unspecified use Transformation, to arable land, unspecified use\n",
      "349 Transformation, from annual crop, irrigated, intensive Transformation, to annual crop, irrigated, intensive\n",
      "8542 Transformation, from annual crop, non-irrigated, intensive Transformation, to annual crop, non-irrigated, intensive\n",
      "355 Transformation, from annual crop, non-irrigated, intensive Transformation, to annual crop, non-irrigated, intensive\n",
      "367 Transformation, from annual crop Transformation, to annual crop\n",
      "8573 Transformation, from pasture, man made, intensive Transformation, to pasture, man made, intensive\n",
      "407 Transformation, from annual crop, irrigated, intensive Transformation, to annual crop, irrigated, intensive\n",
      "464 Transformation, from annual crop, non-irrigated, intensive Transformation, to annual crop, non-irrigated, intensive\n",
      "474 Transformation, from mineral extraction site Transformation, to mineral extraction site\n",
      "474 Transformation, from wetland, inland (non-use) Transformation, to wetland, inland (non-use)\n",
      "474 Transformation, from traffic area, road network Transformation, to traffic area, road network\n",
      "480 Transformation, from permanent crop, irrigated Transformation, to permanent crop, irrigated\n",
      "8672 Transformation, from annual crop, greenhouse Transformation, to annual crop, greenhouse\n",
      "515 Transformation, from annual crop, non-irrigated, intensive Transformation, to annual crop, non-irrigated, intensive\n",
      "542 Transformation, from forest, extensive Transformation, to forest, extensive\n",
      "8739 Transformation, from permanent crop, irrigated Transformation, to permanent crop, irrigated\n",
      "558 Transformation, from annual crop, non-irrigated, extensive Transformation, to annual crop, non-irrigated, extensive\n",
      "591 Transformation, from pasture, man made, intensive Transformation, to pasture, man made, intensive\n",
      "606 Transformation, from annual crop Transformation, to annual crop\n",
      "609 Transformation, from annual crop, non-irrigated, intensive Transformation, to annual crop, non-irrigated, intensive\n",
      "8807 Transformation, from arable land, unspecified use Transformation, to arable land, unspecified use\n",
      "630 Transformation, from traffic area, rail/road embankment Transformation, to traffic area, rail/road embankment\n",
      "630 Transformation, from forest, intensive Transformation, to forest, intensive\n",
      "646 Transformation, from annual crop, non-irrigated Transformation, to annual crop, non-irrigated\n",
      "8850 Transformation, from permanent crop, non-irrigated, intensive Transformation, to permanent crop, non-irrigated, intensive\n",
      "665 Transformation, from traffic area, rail/road embankment Transformation, to traffic area, rail/road embankment\n",
      "665 Transformation, from forest, intensive Transformation, to forest, intensive\n",
      "8858 Transformation, from arable land, unspecified use Transformation, to arable land, unspecified use\n",
      "8863 Transformation, from arable land, unspecified use Transformation, to arable land, unspecified use\n",
      "8879 Transformation, from annual crop, greenhouse Transformation, to annual crop, greenhouse\n",
      "8927 Transformation, from arable land, unspecified use Transformation, to arable land, unspecified use\n",
      "738 Transformation, from unspecified Transformation, to unspecified\n",
      "738 Transformation, from mineral extraction site Transformation, to mineral extraction site\n",
      "739 Transformation, from traffic area, rail/road embankment Transformation, to traffic area, rail/road embankment\n",
      "739 Transformation, from forest, intensive Transformation, to forest, intensive\n",
      "8932 Transformation, from unspecified Transformation, to unspecified\n",
      "8932 Transformation, from mineral extraction site Transformation, to mineral extraction site\n",
      "741 Transformation, from arable land, unspecified use Transformation, to arable land, unspecified use\n",
      "8940 Transformation, from annual crop, irrigated, intensive Transformation, to annual crop, irrigated, intensive\n",
      "766 Transformation, from forest, extensive Transformation, to forest, extensive\n",
      "766 Transformation, from traffic area, rail/road embankment Transformation, to traffic area, rail/road embankment\n",
      "773 Transformation, from annual crop, non-irrigated Transformation, to annual crop, non-irrigated\n",
      "8969 Transformation, from seabed, unspecified Transformation, to seabed, unspecified\n",
      "8969 Transformation, from seabed, infrastructure Transformation, to seabed, infrastructure\n",
      "791 Transformation, from pasture, man made, intensive Transformation, to pasture, man made, intensive\n",
      "806 Transformation, from annual crop, irrigated, intensive Transformation, to annual crop, irrigated, intensive\n",
      "9007 Transformation, from permanent crop, irrigated Transformation, to permanent crop, irrigated\n",
      "9022 Transformation, from annual crop, non-irrigated Transformation, to annual crop, non-irrigated\n",
      "854 Transformation, from traffic area, rail/road embankment Transformation, to traffic area, rail/road embankment\n",
      "854 Transformation, from forest, intensive Transformation, to forest, intensive\n",
      "864 Transformation, from arable land, unspecified use Transformation, to arable land, unspecified use\n",
      "867 Transformation, from pasture, man made, intensive Transformation, to pasture, man made, intensive\n",
      "917 Transformation, from arable land, unspecified use Transformation, to arable land, unspecified use\n",
      "927 Transformation, from annual crop, non-irrigated, intensive Transformation, to annual crop, non-irrigated, intensive\n"
     ]
    },
    {
     "name": "stdout",
     "output_type": "stream",
     "text": [
      "971 Transformation, from unspecified Transformation, to unspecified\n",
      "971 Transformation, from industrial area Transformation, to industrial area\n",
      "9178 Transformation, from annual crop, non-irrigated Transformation, to annual crop, non-irrigated\n",
      "9196 Transformation, from unspecified Transformation, to unspecified\n",
      "9196 Transformation, from mineral extraction site Transformation, to mineral extraction site\n",
      "1012 Transformation, from annual crop, non-irrigated, extensive Transformation, to annual crop, non-irrigated, extensive\n",
      "1021 Transformation, from permanent crop, irrigated Transformation, to permanent crop, irrigated\n",
      "9268 Transformation, from permanent crop, irrigated Transformation, to permanent crop, irrigated\n",
      "9302 Transformation, from permanent crop Transformation, to permanent crop\n",
      "9313 Transformation, from arable land, unspecified use Transformation, to arable land, unspecified use\n",
      "1124 Transformation, from permanent crop, irrigated, intensive Transformation, to permanent crop, irrigated, intensive\n",
      "9323 Transformation, from permanent crop, irrigated Transformation, to permanent crop, irrigated\n",
      "9329 Transformation, from annual crop, non-irrigated, extensive Transformation, to annual crop, non-irrigated, extensive\n",
      "1142 Transformation, from unspecified Transformation, to unspecified\n",
      "1142 Transformation, from mineral extraction site Transformation, to mineral extraction site\n",
      "1148 Transformation, from traffic area, rail/road embankment Transformation, to traffic area, rail/road embankment\n",
      "1148 Transformation, from forest, intensive Transformation, to forest, intensive\n",
      "9341 Transformation, from arable land, unspecified use Transformation, to arable land, unspecified use\n",
      "9345 Transformation, from arable land, unspecified use Transformation, to arable land, unspecified use\n",
      "9349 Transformation, from annual crop, non-irrigated, intensive Transformation, to annual crop, non-irrigated, intensive\n",
      "9359 Transformation, from industrial area Transformation, to industrial area\n",
      "1169 Transformation, from arable land, unspecified use Transformation, to arable land, unspecified use\n",
      "9367 Transformation, from annual crop Transformation, to annual crop\n",
      "9370 Transformation, from unspecified Transformation, to unspecified\n",
      "9370 Transformation, from industrial area Transformation, to industrial area\n",
      "9394 Transformation, from traffic area, rail/road embankment Transformation, to traffic area, rail/road embankment\n",
      "9394 Transformation, from forest, intensive Transformation, to forest, intensive\n",
      "9409 Transformation, from traffic area, rail/road embankment Transformation, to traffic area, rail/road embankment\n",
      "9409 Transformation, from forest, intensive Transformation, to forest, intensive\n",
      "9431 Transformation, from pasture, man made, intensive Transformation, to pasture, man made, intensive\n",
      "9433 Transformation, from arable land, unspecified use Transformation, to arable land, unspecified use\n",
      "1262 Transformation, from arable land, unspecified use Transformation, to arable land, unspecified use\n",
      "1270 Transformation, from annual crop, non-irrigated, intensive Transformation, to annual crop, non-irrigated, intensive\n",
      "1299 Transformation, from arable land, unspecified use Transformation, to arable land, unspecified use\n",
      "9499 Transformation, from traffic area, rail/road embankment Transformation, to traffic area, rail/road embankment\n",
      "9499 Transformation, from forest, intensive Transformation, to forest, intensive\n",
      "1322 Transformation, from arable land, unspecified use Transformation, to arable land, unspecified use\n",
      "1323 Transformation, from forest, extensive Transformation, to forest, extensive\n",
      "1323 Transformation, from traffic area, rail/road embankment Transformation, to traffic area, rail/road embankment\n",
      "9517 Transformation, from arable land, unspecified use Transformation, to arable land, unspecified use\n",
      "1340 Transformation, from arable land, unspecified use Transformation, to arable land, unspecified use\n",
      "9540 Transformation, from pasture, man made, intensive Transformation, to pasture, man made, intensive\n",
      "9547 Transformation, from annual crop, non-irrigated, intensive Transformation, to annual crop, non-irrigated, intensive\n",
      "1370 Transformation, from arable land, unspecified use Transformation, to arable land, unspecified use\n",
      "1399 Transformation, from annual crop, non-irrigated, extensive Transformation, to annual crop, non-irrigated, extensive\n",
      "9602 Transformation, from annual crop Transformation, to annual crop\n",
      "1415 Transformation, from pasture, man made Transformation, to pasture, man made\n",
      "1427 Transformation, from pasture, man made, extensive Transformation, to pasture, man made, extensive\n",
      "9620 Transformation, from unspecified Transformation, to unspecified\n",
      "9620 Transformation, from industrial area Transformation, to industrial area\n",
      "9630 Transformation, from industrial area Transformation, to industrial area\n",
      "1471 Transformation, from annual crop Transformation, to annual crop\n",
      "9679 Transformation, from annual crop, non-irrigated, intensive Transformation, to annual crop, non-irrigated, intensive\n",
      "9693 Transformation, from annual crop, non-irrigated, intensive Transformation, to annual crop, non-irrigated, intensive\n",
      "9712 Transformation, from annual crop, non-irrigated, extensive Transformation, to annual crop, non-irrigated, extensive\n",
      "9719 Transformation, from dump site, sanitary landfill Transformation, to dump site, sanitary landfill\n",
      "9719 Transformation, from shrub land, sclerophyllous Transformation, to shrub land, sclerophyllous\n",
      "1560 Transformation, from forest, extensive Transformation, to forest, extensive\n",
      "1570 Transformation, from annual crop, non-irrigated, intensive Transformation, to annual crop, non-irrigated, intensive\n",
      "9769 Transformation, from unspecified Transformation, to unspecified\n",
      "9769 Transformation, from pasture, man made Transformation, to pasture, man made\n",
      "1580 Transformation, from arable land, unspecified use Transformation, to arable land, unspecified use\n",
      "1587 Transformation, from arable land, unspecified use Transformation, to arable land, unspecified use\n",
      "9785 Transformation, from annual crop, non-irrigated, extensive Transformation, to annual crop, non-irrigated, extensive\n",
      "1618 Transformation, from permanent crop, irrigated, intensive Transformation, to permanent crop, irrigated, intensive\n",
      "1627 Transformation, from annual crop, non-irrigated, extensive Transformation, to annual crop, non-irrigated, extensive\n",
      "9839 Transformation, from traffic area, rail/road embankment Transformation, to traffic area, rail/road embankment\n",
      "9839 Transformation, from forest, intensive Transformation, to forest, intensive\n",
      "1652 Transformation, from arable land, unspecified use Transformation, to arable land, unspecified use\n",
      "9848 Transformation, from annual crop, non-irrigated, intensive Transformation, to annual crop, non-irrigated, intensive\n",
      "9848 Transformation, from annual crop, irrigated, intensive Transformation, to annual crop, irrigated, intensive\n",
      "9855 Transformation, from annual crop Transformation, to annual crop\n",
      "9858 Transformation, from annual crop, non-irrigated, intensive Transformation, to annual crop, non-irrigated, intensive\n",
      "9863 Transformation, from industrial area Transformation, to industrial area\n",
      "9871 Transformation, from arable land, unspecified use Transformation, to arable land, unspecified use\n",
      "1694 Transformation, from annual crop, non-irrigated, extensive Transformation, to annual crop, non-irrigated, extensive\n",
      "1706 Transformation, from traffic area, rail/road embankment Transformation, to traffic area, rail/road embankment\n",
      "1706 Transformation, from forest, intensive Transformation, to forest, intensive\n",
      "9900 Transformation, from annual crop, non-irrigated, intensive Transformation, to annual crop, non-irrigated, intensive\n",
      "9905 Transformation, from annual crop, non-irrigated, extensive Transformation, to annual crop, non-irrigated, extensive\n",
      "1723 Transformation, from annual crop Transformation, to annual crop\n",
      "9920 Transformation, from industrial area Transformation, to industrial area\n",
      "1729 Transformation, from unspecified Transformation, to unspecified\n",
      "1729 Transformation, from industrial area Transformation, to industrial area\n",
      "9952 Transformation, from industrial area Transformation, to industrial area\n",
      "1775 Transformation, from annual crop, non-irrigated Transformation, to annual crop, non-irrigated\n"
     ]
    },
    {
     "name": "stdout",
     "output_type": "stream",
     "text": [
      "9968 Transformation, from annual crop, non-irrigated, intensive Transformation, to annual crop, non-irrigated, intensive\n",
      "9994 Transformation, from unspecified Transformation, to unspecified\n",
      "9994 Transformation, from industrial area Transformation, to industrial area\n",
      "1810 Transformation, from unspecified Transformation, to unspecified\n",
      "1810 Transformation, from mineral extraction site Transformation, to mineral extraction site\n",
      "10005 Transformation, from permanent crop, irrigated Transformation, to permanent crop, irrigated\n",
      "10021 Transformation, from permanent crop, irrigated Transformation, to permanent crop, irrigated\n",
      "10029 Transformation, from forest, extensive Transformation, to forest, extensive\n",
      "10029 Transformation, from traffic area, rail/road embankment Transformation, to traffic area, rail/road embankment\n",
      "1919 Transformation, from pasture, man made, intensive Transformation, to pasture, man made, intensive\n",
      "1919 Transformation, from pasture, man made, extensive Transformation, to pasture, man made, extensive\n",
      "10183 Transformation, from industrial area Transformation, to industrial area\n",
      "10191 Transformation, from arable land, unspecified use Transformation, to arable land, unspecified use\n",
      "2020 Transformation, from annual crop, non-irrigated, intensive Transformation, to annual crop, non-irrigated, intensive\n",
      "10215 Transformation, from unspecified Transformation, to unspecified\n",
      "10215 Transformation, from mineral extraction site Transformation, to mineral extraction site\n",
      "2033 Transformation, from annual crop, non-irrigated, extensive Transformation, to annual crop, non-irrigated, extensive\n",
      "2043 Transformation, from annual crop Transformation, to annual crop\n",
      "2047 Transformation, from traffic area, rail/road embankment Transformation, to traffic area, rail/road embankment\n",
      "2047 Transformation, from forest, intensive Transformation, to forest, intensive\n",
      "10242 Transformation, from permanent crop, irrigated Transformation, to permanent crop, irrigated\n",
      "2074 Transformation, from traffic area, rail/road embankment Transformation, to traffic area, rail/road embankment\n",
      "2074 Transformation, from forest, intensive Transformation, to forest, intensive\n",
      "10278 Transformation, from annual crop, non-irrigated, extensive Transformation, to annual crop, non-irrigated, extensive\n",
      "10320 Transformation, from annual crop, non-irrigated, extensive Transformation, to annual crop, non-irrigated, extensive\n",
      "10325 Transformation, from permanent crop, irrigated, intensive Transformation, to permanent crop, irrigated, intensive\n",
      "10334 Transformation, from traffic area, rail/road embankment Transformation, to traffic area, rail/road embankment\n",
      "10334 Transformation, from forest, intensive Transformation, to forest, intensive\n",
      "2144 Transformation, from forest, extensive Transformation, to forest, extensive\n",
      "10342 Transformation, from forest, extensive Transformation, to forest, extensive\n",
      "10345 Transformation, from annual crop, irrigated, intensive Transformation, to annual crop, irrigated, intensive\n",
      "2174 Transformation, from arable land, unspecified use Transformation, to arable land, unspecified use\n",
      "10370 Transformation, from annual crop, non-irrigated, intensive Transformation, to annual crop, non-irrigated, intensive\n",
      "10371 Transformation, from traffic area, rail/road embankment Transformation, to traffic area, rail/road embankment\n",
      "10371 Transformation, from forest, intensive Transformation, to forest, intensive\n",
      "10377 Transformation, from industrial area Transformation, to industrial area\n",
      "2192 Transformation, from annual crop, non-irrigated Transformation, to annual crop, non-irrigated\n",
      "10386 Transformation, from annual crop, non-irrigated, intensive Transformation, to annual crop, non-irrigated, intensive\n",
      "10393 Transformation, from annual crop, non-irrigated, intensive Transformation, to annual crop, non-irrigated, intensive\n",
      "2203 Transformation, from traffic area, rail/road embankment Transformation, to traffic area, rail/road embankment\n",
      "2203 Transformation, from forest, intensive Transformation, to forest, intensive\n",
      "2204 Transformation, from annual crop, non-irrigated, intensive Transformation, to annual crop, non-irrigated, intensive\n",
      "2210 Transformation, from annual crop, non-irrigated, intensive Transformation, to annual crop, non-irrigated, intensive\n",
      "10407 Transformation, from annual crop Transformation, to annual crop\n",
      "10426 Transformation, from permanent crop, irrigated Transformation, to permanent crop, irrigated\n",
      "2245 Transformation, from unspecified Transformation, to unspecified\n",
      "2245 Transformation, from mineral extraction site Transformation, to mineral extraction site\n",
      "2249 Transformation, from annual crop, non-irrigated, extensive Transformation, to annual crop, non-irrigated, extensive\n",
      "2252 Transformation, from traffic area, rail/road embankment Transformation, to traffic area, rail/road embankment\n",
      "2252 Transformation, from forest, intensive Transformation, to forest, intensive\n",
      "10444 Transformation, from unspecified Transformation, to unspecified\n",
      "10444 Transformation, from industrial area Transformation, to industrial area\n",
      "10446 Transformation, from annual crop, irrigated, intensive Transformation, to annual crop, irrigated, intensive\n",
      "10449 Transformation, from permanent crop, irrigated Transformation, to permanent crop, irrigated\n",
      "10462 Transformation, from annual crop, non-irrigated, extensive Transformation, to annual crop, non-irrigated, extensive\n",
      "10482 Transformation, from traffic area, rail/road embankment Transformation, to traffic area, rail/road embankment\n",
      "10482 Transformation, from forest, intensive Transformation, to forest, intensive\n",
      "2306 Transformation, from annual crop, non-irrigated, extensive Transformation, to annual crop, non-irrigated, extensive\n",
      "2309 Transformation, from unspecified Transformation, to unspecified\n",
      "2309 Transformation, from industrial area Transformation, to industrial area\n",
      "2327 Transformation, from arable land, unspecified use Transformation, to arable land, unspecified use\n",
      "2344 Transformation, from mineral extraction site Transformation, to mineral extraction site\n",
      "10540 Transformation, from traffic area, rail/road embankment Transformation, to traffic area, rail/road embankment\n",
      "10540 Transformation, from forest, intensive Transformation, to forest, intensive\n",
      "2363 Transformation, from annual crop Transformation, to annual crop\n",
      "2368 Transformation, from annual crop, non-irrigated, extensive Transformation, to annual crop, non-irrigated, extensive\n",
      "2388 Transformation, from permanent crop, irrigated Transformation, to permanent crop, irrigated\n",
      "2414 Transformation, from permanent crop, irrigated, intensive Transformation, to permanent crop, irrigated, intensive\n",
      "10614 Transformation, from dump site, residual material landfill Transformation, to dump site, residual material landfill\n",
      "10614 Transformation, from shrub land, sclerophyllous Transformation, to shrub land, sclerophyllous\n",
      "10618 Transformation, from arable land, unspecified use Transformation, to arable land, unspecified use\n",
      "10644 Transformation, from pasture, man made, intensive Transformation, to pasture, man made, intensive\n",
      "2468 Transformation, from forest, extensive Transformation, to forest, extensive\n",
      "2468 Transformation, from traffic area, rail/road embankment Transformation, to traffic area, rail/road embankment\n",
      "10668 Transformation, from forest, intensive Transformation, to forest, intensive\n",
      "10682 Transformation, from arable land, unspecified use Transformation, to arable land, unspecified use\n",
      "2503 Transformation, from pasture, man made, extensive Transformation, to pasture, man made, extensive\n",
      "2522 Transformation, from unspecified Transformation, to unspecified\n",
      "2522 Transformation, from mineral extraction site Transformation, to mineral extraction site\n",
      "10727 Transformation, from seabed, unspecified Transformation, to seabed, unspecified\n",
      "10727 Transformation, from seabed, infrastructure Transformation, to seabed, infrastructure\n",
      "2544 Transformation, from forest, extensive Transformation, to forest, extensive\n",
      "2545 Transformation, from forest, extensive Transformation, to forest, extensive\n",
      "2550 Transformation, from traffic area, rail/road embankment Transformation, to traffic area, rail/road embankment\n",
      "2550 Transformation, from forest, intensive Transformation, to forest, intensive\n",
      "10794 Transformation, from traffic area, rail/road embankment Transformation, to traffic area, rail/road embankment\n",
      "10794 Transformation, from forest, intensive Transformation, to forest, intensive\n",
      "2614 Transformation, from permanent crop, irrigated Transformation, to permanent crop, irrigated\n",
      "10812 Transformation, from traffic area, rail/road embankment Transformation, to traffic area, rail/road embankment\n",
      "10812 Transformation, from forest, intensive Transformation, to forest, intensive\n",
      "2637 Transformation, from permanent crop, irrigated Transformation, to permanent crop, irrigated\n"
     ]
    },
    {
     "name": "stdout",
     "output_type": "stream",
     "text": [
      "2640 Transformation, from annual crop Transformation, to annual crop\n",
      "10852 Transformation, from arable land, unspecified use Transformation, to arable land, unspecified use\n",
      "10880 Transformation, from arable land, unspecified use Transformation, to arable land, unspecified use\n",
      "2689 Transformation, from annual crop, non-irrigated, extensive Transformation, to annual crop, non-irrigated, extensive\n",
      "10887 Transformation, from arable land, unspecified use Transformation, to arable land, unspecified use\n",
      "2697 Transformation, from annual crop, non-irrigated Transformation, to annual crop, non-irrigated\n",
      "10903 Transformation, from annual crop, non-irrigated, extensive Transformation, to annual crop, non-irrigated, extensive\n",
      "10924 Transformation, from annual crop, non-irrigated, intensive Transformation, to annual crop, non-irrigated, intensive\n",
      "2744 Transformation, from unspecified Transformation, to unspecified\n",
      "2744 Transformation, from mineral extraction site Transformation, to mineral extraction site\n",
      "2746 Transformation, from traffic area, rail/road embankment Transformation, to traffic area, rail/road embankment\n",
      "2746 Transformation, from forest, intensive Transformation, to forest, intensive\n",
      "10941 Transformation, from unspecified Transformation, to unspecified\n",
      "10964 Transformation, from unspecified Transformation, to unspecified\n",
      "10964 Transformation, from industrial area Transformation, to industrial area\n",
      "2781 Transformation, from annual crop Transformation, to annual crop\n",
      "2792 Transformation, from pasture, man made, intensive Transformation, to pasture, man made, intensive\n",
      "2794 Transformation, from annual crop Transformation, to annual crop\n",
      "2812 Transformation, from unspecified Transformation, to unspecified\n",
      "2812 Transformation, from industrial area Transformation, to industrial area\n",
      "11027 Transformation, from permanent crop, irrigated Transformation, to permanent crop, irrigated\n",
      "11034 Transformation, from annual crop, non-irrigated Transformation, to annual crop, non-irrigated\n",
      "2862 Transformation, from pasture, man made, intensive Transformation, to pasture, man made, intensive\n",
      "2864 Transformation, from industrial area Transformation, to industrial area\n",
      "2864 Transformation, from pasture, man made Transformation, to pasture, man made\n",
      "2866 Transformation, from arable land, unspecified use Transformation, to arable land, unspecified use\n",
      "2867 Transformation, from traffic area, rail/road embankment Transformation, to traffic area, rail/road embankment\n",
      "2867 Transformation, from forest, intensive Transformation, to forest, intensive\n",
      "11076 Transformation, from traffic area, rail/road embankment Transformation, to traffic area, rail/road embankment\n",
      "11076 Transformation, from forest, intensive Transformation, to forest, intensive\n",
      "11092 Transformation, from annual crop, non-irrigated, extensive Transformation, to annual crop, non-irrigated, extensive\n",
      "2927 Transformation, from permanent crop, irrigated Transformation, to permanent crop, irrigated\n",
      "2946 Transformation, from unspecified Transformation, to unspecified\n",
      "2946 Transformation, from industrial area Transformation, to industrial area\n",
      "11142 Transformation, from annual crop, non-irrigated Transformation, to annual crop, non-irrigated\n",
      "11144 Transformation, from annual crop Transformation, to annual crop\n",
      "2963 Transformation, from annual crop, non-irrigated, intensive Transformation, to annual crop, non-irrigated, intensive\n",
      "3000 Transformation, from traffic area, rail/road embankment Transformation, to traffic area, rail/road embankment\n",
      "3000 Transformation, from forest, intensive Transformation, to forest, intensive\n",
      "11193 Transformation, from annual crop Transformation, to annual crop\n",
      "11192 Transformation, from pasture, man made Transformation, to pasture, man made\n",
      "11213 Transformation, from traffic area, rail/road embankment Transformation, to traffic area, rail/road embankment\n",
      "11213 Transformation, from forest, intensive Transformation, to forest, intensive\n",
      "11218 Transformation, from annual crop, non-irrigated, extensive Transformation, to annual crop, non-irrigated, extensive\n",
      "3032 Transformation, from traffic area, rail/road embankment Transformation, to traffic area, rail/road embankment\n",
      "3032 Transformation, from forest, intensive Transformation, to forest, intensive\n",
      "3037 Transformation, from traffic area, rail/road embankment Transformation, to traffic area, rail/road embankment\n",
      "3037 Transformation, from forest, intensive Transformation, to forest, intensive\n",
      "11231 Transformation, from annual crop, non-irrigated, intensive Transformation, to annual crop, non-irrigated, intensive\n",
      "3041 Transformation, from annual crop, non-irrigated, intensive Transformation, to annual crop, non-irrigated, intensive\n",
      "3055 Transformation, from annual crop Transformation, to annual crop\n",
      "11268 Transformation, from unspecified Transformation, to unspecified\n",
      "11268 Transformation, from industrial area Transformation, to industrial area\n",
      "11309 Transformation, from annual crop Transformation, to annual crop\n",
      "3193 Transformation, from annual crop Transformation, to annual crop\n",
      "3213 Transformation, from arable land, unspecified use Transformation, to arable land, unspecified use\n",
      "3219 Transformation, from annual crop, non-irrigated, extensive Transformation, to annual crop, non-irrigated, extensive\n",
      "3251 Transformation, from permanent crop, irrigated Transformation, to permanent crop, irrigated\n",
      "3277 Transformation, from annual crop, non-irrigated, intensive Transformation, to annual crop, non-irrigated, intensive\n",
      "11490 Transformation, from arable land, unspecified use Transformation, to arable land, unspecified use\n",
      "11502 Transformation, from traffic area, rail/road embankment Transformation, to traffic area, rail/road embankment\n",
      "11502 Transformation, from forest, intensive Transformation, to forest, intensive\n",
      "3323 Transformation, from annual crop, non-irrigated, extensive Transformation, to annual crop, non-irrigated, extensive\n",
      "11516 Transformation, from annual crop Transformation, to annual crop\n",
      "11538 Transformation, from permanent crop, irrigated Transformation, to permanent crop, irrigated\n",
      "3354 Transformation, from arable land, unspecified use Transformation, to arable land, unspecified use\n",
      "3417 Transformation, from forest, extensive Transformation, to forest, extensive\n",
      "3417 Transformation, from traffic area, rail/road embankment Transformation, to traffic area, rail/road embankment\n",
      "11616 Transformation, from annual crop Transformation, to annual crop\n",
      "11632 Transformation, from industrial area Transformation, to industrial area\n",
      "3458 Transformation, from annual crop Transformation, to annual crop\n",
      "3493 Transformation, from pasture, man made, extensive Transformation, to pasture, man made, extensive\n",
      "3501 Transformation, from pasture, man made Transformation, to pasture, man made\n",
      "3519 Transformation, from pasture, man made Transformation, to pasture, man made\n",
      "11722 Transformation, from annual crop, non-irrigated, intensive Transformation, to annual crop, non-irrigated, intensive\n",
      "11738 Transformation, from forest, intensive Transformation, to forest, intensive\n",
      "3550 Transformation, from annual crop, non-irrigated, intensive Transformation, to annual crop, non-irrigated, intensive\n",
      "3566 Transformation, from permanent crop, irrigated Transformation, to permanent crop, irrigated\n",
      "3582 Transformation, from annual crop, non-irrigated, extensive Transformation, to annual crop, non-irrigated, extensive\n",
      "11777 Transformation, from dump site, residual material landfill Transformation, to dump site, residual material landfill\n",
      "11777 Transformation, from shrub land, sclerophyllous Transformation, to shrub land, sclerophyllous\n",
      "3585 Transformation, from arable land, unspecified use Transformation, to arable land, unspecified use\n",
      "11787 Transformation, from annual crop, non-irrigated, intensive Transformation, to annual crop, non-irrigated, intensive\n",
      "3599 Transformation, from annual crop Transformation, to annual crop\n",
      "3618 Transformation, from arable land, unspecified use Transformation, to arable land, unspecified use\n",
      "11821 Transformation, from annual crop, non-irrigated, intensive Transformation, to annual crop, non-irrigated, intensive\n",
      "3634 Transformation, from annual crop, non-irrigated, intensive Transformation, to annual crop, non-irrigated, intensive\n",
      "11833 Transformation, from pasture, man made, intensive Transformation, to pasture, man made, intensive\n",
      "3649 Transformation, from unspecified Transformation, to unspecified\n",
      "3649 Transformation, from industrial area Transformation, to industrial area\n",
      "3652 Transformation, from industrial area Transformation, to industrial area\n",
      "11847 Transformation, from annual crop, non-irrigated, extensive Transformation, to annual crop, non-irrigated, extensive\n",
      "11848 Transformation, from annual crop, non-irrigated, intensive Transformation, to annual crop, non-irrigated, intensive\n",
      "3666 Transformation, from arable land, unspecified use Transformation, to arable land, unspecified use\n",
      "3679 Transformation, from traffic area, rail/road embankment Transformation, to traffic area, rail/road embankment\n"
     ]
    },
    {
     "name": "stdout",
     "output_type": "stream",
     "text": [
      "3679 Transformation, from forest, intensive Transformation, to forest, intensive\n",
      "3681 Transformation, from annual crop, non-irrigated, extensive Transformation, to annual crop, non-irrigated, extensive\n",
      "11880 Transformation, from annual crop Transformation, to annual crop\n",
      "11901 Transformation, from annual crop, non-irrigated, extensive Transformation, to annual crop, non-irrigated, extensive\n",
      "3737 Transformation, from annual crop Transformation, to annual crop\n",
      "3750 Transformation, from dump site, slag compartment Transformation, to dump site, slag compartment\n",
      "3750 Transformation, from shrub land, sclerophyllous Transformation, to shrub land, sclerophyllous\n",
      "11945 Transformation, from arable land, unspecified use Transformation, to arable land, unspecified use\n",
      "3769 Transformation, from annual crop, non-irrigated, intensive Transformation, to annual crop, non-irrigated, intensive\n",
      "3769 Transformation, from annual crop Transformation, to annual crop\n",
      "11964 Transformation, from dump site, residual material landfill Transformation, to dump site, residual material landfill\n",
      "11964 Transformation, from shrub land, sclerophyllous Transformation, to shrub land, sclerophyllous\n",
      "11984 Transformation, from permanent crop, irrigated Transformation, to permanent crop, irrigated\n",
      "3798 Transformation, from traffic area, rail/road embankment Transformation, to traffic area, rail/road embankment\n",
      "3798 Transformation, from forest, intensive Transformation, to forest, intensive\n",
      "12011 Transformation, from annual crop, non-irrigated, intensive Transformation, to annual crop, non-irrigated, intensive\n",
      "3826 Transformation, from forest, extensive Transformation, to forest, extensive\n",
      "3826 Transformation, from traffic area, rail/road embankment Transformation, to traffic area, rail/road embankment\n",
      "12024 Transformation, from industrial area Transformation, to industrial area\n",
      "12039 Transformation, from pasture, man made, intensive Transformation, to pasture, man made, intensive\n",
      "12042 Transformation, from forest, intensive Transformation, to forest, intensive\n",
      "3860 Transformation, from traffic area, rail/road embankment Transformation, to traffic area, rail/road embankment\n",
      "3860 Transformation, from forest, intensive Transformation, to forest, intensive\n",
      "12080 Transformation, from unspecified Transformation, to unspecified\n",
      "12080 Transformation, from pasture, man made Transformation, to pasture, man made\n",
      "3896 Transformation, from annual crop, non-irrigated, intensive Transformation, to annual crop, non-irrigated, intensive\n",
      "12124 Transformation, from permanent crop, irrigated Transformation, to permanent crop, irrigated\n",
      "3933 Transformation, from arable land, unspecified use Transformation, to arable land, unspecified use\n",
      "12142 Transformation, from annual crop, non-irrigated, extensive Transformation, to annual crop, non-irrigated, extensive\n",
      "3986 Transformation, from annual crop, non-irrigated, intensive Transformation, to annual crop, non-irrigated, intensive\n",
      "3993 Transformation, from traffic area, rail/road embankment Transformation, to traffic area, rail/road embankment\n",
      "3993 Transformation, from forest, intensive Transformation, to forest, intensive\n",
      "4012 Transformation, from arable land, unspecified use Transformation, to arable land, unspecified use\n",
      "12209 Transformation, from forest, extensive Transformation, to forest, extensive\n",
      "12209 Transformation, from traffic area, rail/road embankment Transformation, to traffic area, rail/road embankment\n",
      "4043 Transformation, from permanent crop, irrigated Transformation, to permanent crop, irrigated\n",
      "4047 Transformation, from arable land, unspecified use Transformation, to arable land, unspecified use\n",
      "4056 Transformation, from permanent crop, irrigated Transformation, to permanent crop, irrigated\n",
      "4062 Transformation, from permanent crop, irrigated Transformation, to permanent crop, irrigated\n",
      "12297 Transformation, from permanent crop, irrigated Transformation, to permanent crop, irrigated\n",
      "4133 Transformation, from annual crop, non-irrigated, extensive Transformation, to annual crop, non-irrigated, extensive\n",
      "4154 Transformation, from unspecified Transformation, to unspecified\n",
      "4154 Transformation, from pasture, man made Transformation, to pasture, man made\n",
      "4159 Transformation, from annual crop Transformation, to annual crop\n",
      "12382 Transformation, from pasture, man made, intensive Transformation, to pasture, man made, intensive\n",
      "4198 Transformation, from permanent crop, irrigated Transformation, to permanent crop, irrigated\n",
      "12399 Transformation, from pasture, man made Transformation, to pasture, man made\n",
      "12417 Transformation, from annual crop, non-irrigated, intensive Transformation, to annual crop, non-irrigated, intensive\n",
      "12426 Transformation, from dump site, slag compartment Transformation, to dump site, slag compartment\n",
      "12426 Transformation, from shrub land, sclerophyllous Transformation, to shrub land, sclerophyllous\n",
      "12432 Transformation, from annual crop, non-irrigated, intensive Transformation, to annual crop, non-irrigated, intensive\n",
      "4255 Transformation, from annual crop, non-irrigated, intensive Transformation, to annual crop, non-irrigated, intensive\n",
      "12450 Transformation, from traffic area, rail/road embankment Transformation, to traffic area, rail/road embankment\n",
      "12450 Transformation, from forest, intensive Transformation, to forest, intensive\n",
      "12460 Transformation, from traffic area, rail/road embankment Transformation, to traffic area, rail/road embankment\n",
      "12460 Transformation, from forest, intensive Transformation, to forest, intensive\n",
      "12461 Transformation, from arable land, unspecified use Transformation, to arable land, unspecified use\n",
      "4278 Transformation, from annual crop, non-irrigated, intensive Transformation, to annual crop, non-irrigated, intensive\n",
      "12480 Transformation, from pasture, man made, intensive Transformation, to pasture, man made, intensive\n",
      "12482 Transformation, from traffic area, rail/road embankment Transformation, to traffic area, rail/road embankment\n",
      "12482 Transformation, from forest, intensive Transformation, to forest, intensive\n",
      "12489 Transformation, from annual crop Transformation, to annual crop\n",
      "12492 Transformation, from pasture, man made, intensive Transformation, to pasture, man made, intensive\n",
      "4353 Transformation, from annual crop, non-irrigated Transformation, to annual crop, non-irrigated\n",
      "12563 Transformation, from annual crop Transformation, to annual crop\n",
      "12568 Transformation, from unspecified Transformation, to unspecified\n",
      "12568 Transformation, from industrial area Transformation, to industrial area\n",
      "4388 Transformation, from traffic area, rail/road embankment Transformation, to traffic area, rail/road embankment\n",
      "4388 Transformation, from forest, intensive Transformation, to forest, intensive\n",
      "12587 Transformation, from permanent crop, irrigated Transformation, to permanent crop, irrigated\n",
      "4397 Transformation, from annual crop, non-irrigated, extensive Transformation, to annual crop, non-irrigated, extensive\n",
      "4402 Transformation, from arable land, unspecified use Transformation, to arable land, unspecified use\n",
      "12606 Transformation, from unspecified Transformation, to unspecified\n",
      "12606 Transformation, from industrial area Transformation, to industrial area\n",
      "4428 Transformation, from permanent crop, irrigated Transformation, to permanent crop, irrigated\n",
      "4444 Transformation, from traffic area, rail/road embankment Transformation, to traffic area, rail/road embankment\n",
      "4444 Transformation, from forest, intensive Transformation, to forest, intensive\n",
      "4449 Transformation, from annual crop Transformation, to annual crop\n",
      "12645 Transformation, from annual crop Transformation, to annual crop\n",
      "4453 Transformation, from permanent crop, irrigated Transformation, to permanent crop, irrigated\n",
      "4466 Transformation, from annual crop, irrigated, intensive Transformation, to annual crop, irrigated, intensive\n",
      "4467 Transformation, from annual crop Transformation, to annual crop\n",
      "4474 Transformation, from permanent crop, irrigated Transformation, to permanent crop, irrigated\n",
      "12671 Transformation, from traffic area, rail/road embankment Transformation, to traffic area, rail/road embankment\n",
      "12671 Transformation, from forest, intensive Transformation, to forest, intensive\n",
      "12672 Transformation, from forest, extensive Transformation, to forest, extensive\n",
      "4503 Transformation, from arable land, unspecified use Transformation, to arable land, unspecified use\n",
      "4517 Transformation, from annual crop, non-irrigated, intensive Transformation, to annual crop, non-irrigated, intensive\n",
      "12743 Transformation, from pasture, man made Transformation, to pasture, man made\n",
      "4556 Transformation, from annual crop Transformation, to annual crop\n",
      "12755 Transformation, from permanent crop, irrigated Transformation, to permanent crop, irrigated\n"
     ]
    },
    {
     "name": "stdout",
     "output_type": "stream",
     "text": [
      "12777 Transformation, from annual crop, non-irrigated, intensive Transformation, to annual crop, non-irrigated, intensive\n",
      "4585 Transformation, from unspecified Transformation, to unspecified\n",
      "4585 Transformation, from industrial area Transformation, to industrial area\n",
      "4596 Transformation, from traffic area, rail/road embankment Transformation, to traffic area, rail/road embankment\n",
      "4596 Transformation, from forest, intensive Transformation, to forest, intensive\n",
      "4623 Transformation, from annual crop, non-irrigated, intensive Transformation, to annual crop, non-irrigated, intensive\n",
      "12815 Transformation, from permanent crop, irrigated, intensive Transformation, to permanent crop, irrigated, intensive\n",
      "12831 Transformation, from annual crop, non-irrigated, intensive Transformation, to annual crop, non-irrigated, intensive\n",
      "12839 Transformation, from annual crop Transformation, to annual crop\n",
      "4678 Transformation, from unspecified Transformation, to unspecified\n",
      "4678 Transformation, from industrial area Transformation, to industrial area\n",
      "4680 Transformation, from pasture, man made, intensive Transformation, to pasture, man made, intensive\n",
      "4684 Transformation, from traffic area, rail/road embankment Transformation, to traffic area, rail/road embankment\n",
      "4684 Transformation, from forest, intensive Transformation, to forest, intensive\n",
      "12876 Transformation, from forest, extensive Transformation, to forest, extensive\n",
      "12876 Transformation, from traffic area, rail/road embankment Transformation, to traffic area, rail/road embankment\n",
      "4687 Transformation, from unspecified Transformation, to unspecified\n",
      "4687 Transformation, from mineral extraction site Transformation, to mineral extraction site\n",
      "12901 Transformation, from dump site, sanitary landfill Transformation, to dump site, sanitary landfill\n",
      "12901 Transformation, from shrub land, sclerophyllous Transformation, to shrub land, sclerophyllous\n",
      "4709 Transformation, from arable land, unspecified use Transformation, to arable land, unspecified use\n",
      "4719 Transformation, from permanent crop, irrigated Transformation, to permanent crop, irrigated\n",
      "12915 Transformation, from forest, extensive Transformation, to forest, extensive\n",
      "12915 Transformation, from traffic area, rail/road embankment Transformation, to traffic area, rail/road embankment\n",
      "4743 Transformation, from annual crop, non-irrigated, intensive Transformation, to annual crop, non-irrigated, intensive\n",
      "12947 Transformation, from annual crop, irrigated, intensive Transformation, to annual crop, irrigated, intensive\n",
      "4769 Transformation, from unspecified Transformation, to unspecified\n",
      "4769 Transformation, from industrial area Transformation, to industrial area\n",
      "12988 Transformation, from arable land, unspecified use Transformation, to arable land, unspecified use\n",
      "12990 Transformation, from annual crop, non-irrigated, intensive Transformation, to annual crop, non-irrigated, intensive\n",
      "4800 Transformation, from permanent crop, irrigated, intensive Transformation, to permanent crop, irrigated, intensive\n",
      "12998 Transformation, from permanent crop, irrigated Transformation, to permanent crop, irrigated\n",
      "4811 Transformation, from pasture, man made, intensive Transformation, to pasture, man made, intensive\n",
      "13026 Transformation, from pasture, man made, intensive Transformation, to pasture, man made, intensive\n",
      "4858 Transformation, from annual crop, non-irrigated, intensive Transformation, to annual crop, non-irrigated, intensive\n",
      "4909 Transformation, from traffic area, rail/road embankment Transformation, to traffic area, rail/road embankment\n",
      "4909 Transformation, from forest, intensive Transformation, to forest, intensive\n",
      "13106 Transformation, from forest, unspecified Transformation, to forest, unspecified\n",
      "13106 Transformation, from mineral extraction site Transformation, to mineral extraction site\n",
      "13106 Transformation, from pasture, man made Transformation, to pasture, man made\n",
      "13111 Transformation, from arable land, unspecified use Transformation, to arable land, unspecified use\n",
      "13147 Transformation, from permanent crop, irrigated Transformation, to permanent crop, irrigated\n",
      "4956 Transformation, from arable land, unspecified use Transformation, to arable land, unspecified use\n",
      "4977 Transformation, from annual crop, greenhouse Transformation, to annual crop, greenhouse\n",
      "4978 Transformation, from arable land, unspecified use Transformation, to arable land, unspecified use\n",
      "4982 Transformation, from traffic area, rail/road embankment Transformation, to traffic area, rail/road embankment\n",
      "4982 Transformation, from forest, intensive Transformation, to forest, intensive\n",
      "13177 Transformation, from permanent crop, irrigated Transformation, to permanent crop, irrigated\n",
      "5006 Transformation, from annual crop Transformation, to annual crop\n",
      "5011 Transformation, from dump site, inert material landfill Transformation, to dump site, inert material landfill\n",
      "5011 Transformation, from shrub land, sclerophyllous Transformation, to shrub land, sclerophyllous\n",
      "13326 Transformation, from permanent crop, irrigated Transformation, to permanent crop, irrigated\n",
      "13330 Transformation, from annual crop, non-irrigated, extensive Transformation, to annual crop, non-irrigated, extensive\n",
      "5158 Transformation, from annual crop Transformation, to annual crop\n",
      "5185 Transformation, from annual crop Transformation, to annual crop\n",
      "13419 Transformation, from pasture, man made, intensive Transformation, to pasture, man made, intensive\n",
      "5233 Transformation, from arable land, unspecified use Transformation, to arable land, unspecified use\n",
      "13445 Transformation, from dump site, inert material landfill Transformation, to dump site, inert material landfill\n",
      "13445 Transformation, from shrub land, sclerophyllous Transformation, to shrub land, sclerophyllous\n",
      "5300 Transformation, from annual crop, non-irrigated Transformation, to annual crop, non-irrigated\n",
      "5302 Transformation, from arable land, unspecified use Transformation, to arable land, unspecified use\n",
      "13502 Transformation, from annual crop, irrigated, intensive Transformation, to annual crop, irrigated, intensive\n",
      "5315 Transformation, from traffic area, rail/road embankment Transformation, to traffic area, rail/road embankment\n",
      "5315 Transformation, from forest, intensive Transformation, to forest, intensive\n",
      "5346 Transformation, from annual crop, non-irrigated, intensive Transformation, to annual crop, non-irrigated, intensive\n",
      "5352 Transformation, from annual crop, non-irrigated, extensive Transformation, to annual crop, non-irrigated, extensive\n",
      "5392 Transformation, from arable land, unspecified use Transformation, to arable land, unspecified use\n",
      "13586 Transformation, from pasture, man made, extensive Transformation, to pasture, man made, extensive\n",
      "13592 Transformation, from annual crop, non-irrigated, extensive Transformation, to annual crop, non-irrigated, extensive\n",
      "5408 Transformation, from annual crop, non-irrigated, intensive Transformation, to annual crop, non-irrigated, intensive\n",
      "13601 Transformation, from forest, extensive Transformation, to forest, extensive\n",
      "13601 Transformation, from traffic area, rail/road embankment Transformation, to traffic area, rail/road embankment\n",
      "5415 Transformation, from unspecified Transformation, to unspecified\n",
      "5457 Transformation, from traffic area, rail/road embankment Transformation, to traffic area, rail/road embankment\n",
      "5457 Transformation, from forest, intensive Transformation, to forest, intensive\n",
      "5462 Transformation, from annual crop Transformation, to annual crop\n",
      "13667 Transformation, from unspecified Transformation, to unspecified\n",
      "13667 Transformation, from industrial area Transformation, to industrial area\n",
      "13677 Transformation, from forest, unspecified Transformation, to forest, unspecified\n",
      "13677 Transformation, from mineral extraction site Transformation, to mineral extraction site\n",
      "13677 Transformation, from pasture, man made Transformation, to pasture, man made\n",
      "13719 Transformation, from annual crop, non-irrigated Transformation, to annual crop, non-irrigated\n",
      "13724 Transformation, from industrial area Transformation, to industrial area\n",
      "13726 Transformation, from annual crop, non-irrigated, extensive Transformation, to annual crop, non-irrigated, extensive\n",
      "5544 Transformation, from arable land, unspecified use Transformation, to arable land, unspecified use\n"
     ]
    },
    {
     "name": "stdout",
     "output_type": "stream",
     "text": [
      "13755 Transformation, from annual crop, non-irrigated Transformation, to annual crop, non-irrigated\n",
      "5563 Transformation, from permanent crop, irrigated Transformation, to permanent crop, irrigated\n",
      "5564 Transformation, from industrial area Transformation, to industrial area\n",
      "5587 Transformation, from permanent crop, irrigated Transformation, to permanent crop, irrigated\n",
      "13786 Transformation, from arable land, unspecified use Transformation, to arable land, unspecified use\n",
      "13796 Transformation, from arable land, unspecified use Transformation, to arable land, unspecified use\n",
      "5606 Transformation, from permanent crop, irrigated Transformation, to permanent crop, irrigated\n",
      "13813 Transformation, from pasture, man made, intensive Transformation, to pasture, man made, intensive\n",
      "5636 Transformation, from pasture, man made, intensive Transformation, to pasture, man made, intensive\n",
      "5666 Transformation, from arable land, unspecified use Transformation, to arable land, unspecified use\n",
      "5690 Transformation, from annual crop, non-irrigated, intensive Transformation, to annual crop, non-irrigated, intensive\n",
      "5716 Transformation, from mineral extraction site Transformation, to mineral extraction site\n",
      "5731 Transformation, from arable land, unspecified use Transformation, to arable land, unspecified use\n",
      "5810 Transformation, from industrial area Transformation, to industrial area\n",
      "5810 Transformation, from pasture, man made Transformation, to pasture, man made\n",
      "5817 Transformation, from industrial area Transformation, to industrial area\n",
      "5826 Transformation, from traffic area, rail/road embankment Transformation, to traffic area, rail/road embankment\n",
      "5826 Transformation, from forest, intensive Transformation, to forest, intensive\n",
      "5856 Transformation, from annual crop, irrigated, intensive Transformation, to annual crop, irrigated, intensive\n",
      "5866 Transformation, from annual crop, greenhouse Transformation, to annual crop, greenhouse\n",
      "5872 Transformation, from annual crop, non-irrigated, intensive Transformation, to annual crop, non-irrigated, intensive\n",
      "5908 Transformation, from annual crop Transformation, to annual crop\n",
      "5972 Transformation, from mineral extraction site Transformation, to mineral extraction site\n",
      "5972 Transformation, from pasture, man made Transformation, to pasture, man made\n",
      "6029 Transformation, from annual crop, non-irrigated, extensive Transformation, to annual crop, non-irrigated, extensive\n",
      "6050 Transformation, from traffic area, rail/road embankment Transformation, to traffic area, rail/road embankment\n",
      "6050 Transformation, from forest, intensive Transformation, to forest, intensive\n",
      "6063 Transformation, from mineral extraction site Transformation, to mineral extraction site\n",
      "6119 Transformation, from annual crop, non-irrigated, intensive Transformation, to annual crop, non-irrigated, intensive\n",
      "6134 Transformation, from annual crop Transformation, to annual crop\n",
      "6136 Transformation, from pasture, man made, intensive Transformation, to pasture, man made, intensive\n",
      "6143 Transformation, from unspecified Transformation, to unspecified\n",
      "6143 Transformation, from industrial area Transformation, to industrial area\n",
      "6144 Transformation, from annual crop, non-irrigated, intensive Transformation, to annual crop, non-irrigated, intensive\n",
      "6187 Transformation, from traffic area, rail/road embankment Transformation, to traffic area, rail/road embankment\n",
      "6187 Transformation, from forest, intensive Transformation, to forest, intensive\n",
      "6233 Transformation, from unspecified Transformation, to unspecified\n",
      "6241 Transformation, from annual crop Transformation, to annual crop\n",
      "6244 Transformation, from annual crop, non-irrigated, intensive Transformation, to annual crop, non-irrigated, intensive\n",
      "6376 Transformation, from permanent crop, irrigated Transformation, to permanent crop, irrigated\n",
      "6413 Transformation, from annual crop, non-irrigated, intensive Transformation, to annual crop, non-irrigated, intensive\n",
      "6422 Transformation, from arable land, unspecified use Transformation, to arable land, unspecified use\n",
      "6439 Transformation, from dump site, slag compartment Transformation, to dump site, slag compartment\n",
      "6439 Transformation, from shrub land, sclerophyllous Transformation, to shrub land, sclerophyllous\n",
      "6443 Transformation, from annual crop, non-irrigated, extensive Transformation, to annual crop, non-irrigated, extensive\n",
      "6450 Transformation, from unspecified Transformation, to unspecified\n",
      "6450 Transformation, from industrial area Transformation, to industrial area\n",
      "6459 Transformation, from mineral extraction site Transformation, to mineral extraction site\n",
      "6459 Transformation, from wetland, inland (non-use) Transformation, to wetland, inland (non-use)\n",
      "6459 Transformation, from traffic area, road network Transformation, to traffic area, road network\n",
      "6462 Transformation, from annual crop Transformation, to annual crop\n",
      "6469 Transformation, from forest, extensive Transformation, to forest, extensive\n",
      "6469 Transformation, from traffic area, rail/road embankment Transformation, to traffic area, rail/road embankment\n",
      "6495 Transformation, from arable land, unspecified use Transformation, to arable land, unspecified use\n",
      "6501 Transformation, from annual crop, non-irrigated, intensive Transformation, to annual crop, non-irrigated, intensive\n",
      "6534 Transformation, from permanent crop, irrigated Transformation, to permanent crop, irrigated\n",
      "6547 Transformation, from annual crop, non-irrigated, extensive Transformation, to annual crop, non-irrigated, extensive\n",
      "6577 Transformation, from mineral extraction site Transformation, to mineral extraction site\n",
      "6607 Transformation, from mineral extraction site Transformation, to mineral extraction site\n",
      "6615 Transformation, from unspecified Transformation, to unspecified\n",
      "6615 Transformation, from industrial area Transformation, to industrial area\n",
      "6647 Transformation, from traffic area, rail/road embankment Transformation, to traffic area, rail/road embankment\n",
      "6647 Transformation, from forest, intensive Transformation, to forest, intensive\n",
      "6657 Transformation, from annual crop, non-irrigated, extensive Transformation, to annual crop, non-irrigated, extensive\n",
      "6678 Transformation, from annual crop, non-irrigated, extensive Transformation, to annual crop, non-irrigated, extensive\n",
      "6701 Transformation, from annual crop, non-irrigated, intensive Transformation, to annual crop, non-irrigated, intensive\n",
      "6728 Transformation, from annual crop, non-irrigated, extensive Transformation, to annual crop, non-irrigated, extensive\n",
      "6741 Transformation, from permanent crop, irrigated Transformation, to permanent crop, irrigated\n",
      "6755 Transformation, from annual crop Transformation, to annual crop\n",
      "6780 Transformation, from annual crop, non-irrigated, intensive Transformation, to annual crop, non-irrigated, intensive\n",
      "6780 Transformation, from annual crop Transformation, to annual crop\n",
      "6823 Transformation, from mineral extraction site Transformation, to mineral extraction site\n",
      "6846 Transformation, from permanent crop, irrigated Transformation, to permanent crop, irrigated\n",
      "6877 Transformation, from traffic area, rail/road embankment Transformation, to traffic area, rail/road embankment\n",
      "6877 Transformation, from forest, intensive Transformation, to forest, intensive\n",
      "6905 Transformation, from arable land, unspecified use Transformation, to arable land, unspecified use\n",
      "6930 Transformation, from annual crop, non-irrigated, intensive Transformation, to annual crop, non-irrigated, intensive\n",
      "7011 Transformation, from traffic area, rail/road embankment Transformation, to traffic area, rail/road embankment\n",
      "7011 Transformation, from forest, intensive Transformation, to forest, intensive\n",
      "7024 Transformation, from pasture, man made, extensive Transformation, to pasture, man made, extensive\n",
      "7039 Transformation, from annual crop Transformation, to annual crop\n",
      "7048 Transformation, from unspecified Transformation, to unspecified\n",
      "7048 Transformation, from industrial area Transformation, to industrial area\n",
      "7061 Transformation, from permanent crop, irrigated Transformation, to permanent crop, irrigated\n",
      "7077 Transformation, from annual crop, non-irrigated, intensive Transformation, to annual crop, non-irrigated, intensive\n",
      "7122 Transformation, from arable land, unspecified use Transformation, to arable land, unspecified use\n",
      "7124 Transformation, from annual crop, non-irrigated, intensive Transformation, to annual crop, non-irrigated, intensive\n",
      "7164 Transformation, from annual crop, non-irrigated Transformation, to annual crop, non-irrigated\n",
      "7165 Transformation, from unspecified Transformation, to unspecified\n",
      "7165 Transformation, from industrial area Transformation, to industrial area\n",
      "7317 Transformation, from annual crop, non-irrigated, extensive Transformation, to annual crop, non-irrigated, extensive\n"
     ]
    },
    {
     "name": "stdout",
     "output_type": "stream",
     "text": [
      "7331 Transformation, from unspecified Transformation, to unspecified\n",
      "7331 Transformation, from industrial area Transformation, to industrial area\n",
      "7343 Transformation, from pasture, man made, intensive Transformation, to pasture, man made, intensive\n",
      "7343 Transformation, from pasture, man made, extensive Transformation, to pasture, man made, extensive\n",
      "7374 Transformation, from forest, intensive Transformation, to forest, intensive\n",
      "7378 Transformation, from unspecified Transformation, to unspecified\n",
      "7378 Transformation, from industrial area Transformation, to industrial area\n",
      "7396 Transformation, from permanent crop, irrigated Transformation, to permanent crop, irrigated\n",
      "7400 Transformation, from annual crop, non-irrigated, intensive Transformation, to annual crop, non-irrigated, intensive\n",
      "7405 Transformation, from industrial area Transformation, to industrial area\n",
      "7421 Transformation, from permanent crop, irrigated Transformation, to permanent crop, irrigated\n",
      "7467 Transformation, from pasture, man made Transformation, to pasture, man made\n",
      "7482 Transformation, from arable land, unspecified use Transformation, to arable land, unspecified use\n",
      "7484 Transformation, from unspecified Transformation, to unspecified\n",
      "7519 Transformation, from annual crop, non-irrigated, intensive Transformation, to annual crop, non-irrigated, intensive\n",
      "7585 Transformation, from pasture, man made, extensive Transformation, to pasture, man made, extensive\n",
      "7609 Transformation, from annual crop Transformation, to annual crop\n",
      "7652 Transformation, from permanent crop, irrigated Transformation, to permanent crop, irrigated\n",
      "7673 Transformation, from annual crop, non-irrigated, extensive Transformation, to annual crop, non-irrigated, extensive\n",
      "7714 Transformation, from permanent crop, irrigated Transformation, to permanent crop, irrigated\n",
      "7815 Transformation, from unspecified Transformation, to unspecified\n",
      "7815 Transformation, from mineral extraction site Transformation, to mineral extraction site\n",
      "7831 Transformation, from annual crop Transformation, to annual crop\n",
      "7837 Transformation, from annual crop, non-irrigated Transformation, to annual crop, non-irrigated\n",
      "7868 Transformation, from annual crop Transformation, to annual crop\n",
      "7924 Transformation, from traffic area, rail/road embankment Transformation, to traffic area, rail/road embankment\n",
      "7924 Transformation, from forest, intensive Transformation, to forest, intensive\n",
      "7931 Transformation, from unspecified Transformation, to unspecified\n",
      "7939 Transformation, from mineral extraction site Transformation, to mineral extraction site\n",
      "7948 Transformation, from arable land, unspecified use Transformation, to arable land, unspecified use\n",
      "7985 Transformation, from permanent crop, irrigated Transformation, to permanent crop, irrigated\n",
      "7987 Transformation, from annual crop, non-irrigated Transformation, to annual crop, non-irrigated\n",
      "8058 Transformation, from permanent crop, irrigated Transformation, to permanent crop, irrigated\n",
      "8059 Transformation, from unspecified Transformation, to unspecified\n",
      "8059 Transformation, from pasture, man made Transformation, to pasture, man made\n",
      "8062 Transformation, from annual crop, non-irrigated, intensive Transformation, to annual crop, non-irrigated, intensive\n",
      "8114 Transformation, from arable land, unspecified use Transformation, to arable land, unspecified use\n",
      "8117 Transformation, from unspecified Transformation, to unspecified\n",
      "8117 Transformation, from mineral extraction site Transformation, to mineral extraction site\n",
      "8131 Transformation, from arable land, unspecified use Transformation, to arable land, unspecified use\n",
      "8159 Transformation, from forest, extensive Transformation, to forest, extensive\n",
      "8159 Transformation, from traffic area, rail/road embankment Transformation, to traffic area, rail/road embankment\n"
     ]
    }
   ],
   "source": [
    "corr_ef_code_input=land_transfo_code_input\n",
    "corr_ef_code_output=land_transfo_code_output\n",
    "corr_twin_ef_input_output=corr_twin_land_transfo\n",
    "biosphere_dict=LCA_obj.biosphere_dict\n",
    "bio_params=LCA_obj.bio_params\n",
    "biosphere_names={('biosphere3',ef['code']):ef['name'] for ef in biosphere3}\n",
    "\n",
    "(ratio_rv_dict_per_activity,correlated_bio_params)=calculate_ratio_corr_lognormal_for_DB(corr_ef_code_input, \n",
    "                              corr_ef_code_output, \n",
    "                              corr_twin_ef_input_output, \n",
    "                              biosphere_dict, \n",
    "                              bio_params,biosphere_names)"
   ]
  },
  {
   "cell_type": "code",
   "execution_count": 100,
   "metadata": {},
   "outputs": [
    {
     "data": {
      "text/plain": [
       "{2: {1655: {635: {'loc': 0.0, 'scale': 1e-17}}},\n",
       " 31: {1655: {635: {'loc': 4.5886412, 'scale': 1e-17}}},\n",
       " 32: {1655: {635: {'loc': 4.5886412, 'scale': 1e-17}}},\n",
       " 41: {1655: {1338: {'loc': 0.0, 'scale': 0.48501355369637095}}},\n",
       " 45: {1655: {635: {'loc': 0.0, 'scale': 5.5091735160646577e-05}}},\n",
       " 55: {1655: {635: {'loc': 4.6051702, 'scale': 1e-17}}},\n",
       " 59: {1655: {635: {'loc': 0.0, 'scale': 0.00010805032449841224}}},\n",
       " 60: {1655: {635: {'loc': 3.174715, 'scale': 0.00011892358995696764}}},\n",
       " 69: {1655: {635: {'loc': 4.6051702, 'scale': 0.17642158052117829}}},\n",
       " 72: {78: {468: {'loc': 0.0, 'scale': 5.9852932333745914e-05}}},\n",
       " 76: {1351: {635: {'loc': 0.19782639, 'scale': 8.5449032485282071e-05}}},\n",
       " 104: {1351: {468: {'loc': 0.0, 'scale': 0.30542147378812817}}},\n",
       " 107: {22: {1032: {'loc': 0.0, 'scale': 1e-17}}},\n",
       " 134: {1655: {635: {'loc': 0.0, 'scale': 0.00011423815239643584}}},\n",
       " 150: {1655: {635: {'loc': 0.0, 'scale': 1.067988297751739e-05}}},\n",
       " 153: {1351: {635: {'loc': 0.0, 'scale': 1e-17}}},\n",
       " 172: {1655: {117: {'loc': 0.0, 'scale': 0.00076666042453635589}}},\n",
       " 193: {1655: {1338: {'loc': 0.0, 'scale': 4.7108036175645708e-05}}},\n",
       " 201: {1655: {1828: {'loc': 3.9102449, 'scale': 2.8575470044993949e-05}}},\n",
       " 203: {1351: {635: {'loc': 0.0, 'scale': 0.40760133340815868}}},\n",
       " 222: {1655: {1828: {'loc': 3.9102449, 'scale': 2.8575470044993949e-05}}},\n",
       " 225: {1655: {1338: {'loc': 0.0, 'scale': 0.00012154394080465316}}},\n",
       " 231: {1655: {635: {'loc': 4.6051702, 'scale': 0.004996878777998019}}},\n",
       " 283: {1655: {1338: {'loc': 0.0, 'scale': 0.00012154394080465316}}},\n",
       " 290: {1655: {635: {'loc': 0.0, 'scale': 1.067988297751739e-05}}},\n",
       " 292: {1351: {635: {'loc': 0.0, 'scale': 0.17570149218829131}}},\n",
       " 296: {1655: {635: {'loc': 4.5886412, 'scale': 1e-17}}},\n",
       " 337: {1351: {635: {'loc': 0.0, 'scale': 0.00011892358995696764}}},\n",
       " 369: {1655: {635: {'loc': 0.0, 'scale': 0.00011942703506940186}}},\n",
       " 375: {1655: {635: {'loc': 0.27582073, 'scale': 1e-17}}},\n",
       " 382: {1655: {635: {'loc': 0.0, 'scale': 1e-17}}},\n",
       " 389: {1655: {635: {'loc': 0.0, 'scale': 1e-17}}},\n",
       " 394: {1053: {1338: {'loc': 0.0, 'scale': 1e-17}}},\n",
       " 395: {1655: {635: {'loc': 0.0, 'scale': 1e-17}}},\n",
       " 419: {1655: {635: {'loc': 0.0, 'scale': 6.8937662060063472e-06}}},\n",
       " 432: {1351: {635: {'loc': 0.19497299, 'scale': 1e-17}}},\n",
       " 449: {968: {1060: {'loc': 0.0, 'scale': 6.4041924814935562e-05}}},\n",
       " 472: {1655: {635: {'loc': 4.6051702, 'scale': 0.1519835226189544}}},\n",
       " 473: {1053: {635: {'loc': 0.0, 'scale': 0.00015805839179129237}}},\n",
       " 555: {1655: {1828: {'loc': 3.9102449, 'scale': 2.8575470044993949e-05}}},\n",
       " 587: {1655: {229: {'loc': 0.0, 'scale': 1e-17}}},\n",
       " 594: {1351: {468: {'loc': 0.0, 'scale': 1e-17}}},\n",
       " 604: {1655: {468: {'loc': 4.6051702, 'scale': 1e-17}}},\n",
       " 615: {257: {635: {'loc': 0.0, 'scale': 1e-17}}},\n",
       " 641: {1655: {117: {'loc': 0.0, 'scale': 0.00076666042453635589}}},\n",
       " 666: {1655: {635: {'loc': 0.0, 'scale': 1e-17}}},\n",
       " 667: {1655: {635: {'loc': 0.0, 'scale': 2.8899341369872459e-05}}},\n",
       " 694: {1351: {1032: {'loc': -3.8631516, 'scale': 0.33945862830493312}}},\n",
       " 718: {1351: {635: {'loc': 0.0, 'scale': 1e-17}}},\n",
       " 732: {848: {635: {'loc': 0.57771111, 'scale': 0.11715730755386888}}},\n",
       " 744: {1655: {1338: {'loc': 0.0, 'scale': 0.22204563446741096}}},\n",
       " 746: {1655: {635: {'loc': 4.6051702, 'scale': 0.028516265306945572}}},\n",
       " 747: {1655: {635: {'loc': 0.0, 'scale': 1.6463834390498556e-05}}},\n",
       " 748: {1655: {635: {'loc': 4.6051702, 'scale': 0.1519835226189544}}},\n",
       " 757: {1655: {635: {'loc': 0.0, 'scale': 1.6463834390498556e-05}}},\n",
       " 760: {1655: {635: {'loc': 0.0, 'scale': 5.5091735160646577e-05}}},\n",
       " 768: {1655: {635: {'loc': 4.6051702, 'scale': 1e-17}}},\n",
       " 786: {1351: {468: {'loc': 0.0, 'scale': 1e-17}}},\n",
       " 789: {1655: {635: {'loc': 0.0, 'scale': 1e-17}}},\n",
       " 796: {1655: {635: {'loc': 4.6051702, 'scale': 0.004996878777998019}}},\n",
       " 801: {1655: {635: {'loc': 0.0, 'scale': 1.067988297751739e-05}}},\n",
       " 841: {1655: {635: {'loc': 4.6051702, 'scale': 0.004996878777998019}}},\n",
       " 846: {723: {1741: {'loc': -0.22315872, 'scale': 0.088418653958673446}}},\n",
       " 849: {1351: {468: {'loc': 0.0, 'scale': 1e-17}}},\n",
       " 869: {1655: {635: {'loc': 0.0, 'scale': 0.069775693721126963}}},\n",
       " 881: {1655: {635: {'loc': 0.0, 'scale': 0.00011380692574848907}}},\n",
       " 906: {1655: {117: {'loc': 0.0, 'scale': 0.00076666042453635589}}},\n",
       " 914: {1655: {635: {'loc': 4.5886412, 'scale': 1e-17}}},\n",
       " 924: {1655: {635: {'loc': 0.0, 'scale': 1e-17}}},\n",
       " 950: {1655: {1322: {'loc': 0.0, 'scale': 1e-17}}},\n",
       " 961: {1655: {635: {'loc': -0.00026702881, 'scale': 0.00011711598330835868}}},\n",
       " 968: {1655: {635: {'loc': 0.0, 'scale': 0.3652769419836146}}},\n",
       " 973: {1655: {635: {'loc': 4.6051702, 'scale': 1e-17}}},\n",
       " 974: {1053: {1338: {'loc': 0.0, 'scale': 1e-17}}},\n",
       " 986: {1655: {635: {'loc': 1.5811443, 'scale': 5.855799165417934e-05}}},\n",
       " 996: {1655: {635: {'loc': 0.0, 'scale': 3.867418336274227e-05}}},\n",
       " 1004: {1655: {635: {'loc': 0.0, 'scale': 5.998543458820121e-05}}},\n",
       " 1013: {1655: {635: {'loc': 4.6051702, 'scale': 1e-17}}},\n",
       " 1015: {1655: {635: {'loc': 0.0, 'scale': 1e-17}}},\n",
       " 1016: {1505: {412: {'loc': 0.051292896, 'scale': 0.30542147378812817}}},\n",
       " 1023: {1655: {1828: {'loc': 3.9102449, 'scale': 2.8575470044993949e-05}}},\n",
       " 1059: {1655: {635: {'loc': 0.00093078613, 'scale': 5.5091735160646577e-05}}},\n",
       " 1060: {1655: {1828: {'loc': 3.9102449, 'scale': 2.8575470044993949e-05}}},\n",
       " 1067: {257: {635: {'loc': 0.0, 'scale': 1.067988297751739e-05}}},\n",
       " 1069: {1655: {635: {'loc': 0.45198441, 'scale': 0.00010720756588034464}}},\n",
       " 1138: {1655: {635: {'loc': 0.0, 'scale': 1.6463834390498556e-05}}},\n",
       " 1167: {1655: {635: {'loc': 0.0, 'scale': 1e-17}}},\n",
       " 1168: {1655: {1828: {'loc': 3.9102449, 'scale': 2.8575470044993949e-05}}},\n",
       " 1177: {1655: {635: {'loc': 0.0, 'scale': 0.00012154394080465316}}},\n",
       " 1183: {1655: {635: {'loc': 4.6051702, 'scale': 0.028766459690731053}}},\n",
       " 1190: {1351: {635: {'loc': 0.0, 'scale': 1e-17}}},\n",
       " 1205: {1655: {635: {'loc': 0.0, 'scale': 1e-17}}},\n",
       " 1206: {1655: {635: {'loc': 0.0, 'scale': 2.8899341369872459e-05}}},\n",
       " 1218: {1655: {635: {'loc': 0.0, 'scale': 9.1642097728997991e-05}}},\n",
       " 1244: {1655: {468: {'loc': -0.81319517, 'scale': 7.8482649180596376e-05}}},\n",
       " 1250: {1655: {1338: {'loc': 0.0, 'scale': 0.48501355369637095}}},\n",
       " 1256: {1655: {1828: {'loc': 3.9102449, 'scale': 2.8575470044993949e-05}}},\n",
       " 1280: {1712: {1060: {'loc': 0.0, 'scale': 1e-17}}},\n",
       " 1317: {1351: {635: {'loc': 2.6835089, 'scale': 0.00033605637889405664}}},\n",
       " 1320: {1351: {635: {'loc': 0.0, 'scale': 1e-17}}},\n",
       " 1324: {22: {1032: {'loc': 0.0, 'scale': 1e-17}}},\n",
       " 1330: {1351: {635: {'loc': 0.19496346, 'scale': 8.4760445541580065e-05}}},\n",
       " 1376: {1655: {635: {'loc': 4.6051702, 'scale': 1e-17}}},\n",
       " 1386: {993: {1338: {'loc': 0.0, 'scale': 0.0001102726845368749}}},\n",
       " 1393: {1655: {635: {'loc': 4.6051702, 'scale': 0.1519835226189544}}},\n",
       " 1419: {1655: {635: {'loc': 0.0, 'scale': 1.6463834390498556e-05}}},\n",
       " 1469: {1655: {635: {'loc': 0.0, 'scale': 0.00010805032449841224}}},\n",
       " 1485: {1655: {635: {'loc': 0.0, 'scale': 2.8899341369872459e-05}}},\n",
       " 1494: {1655: {635: {'loc': 0.0, 'scale': 1e-17}}},\n",
       " 1496: {993: {1338: {'loc': 0.0, 'scale': 0.00013135814365217494}}},\n",
       " 1497: {1655: {1322: {'loc': 0.0, 'scale': 1e-17}}},\n",
       " 1519: {1351: {635: {'loc': 0.69314671, 'scale': 1e-17}}},\n",
       " 1523: {1053: {635: {'loc': 4.2321424, 'scale': 8.5439063820139121e-05}}},\n",
       " 1535: {1655: {635: {'loc': 0.0, 'scale': 8.4760445541580065e-05}}},\n",
       " 1536: {1655: {635: {'loc': 0.0, 'scale': 2.8899341369872459e-05}}},\n",
       " 1554: {1655: {635: {'loc': 0.0, 'scale': 7.9284047555644625e-05}}},\n",
       " 1557: {1655: {635: {'loc': 0.0, 'scale': 1.6463834390498556e-05}}},\n",
       " 1572: {1655: {635: {'loc': 4.6051702, 'scale': 0.1519835226189544}}},\n",
       " 1590: {1655: {1828: {'loc': 3.9102449, 'scale': 2.8575470044993949e-05}}},\n",
       " 1593: {1655: {468: {'loc': -0.81580782, 'scale': 1e-17}}},\n",
       " 1608: {1655: {635: {'loc': -0.0019464493, 'scale': 0.00010240765761934805}}},\n",
       " 1609: {993: {1338: {'loc': 0.0, 'scale': 1e-17}}},\n",
       " 1612: {1655: {1828: {'loc': 3.9102449, 'scale': 2.8575470044993949e-05}}},\n",
       " 1685: {1655: {635: {'loc': 4.6051702, 'scale': 1e-17}}},\n",
       " 1687: {1655: {635: {'loc': 0.55961561, 'scale': 1e-17}}},\n",
       " 1688: {1655: {1828: {'loc': 3.9102449, 'scale': 2.8575470044993949e-05}}},\n",
       " 1702: {1655: {635: {'loc': 0.0, 'scale': 1e-17}}},\n",
       " 1737: {1655: {635: {'loc': 4.6051702, 'scale': 0.1519835226189544}}},\n",
       " 1778: {1351: {468: {'loc': 0.0, 'scale': 1e-17}}},\n",
       " 1786: {1351: {635: {'loc': 0.0, 'scale': 1e-17}}},\n",
       " 1800: {1250: {635: {'loc': 0.0, 'scale': 6.4703429478738333e-05}}},\n",
       " 1805: {22: {1032: {'loc': 0.0, 'scale': 1e-17}}},\n",
       " 1814: {1655: {635: {'loc': 0.0, 'scale': 1e-17}}},\n",
       " 1816: {1655: {635: {'loc': 0.0, 'scale': 1e-17}}},\n",
       " 1830: {1053: {1338: {'loc': 0.0, 'scale': 1e-17}}},\n",
       " 1852: {1655: {635: {'loc': 0.0, 'scale': 0.00011942703506940186}}},\n",
       " 1861: {1655: {635: {'loc': 0.0, 'scale': 1e-17}}},\n",
       " 1872: {1655: {635: {'loc': 4.6051702, 'scale': 1e-17}}},\n",
       " 1893: {1655: {635: {'loc': 4.6051702, 'scale': 1e-17}}},\n",
       " 1900: {1655: {635: {'loc': 0.11275673, 'scale': 0.002473286960447151}}},\n",
       " 1908: {993: {1338: {'loc': 0.0, 'scale': 1e-17}}},\n",
       " 1914: {1655: {635: {'loc': 0.0, 'scale': 0.00010805032449841224}}},\n",
       " 1920: {1655: {635: {'loc': 0.0, 'scale': 1e-17}}},\n",
       " 1923: {1351: {468: {'loc': 0.0, 'scale': 0.11680017238920364}}},\n",
       " 1926: {1655: {1828: {'loc': 3.9102449, 'scale': 2.8575470044993949e-05}}},\n",
       " 1933: {1655: {635: {'loc': 0.0, 'scale': 0.00010240765761934805}}},\n",
       " 1951: {1712: {1060: {'loc': 0.0, 'scale': 1e-17}}},\n",
       " 1953: {1655: {1828: {'loc': 3.9102449, 'scale': 2.8575470044993949e-05}}},\n",
       " 1991: {1655: {635: {'loc': 0.0, 'scale': 1e-17}}},\n",
       " 1995: {1351: {468: {'loc': 0.0, 'scale': 1e-17}}},\n",
       " 1996: {1655: {635: {'loc': 0.0, 'scale': 1e-17}}},\n",
       " 1997: {1655: {635: {'loc': 4.6051702, 'scale': 1e-17}}},\n",
       " 2013: {1351: {1338: {'loc': -0.51082563, 'scale': 0.17085256916827307}}},\n",
       " 2015: {55: {1068: {'loc': 0.0, 'scale': 5.855799165417934e-05}}},\n",
       " 2016: {1655: {635: {'loc': 0.0, 'scale': 1e-17}}},\n",
       " 2018: {1655: {635: {'loc': 0.0, 'scale': 0.00011380692574848907}}},\n",
       " 2052: {1655: {229: {'loc': 0.0, 'scale': 1e-17}}},\n",
       " 2060: {1655: {635: {'loc': 0.0, 'scale': 0.00023885407013880371}}},\n",
       " 2071: {1655: {635: {'loc': 0.0, 'scale': 1e-17}}},\n",
       " 2082: {1655: {635: {'loc': 0.0, 'scale': 5.5091735160646577e-05}}},\n",
       " 2087: {1655: {635: {'loc': 0.0, 'scale': 1.067988297751739e-05}}},\n",
       " 2088: {100: {229: {'loc': 0.0, 'scale': 6.4703429478738333e-05}}},\n",
       " 2141: {1655: {635: {'loc': 4.6051702, 'scale': 0.0050296790257362833}}},\n",
       " 2175: {1351: {468: {'loc': 0.0, 'scale': 1e-17}}},\n",
       " 2216: {1655: {1828: {'loc': 3.9102449, 'scale': 2.8575470044993949e-05}}},\n",
       " 2226: {1655: {1828: {'loc': 3.9102449, 'scale': 2.8575470044993949e-05}}},\n",
       " 2235: {1655: {1338: {'loc': 0.0, 'scale': 1e-17}}},\n",
       " 2247: {1655: {635: {'loc': 0.0, 'scale': 0.00011380692574848907}}},\n",
       " 2262: {1655: {117: {'loc': 0.0, 'scale': 0.00076666042453635589}}},\n",
       " 2264: {1655: {635: {'loc': 1.3862946, 'scale': 0.082544371252856755}}},\n",
       " 2295: {1655: {635: {'loc': 0.0, 'scale': 1e-17}}},\n",
       " 2296: {1655: {635: {'loc': 0.0, 'scale': 0.00010805032449841224}}},\n",
       " 2315: {1655: {635: {'loc': -0.00096035004, 'scale': 8.1611666936694499e-05}}},\n",
       " 2353: {1655: {635: {'loc': 0.0, 'scale': 1.6463834390498556e-05}}},\n",
       " 2380: {1351: {468: {'loc': 0.0, 'scale': 1e-17}}},\n",
       " 2383: {1655: {1828: {'loc': 3.9102449, 'scale': 2.8575470044993949e-05}}},\n",
       " 2387: {1351: {635: {'loc': 0.0, 'scale': 1e-17}}},\n",
       " 2422: {1655: {635: {'loc': 0.0, 'scale': 0.00010805032449841224}}},\n",
       " 2435: {1655: {635: {'loc': 0.55961561, 'scale': 0.00011893217093058314}}},\n",
       " 2454: {1655: {635: {'loc': 4.6051702, 'scale': 0.004996878777998019}}},\n",
       " 2487: {1655: {1828: {'loc': 3.9102449, 'scale': 2.8575470044993949e-05}}},\n",
       " 2501: {723: {1741: {'loc': -0.22315872, 'scale': 0.085471951889302705}}},\n",
       " 2513: {1655: {635: {'loc': 0.0, 'scale': 1.067988297751739e-05}}},\n",
       " 2536: {1655: {635: {'loc': 0.0, 'scale': 5.5091735160646577e-05}}},\n",
       " 2543: {1655: {1828: {'loc': 3.9102449, 'scale': 2.8575470044993949e-05}}},\n",
       " 2563: {1655: {635: {'loc': 0.27582073, 'scale': 1e-17}}},\n",
       " 2588: {1655: {635: {'loc': 0.11275673, 'scale': 0.0024850071664936327}}},\n",
       " 2651: {1655: {117: {'loc': 0.0, 'scale': 0.00076666042453635589}}},\n",
       " 2668: {1655: {468: {'loc': 0.0, 'scale': 1.067988297751739e-05}}},\n",
       " 2692: {1655: {635: {'loc': 0.0, 'scale': 0.00011380692574848907}}},\n",
       " 2702: {1655: {635: {'loc': -0.0019407272, 'scale': 1e-17}}},\n",
       " 2710: {1655: {635: {'loc': 0.0, 'scale': 2.8899341369872459e-05}}},\n",
       " 2725: {1250: {635: {'loc': 0.0, 'scale': 6.4703429478738333e-05}}},\n",
       " 2730: {1655: {635: {'loc': 4.6051702, 'scale': 1e-17}}},\n",
       " 2747: {1655: {635: {'loc': 0.0, 'scale': 4.2532915614528151e-05}}},\n",
       " 2749: {1655: {635: {'loc': 1.5811443, 'scale': 1e-17}}},\n",
       " 2750: {1351: {635: {'loc': 3.9120226, 'scale': 0.00021163085537530751}}},\n",
       " 2775: {1655: {635: {'loc': 4.6051702, 'scale': 0.004996878777998019}}},\n",
       " 2796: {1351: {635: {'loc': 0.0, 'scale': 1e-17}}},\n",
       " 2800: {1655: {635: {'loc': 4.6051702, 'scale': 0.004996878777998019}}},\n",
       " 2804: {1655: {635: {'loc': 0.00082015991, 'scale': 1e-17}}},\n",
       " 2807: {1351: {635: {'loc': 0.0, 'scale': 4.6154955881673157e-05}}},\n",
       " 2840: {1655: {635: {'loc': 4.6051702, 'scale': 1e-17}}},\n",
       " 2844: {1655: {1828: {'loc': 3.9102449, 'scale': 2.8575470044993949e-05}}},\n",
       " 2851: {100: {229: {'loc': 0.0, 'scale': 4.2532915614528151e-05}}},\n",
       " 2892: {1655: {635: {'loc': 0.00063705444, 'scale': 3.867418336274227e-05}}},\n",
       " 2893: {1655: {635: {'loc': 0.0, 'scale': 8.1037463206825805e-05}}},\n",
       " 2911: {1655: {1828: {'loc': 3.9102449, 'scale': 2.8575470044993949e-05}}},\n",
       " 2931: {1655: {1338: {'loc': 0.0, 'scale': 6.0605013882989742e-05}}},\n",
       " 2933: {1655: {635: {'loc': 0.0, 'scale': 1e-17}}},\n",
       " 2936: {1712: {1060: {'loc': 0.0, 'scale': 1e-17}}},\n",
       " 2959: {1655: {635: {'loc': 0.0, 'scale': 1e-17}}},\n",
       " 2973: {1655: {468: {'loc': 0.0, 'scale': 1.067988297751739e-05}}},\n",
       " 2985: {1655: {1828: {'loc': 3.9102449, 'scale': 2.8575470044993949e-05}}},\n",
       " 2986: {1655: {1828: {'loc': 3.9102449, 'scale': 2.8575470044993949e-05}}},\n",
       " 2991: {1655: {635: {'loc': 4.6051702, 'scale': 1e-17}}},\n",
       " 3048: {1655: {635: {'loc': 0.00063705444, 'scale': 0.00012154394080465316}}},\n",
       " 3057: {1655: {468: {'loc': -0.81580782, 'scale': 3.5879255068738936e-06}}},\n",
       " 3071: {1351: {635: {'loc': 0.0, 'scale': 1.067988297751739e-05}}},\n",
       " 3102: {1655: {635: {'loc': 0.0, 'scale': 1e-17}}},\n",
       " 3123: {1655: {1338: {'loc': 0.69314671, 'scale': 1e-17}}},\n",
       " 3154: {1655: {635: {'loc': 0.0, 'scale': 6.3851696537597439e-05}}},\n",
       " 3161: {1655: {635: {'loc': 0.0, 'scale': 0.00010805032449841224}}},\n",
       " 3173: {1655: {635: {'loc': 0.0, 'scale': 8.1037463206825805e-05}}},\n",
       " 3184: {1655: {635: {'loc': 0.0, 'scale': 0.00010805032449841224}}},\n",
       " 3186: {1655: {635: {'loc': 0.0, 'scale': 1e-17}}},\n",
       " 3236: {1655: {1828: {'loc': 3.9102449, 'scale': 2.8575470044993949e-05}}},\n",
       " 3289: {1351: {635: {'loc': 0.0, 'scale': 1e-17}}},\n",
       " 3303: {1655: {1828: {'loc': 3.9102449, 'scale': 2.8575470044993949e-05}}},\n",
       " 3342: {1655: {635: {'loc': 4.6051702, 'scale': 0.1519835226189544}}},\n",
       " 3344: {1655: {635: {'loc': 0.0, 'scale': 0.00011380692574848907}}},\n",
       " 3427: {1655: {1828: {'loc': 3.9102449, 'scale': 2.8575470044993949e-05}}},\n",
       " 3428: {848: {635: {'loc': 0.57771111, 'scale': 0.11613578347790951}}},\n",
       " 3435: {1655: {1828: {'loc': 3.9102449, 'scale': 2.8575470044993949e-05}}},\n",
       " 3438: {1655: {635: {'loc': 1.3862946, 'scale': 0.082148343324661255}}},\n",
       " 3439: {422: {1032: {'loc': 0.0, 'scale': 0.00023516539553623554}}},\n",
       " 3509: {78: {468: {'loc': 0.0, 'scale': 0.00010891216208741251}}},\n",
       " 3537: {1655: {1828: {'loc': 3.9102449, 'scale': 2.8575470044993949e-05}}},\n",
       " 3544: {1655: {1828: {'loc': 3.9102449, 'scale': 2.8575470044993949e-05}}},\n",
       " 3546: {1655: {635: {'loc': 0.0, 'scale': 1e-17}}},\n",
       " 3549: {1655: {635: {'loc': 0.0, 'scale': 0.00011380692574848907}}},\n",
       " 3556: {1655: {635: {'loc': 0.0, 'scale': 1e-17}}},\n",
       " 3569: {1655: {635: {'loc': 0.0, 'scale': 1.6463834390498556e-05}}},\n",
       " 3572: {1655: {635: {'loc': 0.0, 'scale': 1e-17}}},\n",
       " 3617: {1655: {635: {'loc': 4.6051702, 'scale': 1e-17}}},\n",
       " 3619: {1655: {635: {'loc': 0.0, 'scale': 1e-17}}},\n",
       " 3653: {1655: {635: {'loc': 0.0, 'scale': 1e-17}}},\n",
       " 3669: {1655: {635: {'loc': 0.0, 'scale': 1e-17}}},\n",
       " 3674: {1655: {635: {'loc': 0.0, 'scale': 0.00010805032449841224}}},\n",
       " 3691: {100: {229: {'loc': 0.0, 'scale': 1e-17}}},\n",
       " 3722: {1655: {635: {'loc': 4.6051702, 'scale': 1e-17}}},\n",
       " 3735: {1655: {635: {'loc': 0.0, 'scale': 0.00073524849800234702}}},\n",
       " 3756: {1655: {635: {'loc': 0.0, 'scale': 1e-17}}},\n",
       " 3758: {1351: {1068: {'loc': 0.0, 'scale': 4.5432660580061686e-06}}},\n",
       " 3794: {1655: {635: {'loc': 0.0, 'scale': 1e-17}}},\n",
       " 3797: {1655: {635: {'loc': 0.0, 'scale': 8.5439063820139121e-05}}},\n",
       " 3832: {1655: {635: {'loc': 4.6051702, 'scale': 1e-17}}},\n",
       " 3834: {1655: {635: {'loc': 0.0, 'scale': 0.00011380692574848907}}},\n",
       " 3851: {1655: {635: {'loc': 0.0, 'scale': 1.6463834390498556e-05}}},\n",
       " 3921: {422: {1032: {'loc': 0.0, 'scale': 0.00011423815239643584}}},\n",
       " 3939: {1655: {635: {'loc': 0.0, 'scale': 0.00011380692574848907}}},\n",
       " 3952: {1655: {635: {'loc': 0.0, 'scale': 7.1758510137477872e-06}}},\n",
       " 3974: {1655: {1068: {'loc': 1.0986123, 'scale': 0.00011473168777476686}}},\n",
       " 4006: {1655: {635: {'loc': 4.5886412, 'scale': 1e-17}}},\n",
       " 4035: {1655: {635: {'loc': 0.38566208, 'scale': 1e-17}}},\n",
       " 4065: {1655: {1828: {'loc': 3.9102449, 'scale': 2.8575470044993949e-05}}},\n",
       " 4069: {1053: {1338: {'loc': 0.0, 'scale': 8.4760445541580065e-05}}},\n",
       " 4114: {1655: {635: {'loc': 0.0, 'scale': 4.2532915614528151e-05}}},\n",
       " 4132: {1655: {635: {'loc': 0.0, 'scale': 5.5091735160646577e-05}}},\n",
       " 4135: {1655: {1338: {'loc': 0.0, 'scale': 0.00011964041267408432}}},\n",
       " 4150: {78: {468: {'loc': 0.0, 'scale': 1e-17}}},\n",
       " 4151: {1655: {1828: {'loc': 3.9102449, 'scale': 2.8575470044993949e-05}}},\n",
       " 4162: {1655: {635: {'loc': 0.0, 'scale': 3.5319059052129199e-05}}},\n",
       " 4166: {993: {1338: {'loc': 0.0, 'scale': 0.0001102726845368749}}},\n",
       " 4178: {1655: {635: {'loc': 0.0, 'scale': 1e-17}}},\n",
       " 4180: {1655: {1828: {'loc': 3.9102449, 'scale': 2.8575470044993949e-05}}},\n",
       " 4200: {1351: {468: {'loc': 0.0, 'scale': 1.067988297751739e-05}}},\n",
       " 4231: {1655: {635: {'loc': 0.0, 'scale': 1e-17}}},\n",
       " 4256: {1655: {635: {'loc': 0.0, 'scale': 1.067988297751739e-05}}},\n",
       " 4285: {993: {1338: {'loc': 0.0, 'scale': 0.0001102726845368749}}},\n",
       " 4316: {1655: {635: {'loc': 0.0, 'scale': 1e-17}}},\n",
       " 4337: {1655: {635: {'loc': 0.0, 'scale': 1e-17}}},\n",
       " 4345: {1655: {635: {'loc': 0.0, 'scale': 0.23910260994023538}}},\n",
       " 4356: {1250: {635: {'loc': 0.0, 'scale': 1e-17}}},\n",
       " 4384: {1655: {635: {'loc': 0.0, 'scale': 0.00023885407013880371}}},\n",
       " 4396: {1655: {117: {'loc': 0.0, 'scale': 0.00076666042453635589}}},\n",
       " 4401: {1250: {635: {'loc': 0.0, 'scale': 0.00011831917593993827}}},\n",
       " 4410: {1655: {635: {'loc': 0.0, 'scale': 1e-17}}},\n",
       " 4423: {1351: {635: {'loc': 0.0, 'scale': 1e-17}}},\n",
       " 4427: {1655: {1338: {'loc': 0.0, 'scale': 0.0}}},\n",
       " 4432: {1655: {635: {'loc': 4.6051702, 'scale': 0.1519835226189544}}},\n",
       " 4463: {1053: {635: {'loc': 0.0, 'scale': 0.00013406633605188563}}},\n",
       " 4485: {1655: {635: {'loc': 0.0, 'scale': 0.00011380692574848907}}},\n",
       " 4487: {1655: {635: {'loc': 0.0, 'scale': 1e-17}}},\n",
       " 4496: {1655: {635: {'loc': 0.29912472, 'scale': 1e-17}}},\n",
       " 4514: {1655: {635: {'loc': 4.6051702, 'scale': 1e-17}}},\n",
       " 4530: {1655: {635: {'loc': 0.52265549, 'scale': 1e-17}}},\n",
       " 4540: {1655: {1828: {'loc': 3.9102449, 'scale': 2.8575470044993949e-05}}},\n",
       " 4545: {1865: {358: {'loc': 0.0, 'scale': 6.0478866221057637e-05}}},\n",
       " 4546: {1351: {635: {'loc': 0.0, 'scale': 1e-17}}},\n",
       " 4547: {1655: {635: {'loc': 0.0092735291, 'scale': 1e-17}}},\n",
       " 4560: {1655: {635: {'loc': 0.0, 'scale': 1e-17}}},\n",
       " 4577: {1655: {635: {'loc': 0.30405712, 'scale': 0.0001102726845368749}}},\n",
       " 4578: {1655: {635: {'loc': 0.29912472, 'scale': 6.2268128272511815e-05}}},\n",
       " 4582: {1351: {635: {'loc': 0.19782639, 'scale': 8.4760445541580065e-05}}},\n",
       " 4591: {1655: {635: {'loc': 0.0, 'scale': 0.00011380692574848907}}},\n",
       " 4622: {1655: {1338: {'loc': 0.0043392181, 'scale': 7.5008745229148273e-05}}},\n",
       " 4631: {1712: {1060: {'loc': 0.0, 'scale': 1e-17}}},\n",
       " 4638: {1655: {635: {'loc': 0.0, 'scale': 1e-17}}},\n",
       " 4652: {1655: {1828: {'loc': 3.9102449, 'scale': 2.8575470044993949e-05}}},\n",
       " 4668: {1655: {1828: {'loc': 3.9102449, 'scale': 2.8575470044993949e-05}}},\n",
       " 4675: {1655: {635: {'loc': 0.0, 'scale': 0.00023885407013880371}}},\n",
       " 4677: {1655: {635: {'loc': 0.0, 'scale': 1e-17}}},\n",
       " 4688: {1655: {1338: {'loc': 0.0, 'scale': 1e-17}}},\n",
       " 4689: {1655: {635: {'loc': 4.6051702, 'scale': 0.1519835226189544}}},\n",
       " 4694: {1655: {635: {'loc': 0.30405712, 'scale': 1e-17}}},\n",
       " 4722: {1250: {635: {'loc': 0.0, 'scale': 0.00011831917593993827}}},\n",
       " 4723: {1655: {117: {'loc': 0.0, 'scale': 5.6646383565497384e-05}}},\n",
       " 4727: {1351: {468: {'loc': 0.0, 'scale': 1e-17}}},\n",
       " 4738: {1655: {635: {'loc': 0.0, 'scale': 0.00010805032449841224}}},\n",
       " 4745: {1655: {468: {'loc': 0.52452469, 'scale': 1e-17}}},\n",
       " 4767: {1655: {635: {'loc': -0.00096035004, 'scale': 4.9596866969698436e-05}}},\n",
       " 4783: {1655: {635: {'loc': 0.0, 'scale': 4.6154955881673157e-05}}},\n",
       " 4838: {1655: {635: {'loc': 0.0, 'scale': 7.8482649180596376e-05}}},\n",
       " 4849: {1655: {635: {'loc': 0.0092735291, 'scale': 6.9119649380054653e-05}}},\n",
       " 4856: {1655: {635: {'loc': 0.0, 'scale': 4.8963610358109789e-05}}},\n",
       " 4860: {1655: {635: {'loc': 0.0, 'scale': 1e-17}}},\n",
       " 4910: {1655: {635: {'loc': 4.6051702, 'scale': 0.004996878777998019}}},\n",
       " 4912: {1655: {635: {'loc': 4.6051702, 'scale': 0.1519835226189544}}},\n",
       " 4919: {1351: {635: {'loc': 0.0, 'scale': 1e-17}}},\n",
       " 4935: {1655: {635: {'loc': 0.0, 'scale': 0.00011380692574848907}}},\n",
       " 4942: {1655: {1828: {'loc': 3.9102449, 'scale': 2.8575470044993949e-05}}},\n",
       " 4943: {1053: {635: {'loc': 0.36449766, 'scale': 1e-17}}},\n",
       " 4954: {1351: {635: {'loc': 0.0, 'scale': 1e-17}}},\n",
       " 4964: {1655: {635: {'loc': 0.38566208, 'scale': 1e-17}}},\n",
       " 4968: {1351: {468: {'loc': 0.0, 'scale': 1e-17}}},\n",
       " 4976: {1655: {635: {'loc': 0.0, 'scale': 1e-17}}},\n",
       " 4995: {1655: {635: {'loc': 4.6051702, 'scale': 0.1519835226189544}}},\n",
       " 5028: {1351: {468: {'loc': 0.0, 'scale': 1e-17}}},\n",
       " 5039: {1655: {635: {'loc': 0.068993092, 'scale': 1e-17}}},\n",
       " 5040: {1655: {635: {'loc': 0.0, 'scale': 0.00010805032449841224}}},\n",
       " 5046: {1655: {1828: {'loc': 3.9102449, 'scale': 2.8575470044993949e-05}}},\n",
       " 5058: {1655: {635: {'loc': 0.0, 'scale': 2.8899341369872459e-05}}},\n",
       " 5081: {993: {1338: {'loc': 0.0, 'scale': 0.0001102726845368749}}},\n",
       " 5083: {1053: {1338: {'loc': 0.0, 'scale': 8.4760445541580065e-05}}},\n",
       " 5100: {1655: {635: {'loc': 0.00082015991, 'scale': 6.0605013882989742e-05}}},\n",
       " 5115: {1655: {635: {'loc': 4.6051702, 'scale': 0.1519835226189544}}},\n",
       " 5123: {1351: {635: {'loc': 3.9120226, 'scale': 1e-17}}},\n",
       " 5130: {1351: {635: {'loc': 1.355835, 'scale': 1e-17}}},\n",
       " 5135: {1655: {1338: {'loc': 0.0, 'scale': 0.0021872238666586713}}},\n",
       " 5139: {1351: {635: {'loc': 0.0, 'scale': 8.3273000520433916e-05}}},\n",
       " 5161: {1655: {635: {'loc': 4.6051702, 'scale': 1e-17}}},\n",
       " 5164: {1655: {635: {'loc': 0.00093078613, 'scale': 1e-17}}},\n",
       " 5176: {1655: {468: {'loc': 4.6051702, 'scale': 1e-17}}},\n",
       " 5188: {1655: {1338: {'loc': 0.0, 'scale': 0.00012154394080465316}}},\n",
       " 5213: {1655: {635: {'loc': 0.0, 'scale': 1e-17}}},\n",
       " 5218: {1351: {635: {'loc': 0.0, 'scale': 1e-17}}},\n",
       " 5262: {1655: {635: {'loc': 0.0, 'scale': 0.00023885407013880371}}},\n",
       " 5267: {1655: {635: {'loc': 4.6051702, 'scale': 1e-17}}},\n",
       " 5268: {257: {635: {'loc': 0.0, 'scale': 1e-17}}},\n",
       " 5276: {1655: {635: {'loc': 0.0, 'scale': 8.5439063820139121e-05}}},\n",
       " 5277: {1655: {635: {'loc': 0.0, 'scale': 1e-17}}},\n",
       " 5297: {1655: {635: {'loc': 0.0, 'scale': 1e-17}}},\n",
       " 5363: {1655: {635: {'loc': 4.6051702, 'scale': 1e-17}}},\n",
       " 5380: {1655: {635: {'loc': 4.6051702, 'scale': 0.004996878777998019}}},\n",
       " 5382: {1655: {635: {'loc': 0.0, 'scale': 1e-17}}},\n",
       " 5385: {422: {1032: {'loc': 0.0, 'scale': 1e-17}}},\n",
       " 5412: {1655: {635: {'loc': 0.0, 'scale': 0.00010720756588034464}}},\n",
       " 5429: {1655: {635: {'loc': 0.0, 'scale': 5.5091735160646577e-05}}},\n",
       " 5453: {1655: {635: {'loc': 0.39979935, 'scale': 0.00010705209917855886}}},\n",
       " 5465: {1655: {635: {'loc': 0.0, 'scale': 0.00010805032449841224}}},\n",
       " 5475: {1655: {635: {'loc': 0.0, 'scale': 1e-17}}},\n",
       " 5503: {1655: {635: {'loc': 0.0, 'scale': 7.1758510137477872e-06}}},\n",
       " 5534: {1655: {635: {'loc': -0.00032234192, 'scale': 0.00010805032449841224}}},\n",
       " 5549: {1655: {1338: {'loc': 0.0, 'scale': 0.00012154394080465316}}},\n",
       " 5624: {1655: {635: {'loc': 0.0, 'scale': 1e-17}}},\n",
       " 5633: {1655: {635: {'loc': 0.0, 'scale': 0.00012396298835198915}}},\n",
       " 5635: {1655: {635: {'loc': 0.0, 'scale': 0.00023885407013880371}}},\n",
       " 5637: {1655: {635: {'loc': 0.0, 'scale': 0.00011380692574848907}}},\n",
       " 5665: {1655: {635: {'loc': 0.0, 'scale': 1e-17}}},\n",
       " 5676: {1351: {635: {'loc': 0.0, 'scale': 0.00011892358995696764}}},\n",
       " 5696: {1655: {1828: {'loc': 3.9102449, 'scale': 2.8575470044993949e-05}}},\n",
       " 5709: {1655: {635: {'loc': 0.0, 'scale': 1.6463834390498556e-05}}},\n",
       " 5766: {1655: {635: {'loc': 0.0, 'scale': 2.8575470044993949e-05}}},\n",
       " 5774: {1351: {468: {'loc': 0.0, 'scale': 1e-17}}},\n",
       " 5794: {257: {635: {'loc': 0.0, 'scale': 1.067988297751739e-05}}},\n",
       " 5819: {1312: {64: {'loc': 0.0, 'scale': 1e-17}}},\n",
       " 5828: {1712: {1060: {'loc': 0.0, 'scale': 1e-17}}},\n",
       " 5834: {1655: {635: {'loc': 0.0, 'scale': 1.6463834390498556e-05}}},\n",
       " 5848: {1351: {635: {'loc': 0.0, 'scale': 1e-17}}},\n",
       " 5874: {1655: {1828: {'loc': 3.9102449, 'scale': 2.8575470044993949e-05}}},\n",
       " 5901: {1655: {635: {'loc': 0.0, 'scale': 6.4703429478738333e-05}}},\n",
       " 5906: {1655: {635: {'loc': 0.0, 'scale': 1.6463834390498556e-05}}},\n",
       " 5929: {1655: {1338: {'loc': 0.0, 'scale': 1e-17}}},\n",
       " 5937: {1655: {635: {'loc': 4.5886412, 'scale': 1e-17}}},\n",
       " 5938: {1351: {468: {'loc': 0.0, 'scale': 6.7133791249814905e-05}}},\n",
       " 5951: {1655: {635: {'loc': 0.0, 'scale': 0.00011380692574848907}}},\n",
       " 5954: {1655: {635: {'loc': 0.0, 'scale': 1e-17}}},\n",
       " 5992: {1655: {635: {'loc': 0.0, 'scale': 6.8937662060063472e-06}}},\n",
       " 5996: {1655: {635: {'loc': 0.0, 'scale': 1e-17}}},\n",
       " 5997: {1655: {635: {'loc': 0.0, 'scale': 1e-17}}},\n",
       " 6027: {1655: {635: {'loc': 4.6051702, 'scale': 0.004996878777998019}}},\n",
       " 6040: {1655: {1828: {'loc': 3.9120226, 'scale': 0.018237508718022832}}},\n",
       " 6051: {1655: {635: {'loc': 1.0490417e-05, 'scale': 0.00010365788404271771}}},\n",
       " 6060: {1351: {635: {'loc': 0.0, 'scale': 1e-17}}},\n",
       " 6072: {1655: {1305: {'loc': -4.8242388, 'scale': 0.039597312929695053}}},\n",
       " 6079: {1655: {635: {'loc': 0.0, 'scale': 1e-17}}},\n",
       " 6080: {1351: {635: {'loc': 0.0, 'scale': 1e-17}}},\n",
       " 6102: {1351: {1068: {'loc': 0.0, 'scale': 4.5432660580061686e-06}}},\n",
       " 6128: {1351: {635: {'loc': 0.62252998, 'scale': 1e-17}}},\n",
       " 6137: {1655: {1338: {'loc': 0.0, 'scale': 1e-17}}},\n",
       " 6169: {1655: {635: {'loc': 0.23326874, 'scale': 1e-17}}},\n",
       " 6174: {1655: {1338: {'loc': 0.0, 'scale': 7.5008745229148273e-05}}},\n",
       " 6182: {993: {1338: {'loc': 0.0, 'scale': 1e-17}}},\n",
       " 6183: {1351: {468: {'loc': 0.0, 'scale': 1e-17}}},\n",
       " 6185: {1655: {635: {'loc': 0.0, 'scale': 0.00073524849800234702}}},\n",
       " 6189: {1655: {635: {'loc': 0.0, 'scale': 2.8899341369872459e-05}}},\n",
       " 6204: {1655: {635: {'loc': 0.0, 'scale': 8.1037463206825805e-05}}},\n",
       " 6209: {1250: {635: {'loc': 0.0, 'scale': 1e-17}}},\n",
       " 6237: {1655: {635: {'loc': 0.0, 'scale': 1e-17}}},\n",
       " 6238: {1655: {635: {'loc': 0.0, 'scale': 1.067988297751739e-05}}},\n",
       " 6299: {1655: {635: {'loc': 4.6051702, 'scale': 1e-17}}},\n",
       " 6303: {993: {1338: {'loc': 0.0, 'scale': 0.0001102726845368749}}},\n",
       " 6309: {1655: {635: {'loc': 0.0, 'scale': 1.067988297751739e-05}}},\n",
       " 6334: {1655: {1828: {'loc': 3.9102449, 'scale': 2.8575470044993949e-05}}},\n",
       " 6362: {993: {1338: {'loc': 0.0, 'scale': 0.0001102726845368749}}},\n",
       " 6370: {993: {1338: {'loc': 0.0, 'scale': 0.0001102726845368749}}},\n",
       " 6417: {1655: {635: {'loc': 0.0, 'scale': 1e-17}}},\n",
       " 6480: {1655: {635: {'loc': 4.6051702, 'scale': 0.1519835226189544}}},\n",
       " 6511: {1655: {1828: {'loc': 3.9102449, 'scale': 2.8575470044993949e-05}}},\n",
       " 6538: {1655: {1828: {'loc': 3.9102449, 'scale': 2.8575470044993949e-05}}},\n",
       " 6544: {1351: {635: {'loc': 0.0, 'scale': 1e-17}}},\n",
       " 6550: {1655: {635: {'loc': 4.6051702, 'scale': 0.1519835226189544}}},\n",
       " 6563: {1250: {635: {'loc': 0.0, 'scale': 5.998543458820121e-05}}},\n",
       " 6576: {1655: {635: {'loc': 4.6051702, 'scale': 1e-17}}},\n",
       " 6583: {1655: {635: {'loc': 0.0, 'scale': 5.5091735160646577e-05}}},\n",
       " 6589: {1655: {635: {'loc': 0.0, 'scale': 1e-17}}},\n",
       " 6592: {1351: {635: {'loc': 0.0, 'scale': 1e-17}}},\n",
       " 6629: {1655: {1828: {'loc': 3.9102449, 'scale': 2.8575470044993949e-05}}},\n",
       " 6651: {1655: {635: {'loc': 4.6051702, 'scale': 1e-17}}},\n",
       " 6655: {1655: {635: {'loc': 0.0, 'scale': 5.5091735160646577e-05}}},\n",
       " 6661: {1655: {635: {'loc': 4.6051702, 'scale': 0.004996878777998019}}},\n",
       " 6663: {1655: {468: {'loc': -0.81432575, 'scale': 1e-17}}},\n",
       " 6667: {1655: {635: {'loc': 4.6051702, 'scale': 0.004996878777998019}}},\n",
       " 6669: {1655: {635: {'loc': 0.0, 'scale': 1e-17}}},\n",
       " 6699: {1655: {635: {'loc': 0.0, 'scale': 0.00011380692574848907}}},\n",
       " 6713: {1655: {635: {'loc': 0.0, 'scale': 0.069775693721126963}}},\n",
       " 6748: {1655: {1828: {'loc': 3.9102449, 'scale': 2.8575470044993949e-05}}},\n",
       " 6756: {1655: {1828: {'loc': 3.9102449, 'scale': 2.8575470044993949e-05}}},\n",
       " 6767: {1655: {635: {'loc': 0.0, 'scale': 1e-17}}},\n",
       " 6771: {1655: {635: {'loc': 0.0, 'scale': 6.8937662060063472e-06}}},\n",
       " 6825: {1655: {635: {'loc': 0.0, 'scale': 8.880063931906171e-05}}},\n",
       " 6857: {1655: {635: {'loc': 0.0, 'scale': 0.00010805032449841224}}},\n",
       " 6891: {1655: {635: {'loc': -0.00026702881, 'scale': 0.00011711598330835868}}},\n",
       " 6892: {1655: {635: {'loc': 0.0, 'scale': 5.998543458820121e-05}}},\n",
       " 6896: {1655: {1828: {'loc': 3.9102449, 'scale': 2.8575470044993949e-05}}},\n",
       " 6900: {257: {635: {'loc': 0.0, 'scale': 1e-17}}},\n",
       " 6907: {1655: {635: {'loc': 0.47000408, 'scale': 0.0}}},\n",
       " 6922: {1655: {635: {'loc': 0.0, 'scale': 1.067988297751739e-05}}},\n",
       " 6941: {1655: {635: {'loc': 0.53822422, 'scale': 8.4760445541580065e-05}}},\n",
       " 6975: {993: {1338: {'loc': 0.0, 'scale': 0.0001102726845368749}}},\n",
       " 6984: {1655: {635: {'loc': 0.0, 'scale': 1e-17}}},\n",
       " 6986: {1655: {635: {'loc': 4.5886412, 'scale': 1e-17}}},\n",
       " 6993: {1655: {635: {'loc': 0.0, 'scale': 1e-17}}},\n",
       " 6994: {1655: {1828: {'loc': 3.9102449, 'scale': 2.8575470044993949e-05}}},\n",
       " 6998: {1655: {635: {'loc': 4.6051702, 'scale': 0.004996878777998019}}},\n",
       " 7007: {993: {1338: {'loc': 0.0, 'scale': 1e-17}}},\n",
       " 7010: {1655: {635: {'loc': 0.0, 'scale': 0.00011380692574848907}}},\n",
       " 7035: {1351: {468: {'loc': 0.0, 'scale': 1e-17}}},\n",
       " 7045: {1655: {635: {'loc': 4.6051702, 'scale': 0.004996878777998019}}},\n",
       " 7057: {1250: {635: {'loc': 0.0, 'scale': 0.00011831917593993827}}},\n",
       " 7062: {993: {1338: {'loc': 0.0, 'scale': 1e-17}}},\n",
       " 7064: {993: {1338: {'loc': 0.0, 'scale': 1e-17}}},\n",
       " 7073: {1655: {468: {'loc': -0.81580782, 'scale': 7.8482649180596376e-05}}},\n",
       " 7097: {1351: {635: {'loc': 0.19496346, 'scale': 8.4760445541580065e-05}}},\n",
       " 7103: {1655: {635: {'loc': 0.0, 'scale': 1e-17}}},\n",
       " 7104: {1351: {635: {'loc': 0.0, 'scale': 1e-17}}},\n",
       " 7109: {1655: {635: {'loc': 0.0, 'scale': 0.00010805032449841224}}},\n",
       " 7114: {1655: {1338: {'loc': 0.69314671, 'scale': 1e-17}}},\n",
       " 7120: {1655: {635: {'loc': 0.0, 'scale': 1e-17}}},\n",
       " 7131: {1655: {635: {'loc': 0.0, 'scale': 0.00010805032449841224}}},\n",
       " 7149: {1655: {635: {'loc': 0.0, 'scale': 1e-17}}},\n",
       " 7153: {1655: {635: {'loc': 0.0, 'scale': 1e-17}}},\n",
       " 7171: {1655: {635: {'loc': 0.0, 'scale': 0.3652769419836146}}},\n",
       " 7181: {1655: {635: {'loc': 4.6051702, 'scale': 0.1519835226189544}}},\n",
       " 7219: {1655: {1828: {'loc': 3.9102449, 'scale': 2.8575470044993949e-05}}},\n",
       " 7230: {1655: {635: {'loc': 4.6051702, 'scale': 1e-17}}},\n",
       " 7235: {1655: {1338: {'loc': 2.2252932, 'scale': 0.023096026490789574}}},\n",
       " 7241: {1655: {635: {'loc': 0.0, 'scale': 8.4572795018634505e-05}}},\n",
       " 7263: {1655: {635: {'loc': 0.0, 'scale': 1.067988297751739e-05}}},\n",
       " 7275: {1351: {468: {'loc': 0.0, 'scale': 1e-17}}},\n",
       " 7280: {1351: {468: {'loc': 0.0, 'scale': 1e-17}}},\n",
       " 7313: {1351: {468: {'loc': 0.0, 'scale': 6.7133791249814905e-05}}},\n",
       " 7340: {1655: {117: {'loc': 0.0, 'scale': 0.00076666042453635589}}},\n",
       " 7341: {1655: {1338: {'loc': 0.0, 'scale': 5.4163029645176609e-05}}},\n",
       " 7347: {1655: {635: {'loc': 0.0, 'scale': 8.2135903382442757e-05}}},\n",
       " 7351: {1655: {1828: {'loc': 3.9102449, 'scale': 2.8575470044993949e-05}}},\n",
       " 7371: {1655: {635: {'loc': 0.0, 'scale': 0.00011893217093058314}}},\n",
       " 7375: {1655: {635: {'loc': 0.0, 'scale': 1e-17}}},\n",
       " 7386: {1655: {635: {'loc': 0.0, 'scale': 1e-17}}},\n",
       " 7388: {1655: {1338: {'loc': 0.0, 'scale': 1e-17}}},\n",
       " 7412: {1712: {1060: {'loc': 0.0, 'scale': 1e-17}}},\n",
       " 7429: {1655: {635: {'loc': 4.6051702, 'scale': 1e-17}}},\n",
       " 7472: {1655: {1338: {'loc': 0.0, 'scale': 1e-17}}},\n",
       " 7492: {1655: {635: {'loc': 4.5886412, 'scale': 1e-17}}},\n",
       " 7494: {1655: {635: {'loc': 0.0, 'scale': 1e-17}}},\n",
       " 7525: {1655: {635: {'loc': 0.0, 'scale': 1.6463834390498556e-05}}},\n",
       " 7529: {1655: {1828: {'loc': 3.9102449, 'scale': 2.8575470044993949e-05}}},\n",
       " 7560: {1655: {635: {'loc': 0.53822422, 'scale': 1e-17}}},\n",
       " 7563: {1865: {229: {'loc': 0.0, 'scale': 4.2532915614528151e-05}}},\n",
       " 7570: {1655: {635: {'loc': 0.0, 'scale': 0.00011380692574848907}}},\n",
       " 7607: {1655: {635: {'loc': 0.0, 'scale': 0.00010805032449841224}}},\n",
       " 7614: {1655: {635: {'loc': 0.0, 'scale': 6.8937662060063472e-06}}},\n",
       " 7616: {1655: {1322: {'loc': 0.0, 'scale': 6.6510023887061639e-05}}},\n",
       " 7618: {1655: {1828: {'loc': 3.9102449, 'scale': 2.8575470044993949e-05}}},\n",
       " 7621: {1655: {635: {'loc': 4.6051702, 'scale': 0.17642158052117829}}},\n",
       " 7632: {1655: {635: {'loc': 0.0, 'scale': 1e-17}}},\n",
       " 7668: {1655: {635: {'loc': 4.6051702, 'scale': 0.1519835226189544}}},\n",
       " 7672: {1655: {1338: {'loc': 0.0, 'scale': 7.5008745229148273e-05}}},\n",
       " 7691: {1655: {635: {'loc': 0.0, 'scale': 7.1758510137477872e-06}}},\n",
       " 7724: {1351: {468: {'loc': 0.0, 'scale': 1e-17}}},\n",
       " 7732: {1655: {1828: {'loc': 3.9102449, 'scale': 2.8575470044993949e-05}}},\n",
       " 7734: {1655: {1828: {'loc': 3.9102449, 'scale': 2.8575470044993949e-05}}},\n",
       " 7738: {1655: {635: {'loc': 0.0, 'scale': 1e-17}}},\n",
       " 7759: {1655: {635: {'loc': -0.00032234192, 'scale': 9.1995632319896682e-05}}},\n",
       " 7766: {1655: {117: {'loc': 0.0, 'scale': 0.00076666042453635589}}},\n",
       " 7767: {1655: {1338: {'loc': 0.0, 'scale': 8.4760445541580065e-05}}},\n",
       " 7794: {1351: {635: {'loc': 0.0, 'scale': 1e-17}}},\n",
       " 7797: {1655: {1828: {'loc': 3.9102449, 'scale': 2.8575470044993949e-05}}},\n",
       " 7822: {1351: {635: {'loc': 0.0, 'scale': 1e-17}}},\n",
       " 7825: {1351: {1338: {'loc': -0.51082563, 'scale': 0.16941830004797837}}},\n",
       " 7834: {1351: {635: {'loc': 0.0, 'scale': 1e-17}}},\n",
       " 7835: {1655: {635: {'loc': 4.6051702, 'scale': 0.17642158052117829}}},\n",
       " 7840: {1655: {635: {'loc': 0.0, 'scale': 0.00011380692574848907}}},\n",
       " 7843: {1250: {635: {'loc': 0.0, 'scale': 1e-17}}},\n",
       " 7860: {1351: {635: {'loc': 0.0, 'scale': 1e-17}}},\n",
       " 7882: {1655: {635: {'loc': 0.0, 'scale': 0.00010805032449841224}}},\n",
       " 7889: {1655: {635: {'loc': 4.6051702, 'scale': 1e-17}}},\n",
       " 7897: {1655: {1828: {'loc': 3.9102449, 'scale': 2.8575470044993949e-05}}},\n",
       " 7944: {1655: {229: {'loc': 0.0, 'scale': 1e-17}}},\n",
       " 7946: {1655: {635: {'loc': 0.00082015991, 'scale': 1e-17}}},\n",
       " 7962: {1655: {635: {'loc': 0.0, 'scale': 1.6463834390498556e-05}}},\n",
       " 7971: {1655: {635: {'loc': 0.0, 'scale': 1e-17}}},\n",
       " 7973: {1655: {635: {'loc': 4.6051702, 'scale': 1e-17}}},\n",
       " 7998: {1655: {468: {'loc': -0.81319517, 'scale': 3.5879255068738936e-06}}},\n",
       " 8004: {1655: {635: {'loc': -0.00026702881, 'scale': 0.00011711598330835868}}},\n",
       " 8005: {1655: {1828: {'loc': 3.9102449, 'scale': 2.8575470044993949e-05}}},\n",
       " 8024: {1655: {635: {'loc': 0.0, 'scale': 6.4703429478738333e-05}}},\n",
       " 8044: {1655: {635: {'loc': 0.0, 'scale': 0.00074100299310185785}}},\n",
       " 8057: {1655: {635: {'loc': 0.0, 'scale': 5.5091735160646577e-05}}},\n",
       " 8061: {1655: {635: {'loc': 0.0, 'scale': 0.00023885407013880371}}},\n",
       " 8091: {1655: {635: {'loc': 0.0, 'scale': 1e-17}}},\n",
       " 8092: {1655: {635: {'loc': 0.0, 'scale': 1e-17}}},\n",
       " 8110: {1655: {635: {'loc': 0.0, 'scale': 5.998543458820121e-05}}},\n",
       " 8111: {1655: {635: {'loc': -0.00078105927, 'scale': 1e-17}}},\n",
       " 8137: {1655: {635: {'loc': 0.0, 'scale': 1e-17}}},\n",
       " 8138: {1655: {635: {'loc': 4.6051702, 'scale': 0.17642158052117829}}},\n",
       " 8148: {1655: {635: {'loc': 4.6051702, 'scale': 1e-17}}},\n",
       " 8160: {993: {1338: {'loc': 0.0, 'scale': 0.0001102726845368749}}},\n",
       " 8169: {1655: {635: {'loc': 0.0, 'scale': 2.8575470044993949e-05}}},\n",
       " 8178: {1655: {635: {'loc': 0.0, 'scale': 5.9852932333745914e-05}}},\n",
       " 8193: {1655: {635: {'loc': 0.0, 'scale': 0.00011423815239643584}}},\n",
       " 8204: {1655: {635: {'loc': 0.0, 'scale': 0.00010805032449841224}}},\n",
       " 8206: {1655: {635: {'loc': 0.0, 'scale': 5.4650991414893778e-05}}},\n",
       " 8207: {1655: {635: {'loc': 0.0, 'scale': 1.067988297751739e-05}}},\n",
       " 8219: {1655: {635: {'loc': 0.0, 'scale': 0.00011997978239926968}}},\n",
       " 8232: {1655: {1828: {'loc': 3.9102449, 'scale': 6.4041924814935562e-05}}},\n",
       " 8264: {993: {1338: {'loc': 0.0, 'scale': 1e-17}}},\n",
       " 8284: {1655: {635: {'loc': 4.6051702, 'scale': 1e-17}}},\n",
       " 8290: {1655: {117: {'loc': 0.0, 'scale': 0.00076666042453635589}}},\n",
       " 8320: {1655: {1338: {'loc': 0.0, 'scale': 1e-17}}},\n",
       " 8323: {1655: {1338: {'loc': 0.0043392181, 'scale': 0.00012154394080465316}}},\n",
       " 8359: {1655: {1828: {'loc': 3.9102449, 'scale': 2.8575470044993949e-05}}},\n",
       " 8363: {1655: {635: {'loc': 4.6051702, 'scale': 0.004996878777998019}}},\n",
       " 8364: {1655: {635: {'loc': 0.0, 'scale': 0.00010805032449841224}}},\n",
       " 8399: {1351: {635: {'loc': 0.0, 'scale': 0.00011892358995696764}}},\n",
       " 8411: {1655: {635: {'loc': 0.0, 'scale': 0.00011380692574848907}}},\n",
       " 8491: {1655: {468: {'loc': -0.81212425, 'scale': 1e-17}}},\n",
       " 8492: {1655: {635: {'loc': 0.0, 'scale': 1e-17}}},\n",
       " 8501: {1053: {1338: {'loc': 0.0, 'scale': 1e-17}}},\n",
       " 8511: {1655: {635: {'loc': 0.0, 'scale': 1e-17}}},\n",
       " 8593: {1655: {1828: {'loc': 3.9102449, 'scale': 2.8575470044993949e-05}}},\n",
       " 8594: {1351: {1338: {'loc': -0.51082563, 'scale': 0.17085256916827307}}},\n",
       " 8599: {1655: {635: {'loc': 0.0, 'scale': 1e-17}}},\n",
       " 8609: {66: {1068: {'loc': 0.0, 'scale': 1.3052464585402988e-05}}},\n",
       " 8620: {1655: {635: {'loc': 0.0, 'scale': 1.067988297751739e-05}}},\n",
       " 8621: {1655: {635: {'loc': 4.6051702, 'scale': 0.1519835226189544}}},\n",
       " 8640: {1655: {1338: {'loc': 0.0, 'scale': 0.12987439978490584}}},\n",
       " 8644: {100: {229: {'loc': 0.0, 'scale': 6.4703429478738333e-05}}},\n",
       " 8654: {1655: {635: {'loc': 0.0, 'scale': 0.00023516539553623554}}},\n",
       " 8663: {1944: {635: {'loc': 0.20972061, 'scale': 0.56363646821378}}},\n",
       " 8720: {1655: {635: {'loc': 0.0, 'scale': 2.8899341369872459e-05}}},\n",
       " 8732: {1351: {635: {'loc': 0.0, 'scale': 1e-17}}},\n",
       " 8761: {1655: {635: {'loc': 4.6051702, 'scale': 0.004996878777998019}}},\n",
       " 8779: {1655: {635: {'loc': 0.0, 'scale': 1e-17}}},\n",
       " 8784: {1351: {1065: {'loc': -1.595253, 'scale': 0.0001102726845368749}}},\n",
       " 8789: {1655: {635: {'loc': 0.0, 'scale': 0.00023885407013880371}}},\n",
       " 8822: {1655: {635: {'loc': 0.0, 'scale': 1e-17}}},\n",
       " 8837: {1351: {1338: {'loc': -0.51082563, 'scale': 0.16941830004797837}}},\n",
       " 8841: {1655: {635: {'loc': 0.0, 'scale': 1e-17}}},\n",
       " 8877: {1655: {635: {'loc': 0.0, 'scale': 1e-17}}},\n",
       " 8905: {1655: {635: {'loc': 0.0, 'scale': 0.00011380692574848907}}},\n",
       " 8909: {1655: {468: {'loc': 0.0, 'scale': 1.067988297751739e-05}}},\n",
       " 8923: {1655: {635: {'loc': 4.6051702, 'scale': 1e-17}}},\n",
       " 8942: {1655: {635: {'loc': 0.0, 'scale': 1.067988297751739e-05}}},\n",
       " 8945: {1351: {635: {'loc': 0.0, 'scale': 1e-17}}},\n",
       " 8952: {1655: {635: {'loc': 0.0, 'scale': 1.067988297751739e-05}}},\n",
       " 8957: {1655: {635: {'loc': 0.0, 'scale': 1e-17}}},\n",
       " 8962: {1655: {635: {'loc': 0.0, 'scale': 1e-17}}},\n",
       " 8972: {1655: {635: {'loc': 0.0, 'scale': 2.8899341369872459e-05}}},\n",
       " 8986: {1351: {635: {'loc': 0.0, 'scale': 1e-17}}},\n",
       " 8988: {1655: {635: {'loc': 0.0009431839, 'scale': 1e-17}}},\n",
       " 9013: {1655: {635: {'loc': 0.0, 'scale': 0.00010720756588034464}}},\n",
       " 9024: {1655: {1338: {'loc': 0.0, 'scale': 0.22204563446741096}}},\n",
       " 9038: {1865: {358: {'loc': 0.0, 'scale': 4.5309430376899093e-05}}},\n",
       " 9049: {1655: {635: {'loc': 4.6051702, 'scale': 0.1519835226189544}}},\n",
       " 9056: {1655: {635: {'loc': -0.0019407272, 'scale': 8.3273000520433916e-05}}},\n",
       " 9063: {1944: {635: {'loc': 0.20972061, 'scale': 0.5636367958044084}}},\n",
       " 9076: {1655: {635: {'loc': 0.0, 'scale': 0.00010805032449841224}}},\n",
       " 9077: {1351: {468: {'loc': 0.0, 'scale': 1e-17}}},\n",
       " 9088: {1655: {635: {'loc': 0.52265549, 'scale': 1e-17}}},\n",
       " 9092: {1351: {1338: {'loc': -0.51082563, 'scale': 0.16941830004797837}}},\n",
       " 9106: {1411: {635: {'loc': 0.38846749, 'scale': 5.855799165417934e-05}}},\n",
       " 9109: {1655: {635: {'loc': 0.0, 'scale': 1e-17}}},\n",
       " 9132: {1655: {1828: {'loc': 3.9102449, 'scale': 2.8575470044993949e-05}}},\n",
       " 9166: {1655: {635: {'loc': -0.00033283234, 'scale': 0.00011711598330835868}}},\n",
       " 9189: {1655: {635: {'loc': 0.0, 'scale': 1e-17}}},\n",
       " 9202: {1655: {635: {'loc': 0.0, 'scale': 1.9081566750220216e-05}}},\n",
       " 9203: {22: {1032: {'loc': 0.0, 'scale': 1e-17}}},\n",
       " 9216: {1655: {635: {'loc': 0.0, 'scale': 1.067988297751739e-05}}},\n",
       " 9224: {1655: {1828: {'loc': 3.9102449, 'scale': 2.8575470044993949e-05}}},\n",
       " 9233: {1655: {1828: {'loc': 3.9102449, 'scale': 2.8575470044993949e-05}}},\n",
       " 9238: {1655: {635: {'loc': 0.0, 'scale': 2.8899341369872459e-05}}},\n",
       " 9267: {1655: {635: {'loc': 4.6051702, 'scale': 1e-17}}},\n",
       " 9314: {1655: {635: {'loc': 0.0, 'scale': 5.4650991414893778e-05}}},\n",
       " 9355: {1655: {635: {'loc': 0.0, 'scale': 0.00010805032449841224}}},\n",
       " 9360: {1655: {1338: {'loc': 0.0, 'scale': 9.6140093314138844e-05}}},\n",
       " 9399: {1655: {635: {'loc': 0.0, 'scale': 0.00011380692574848907}}},\n",
       " 9416: {1655: {1828: {'loc': 3.9102449, 'scale': 2.8575470044993949e-05}}},\n",
       " 9428: {1655: {635: {'loc': 0.0, 'scale': 1e-17}}},\n",
       " 9435: {1655: {635: {'loc': 0.0, 'scale': 0.00011380692574848907}}},\n",
       " 9487: {1505: {1933: {'loc': -0.78088593, 'scale': 0.24878621860718445}}},\n",
       " 9506: {1655: {635: {'loc': 0.0, 'scale': 1e-17}}},\n",
       " 9530: {257: {635: {'loc': 0.0, 'scale': 1e-17}}},\n",
       " 9536: {1655: {635: {'loc': 0.0, 'scale': 5.4650991414893778e-05}}},\n",
       " 9588: {1351: {635: {'loc': 0.0, 'scale': 1e-17}}},\n",
       " 9614: {1655: {1828: {'loc': 3.9102449, 'scale': 2.8575470044993949e-05}}},\n",
       " 9623: {1655: {635: {'loc': 0.0, 'scale': 1e-17}}},\n",
       " 9626: {1351: {635: {'loc': 0.0, 'scale': 1e-17}}},\n",
       " 9636: {1655: {635: {'loc': 0.0, 'scale': 1e-17}}},\n",
       " 9660: {1655: {635: {'loc': 4.5886412, 'scale': 1e-17}}},\n",
       " 9662: {1655: {1338: {'loc': 0.0, 'scale': 1e-17}}},\n",
       " 9699: {100: {229: {'loc': 0.0, 'scale': 1e-17}}},\n",
       " 9730: {1655: {1828: {'loc': 3.9102449, 'scale': 2.8575470044993949e-05}}},\n",
       " 9750: {1655: {1828: {'loc': 3.9102449, 'scale': 2.8575470044993949e-05}}},\n",
       " 9766: {1351: {635: {'loc': 0.0, 'scale': 0.00011423815239643584}}},\n",
       " 9775: {1655: {635: {'loc': 4.6051702, 'scale': 0.1519835226189544}}},\n",
       " 9776: {1655: {635: {'loc': -0.00078105927, 'scale': 1e-17}}},\n",
       " 9798: {1655: {117: {'loc': 0.0, 'scale': 0.00076666042453635589}}},\n",
       " 9818: {1351: {468: {'loc': 0.0, 'scale': 1e-17}}},\n",
       " 9825: {1053: {635: {'loc': 0.36449766, 'scale': 1e-17}}},\n",
       " 9836: {1655: {635: {'loc': 0.0, 'scale': 1e-17}}},\n",
       " 9851: {993: {1338: {'loc': 0.0, 'scale': 1e-17}}},\n",
       " 9930: {1655: {635: {'loc': 4.6051702, 'scale': 0.004996878777998019}}},\n",
       " 9944: {1655: {635: {'loc': 0.0, 'scale': 1e-17}}},\n",
       " 9945: {1655: {1828: {'loc': 3.9102449, 'scale': 2.8575470044993949e-05}}},\n",
       " 9950: {1655: {468: {'loc': 0.52452469, 'scale': 1e-17}}},\n",
       " 9958: {1655: {635: {'loc': 4.5886412, 'scale': 1e-17}}},\n",
       " 9988: {1655: {1828: {'loc': 3.9102449, 'scale': 2.8575470044993949e-05}}},\n",
       " 10009: {1655: {635: {'loc': 0.0, 'scale': 2.8899341369872459e-05}}},\n",
       " 10034: {1655: {1828: {'loc': 3.9102449, 'scale': 2.8575470044993949e-05}}},\n",
       " 10060: {257: {635: {'loc': 0.0, 'scale': 1e-17}}},\n",
       " 10062: {1655: {635: {'loc': 0.0, 'scale': 9.1995632319896682e-05}}},\n",
       " 10100: {1655: {635: {'loc': 0.0, 'scale': 1e-17}}},\n",
       " 10104: {1655: {1828: {'loc': 3.9102449, 'scale': 2.8575470044993949e-05}}},\n",
       " 10168: {1655: {635: {'loc': 0.0, 'scale': 1e-17}}},\n",
       " 10171: {1250: {635: {'loc': 0.0, 'scale': 0.00011831917593993827}}},\n",
       " 10190: {1655: {468: {'loc': 0.0, 'scale': 1.067988297751739e-05}}},\n",
       " 10203: {1655: {1305: {'loc': 5.5309162, 'scale': 3.5879255068738936e-06}}},\n",
       " 10234: {993: {1338: {'loc': 0.0, 'scale': 1e-17}}},\n",
       " 10240: {1655: {635: {'loc': 0.0, 'scale': 0.00011997978239926968}}},\n",
       " 10287: {1655: {635: {'loc': 0.0, 'scale': 1e-17}}},\n",
       " 10296: {1351: {468: {'loc': 0.0, 'scale': 1e-17}}},\n",
       " 10302: {1351: {468: {'loc': 0.0, 'scale': 1e-17}}},\n",
       " 10304: {993: {1338: {'loc': 0.0, 'scale': 1e-17}}},\n",
       " 10330: {1655: {635: {'loc': 0.0, 'scale': 5.5091735160646577e-05}}},\n",
       " 10339: {1655: {635: {'loc': 0.21034527, 'scale': 0.00010891216208741251}}},\n",
       " 10351: {1655: {635: {'loc': 0.0, 'scale': 1.067988297751739e-05}}},\n",
       " 10373: {1655: {635: {'loc': 0.0, 'scale': 0.00010705209917855886}}},\n",
       " 10383: {1655: {1338: {'loc': 0.0, 'scale': 1e-17}}},\n",
       " 10404: {1655: {635: {'loc': 0.0, 'scale': 1.067988297751739e-05}}},\n",
       " 10421: {1655: {635: {'loc': 0.0, 'scale': 5.5091735160646577e-05}}},\n",
       " 10424: {1351: {635: {'loc': 0.0, 'scale': 1e-17}}},\n",
       " 10427: {1655: {635: {'loc': 0.0, 'scale': 0.00011380692574848907}}},\n",
       " 10432: {1351: {635: {'loc': 0.0, 'scale': 1e-17}}},\n",
       " 10467: {1655: {635: {'loc': 0.0, 'scale': 6.0605013882989742e-05}}},\n",
       " 10470: {1655: {1338: {'loc': 0.0, 'scale': 1e-17}}},\n",
       " 10472: {1655: {635: {'loc': 0.0, 'scale': 6.8937662060063472e-06}}},\n",
       " 10500: {100: {229: {'loc': 0.0, 'scale': 5.8723024195736398e-05}}},\n",
       " 10514: {1655: {635: {'loc': 0.0, 'scale': 1.6463834390498556e-05}}},\n",
       " 10518: {1655: {1338: {'loc': 0.0, 'scale': 1e-17}}},\n",
       " 10536: {1655: {635: {'loc': 0.21034527, 'scale': 0.00011854442320403544}}},\n",
       " 10543: {1655: {635: {'loc': 0.0, 'scale': 8.880063931906171e-05}}},\n",
       " 10563: {1351: {468: {'loc': 0.0, 'scale': 1e-17}}},\n",
       " 10639: {1655: {635: {'loc': 0.0, 'scale': 0.00010805032449841224}}},\n",
       " 10647: {1351: {635: {'loc': 0.0, 'scale': 1e-17}}},\n",
       " 10669: {1351: {468: {'loc': 0.0, 'scale': 1e-17}}},\n",
       " 10678: {1351: {468: {'loc': 0.0, 'scale': 1e-17}}},\n",
       " 10704: {1655: {468: {'loc': 4.6051702, 'scale': 1e-17}}},\n",
       " 10710: {1351: {1338: {'loc': -0.51082563, 'scale': 0.17085256916827307}}},\n",
       " 10711: {1655: {635: {'loc': 4.6051702, 'scale': 0.004996878777998019}}},\n",
       " 10714: {1655: {635: {'loc': 0.0009431839, 'scale': 8.2135903382442757e-05}}},\n",
       " 10719: {1865: {229: {'loc': 0.0, 'scale': 8.5439063820139121e-05}}},\n",
       " 10731: {1655: {635: {'loc': 0.0, 'scale': 0.00011997978239926968}}},\n",
       " 10733: {1655: {1828: {'loc': 3.9102449, 'scale': 2.8575470044993949e-05}}},\n",
       " 10739: {1655: {635: {'loc': 0.0, 'scale': 1.067988297751739e-05}}},\n",
       " 10759: {1655: {635: {'loc': 0.0, 'scale': 7.6393903875314993e-05}}},\n",
       " 10782: {1655: {635: {'loc': 4.6051702, 'scale': 0.1519835226189544}}},\n",
       " 10799: {1655: {412: {'loc': -1.7147985, 'scale': 0.00011711598330835868}}},\n",
       " 10813: {1655: {635: {'loc': 4.6051702, 'scale': 0.004996878777998019}}},\n",
       " 10821: {1944: {635: {'loc': 0.20972061, 'scale': 0.56363559855238377}}},\n",
       " 10823: {1655: {635: {'loc': 0.0, 'scale': 1.067988297751739e-05}}},\n",
       " 10833: {1655: {1828: {'loc': 3.9102449, 'scale': 2.8575470044993949e-05}}},\n",
       " 10834: {1655: {635: {'loc': 4.0531158e-05, 'scale': 0.00010365788404271771}}},\n",
       " 10846: {1655: {1032: {'loc': 4.6051702, 'scale': 0.0001102726845368749}}},\n",
       " 10862: {1655: {635: {'loc': 0.0, 'scale': 1e-17}}},\n",
       " 10879: {1655: {635: {'loc': 4.5886412, 'scale': 1e-17}}},\n",
       " 10883: {1655: {635: {'loc': 4.6051702, 'scale': 0.1519835226189544}}},\n",
       " 10885: {1351: {635: {'loc': 0.0, 'scale': 1.067988297751739e-05}}},\n",
       " 10898: {1655: {635: {'loc': 0.069658756, 'scale': 0.00011893217093058314}}},\n",
       " 10913: {1655: {635: {'loc': 0.0, 'scale': 0.00011380692574848907}}},\n",
       " 10931: {1655: {635: {'loc': 0.0, 'scale': 6.4592132025147482e-05}}},\n",
       " 10952: {1655: {635: {'loc': 0.0, 'scale': 5.998543458820121e-05}}},\n",
       " 10960: {1655: {635: {'loc': 4.6051702, 'scale': 0.028766459690731053}}},\n",
       " 10968: {1655: {635: {'loc': 0.64551926, 'scale': 0.00011423815239643584}}},\n",
       " 10973: {1655: {1338: {'loc': 0.0, 'scale': 1e-17}}},\n",
       " 10974: {1655: {635: {'loc': 0.0, 'scale': 0.00011997978239926968}}},\n",
       " 10977: {1655: {1338: {'loc': 0.0, 'scale': 0.15350790009811108}}},\n",
       " 10978: {1250: {635: {'loc': 0.0, 'scale': 0.00021163085537530751}}},\n",
       " 10998: {1655: {1828: {'loc': 3.9102449, 'scale': 2.8575470044993949e-05}}},\n",
       " 11001: {1655: {635: {'loc': 4.6051702, 'scale': 0.17642158052117829}}},\n",
       " 11002: {1351: {635: {'loc': 0.0, 'scale': 1e-17}}},\n",
       " 11010: {1655: {635: {'loc': 0.0, 'scale': 1e-17}}},\n",
       " 11043: {1655: {635: {'loc': 4.6051702, 'scale': 1e-17}}},\n",
       " 11052: {55: {1068: {'loc': 0.0, 'scale': 0.00010891216208741251}}},\n",
       " 11060: {1655: {635: {'loc': 0.0, 'scale': 1e-17}}},\n",
       " 11067: {1655: {1338: {'loc': 0.0, 'scale': 7.5008745229148273e-05}}},\n",
       " 11087: {1351: {635: {'loc': 0.0, 'scale': 1e-17}}},\n",
       " 11139: {1655: {635: {'loc': 0.0, 'scale': 1e-17}}},\n",
       " 11167: {1655: {635: {'loc': 4.6051702, 'scale': 1e-17}}},\n",
       " 11221: {100: {229: {'loc': 0.0, 'scale': 5.8723024195736398e-05}}},\n",
       " 11254: {1351: {468: {'loc': 0.0, 'scale': 1e-17}}},\n",
       " 11269: {1655: {635: {'loc': 0.0, 'scale': 1e-17}}},\n",
       " 11287: {1655: {635: {'loc': 0.0, 'scale': 1e-17}}},\n",
       " 11320: {1655: {635: {'loc': 0.0, 'scale': 0.00010805032449841224}}},\n",
       " 11343: {1411: {635: {'loc': 0.38846749, 'scale': 1e-17}}},\n",
       " 11352: {1655: {635: {'loc': 4.5886412, 'scale': 1e-17}}},\n",
       " 11384: {1053: {1338: {'loc': 0.0, 'scale': 8.4760445541580065e-05}}},\n",
       " 11402: {993: {1338: {'loc': 0.0, 'scale': 0.0001102726845368749}}},\n",
       " 11409: {1655: {635: {'loc': 4.6051702, 'scale': 0.1519835226189544}}},\n",
       " 11417: {1655: {635: {'loc': 0.0, 'scale': 1e-17}}},\n",
       " 11418: {1712: {1060: {'loc': 0.0, 'scale': 1e-17}}},\n",
       " 11419: {1655: {635: {'loc': 0.0, 'scale': 2.8899341369872459e-05}}},\n",
       " 11426: {1655: {635: {'loc': 4.5886412, 'scale': 1e-17}}},\n",
       " 11435: {1655: {635: {'loc': 4.6051702, 'scale': 0.004996878777998019}}},\n",
       " 11450: {1351: {635: {'loc': 0.0, 'scale': 1e-17}}},\n",
       " 11457: {1655: {635: {'loc': 0.39979935, 'scale': 1e-17}}},\n",
       " 11462: {1655: {635: {'loc': -0.00033283234,\n",
       "    'scale': 0.00011711598330835868}}},\n",
       " 11464: {1655: {1828: {'loc': 3.9102449, 'scale': 2.8575470044993949e-05}}},\n",
       " 11474: {1655: {635: {'loc': 4.6051702, 'scale': 1e-17}}},\n",
       " 11491: {1655: {635: {'loc': 0.0, 'scale': 7.1758510137477872e-06}}},\n",
       " 11518: {1351: {635: {'loc': 2.6835089, 'scale': 0.00017043610229867167}}},\n",
       " 11520: {1655: {1828: {'loc': 3.9102449, 'scale': 2.8575470044993949e-05}}},\n",
       " 11539: {1351: {468: {'loc': 0.0, 'scale': 1e-17}}},\n",
       " 11551: {1655: {1338: {'loc': 0.0, 'scale': 1e-17}}},\n",
       " 11558: {1351: {635: {'loc': 0.0, 'scale': 1.067988297751739e-05}}},\n",
       " 11559: {848: {635: {'loc': 0.64698529, 'scale': 0.00016810574725993599}}},\n",
       " 11566: {1655: {1828: {'loc': 3.9102449, 'scale': 2.8575470044993949e-05}}},\n",
       " 11582: {1655: {635: {'loc': 0.0, 'scale': 1e-17}}},\n",
       " 11596: {1655: {635: {'loc': 0.0, 'scale': 1e-17}}},\n",
       " 11626: {1655: {635: {'loc': -0.0019464493, 'scale': 1e-17}}},\n",
       " 11630: {1655: {1338: {'loc': 0.0, 'scale': 7.5008745229148273e-05}}},\n",
       " 11637: {1250: {635: {'loc': 0.0, 'scale': 0.00011831917593993827}}},\n",
       " 11664: {1053: {635: {'loc': 4.2321424, 'scale': 2.8575470044993949e-05}}},\n",
       " 11680: {1655: {1828: {'loc': 3.9102449, 'scale': 2.8575470044993949e-05}}},\n",
       " 11696: {1655: {468: {'loc': 4.6051702, 'scale': 1e-17}}},\n",
       " 11701: {1655: {635: {'loc': 0.0, 'scale': 0.00011423815239643584}}},\n",
       " 11731: {1655: {635: {'loc': 0.0, 'scale': 6.8937662060063472e-06}}},\n",
       " 11741: {1655: {635: {'loc': 0.0, 'scale': 1e-17}}},\n",
       " 11744: {1351: {635: {'loc': 0.0, 'scale': 0.00011892358995696764}}},\n",
       " 11758: {1655: {635: {'loc': 0.00082015991, 'scale': 1e-17}}},\n",
       " 11786: {993: {1338: {'loc': 0.0, 'scale': 1e-17}}},\n",
       " 11801: {1351: {468: {'loc': 0.0, 'scale': 1e-17}}},\n",
       " 11827: {1655: {635: {'loc': 0.068993092, 'scale': 1e-17}}},\n",
       " 11860: {1655: {635: {'loc': 0.0, 'scale': 0.00010805032449841224}}},\n",
       " 11867: {1655: {635: {'loc': 4.6051702, 'scale': 0.1519835226189544}}},\n",
       " 11872: {1655: {635: {'loc': 0.0, 'scale': 1e-17}}},\n",
       " 11877: {1655: {1828: {'loc': 3.9102449, 'scale': 2.8575470044993949e-05}}},\n",
       " 11884: {993: {1338: {'loc': 0.0, 'scale': 0.0001102726845368749}}},\n",
       " 11886: {1655: {635: {'loc': 0.0, 'scale': 1.6463834390498556e-05}}},\n",
       " 11894: {1655: {635: {'loc': 4.6051702, 'scale': 0.004996878777998019}}},\n",
       " 11902: {1655: {635: {'loc': 0.0, 'scale': 8.1611666936694499e-05}}},\n",
       " 11912: {1655: {635: {'loc': 4.5886412, 'scale': 1e-17}}},\n",
       " 11918: {1655: {635: {'loc': 4.6051702, 'scale': 0.1519835226189544}}},\n",
       " 11928: {1655: {635: {'loc': 0.64551926, 'scale': 1e-17}}},\n",
       " 11942: {1655: {1828: {'loc': 3.9102449, 'scale': 2.8575470044993949e-05}}},\n",
       " 11948: {1655: {635: {'loc': 0.0, 'scale': 2.8899341369872459e-05}}},\n",
       " 12002: {1655: {635: {'loc': 0.0, 'scale': 1e-17}}},\n",
       " 12005: {1655: {635: {'loc': 4.6051702, 'scale': 0.004996878777998019}}},\n",
       " 12019: {1655: {635: {'loc': 4.6051702, 'scale': 0.028766459690731053}}},\n",
       " 12040: {1655: {635: {'loc': 0.0, 'scale': 0.00010891216208741251}}},\n",
       " 12050: {1351: {468: {'loc': 0.0, 'scale': 0.10855107676917311}}},\n",
       " 12054: {1655: {1828: {'loc': 3.9102449, 'scale': 2.8575470044993949e-05}}},\n",
       " 12116: {1655: {635: {'loc': 0.0, 'scale': 8.4572795018634505e-05}}},\n",
       " 12126: {1655: {635: {'loc': 0.0, 'scale': 1e-17}}},\n",
       " 12127: {993: {1338: {'loc': 0.0, 'scale': 1e-17}}},\n",
       " 12147: {1655: {635: {'loc': 4.6051702, 'scale': 1e-17}}},\n",
       " 12158: {1655: {1828: {'loc': 3.9102449, 'scale': 2.8575470044993949e-05}}},\n",
       " 12184: {1655: {635: {'loc': 4.6051702, 'scale': 0.1519835226189544}}},\n",
       " 12186: {1655: {635: {'loc': 0.0, 'scale': 7.1758510137477872e-06}}},\n",
       " 12237: {1655: {635: {'loc': 0.0, 'scale': 9.1642097728997991e-05}}},\n",
       " 12298: {1655: {1322: {'loc': 0.0, 'scale': 6.0605013882989742e-05}}},\n",
       " 12302: {1351: {635: {'loc': 0.0, 'scale': 1.067988297751739e-05}}},\n",
       " 12303: {1655: {635: {'loc': 0.0, 'scale': 8.5439063820139121e-05}}},\n",
       " 12331: {1655: {635: {'loc': 0.0, 'scale': 1e-17}}},\n",
       " 12335: {1655: {635: {'loc': 0.0, 'scale': 1e-17}}},\n",
       " 12352: {78: {468: {'loc': 0.0, 'scale': 5.9852932333745914e-05}}},\n",
       " 12360: {1655: {229: {'loc': 0.0, 'scale': 1e-17}}},\n",
       " 12369: {1655: {468: {'loc': 4.6051702, 'scale': 1e-17}}},\n",
       " 12386: {1655: {635: {'loc': 0.0, 'scale': 0.00010805032449841224}}},\n",
       " 12390: {1655: {1828: {'loc': 3.9102449, 'scale': 2.8575470044993949e-05}}},\n",
       " 12408: {1351: {468: {'loc': 0.0, 'scale': 1e-17}}},\n",
       " 12435: {848: {635: {'loc': 0.64698529, 'scale': 0.0001450142666858252}}},\n",
       " 12509: {1655: {635: {'loc': 0.0, 'scale': 1e-17}}},\n",
       " 12511: {1655: {1828: {'loc': 3.9102449, 'scale': 2.8575470044993949e-05}}},\n",
       " 12534: {1655: {1828: {'loc': 3.9102449, 'scale': 2.8575470044993949e-05}}},\n",
       " 12558: {1351: {635: {'loc': 0.19497299, 'scale': 1e-17}}},\n",
       " 12571: {1655: {1828: {'loc': 3.9102449, 'scale': 2.8575470044993949e-05}}},\n",
       " 12582: {1655: {635: {'loc': 0.0, 'scale': 7.1758510137477872e-06}}},\n",
       " 12594: {1655: {635: {'loc': 0.0, 'scale': 1e-17}}},\n",
       " 12600: {1655: {635: {'loc': -0.00026702881,\n",
       "    'scale': 0.00011711598330835868}}},\n",
       " 12622: {1655: {635: {'loc': 4.6051702, 'scale': 0.1519835226189544}}},\n",
       " 12626: {1655: {635: {'loc': 4.5886412, 'scale': 1e-17}}},\n",
       " 12654: {1351: {468: {'loc': 0.0, 'scale': 1e-17}}},\n",
       " 12657: {1655: {635: {'loc': 0.0, 'scale': 2.8899341369872459e-05}}},\n",
       " 12666: {1053: {1338: {'loc': 0.0, 'scale': 8.4760445541580065e-05}}},\n",
       " 12670: {1250: {635: {'loc': 0.0, 'scale': 1e-17}}},\n",
       " 12682: {1250: {635: {'loc': 0.0, 'scale': 0.00011831917593993827}}},\n",
       " 12689: {1655: {468: {'loc': 0.52451134, 'scale': 1e-17}}},\n",
       " 12698: {1655: {1828: {'loc': 3.9102449, 'scale': 2.8575470044993949e-05}}},\n",
       " 12722: {1351: {635: {'loc': 1.4453278, 'scale': 1e-17}}},\n",
       " 12728: {1655: {635: {'loc': 4.6051702, 'scale': 1e-17}}},\n",
       " 12736: {257: {635: {'loc': 0.0, 'scale': 1.067988297751739e-05}}},\n",
       " 12744: {1655: {635: {'loc': 0.0, 'scale': 0.00011380692574848907}}},\n",
       " 12764: {1351: {635: {'loc': 1.2465324, 'scale': 1e-17}}},\n",
       " 12778: {1655: {635: {'loc': 0.0, 'scale': 2.8899341369872459e-05}}},\n",
       " 12812: {1655: {1828: {'loc': 3.9102449, 'scale': 2.8575470044993949e-05}}},\n",
       " 12856: {1655: {635: {'loc': 0.0, 'scale': 1e-17}}},\n",
       " 12922: {1351: {635: {'loc': 0.0, 'scale': 1e-17}}},\n",
       " 12969: {1250: {635: {'loc': 0.0, 'scale': 1e-17}}},\n",
       " 12979: {1655: {1828: {'loc': 3.9102449, 'scale': 2.8575470044993949e-05}}},\n",
       " 12987: {1655: {635: {'loc': 0.0, 'scale': 9.1642097728997991e-05}}},\n",
       " 13010: {1655: {1828: {'loc': 3.9102449, 'scale': 2.8575470044993949e-05}}},\n",
       " 13012: {257: {635: {'loc': 0.0, 'scale': 1.067988297751739e-05}}},\n",
       " 13014: {1655: {635: {'loc': 0.0, 'scale': 5.998543458820121e-05}}},\n",
       " 13035: {1655: {635: {'loc': 4.6051702, 'scale': 0.004996878777998019}}},\n",
       " 13071: {1655: {117: {'loc': 0.0, 'scale': 0.00076666042453635589}}},\n",
       " 13095: {1655: {635: {'loc': 0.0, 'scale': 0.00011380692574848907}}},\n",
       " 13100: {1655: {635: {'loc': 0.0, 'scale': 0.00010805032449841224}}},\n",
       " 13120: {1655: {1828: {'loc': 3.9102449, 'scale': 2.8575470044993949e-05}}},\n",
       " 13138: {1655: {1338: {'loc': 0.0, 'scale': 1e-17}}},\n",
       " 13142: {993: {1338: {'loc': 0.0, 'scale': 0.0001102726845368749}}},\n",
       " 13160: {1655: {117: {'loc': 0.0, 'scale': 0.00076666042453635589}}},\n",
       " 13166: {1655: {635: {'loc': 0.0, 'scale': 1e-17}}},\n",
       " 13167: {1655: {635: {'loc': 3.174715, 'scale': 5.5091735160646577e-05}}},\n",
       " 13191: {1655: {635: {'loc': 0.0, 'scale': 2.8575470044993949e-05}}},\n",
       " 13215: {1655: {635: {'loc': 0.0, 'scale': 0.00074100299310185785}}},\n",
       " 13228: {1655: {1828: {'loc': 3.9102449, 'scale': 2.8575470044993949e-05}}},\n",
       " 13238: {1655: {635: {'loc': 0.0, 'scale': 1e-17}}},\n",
       " 13248: {1655: {635: {'loc': 0.0, 'scale': 1e-17}}},\n",
       " 13249: {1655: {635: {'loc': 0.0, 'scale': 1e-17}}},\n",
       " 13267: {1655: {635: {'loc': 0.0, 'scale': 1e-17}}},\n",
       " 13272: {993: {1338: {'loc': 0.0, 'scale': 1e-17}}},\n",
       " 13274: {1351: {635: {'loc': 0.0, 'scale': 1e-17}}},\n",
       " 13317: {1655: {635: {'loc': 4.6051702, 'scale': 1e-17}}},\n",
       " 13335: {1655: {635: {'loc': 0.0, 'scale': 1.9081566750220216e-05}}},\n",
       " 13340: {1655: {635: {'loc': 0.0, 'scale': 1e-17}}},\n",
       " 13348: {1655: {635: {'loc': 0.0, 'scale': 0.24001980413262045}}},\n",
       " 13382: {1655: {117: {'loc': 0.0, 'scale': 0.00076666042453635589}}},\n",
       " 13404: {1655: {635: {'loc': 4.6051702, 'scale': 1e-17}}},\n",
       " 13409: {1655: {635: {'loc': 0.0, 'scale': 1e-17}}},\n",
       " 13434: {1865: {229: {'loc': 0.0, 'scale': 0.22360680180434656}}},\n",
       " 13456: {1655: {635: {'loc': 0.47000408, 'scale': 1e-17}}},\n",
       " 13480: {1712: {1060: {'loc': 0.0, 'scale': 1e-17}}},\n",
       " 13492: {1655: {117: {'loc': 0.0, 'scale': 0.00076666042453635589}}},\n",
       " 13503: {1655: {635: {'loc': 4.6051702, 'scale': 1e-17}}},\n",
       " 13508: {1655: {1828: {'loc': 3.9102449, 'scale': 2.8575470044993949e-05}}},\n",
       " 13525: {1351: {468: {'loc': 0.0, 'scale': 1e-17}}},\n",
       " 13534: {1351: {468: {'loc': 0.0, 'scale': 1e-17}}},\n",
       " 13565: {1655: {117: {'loc': 0.0, 'scale': 4.3414527384436992e-05}}},\n",
       " 13566: {1944: {635: {'loc': 0.20972061, 'scale': 0.56363652025536415}}},\n",
       " 13574: {1655: {1828: {'loc': 3.9102449, 'scale': 2.8575470044993949e-05}}},\n",
       " 13596: {1655: {635: {'loc': 0.0, 'scale': 1e-17}}},\n",
       " 13608: {1655: {1338: {'loc': 0.0, 'scale': 1e-17}}},\n",
       " 13624: {1655: {635: {'loc': 0.0, 'scale': 5.7377450870982296e-05}}},\n",
       " 13635: {1655: {635: {'loc': 0.0, 'scale': 1e-17}}},\n",
       " 13644: {1655: {635: {'loc': 0.0, 'scale': 1.6463834390498556e-05}}},\n",
       " 13652: {1655: {635: {'loc': 0.45198441, 'scale': 1e-17}}},\n",
       " 13657: {1655: {635: {'loc': 0.0, 'scale': 1e-17}}},\n",
       " 13672: {1655: {635: {'loc': 4.6051702, 'scale': 1e-17}}},\n",
       " 13675: {1351: {635: {'loc': 0.0, 'scale': 0.40876190565185816}}},\n",
       " 13681: {1655: {1338: {'loc': 0.0, 'scale': 0.12987439978490584}}},\n",
       " 13686: {1351: {468: {'loc': 0.0, 'scale': 1e-17}}},\n",
       " 13687: {1655: {635: {'loc': 0.0, 'scale': 1e-17}}},\n",
       " 13704: {1655: {635: {'loc': 4.5886412, 'scale': 1e-17}}},\n",
       " 13714: {1655: {635: {'loc': 0.0, 'scale': 2.8899341369872459e-05}}},\n",
       " 13734: {1351: {468: {'loc': 0.0, 'scale': 1e-17}}},\n",
       " 13735: {1655: {635: {'loc': 0.0, 'scale': 1e-17}}},\n",
       " 13745: {1655: {635: {'loc': 0.23326874, 'scale': 0.0001102726845368749}}},\n",
       " 13748: {1655: {635: {'loc': 0.0, 'scale': 1e-17}}},\n",
       " 13760: {1655: {635: {'loc': 0.0, 'scale': 1.6463834390498556e-05}}},\n",
       " 13767: {1655: {635: {'loc': 4.6051698, 'scale': 0.1519835226189544}}},\n",
       " 13769: {1655: {635: {'loc': 4.6051702, 'scale': 0.004996878777998019}}},\n",
       " 13773: {1351: {635: {'loc': 0.19782639, 'scale': 8.4760445541580065e-05}}},\n",
       " 13783: {1655: {635: {'loc': 0.0, 'scale': 5.9852932333745914e-05}}},\n",
       " 13808: {1655: {1828: {'loc': 3.9102449, 'scale': 2.8575470044993949e-05}}},\n",
       " 13830: {1655: {635: {'loc': 0.0, 'scale': 0.00010805032449841224}}}}"
      ]
     },
     "execution_count": 100,
     "metadata": {},
     "output_type": "execute_result"
    }
   ],
   "source": [
    "ratio_rv_dict_per_activity"
   ]
  },
  {
   "cell_type": "code",
   "execution_count": 108,
   "metadata": {},
   "outputs": [
    {
     "data": {
      "text/plain": [
       "1342"
      ]
     },
     "execution_count": 108,
     "metadata": {},
     "output_type": "execute_result"
    }
   ],
   "source": [
    "len(correlated_bio_params[np.where(correlated_bio_params['uncertainty_type'] == 1)])"
   ]
  },
  {
   "cell_type": "code",
   "execution_count": 106,
   "metadata": {},
   "outputs": [
    {
     "data": {
      "text/plain": [
       "353369"
      ]
     },
     "execution_count": 106,
     "metadata": {},
     "output_type": "execute_result"
    }
   ],
   "source": [
    "len(correlated_bio_params)"
   ]
  },
  {
   "cell_type": "code",
   "execution_count": null,
   "metadata": {
    "collapsed": true
   },
   "outputs": [],
   "source": []
  },
  {
   "cell_type": "code",
   "execution_count": 6,
   "metadata": {},
   "outputs": [],
   "source": [
    "biosphere_matrix=LCA_obj.biosphere_matrix"
   ]
  },
  {
   "cell_type": "code",
   "execution_count": 14,
   "metadata": {},
   "outputs": [
    {
     "data": {
      "text/plain": [
       "0.0"
      ]
     },
     "execution_count": 14,
     "metadata": {},
     "output_type": "execute_result"
    }
   ],
   "source": [
    "biosphere_matrix[1959,1]"
   ]
  },
  {
   "cell_type": "code",
   "execution_count": 9,
   "metadata": {},
   "outputs": [
    {
     "data": {
      "text/plain": [
       "(1960, 13831)"
      ]
     },
     "execution_count": 9,
     "metadata": {},
     "output_type": "execute_result"
    }
   ],
   "source": [
    "biosphere_matrix.shape"
   ]
  },
  {
   "cell_type": "code",
   "execution_count": null,
   "metadata": {
    "collapsed": true
   },
   "outputs": [],
   "source": []
  }
 ],
 "metadata": {
  "kernelspec": {
   "display_name": "Python 3",
   "language": "python",
   "name": "python3"
  },
  "language_info": {
   "codemirror_mode": {
    "name": "ipython",
    "version": 3
   },
   "file_extension": ".py",
   "mimetype": "text/x-python",
   "name": "python",
   "nbconvert_exporter": "python",
   "pygments_lexer": "ipython3",
   "version": "3.6.2"
  }
 },
 "nbformat": 4,
 "nbformat_minor": 2
}
