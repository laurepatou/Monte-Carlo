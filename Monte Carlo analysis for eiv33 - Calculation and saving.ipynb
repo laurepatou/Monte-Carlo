{
 "cells": [
  {
   "cell_type": "code",
   "execution_count": 1,
   "metadata": {
    "collapsed": true
   },
   "outputs": [],
   "source": [
    "import brightway2 as bw\n",
    "import os               # to use \"operating system dependent functionality\"\n",
    "import numpy as np      # \"the fundamental package for scientific computing with Python\"\n",
    "import pandas as pd     # \"high-performance, easy-to-use data structures and data analysis tools\" for Python\n",
    "import csv\n",
    "import stats_arrays\n",
    "import scipy as sp\n",
    "import pandas as pd\n",
    "import pickle\n",
    "import h5py\n",
    "import time"
   ]
  },
  {
   "cell_type": "code",
   "execution_count": 2,
   "metadata": {
    "collapsed": true
   },
   "outputs": [],
   "source": [
    "bw.projects.set_current('iw_integration')"
   ]
  },
  {
   "cell_type": "markdown",
   "metadata": {},
   "source": [
    "# Save and load functions with pickle"
   ]
  },
  {
   "cell_type": "code",
   "execution_count": 3,
   "metadata": {
    "collapsed": true
   },
   "outputs": [],
   "source": [
    "def pickle_save(file_path_root,object_name_to_save,file_name):\n",
    "    \n",
    "    complete_file_path=file_path_root+'\\\\'+file_name+'.p'\n",
    "    \n",
    "    pickle.dump( object_name_to_save, open( complete_file_path, \"wb\" ) )\n",
    "    \n",
    "    return;\n",
    "\n",
    "\n",
    "\n",
    "\n",
    "def pickle_load(file_path_root,file_name):\n",
    "    \n",
    "    complete_file_path=file_path_root+'\\\\'+file_name+'.p'\n",
    "    \n",
    "    return pickle.load( open( complete_file_path, \"rb\" ) );\n",
    "    \n"
   ]
  },
  {
   "cell_type": "code",
   "execution_count": null,
   "metadata": {
    "collapsed": true
   },
   "outputs": [],
   "source": [
    "#file_path_root=r'C:\\bw2-python\\Notebook - tutorial\\IW+ integration\\Pickle Python object saved'\n",
    "#object_name_to_save=object_to_save\n",
    "#file_name='object_to_save'\n",
    "\n",
    "pickle_save(file_path_root,object_name_to_save,file_name)\n",
    "\n",
    "object_to_load=pickle_load(file_path_root,file_name)"
   ]
  },
  {
   "cell_type": "markdown",
   "metadata": {},
   "source": [
    "# Save and load LCA object for an activity in eiv33"
   ]
  },
  {
   "cell_type": "markdown",
   "metadata": {},
   "source": [
    "Pick a random process in eiv33 and construct an LCA object"
   ]
  },
  {
   "cell_type": "code",
   "execution_count": 22,
   "metadata": {
    "collapsed": true
   },
   "outputs": [],
   "source": [
    "DB_eiv33=bw.Database('ecoinvent 3.3 cutoff')"
   ]
  },
  {
   "cell_type": "code",
   "execution_count": 65,
   "metadata": {
    "collapsed": true
   },
   "outputs": [],
   "source": [
    "act_random_eiv33=DB_eiv33.random()"
   ]
  },
  {
   "cell_type": "code",
   "execution_count": 4,
   "metadata": {
    "collapsed": true
   },
   "outputs": [],
   "source": [
    "def create_LCA_object(act,fu,ic_name=None):\n",
    "    LCA_object=bw.LCA({act:fu},ic_name)\n",
    "    return LCA_object;"
   ]
  },
  {
   "cell_type": "code",
   "execution_count": 67,
   "metadata": {
    "collapsed": true
   },
   "outputs": [],
   "source": [
    "act=act_random_eiv33\n",
    "fu=1\n",
    "\n",
    "LCA_object=create_LCA_object(act,fu,ic_name=None)"
   ]
  },
  {
   "cell_type": "markdown",
   "metadata": {},
   "source": [
    "Create A and B matrices with .load_lci_data() and save the resulting objects with pickle"
   ]
  },
  {
   "cell_type": "code",
   "execution_count": 5,
   "metadata": {
    "collapsed": true
   },
   "outputs": [],
   "source": [
    "def create_A_B(LCA_obj,params_only=False, matrix_only=False):\n",
    "    LCA_obj.load_lci_data(fix_dictionaries=False)\n",
    "    dict_load_lci_data_objects={}\n",
    "    \n",
    "    if params_only==True:\n",
    "        dict_load_lci_data_objects={'bio_params':LCA_obj.bio_params,\n",
    "                               'tech_params':LCA_obj.tech_params}\n",
    "    elif matrix_only==True:\n",
    "        dict_load_lci_data_objects={'biosphere_matrix':LCA_obj.biosphere_matrix,\n",
    "                               'technosphere_matrix':LCA_obj.technosphere_matrix}\n",
    "    \n",
    "    else:\n",
    "        dict_load_lci_data_objects={'bio_params':LCA_obj.bio_params,\n",
    "                               'tech_params':LCA_obj.tech_params,\n",
    "                               'biosphere_dict':LCA_obj.biosphere_dict,\n",
    "                               'activity_dict':LCA_obj.activity_dict,\n",
    "                               'product_dict':LCA_obj.product_dict,\n",
    "                               'biosphere_matrix':LCA_obj.biosphere_matrix,\n",
    "                               'technosphere_matrix':LCA_obj.technosphere_matrix}\n",
    "    \n",
    "    return dict_load_lci_data_objects;"
   ]
  },
  {
   "cell_type": "code",
   "execution_count": 69,
   "metadata": {
    "collapsed": true
   },
   "outputs": [],
   "source": [
    "dict_A_B=create_A_B(LCA_object)"
   ]
  },
  {
   "cell_type": "code",
   "execution_count": 70,
   "metadata": {
    "collapsed": true
   },
   "outputs": [],
   "source": [
    "file_path_root=r'C:\\bw2-python\\Notebook - tutorial\\IW+ integration\\Pickle Python object saved'\n",
    "object_name_to_save=dict_A_B\n",
    "file_name='dict_A_B_random_eiv33'\n",
    "\n",
    "pickle_save(file_path_root,object_name_to_save,file_name)"
   ]
  },
  {
   "cell_type": "markdown",
   "metadata": {},
   "source": [
    "Import the LCA object and finish the calculation"
   ]
  },
  {
   "cell_type": "code",
   "execution_count": 71,
   "metadata": {
    "collapsed": true
   },
   "outputs": [],
   "source": [
    "file_path_root=r'C:\\bw2-python\\Notebook - tutorial\\IW+ integration\\Pickle Python object saved'\n",
    "object_name_to_save=dict_A_B\n",
    "file_name='dict_A_B_random_eiv33'\n",
    "\n",
    "dict_A_B_load=pickle_load(file_path_root,file_name)"
   ]
  },
  {
   "cell_type": "code",
   "execution_count": 6,
   "metadata": {
    "collapsed": true
   },
   "outputs": [],
   "source": [
    "def load_A_B_to_LCA_object(dict_A_B,act,fu,ic_name=None):\n",
    "    \n",
    "    LCA_obj=create_LCA_object(act,fu,ic_name)\n",
    "    \n",
    "    #This function recreates the objects created during the .load_lci_data()\n",
    "    \n",
    "    #to replace builder.build(self.database_filepath) in .load_lci_data()\n",
    "    LCA_obj.bio_params=dict_A_B['bio_params']\n",
    "    LCA_obj.tech_params=dict_A_B['tech_params']\n",
    "    LCA_obj.biosphere_dict=dict_A_B['biosphere_dict']\n",
    "    LCA_obj.activity_dict=dict_A_B['activity_dict']\n",
    "    LCA_obj.product_dict=dict_A_B['product_dict']\n",
    "    LCA_obj.biosphere_matrix=dict_A_B['biosphere_matrix']\n",
    "    LCA_obj.technosphere_matrix=dict_A_B['technosphere_matrix']\n",
    "\n",
    "    LCA_obj.fix_dictionaries() #function in .load_lci_data()\n",
    "    \n",
    "    return LCA_obj;"
   ]
  },
  {
   "cell_type": "code",
   "execution_count": 73,
   "metadata": {
    "collapsed": true
   },
   "outputs": [],
   "source": [
    "ic_name=('IMPACTWorld+ - Endpoint - only with spatial variability - Four param beta integration - update august 15th 2017','Ecosystem Quality','Land transformation, biodiversity, GLO, with uncert')\n",
    "\n",
    "LCA_object_load=load_A_B_to_LCA_object(dict_A_B_load,act,fu,ic_name)"
   ]
  },
  {
   "cell_type": "code",
   "execution_count": 7,
   "metadata": {
    "collapsed": true
   },
   "outputs": [],
   "source": [
    "def finish_LCA_object(LCA_obj):\n",
    "\n",
    "    #The beginning of .lci() function replace by the load_A_B_to_LCA_object function\n",
    "    \n",
    "    LCA_obj.build_demand_array() #function in .lci() after calling .load_lci_data()\n",
    "    LCA_obj.lci_calculation() #function in .lci() after calling .load_lci_data()\n",
    "    LCA_obj.lcia()\n",
    "    \n",
    "    return;"
   ]
  },
  {
   "cell_type": "code",
   "execution_count": 75,
   "metadata": {
    "collapsed": true
   },
   "outputs": [],
   "source": [
    "finish_LCA_object(LCA_object_load)"
   ]
  },
  {
   "cell_type": "code",
   "execution_count": 76,
   "metadata": {},
   "outputs": [
    {
     "data": {
      "text/plain": [
       "-0.00032472068199512565"
      ]
     },
     "execution_count": 76,
     "metadata": {},
     "output_type": "execute_result"
    }
   ],
   "source": [
    "LCA_object_load.score"
   ]
  },
  {
   "cell_type": "markdown",
   "metadata": {},
   "source": [
    "## Comparing all created objects in LCA object to test if everything needs to be stored"
   ]
  },
  {
   "cell_type": "code",
   "execution_count": 51,
   "metadata": {
    "collapsed": true
   },
   "outputs": [],
   "source": [
    "act_random_eiv33_1=DB_eiv33.random()\n",
    "act_random_eiv33_2=DB_eiv33.random()\n",
    "act_1=act_random_eiv33_2\n",
    "act_2=act_random_eiv33_2\n",
    "fu=1\n",
    "\n",
    "LCA_object_1=create_LCA_object(act_1,fu,ic_name=None)\n",
    "LCA_object_2=create_LCA_object(act_2,fu,ic_name=None)\n",
    "dict_A_B_1=create_A_B(LCA_object_1)\n",
    "dict_A_B_2=create_A_B(LCA_object_2)\n"
   ]
  },
  {
   "cell_type": "code",
   "execution_count": 53,
   "metadata": {},
   "outputs": [
    {
     "data": {
      "text/plain": [
       "(array([ True,  True,  True, ...,  True,  True,  True], dtype=bool),\n",
       " array([ True,  True,  True, ...,  True,  True,  True], dtype=bool),\n",
       " False,\n",
       " False,\n",
       " False,\n",
       " <1960x13831 sparse matrix of type '<class 'numpy.bool_'>'\n",
       " \twith 0 stored elements in Compressed Sparse Row format>,\n",
       " <13831x13831 sparse matrix of type '<class 'numpy.bool_'>'\n",
       " \twith 0 stored elements in Compressed Sparse Row format>)"
      ]
     },
     "execution_count": 53,
     "metadata": {},
     "output_type": "execute_result"
    }
   ],
   "source": [
    "(dict_A_B_1['bio_params']!=dict_A_B_2['bio_params'],\n",
    " dict_A_B_1['tech_params']!=dict_A_B_2['tech_params'],\n",
    " dict_A_B_1['biosphere_dict']!=dict_A_B_2['biosphere_dict'],\n",
    " dict_A_B_1['activity_dict']!=dict_A_B_2['activity_dict'],\n",
    " dict_A_B_1['product_dict']!=dict_A_B_2['product_dict'],\n",
    " dict_A_B_1['biosphere_matrix']!=dict_A_B_2['biosphere_matrix'],\n",
    " dict_A_B_1['technosphere_matrix']!=dict_A_B_2['technosphere_matrix'])"
   ]
  },
  {
   "cell_type": "code",
   "execution_count": 61,
   "metadata": {
    "collapsed": true
   },
   "outputs": [],
   "source": [
    "biosphere_mat_comparison=LCA_object_1.biosphere_matrix.data!=LCA_object_2.biosphere_matrix.data\n",
    "technosphere_mat_comparison=LCA_object_1.technosphere_matrix.data!=LCA_object_2.technosphere_matrix.data"
   ]
  },
  {
   "cell_type": "code",
   "execution_count": 62,
   "metadata": {
    "collapsed": true
   },
   "outputs": [],
   "source": [
    "for comp in biosphere_mat_comparison:\n",
    "    if comp==True:\n",
    "        print('biosphere matrices are different')\n",
    "        \n",
    "for comp in technosphere_mat_comparison:\n",
    "    if comp==True:\n",
    "        print('biosphere matrices are different')"
   ]
  },
  {
   "cell_type": "markdown",
   "metadata": {},
   "source": [
    "Only bio_params and tech_params need to be stored, the other are the same for all activities in eiv33! \n",
    "--> around 20MB instead of 30MB for all the objects per activity per iteration"
   ]
  },
  {
   "cell_type": "code",
   "execution_count": 63,
   "metadata": {
    "collapsed": true
   },
   "outputs": [],
   "source": [
    "file_path_root=r'C:\\bw2-python\\Notebook - tutorial\\IW+ integration\\Pickle Python object saved'\n",
    "object_name_to_save=dict_A_B_1['bio_params']\n",
    "file_name='dict_A_B_1_bio_params'\n",
    "\n",
    "pickle_save(file_path_root,object_name_to_save,file_name)"
   ]
  },
  {
   "cell_type": "code",
   "execution_count": 64,
   "metadata": {
    "collapsed": true
   },
   "outputs": [],
   "source": [
    "file_path_root=r'C:\\bw2-python\\Notebook - tutorial\\IW+ integration\\Pickle Python object saved'\n",
    "object_name_to_save=dict_A_B_1['tech_params']\n",
    "file_name='dict_A_B_1_tech_params'\n",
    "\n",
    "pickle_save(file_path_root,object_name_to_save,file_name)"
   ]
  },
  {
   "cell_type": "markdown",
   "metadata": {},
   "source": [
    "Write a code to only generate bio_params and tech_params? Ça l'air compliqué..."
   ]
  },
  {
   "cell_type": "markdown",
   "metadata": {},
   "source": [
    "# Monte Carlo for LCI for an activity + storage as dictionary"
   ]
  },
  {
   "cell_type": "markdown",
   "metadata": {},
   "source": [
    "About objects needed to recreate an LCA object:\n",
    "-*biosphere_dict, activity_dict, product_dict* are the same for the entire DB\n",
    "-*bio_params, tech_params* remain the same for an activity whatever the MC iteration\n",
    "-*biosphere_matrix, technosphere_matrix* change for every MC iteration"
   ]
  },
  {
   "cell_type": "code",
   "execution_count": 8,
   "metadata": {
    "collapsed": true
   },
   "outputs": [],
   "source": [
    "DB_eiv33=bw.Database('ecoinvent 3.3 cutoff')"
   ]
  },
  {
   "cell_type": "code",
   "execution_count": 9,
   "metadata": {},
   "outputs": [
    {
     "name": "stdout",
     "output_type": "stream",
     "text": [
      "Calcul en 0.0010006427764892578 secondes\n",
      "Calcul en 0.2746436595916748 secondes\n"
     ]
    }
   ],
   "source": [
    "act=DB_eiv33.random()\n",
    "fu=1\n",
    "iterations=10\n",
    "matrix_only=True\n",
    "\n",
    "start = time.time()\n",
    "LCA_obj=create_LCA_object(act,fu,ic_name=None)\n",
    "end = time.time()\n",
    "print(\"Calcul en {} secondes\".format(end - start))\n",
    "\n",
    "\n",
    "start = time.time()\n",
    "dict_A_B=create_A_B(LCA_obj)\n",
    "end = time.time()\n",
    "print(\"Calcul en {} secondes\".format(end - start))"
   ]
  },
  {
   "cell_type": "code",
   "execution_count": 10,
   "metadata": {
    "collapsed": true
   },
   "outputs": [
    {
     "data": {
      "text/plain": [
       "{'activity': '978d0459-d542-4858-b4f5-20d579093dc9',\n",
       " 'activity type': 'market activity',\n",
       " 'authors': {'data entry': {'email': 'levova@ecoinvent.org',\n",
       "   'name': 'Tereza Levova'},\n",
       "  'data generator': {'email': 'levova@ecoinvent.org',\n",
       "   'name': 'Tereza Levova'}},\n",
       " 'classifications': [('EcoSpold01Categories', 'biomass/fuels'),\n",
       "  ('ISIC rev.4 ecoinvent',\n",
       "   '3520:Manufacture of gas; distribution of gaseous fuels through mains')],\n",
       " 'code': 'f171dd5c543667e25ad52e80efb83f0c',\n",
       " 'comment': '',\n",
       " 'database': 'ecoinvent 3.3 cutoff',\n",
       " 'filename': '978d0459-d542-4858-b4f5-20d579093dc9_795369c8-09eb-439f-9321-15c0d3be6a6f.spold',\n",
       " 'flow': '795369c8-09eb-439f-9321-15c0d3be6a6f',\n",
       " 'location': 'CH',\n",
       " 'name': 'market for synthetic gas',\n",
       " 'parameters': {},\n",
       " 'production amount': 1.0,\n",
       " 'reference product': 'synthetic gas',\n",
       " 'type': 'process',\n",
       " 'unit': 'cubic meter'}"
      ]
     },
     "execution_count": 10,
     "metadata": {},
     "output_type": "execute_result"
    }
   ],
   "source": [
    "act.as_dict()"
   ]
  },
  {
   "cell_type": "code",
   "execution_count": 11,
   "metadata": {
    "collapsed": true
   },
   "outputs": [],
   "source": [
    "def LCI_MonteCarlo_from_LCA_object(act,fu,LCA_obj,iterations,matrix_only=True,seed=None):\n",
    "    \n",
    "    LCA_obj.fix_dictionaries()\n",
    "    \n",
    "    dict_act_MC_LCA_object={}\n",
    "    dict_act_MC_LCA_object['iterations']=iterations\n",
    "    dict_act_MC_LCA_object['activity key']=act.key\n",
    "    dict_act_MC_LCA_object['classifications']=act.as_dict()['classifications']\n",
    "    dict_act_MC_LCA_object['functional unit']=fu\n",
    "    #dict_act_MC_LCA_object['bio_params']=LCA_obj.bio_params\n",
    "    #dict_act_MC_LCA_object['tech_params']=LCA_obj.tech_params\n",
    "    dict_act_MC_LCA_object['Monte Carlo LCI results']={} \n",
    "    \n",
    "    \n",
    "    LCA_obj.tech_rng = stats_arrays.random.MCRandomNumberGenerator(LCA_obj.tech_params, seed=seed)\n",
    "    LCA_obj.bio_rng = stats_arrays.random.MCRandomNumberGenerator(LCA_obj.bio_params, seed=seed)\n",
    "    \n",
    "    for it in range(iterations):\n",
    "        LCA_obj.rebuild_technosphere_matrix(LCA_obj.tech_rng.next())\n",
    "        LCA_obj.rebuild_biosphere_matrix(LCA_obj.bio_rng.next())\n",
    "        \n",
    "        dict_act_MC_LCA_object['Monte Carlo LCI results'][it]=create_A_B(LCA_obj,matrix_only=matrix_only)\n",
    "        \n",
    "    return dict_act_MC_LCA_object;    "
   ]
  },
  {
   "cell_type": "code",
   "execution_count": 12,
   "metadata": {
    "collapsed": true
   },
   "outputs": [],
   "source": [
    "from bw2calc.utils import extract_uncertainty_fields as euf\n",
    "\n",
    "def LCI_MonteCarlo_from_LCA_object_params(act,fu,LCA_obj,iterations,matrix_only=True,seed=None):\n",
    "    \n",
    "    LCA_obj.fix_dictionaries()\n",
    "    \n",
    "    dict_act_MC_LCA_object={}\n",
    "    dict_act_MC_LCA_object['iterations']=iterations\n",
    "    dict_act_MC_LCA_object['activity key']=act.key\n",
    "    dict_act_MC_LCA_object['classifications']=act.as_dict()['classifications']\n",
    "    dict_act_MC_LCA_object['functional unit']=fu\n",
    "    #dict_act_MC_LCA_object['bio_params']=LCA_obj.bio_params\n",
    "    #dict_act_MC_LCA_object['tech_params']=LCA_obj.tech_params\n",
    "    dict_act_MC_LCA_object['Monte Carlo LCI results']={}\n",
    "    dict_act_MC_LCA_object['LCI params values']={}\n",
    "    \n",
    "    \n",
    "    # In order to store LCI parameters values at each iteration\n",
    "    # useful for sensitivity analysis (Inspired from class ParameterVectorLCA)\n",
    "    positions = {\n",
    "    \"tech\": (0, LCA_obj.tech_params.shape[0]),\n",
    "    \"bio\": (\n",
    "        LCA_obj.tech_params.shape[0],\n",
    "        LCA_obj.tech_params.shape[0] + LCA_obj.bio_params.shape[0]\n",
    "        )\n",
    "    }\n",
    "\n",
    "    # `euf` is extract_uncertainty_fields; needed because we are\n",
    "    # \"gluing\" together arrays with different column numbers and labels\n",
    "    params = (euf(LCA_obj.tech_params), euf(LCA_obj.bio_params))\n",
    "    \n",
    "    LCA_obj.positions = positions\n",
    "    LCA_obj.params = np.hstack(params)\n",
    "    LCA_obj.rng = stats_arrays.random.MCRandomNumberGenerator(LCA_obj.params, seed=seed)\n",
    "    \n",
    "    \n",
    "    #LCA_obj.tech_rng = stats_arrays.random.MCRandomNumberGenerator(LCA_obj.tech_params, seed=seed)\n",
    "    #LCA_obj.bio_rng = stats_arrays.random.MCRandomNumberGenerator(LCA_obj.bio_params, seed=seed)\n",
    "    \n",
    "    for it in range(iterations):\n",
    "        \n",
    "        LCA_obj.sample = (LCA_obj.rng.next()).copy()\n",
    "        LCA_obj.tech_sample=LCA_obj.sample[LCA_obj.positions[\"tech\"][0]:LCA_obj.positions[\"tech\"][1]]\n",
    "        LCA_obj.bio_sample=LCA_obj.sample[LCA_obj.positions[\"bio\"][0]:LCA_obj.positions[\"bio\"][1]]     \n",
    "        \n",
    "        LCA_obj.rebuild_technosphere_matrix(LCA_obj.tech_sample)\n",
    "        LCA_obj.rebuild_biosphere_matrix(LCA_obj.bio_sample)\n",
    "        \n",
    "        dict_act_MC_LCA_object['Monte Carlo LCI results'][it]=create_A_B(LCA_obj,matrix_only=matrix_only)\n",
    "        dict_act_MC_LCA_object['LCI params values'][it]={'tech_sample':LCA_obj.tech_sample,'bio_sample':LCA_obj.bio_sample}\n",
    "        \n",
    "    return dict_act_MC_LCA_object;    "
   ]
  },
  {
   "cell_type": "code",
   "execution_count": 13,
   "metadata": {},
   "outputs": [
    {
     "name": "stdout",
     "output_type": "stream",
     "text": [
      "Calcul en 3.693621873855591 secondes\n",
      "Calcul en 3.662595748901367 secondes\n"
     ]
    }
   ],
   "source": [
    "start = time.time()\n",
    "dict_act_MC_LCA_object_A_B_only_10it_1act=LCI_MonteCarlo_from_LCA_object(act,fu,LCA_obj,iterations,matrix_only,seed=None)\n",
    "end = time.time()\n",
    "print(\"Calcul en {} secondes\".format(end - start))\n",
    "\n",
    "start = time.time()\n",
    "dict_act_MC_LCA_object_A_B_only_10it_1ct_params=LCI_MonteCarlo_from_LCA_object_params(act,fu,LCA_obj,iterations,matrix_only,seed=None)\n",
    "end = time.time()\n",
    "print(\"Calcul en {} secondes\".format(end - start))"
   ]
  },
  {
   "cell_type": "code",
   "execution_count": 14,
   "metadata": {},
   "outputs": [
    {
     "data": {
      "text/plain": [
       "'C:\\\\Users\\\\Laure\\\\Brightway - Notebooks and code\\\\Monte-Carlo\\\\Saved objects'"
      ]
     },
     "execution_count": 14,
     "metadata": {},
     "output_type": "execute_result"
    }
   ],
   "source": [
    "current_path_dir=os.getcwd()\n",
    "path_for_saving=current_path_dir+\"\\\\Saved objects\"\n",
    "path_for_saving"
   ]
  },
  {
   "cell_type": "code",
   "execution_count": 15,
   "metadata": {},
   "outputs": [
    {
     "name": "stdout",
     "output_type": "stream",
     "text": [
      "Calcul en 0.2821519374847412 secondes\n"
     ]
    }
   ],
   "source": [
    "file_path_root=path_for_saving\n",
    "object_name_to_save=dict_act_MC_LCA_object_A_B_only_10it_1act\n",
    "file_name='dict_act_MC_LCA_object_A_B_only_10it_1act'\n",
    "\n",
    "start = time.time()\n",
    "pickle_save(file_path_root,object_name_to_save,file_name)\n",
    "end = time.time()\n",
    "print(\"Calcul en {} secondes\".format(end - start))"
   ]
  },
  {
   "cell_type": "code",
   "execution_count": 16,
   "metadata": {},
   "outputs": [
    {
     "name": "stdout",
     "output_type": "stream",
     "text": [
      "Calcul en 0.4655475616455078 secondes\n"
     ]
    }
   ],
   "source": [
    "file_path_root=path_for_saving\n",
    "object_name_to_save=dict_act_MC_LCA_object_A_B_only_10it_1ct_params\n",
    "file_name='dict_act_MC_LCA_object_A_B_only_10it_1ct_params'\n",
    "\n",
    "start = time.time()\n",
    "pickle_save(file_path_root,object_name_to_save,file_name)\n",
    "end = time.time()\n",
    "print(\"Calcul en {} secondes\".format(end - start))"
   ]
  },
  {
   "cell_type": "code",
   "execution_count": 18,
   "metadata": {
    "collapsed": true
   },
   "outputs": [
    {
     "data": {
      "text/plain": [
       "{'Monte Carlo LCI results': {0: {'biosphere_matrix': <1960x13831 sparse matrix of type '<class 'numpy.float64'>'\n",
       "   \twith 353369 stored elements in Compressed Sparse Row format>,\n",
       "   'technosphere_matrix': <13831x13831 sparse matrix of type '<class 'numpy.float64'>'\n",
       "   \twith 147427 stored elements in Compressed Sparse Row format>},\n",
       "  1: {'biosphere_matrix': <1960x13831 sparse matrix of type '<class 'numpy.float64'>'\n",
       "   \twith 353369 stored elements in Compressed Sparse Row format>,\n",
       "   'technosphere_matrix': <13831x13831 sparse matrix of type '<class 'numpy.float64'>'\n",
       "   \twith 147427 stored elements in Compressed Sparse Row format>},\n",
       "  2: {'biosphere_matrix': <1960x13831 sparse matrix of type '<class 'numpy.float64'>'\n",
       "   \twith 353369 stored elements in Compressed Sparse Row format>,\n",
       "   'technosphere_matrix': <13831x13831 sparse matrix of type '<class 'numpy.float64'>'\n",
       "   \twith 147427 stored elements in Compressed Sparse Row format>},\n",
       "  3: {'biosphere_matrix': <1960x13831 sparse matrix of type '<class 'numpy.float64'>'\n",
       "   \twith 353369 stored elements in Compressed Sparse Row format>,\n",
       "   'technosphere_matrix': <13831x13831 sparse matrix of type '<class 'numpy.float64'>'\n",
       "   \twith 147427 stored elements in Compressed Sparse Row format>},\n",
       "  4: {'biosphere_matrix': <1960x13831 sparse matrix of type '<class 'numpy.float64'>'\n",
       "   \twith 353369 stored elements in Compressed Sparse Row format>,\n",
       "   'technosphere_matrix': <13831x13831 sparse matrix of type '<class 'numpy.float64'>'\n",
       "   \twith 147427 stored elements in Compressed Sparse Row format>},\n",
       "  5: {'biosphere_matrix': <1960x13831 sparse matrix of type '<class 'numpy.float64'>'\n",
       "   \twith 353369 stored elements in Compressed Sparse Row format>,\n",
       "   'technosphere_matrix': <13831x13831 sparse matrix of type '<class 'numpy.float64'>'\n",
       "   \twith 147427 stored elements in Compressed Sparse Row format>},\n",
       "  6: {'biosphere_matrix': <1960x13831 sparse matrix of type '<class 'numpy.float64'>'\n",
       "   \twith 353369 stored elements in Compressed Sparse Row format>,\n",
       "   'technosphere_matrix': <13831x13831 sparse matrix of type '<class 'numpy.float64'>'\n",
       "   \twith 147427 stored elements in Compressed Sparse Row format>},\n",
       "  7: {'biosphere_matrix': <1960x13831 sparse matrix of type '<class 'numpy.float64'>'\n",
       "   \twith 353369 stored elements in Compressed Sparse Row format>,\n",
       "   'technosphere_matrix': <13831x13831 sparse matrix of type '<class 'numpy.float64'>'\n",
       "   \twith 147427 stored elements in Compressed Sparse Row format>},\n",
       "  8: {'biosphere_matrix': <1960x13831 sparse matrix of type '<class 'numpy.float64'>'\n",
       "   \twith 353369 stored elements in Compressed Sparse Row format>,\n",
       "   'technosphere_matrix': <13831x13831 sparse matrix of type '<class 'numpy.float64'>'\n",
       "   \twith 147427 stored elements in Compressed Sparse Row format>},\n",
       "  9: {'biosphere_matrix': <1960x13831 sparse matrix of type '<class 'numpy.float64'>'\n",
       "   \twith 353369 stored elements in Compressed Sparse Row format>,\n",
       "   'technosphere_matrix': <13831x13831 sparse matrix of type '<class 'numpy.float64'>'\n",
       "   \twith 147427 stored elements in Compressed Sparse Row format>}},\n",
       " 'activity key': ('ecoinvent 3.3 cutoff', '8a55245df613eb30f4428e66378a20c3'),\n",
       " 'bio_params': array([ (   1,  5016,    0,    57, 2, 2,   6.14740129e-05,  -9.6968956 ,  0.28495613,  nan,  nan,  nan, False),\n",
       "        (   1,  5029,    0,    70, 2, 2,   4.99028010e-06, -12.2080183 ,  0.24617067,  nan,  nan,  nan, False),\n",
       "        (   1,  5100,    0,   141, 2, 2,   2.76879007e-07, -15.09968567,  0.05744563,  nan,  nan,  nan, False),\n",
       "        ...,\n",
       "        (4026, 18773, 1958, 13814, 2, 2,   1.80029136e-04,  -8.6223917 ,  0.57445627,  nan,  nan,  nan, False),\n",
       "        (4029, 14719, 1959,  9760, 2, 2,   3.42019997e-03,  -5.67805624,  0.4669047 ,  nan,  nan,  nan, False),\n",
       "        (4029, 16287, 1959, 11328, 2, 2,   3.42019997e-03,  -5.67805624,  0.4669047 ,  nan,  nan,  nan, False)], \n",
       "       dtype=[('input', '<u4'), ('output', '<u4'), ('row', '<u4'), ('col', '<u4'), ('type', 'u1'), ('uncertainty_type', 'u1'), ('amount', '<f4'), ('loc', '<f4'), ('scale', '<f4'), ('shape', '<f4'), ('minimum', '<f4'), ('maximum', '<f4'), ('negative', '?')]),\n",
       " 'classifications': [('ISIC rev.4 ecoinvent',\n",
       "   '2710:Manufacture of electric motors, generators, transformers and electricity di'),\n",
       "  ('EcoSpold01Categories', 'oil/cogeneration')],\n",
       " 'functional unit': 1,\n",
       " 'iterations': 10,\n",
       " 'tech_params': array([ ( 4959, 4959,     0,    0, 0, 0,  1.        ,  1.        ,  nan,  nan,  nan,  nan, False),\n",
       "        ( 4960, 4960,     1,    1, 0, 0,  1.        ,  1.        ,  nan,  nan,  nan,  nan, False),\n",
       "        ( 4961, 4961,     2,    2, 0, 0,  1.        ,  1.        ,  nan,  nan,  nan,  nan, False),\n",
       "        ...,\n",
       "        (18787, 5952, 13828,  993, 1, 0, -0.99901086, -0.99901086,  nan,  nan,  nan,  nan,  True),\n",
       "        (18788, 6582, 13829, 1623, 1, 0,  0.95062798,  0.95062798,  nan,  nan,  nan,  nan, False),\n",
       "        (18789, 9217, 13830, 4258, 1, 0,  0.99158311,  0.99158311,  nan,  nan,  nan,  nan, False)], \n",
       "       dtype=[('input', '<u4'), ('output', '<u4'), ('row', '<u4'), ('col', '<u4'), ('type', 'u1'), ('uncertainty_type', 'u1'), ('amount', '<f4'), ('loc', '<f4'), ('scale', '<f4'), ('shape', '<f4'), ('minimum', '<f4'), ('maximum', '<f4'), ('negative', '?')])}"
      ]
     },
     "execution_count": 18,
     "metadata": {},
     "output_type": "execute_result"
    }
   ],
   "source": [
    "dict_act_MC_LCA_object"
   ]
  },
  {
   "cell_type": "code",
   "execution_count": 19,
   "metadata": {
    "collapsed": true
   },
   "outputs": [
    {
     "data": {
      "text/plain": [
       "{'LCI params values': {0: {'bio_sample': array([  6.80218176e-05,   6.75584498e-06,   2.65238031e-07, ...,\n",
       "            1.81643585e-04,   4.85339759e-03,   1.40998506e-03]),\n",
       "   'tech_sample': array([ 1.        ,  1.        ,  1.        , ..., -0.99901086,\n",
       "           0.95062798,  0.99158311])},\n",
       "  1: {'bio_sample': array([  9.20649337e-05,   7.72893635e-06,   2.92778103e-07, ...,\n",
       "            1.24551225e-04,   2.03781673e-03,   1.36074204e-03]),\n",
       "   'tech_sample': array([ 1.        ,  1.        ,  1.        , ..., -0.99901086,\n",
       "           0.95062798,  0.99158311])},\n",
       "  2: {'bio_sample': array([  3.89510175e-05,   4.98103755e-06,   2.72218821e-07, ...,\n",
       "            2.29476828e-04,   6.14485700e-03,   2.97253798e-03]),\n",
       "   'tech_sample': array([ 1.        ,  1.        ,  1.        , ..., -0.99901086,\n",
       "           0.95062798,  0.99158311])},\n",
       "  3: {'bio_sample': array([  2.85315978e-05,   5.56493061e-06,   2.93496712e-07, ...,\n",
       "            1.78617835e-04,   3.31160848e-03,   3.67061081e-03]),\n",
       "   'tech_sample': array([ 1.        ,  1.        ,  1.        , ..., -0.99901086,\n",
       "           0.95062798,  0.99158311])},\n",
       "  4: {'bio_sample': array([  7.16624735e-05,   4.54544839e-06,   2.89833413e-07, ...,\n",
       "            1.97409375e-04,   1.95886341e-03,   4.29381756e-03]),\n",
       "   'tech_sample': array([ 1.        ,  1.        ,  1.        , ..., -0.99901086,\n",
       "           0.95062798,  0.99158311])},\n",
       "  5: {'bio_sample': array([  5.24846535e-05,   3.42842885e-06,   2.98926190e-07, ...,\n",
       "            1.92436640e-04,   6.68766439e-03,   3.73308588e-03]),\n",
       "   'tech_sample': array([ 1.        ,  1.        ,  1.        , ..., -0.99901086,\n",
       "           0.95062798,  0.99158311])},\n",
       "  6: {'bio_sample': array([  6.05669103e-05,   9.44646795e-06,   2.83866101e-07, ...,\n",
       "            1.34968008e-04,   4.82520755e-03,   6.05666720e-03]),\n",
       "   'tech_sample': array([ 1.        ,  1.        ,  1.        , ..., -0.99901086,\n",
       "           0.95062798,  0.99158311])},\n",
       "  7: {'bio_sample': array([  5.53419925e-05,   3.13018223e-06,   2.79489064e-07, ...,\n",
       "            1.61588554e-04,   2.79014176e-03,   4.14842970e-03]),\n",
       "   'tech_sample': array([ 1.        ,  1.        ,  1.        , ..., -0.99901086,\n",
       "           0.95062798,  0.99158311])},\n",
       "  8: {'bio_sample': array([  3.76518141e-05,   5.40960404e-06,   2.62319180e-07, ...,\n",
       "            1.40603099e-03,   1.62003660e-03,   3.12087095e-03]),\n",
       "   'tech_sample': array([ 1.        ,  1.        ,  1.        , ..., -0.99901086,\n",
       "           0.95062798,  0.99158311])},\n",
       "  9: {'bio_sample': array([  8.59476621e-05,   3.09741753e-06,   2.84063223e-07, ...,\n",
       "            2.11225475e-04,   2.10930796e-03,   3.21667277e-03]),\n",
       "   'tech_sample': array([ 1.        ,  1.        ,  1.        , ..., -0.99901086,\n",
       "           0.95062798,  0.99158311])}},\n",
       " 'Monte Carlo LCI results': {0: {'biosphere_matrix': <1960x13831 sparse matrix of type '<class 'numpy.float64'>'\n",
       "   \twith 353369 stored elements in Compressed Sparse Row format>,\n",
       "   'technosphere_matrix': <13831x13831 sparse matrix of type '<class 'numpy.float64'>'\n",
       "   \twith 147427 stored elements in Compressed Sparse Row format>},\n",
       "  1: {'biosphere_matrix': <1960x13831 sparse matrix of type '<class 'numpy.float64'>'\n",
       "   \twith 353369 stored elements in Compressed Sparse Row format>,\n",
       "   'technosphere_matrix': <13831x13831 sparse matrix of type '<class 'numpy.float64'>'\n",
       "   \twith 147427 stored elements in Compressed Sparse Row format>},\n",
       "  2: {'biosphere_matrix': <1960x13831 sparse matrix of type '<class 'numpy.float64'>'\n",
       "   \twith 353369 stored elements in Compressed Sparse Row format>,\n",
       "   'technosphere_matrix': <13831x13831 sparse matrix of type '<class 'numpy.float64'>'\n",
       "   \twith 147427 stored elements in Compressed Sparse Row format>},\n",
       "  3: {'biosphere_matrix': <1960x13831 sparse matrix of type '<class 'numpy.float64'>'\n",
       "   \twith 353369 stored elements in Compressed Sparse Row format>,\n",
       "   'technosphere_matrix': <13831x13831 sparse matrix of type '<class 'numpy.float64'>'\n",
       "   \twith 147427 stored elements in Compressed Sparse Row format>},\n",
       "  4: {'biosphere_matrix': <1960x13831 sparse matrix of type '<class 'numpy.float64'>'\n",
       "   \twith 353369 stored elements in Compressed Sparse Row format>,\n",
       "   'technosphere_matrix': <13831x13831 sparse matrix of type '<class 'numpy.float64'>'\n",
       "   \twith 147427 stored elements in Compressed Sparse Row format>},\n",
       "  5: {'biosphere_matrix': <1960x13831 sparse matrix of type '<class 'numpy.float64'>'\n",
       "   \twith 353369 stored elements in Compressed Sparse Row format>,\n",
       "   'technosphere_matrix': <13831x13831 sparse matrix of type '<class 'numpy.float64'>'\n",
       "   \twith 147427 stored elements in Compressed Sparse Row format>},\n",
       "  6: {'biosphere_matrix': <1960x13831 sparse matrix of type '<class 'numpy.float64'>'\n",
       "   \twith 353369 stored elements in Compressed Sparse Row format>,\n",
       "   'technosphere_matrix': <13831x13831 sparse matrix of type '<class 'numpy.float64'>'\n",
       "   \twith 147427 stored elements in Compressed Sparse Row format>},\n",
       "  7: {'biosphere_matrix': <1960x13831 sparse matrix of type '<class 'numpy.float64'>'\n",
       "   \twith 353369 stored elements in Compressed Sparse Row format>,\n",
       "   'technosphere_matrix': <13831x13831 sparse matrix of type '<class 'numpy.float64'>'\n",
       "   \twith 147427 stored elements in Compressed Sparse Row format>},\n",
       "  8: {'biosphere_matrix': <1960x13831 sparse matrix of type '<class 'numpy.float64'>'\n",
       "   \twith 353369 stored elements in Compressed Sparse Row format>,\n",
       "   'technosphere_matrix': <13831x13831 sparse matrix of type '<class 'numpy.float64'>'\n",
       "   \twith 147427 stored elements in Compressed Sparse Row format>},\n",
       "  9: {'biosphere_matrix': <1960x13831 sparse matrix of type '<class 'numpy.float64'>'\n",
       "   \twith 353369 stored elements in Compressed Sparse Row format>,\n",
       "   'technosphere_matrix': <13831x13831 sparse matrix of type '<class 'numpy.float64'>'\n",
       "   \twith 147427 stored elements in Compressed Sparse Row format>}},\n",
       " 'activity key': ('ecoinvent 3.3 cutoff', '8a55245df613eb30f4428e66378a20c3'),\n",
       " 'bio_params': array([ (   1,  5016,    0,    57, 2, 2,   6.14740129e-05,  -9.6968956 ,  0.28495613,  nan,  nan,  nan, False),\n",
       "        (   1,  5029,    0,    70, 2, 2,   4.99028010e-06, -12.2080183 ,  0.24617067,  nan,  nan,  nan, False),\n",
       "        (   1,  5100,    0,   141, 2, 2,   2.76879007e-07, -15.09968567,  0.05744563,  nan,  nan,  nan, False),\n",
       "        ...,\n",
       "        (4026, 18773, 1958, 13814, 2, 2,   1.80029136e-04,  -8.6223917 ,  0.57445627,  nan,  nan,  nan, False),\n",
       "        (4029, 14719, 1959,  9760, 2, 2,   3.42019997e-03,  -5.67805624,  0.4669047 ,  nan,  nan,  nan, False),\n",
       "        (4029, 16287, 1959, 11328, 2, 2,   3.42019997e-03,  -5.67805624,  0.4669047 ,  nan,  nan,  nan, False)], \n",
       "       dtype=[('input', '<u4'), ('output', '<u4'), ('row', '<u4'), ('col', '<u4'), ('type', 'u1'), ('uncertainty_type', 'u1'), ('amount', '<f4'), ('loc', '<f4'), ('scale', '<f4'), ('shape', '<f4'), ('minimum', '<f4'), ('maximum', '<f4'), ('negative', '?')]),\n",
       " 'classifications': [('ISIC rev.4 ecoinvent',\n",
       "   '2710:Manufacture of electric motors, generators, transformers and electricity di'),\n",
       "  ('EcoSpold01Categories', 'oil/cogeneration')],\n",
       " 'functional unit': 1,\n",
       " 'iterations': 10,\n",
       " 'tech_params': array([ ( 4959, 4959,     0,    0, 0, 0,  1.        ,  1.        ,  nan,  nan,  nan,  nan, False),\n",
       "        ( 4960, 4960,     1,    1, 0, 0,  1.        ,  1.        ,  nan,  nan,  nan,  nan, False),\n",
       "        ( 4961, 4961,     2,    2, 0, 0,  1.        ,  1.        ,  nan,  nan,  nan,  nan, False),\n",
       "        ...,\n",
       "        (18787, 5952, 13828,  993, 1, 0, -0.99901086, -0.99901086,  nan,  nan,  nan,  nan,  True),\n",
       "        (18788, 6582, 13829, 1623, 1, 0,  0.95062798,  0.95062798,  nan,  nan,  nan,  nan, False),\n",
       "        (18789, 9217, 13830, 4258, 1, 0,  0.99158311,  0.99158311,  nan,  nan,  nan,  nan, False)], \n",
       "       dtype=[('input', '<u4'), ('output', '<u4'), ('row', '<u4'), ('col', '<u4'), ('type', 'u1'), ('uncertainty_type', 'u1'), ('amount', '<f4'), ('loc', '<f4'), ('scale', '<f4'), ('shape', '<f4'), ('minimum', '<f4'), ('maximum', '<f4'), ('negative', '?')])}"
      ]
     },
     "execution_count": 19,
     "metadata": {},
     "output_type": "execute_result"
    }
   ],
   "source": [
    "dict_act_MC_LCA_object_params"
   ]
  },
  {
   "cell_type": "code",
   "execution_count": 49,
   "metadata": {
    "collapsed": true
   },
   "outputs": [],
   "source": [
    "file_path_root=r'C:\\bw2-python\\Notebook - tutorial\\IW+ integration\\Pickle Python object saved'\n",
    "object_name_to_save=dict_act_MC_LCA_object\n",
    "file_name='dict_act_MC_LCA_object_matrix_only'\n",
    "\n",
    "dict_act_MC_LCA_object_load=pickle_load(file_path_root,file_name)"
   ]
  },
  {
   "cell_type": "markdown",
   "metadata": {},
   "source": [
    "Store results with HDF5"
   ]
  },
  {
   "cell_type": "code",
   "execution_count": null,
   "metadata": {
    "collapsed": true
   },
   "outputs": [],
   "source": []
  },
  {
   "cell_type": "code",
   "execution_count": null,
   "metadata": {
    "collapsed": true
   },
   "outputs": [],
   "source": []
  },
  {
   "cell_type": "markdown",
   "metadata": {
    "collapsed": true
   },
   "source": [
    "## Storage using big data package "
   ]
  },
  {
   "cell_type": "markdown",
   "metadata": {},
   "source": [
    "HDF5 format: http://deusyss.developpez.com/tutoriels/Python/hdf5/\n",
    "\n",
    "\n",
    "Same size in MB than with pickle"
   ]
  },
  {
   "cell_type": "code",
   "execution_count": 11,
   "metadata": {},
   "outputs": [
    {
     "name": "stdout",
     "output_type": "stream",
     "text": [
      "10 000 données modifiées en 3.2879414558410645 secondes\n"
     ]
    }
   ],
   "source": [
    "import h5py\n",
    "import time\n",
    "import numpy as np\n",
    "\n",
    "# Création d'une matrice\n",
    "mon_tableau = np.ones((10000, 10000))\n",
    "\n",
    "# création du fichier hdf5\n",
    "mon_fichier = h5py.File(r'C:\\Users\\Laure\\Brightway - Notebook\\Notebook - tutorial\\IW+ integration\\HDF5 object saved\\mon_fichier.hdf5', 'a')\n",
    "mon_dataset = mon_fichier.create_dataset(\"fichier de demo2\", data=mon_tableau)\n",
    "mon_fichier.flush()\n",
    "\n",
    "# Maintenant les données numériques sont aisément accessible\n",
    "start = time.time()\n",
    "mon_dataset[:, 2] = 56 * mon_dataset[:, 3]\n",
    "end = time.time()\n",
    "print(\"10 000 données modifiées en {} secondes\".format(end - start))\n",
    "\n",
    "mon_fichier.close()"
   ]
  },
  {
   "cell_type": "code",
   "execution_count": 12,
   "metadata": {
    "collapsed": true
   },
   "outputs": [],
   "source": [
    "file_path_root=r'C:\\Users\\Laure\\Brightway - Notebook\\Notebook - tutorial\\IW+ integration\\HDF5 object saved'\n",
    "object_name_to_save=mon_tableau\n",
    "file_name='mon_fichier'\n",
    "\n",
    "pickle_save(file_path_root,object_name_to_save,file_name)"
   ]
  },
  {
   "cell_type": "code",
   "execution_count": 13,
   "metadata": {
    "collapsed": true
   },
   "outputs": [],
   "source": [
    "mon_fichier = h5py.File(r'C:\\Users\\Laure\\Brightway - Notebook\\Notebook - tutorial\\IW+ integration\\HDF5 object saved\\mon_fichier.hdf5', 'a')"
   ]
  },
  {
   "cell_type": "code",
   "execution_count": 23,
   "metadata": {
    "collapsed": true
   },
   "outputs": [],
   "source": [
    "dataset_from_h5py=mon_fichier.get(\"fichier de demo2\")"
   ]
  },
  {
   "cell_type": "markdown",
   "metadata": {},
   "source": [
    "Convert dataset in numpy array"
   ]
  },
  {
   "cell_type": "code",
   "execution_count": 28,
   "metadata": {
    "collapsed": true
   },
   "outputs": [],
   "source": [
    "array=np.array(dataset_from_h5py)"
   ]
  },
  {
   "cell_type": "code",
   "execution_count": 29,
   "metadata": {},
   "outputs": [
    {
     "data": {
      "text/plain": [
       "array([[  1.,   1.,  56., ...,   1.,   1.,   1.],\n",
       "       [  1.,   1.,  56., ...,   1.,   1.,   1.],\n",
       "       [  1.,   1.,  56., ...,   1.,   1.,   1.],\n",
       "       ..., \n",
       "       [  1.,   1.,  56., ...,   1.,   1.,   1.],\n",
       "       [  1.,   1.,  56., ...,   1.,   1.,   1.],\n",
       "       [  1.,   1.,  56., ...,   1.,   1.,   1.]])"
      ]
     },
     "execution_count": 29,
     "metadata": {},
     "output_type": "execute_result"
    }
   ],
   "source": [
    "array"
   ]
  },
  {
   "cell_type": "code",
   "execution_count": 31,
   "metadata": {},
   "outputs": [
    {
     "data": {
      "text/plain": [
       "(10000, numpy.ndarray)"
      ]
     },
     "execution_count": 31,
     "metadata": {},
     "output_type": "execute_result"
    }
   ],
   "source": [
    "len(array), type(array)"
   ]
  },
  {
   "cell_type": "code",
   "execution_count": null,
   "metadata": {
    "collapsed": true
   },
   "outputs": [],
   "source": []
  }
 ],
 "metadata": {
  "kernelspec": {
   "display_name": "Python 3",
   "language": "python",
   "name": "python3"
  },
  "language_info": {
   "codemirror_mode": {
    "name": "ipython",
    "version": 3
   },
   "file_extension": ".py",
   "mimetype": "text/x-python",
   "name": "python",
   "nbconvert_exporter": "python",
   "pygments_lexer": "ipython3",
   "version": "3.6.2"
  }
 },
 "nbformat": 4,
 "nbformat_minor": 1
}
