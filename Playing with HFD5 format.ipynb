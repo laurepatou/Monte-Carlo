{
 "cells": [
  {
   "cell_type": "code",
   "execution_count": 144,
   "metadata": {
    "collapsed": true
   },
   "outputs": [],
   "source": [
    "simple_dict_test={'key_1':'value_key_1',\n",
    "                  'key_2':{'key_21':'value_key_21',\n",
    "                           'key_22':{'key_221':'value_key_221','key_222':[2,2,2],'key_223':[2,2,3]}}}"
   ]
  },
  {
   "cell_type": "code",
   "execution_count": 145,
   "metadata": {},
   "outputs": [
    {
     "data": {
      "text/plain": [
       "{'key_1': 'value_key_1',\n",
       " 'key_2': {'key_21': 'value_key_21',\n",
       "  'key_22': {'key_221': 'value_key_221',\n",
       "   'key_222': [2, 2, 2],\n",
       "   'key_223': [2, 2, 3]}}}"
      ]
     },
     "execution_count": 145,
     "metadata": {},
     "output_type": "execute_result"
    }
   ],
   "source": [
    "simple_dict_test"
   ]
  },
  {
   "cell_type": "code",
   "execution_count": 143,
   "metadata": {},
   "outputs": [],
   "source": [
    "def from_multidim_dict_to_dict_with_paths(multidim_dict):\n",
    "\n",
    "    #create a copy of the dict to explore\n",
    "    multidim_dict_copy=multidim_dict.copy()\n",
    "\n",
    "    #create a flat dictionary with path as keys and real data to store as value\n",
    "    dict_with_paths={}\n",
    "\n",
    "    #create the list of keys in the first dictionary\n",
    "    keys_list=list(multidim_dict_copy.keys())\n",
    "    key_path=''\n",
    "\n",
    "    i_1=0\n",
    "\n",
    "    while keys_list!=[]:\n",
    "\n",
    "        i_1=i_1+1\n",
    "\n",
    "        current_dict=multidim_dict_copy\n",
    "\n",
    "        #and list(current_dict.keys())!=[]\n",
    "\n",
    "        while type(current_dict)==dict:\n",
    "            keys_list=list(current_dict.keys())\n",
    "\n",
    "            if keys_list!=[]:\n",
    "                key=keys_list[0]\n",
    "                key_path=key_path+'/'+key\n",
    "                old_dict=current_dict\n",
    "                old_key=key\n",
    "                current_dict=current_dict[key]\n",
    "            else:\n",
    "                #remove the value in the copy of dictionary\n",
    "                del old_dict[old_key]\n",
    "                break\n",
    "\n",
    "        else:\n",
    "\n",
    "            dict_with_paths[key_path]=current_dict\n",
    "            key_path=''\n",
    "\n",
    "            #remove the value in the copy of dictionary\n",
    "            del old_dict[old_key]\n",
    "\n",
    "            #update the key list\n",
    "            keys_list=list(multidim_dict_copy.keys())\n",
    "\n",
    "    else:\n",
    "        print(\"Dictionary with paths as keys as needed in HDF5 format is ready\")\n",
    "\n",
    "    return dict_with_paths;"
   ]
  },
  {
   "cell_type": "code",
   "execution_count": 146,
   "metadata": {},
   "outputs": [
    {
     "name": "stdout",
     "output_type": "stream",
     "text": [
      "Dictionary with paths as keys as needed in HDF5 format is ready\n"
     ]
    }
   ],
   "source": [
    "dict_with_paths_1=from_multidim_dict_to_dict_with_paths(simple_dict_test)"
   ]
  },
  {
   "cell_type": "code",
   "execution_count": 147,
   "metadata": {},
   "outputs": [
    {
     "data": {
      "text/plain": [
       "{'/key_1': 'value_key_1',\n",
       " '/key_2/key_21': 'value_key_21',\n",
       " '/key_2/key_22/key_221': 'value_key_221',\n",
       " '/key_2/key_22/key_222': [2, 2, 2],\n",
       " '/key_2/key_22/key_223': [2, 2, 3]}"
      ]
     },
     "execution_count": 147,
     "metadata": {},
     "output_type": "execute_result"
    }
   ],
   "source": [
    "dict_with_paths_1"
   ]
  },
  {
   "cell_type": "code",
   "execution_count": null,
   "metadata": {
    "collapsed": true
   },
   "outputs": [],
   "source": []
  }
 ],
 "metadata": {
  "kernelspec": {
   "display_name": "Python 3",
   "language": "python",
   "name": "python3"
  },
  "language_info": {
   "codemirror_mode": {
    "name": "ipython",
    "version": 3
   },
   "file_extension": ".py",
   "mimetype": "text/x-python",
   "name": "python",
   "nbconvert_exporter": "python",
   "pygments_lexer": "ipython3",
   "version": "3.6.1"
  }
 },
 "nbformat": 4,
 "nbformat_minor": 2
}
