{
 "cells": [
  {
   "cell_type": "markdown",
   "metadata": {},
   "source": [
    "## Function to create a dictionary with keys as path for hdf5 format"
   ]
  },
  {
   "cell_type": "code",
   "execution_count": 2,
   "metadata": {
    "collapsed": true
   },
   "outputs": [],
   "source": [
    "simple_dict_test={'key_1':'value_key_1',\n",
    "                  'key_2':{'key_21':{211:'value_key_211',\n",
    "                                     212:[2,1,2],\n",
    "                                     213:[2,1,3]},\n",
    "                           'key_22':{221:'value_key_221',\n",
    "                                     222:[2,2,2],\n",
    "                                     223:[2,2,3]}}}"
   ]
  },
  {
   "cell_type": "code",
   "execution_count": 3,
   "metadata": {},
   "outputs": [
    {
     "data": {
      "text/plain": [
       "{'key_1': 'value_key_1',\n",
       " 'key_2': {'key_21': {211: 'value_key_211', 212: [2, 1, 2], 213: [2, 1, 3]},\n",
       "  'key_22': {221: 'value_key_221', 222: [2, 2, 2], 223: [2, 2, 3]}}}"
      ]
     },
     "execution_count": 3,
     "metadata": {},
     "output_type": "execute_result"
    }
   ],
   "source": [
    "simple_dict_test"
   ]
  },
  {
   "cell_type": "code",
   "execution_count": 1,
   "metadata": {
    "collapsed": true
   },
   "outputs": [],
   "source": [
    "import copy\n",
    "\n",
    "def searching_for_values(old_dict,old_key,current_dict,key_path):\n",
    "    \n",
    "    if type(current_dict)!=dict:\n",
    "        value=current_dict\n",
    "        path=key_path\n",
    "        \n",
    "        del old_dict[old_key]\n",
    "        \n",
    "        return (path,value);\n",
    "    \n",
    "    elif current_dict=={}:\n",
    "        del old_dict[old_key]\n",
    "        \n",
    "        to_return=\"leaf with no value\"\n",
    "        \n",
    "        return to_return;\n",
    "    \n",
    "    else:\n",
    "        keys_list=list(current_dict.keys())\n",
    "        key=keys_list[0]\n",
    "        key_path=key_path+'/'+str(key)\n",
    "        old_dict=current_dict\n",
    "        old_key=key\n",
    "        current_dict=current_dict[key]\n",
    "        \n",
    "        return searching_for_values(old_dict,old_key,current_dict,key_path);\n",
    "    \n",
    "    \n",
    "def from_multidim_dict_to_dict_with_paths(multidim_dict):\n",
    "\n",
    "    #create a copy of the dict to explore\n",
    "    multidim_dict_copy=copy.deepcopy(multidim_dict)\n",
    "\n",
    "    #create a flat dictionary with path as keys and real data to store as value\n",
    "    dict_with_paths={}\n",
    "        \n",
    "    #create the list of keys in the first dictionary\n",
    "    keys_list=list(multidim_dict_copy.keys())\n",
    "    key_path=''\n",
    "    \n",
    "    while keys_list!=[]:\n",
    "\n",
    "        current_dict=multidim_dict_copy\n",
    "        \n",
    "        #Search for values in the tree\n",
    "        old_dict=current_dict\n",
    "        old_key=keys_list[0]\n",
    "        value_found=searching_for_values(old_dict,old_key,current_dict,key_path)\n",
    "        \n",
    "        print(value_found)\n",
    "        \n",
    "        #Write value in dictionary with paths\n",
    "        if value_found!=\"leaf with no value\":\n",
    "            dict_with_paths[value_found[0]]=value_found[1]\n",
    "            \n",
    "        #update the key list\n",
    "        key_path=''\n",
    "        keys_list=list(multidim_dict_copy.keys())\n",
    "        \n",
    "    else:\n",
    "        print(\"Dictionary with paths as keys as needed in HDF5 format is ready\")\n",
    "\n",
    "    return dict_with_paths;    "
   ]
  },
  {
   "cell_type": "code",
   "execution_count": 5,
   "metadata": {},
   "outputs": [
    {
     "name": "stdout",
     "output_type": "stream",
     "text": [
      "('/key_1', 'value_key_1')\n",
      "('/key_2/key_21/211', 'value_key_211')\n",
      "('/key_2/key_21/212', [2, 1, 2])\n",
      "('/key_2/key_21/213', [2, 1, 3])\n",
      "leaf with no value\n",
      "('/key_2/key_22/221', 'value_key_221')\n",
      "('/key_2/key_22/222', [2, 2, 2])\n",
      "('/key_2/key_22/223', [2, 2, 3])\n",
      "leaf with no value\n",
      "leaf with no value\n",
      "Dictionary with paths as keys as needed in HDF5 format is ready\n"
     ]
    }
   ],
   "source": [
    "dict_with_paths=from_multidim_dict_to_dict_with_paths(simple_dict_test)"
   ]
  },
  {
   "cell_type": "code",
   "execution_count": 6,
   "metadata": {},
   "outputs": [
    {
     "data": {
      "text/plain": [
       "{'/key_1': 'value_key_1',\n",
       " '/key_2/key_21/211': 'value_key_211',\n",
       " '/key_2/key_21/212': [2, 1, 2],\n",
       " '/key_2/key_21/213': [2, 1, 3],\n",
       " '/key_2/key_22/221': 'value_key_221',\n",
       " '/key_2/key_22/222': [2, 2, 2],\n",
       " '/key_2/key_22/223': [2, 2, 3]}"
      ]
     },
     "execution_count": 6,
     "metadata": {},
     "output_type": "execute_result"
    }
   ],
   "source": [
    "dict_with_paths"
   ]
  },
  {
   "cell_type": "code",
   "execution_count": 34,
   "metadata": {},
   "outputs": [
    {
     "name": "stdout",
     "output_type": "stream",
     "text": [
      "/key_1\n",
      "/key_2/key_21/211\n",
      "/key_2/key_21/212\n",
      "/key_2/key_21/213\n",
      "/key_2/key_22/221\n",
      "/key_2/key_22/222\n",
      "/key_2/key_22/223\n"
     ]
    }
   ],
   "source": [
    "import h5py\n",
    "\n",
    "current_path_dir=os.getcwd()\n",
    "path_for_saving=current_path_dir+\"\\\\Saved objects\"\n",
    "path_for_saving\n",
    "\n",
    "hdf5_file_name_1=\"test_multidict_stored.hdf5\"\n",
    "hdf5_file=h5py.File(path_for_saving+\"\\\\\"+hdf5_file_name_1,'a')\n",
    "\n",
    "for path in dict_with_paths:\n",
    "    \n",
    "    print(path)\n",
    "    hdf5_file.create_dataset(path,data=dict_with_paths[path])\n",
    "\n",
    "hdf5_file.close()"
   ]
  },
  {
   "cell_type": "code",
   "execution_count": 33,
   "metadata": {
    "collapsed": true
   },
   "outputs": [],
   "source": [
    "#hdf5_file.clear()"
   ]
  },
  {
   "cell_type": "markdown",
   "metadata": {},
   "source": [
    "## Function to retrieve a multidictionary from HFD5 file"
   ]
  },
  {
   "cell_type": "code",
   "execution_count": 2,
   "metadata": {},
   "outputs": [
    {
     "ename": "NameError",
     "evalue": "name 'path_for_saving' is not defined",
     "output_type": "error",
     "traceback": [
      "\u001b[1;31m---------------------------------------------------------------------------\u001b[0m",
      "\u001b[1;31mNameError\u001b[0m                                 Traceback (most recent call last)",
      "\u001b[1;32m<ipython-input-2-332826ef0261>\u001b[0m in \u001b[0;36m<module>\u001b[1;34m()\u001b[0m\n\u001b[0;32m      1\u001b[0m \u001b[0mhdf5_file_name_1\u001b[0m\u001b[1;33m=\u001b[0m\u001b[1;34m\"test_multidict_stored.hdf5\"\u001b[0m\u001b[1;33m\u001b[0m\u001b[0m\n\u001b[1;32m----> 2\u001b[1;33m \u001b[0mhdf5_file_path\u001b[0m\u001b[1;33m=\u001b[0m\u001b[0mpath_for_saving\u001b[0m\u001b[1;33m+\u001b[0m\u001b[1;34m\"\\\\\"\u001b[0m\u001b[1;33m+\u001b[0m\u001b[0mhdf5_file_name_1\u001b[0m\u001b[1;33m\u001b[0m\u001b[0m\n\u001b[0m\u001b[0;32m      3\u001b[0m \u001b[1;31m#hdf5_file=h5py.File(path_for_saving+\"\\\\\"+hdf5_file_name_1,'a')\u001b[0m\u001b[1;33m\u001b[0m\u001b[1;33m\u001b[0m\u001b[0m\n",
      "\u001b[1;31mNameError\u001b[0m: name 'path_for_saving' is not defined"
     ]
    }
   ],
   "source": [
    "hdf5_file_name_1=\"test_multidict_stored.hdf5\"\n",
    "hdf5_file_path=path_for_saving+\"\\\\\"+hdf5_file_name_1\n",
    "#hdf5_file=h5py.File(path_for_saving+\"\\\\\"+hdf5_file_name_1,'a')"
   ]
  },
  {
   "cell_type": "code",
   "execution_count": 3,
   "metadata": {
    "collapsed": true
   },
   "outputs": [],
   "source": [
    "#import h5py\n",
    "\n",
    "def h5py_dataset_iterator(g, prefix=''):\n",
    "    for key in g.keys():\n",
    "        item = g[key]\n",
    "        path = '{}/{}'.format(prefix, key)\n",
    "        if isinstance(item, h5py.Dataset): # test for dataset\n",
    "            yield (path, item)\n",
    "        elif isinstance(item, h5py.Group): # test for group (go down)\n",
    "            yield from h5py_dataset_iterator(item, path)"
   ]
  },
  {
   "cell_type": "code",
   "execution_count": 25,
   "metadata": {},
   "outputs": [
    {
     "data": {
      "text/plain": [
       "['/key_1',\n",
       " '/key_2/key_21/211',\n",
       " '/key_2/key_21/212',\n",
       " '/key_2/key_21/213',\n",
       " '/key_2/key_22/221',\n",
       " '/key_2/key_22/222',\n",
       " '/key_2/key_22/223']"
      ]
     },
     "execution_count": 25,
     "metadata": {},
     "output_type": "execute_result"
    }
   ],
   "source": [
    "list_dataset_path=[]\n",
    "\n",
    "with h5py.File(path_for_saving+\"\\\\\"+hdf5_file_name_1,'r') as f:\n",
    "    for (path, dset) in h5py_dataset_iterator(f):\n",
    "        list_dataset_path.append(path)\n",
    "\n",
    "list_dataset_path"
   ]
  },
  {
   "cell_type": "code",
   "execution_count": 4,
   "metadata": {
    "collapsed": true
   },
   "outputs": [],
   "source": [
    "def h5py_dataset_iterator(g, prefix=''):\n",
    "    for key in g.keys():\n",
    "        item = g[key]\n",
    "        path = '{}/{}'.format(prefix, key)\n",
    "        if isinstance(item, h5py.Dataset): # test for dataset\n",
    "            yield (path, item)\n",
    "        elif isinstance(item, h5py.Group): # test for group (go down)\n",
    "            yield from h5py_dataset_iterator(item, path)\n",
    "\n",
    "\n",
    "def create_multidict_from_path(path, obj, multidict):\n",
    "    \n",
    "    number_of_group=path.count('/')\n",
    "    hierarchic_key_list=[key for key in list(path.rsplit('/', number_of_group)) if key!='']\n",
    "    last_name=hierarchic_key_list[-1:][0]\n",
    "    \n",
    "    multidict_modif=multidict\n",
    "    \n",
    "    for key in hierarchic_key_list:\n",
    "        \n",
    "        if key!=last_name:\n",
    "            \n",
    "            if key not in multidict_modif.keys():\n",
    "                multidict_modif[key]={}\n",
    "            multidict_modif=multidict_modif[key]\n",
    "        \n",
    "        else:\n",
    "            multidict_modif[key]=obj\n",
    "    \n",
    "    return multidict;\n",
    "            \n",
    "\n",
    "\n",
    "def from_hdf5_group_to_multidict(hdf5_file_path,group_full_path):\n",
    "    \n",
    "    hdf5_file=h5py.File(hdf5_file_path,'r')\n",
    "    obj=hdf5_file[group_full_path]\n",
    "    last_name_group=group_full_path.rsplit('/', 1)[1]\n",
    "    \n",
    "    matrix_path_already_done=[]\n",
    "    \n",
    "    # Use csr builder if biosphere_matrix or technosphere_matrix and write directly the object\n",
    "    if '_matrix' in last_name_group:\n",
    "        obj=hdf5_to_csr_matrix(hdf5_file_path,group_full_path)\n",
    "        multidict=obj\n",
    "    \n",
    "    # if group is a dataset write directly the object\n",
    "    elif isinstance(obj, h5py.Dataset):\n",
    "        multidict=obj\n",
    "        \n",
    "    else:\n",
    "        \n",
    "        multidict={}\n",
    "        \n",
    "        for (path, dset) in h5py_dataset_iterator(obj):\n",
    "            \n",
    "            if path not in matrix_path_already_done:\n",
    "            \n",
    "                if '_matrix' in path:                \n",
    "                    matrix_path=path.rsplit('_matrix/', 1)[0]\n",
    "                    matrix_full_path=group_full_path+matrix_path\n",
    "                    obj=hdf5_to_csr_matrix(hdf5_file_path,matrix_full_path)\n",
    "\n",
    "                    multidict=create_multidict_from_path(matrix_path, obj, multidict)\n",
    "                    matrix_path_already_done.append(matrix_path)\n",
    "\n",
    "                else:\n",
    "                    multidict=create_multidict_from_path(path, dset[()], multidict)\n",
    "                    \n",
    "    hdf5_file.close()\n",
    "    \n",
    "    return multidict;\n",
    "\n",
    "    "
   ]
  },
  {
   "cell_type": "code",
   "execution_count": 89,
   "metadata": {},
   "outputs": [
    {
     "data": {
      "text/plain": [
       "{'key_1': 'value_key_1',\n",
       " 'key_2': {'key_21': {'211': 'value_key_211',\n",
       "   '212': array([2, 1, 2]),\n",
       "   '213': array([2, 1, 3])},\n",
       "  'key_22': {'221': 'value_key_221',\n",
       "   '222': array([2, 2, 2]),\n",
       "   '223': array([2, 2, 3])}}}"
      ]
     },
     "execution_count": 89,
     "metadata": {},
     "output_type": "execute_result"
    }
   ],
   "source": [
    "hdf5_file_name_1=\"test_multidict_stored.hdf5\"\n",
    "hdf5_file_path=path_for_saving+\"\\\\\"+hdf5_file_name_1\n",
    "group_full_path='/' #if we want to scan the entire file, just put '/'\n",
    "\n",
    "multidict_test=from_hdf5_group_to_multidict(hdf5_file_path,group_full_path)\n",
    "multidict_test"
   ]
  },
  {
   "cell_type": "markdown",
   "metadata": {
    "collapsed": true
   },
   "source": [
    "http://deusyss.developpez.com/tutoriels/Python/hdf5/\n",
    "\n",
    "http://docs.h5py.org/en/latest/quick.html"
   ]
  },
  {
   "cell_type": "code",
   "execution_count": 5,
   "metadata": {
    "collapsed": true
   },
   "outputs": [],
   "source": [
    "import brightway2 as bw\n",
    "import os               # to use \"operating system dependent functionality\"\n",
    "import numpy as np      # \"the fundamental package for scientific computing with Python\"\n",
    "import pandas as pd     # \"high-performance, easy-to-use data structures and data analysis tools\" for Python\n",
    "import csv\n",
    "import stats_arrays\n",
    "import scipy as sp\n",
    "import pandas as pd\n",
    "import pickle\n",
    "import h5py\n",
    "import time\n",
    "import h5py"
   ]
  },
  {
   "attachments": {
    "image.png": {
     "image/png": "[encoded data removed]"
    }
   },
   "cell_type": "markdown",
   "metadata": {
    "collapsed": true
   },
   "source": [
    "## Create an HDF5 file object\n",
    "\n",
    "![image.png](attachment:image.png)"
   ]
  },
  {
   "cell_type": "code",
   "execution_count": 6,
   "metadata": {},
   "outputs": [
    {
     "data": {
      "text/plain": [
       "'C:\\\\Users\\\\Laure\\\\Brightway - Notebooks and code\\\\Monte-Carlo\\\\Saved objects'"
      ]
     },
     "execution_count": 6,
     "metadata": {},
     "output_type": "execute_result"
    }
   ],
   "source": [
    "current_path_dir=os.getcwd()\n",
    "path_for_saving=current_path_dir+\"\\\\Saved objects\"\n",
    "path_for_saving"
   ]
  },
  {
   "cell_type": "code",
   "execution_count": 3,
   "metadata": {
    "collapsed": true
   },
   "outputs": [],
   "source": [
    "hdf5_file_name=\"testfile.hdf5\"\n",
    "hdf5_file_test=h5py.File(path_for_saving+\"\\\\\"+hdf5_file_name,\"w\")"
   ]
  },
  {
   "cell_type": "markdown",
   "metadata": {},
   "source": [
    "## Create group dans subgroup"
   ]
  },
  {
   "cell_type": "code",
   "execution_count": 5,
   "metadata": {
    "collapsed": true
   },
   "outputs": [],
   "source": [
    "group_test_1=hdf5_file_test.create_group(\"group_1\")\n",
    "subgroup_test_11=group_test_1.create_group(\"subgroup_1\")"
   ]
  },
  {
   "cell_type": "code",
   "execution_count": 7,
   "metadata": {},
   "outputs": [
    {
     "data": {
      "text/plain": [
       "('/group_1', '/group_1/subgroup_1', '/group_1')"
      ]
     },
     "execution_count": 7,
     "metadata": {},
     "output_type": "execute_result"
    }
   ],
   "source": [
    "group_test_1.name, subgroup_test_11.name, subgroup_test_11.parent.name"
   ]
  },
  {
   "cell_type": "markdown",
   "metadata": {},
   "source": [
    "## Create dataset"
   ]
  },
  {
   "cell_type": "markdown",
   "metadata": {},
   "source": [
    "First, create an empty dataset.  Datasets can be chucked (split into different file for storing). Compression is also available(f.create_dataset(\"zipped\", (100, 100), compression=\"gzip\")) Dataset can also be resized (dataset.resize())."
   ]
  },
  {
   "cell_type": "code",
   "execution_count": 20,
   "metadata": {
    "collapsed": true
   },
   "outputs": [
    {
     "ename": "RuntimeError",
     "evalue": "Unable to create link (Name already exists)",
     "output_type": "error",
     "traceback": [
      "\u001b[1;31m---------------------------------------------------------------------------\u001b[0m",
      "\u001b[1;31mRuntimeError\u001b[0m                              Traceback (most recent call last)",
      "\u001b[1;32m<ipython-input-20-f8987cd9cad0>\u001b[0m in \u001b[0;36m<module>\u001b[1;34m()\u001b[0m\n\u001b[0;32m      2\u001b[0m \u001b[0mdataset_shape\u001b[0m\u001b[1;33m=\u001b[0m\u001b[1;33m(\u001b[0m\u001b[1;36m100\u001b[0m\u001b[1;33m,\u001b[0m\u001b[1;33m)\u001b[0m\u001b[1;33m\u001b[0m\u001b[0m\n\u001b[0;32m      3\u001b[0m \u001b[0mdataset_dtype\u001b[0m\u001b[1;33m=\u001b[0m\u001b[1;34m\"i\"\u001b[0m\u001b[1;33m\u001b[0m\u001b[0m\n\u001b[1;32m----> 4\u001b[1;33m \u001b[0mdataset_test_1\u001b[0m\u001b[1;33m=\u001b[0m\u001b[0msubgroup_test_11\u001b[0m\u001b[1;33m.\u001b[0m\u001b[0mcreate_dataset\u001b[0m\u001b[1;33m(\u001b[0m\u001b[0mdataset_name\u001b[0m\u001b[1;33m,\u001b[0m\u001b[0mdataset_shape\u001b[0m\u001b[1;33m,\u001b[0m\u001b[0mdataset_dtype\u001b[0m\u001b[1;33m)\u001b[0m\u001b[1;33m\u001b[0m\u001b[0m\n\u001b[0m",
      "\u001b[1;32m~\\Anaconda3\\envs\\Brighway2\\lib\\site-packages\\h5py\\_hl\\group.py\u001b[0m in \u001b[0;36mcreate_dataset\u001b[1;34m(self, name, shape, dtype, data, **kwds)\u001b[0m\n\u001b[0;32m    109\u001b[0m             \u001b[0mdset\u001b[0m \u001b[1;33m=\u001b[0m \u001b[0mdataset\u001b[0m\u001b[1;33m.\u001b[0m\u001b[0mDataset\u001b[0m\u001b[1;33m(\u001b[0m\u001b[0mdsid\u001b[0m\u001b[1;33m)\u001b[0m\u001b[1;33m\u001b[0m\u001b[0m\n\u001b[0;32m    110\u001b[0m             \u001b[1;32mif\u001b[0m \u001b[0mname\u001b[0m \u001b[1;32mis\u001b[0m \u001b[1;32mnot\u001b[0m \u001b[1;32mNone\u001b[0m\u001b[1;33m:\u001b[0m\u001b[1;33m\u001b[0m\u001b[0m\n\u001b[1;32m--> 111\u001b[1;33m                 \u001b[0mself\u001b[0m\u001b[1;33m[\u001b[0m\u001b[0mname\u001b[0m\u001b[1;33m]\u001b[0m \u001b[1;33m=\u001b[0m \u001b[0mdset\u001b[0m\u001b[1;33m\u001b[0m\u001b[0m\n\u001b[0m\u001b[0;32m    112\u001b[0m             \u001b[1;32mreturn\u001b[0m \u001b[0mdset\u001b[0m\u001b[1;33m\u001b[0m\u001b[0m\n\u001b[0;32m    113\u001b[0m \u001b[1;33m\u001b[0m\u001b[0m\n",
      "\u001b[1;32mh5py\\_objects.pyx\u001b[0m in \u001b[0;36mh5py._objects.with_phil.wrapper (C:\\Minonda\\conda-bld\\h5py_1496879986092\\work\\h5py\\_objects.c:2867)\u001b[1;34m()\u001b[0m\n",
      "\u001b[1;32mh5py\\_objects.pyx\u001b[0m in \u001b[0;36mh5py._objects.with_phil.wrapper (C:\\Minonda\\conda-bld\\h5py_1496879986092\\work\\h5py\\_objects.c:2825)\u001b[1;34m()\u001b[0m\n",
      "\u001b[1;32m~\\Anaconda3\\envs\\Brighway2\\lib\\site-packages\\h5py\\_hl\\group.py\u001b[0m in \u001b[0;36m__setitem__\u001b[1;34m(self, name, obj)\u001b[0m\n\u001b[0;32m    274\u001b[0m \u001b[1;33m\u001b[0m\u001b[0m\n\u001b[0;32m    275\u001b[0m         \u001b[1;32mif\u001b[0m \u001b[0misinstance\u001b[0m\u001b[1;33m(\u001b[0m\u001b[0mobj\u001b[0m\u001b[1;33m,\u001b[0m \u001b[0mHLObject\u001b[0m\u001b[1;33m)\u001b[0m\u001b[1;33m:\u001b[0m\u001b[1;33m\u001b[0m\u001b[0m\n\u001b[1;32m--> 276\u001b[1;33m             \u001b[0mh5o\u001b[0m\u001b[1;33m.\u001b[0m\u001b[0mlink\u001b[0m\u001b[1;33m(\u001b[0m\u001b[0mobj\u001b[0m\u001b[1;33m.\u001b[0m\u001b[0mid\u001b[0m\u001b[1;33m,\u001b[0m \u001b[0mself\u001b[0m\u001b[1;33m.\u001b[0m\u001b[0mid\u001b[0m\u001b[1;33m,\u001b[0m \u001b[0mname\u001b[0m\u001b[1;33m,\u001b[0m \u001b[0mlcpl\u001b[0m\u001b[1;33m=\u001b[0m\u001b[0mlcpl\u001b[0m\u001b[1;33m,\u001b[0m \u001b[0mlapl\u001b[0m\u001b[1;33m=\u001b[0m\u001b[0mself\u001b[0m\u001b[1;33m.\u001b[0m\u001b[0m_lapl\u001b[0m\u001b[1;33m)\u001b[0m\u001b[1;33m\u001b[0m\u001b[0m\n\u001b[0m\u001b[0;32m    277\u001b[0m \u001b[1;33m\u001b[0m\u001b[0m\n\u001b[0;32m    278\u001b[0m         \u001b[1;32melif\u001b[0m \u001b[0misinstance\u001b[0m\u001b[1;33m(\u001b[0m\u001b[0mobj\u001b[0m\u001b[1;33m,\u001b[0m \u001b[0mSoftLink\u001b[0m\u001b[1;33m)\u001b[0m\u001b[1;33m:\u001b[0m\u001b[1;33m\u001b[0m\u001b[0m\n",
      "\u001b[1;32mh5py\\_objects.pyx\u001b[0m in \u001b[0;36mh5py._objects.with_phil.wrapper (C:\\Minonda\\conda-bld\\h5py_1496879986092\\work\\h5py\\_objects.c:2867)\u001b[1;34m()\u001b[0m\n",
      "\u001b[1;32mh5py\\_objects.pyx\u001b[0m in \u001b[0;36mh5py._objects.with_phil.wrapper (C:\\Minonda\\conda-bld\\h5py_1496879986092\\work\\h5py\\_objects.c:2825)\u001b[1;34m()\u001b[0m\n",
      "\u001b[1;32mh5py\\h5o.pyx\u001b[0m in \u001b[0;36mh5py.h5o.link (C:\\Minonda\\conda-bld\\h5py_1496879986092\\work\\h5py\\h5o.c:3789)\u001b[1;34m()\u001b[0m\n",
      "\u001b[1;31mRuntimeError\u001b[0m: Unable to create link (Name already exists)"
     ]
    }
   ],
   "source": [
    "dataset_name=\"dataset_1\"\n",
    "dataset_shape=(100,)\n",
    "dataset_dtype=\"i\"\n",
    "dataset_test_1=subgroup_test_11.create_dataset(dataset_name,dataset_shape,dataset_dtype)"
   ]
  },
  {
   "cell_type": "markdown",
   "metadata": {},
   "source": [
    "Or, create a dataset directly from some data "
   ]
  },
  {
   "cell_type": "code",
   "execution_count": 10,
   "metadata": {
    "collapsed": true
   },
   "outputs": [],
   "source": [
    "dataset_name=\"dataset_1_from_data\"\n",
    "data=[4,7,9] ##?\n",
    "dataset_test_1=subgroup_test_11.create_dataset(dataset_name,data=data)"
   ]
  },
  {
   "cell_type": "code",
   "execution_count": 11,
   "metadata": {},
   "outputs": [
    {
     "data": {
      "text/plain": [
       "dtype('float32')"
      ]
     },
     "execution_count": 11,
     "metadata": {},
     "output_type": "execute_result"
    }
   ],
   "source": [
    "dataset_test_1.dtype"
   ]
  },
  {
   "cell_type": "markdown",
   "metadata": {},
   "source": [
    "Create a dataset with a full path is also possible, even directly from the file"
   ]
  },
  {
   "cell_type": "code",
   "execution_count": 25,
   "metadata": {
    "collapsed": true
   },
   "outputs": [],
   "source": [
    "dataset_name=subgroup_test_11.name+'/'+\"dataset_2\"\n",
    "dataset_shape=(100,)\n",
    "dataset_dtype=\"i\"\n",
    "dataset_test_2=subgroup_test_11.create_dataset(dataset_name,dataset_shape,dataset_dtype)"
   ]
  },
  {
   "cell_type": "code",
   "execution_count": 28,
   "metadata": {},
   "outputs": [
    {
     "data": {
      "text/plain": [
       "'/group_1/subgroup_1/dataset_2'"
      ]
     },
     "execution_count": 28,
     "metadata": {},
     "output_type": "execute_result"
    }
   ],
   "source": [
    "dataset_test_2.name"
   ]
  },
  {
   "cell_type": "markdown",
   "metadata": {},
   "source": [
    "## Write and read in dataset\n",
    "\n",
    "To retrieve the contents of a scalar dataset, you can use the same syntax as in NumPy: result = dset[()]. In\n",
    "other words, index into the dataset using an empty tuple."
   ]
  },
  {
   "cell_type": "code",
   "execution_count": 21,
   "metadata": {
    "collapsed": true
   },
   "outputs": [],
   "source": [
    "dataset_test_1=[5,9,243,78]"
   ]
  },
  {
   "cell_type": "code",
   "execution_count": 24,
   "metadata": {},
   "outputs": [
    {
     "data": {
      "text/plain": [
       "([5, 9, 243, 78], 9)"
      ]
     },
     "execution_count": 24,
     "metadata": {},
     "output_type": "execute_result"
    }
   ],
   "source": [
    "dataset_test_1,dataset_test_1[1]"
   ]
  },
  {
   "cell_type": "code",
   "execution_count": 32,
   "metadata": {},
   "outputs": [
    {
     "data": {
      "text/plain": [
       "<HDF5 dataset \"dataset_1\": shape (100,), type \"<i4\">"
      ]
     },
     "execution_count": 32,
     "metadata": {},
     "output_type": "execute_result"
    }
   ],
   "source": [
    "dataset_test_1_read=hdf5_file_test['/group_1/subgroup_1/dataset_1']\n",
    "dataset_test_1_read"
   ]
  },
  {
   "cell_type": "code",
   "execution_count": 33,
   "metadata": {
    "collapsed": true
   },
   "outputs": [],
   "source": [
    "dataset_test_1_read=[56,987,97986876]"
   ]
  },
  {
   "cell_type": "code",
   "execution_count": 34,
   "metadata": {},
   "outputs": [
    {
     "data": {
      "text/plain": [
       "[56, 987, 97986876]"
      ]
     },
     "execution_count": 34,
     "metadata": {},
     "output_type": "execute_result"
    }
   ],
   "source": [
    "dataset_test_1_read2=hdf5_file_test['/group_1/subgroup_1/dataset_1']\n",
    "dataset_test_1_read"
   ]
  },
  {
   "cell_type": "code",
   "execution_count": null,
   "metadata": {
    "collapsed": true
   },
   "outputs": [],
   "source": [
    "dataset_test_1_read2=hdf5_file_test['/group_1/subgroup_1/dataset_1']\n",
    "group_1=hdf5_file_test['/group_1']\n",
    "dataset_test_1_read2=group_1['/subgroup_1/dataset_1']\n",
    "dataset_test_1_read2[()]"
   ]
  },
  {
   "cell_type": "markdown",
   "metadata": {},
   "source": [
    "## Write and read attributes\n",
    "Attributes are linked to a hdf5 file or a group or a dataset"
   ]
  },
  {
   "cell_type": "code",
   "execution_count": 35,
   "metadata": {
    "collapsed": true
   },
   "outputs": [],
   "source": [
    "hdf5_file_test.attrs['numero']=1"
   ]
  },
  {
   "cell_type": "code",
   "execution_count": 36,
   "metadata": {},
   "outputs": [
    {
     "data": {
      "text/plain": [
       "1"
      ]
     },
     "execution_count": 36,
     "metadata": {},
     "output_type": "execute_result"
    }
   ],
   "source": [
    "hdf5_file_test.attrs['numero']"
   ]
  },
  {
   "cell_type": "code",
   "execution_count": 73,
   "metadata": {},
   "outputs": [
    {
     "data": {
      "text/plain": [
       "['numero']"
      ]
     },
     "execution_count": 73,
     "metadata": {},
     "output_type": "execute_result"
    }
   ],
   "source": [
    "[attribut for attribut in hdf5_file_test.attrs.keys()]"
   ]
  },
  {
   "cell_type": "code",
   "execution_count": 72,
   "metadata": {
    "collapsed": true
   },
   "outputs": [],
   "source": [
    "hdf5_file_test['group_1'].attrs['attr1']=(1,7)"
   ]
  },
  {
   "cell_type": "code",
   "execution_count": 74,
   "metadata": {},
   "outputs": [
    {
     "data": {
      "text/plain": [
       "['attr1']"
      ]
     },
     "execution_count": 74,
     "metadata": {},
     "output_type": "execute_result"
    }
   ],
   "source": [
    "[attribut for attribut in hdf5_file_test['group_1'].attrs.keys()]"
   ]
  },
  {
   "cell_type": "code",
   "execution_count": 75,
   "metadata": {},
   "outputs": [
    {
     "data": {
      "text/plain": [
       "<HDF5 dataset \"test1\": shape (2,), type \"<i4\">"
      ]
     },
     "execution_count": 75,
     "metadata": {},
     "output_type": "execute_result"
    }
   ],
   "source": [
    "hdf5_file_test['group_1'].create_dataset('test1',data=(1,9))"
   ]
  },
  {
   "cell_type": "code",
   "execution_count": 77,
   "metadata": {
    "collapsed": true
   },
   "outputs": [],
   "source": [
    "hdf5_file_test['/group_1/test1'].attrs['attr2']=8"
   ]
  },
  {
   "cell_type": "code",
   "execution_count": 78,
   "metadata": {},
   "outputs": [
    {
     "data": {
      "text/plain": [
       "['attr2']"
      ]
     },
     "execution_count": 78,
     "metadata": {},
     "output_type": "execute_result"
    }
   ],
   "source": [
    "[attribut for attribut in hdf5_file_test['/group_1/test1'].attrs.keys()]"
   ]
  },
  {
   "cell_type": "code",
   "execution_count": 79,
   "metadata": {},
   "outputs": [
    {
     "data": {
      "text/plain": [
       "['attr1']"
      ]
     },
     "execution_count": 79,
     "metadata": {},
     "output_type": "execute_result"
    }
   ],
   "source": [
    "[attribut for attribut in hdf5_file_test['group_1'].attrs.keys()]"
   ]
  },
  {
   "cell_type": "markdown",
   "metadata": {},
   "source": [
    "# Test to store information from Brightway with HDF5 format"
   ]
  },
  {
   "cell_type": "code",
   "execution_count": 7,
   "metadata": {
    "collapsed": true
   },
   "outputs": [],
   "source": [
    "def pickle_save(file_path_root,object_name_to_save,file_name):\n",
    "    \n",
    "    complete_file_path=file_path_root+'\\\\'+file_name+'.p'\n",
    "    \n",
    "    pickle.dump( object_name_to_save, open( complete_file_path, \"wb\" ) )\n",
    "    \n",
    "    return;\n",
    "\n",
    "\n",
    "def pickle_load(file_path_root,file_name):\n",
    "    \n",
    "    complete_file_path=file_path_root+'\\\\'+file_name+'.p'\n",
    "    \n",
    "    return pickle.load( open( complete_file_path, \"rb\" ) );"
   ]
  },
  {
   "cell_type": "code",
   "execution_count": 23,
   "metadata": {},
   "outputs": [
    {
     "ename": "NameError",
     "evalue": "name 'path_for_saving' is not defined",
     "output_type": "error",
     "traceback": [
      "\u001b[1;31m---------------------------------------------------------------------------\u001b[0m",
      "\u001b[1;31mNameError\u001b[0m                                 Traceback (most recent call last)",
      "\u001b[1;32m<ipython-input-23-6ff8453102dc>\u001b[0m in \u001b[0;36m<module>\u001b[1;34m()\u001b[0m\n\u001b[1;32m----> 1\u001b[1;33m \u001b[0mdict_bw_1act_10it\u001b[0m\u001b[1;33m=\u001b[0m\u001b[0mpickle_load\u001b[0m\u001b[1;33m(\u001b[0m\u001b[0mpath_for_saving\u001b[0m\u001b[1;33m,\u001b[0m\u001b[1;34m'dict_act_MC_LCA_object_A_B_only_10it_1act'\u001b[0m\u001b[1;33m)\u001b[0m\u001b[1;33m\u001b[0m\u001b[0m\n\u001b[0m\u001b[0;32m      2\u001b[0m \u001b[0mdict_bw_1act_10it_params\u001b[0m\u001b[1;33m=\u001b[0m\u001b[0mpickle_load\u001b[0m\u001b[1;33m(\u001b[0m\u001b[0mpath_for_saving\u001b[0m\u001b[1;33m,\u001b[0m\u001b[1;34m'dict_act_MC_LCA_object_A_B_only_10it_1ct_params'\u001b[0m\u001b[1;33m)\u001b[0m\u001b[1;33m\u001b[0m\u001b[0m\n",
      "\u001b[1;31mNameError\u001b[0m: name 'path_for_saving' is not defined"
     ]
    }
   ],
   "source": [
    "dict_bw_1act_10it=pickle_load(path_for_saving,'dict_act_MC_LCA_object_A_B_only_10it_1act')\n",
    "dict_bw_1act_10it_params=pickle_load(path_for_saving,'dict_act_MC_LCA_object_A_B_only_10it_1ct_params')"
   ]
  },
  {
   "cell_type": "code",
   "execution_count": 196,
   "metadata": {},
   "outputs": [
    {
     "data": {
      "text/plain": [
       "{'Monte Carlo LCI results': {0: {'biosphere_matrix': <1960x13831 sparse matrix of type '<class 'numpy.float64'>'\n",
       "   \twith 353369 stored elements in Compressed Sparse Row format>,\n",
       "   'technosphere_matrix': <13831x13831 sparse matrix of type '<class 'numpy.float64'>'\n",
       "   \twith 147427 stored elements in Compressed Sparse Row format>},\n",
       "  1: {'biosphere_matrix': <1960x13831 sparse matrix of type '<class 'numpy.float64'>'\n",
       "   \twith 353369 stored elements in Compressed Sparse Row format>,\n",
       "   'technosphere_matrix': <13831x13831 sparse matrix of type '<class 'numpy.float64'>'\n",
       "   \twith 147427 stored elements in Compressed Sparse Row format>},\n",
       "  2: {'biosphere_matrix': <1960x13831 sparse matrix of type '<class 'numpy.float64'>'\n",
       "   \twith 353369 stored elements in Compressed Sparse Row format>,\n",
       "   'technosphere_matrix': <13831x13831 sparse matrix of type '<class 'numpy.float64'>'\n",
       "   \twith 147427 stored elements in Compressed Sparse Row format>},\n",
       "  3: {'biosphere_matrix': <1960x13831 sparse matrix of type '<class 'numpy.float64'>'\n",
       "   \twith 353369 stored elements in Compressed Sparse Row format>,\n",
       "   'technosphere_matrix': <13831x13831 sparse matrix of type '<class 'numpy.float64'>'\n",
       "   \twith 147427 stored elements in Compressed Sparse Row format>},\n",
       "  4: {'biosphere_matrix': <1960x13831 sparse matrix of type '<class 'numpy.float64'>'\n",
       "   \twith 353369 stored elements in Compressed Sparse Row format>,\n",
       "   'technosphere_matrix': <13831x13831 sparse matrix of type '<class 'numpy.float64'>'\n",
       "   \twith 147427 stored elements in Compressed Sparse Row format>},\n",
       "  5: {'biosphere_matrix': <1960x13831 sparse matrix of type '<class 'numpy.float64'>'\n",
       "   \twith 353369 stored elements in Compressed Sparse Row format>,\n",
       "   'technosphere_matrix': <13831x13831 sparse matrix of type '<class 'numpy.float64'>'\n",
       "   \twith 147427 stored elements in Compressed Sparse Row format>},\n",
       "  6: {'biosphere_matrix': <1960x13831 sparse matrix of type '<class 'numpy.float64'>'\n",
       "   \twith 353369 stored elements in Compressed Sparse Row format>,\n",
       "   'technosphere_matrix': <13831x13831 sparse matrix of type '<class 'numpy.float64'>'\n",
       "   \twith 147427 stored elements in Compressed Sparse Row format>},\n",
       "  7: {'biosphere_matrix': <1960x13831 sparse matrix of type '<class 'numpy.float64'>'\n",
       "   \twith 353369 stored elements in Compressed Sparse Row format>,\n",
       "   'technosphere_matrix': <13831x13831 sparse matrix of type '<class 'numpy.float64'>'\n",
       "   \twith 147427 stored elements in Compressed Sparse Row format>},\n",
       "  8: {'biosphere_matrix': <1960x13831 sparse matrix of type '<class 'numpy.float64'>'\n",
       "   \twith 353369 stored elements in Compressed Sparse Row format>,\n",
       "   'technosphere_matrix': <13831x13831 sparse matrix of type '<class 'numpy.float64'>'\n",
       "   \twith 147427 stored elements in Compressed Sparse Row format>},\n",
       "  9: {'biosphere_matrix': <1960x13831 sparse matrix of type '<class 'numpy.float64'>'\n",
       "   \twith 353369 stored elements in Compressed Sparse Row format>,\n",
       "   'technosphere_matrix': <13831x13831 sparse matrix of type '<class 'numpy.float64'>'\n",
       "   \twith 147427 stored elements in Compressed Sparse Row format>}},\n",
       " 'activity key': ('ecoinvent 3.3 cutoff', 'f171dd5c543667e25ad52e80efb83f0c'),\n",
       " 'classifications': [('EcoSpold01Categories', 'biomass/fuels'),\n",
       "  ('ISIC rev.4 ecoinvent',\n",
       "   '3520:Manufacture of gas; distribution of gaseous fuels through mains')],\n",
       " 'functional unit': 1,\n",
       " 'iterations': 10}"
      ]
     },
     "execution_count": 196,
     "metadata": {},
     "output_type": "execute_result"
    }
   ],
   "source": [
    "dict_bw_1act_10it"
   ]
  },
  {
   "cell_type": "code",
   "execution_count": 197,
   "metadata": {},
   "outputs": [
    {
     "name": "stdout",
     "output_type": "stream",
     "text": [
      "('/iterations', 10)\n",
      "('/activity key', ('ecoinvent 3.3 cutoff', 'f171dd5c543667e25ad52e80efb83f0c'))\n",
      "('/classifications', [('EcoSpold01Categories', 'biomass/fuels'), ('ISIC rev.4 ecoinvent', '3520:Manufacture of gas; distribution of gaseous fuels through mains')])\n",
      "('/functional unit', 1)\n",
      "('/Monte Carlo LCI results/0/biosphere_matrix', <1960x13831 sparse matrix of type '<class 'numpy.float64'>'\n",
      "\twith 353369 stored elements in Compressed Sparse Row format>)\n",
      "('/Monte Carlo LCI results/0/technosphere_matrix', <13831x13831 sparse matrix of type '<class 'numpy.float64'>'\n",
      "\twith 147427 stored elements in Compressed Sparse Row format>)\n",
      "leaf with no value\n",
      "('/Monte Carlo LCI results/1/biosphere_matrix', <1960x13831 sparse matrix of type '<class 'numpy.float64'>'\n",
      "\twith 353369 stored elements in Compressed Sparse Row format>)\n",
      "('/Monte Carlo LCI results/1/technosphere_matrix', <13831x13831 sparse matrix of type '<class 'numpy.float64'>'\n",
      "\twith 147427 stored elements in Compressed Sparse Row format>)\n",
      "leaf with no value\n",
      "('/Monte Carlo LCI results/2/biosphere_matrix', <1960x13831 sparse matrix of type '<class 'numpy.float64'>'\n",
      "\twith 353369 stored elements in Compressed Sparse Row format>)\n",
      "('/Monte Carlo LCI results/2/technosphere_matrix', <13831x13831 sparse matrix of type '<class 'numpy.float64'>'\n",
      "\twith 147427 stored elements in Compressed Sparse Row format>)\n",
      "leaf with no value\n",
      "('/Monte Carlo LCI results/3/biosphere_matrix', <1960x13831 sparse matrix of type '<class 'numpy.float64'>'\n",
      "\twith 353369 stored elements in Compressed Sparse Row format>)\n",
      "('/Monte Carlo LCI results/3/technosphere_matrix', <13831x13831 sparse matrix of type '<class 'numpy.float64'>'\n",
      "\twith 147427 stored elements in Compressed Sparse Row format>)\n",
      "leaf with no value\n",
      "('/Monte Carlo LCI results/4/biosphere_matrix', <1960x13831 sparse matrix of type '<class 'numpy.float64'>'\n",
      "\twith 353369 stored elements in Compressed Sparse Row format>)\n",
      "('/Monte Carlo LCI results/4/technosphere_matrix', <13831x13831 sparse matrix of type '<class 'numpy.float64'>'\n",
      "\twith 147427 stored elements in Compressed Sparse Row format>)\n",
      "leaf with no value\n",
      "('/Monte Carlo LCI results/5/biosphere_matrix', <1960x13831 sparse matrix of type '<class 'numpy.float64'>'\n",
      "\twith 353369 stored elements in Compressed Sparse Row format>)\n",
      "('/Monte Carlo LCI results/5/technosphere_matrix', <13831x13831 sparse matrix of type '<class 'numpy.float64'>'\n",
      "\twith 147427 stored elements in Compressed Sparse Row format>)\n",
      "leaf with no value\n",
      "('/Monte Carlo LCI results/6/biosphere_matrix', <1960x13831 sparse matrix of type '<class 'numpy.float64'>'\n",
      "\twith 353369 stored elements in Compressed Sparse Row format>)\n",
      "('/Monte Carlo LCI results/6/technosphere_matrix', <13831x13831 sparse matrix of type '<class 'numpy.float64'>'\n",
      "\twith 147427 stored elements in Compressed Sparse Row format>)\n",
      "leaf with no value\n",
      "('/Monte Carlo LCI results/7/biosphere_matrix', <1960x13831 sparse matrix of type '<class 'numpy.float64'>'\n",
      "\twith 353369 stored elements in Compressed Sparse Row format>)\n",
      "('/Monte Carlo LCI results/7/technosphere_matrix', <13831x13831 sparse matrix of type '<class 'numpy.float64'>'\n",
      "\twith 147427 stored elements in Compressed Sparse Row format>)\n",
      "leaf with no value\n",
      "('/Monte Carlo LCI results/8/biosphere_matrix', <1960x13831 sparse matrix of type '<class 'numpy.float64'>'\n",
      "\twith 353369 stored elements in Compressed Sparse Row format>)\n",
      "('/Monte Carlo LCI results/8/technosphere_matrix', <13831x13831 sparse matrix of type '<class 'numpy.float64'>'\n",
      "\twith 147427 stored elements in Compressed Sparse Row format>)\n",
      "leaf with no value\n",
      "('/Monte Carlo LCI results/9/biosphere_matrix', <1960x13831 sparse matrix of type '<class 'numpy.float64'>'\n",
      "\twith 353369 stored elements in Compressed Sparse Row format>)\n",
      "('/Monte Carlo LCI results/9/technosphere_matrix', <13831x13831 sparse matrix of type '<class 'numpy.float64'>'\n",
      "\twith 147427 stored elements in Compressed Sparse Row format>)\n",
      "leaf with no value\n",
      "leaf with no value\n",
      "Dictionary with paths as keys as needed in HDF5 format is ready\n"
     ]
    },
    {
     "data": {
      "text/plain": [
       "{'/Monte Carlo LCI results/0/biosphere_matrix': <1960x13831 sparse matrix of type '<class 'numpy.float64'>'\n",
       " \twith 353369 stored elements in Compressed Sparse Row format>,\n",
       " '/Monte Carlo LCI results/0/technosphere_matrix': <13831x13831 sparse matrix of type '<class 'numpy.float64'>'\n",
       " \twith 147427 stored elements in Compressed Sparse Row format>,\n",
       " '/Monte Carlo LCI results/1/biosphere_matrix': <1960x13831 sparse matrix of type '<class 'numpy.float64'>'\n",
       " \twith 353369 stored elements in Compressed Sparse Row format>,\n",
       " '/Monte Carlo LCI results/1/technosphere_matrix': <13831x13831 sparse matrix of type '<class 'numpy.float64'>'\n",
       " \twith 147427 stored elements in Compressed Sparse Row format>,\n",
       " '/Monte Carlo LCI results/2/biosphere_matrix': <1960x13831 sparse matrix of type '<class 'numpy.float64'>'\n",
       " \twith 353369 stored elements in Compressed Sparse Row format>,\n",
       " '/Monte Carlo LCI results/2/technosphere_matrix': <13831x13831 sparse matrix of type '<class 'numpy.float64'>'\n",
       " \twith 147427 stored elements in Compressed Sparse Row format>,\n",
       " '/Monte Carlo LCI results/3/biosphere_matrix': <1960x13831 sparse matrix of type '<class 'numpy.float64'>'\n",
       " \twith 353369 stored elements in Compressed Sparse Row format>,\n",
       " '/Monte Carlo LCI results/3/technosphere_matrix': <13831x13831 sparse matrix of type '<class 'numpy.float64'>'\n",
       " \twith 147427 stored elements in Compressed Sparse Row format>,\n",
       " '/Monte Carlo LCI results/4/biosphere_matrix': <1960x13831 sparse matrix of type '<class 'numpy.float64'>'\n",
       " \twith 353369 stored elements in Compressed Sparse Row format>,\n",
       " '/Monte Carlo LCI results/4/technosphere_matrix': <13831x13831 sparse matrix of type '<class 'numpy.float64'>'\n",
       " \twith 147427 stored elements in Compressed Sparse Row format>,\n",
       " '/Monte Carlo LCI results/5/biosphere_matrix': <1960x13831 sparse matrix of type '<class 'numpy.float64'>'\n",
       " \twith 353369 stored elements in Compressed Sparse Row format>,\n",
       " '/Monte Carlo LCI results/5/technosphere_matrix': <13831x13831 sparse matrix of type '<class 'numpy.float64'>'\n",
       " \twith 147427 stored elements in Compressed Sparse Row format>,\n",
       " '/Monte Carlo LCI results/6/biosphere_matrix': <1960x13831 sparse matrix of type '<class 'numpy.float64'>'\n",
       " \twith 353369 stored elements in Compressed Sparse Row format>,\n",
       " '/Monte Carlo LCI results/6/technosphere_matrix': <13831x13831 sparse matrix of type '<class 'numpy.float64'>'\n",
       " \twith 147427 stored elements in Compressed Sparse Row format>,\n",
       " '/Monte Carlo LCI results/7/biosphere_matrix': <1960x13831 sparse matrix of type '<class 'numpy.float64'>'\n",
       " \twith 353369 stored elements in Compressed Sparse Row format>,\n",
       " '/Monte Carlo LCI results/7/technosphere_matrix': <13831x13831 sparse matrix of type '<class 'numpy.float64'>'\n",
       " \twith 147427 stored elements in Compressed Sparse Row format>,\n",
       " '/Monte Carlo LCI results/8/biosphere_matrix': <1960x13831 sparse matrix of type '<class 'numpy.float64'>'\n",
       " \twith 353369 stored elements in Compressed Sparse Row format>,\n",
       " '/Monte Carlo LCI results/8/technosphere_matrix': <13831x13831 sparse matrix of type '<class 'numpy.float64'>'\n",
       " \twith 147427 stored elements in Compressed Sparse Row format>,\n",
       " '/Monte Carlo LCI results/9/biosphere_matrix': <1960x13831 sparse matrix of type '<class 'numpy.float64'>'\n",
       " \twith 353369 stored elements in Compressed Sparse Row format>,\n",
       " '/Monte Carlo LCI results/9/technosphere_matrix': <13831x13831 sparse matrix of type '<class 'numpy.float64'>'\n",
       " \twith 147427 stored elements in Compressed Sparse Row format>,\n",
       " '/activity key': ('ecoinvent 3.3 cutoff', 'f171dd5c543667e25ad52e80efb83f0c'),\n",
       " '/classifications': [('EcoSpold01Categories', 'biomass/fuels'),\n",
       "  ('ISIC rev.4 ecoinvent',\n",
       "   '3520:Manufacture of gas; distribution of gaseous fuels through mains')],\n",
       " '/functional unit': 1,\n",
       " '/iterations': 10}"
      ]
     },
     "execution_count": 197,
     "metadata": {},
     "output_type": "execute_result"
    }
   ],
   "source": [
    "dict_with_paths_bw=from_multidim_dict_to_dict_with_paths_2(dict_bw_1act_10it)\n",
    "dict_with_paths_bw"
   ]
  },
  {
   "cell_type": "code",
   "execution_count": 135,
   "metadata": {},
   "outputs": [
    {
     "data": {
      "text/plain": [
       "6"
      ]
     },
     "execution_count": 135,
     "metadata": {},
     "output_type": "execute_result"
    }
   ],
   "source": [
    "len(dict_with_paths_bw)"
   ]
  },
  {
   "cell_type": "code",
   "execution_count": 136,
   "metadata": {
    "collapsed": true
   },
   "outputs": [
    {
     "data": {
      "text/plain": [
       "{'LCI params values': {0: {'bio_sample': array([  5.09762163e-05,   8.86651494e-06,   2.69043799e-07, ...,\n",
       "            8.31542918e-05,   3.74562893e-03,   4.20860582e-03]),\n",
       "   'tech_sample': array([ 1.        ,  1.        ,  1.        , ..., -0.99901086,\n",
       "           0.95062798,  0.99158311])},\n",
       "  1: {'bio_sample': array([  7.23315739e-05,   3.93809315e-06,   3.21284386e-07, ...,\n",
       "            2.01399155e-04,   2.47075750e-03,   4.48717655e-03]),\n",
       "   'tech_sample': array([ 1.        ,  1.        ,  1.        , ..., -0.99901086,\n",
       "           0.95062798,  0.99158311])},\n",
       "  2: {'bio_sample': array([  8.13846742e-05,   4.32979271e-06,   2.57368650e-07, ...,\n",
       "            6.59441890e-05,   3.88860805e-03,   3.83476544e-03]),\n",
       "   'tech_sample': array([ 1.        ,  1.        ,  1.        , ..., -0.99901086,\n",
       "           0.95062798,  0.99158311])},\n",
       "  3: {'bio_sample': array([  4.99777216e-05,   6.12421214e-06,   2.81638689e-07, ...,\n",
       "            1.59821993e-04,   4.07884432e-03,   5.19672692e-03]),\n",
       "   'tech_sample': array([ 1.        ,  1.        ,  1.        , ..., -0.99901086,\n",
       "           0.95062798,  0.99158311])},\n",
       "  4: {'bio_sample': array([  4.89484980e-05,   6.94810436e-06,   2.96860570e-07, ...,\n",
       "            2.19070004e-04,   3.12379966e-03,   9.87715996e-03]),\n",
       "   'tech_sample': array([ 1.        ,  1.        ,  1.        , ..., -0.99901086,\n",
       "           0.95062798,  0.99158311])},\n",
       "  5: {'bio_sample': array([  6.08090423e-05,   4.40890589e-06,   2.89118867e-07, ...,\n",
       "            5.42418736e-05,   4.89419536e-03,   4.86900176e-03]),\n",
       "   'tech_sample': array([ 1.        ,  1.        ,  1.        , ..., -0.99901086,\n",
       "           0.95062798,  0.99158311])},\n",
       "  6: {'bio_sample': array([  4.58650469e-05,   3.91277908e-06,   2.72757676e-07, ...,\n",
       "            1.22108337e-04,   3.40815196e-03,   4.04539567e-03]),\n",
       "   'tech_sample': array([ 1.        ,  1.        ,  1.        , ..., -0.99901086,\n",
       "           0.95062798,  0.99158311])},\n",
       "  7: {'bio_sample': array([  6.80930962e-05,   4.49035491e-06,   2.51570775e-07, ...,\n",
       "            1.78539403e-04,   3.41621584e-03,   6.88456001e-03]),\n",
       "   'tech_sample': array([ 1.        ,  1.        ,  1.        , ..., -0.99901086,\n",
       "           0.95062798,  0.99158311])},\n",
       "  8: {'bio_sample': array([  3.42381852e-05,   6.60224148e-06,   2.57304402e-07, ...,\n",
       "            1.93685599e-04,   4.35942092e-03,   4.71853269e-03]),\n",
       "   'tech_sample': array([ 1.        ,  1.        ,  1.        , ..., -0.99901086,\n",
       "           0.95062798,  0.99158311])},\n",
       "  9: {'bio_sample': array([  1.19574074e-04,   8.29249710e-06,   2.87721214e-07, ...,\n",
       "            3.63410439e-05,   2.28048296e-03,   7.16433839e-03]),\n",
       "   'tech_sample': array([ 1.        ,  1.        ,  1.        , ..., -0.99901086,\n",
       "           0.95062798,  0.99158311])}},\n",
       " 'Monte Carlo LCI results': {0: {'biosphere_matrix': <1960x13831 sparse matrix of type '<class 'numpy.float64'>'\n",
       "   \twith 353369 stored elements in Compressed Sparse Row format>,\n",
       "   'technosphere_matrix': <13831x13831 sparse matrix of type '<class 'numpy.float64'>'\n",
       "   \twith 147427 stored elements in Compressed Sparse Row format>},\n",
       "  1: {'biosphere_matrix': <1960x13831 sparse matrix of type '<class 'numpy.float64'>'\n",
       "   \twith 353369 stored elements in Compressed Sparse Row format>,\n",
       "   'technosphere_matrix': <13831x13831 sparse matrix of type '<class 'numpy.float64'>'\n",
       "   \twith 147427 stored elements in Compressed Sparse Row format>},\n",
       "  2: {'biosphere_matrix': <1960x13831 sparse matrix of type '<class 'numpy.float64'>'\n",
       "   \twith 353369 stored elements in Compressed Sparse Row format>,\n",
       "   'technosphere_matrix': <13831x13831 sparse matrix of type '<class 'numpy.float64'>'\n",
       "   \twith 147427 stored elements in Compressed Sparse Row format>},\n",
       "  3: {'biosphere_matrix': <1960x13831 sparse matrix of type '<class 'numpy.float64'>'\n",
       "   \twith 353369 stored elements in Compressed Sparse Row format>,\n",
       "   'technosphere_matrix': <13831x13831 sparse matrix of type '<class 'numpy.float64'>'\n",
       "   \twith 147427 stored elements in Compressed Sparse Row format>},\n",
       "  4: {'biosphere_matrix': <1960x13831 sparse matrix of type '<class 'numpy.float64'>'\n",
       "   \twith 353369 stored elements in Compressed Sparse Row format>,\n",
       "   'technosphere_matrix': <13831x13831 sparse matrix of type '<class 'numpy.float64'>'\n",
       "   \twith 147427 stored elements in Compressed Sparse Row format>},\n",
       "  5: {'biosphere_matrix': <1960x13831 sparse matrix of type '<class 'numpy.float64'>'\n",
       "   \twith 353369 stored elements in Compressed Sparse Row format>,\n",
       "   'technosphere_matrix': <13831x13831 sparse matrix of type '<class 'numpy.float64'>'\n",
       "   \twith 147427 stored elements in Compressed Sparse Row format>},\n",
       "  6: {'biosphere_matrix': <1960x13831 sparse matrix of type '<class 'numpy.float64'>'\n",
       "   \twith 353369 stored elements in Compressed Sparse Row format>,\n",
       "   'technosphere_matrix': <13831x13831 sparse matrix of type '<class 'numpy.float64'>'\n",
       "   \twith 147427 stored elements in Compressed Sparse Row format>},\n",
       "  7: {'biosphere_matrix': <1960x13831 sparse matrix of type '<class 'numpy.float64'>'\n",
       "   \twith 353369 stored elements in Compressed Sparse Row format>,\n",
       "   'technosphere_matrix': <13831x13831 sparse matrix of type '<class 'numpy.float64'>'\n",
       "   \twith 147427 stored elements in Compressed Sparse Row format>},\n",
       "  8: {'biosphere_matrix': <1960x13831 sparse matrix of type '<class 'numpy.float64'>'\n",
       "   \twith 353369 stored elements in Compressed Sparse Row format>,\n",
       "   'technosphere_matrix': <13831x13831 sparse matrix of type '<class 'numpy.float64'>'\n",
       "   \twith 147427 stored elements in Compressed Sparse Row format>},\n",
       "  9: {'biosphere_matrix': <1960x13831 sparse matrix of type '<class 'numpy.float64'>'\n",
       "   \twith 353369 stored elements in Compressed Sparse Row format>,\n",
       "   'technosphere_matrix': <13831x13831 sparse matrix of type '<class 'numpy.float64'>'\n",
       "   \twith 147427 stored elements in Compressed Sparse Row format>}},\n",
       " 'activity key': ('ecoinvent 3.3 cutoff', 'f171dd5c543667e25ad52e80efb83f0c'),\n",
       " 'classifications': [('EcoSpold01Categories', 'biomass/fuels'),\n",
       "  ('ISIC rev.4 ecoinvent',\n",
       "   '3520:Manufacture of gas; distribution of gaseous fuels through mains')],\n",
       " 'functional unit': 1,\n",
       " 'iterations': 10}"
      ]
     },
     "execution_count": 136,
     "metadata": {},
     "output_type": "execute_result"
    }
   ],
   "source": [
    "dict_bw_1act_10it_params"
   ]
  },
  {
   "cell_type": "code",
   "execution_count": 198,
   "metadata": {},
   "outputs": [
    {
     "name": "stdout",
     "output_type": "stream",
     "text": [
      "('/iterations', 10)\n",
      "('/activity key', ('ecoinvent 3.3 cutoff', 'f171dd5c543667e25ad52e80efb83f0c'))\n",
      "('/classifications', [('EcoSpold01Categories', 'biomass/fuels'), ('ISIC rev.4 ecoinvent', '3520:Manufacture of gas; distribution of gaseous fuels through mains')])\n",
      "('/functional unit', 1)\n",
      "('/Monte Carlo LCI results/0/biosphere_matrix', <1960x13831 sparse matrix of type '<class 'numpy.float64'>'\n",
      "\twith 353369 stored elements in Compressed Sparse Row format>)\n",
      "('/Monte Carlo LCI results/0/technosphere_matrix', <13831x13831 sparse matrix of type '<class 'numpy.float64'>'\n",
      "\twith 147427 stored elements in Compressed Sparse Row format>)\n",
      "leaf with no value\n",
      "('/Monte Carlo LCI results/1/biosphere_matrix', <1960x13831 sparse matrix of type '<class 'numpy.float64'>'\n",
      "\twith 353369 stored elements in Compressed Sparse Row format>)\n",
      "('/Monte Carlo LCI results/1/technosphere_matrix', <13831x13831 sparse matrix of type '<class 'numpy.float64'>'\n",
      "\twith 147427 stored elements in Compressed Sparse Row format>)\n",
      "leaf with no value\n",
      "('/Monte Carlo LCI results/2/biosphere_matrix', <1960x13831 sparse matrix of type '<class 'numpy.float64'>'\n",
      "\twith 353369 stored elements in Compressed Sparse Row format>)\n",
      "('/Monte Carlo LCI results/2/technosphere_matrix', <13831x13831 sparse matrix of type '<class 'numpy.float64'>'\n",
      "\twith 147427 stored elements in Compressed Sparse Row format>)\n",
      "leaf with no value\n",
      "('/Monte Carlo LCI results/3/biosphere_matrix', <1960x13831 sparse matrix of type '<class 'numpy.float64'>'\n",
      "\twith 353369 stored elements in Compressed Sparse Row format>)\n",
      "('/Monte Carlo LCI results/3/technosphere_matrix', <13831x13831 sparse matrix of type '<class 'numpy.float64'>'\n",
      "\twith 147427 stored elements in Compressed Sparse Row format>)\n",
      "leaf with no value\n",
      "('/Monte Carlo LCI results/4/biosphere_matrix', <1960x13831 sparse matrix of type '<class 'numpy.float64'>'\n",
      "\twith 353369 stored elements in Compressed Sparse Row format>)\n",
      "('/Monte Carlo LCI results/4/technosphere_matrix', <13831x13831 sparse matrix of type '<class 'numpy.float64'>'\n",
      "\twith 147427 stored elements in Compressed Sparse Row format>)\n",
      "leaf with no value\n",
      "('/Monte Carlo LCI results/5/biosphere_matrix', <1960x13831 sparse matrix of type '<class 'numpy.float64'>'\n",
      "\twith 353369 stored elements in Compressed Sparse Row format>)\n",
      "('/Monte Carlo LCI results/5/technosphere_matrix', <13831x13831 sparse matrix of type '<class 'numpy.float64'>'\n",
      "\twith 147427 stored elements in Compressed Sparse Row format>)\n",
      "leaf with no value\n",
      "('/Monte Carlo LCI results/6/biosphere_matrix', <1960x13831 sparse matrix of type '<class 'numpy.float64'>'\n",
      "\twith 353369 stored elements in Compressed Sparse Row format>)\n",
      "('/Monte Carlo LCI results/6/technosphere_matrix', <13831x13831 sparse matrix of type '<class 'numpy.float64'>'\n",
      "\twith 147427 stored elements in Compressed Sparse Row format>)\n",
      "leaf with no value\n",
      "('/Monte Carlo LCI results/7/biosphere_matrix', <1960x13831 sparse matrix of type '<class 'numpy.float64'>'\n",
      "\twith 353369 stored elements in Compressed Sparse Row format>)\n",
      "('/Monte Carlo LCI results/7/technosphere_matrix', <13831x13831 sparse matrix of type '<class 'numpy.float64'>'\n",
      "\twith 147427 stored elements in Compressed Sparse Row format>)\n",
      "leaf with no value\n",
      "('/Monte Carlo LCI results/8/biosphere_matrix', <1960x13831 sparse matrix of type '<class 'numpy.float64'>'\n",
      "\twith 353369 stored elements in Compressed Sparse Row format>)\n",
      "('/Monte Carlo LCI results/8/technosphere_matrix', <13831x13831 sparse matrix of type '<class 'numpy.float64'>'\n",
      "\twith 147427 stored elements in Compressed Sparse Row format>)\n",
      "leaf with no value\n",
      "('/Monte Carlo LCI results/9/biosphere_matrix', <1960x13831 sparse matrix of type '<class 'numpy.float64'>'\n",
      "\twith 353369 stored elements in Compressed Sparse Row format>)\n",
      "('/Monte Carlo LCI results/9/technosphere_matrix', <13831x13831 sparse matrix of type '<class 'numpy.float64'>'\n",
      "\twith 147427 stored elements in Compressed Sparse Row format>)\n",
      "leaf with no value\n",
      "leaf with no value\n",
      "('/LCI params values/0/tech_sample', array([ 1.        ,  1.        ,  1.        , ..., -0.99901086,\n",
      "        0.95062798,  0.99158311]))\n",
      "('/LCI params values/0/bio_sample', array([  5.09762163e-05,   8.86651494e-06,   2.69043799e-07, ...,\n",
      "         8.31542918e-05,   3.74562893e-03,   4.20860582e-03]))\n",
      "leaf with no value\n",
      "('/LCI params values/1/tech_sample', array([ 1.        ,  1.        ,  1.        , ..., -0.99901086,\n",
      "        0.95062798,  0.99158311]))\n",
      "('/LCI params values/1/bio_sample', array([  7.23315739e-05,   3.93809315e-06,   3.21284386e-07, ...,\n",
      "         2.01399155e-04,   2.47075750e-03,   4.48717655e-03]))\n",
      "leaf with no value\n",
      "('/LCI params values/2/tech_sample', array([ 1.        ,  1.        ,  1.        , ..., -0.99901086,\n",
      "        0.95062798,  0.99158311]))\n",
      "('/LCI params values/2/bio_sample', array([  8.13846742e-05,   4.32979271e-06,   2.57368650e-07, ...,\n",
      "         6.59441890e-05,   3.88860805e-03,   3.83476544e-03]))\n",
      "leaf with no value\n",
      "('/LCI params values/3/tech_sample', array([ 1.        ,  1.        ,  1.        , ..., -0.99901086,\n",
      "        0.95062798,  0.99158311]))\n",
      "('/LCI params values/3/bio_sample', array([  4.99777216e-05,   6.12421214e-06,   2.81638689e-07, ...,\n",
      "         1.59821993e-04,   4.07884432e-03,   5.19672692e-03]))\n",
      "leaf with no value\n",
      "('/LCI params values/4/tech_sample', array([ 1.        ,  1.        ,  1.        , ..., -0.99901086,\n",
      "        0.95062798,  0.99158311]))\n",
      "('/LCI params values/4/bio_sample', array([  4.89484980e-05,   6.94810436e-06,   2.96860570e-07, ...,\n",
      "         2.19070004e-04,   3.12379966e-03,   9.87715996e-03]))\n",
      "leaf with no value\n",
      "('/LCI params values/5/tech_sample', array([ 1.        ,  1.        ,  1.        , ..., -0.99901086,\n",
      "        0.95062798,  0.99158311]))\n",
      "('/LCI params values/5/bio_sample', array([  6.08090423e-05,   4.40890589e-06,   2.89118867e-07, ...,\n",
      "         5.42418736e-05,   4.89419536e-03,   4.86900176e-03]))\n",
      "leaf with no value\n",
      "('/LCI params values/6/tech_sample', array([ 1.        ,  1.        ,  1.        , ..., -0.99901086,\n",
      "        0.95062798,  0.99158311]))\n",
      "('/LCI params values/6/bio_sample', array([  4.58650469e-05,   3.91277908e-06,   2.72757676e-07, ...,\n",
      "         1.22108337e-04,   3.40815196e-03,   4.04539567e-03]))\n",
      "leaf with no value\n",
      "('/LCI params values/7/tech_sample', array([ 1.        ,  1.        ,  1.        , ..., -0.99901086,\n",
      "        0.95062798,  0.99158311]))\n",
      "('/LCI params values/7/bio_sample', array([  6.80930962e-05,   4.49035491e-06,   2.51570775e-07, ...,\n",
      "         1.78539403e-04,   3.41621584e-03,   6.88456001e-03]))\n",
      "leaf with no value\n",
      "('/LCI params values/8/tech_sample', array([ 1.        ,  1.        ,  1.        , ..., -0.99901086,\n",
      "        0.95062798,  0.99158311]))\n",
      "('/LCI params values/8/bio_sample', array([  3.42381852e-05,   6.60224148e-06,   2.57304402e-07, ...,\n",
      "         1.93685599e-04,   4.35942092e-03,   4.71853269e-03]))\n",
      "leaf with no value\n",
      "('/LCI params values/9/tech_sample', array([ 1.        ,  1.        ,  1.        , ..., -0.99901086,\n",
      "        0.95062798,  0.99158311]))\n",
      "('/LCI params values/9/bio_sample', array([  1.19574074e-04,   8.29249710e-06,   2.87721214e-07, ...,\n",
      "         3.63410439e-05,   2.28048296e-03,   7.16433839e-03]))\n",
      "leaf with no value\n",
      "leaf with no value\n",
      "Dictionary with paths as keys as needed in HDF5 format is ready\n"
     ]
    },
    {
     "data": {
      "text/plain": [
       "{'/LCI params values/0/bio_sample': array([  5.09762163e-05,   8.86651494e-06,   2.69043799e-07, ...,\n",
       "          8.31542918e-05,   3.74562893e-03,   4.20860582e-03]),\n",
       " '/LCI params values/0/tech_sample': array([ 1.        ,  1.        ,  1.        , ..., -0.99901086,\n",
       "         0.95062798,  0.99158311]),\n",
       " '/LCI params values/1/bio_sample': array([  7.23315739e-05,   3.93809315e-06,   3.21284386e-07, ...,\n",
       "          2.01399155e-04,   2.47075750e-03,   4.48717655e-03]),\n",
       " '/LCI params values/1/tech_sample': array([ 1.        ,  1.        ,  1.        , ..., -0.99901086,\n",
       "         0.95062798,  0.99158311]),\n",
       " '/LCI params values/2/bio_sample': array([  8.13846742e-05,   4.32979271e-06,   2.57368650e-07, ...,\n",
       "          6.59441890e-05,   3.88860805e-03,   3.83476544e-03]),\n",
       " '/LCI params values/2/tech_sample': array([ 1.        ,  1.        ,  1.        , ..., -0.99901086,\n",
       "         0.95062798,  0.99158311]),\n",
       " '/LCI params values/3/bio_sample': array([  4.99777216e-05,   6.12421214e-06,   2.81638689e-07, ...,\n",
       "          1.59821993e-04,   4.07884432e-03,   5.19672692e-03]),\n",
       " '/LCI params values/3/tech_sample': array([ 1.        ,  1.        ,  1.        , ..., -0.99901086,\n",
       "         0.95062798,  0.99158311]),\n",
       " '/LCI params values/4/bio_sample': array([  4.89484980e-05,   6.94810436e-06,   2.96860570e-07, ...,\n",
       "          2.19070004e-04,   3.12379966e-03,   9.87715996e-03]),\n",
       " '/LCI params values/4/tech_sample': array([ 1.        ,  1.        ,  1.        , ..., -0.99901086,\n",
       "         0.95062798,  0.99158311]),\n",
       " '/LCI params values/5/bio_sample': array([  6.08090423e-05,   4.40890589e-06,   2.89118867e-07, ...,\n",
       "          5.42418736e-05,   4.89419536e-03,   4.86900176e-03]),\n",
       " '/LCI params values/5/tech_sample': array([ 1.        ,  1.        ,  1.        , ..., -0.99901086,\n",
       "         0.95062798,  0.99158311]),\n",
       " '/LCI params values/6/bio_sample': array([  4.58650469e-05,   3.91277908e-06,   2.72757676e-07, ...,\n",
       "          1.22108337e-04,   3.40815196e-03,   4.04539567e-03]),\n",
       " '/LCI params values/6/tech_sample': array([ 1.        ,  1.        ,  1.        , ..., -0.99901086,\n",
       "         0.95062798,  0.99158311]),\n",
       " '/LCI params values/7/bio_sample': array([  6.80930962e-05,   4.49035491e-06,   2.51570775e-07, ...,\n",
       "          1.78539403e-04,   3.41621584e-03,   6.88456001e-03]),\n",
       " '/LCI params values/7/tech_sample': array([ 1.        ,  1.        ,  1.        , ..., -0.99901086,\n",
       "         0.95062798,  0.99158311]),\n",
       " '/LCI params values/8/bio_sample': array([  3.42381852e-05,   6.60224148e-06,   2.57304402e-07, ...,\n",
       "          1.93685599e-04,   4.35942092e-03,   4.71853269e-03]),\n",
       " '/LCI params values/8/tech_sample': array([ 1.        ,  1.        ,  1.        , ..., -0.99901086,\n",
       "         0.95062798,  0.99158311]),\n",
       " '/LCI params values/9/bio_sample': array([  1.19574074e-04,   8.29249710e-06,   2.87721214e-07, ...,\n",
       "          3.63410439e-05,   2.28048296e-03,   7.16433839e-03]),\n",
       " '/LCI params values/9/tech_sample': array([ 1.        ,  1.        ,  1.        , ..., -0.99901086,\n",
       "         0.95062798,  0.99158311]),\n",
       " '/Monte Carlo LCI results/0/biosphere_matrix': <1960x13831 sparse matrix of type '<class 'numpy.float64'>'\n",
       " \twith 353369 stored elements in Compressed Sparse Row format>,\n",
       " '/Monte Carlo LCI results/0/technosphere_matrix': <13831x13831 sparse matrix of type '<class 'numpy.float64'>'\n",
       " \twith 147427 stored elements in Compressed Sparse Row format>,\n",
       " '/Monte Carlo LCI results/1/biosphere_matrix': <1960x13831 sparse matrix of type '<class 'numpy.float64'>'\n",
       " \twith 353369 stored elements in Compressed Sparse Row format>,\n",
       " '/Monte Carlo LCI results/1/technosphere_matrix': <13831x13831 sparse matrix of type '<class 'numpy.float64'>'\n",
       " \twith 147427 stored elements in Compressed Sparse Row format>,\n",
       " '/Monte Carlo LCI results/2/biosphere_matrix': <1960x13831 sparse matrix of type '<class 'numpy.float64'>'\n",
       " \twith 353369 stored elements in Compressed Sparse Row format>,\n",
       " '/Monte Carlo LCI results/2/technosphere_matrix': <13831x13831 sparse matrix of type '<class 'numpy.float64'>'\n",
       " \twith 147427 stored elements in Compressed Sparse Row format>,\n",
       " '/Monte Carlo LCI results/3/biosphere_matrix': <1960x13831 sparse matrix of type '<class 'numpy.float64'>'\n",
       " \twith 353369 stored elements in Compressed Sparse Row format>,\n",
       " '/Monte Carlo LCI results/3/technosphere_matrix': <13831x13831 sparse matrix of type '<class 'numpy.float64'>'\n",
       " \twith 147427 stored elements in Compressed Sparse Row format>,\n",
       " '/Monte Carlo LCI results/4/biosphere_matrix': <1960x13831 sparse matrix of type '<class 'numpy.float64'>'\n",
       " \twith 353369 stored elements in Compressed Sparse Row format>,\n",
       " '/Monte Carlo LCI results/4/technosphere_matrix': <13831x13831 sparse matrix of type '<class 'numpy.float64'>'\n",
       " \twith 147427 stored elements in Compressed Sparse Row format>,\n",
       " '/Monte Carlo LCI results/5/biosphere_matrix': <1960x13831 sparse matrix of type '<class 'numpy.float64'>'\n",
       " \twith 353369 stored elements in Compressed Sparse Row format>,\n",
       " '/Monte Carlo LCI results/5/technosphere_matrix': <13831x13831 sparse matrix of type '<class 'numpy.float64'>'\n",
       " \twith 147427 stored elements in Compressed Sparse Row format>,\n",
       " '/Monte Carlo LCI results/6/biosphere_matrix': <1960x13831 sparse matrix of type '<class 'numpy.float64'>'\n",
       " \twith 353369 stored elements in Compressed Sparse Row format>,\n",
       " '/Monte Carlo LCI results/6/technosphere_matrix': <13831x13831 sparse matrix of type '<class 'numpy.float64'>'\n",
       " \twith 147427 stored elements in Compressed Sparse Row format>,\n",
       " '/Monte Carlo LCI results/7/biosphere_matrix': <1960x13831 sparse matrix of type '<class 'numpy.float64'>'\n",
       " \twith 353369 stored elements in Compressed Sparse Row format>,\n",
       " '/Monte Carlo LCI results/7/technosphere_matrix': <13831x13831 sparse matrix of type '<class 'numpy.float64'>'\n",
       " \twith 147427 stored elements in Compressed Sparse Row format>,\n",
       " '/Monte Carlo LCI results/8/biosphere_matrix': <1960x13831 sparse matrix of type '<class 'numpy.float64'>'\n",
       " \twith 353369 stored elements in Compressed Sparse Row format>,\n",
       " '/Monte Carlo LCI results/8/technosphere_matrix': <13831x13831 sparse matrix of type '<class 'numpy.float64'>'\n",
       " \twith 147427 stored elements in Compressed Sparse Row format>,\n",
       " '/Monte Carlo LCI results/9/biosphere_matrix': <1960x13831 sparse matrix of type '<class 'numpy.float64'>'\n",
       " \twith 353369 stored elements in Compressed Sparse Row format>,\n",
       " '/Monte Carlo LCI results/9/technosphere_matrix': <13831x13831 sparse matrix of type '<class 'numpy.float64'>'\n",
       " \twith 147427 stored elements in Compressed Sparse Row format>,\n",
       " '/activity key': ('ecoinvent 3.3 cutoff', 'f171dd5c543667e25ad52e80efb83f0c'),\n",
       " '/classifications': [('EcoSpold01Categories', 'biomass/fuels'),\n",
       "  ('ISIC rev.4 ecoinvent',\n",
       "   '3520:Manufacture of gas; distribution of gaseous fuels through mains')],\n",
       " '/functional unit': 1,\n",
       " '/iterations': 10}"
      ]
     },
     "execution_count": 198,
     "metadata": {},
     "output_type": "execute_result"
    }
   ],
   "source": [
    "dict_with_paths_bw_params=from_multidim_dict_to_dict_with_paths_2(dict_bw_1act_10it_params)\n",
    "dict_with_paths_bw_params"
   ]
  },
  {
   "cell_type": "code",
   "execution_count": 60,
   "metadata": {
    "scrolled": true
   },
   "outputs": [
    {
     "data": {
      "text/plain": [
       "{'Monte Carlo LCI results': {1: {'biosphere_matrix': <1960x13831 sparse matrix of type '<class 'numpy.float64'>'\n",
       "   \twith 353369 stored elements in Compressed Sparse Row format>,\n",
       "   'technosphere_matrix': <13831x13831 sparse matrix of type '<class 'numpy.float64'>'\n",
       "   \twith 147427 stored elements in Compressed Sparse Row format>},\n",
       "  2: {'biosphere_matrix': <1960x13831 sparse matrix of type '<class 'numpy.float64'>'\n",
       "   \twith 353369 stored elements in Compressed Sparse Row format>,\n",
       "   'technosphere_matrix': <13831x13831 sparse matrix of type '<class 'numpy.float64'>'\n",
       "   \twith 147427 stored elements in Compressed Sparse Row format>},\n",
       "  3: {'biosphere_matrix': <1960x13831 sparse matrix of type '<class 'numpy.float64'>'\n",
       "   \twith 353369 stored elements in Compressed Sparse Row format>,\n",
       "   'technosphere_matrix': <13831x13831 sparse matrix of type '<class 'numpy.float64'>'\n",
       "   \twith 147427 stored elements in Compressed Sparse Row format>},\n",
       "  4: {'biosphere_matrix': <1960x13831 sparse matrix of type '<class 'numpy.float64'>'\n",
       "   \twith 353369 stored elements in Compressed Sparse Row format>,\n",
       "   'technosphere_matrix': <13831x13831 sparse matrix of type '<class 'numpy.float64'>'\n",
       "   \twith 147427 stored elements in Compressed Sparse Row format>},\n",
       "  5: {'biosphere_matrix': <1960x13831 sparse matrix of type '<class 'numpy.float64'>'\n",
       "   \twith 353369 stored elements in Compressed Sparse Row format>,\n",
       "   'technosphere_matrix': <13831x13831 sparse matrix of type '<class 'numpy.float64'>'\n",
       "   \twith 147427 stored elements in Compressed Sparse Row format>},\n",
       "  6: {'biosphere_matrix': <1960x13831 sparse matrix of type '<class 'numpy.float64'>'\n",
       "   \twith 353369 stored elements in Compressed Sparse Row format>,\n",
       "   'technosphere_matrix': <13831x13831 sparse matrix of type '<class 'numpy.float64'>'\n",
       "   \twith 147427 stored elements in Compressed Sparse Row format>},\n",
       "  7: {'biosphere_matrix': <1960x13831 sparse matrix of type '<class 'numpy.float64'>'\n",
       "   \twith 353369 stored elements in Compressed Sparse Row format>,\n",
       "   'technosphere_matrix': <13831x13831 sparse matrix of type '<class 'numpy.float64'>'\n",
       "   \twith 147427 stored elements in Compressed Sparse Row format>},\n",
       "  8: {'biosphere_matrix': <1960x13831 sparse matrix of type '<class 'numpy.float64'>'\n",
       "   \twith 353369 stored elements in Compressed Sparse Row format>,\n",
       "   'technosphere_matrix': <13831x13831 sparse matrix of type '<class 'numpy.float64'>'\n",
       "   \twith 147427 stored elements in Compressed Sparse Row format>},\n",
       "  9: {'biosphere_matrix': <1960x13831 sparse matrix of type '<class 'numpy.float64'>'\n",
       "   \twith 353369 stored elements in Compressed Sparse Row format>,\n",
       "   'technosphere_matrix': <13831x13831 sparse matrix of type '<class 'numpy.float64'>'\n",
       "   \twith 147427 stored elements in Compressed Sparse Row format>}},\n",
       " 'activity key': ('ecoinvent 3.3 cutoff', 'f171dd5c543667e25ad52e80efb83f0c'),\n",
       " 'classifications': [('EcoSpold01Categories', 'biomass/fuels'),\n",
       "  ('ISIC rev.4 ecoinvent',\n",
       "   '3520:Manufacture of gas; distribution of gaseous fuels through mains')],\n",
       " 'functional unit': 1,\n",
       " 'iterations': 10}"
      ]
     },
     "execution_count": 60,
     "metadata": {},
     "output_type": "execute_result"
    }
   ],
   "source": [
    "dict_bw_1act_10it"
   ]
  },
  {
   "cell_type": "code",
   "execution_count": 61,
   "metadata": {
    "collapsed": true
   },
   "outputs": [],
   "source": [
    "hdf5_file_name=\"test_bw.hdf5\"\n",
    "hdf5_file_bw_test=h5py.File(path_for_saving+\"\\\\\"+hdf5_file_name,\"w\")"
   ]
  },
  {
   "cell_type": "code",
   "execution_count": 65,
   "metadata": {},
   "outputs": [
    {
     "ename": "TypeError",
     "evalue": "Object dtype dtype('O') has no native HDF5 equivalent",
     "output_type": "error",
     "traceback": [
      "\u001b[1;31m---------------------------------------------------------------------------\u001b[0m",
      "\u001b[1;31mTypeError\u001b[0m                                 Traceback (most recent call last)",
      "\u001b[1;32m<ipython-input-65-ee2c7df5a514>\u001b[0m in \u001b[0;36m<module>\u001b[1;34m()\u001b[0m\n\u001b[1;32m----> 1\u001b[1;33m \u001b[0mdataset\u001b[0m\u001b[1;33m=\u001b[0m\u001b[0mhdf5_file_bw_test\u001b[0m\u001b[1;33m.\u001b[0m\u001b[0mcreate_dataset\u001b[0m\u001b[1;33m(\u001b[0m\u001b[1;34m'/Monte Carlo LCI results/0/biosphere_matrix'\u001b[0m\u001b[1;33m,\u001b[0m\u001b[0mdata\u001b[0m\u001b[1;33m=\u001b[0m\u001b[0mdict_with_paths_bw\u001b[0m\u001b[1;33m[\u001b[0m\u001b[1;34m'/Monte Carlo LCI results/0/biosphere_matrix'\u001b[0m\u001b[1;33m]\u001b[0m\u001b[1;33m)\u001b[0m\u001b[1;33m\u001b[0m\u001b[0m\n\u001b[0m\u001b[0;32m      2\u001b[0m \u001b[1;33m\u001b[0m\u001b[0m\n",
      "\u001b[1;32m~\\Anaconda3\\envs\\Brighway2\\lib\\site-packages\\h5py\\_hl\\group.py\u001b[0m in \u001b[0;36mcreate_dataset\u001b[1;34m(self, name, shape, dtype, data, **kwds)\u001b[0m\n\u001b[0;32m    106\u001b[0m         \"\"\"\n\u001b[0;32m    107\u001b[0m         \u001b[1;32mwith\u001b[0m \u001b[0mphil\u001b[0m\u001b[1;33m:\u001b[0m\u001b[1;33m\u001b[0m\u001b[0m\n\u001b[1;32m--> 108\u001b[1;33m             \u001b[0mdsid\u001b[0m \u001b[1;33m=\u001b[0m \u001b[0mdataset\u001b[0m\u001b[1;33m.\u001b[0m\u001b[0mmake_new_dset\u001b[0m\u001b[1;33m(\u001b[0m\u001b[0mself\u001b[0m\u001b[1;33m,\u001b[0m \u001b[0mshape\u001b[0m\u001b[1;33m,\u001b[0m \u001b[0mdtype\u001b[0m\u001b[1;33m,\u001b[0m \u001b[0mdata\u001b[0m\u001b[1;33m,\u001b[0m \u001b[1;33m**\u001b[0m\u001b[0mkwds\u001b[0m\u001b[1;33m)\u001b[0m\u001b[1;33m\u001b[0m\u001b[0m\n\u001b[0m\u001b[0;32m    109\u001b[0m             \u001b[0mdset\u001b[0m \u001b[1;33m=\u001b[0m \u001b[0mdataset\u001b[0m\u001b[1;33m.\u001b[0m\u001b[0mDataset\u001b[0m\u001b[1;33m(\u001b[0m\u001b[0mdsid\u001b[0m\u001b[1;33m)\u001b[0m\u001b[1;33m\u001b[0m\u001b[0m\n\u001b[0;32m    110\u001b[0m             \u001b[1;32mif\u001b[0m \u001b[0mname\u001b[0m \u001b[1;32mis\u001b[0m \u001b[1;32mnot\u001b[0m \u001b[1;32mNone\u001b[0m\u001b[1;33m:\u001b[0m\u001b[1;33m\u001b[0m\u001b[0m\n",
      "\u001b[1;32m~\\Anaconda3\\envs\\Brighway2\\lib\\site-packages\\h5py\\_hl\\dataset.py\u001b[0m in \u001b[0;36mmake_new_dset\u001b[1;34m(parent, shape, dtype, data, chunks, compression, shuffle, fletcher32, maxshape, compression_opts, fillvalue, scaleoffset, track_times)\u001b[0m\n\u001b[0;32m     95\u001b[0m         \u001b[1;32melse\u001b[0m\u001b[1;33m:\u001b[0m\u001b[1;33m\u001b[0m\u001b[0m\n\u001b[0;32m     96\u001b[0m             \u001b[0mdtype\u001b[0m \u001b[1;33m=\u001b[0m \u001b[0mnumpy\u001b[0m\u001b[1;33m.\u001b[0m\u001b[0mdtype\u001b[0m\u001b[1;33m(\u001b[0m\u001b[0mdtype\u001b[0m\u001b[1;33m)\u001b[0m\u001b[1;33m\u001b[0m\u001b[0m\n\u001b[1;32m---> 97\u001b[1;33m         \u001b[0mtid\u001b[0m \u001b[1;33m=\u001b[0m \u001b[0mh5t\u001b[0m\u001b[1;33m.\u001b[0m\u001b[0mpy_create\u001b[0m\u001b[1;33m(\u001b[0m\u001b[0mdtype\u001b[0m\u001b[1;33m,\u001b[0m \u001b[0mlogical\u001b[0m\u001b[1;33m=\u001b[0m\u001b[1;36m1\u001b[0m\u001b[1;33m)\u001b[0m\u001b[1;33m\u001b[0m\u001b[0m\n\u001b[0m\u001b[0;32m     98\u001b[0m \u001b[1;33m\u001b[0m\u001b[0m\n\u001b[0;32m     99\u001b[0m     \u001b[1;31m# Legacy\u001b[0m\u001b[1;33m\u001b[0m\u001b[1;33m\u001b[0m\u001b[0m\n",
      "\u001b[1;32mh5py\\h5t.pyx\u001b[0m in \u001b[0;36mh5py.h5t.py_create (C:\\Minonda\\conda-bld\\h5py_1496879986092\\work\\h5py\\h5t.c:18127)\u001b[1;34m()\u001b[0m\n",
      "\u001b[1;32mh5py\\h5t.pyx\u001b[0m in \u001b[0;36mh5py.h5t.py_create (C:\\Minonda\\conda-bld\\h5py_1496879986092\\work\\h5py\\h5t.c:17947)\u001b[1;34m()\u001b[0m\n",
      "\u001b[1;32mh5py\\h5t.pyx\u001b[0m in \u001b[0;36mh5py.h5t.py_create (C:\\Minonda\\conda-bld\\h5py_1496879986092\\work\\h5py\\h5t.c:17848)\u001b[1;34m()\u001b[0m\n",
      "\u001b[1;31mTypeError\u001b[0m: Object dtype dtype('O') has no native HDF5 equivalent"
     ]
    }
   ],
   "source": [
    "dataset=hdf5_file_bw_test.create_dataset('/Monte Carlo LCI results/0/biosphere_matrix',data=dict_with_paths_bw['/Monte Carlo LCI results/0/biosphere_matrix'])\n",
    "    "
   ]
  },
  {
   "cell_type": "code",
   "execution_count": 66,
   "metadata": {},
   "outputs": [
    {
     "data": {
      "text/plain": [
       "<1960x13831 sparse matrix of type '<class 'numpy.float64'>'\n",
       "\twith 353369 stored elements in Compressed Sparse Row format>"
      ]
     },
     "execution_count": 66,
     "metadata": {},
     "output_type": "execute_result"
    }
   ],
   "source": [
    "dict_with_paths_bw['/Monte Carlo LCI results/0/biosphere_matrix']"
   ]
  },
  {
   "cell_type": "code",
   "execution_count": 67,
   "metadata": {},
   "outputs": [
    {
     "data": {
      "text/plain": [
       "scipy.sparse.csr.csr_matrix"
      ]
     },
     "execution_count": 67,
     "metadata": {},
     "output_type": "execute_result"
    }
   ],
   "source": [
    "type(dict_with_paths_bw['/Monte Carlo LCI results/0/biosphere_matrix'])"
   ]
  },
  {
   "cell_type": "code",
   "execution_count": null,
   "metadata": {
    "collapsed": true
   },
   "outputs": [],
   "source": [
    "hdf5_file_bw_test.create_dataset"
   ]
  },
  {
   "cell_type": "markdown",
   "metadata": {},
   "source": [
    "## Transform sparse matrix to hdf5 format and retrieve it"
   ]
  },
  {
   "cell_type": "markdown",
   "metadata": {},
   "source": [
    "How to store scipy csr matrix in HDF5 format : https://stackoverflow.com/questions/24947028/whats-the-best-way-to-serialize-a-large-scipy-sparse-matrix, https://stackoverflow.com/questions/11129429/storing-numpy-sparse-matrix-in-hdf5-pytables/22589030#22589030, https://myjourneyasadatascientist.com/2015/09/11/hdf5-pytables-and-sparse-matrices-optimizing-calculations/, https://stackoverflow.com/questions/43390038/storing-scipy-sparse-matrix-as-hdf5\n"
   ]
  },
  {
   "cell_type": "code",
   "execution_count": null,
   "metadata": {
    "collapsed": true
   },
   "outputs": [],
   "source": [
    "# Raw code for transforming sparse matrix to hdf5 and retrieve it\n",
    "\n",
    "import numpy as np\n",
    "import h5py\n",
    "from scipy import sparse\n",
    "\n",
    "M = sparse.random(10,10,.2, 'csr')\n",
    "print(repr(M))\n",
    "\n",
    "print(M.data)\n",
    "print(M.indices)\n",
    "print(M.indptr)\n",
    "\n",
    "f = h5py.File('sparse.h5','w')\n",
    "g = f.create_group('Mcsr')\n",
    "g.create_dataset('data',data=M.data)\n",
    "g.create_dataset('indptr',data=M.indptr)\n",
    "g.create_dataset('indices',data=M.indices)\n",
    "g.attrs['shape'] = M.shape\n",
    "f.close()\n",
    "\n",
    "f = h5py.File('sparse.h5','r')\n",
    "print(list(f.keys()))\n",
    "print(list(f['Mcsr'].keys()))\n",
    "\n",
    "g2 = f['Mcsr']\n",
    "print(g2.attrs['shape'])\n",
    "\n",
    "M1 = sparse.csr_matrix((g2['data'][:],g2['indices'][:],\n",
    "    g2['indptr'][:]), g2.attrs['shape'])\n",
    "print(repr(M1))\n",
    "print(np.allclose(M1.A, M.A))\n",
    "f.close()"
   ]
  },
  {
   "cell_type": "code",
   "execution_count": 68,
   "metadata": {
    "collapsed": true
   },
   "outputs": [],
   "source": [
    "csr_matrix_example=dict_with_paths_bw['/Monte Carlo LCI results/0/biosphere_matrix']"
   ]
  },
  {
   "cell_type": "code",
   "execution_count": 8,
   "metadata": {
    "collapsed": true
   },
   "outputs": [],
   "source": [
    "# function create a group containing all the information of a csr matrix scipy  \n",
    "\n",
    "import scipy as sp\n",
    "\n",
    "def csr_matrix_to_hdf5(csr,hdf5_file_path,group_full_path):\n",
    "    \n",
    "    # Retrieve or create the hdf5 file and the groups and subgroups\n",
    "    hdf5_file=h5py.File(hdf5_file_path,'a')\n",
    "    group=hdf5_file.require_group(group_full_path)\n",
    "    \n",
    "    # Create datasets containing values of csr matrix\n",
    "    group.create_dataset('data',data=csr.data)\n",
    "    group.create_dataset('indptr',data=csr.indptr)\n",
    "    group.create_dataset('indices',data=csr.indices)\n",
    "    group.attrs['shape']=csr.shape\n",
    "    \n",
    "    hdf5_file.close()\n",
    "    \n",
    "    return;\n",
    "    \n",
    "# function to rebuild csr matrix from hdf5 storage\n",
    "\n",
    "def hdf5_to_csr_matrix(hdf5_file_path,group_full_path):\n",
    "    \n",
    "    # Access hdf5 file and storage group of the csr info\n",
    "    hdf5_file=h5py.File(hdf5_file_path,'r')\n",
    "    group=hdf5_file[group_full_path]\n",
    "    \n",
    "    #Rebuild csr matrix\n",
    "    csr=sp.sparse.csr_matrix((group['data'][:],group['indices'][:],group['indptr'][:]), group.attrs['shape'])\n",
    "    \n",
    "    return csr;"
   ]
  },
  {
   "cell_type": "code",
   "execution_count": 81,
   "metadata": {
    "collapsed": true
   },
   "outputs": [],
   "source": [
    "csr=csr_matrix_example\n",
    "hdf5_file_path=path_for_saving+'\\\\csr_test.hdf5'\n",
    "group_full_path='/project_1/csr_1'"
   ]
  },
  {
   "cell_type": "code",
   "execution_count": 84,
   "metadata": {
    "collapsed": true
   },
   "outputs": [],
   "source": [
    "csr_matrix_to_hdf5(csr,hdf5_file_path,group_full_path)"
   ]
  },
  {
   "cell_type": "code",
   "execution_count": 87,
   "metadata": {
    "collapsed": true
   },
   "outputs": [],
   "source": [
    "csr_rebuild=hdf5_to_csr_matrix(hdf5_file_path,group_full_path)"
   ]
  },
  {
   "cell_type": "code",
   "execution_count": 88,
   "metadata": {},
   "outputs": [
    {
     "data": {
      "text/plain": [
       "<1960x13831 sparse matrix of type '<class 'numpy.float64'>'\n",
       "\twith 353369 stored elements in Compressed Sparse Row format>"
      ]
     },
     "execution_count": 88,
     "metadata": {},
     "output_type": "execute_result"
    }
   ],
   "source": [
    "csr_rebuild"
   ]
  },
  {
   "cell_type": "code",
   "execution_count": 89,
   "metadata": {},
   "outputs": [
    {
     "data": {
      "text/plain": [
       "<1960x13831 sparse matrix of type '<class 'numpy.float64'>'\n",
       "\twith 353369 stored elements in Compressed Sparse Row format>"
      ]
     },
     "execution_count": 89,
     "metadata": {},
     "output_type": "execute_result"
    }
   ],
   "source": [
    "csr"
   ]
  },
  {
   "cell_type": "code",
   "execution_count": 95,
   "metadata": {},
   "outputs": [
    {
     "data": {
      "text/plain": [
       "<1960x13831 sparse matrix of type '<class 'numpy.bool_'>'\n",
       "\twith 0 stored elements in Compressed Sparse Row format>"
      ]
     },
     "execution_count": 95,
     "metadata": {},
     "output_type": "execute_result"
    }
   ],
   "source": [
    "csr!=csr_rebuild"
   ]
  },
  {
   "cell_type": "code",
   "execution_count": 96,
   "metadata": {
    "collapsed": true
   },
   "outputs": [],
   "source": [
    "hdf5_csr_file=h5py.File(hdf5_file_path,'r')"
   ]
  },
  {
   "cell_type": "code",
   "execution_count": 97,
   "metadata": {},
   "outputs": [
    {
     "data": {
      "text/plain": [
       "['project_1']"
      ]
     },
     "execution_count": 97,
     "metadata": {},
     "output_type": "execute_result"
    }
   ],
   "source": [
    "[key for key in hdf5_csr_file.keys()]"
   ]
  },
  {
   "cell_type": "code",
   "execution_count": 98,
   "metadata": {
    "collapsed": true
   },
   "outputs": [],
   "source": [
    "group=hdf5_csr_file[group_full_path]"
   ]
  },
  {
   "cell_type": "code",
   "execution_count": 100,
   "metadata": {
    "collapsed": true
   },
   "outputs": [],
   "source": [
    "data=group['data']"
   ]
  },
  {
   "cell_type": "code",
   "execution_count": 102,
   "metadata": {},
   "outputs": [
    {
     "data": {
      "text/plain": [
       "array([  6.14740129e-05,   4.99028010e-06,   2.76879007e-07, ...,\n",
       "         1.80029136e-04,   3.42019997e-03,   3.42019997e-03])"
      ]
     },
     "execution_count": 102,
     "metadata": {},
     "output_type": "execute_result"
    }
   ],
   "source": [
    "data.value"
   ]
  },
  {
   "cell_type": "markdown",
   "metadata": {
    "collapsed": true
   },
   "source": [
    "## Transform an BW LCA dict to HDF5 and retrieve\n",
    "\n",
    "For LCA objects: biosphere_dict, activity_dict, product_dict"
   ]
  },
  {
   "cell_type": "code",
   "execution_count": 31,
   "metadata": {
    "collapsed": true
   },
   "outputs": [],
   "source": [
    "def LCA_dict_to_hdf5(LCA_dict,hdf5_file_path,group_full_path):\n",
    "    \n",
    "    # Retrieve or create the hdf5 file and the groups and subgroups\n",
    "    hdf5_file=h5py.File(hdf5_file_path,'a')\n",
    "    group=hdf5_file.require_group(group_full_path)\n",
    "    \n",
    "    keys_list=[int(key) for key in LCA_dict.keys()]\n",
    "    items_list=[item for item in LCA_dict.values()]\n",
    "    \n",
    "    # Create datasets containing values of csr matrix\n",
    "    group.create_dataset('keys',data=keys_list)\n",
    "    group.create_dataset('values',data=items_list)\n",
    "\n",
    "\n",
    "    \n",
    "    hdf5_file.close()\n",
    "    \n",
    "    return;\n",
    "    \n",
    "# function to rebuild csr matrix from hdf5 storage\n",
    "\n",
    "def hdf5_to_LCA_dict(hdf5_file_path,group_full_path):\n",
    "    \n",
    "    # Access hdf5 file and storage group of the LCA_dict info\n",
    "    hdf5_file=h5py.File(hdf5_file_path,'r')\n",
    "    group=hdf5_file[group_full_path]\n",
    "    \n",
    "    #Rebuild LCA_dict\n",
    "    LCA_dict={}\n",
    "    \n",
    "    i=0\n",
    "    \n",
    "    for key in group['keys']:\n",
    "        LCA_dict[str(key)]=group['values'][i]\n",
    "        i=i+1\n",
    "    \n",
    "    return LCA_dict;"
   ]
  },
  {
   "cell_type": "code",
   "execution_count": 11,
   "metadata": {},
   "outputs": [],
   "source": [
    "test_dict={'2654': 122,'2667': 124534}"
   ]
  },
  {
   "cell_type": "code",
   "execution_count": 16,
   "metadata": {},
   "outputs": [
    {
     "data": {
      "text/plain": [
       "[122, 124534]"
      ]
     },
     "execution_count": 16,
     "metadata": {},
     "output_type": "execute_result"
    }
   ],
   "source": [
    "[key for key in test_dict.values()]"
   ]
  },
  {
   "cell_type": "code",
   "execution_count": 32,
   "metadata": {},
   "outputs": [],
   "source": [
    "LCA_dict=test_dict\n",
    "hdf5_file_path=path_for_saving+'\\\\LCA_dict_test.hdf5'\n",
    "group_full_path='/test_dict_1'\n",
    "\n",
    "LCA_dict_to_hdf5(LCA_dict,hdf5_file_path,group_full_path)"
   ]
  },
  {
   "cell_type": "code",
   "execution_count": 33,
   "metadata": {
    "collapsed": true
   },
   "outputs": [],
   "source": [
    "LCA_dict_test=hdf5_to_LCA_dict(hdf5_file_path,group_full_path)"
   ]
  },
  {
   "cell_type": "code",
   "execution_count": 34,
   "metadata": {},
   "outputs": [
    {
     "data": {
      "text/plain": [
       "{'2654': 122, '2667': 124534}"
      ]
     },
     "execution_count": 34,
     "metadata": {},
     "output_type": "execute_result"
    }
   ],
   "source": [
    "LCA_dict_test"
   ]
  },
  {
   "cell_type": "code",
   "execution_count": 35,
   "metadata": {},
   "outputs": [
    {
     "data": {
      "text/plain": [
       "True"
      ]
     },
     "execution_count": 35,
     "metadata": {},
     "output_type": "execute_result"
    }
   ],
   "source": [
    "test_dict == LCA_dict_test"
   ]
  },
  {
   "cell_type": "markdown",
   "metadata": {},
   "source": [
    "## Test if values are modify in hdf5 while accesing the file"
   ]
  },
  {
   "cell_type": "code",
   "execution_count": 70,
   "metadata": {
    "collapsed": true
   },
   "outputs": [],
   "source": [
    "#Opening the file\n",
    "hdf5_file_path=path_for_saving+'\\\\LCA_dict_test.hdf5'\n",
    "\n",
    "hdf5_file=h5py.File(hdf5_file_path,'a')"
   ]
  },
  {
   "cell_type": "code",
   "execution_count": 71,
   "metadata": {},
   "outputs": [
    {
     "data": {
      "text/plain": [
       "<HDF5 dataset \"values\": shape (2,), type \"<i4\">"
      ]
     },
     "execution_count": 71,
     "metadata": {},
     "output_type": "execute_result"
    }
   ],
   "source": [
    "#Access to dataset\n",
    "dataset=hdf5_file['/test_dict/values']\n",
    "dataset"
   ]
  },
  {
   "cell_type": "code",
   "execution_count": 72,
   "metadata": {},
   "outputs": [
    {
     "data": {
      "text/plain": [
       "array([ 2, 78])"
      ]
     },
     "execution_count": 72,
     "metadata": {},
     "output_type": "execute_result"
    }
   ],
   "source": [
    "# Retrieve the content of dataset\n",
    "values_of_dataset=dataset[()]\n",
    "values_of_dataset"
   ]
  },
  {
   "cell_type": "code",
   "execution_count": 73,
   "metadata": {},
   "outputs": [
    {
     "data": {
      "text/plain": [
       "([0, 1], [3, 87])"
      ]
     },
     "execution_count": 73,
     "metadata": {},
     "output_type": "execute_result"
    }
   ],
   "source": [
    "# Try to change the value of dataset\n",
    "dataset=[0,1]\n",
    "values_of_dataset=[3,87]\n",
    "dataset, values_of_dataset"
   ]
  },
  {
   "cell_type": "code",
   "execution_count": 74,
   "metadata": {},
   "outputs": [
    {
     "data": {
      "text/plain": [
       "<HDF5 dataset \"values\": shape (2,), type \"<i4\">"
      ]
     },
     "execution_count": 74,
     "metadata": {},
     "output_type": "execute_result"
    }
   ],
   "source": [
    "# test of the value of dataset has changed\n",
    "dataset_1=hdf5_file['/test_dict/values']\n",
    "dataset_1"
   ]
  },
  {
   "cell_type": "code",
   "execution_count": 75,
   "metadata": {},
   "outputs": [
    {
     "data": {
      "text/plain": [
       "array([ 2, 78])"
      ]
     },
     "execution_count": 75,
     "metadata": {},
     "output_type": "execute_result"
    }
   ],
   "source": [
    "# Retrieve the content of dataset\n",
    "values_of_dataset_1=dataset_1[()]\n",
    "values_of_dataset_1\n",
    "\n",
    "#--> no change in hdf5 data "
   ]
  },
  {
   "cell_type": "code",
   "execution_count": 76,
   "metadata": {},
   "outputs": [
    {
     "data": {
      "text/plain": [
       "<HDF5 dataset \"values\": shape (2,), type \"<i4\">"
      ]
     },
     "execution_count": 76,
     "metadata": {},
     "output_type": "execute_result"
    }
   ],
   "source": [
    "# Modify the value of hdf5 dataset\n",
    "dataset=hdf5_file['/test_dict/values']\n",
    "dataset[...]=[4675,498] #The way to modify the value of dataset\n",
    "dataset"
   ]
  },
  {
   "cell_type": "code",
   "execution_count": 77,
   "metadata": {},
   "outputs": [
    {
     "data": {
      "text/plain": [
       "array([4675,  498])"
      ]
     },
     "execution_count": 77,
     "metadata": {},
     "output_type": "execute_result"
    }
   ],
   "source": [
    "# Retrieve the content of dataset\n",
    "values_of_dataset=dataset[()]\n",
    "values_of_dataset"
   ]
  },
  {
   "cell_type": "code",
   "execution_count": 78,
   "metadata": {},
   "outputs": [
    {
     "data": {
      "text/plain": [
       "array([4675,  498])"
      ]
     },
     "execution_count": 78,
     "metadata": {},
     "output_type": "execute_result"
    }
   ],
   "source": [
    "#Access to dataset\n",
    "dataset=hdf5_file['/test_dict/values']\n",
    "dataset[()]"
   ]
  },
  {
   "cell_type": "code",
   "execution_count": null,
   "metadata": {
    "collapsed": true
   },
   "outputs": [],
   "source": []
  }
 ],
 "metadata": {
  "kernelspec": {
   "display_name": "Python 3",
   "language": "python",
   "name": "python3"
  },
  "language_info": {
   "codemirror_mode": {
    "name": "ipython",
    "version": 3
   },
   "file_extension": ".py",
   "mimetype": "text/x-python",
   "name": "python",
   "nbconvert_exporter": "python",
   "pygments_lexer": "ipython3",
   "version": "3.6.2"
  }
 },
 "nbformat": 4,
 "nbformat_minor": 2
}
